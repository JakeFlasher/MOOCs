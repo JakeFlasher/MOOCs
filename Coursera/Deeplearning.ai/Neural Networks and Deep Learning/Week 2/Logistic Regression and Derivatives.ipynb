{
 "cells": [
  {
   "cell_type": "markdown",
   "metadata": {},
   "source": [
    "## Logistic Regression\n",
    "\n",
    "Logistic Regression forward from input $x$ and true label $y$, where $w$ stands for the weight matrix, $b$ bias, $\\sigma$ is the activation function (sigmoid) and $\\mathcal{L}$ is the loss. \n",
    "\n",
    "$z = w^Tx + b$<br>\n",
    "$\\hat{y} = a = \\sigma(z)$<br>\n",
    "$\\mathcal{L}(a, y) = -[y\\ log(a) + (1 - y)\\ log(1 - a)]$"
   ]
  },
  {
   "cell_type": "markdown",
   "metadata": {},
   "source": [
    "## Logistic Regression Derivatives\n",
    "\n",
    "Calculate the Logistic Regression derivatives to only one example.\n",
    "\n",
    "### Forward: \n",
    "\n",
    "$x_1, w_1, x_2, w_2, b$<br>\n",
    "$z = w_1x_1 + w_2x_2 + b$<br>\n",
    "$a = \\sigma(z)$<br>\n",
    "$\\mathcal{L}(a,y)$\n",
    "\n",
    "### Backward:\n",
    "\n",
    "$da = \\frac{d\\mathcal{L}(a,y)}{da} = -\\frac{y}{a} + \\frac{1 - y}{1 - a}$<br>\n",
    "$dz = \\frac{d\\mathcal{L}}{dz} = \\frac{d\\mathcal{L}(a,y)}{dz} \\rightarrow\\ \\ \\ dz = \\frac{d\\mathcal{L}}{da} . \\frac{da}{dz} \\rightarrow\\ \\ \\ dz = \\left ( - \\frac{y}{a} + \\frac{1 - y}{1 - a} \\right ) . a (1 - a)  \\rightarrow\\ \\ \\ dz = a - y$<br>\n",
    "<br>\n",
    "$dw_1 = \\frac{d\\mathcal{L}}{dw_1} = x_1dz$<br>\n",
    "$dw_2 = \\frac{d\\mathcal{L}}{dw_2} = x_2dz$<br>\n",
    "$db = dz$\n",
    "\n",
    "### Updating weights\n",
    "\n",
    "$w_1 := w_1 - \\alpha dw_1$<br>\n",
    "$w_2 := w_2 - \\alpha dw_2$<br>\n",
    "$b := b - \\alpha db$"
   ]
  },
  {
   "cell_type": "markdown",
   "metadata": {},
   "source": [
    "## Logistic Regression on $m$ examples\n",
    "\n",
    "### Cost Function\n",
    "\n",
    "$\\begin{align}\n",
    "J(w,b) = \\frac{1}{m} \\sum_{i=1}^m \\mathcal{L}(a^{(i)}, y) \\hspace{35pt} & \\hspace{35pt} (x^{(i)}, y^{(i)}) \\\\\n",
    "a^{(i)} = \\hat{y}^{(i)} = \\sigma(z^{(i)}) = \\sigma(w^Tx^{(i)} + b) & \\hspace{35pt} dw_1^{(i)}, dw_2^{(i)}, db^{(i)}\n",
    "\\end{align}$\n",
    "\n",
    "$\n",
    "\\frac{d}{dw_1}J(w,b) =  \\frac{1}{m} \\sum_{i=1}^m \\frac{d}{dw_1}\\mathcal{L}(a^{(i)}, y^{(i)}) \\hspace{35pt} \\rightarrow \\hspace{35pt} \\frac{d}{dw_1}J(w,b) = \\frac{1}{m} \\sum_{i=1}^m \\frac{d}{dw_1^{(i)}}\n",
    "$"
   ]
  },
  {
   "cell_type": "markdown",
   "metadata": {},
   "source": [
    "### Calculating for $m$ examples and $n = 2$ features\n",
    "\n",
    "$\\text{For}\\ \\ i=1\\ \\ \\text{to}\\ \\ m$<br>\n",
    "$\\hspace{15pt}z^{(i)} = w^Tx^{(i)} + b$<br>\n",
    "$\\hspace{15pt}a^{(i)} = \\sigma(z^{(i)})$<br>\n",
    "$\\hspace{15pt}J\\ += - [y^{(i)}\\ log(a^{(i)}) + (1 - y^{(i)})\\ log(1 - a^{(i)})]$<br>\n",
    "$\\hspace{15pt}dz^{(i)} = a^{(i)} - y^{(i)}$<br>\n",
    "$\\hspace{15pt}dw_1 += x_1^{(i)}dz^{(i)}$<br>\n",
    "$\\hspace{15pt}dw_2 += x_2^{(i)}dz^{(i)}$<br>\n",
    "$\\hspace{15pt}db += dz^{(i)}$<br>\n",
    "$\\hspace{15pt}J\\ /=\\ m$<br>\n",
    "$\\hspace{15pt}dw_1\\ /=\\ m$<br>\n",
    "$\\hspace{15pt}dw_2\\ /=\\ m$<br>\n",
    "$\\hspace{15pt}db\\ /=\\ m$<br>\n",
    "$\\text{Fim for}$\n",
    "\n",
    "### Updating weights\n",
    "\n",
    "$w_1\\ := w_1 - \\alpha dw_1$<br>\n",
    "$w_2\\ := w_2 - \\alpha dw_2$<br>\n",
    "$b\\ := b - \\alpha db$"
   ]
  },
  {
   "cell_type": "code",
   "execution_count": null,
   "metadata": {
    "collapsed": true
   },
   "outputs": [],
   "source": []
  }
 ],
 "metadata": {
  "kernelspec": {
   "display_name": "Python 2",
   "language": "python",
   "name": "python2"
  },
  "language_info": {
   "codemirror_mode": {
    "name": "ipython",
    "version": 2
   },
   "file_extension": ".py",
   "mimetype": "text/x-python",
   "name": "python",
   "nbconvert_exporter": "python",
   "pygments_lexer": "ipython2",
   "version": "2.7.12"
  }
 },
 "nbformat": 4,
 "nbformat_minor": 1
}
