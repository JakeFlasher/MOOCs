{
 "cells": [
  {
   "cell_type": "markdown",
   "metadata": {},
   "source": [
    "# Vectorized vs. For Loop"
   ]
  },
  {
   "cell_type": "code",
   "execution_count": 44,
   "metadata": {},
   "outputs": [],
   "source": [
    "import numpy as np\n",
    "import time\n",
    "\n",
    "HOW_LONG_TO_RUN = 100\n",
    "\n",
    "a = np.random.rand(1000000)\n",
    "b = np.random.rand(1000000)"
   ]
  },
  {
   "cell_type": "code",
   "execution_count": 45,
   "metadata": {
    "collapsed": true
   },
   "outputs": [],
   "source": [
    "def vectorized(a, b, nb_times):\n",
    "    m = []\n",
    "    for i in xrange(nb_times):\n",
    "        tic = time.time()\n",
    "        c = np.dot(a, b)\n",
    "        toc = time.time()\n",
    "        #print(\"Vectorized version: \" + str(1000*(toc - tic)) + \" ms\")\n",
    "        m.append(1000*(toc - tic))\n",
    "\n",
    "    mean_m = (np.array(m).sum())/float(nb_times)\n",
    "    return mean_m, c"
   ]
  },
  {
   "cell_type": "code",
   "execution_count": 46,
   "metadata": {},
   "outputs": [
    {
     "name": "stdout",
     "output_type": "stream",
     "text": [
      "Mean of 100 runnings as vectorized version: 0.910415649414 ms\n",
      "Value: 250490.600103\n"
     ]
    }
   ],
   "source": [
    "mean_m, c = vectorized(a, b, HOW_LONG_TO_RUN)\n",
    "print(\"Mean of \"+ str(HOW_LONG_TO_RUN) +\" runnings as vectorized version: \"+ str(mean_m) +\" ms\")\n",
    "print(\"Value: \"+ str(c))"
   ]
  },
  {
   "cell_type": "code",
   "execution_count": 47,
   "metadata": {
    "collapsed": true
   },
   "outputs": [],
   "source": [
    "def for_loop_zip(a, b, nb_times):\n",
    "    m = []\n",
    "    c = 0\n",
    "    for i in xrange(nb_times):\n",
    "        tic = time.time()\n",
    "        for a_j, b_j in zip(a, b):\n",
    "            c += a_j * b_j\n",
    "        toc = time.time()\n",
    "        #print(\"Zip version: \" + str(1000*(toc - tic)) + \" ms\")\n",
    "        m.append(1000*(toc - tic))\n",
    "\n",
    "    mean_m = (np.array(m).sum())/float(nb_times)\n",
    "    return mean_m, c"
   ]
  },
  {
   "cell_type": "code",
   "execution_count": 48,
   "metadata": {},
   "outputs": [
    {
     "name": "stdout",
     "output_type": "stream",
     "text": [
      "Mean of 100 runnings as for loop version: 406.943519115 ms\n",
      "Value: 25049060.0103\n"
     ]
    }
   ],
   "source": [
    "mean_m, c = for_loop_zip(a, b, HOW_LONG_TO_RUN)\n",
    "print(\"Mean of \"+ str(HOW_LONG_TO_RUN) +\" runnings as for loop version: \"+ str(mean_m) +\" ms\")\n",
    "print(\"Value: \"+ str(c))"
   ]
  },
  {
   "cell_type": "code",
   "execution_count": 49,
   "metadata": {
    "collapsed": true
   },
   "outputs": [],
   "source": [
    "def for_loop(a, b, nb_times):\n",
    "    m = []\n",
    "    c = 0\n",
    "    for i in xrange(nb_times):\n",
    "        tic = time.time()\n",
    "        for j in range(len(a)):\n",
    "                c += a[j] * b[j]\n",
    "        toc = time.time()\n",
    "        #print(\"Loop version: \" + str(1000*(toc - tic)) + \" ms\")\n",
    "        m.append(1000*(toc - tic))\n",
    "\n",
    "    mean_m = (np.array(m).sum())/float(nb_times)\n",
    "    return mean_m, c"
   ]
  },
  {
   "cell_type": "code",
   "execution_count": 50,
   "metadata": {},
   "outputs": [
    {
     "name": "stdout",
     "output_type": "stream",
     "text": [
      "Mean of 100 runnings as for loop version: 349.924705029 ms\n",
      "Value: 25049060.0103\n"
     ]
    }
   ],
   "source": [
    "mean_m, c = for_loop(a, b, HOW_LONG_TO_RUN)\n",
    "print(\"Mean of \"+ str(HOW_LONG_TO_RUN) +\" runnings as for loop version: \"+ str(mean_m) +\" ms\")\n",
    "print(\"Value: \"+ str(c))"
   ]
  },
  {
   "cell_type": "code",
   "execution_count": null,
   "metadata": {
    "collapsed": true
   },
   "outputs": [],
   "source": []
  }
 ],
 "metadata": {
  "kernelspec": {
   "display_name": "Python 2",
   "language": "python",
   "name": "python2"
  },
  "language_info": {
   "codemirror_mode": {
    "name": "ipython",
    "version": 2
   },
   "file_extension": ".py",
   "mimetype": "text/x-python",
   "name": "python",
   "nbconvert_exporter": "python",
   "pygments_lexer": "ipython2",
   "version": "2.7.13"
  }
 },
 "nbformat": 4,
 "nbformat_minor": 2
}
