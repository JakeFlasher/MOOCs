{
 "cells": [
  {
   "cell_type": "markdown",
   "metadata": {},
   "source": [
    "# Neural Networks Overview\n",
    "\n",
    "From previous lessom, we implemented a logistic regression. In that model, we saw that we compute $z$ with features $x$ and parameters $w$ and $b$. $z$ is then used to computes $a$, which is used to predict $\\hat{y}$. Then you can compute the loss function $\\mathcal{L}$. \n",
    "\n",
    "<img src=\"https://cdn.rawgit.com/rogergranada/MOOCs/master/Coursera/Deeplearning.ai/Neural%20Networks%20and%20Deep%20Learning/Week%203/images/logistic_regression.svg\" width=\"40%\" align=\"center\"/>\n",
    "\n",
    "A neural network is similar to the logistic regression, but in addition it stacking together a lot of little sigmoid units. In the neural network, the stack of nodes performs the $z$ calculation, as well as, the $a$ calculation. Thus, a node corresponds to a $z$ score and another node to another $z$ score. As logistic regression, we have as inputs the features $x$ and some parameters $w$ and $b$. For each node that calculate the values of $z$ and $a$, we define an index or identifier (a superscript square bracket to refer to quantities associated with this stack of nodes, also called the layer). Thus, a value $W^{[1]}$ corresponds to the scores in nodes of the first layer, $W^{[2]}$ the scores of the second layer and so on. The image below illustrates the architecture of a neural network.\n",
    "\n",
    "<img src=\"https://cdn.rawgit.com/rogergranada/MOOCs/master/Coursera/Deeplearning.ai/Neural%20Networks%20and%20Deep%20Learning/Week%203/images/neural_network.svg\" width=\"40%\" align=\"center\"/>\n",
    "\n",
    "# Neural Network Representation\n",
    "\n",
    "To introduce neural networks, we start by showing the neural network with a single hidden layer, as illustred in the image below. \n",
    "\n",
    "<img src=\"https://cdn.rawgit.com/rogergranada/MOOCs/master/Coursera/Deeplearning.ai/Neural%20Networks%20and%20Deep%20Learning/Week%203/images/neural_network_explanation.svg\" width=\"40%\" align=\"center\"/>\n",
    "\n",
    "This network contains input features ($x_1, x_2, x_3$) stacked up vertically in the so called `input layer`. In our image, the input is an array $X$ containing three rows and one column. \n",
    "\n",
    "$$\n",
    "X = \\begin{bmatrix}\n",
    "x_1 \\\\\n",
    "x_2 \\\\\n",
    "x_3 \\\\\n",
    "\\end{bmatrix}\n",
    "$$\n",
    "\n",
    "For input, we use the vector $X$ to denote the input features, but an alternative notation for the values of the input features will be $a^{[0]}$. And the term `a` stands for activations and it refers to the values that different layers of the neural network are passing on to the subsequent layers. Thus, the input layer passes on the values of $X$ to the hidden layer, and the activations of the input layer will be called $a^{[0]}$.\n",
    "\n",
    "The next layer containing four nodes, is called the `hidden layer` of the neural network. It is called hidden layer because in the training set, the true values for these nodes in the middle are not observed. The input values and the output can be seen, but things in this layer are not seen in the training set. This layer will generate some set of activations, which will be called $a^{[1]}$. In particular, the first unit or the first node generates a value $a^{[1]}_1$, the second node generates a value $a^{[1]}_2$, and so on. This layer is a four dimension vector (4 column vector) since we have four nodes, or four units, or four hidden units in this hidden layer, as:\n",
    "\n",
    "$$\n",
    "a^{[1]} = \\begin{bmatrix}\n",
    "a^{[1]}_1 \\\\\n",
    "a^{[1]}_2 \\\\\n",
    "a^{[1]}_3 \\\\\n",
    "a^{[1]}_4 \\\\\n",
    "\\end{bmatrix}\n",
    "$$\n",
    "\n",
    "Finally, the last layer is a single-node layer called `output layer`. It is responsible for generating the predicted value $\\hat{y}$. In a neural network that you train with supervised learning, the training set contains values of the inputs $X$ as well as the target outputs $Y$. This value generates some value $a^{[2]}$, which is just a real number. Thus, $\\hat{y}$ takes on the value of $a^{[2]}$. \n",
    "\n",
    "This kind of neural network illustred in the image is called *two-layer neural network* and is called as two-layer because we count all layers in neural networks but the input layer. Hence, the hidden layer is layer one and the output layer is layer two. In our notational convention, the input layer is the layer zero, so technically, there are three layers in this neural network since there is the input layer, the hidden layer, and the output layer. \n",
    "\n",
    "Finally, the hidden layer and the output layers will have parameters associated with them. Each layer will have associated with it parameters $w$ and $b$. We write $w^{[1]}$ to indicate that these are parameters associated with layer one (the hidden layer). The weights matrix is a 4 by 3 matrix and b is 4 by 1 vector in this example, as:\n",
    "\n",
    "$$\n",
    "w^{[1]} = \\begin{bmatrix}\n",
    "w_{11} & w_{12} & w_{13} \\\\\n",
    "w_{21} & w_{22} & w_{23} \\\\\n",
    "w_{31} & w_{32} & w_{33} \\\\\n",
    "w_{41} & w_{42} & w_{43} \\\\\n",
    "\\end{bmatrix} \\ \\ \\ \\ \\ \\ b^{[1]} = \\begin{bmatrix}\n",
    "b_1 \\\\\n",
    "b_2 \\\\\n",
    "b_3 \\\\\n",
    "b_4 \\\\ \n",
    "\\end{bmatrix}\n",
    "$$\n",
    "\n",
    "Where the first dimension (4) comes from the fact that we have four nodes or four hidden units, and the second dimension (3) comes from the fact that we have three input features. On the other hand, our matrix of parameters $w^{[2]}$ and $b^{[2]}$ contain a 1 by 4 and 1 by 1 matrices respectively. The 1 by 4 comes from the fact that the hidden layer has four hidden units and the output layer has just one unit."
   ]
  },
  {
   "cell_type": "markdown",
   "metadata": {},
   "source": [
    "# Computing a Neural Network's Output\n",
    "\n",
    "Using the neural network presented above (2 layer neural network), we have to compute for each node the values of `z` and `a` (*e.g.*, $z^{[1]}_1$, $z^{[1]}_2$, $z^{[1]}_3$ and $z^{[1]}_4$). Considering the first node of layer one, we can compute the value of $z^{[1]}_1$ as:\n",
    "\n",
    "$$\n",
    "z^{[1]}_1 = w^{[1]T}_1 x + b^{[1]}_1 \\\\\n",
    "a^{[1]}_1 = \\sigma(z^{[1]}_1)\n",
    "$$\n",
    "\n",
    "Extending the computation for all nodes of the hidden layer, we have:\n",
    "\n",
    "$$\n",
    "z^{[1]}_1 = w^{[1]T}_1 x + b^{[1]}_1,\\ \\ \\ \\ a^{[1]}_1 = \\sigma(z^{[1]}_1) \\\\\n",
    "z^{[1]}_2 = w^{[1]T}_2 x + b^{[1]}_2,\\ \\ \\ \\ a^{[1]}_2 = \\sigma(z^{[1]}_2) \\\\\n",
    "z^{[1]}_3 = w^{[1]T}_3 x + b^{[1]}_3,\\ \\ \\ \\ a^{[1]}_3 = \\sigma(z^{[1]}_3) \\\\\n",
    "z^{[1]}_4 = w^{[1]T}_4 x + b^{[1]}_4,\\ \\ \\ \\ a^{[1]}_4 = \\sigma(z^{[1]}_4) \\\\\n",
    "$$\n",
    "\n",
    "As computing them separately would be very inefficient, we can compute them using a vectorized version as:\n",
    "\n",
    "$$\n",
    "Z^{[1]} = W^{[1]T} X + b^{[1]} \\\\\n",
    "\\begin{bmatrix}\n",
    "z^{[1]}_1 \\\\\n",
    "z^{[1]}_2 \\\\\n",
    "z^{[1]}_3 \\\\\n",
    "z^{[1]}_4 \\\\\n",
    "\\end{bmatrix} = \\begin{bmatrix}\n",
    "- w^{[1]T}_1 - \\\\\n",
    "- w^{[1]T}_2 - \\\\\n",
    "- w^{[1]T}_3 - \\\\\n",
    "- w^{[1]T}_4 - \\\\\n",
    "\\end{bmatrix} \\begin{bmatrix}\n",
    "x_1 \\\\\n",
    "x_2 \\\\\n",
    "x_3 \\\\\n",
    "\\end{bmatrix} + \\begin{bmatrix}\n",
    "b^{[1]}_1 \\\\\n",
    "b^{[1]}_2 \\\\\n",
    "b^{[1]}_3 \\\\\n",
    "b^{[1]}_4 \\\\\n",
    "\\end{bmatrix} = \\begin{bmatrix}\n",
    "w^{[1]T}_1 x + b^{[1]}_1 \\\\\n",
    "w^{[1]T}_2 x + b^{[1]}_2 \\\\\n",
    "w^{[1]T}_3 x + b^{[1]}_3 \\\\\n",
    "w^{[1]T}_4 x + b^{[1]}_4 \\\\\n",
    "\\end{bmatrix}\n",
    "$$\n",
    "\n",
    "And then, we compute $a^{[1]}$ as:\n",
    "\n",
    "$$\n",
    "a^{[1]} = \\sigma(z^{[1]}) \\\\\n",
    "$$\n",
    "\n",
    "$$\n",
    "\\begin{bmatrix}\n",
    "a^{[1]}_1 \\\\\n",
    "a^{[1]}_2 \\\\\n",
    "a^{[1]}_3 \\\\\n",
    "a^{[1]}_4 \\\\\n",
    "\\end{bmatrix} = \\sigma \\left ( \\begin{bmatrix}\n",
    "z^{[1]}_1 \\\\\n",
    "z^{[1]}_2 \\\\\n",
    "z^{[1]}_3 \\\\\n",
    "z^{[1]}_4 \\\\\n",
    "\\end{bmatrix} \\right )\n",
    "$$\n",
    "\n",
    "Expanding the computation for all layers of our network, we have the computation and the dimensions as:\n",
    "\n",
    "$$\n",
    "\\begin{matrix}\n",
    "z^{[1]} = W^{[1]}x + b^{[1]} & (4,1) = (4,3)(3,1) + (4,1) \\\\\n",
    "a^{[1]} = \\sigma(z^{[1]})    & (4,1) = (4,1) \\\\\n",
    "z^{[2]} = W^{[2]}a^{[1]} + b^{[2]} & (1,1) = (1,4)(4,1) + (1,1) \\\\\n",
    "a^{[2]} = \\hat{y} = \\sigma(z^{[2]})    & (1,1) = (1,1) \\\\\n",
    "\\end{matrix}\n",
    "$$\n",
    "\n",
    "An example in Python of this example is presented below."
   ]
  },
  {
   "cell_type": "code",
   "execution_count": 6,
   "metadata": {},
   "outputs": [
    {
     "name": "stdout",
     "output_type": "stream",
     "text": [
      "Prediction: [[0.32177144]]\n"
     ]
    }
   ],
   "source": [
    "import numpy as np\n",
    "\n",
    "def sigmoid(z):\n",
    "    return 1./(1. + np.exp(-1.*z))\n",
    "\n",
    "# Input (3, 1) matrix\n",
    "X = np.array([\n",
    "    [0.1],\n",
    "    [0.2],\n",
    "    [0.3]\n",
    "])\n",
    "\n",
    "# Initialize matrices\n",
    "W1 = np.random.randn(3,4)\n",
    "W2 = np.random.randn(4,1)\n",
    "b1 = np.ones((4, 1))\n",
    "b2 = np.ones((1, 1))\n",
    "\n",
    "# Compute scores\n",
    "Z1 = np.dot(W1.T, X) + b1\n",
    "a1 = sigmoid(Z1)\n",
    "Z2 = np.dot(W2.T, a1) + b2\n",
    "a2 = sigmoid(Z2)\n",
    "yhat = a2\n",
    "print('Prediction: {}'.format(yhat))"
   ]
  },
  {
   "cell_type": "markdown",
   "metadata": {},
   "source": [
    "# Vectorizing Across Multiple Examples\n",
    "\n",
    "In the previous example, we can compute the prediction $\\hat{y}$ for a single example. Here, we identify an example as a number superscript between parenthesis. Thus, $x^{(1)}$ is the first example, $x^{(2)}$ is the second example, and so on up to $x^{(m)}$ the $m$ example. Each example, generates a $a^{[2](i)}$, where $i$ is the example. Thus, we have:\n",
    "\n",
    "$\n",
    "x^{(1)} \\ \\ \\ \\ \\rightarrow \\ \\ \\ \\ a^{[2](1)} = \\hat{y}^{(1)} \\\\\n",
    "x^{(2)} \\ \\ \\ \\ \\rightarrow \\ \\ \\ \\ a^{[2](2)} = \\hat{y}^{(2)} \\\\\n",
    "x^{(3)} \\ \\ \\ \\ \\rightarrow \\ \\ \\ \\ a^{[2](3)} = \\hat{y}^{(3)} \\\\\n",
    "\\ldots \\\\\n",
    "x^{(m)} \\ \\ \\ \\ \\rightarrow \\ \\ \\ \\ a^{[2](m)} = \\hat{y}^{(m)} \\\\\n",
    "$\n",
    "\n",
    "\n",
    "In a non-vectorized version, this would lead to the following algorithm:\n",
    "\n",
    "```python\n",
    "for i in range(m):\n",
    "    z1[i] = np.dot(W1.T, x[i]) + b1\n",
    "    a1[i] = sigmoid(z1[i])\n",
    "    z2[i] = np.dot(W2.T, a1[i]) + b2\n",
    "    a2[i] = sigmoid(z2[i])\n",
    "    yhat[i] = a2[i]\n",
    "```\n",
    "\n",
    "In order to vectorize this implementation, we have to consider the matrix $X$ as:\n",
    "\n",
    "$$\n",
    "X = \\begin{bmatrix}\n",
    "   |    &    |    &        &    |    \\\\\n",
    "x^{(1)} & x^{(2)} & \\ldots & x^{(m)} \\\\\n",
    "   |    &    |    &        &    |    \\\\ \n",
    "\\end{bmatrix}\n",
    "$$\n",
    "\n",
    "Hence, we can calculate the other matrices as:\n",
    "\n",
    "$$\n",
    "Z^{[1]} = W^{[1]}X + b^{[1]} \\\\\n",
    "A^{[1]} = \\sigma(Z^{[1]}) \\\\\n",
    "Z^{[2]} = W^{[2]}A^{[1]} + b^{[2]} \\\\\n",
    "A^{[2]} = \\sigma(Z^{[2]}) \\\\\n",
    "\\hat{Y} = A^{[2]}\n",
    "$$\n",
    "\n",
    "If we calculate like that, we generate matrices as:\n",
    "\n",
    "$$\n",
    "Z^{[1]} = \\begin{bmatrix}\n",
    "   |    &    |    &        &    |    \\\\\n",
    "z^{[1](1)} & z^{[1](2)} & \\ldots & z^{[1](m)} \\\\\n",
    "   |    &    |    &        &    |    \\\\ \n",
    "\\end{bmatrix} \\ \\ \\ \\ \\ \\\n",
    "A^{[1]} = \\begin{bmatrix}\n",
    "   |    &    |    &        &    |    \\\\\n",
    "a^{[1](1)} & a^{[1](2)} & \\ldots & a^{[1](m)} \\\\\n",
    "   |    &    |    &        &    |    \\\\ \n",
    "\\end{bmatrix} \\\\\n",
    "\\\\\n",
    "Z^{[2]} = \\begin{bmatrix}\n",
    "   |    &    |    &        &    |    \\\\\n",
    "z^{[2](1)} & z^{[2](2)} & \\ldots & z^{[2](m)} \\\\\n",
    "   |    &    |    &        &    |    \\\\ \n",
    "\\end{bmatrix} \\ \\ \\ \\ \\ \\\n",
    "A^{[2]} = \\begin{bmatrix}\n",
    "   |    &    |    &        &    |    \\\\\n",
    "a^{[2](1)} & a^{[2](2)} & \\ldots & a^{[2](m)} \\\\\n",
    "   |    &    |    &        &    |    \\\\ \n",
    "\\end{bmatrix} \\\\\n",
    "$$\n",
    "\n",
    "In this configuration, we have the rows representing the activation for each example of the training set, and columns representing the activation for each neuron of the layer. Thus, the first element of the matrix $Z^{[1]}$ represents the activation of the first neuron in the first layer of the first example of the training set. In case of the element of the first row, second column, we have the activation of the first neuron in the first layer of the second example of the training set, and so on."
   ]
  },
  {
   "cell_type": "markdown",
   "metadata": {},
   "source": [
    "# Activation Functions\n",
    "\n",
    "Using the previous examples, we can calculate the forward propagation of a neural network as:\n",
    "\n",
    "$$\n",
    "Z^{[1]} = W^{[1]T}X + b^{[1]} \\\\\n",
    "A^{[1]} = \\sigma(Z^{[1]}) \\\\\n",
    "Z^{[2]} = W^{[2]T}A^{[1]} + b^{[2]} \\\\\n",
    "A^{[2]} = \\sigma(Z^{[2]}) \\\\\n",
    "\\hat{Y} = A^{[2]}\n",
    "$$\n",
    "\n",
    "Where `sigmoid` ($\\sigma$) is the activation function. Sigmoid is calculated as:\n",
    "\n",
    "$$\n",
    "\\sigma(z) = \\frac{1}{1 + e^{-z}}\n",
    "$$\n",
    "\n",
    "This fuction generates values as the plot below."
   ]
  },
  {
   "cell_type": "code",
   "execution_count": 12,
   "metadata": {},
   "outputs": [
    {
     "data": {
      "image/png": "[encoded data removed]",
      "text/plain": [
       "<Figure size 1080x288 with 1 Axes>"
      ]
     },
     "metadata": {
      "needs_background": "light"
     },
     "output_type": "display_data"
    }
   ],
   "source": [
    "%matplotlib inline\n",
    "import numpy as np\n",
    "from matplotlib import pyplot as plt\n",
    "plt.figure(figsize=(15,4))\n",
    "\n",
    "def sigmoid(z):\n",
    "    return 1./(1. + np.exp(-1.*z))\n",
    "\n",
    "x = np.arange(-10, 10, 0.3)\n",
    "y = sigmoid(x)\n",
    "\n",
    "plt.plot(x, y)\n",
    "plt.show()"
   ]
  },
  {
   "cell_type": "markdown",
   "metadata": {},
   "source": [
    "Instead of using sigmoid as activation function, we can replace it by a generic function in our calculations as:\n",
    "\n",
    "$$\n",
    "Z^{[1]} = W^{[1]T}X + b^{[1]} \\\\\n",
    "A^{[1]} = g(Z^{[1]}) \\\\\n",
    "Z^{[2]} = W^{[2]T}A^{[1]} + b^{[2]} \\\\\n",
    "A^{[2]} = g(Z^{[2]}) \\\\\n",
    "\\hat{Y} = A^{[2]}\n",
    "$$\n",
    "\n",
    "Where `g` is our activation function and can be replace for any non-linear function. For example, we can use the `tanh(z)` function, which is expressed by the formula:\n",
    "\n",
    "$$\n",
    "tanh(z) = \\frac{e^z - e^{-z}}{e^z + e^{-z}}\n",
    "$$\n",
    "\n",
    "This fuction generates values as the plot below."
   ]
  },
  {
   "cell_type": "code",
   "execution_count": 13,
   "metadata": {},
   "outputs": [
    {
     "data": {
      "image/png": "[encoded data removed]",
      "text/plain": [
       "<Figure size 1080x288 with 1 Axes>"
      ]
     },
     "metadata": {
      "needs_background": "light"
     },
     "output_type": "display_data"
    }
   ],
   "source": [
    "plt.figure(figsize=(15,4))\n",
    "\n",
    "def tanh(z):\n",
    "    # could also be used as np.tanh(z)\n",
    "    return (np.exp(z) - np.exp(-z))/(np.exp(z) + np.exp(-z))\n",
    "\n",
    "x = np.arange(-10, 10, 0.3)\n",
    "y = tanh(x)\n",
    "\n",
    "plt.plot(x, y)\n",
    "plt.show()"
   ]
  },
  {
   "cell_type": "markdown",
   "metadata": {},
   "source": [
    "In fact, it turns out that the `tanh` function works better in hidden layers than the `sigmoid` function. The only exception is the output layer, since values in `tanh` range between -1 and 1, while in `sigmoid` function they range from 0 to 1, serving as a probability.\n",
    "\n",
    "One of the downsides of both the `sigmoid` function and the `tanh` function is that if $z$ is either very large or very small, then the gradient, or the derivative, or the slope of this function becomes very small (being close to 0), which can slow down gradient descent. One option to solve this problem is called REctified Linear Unit (ReLU). This function converts values lower than zero to zero and keeps the values above zero as they are. Its equation is represented as:\n",
    "\n",
    "$$\n",
    "ReLU(z) = max(0, z)\n",
    "$$\n",
    "\n",
    "The output of this function is illustred in the plot below."
   ]
  },
  {
   "cell_type": "code",
   "execution_count": 16,
   "metadata": {},
   "outputs": [
    {
     "data": {
      "image/png": "[encoded data removed]",
      "text/plain": [
       "<Figure size 1080x288 with 1 Axes>"
      ]
     },
     "metadata": {
      "needs_background": "light"
     },
     "output_type": "display_data"
    }
   ],
   "source": [
    "plt.figure(figsize=(15,4))\n",
    "\n",
    "def relu(z):\n",
    "    # could also be used as np.tanh(z)\n",
    "    return np.maximum(0,z)\n",
    "\n",
    "x = np.arange(-10, 10, 0.3)\n",
    "y = relu(x)\n",
    "\n",
    "plt.plot(x, y)\n",
    "plt.show()"
   ]
  },
  {
   "cell_type": "markdown",
   "metadata": {},
   "source": [
    "In this case, the derivative is 1 for a value of $z$ positive, and 0 when $z$ is negative. In the border (*i.e.*, when $z=0$, the derivative is equal to 0. \n",
    "\n",
    "**Rules of thumb**:\n",
    "- If your output is 0 or 1 value (*i.e.*, a binary classification), then the `sigmoid` activation function is a very natural choice for the output layer. \n",
    "- For all other units use the `ReLU`.\n",
    "\n",
    "An option to the `ReLU` function is the `Leaky ReLU` function, which adds a modification in the negative side of `ReLU`. Instead of clipping values at zero, it considers the value of $z$ to generate the output. It can be calculated as:\n",
    "\n",
    "$$\n",
    "\\text{Leaky_ReLU}(z) = max(0.01*z, z)\n",
    "$$\n",
    "\n",
    "The output of `Leaky ReLU` is illustred below."
   ]
  },
  {
   "cell_type": "code",
   "execution_count": 19,
   "metadata": {},
   "outputs": [
    {
     "data": {
      "image/png": "[encoded data removed]",
      "text/plain": [
       "<Figure size 1080x288 with 1 Axes>"
      ]
     },
     "metadata": {
      "needs_background": "light"
     },
     "output_type": "display_data"
    }
   ],
   "source": [
    "plt.figure(figsize=(15,4))\n",
    "\n",
    "def leaky_relu(z):\n",
    "    return np.maximum(0.01*z, z)\n",
    "\n",
    "x = np.arange(-10, 10, 0.3)\n",
    "y = leaky_relu(x)\n",
    "\n",
    "plt.plot(x, y)\n",
    "plt.show()"
   ]
  },
  {
   "cell_type": "markdown",
   "metadata": {},
   "source": [
    "# Derivatives of Activation Functions\n",
    "\n",
    "When implementing back propagation for your neural network, you need to compute the slope or the derivative of the activation functions. Here, we will analyse some of these derivatives.\n",
    "\n",
    "### Derivative of Sigmoid Function\n",
    "\n",
    "Consider the Sigmoid activation function, which is calculated by the equation:\n",
    "\n",
    "$$\n",
    "g(z) = \\frac{1}{1 + e^{-z}}\n",
    "$$\n",
    "\n",
    "For each part of this function, we can calculate the slope or the derivative corresponding to. If `g(z)` is the sigmoid function, then the slope of the function is:\n",
    "\n",
    "$$\n",
    "\\frac{d}{dz}g(z) \\ \\ \\ \\ \\rightarrow \\ \\ \\ \\ \\text{slope of g(z) at point z}\n",
    "$$\n",
    "\n",
    "Calculating the derivative of the sigmoid function, we have:\n",
    "\n",
    "$$\n",
    "\\frac{d}{dz}g(z) = \\frac{1}{1+e^{-z}} \\left ( 1 - \\frac{1}{1+e^{-z}} \\right ) = g(z) (1 - g(z))\n",
    "$$\n",
    "\n",
    "We can implement this function in Python and perform a sanity check."
   ]
  },
  {
   "cell_type": "code",
   "execution_count": 3,
   "metadata": {},
   "outputs": [
    {
     "data": {
      "image/png": "[encoded data removed]",
      "text/plain": [
       "<Figure size 1080x288 with 1 Axes>"
      ]
     },
     "metadata": {
      "needs_background": "light"
     },
     "output_type": "display_data"
    }
   ],
   "source": [
    "%matplotlib inline\n",
    "import numpy as np\n",
    "from matplotlib import pyplot as plt\n",
    "plt.figure(figsize=(15,4))\n",
    "\n",
    "def sigmoid(z):\n",
    "    return 1./(1. + np.exp(-1.*z))\n",
    "\n",
    "def derivative_sigmoid(z):\n",
    "    return sigmoid(z)*(1 - sigmoid(z))\n",
    "\n",
    "x = np.arange(-10, 10, 0.3)\n",
    "ys = sigmoid(x)\n",
    "yd = derivative_sigmoid(x)\n",
    "\n",
    "plt.plot(x, ys, label='Sigmoid')\n",
    "plt.plot(x, yd, label='Derivative Sigmoid')\n",
    "plt.legend()\n",
    "plt.show()"
   ]
  },
  {
   "cell_type": "markdown",
   "metadata": {},
   "source": [
    "As we can see, when the value of $z$ is very small (*e.g.*, -10), the slope of the sigmoid is equal to zero. As we increase the value of $z$, the slope increases too up to $z=0$ when it achieves the highest slope. After $z=0$ the slope of the function starts to decrease again. When the value of $z$ is very high (*e.g.*, 10), the slope of the sigmoid is again equal to zero.\n",
    "\n",
    "In neural networks is common to see that $\\frac{d}{dz}g(z) = g'(z)$. As $g(z) = a$, *i.e.*, $g(z)$ is the activation of the function, it is common to see $g'(z)$ as:\n",
    "\n",
    "$$\n",
    "g'(z) = a(1-a)\n",
    "$$\n",
    "\n",
    "### Derivative of Tanh Function\n",
    "\n",
    "Consider the Tanh activation function, which is calculated by the equation:\n",
    "\n",
    "$$\n",
    "g(z) = \\frac{e^{z} - e^{-z}}{e^{z} + e^{-z}}\n",
    "$$\n",
    "\n",
    "For each part of this function, we can calculate the slope or the derivative corresponding to. If `g(z)` is the Tanh function, then the slope of the function is:\n",
    "\n",
    "$$\n",
    "\\frac{d}{dz}g(z) \\ \\ \\ \\ \\rightarrow \\ \\ \\ \\ \\text{slope of g(z) at point z}\n",
    "$$\n",
    "\n",
    "Calculating the derivative of the Tanh function, we have:\n",
    "\n",
    "$$\n",
    "\\frac{d}{dz}g(z) = 1 - \\left ( \\frac{e^{z} - e^{-z}}{e^{z} + e^{-z}} \\right )^2 = 1 - tanh(z)^2\n",
    "$$\n",
    "\n",
    "We can implement this function in Python and perform a sanity check."
   ]
  },
  {
   "cell_type": "code",
   "execution_count": 4,
   "metadata": {},
   "outputs": [
    {
     "data": {
      "image/png": "[encoded data removed]",
      "text/plain": [
       "<Figure size 1080x288 with 1 Axes>"
      ]
     },
     "metadata": {
      "needs_background": "light"
     },
     "output_type": "display_data"
    }
   ],
   "source": [
    "plt.figure(figsize=(15,4))\n",
    "\n",
    "def tanh(z):\n",
    "    return (np.exp(z) - np.exp(-z))/(np.exp(z) + np.exp(-z))\n",
    "\n",
    "def derivative_tanh(z):\n",
    "    return 1 - tanh(z)**2\n",
    "\n",
    "x = np.arange(-10, 10, 0.3)\n",
    "yt = tanh(x)\n",
    "yd = derivative_tanh(x)\n",
    "\n",
    "plt.plot(x, yt, label='Tanh')\n",
    "plt.plot(x, yd, label='Derivative Tanh')\n",
    "plt.legend()\n",
    "plt.show()"
   ]
  },
  {
   "cell_type": "markdown",
   "metadata": {},
   "source": [
    "As in Sigmoid function, when the value of $z$ is small (*e.g.*, -10), the slope is equal to zero. The maximum slope is achieved when $z=0$ and with high values of $z$, the slope is equal to zero again. As in sigmoid, it is common to see the derivative of Tanh function written in terms of $a$ as:\n",
    "\n",
    "$$\n",
    "g'(z) = 1 - a^2\n",
    "$$\n",
    "\n",
    "### Derivative of ReLU Function\n",
    "\n",
    "Consider the ReLU activation function, which is calculated by the equation:\n",
    "\n",
    "$$\n",
    "g(z) = max(0, z)\n",
    "$$\n",
    "\n",
    "For each part of this function, we can calculate the slope or the derivative corresponding to. If `g(z)` is the ReLU function, then the slope of the function is:\n",
    "\n",
    "$$\n",
    "\\frac{d}{dz}g(z) \\ \\ \\ \\ \\rightarrow \\ \\ \\ \\ \\text{slope of g(z) at point z}\n",
    "$$\n",
    "\n",
    "Calculating the derivative of the ReLU function, we have:\n",
    "\n",
    "$$\n",
    "\\frac{d}{dz}g(z) = \\left\\{\\begin{matrix}\n",
    "0 & \\text{if}\\ \\ z<0\\\\ \n",
    "1 & \\text{if}\\ \\ z\\geqslant 0\n",
    "\\end{matrix}\\right.\n",
    "$$\n",
    "\n",
    "We can implement this function in Python and perform a sanity check."
   ]
  },
  {
   "cell_type": "code",
   "execution_count": 9,
   "metadata": {},
   "outputs": [
    {
     "data": {
      "image/png": "[encoded data removed]",
      "text/plain": [
       "<Figure size 1080x288 with 1 Axes>"
      ]
     },
     "metadata": {
      "needs_background": "light"
     },
     "output_type": "display_data"
    }
   ],
   "source": [
    "plt.figure(figsize=(15,4))\n",
    "\n",
    "def relu(z):\n",
    "    return np.maximum(0, z)\n",
    "\n",
    "def derivative_relu(z):\n",
    "    return np.where(z <= 0, 0, 1)\n",
    "\n",
    "x = np.arange(-10, 10, 0.3)\n",
    "yt = relu(x)\n",
    "yd = derivative_relu(x)\n",
    "\n",
    "plt.plot(x, yt, label='ReLU')\n",
    "plt.plot(x, yd, label='Derivative ReLU')\n",
    "plt.legend()\n",
    "plt.show()"
   ]
  },
  {
   "cell_type": "markdown",
   "metadata": {},
   "source": [
    "### Derivative of Leaky ReLU Function\n",
    "\n",
    "Consider the Leaky ReLU activation function, which is calculated by the equation:\n",
    "\n",
    "$$\n",
    "g(z) = max(0.01z, z)\n",
    "$$\n",
    "\n",
    "For each part of this function, we can calculate the slope or the derivative corresponding to. If `g(z)` is the Leaky ReLU function, then the slope of the function is:\n",
    "\n",
    "$$\n",
    "\\frac{d}{dz}g(z) \\ \\ \\ \\ \\rightarrow \\ \\ \\ \\ \\text{slope of g(z) at point z}\n",
    "$$\n",
    "\n",
    "Calculating the derivative of the Leaky ReLU function, we have:\n",
    "\n",
    "$$\n",
    "\\frac{d}{dz}g(z) = \\left\\{\\begin{matrix}\n",
    "0.01 & \\text{if}\\ \\ z<0\\\\ \n",
    "1 & \\text{if}\\ \\ z\\geqslant 0\n",
    "\\end{matrix}\\right.\n",
    "$$\n",
    "\n",
    "We can implement this function in Python and perform a sanity check."
   ]
  },
  {
   "cell_type": "code",
   "execution_count": 13,
   "metadata": {},
   "outputs": [
    {
     "data": {
      "image/png": "[encoded data removed]",
      "text/plain": [
       "<Figure size 1080x288 with 1 Axes>"
      ]
     },
     "metadata": {
      "needs_background": "light"
     },
     "output_type": "display_data"
    }
   ],
   "source": [
    "plt.figure(figsize=(15,4))\n",
    "\n",
    "def leaky_relu(z):\n",
    "    return np.maximum(0.01*z, z)\n",
    "\n",
    "def derivative_leaky_relu(z):\n",
    "    return np.where(z <= 0, 0.01, 1)\n",
    "\n",
    "x = np.arange(-10, 10, 0.3)\n",
    "yt = leaky_relu(x)\n",
    "yd = derivative_leaky_relu(x)\n",
    "\n",
    "plt.plot(x, yt, label='Leaky ReLU')\n",
    "plt.plot(x, yd, label='Derivative Leaky ReLU')\n",
    "plt.legend()\n",
    "plt.show()"
   ]
  },
  {
   "cell_type": "markdown",
   "metadata": {},
   "source": [
    "# Gradient descent for Neural Networks\n",
    "\n",
    "Remember that for the example below, we have the following configuration:\n",
    "\n",
    "- Parameters: $W^{[1]}$, $b^{[1]}$, $W^{[2]}$, $b^{[2]}$\n",
    "- Cost function: $J(W^{[1]}, b^{[1]}, W^{[2]}, b^{[2]}) = \\frac{1}{m} \\sum_{i=1}^n \\mathcal{L}(\\hat{y}, y)$\n",
    "\n",
    "Hence, our gradient descent will compute:\n",
    "\n",
    "$\n",
    "\\begin{matrix}\n",
    "\\text{Repeat \\{} & & \\\\\n",
    "    & \\text{Compute predictions:} & (\\hat{Y}^{(i)}, i=1, 2, 3, ... m) \\\\\n",
    "    & \\text{Compute derivatives:} & \\left (dW^{[1]} = \\frac{dJ}{dW^{[1]}},\\ \\ db^{[1]} = \\frac{dJ}{db^{[1]}},\\ \\ dW^{[2]} = \\frac{dJ}{dW^{[2]}},\\ \\ db^{[2]} = \\frac{dJ}{db^{[2]}} \\right ) \\\\\n",
    "    & \\text{Update weights:}      & W^{[1]} = W^{[1]} - \\alpha dW^{[1]}, \\\\\n",
    "    &                             & b^{[1]} = b^{[1]} - \\alpha db^{[1]}, \\\\\n",
    "    &                             & W^{[2]} = W^{[2]} - \\alpha dW^{[2]}, \\\\\n",
    "    &                             & b^{[2]} = b^{[2]} - \\alpha db^{[2]} \\\\\n",
    "\\text{\\}} & & \\\\\n",
    "\\end{matrix}\n",
    "$\n",
    "\n",
    "Recall that for computing forward and backpropagation, we have the following equations:\n",
    "\n",
    "**Forward Propagation:**\n",
    "\n",
    "$\n",
    "Z^{[1]} = W^{[1]T}X + b^{[1]} \\\\\n",
    "A^{[1]} = g^{[1]}(Z^{[1]}) \\\\\n",
    "Z^{[2]} = W^{[2]T}A^{[1]} + b^{[2]} \\\\\n",
    "A^{[2]} = g^{[2]}(Z^{[2]}) \\\\\n",
    "$\n",
    "\n",
    "**Backward Propagation:**\n",
    "\n",
    "$\n",
    "dZ^{[2]} = A^{[2]} - Y \\\\\n",
    "dW^{[2]} = \\frac{1}{m} dZ^{[2]}A^{[1]T} \\\\\n",
    "db^{[2]} = \\frac{1}{m} np.sum(dZ^{[2]}, \\text{axis}=1, \\text{keepdims=True}) \\\\\n",
    "dZ^{[1]} = W^{[2]T}dZ^{[2]} * g^{[1]}(Z^{[1]}) \\\\\n",
    "dW^{[1]} = \\frac{1}{m} dZ^{[1]}X^T \\\\\n",
    "db^{[1]} = \\frac{1}{m} np.sum(dZ^{[1]}, \\text{axis}=1, \\text{keepdims=True}) \\\\\n",
    "$\n",
    "\n",
    "For understanding the backpropagation, let's consider the Logistic Regression below:\n",
    "\n",
    "<img src=\"images/logistic_regression_graph.svg\" width=\"70%\" align=\"center\" />\n",
    "\n",
    "where the loss function is expressed as:\n",
    "\n",
    "$$\n",
    "\\mathcal{L}(a, y) = -y \\log a - (1 - y) \\log (1 - a)\n",
    "$$\n",
    "\n",
    "For computing the backpropagation of this logistic regression, we first compute the derivative of the loss function $da$ as:\n",
    "\n",
    "$$\n",
    "da = \\frac{d}{da}\\mathcal{L}(a,y) = -\\frac{y}{a} + \\frac{1-y}{1-a}\n",
    "$$\n",
    "\n",
    "Having $da$, we compute $dz$ as:\n",
    "\n",
    "$\n",
    "dz = \\frac{\\partial \\mathcal{L}}{\\partial z} = \\frac{\\partial \\mathcal{L}}{\\partial a}.\\frac{da}{dz} \\\\\n",
    "\\frac{d}{dz}g(z) = g'(z) \\\\\n",
    "dz = da * g'(z) \\ \\ \\ \\ \\rightarrow \\ \\ \\ \\ g(z) = \\sigma(z) \\\\\n",
    "dz = a - y \\\\\n",
    "$\n",
    "\n",
    "Finally, we compute $dw$ and $db$ as:\n",
    "\n",
    "$$\n",
    "dw = dz x \\\\\n",
    "db = dz\n",
    "$$\n",
    "\n",
    "For computing backpropagation for our neural network of the example, we have to perform the same computation but this time, twice (one for the hidden layer and one for the output layer. Thus, consider our neural network with the graph represented in the image below:\n",
    "\n",
    "<img src=\"images/neural_network_graph.svg\" width=\"100%\" align=\"center\" />\n",
    "\n",
    "Based on the backpropagation of the logistic regression, we can calculate the values of $dz^{[2]}$, $dW^{[2]}$ and $db^{[2]}$ as:\n",
    "\n",
    "$\n",
    "dz^{[2]} = a^{[2]} - y \\\\\n",
    "dW^{[2]} = dz^{[2]}.a^{[1]T} \\\\\n",
    "db^{[2]} = dz^{[2]}\n",
    "$\n",
    "\n",
    "Now, we can compute the values of $dZ^{[1]}$, $dW^{[1]}$, and $db^{[1]}$ as:\n",
    "\n",
    "$\n",
    "dz^{[1]} = W^{[2]T}dz^{[2]} * g^{[1]}{'}(z^{[1]})\\\\\n",
    "dW^{[1]} = dz^{[1]}X^T \\\\\n",
    "db^{[1]} = dz^{[1]} \\\\\n",
    "$\n",
    "\n",
    "where * is the element wise multiplication. These equations work for one example at time. When considering the vectorized version, where we stack examples to generate a matrix $Z$, we have the following equations:\n",
    "\n",
    "$\n",
    "dZ^{[2]} = A^{[2]} - Y \\\\\n",
    "dW^{[2]} = \\frac{1}{m} dZ^{[2]}A^{[1]T} \\\\\n",
    "db^{[2]} = \\frac{1}{m} np.sum(dZ^{[2]}, \\text{axis}=1, \\text{keepdims=True}) \\\\\n",
    "dZ^{[1]} = W^{[2]T}dZ^{[2]} * g^{[1]}{'}(Z^{[1]}) \\\\\n",
    "dW^{[1]} = \\frac{1}{m} dZ^{[1]}X^T \\\\\n",
    "db^{[1]} = \\frac{1}{m} np.sum(dZ^{[1]}, \\text{axis}=1, \\text{keepdims=True}) \\\\\n",
    "$\n",
    "\n",
    "Below there is an example of the implementation of these equations in Python."
   ]
  },
  {
   "cell_type": "code",
   "execution_count": 99,
   "metadata": {},
   "outputs": [],
   "source": [
    "import numpy as np\n",
    "\n",
    "# Activation functions\n",
    "def relu(z, grad=True):\n",
    "    a = np.maximum(0, z)\n",
    "    if grad:\n",
    "        da = np.where(z <= 0, 0, 1)\n",
    "        return a, da\n",
    "    return a\n",
    "\n",
    "def sigmoid(z, grad=True):\n",
    "    a = 1./(1. + np.exp(-1.*z))\n",
    "    if grad:\n",
    "        da = a*(1 - a)\n",
    "        return a, da\n",
    "    return a\n",
    "\n",
    "def g(z, func='relu', grad=True):\n",
    "    if func == 'relu':\n",
    "        return relu(z, grad)\n",
    "    else:\n",
    "        return sigmoid(z, grad)"
   ]
  },
  {
   "cell_type": "code",
   "execution_count": 116,
   "metadata": {},
   "outputs": [],
   "source": [
    "# Initialization of variables\n",
    "# Dimensions:\n",
    "# - Input: 3 features\n",
    "# - Hidden layer: 4 neurons\n",
    "# - Output layer: 1 neuron\n",
    "dims = [3, 4, 1]\n",
    "\n",
    "X = np.array([\n",
    "    [0.1, 0.2, 0.1, 0.3, 0.09],\n",
    "    [0.1, 0.2, 0.1, 0.3, 0.09],\n",
    "    [0.1, 0.2, 0.1, 0.3, 0.09]\n",
    "])\n",
    "Y = np.array([1, 2, 1, 3, 4]).reshape(1,5)\n",
    "\n",
    "# Parameters of the first layer \n",
    "# (4 neurons, 3 features)\n",
    "W1 = np.random.randn(dims[1], dims[0])\n",
    "dW1 = np.zeros(W1.shape)\n",
    "b1 = np.ones((dims[1], 1))\n",
    "db1 = np.zeros(b1.shape)\n",
    "\n",
    "# Parameters of the second layer\n",
    "W2 = np.random.randn(dims[2], dims[1])\n",
    "dW2 = np.zeros(W2.shape)\n",
    "b2 = np.ones((dims[2], 1))\n",
    "db2 = np.zeros((b2.shape))"
   ]
  },
  {
   "cell_type": "markdown",
   "metadata": {},
   "source": [
    "Our example has the following matrices, where values for weights are merely illustrative.\n",
    "\n",
    "<img src=\"images/matrices_nn.svg\" width=\"50%\" align=\"center\" />"
   ]
  },
  {
   "cell_type": "code",
   "execution_count": 117,
   "metadata": {},
   "outputs": [
    {
     "name": "stdout",
     "output_type": "stream",
     "text": [
      "Running epoch: 1 - Loss: 2.23881204589 \n",
      "Running epoch: 2 - Loss: 2.22876972025 \n",
      "Running epoch: 3 - Loss: 2.2206500256 \n",
      "Running epoch: 4 - Loss: 2.21439262966 \n",
      "Running epoch: 5 - Loss: 2.20993769782 \n",
      "Running epoch: 6 - Loss: 2.20722605747 \n",
      "Running epoch: 7 - Loss: 2.20619934469 \n",
      "Running epoch: 8 - Loss: 2.20680013376 \n",
      "Running epoch: 9 - Loss: 2.20897205015 \n",
      "Running epoch: 10 - Loss: 2.21265986777 \n"
     ]
    }
   ],
   "source": [
    "#np.random.randn(3, 5) * 100\n",
    "#hyperparameter\n",
    "lr = 0.01\n",
    "nb_epochs = 10\n",
    "\n",
    "for i in range(1, nb_epochs+1):\n",
    "    Z1 = np.dot(W1, X) + b1\n",
    "    A1, dA1 = g(Z1, func='sigmoid')\n",
    "    Z2 = np.dot(W2, A1) + b2\n",
    "    A2, dA2 = g(Z2, func='sigmoid')\n",
    "\n",
    "    dZ2 = A2 - Y\n",
    "    dW2 = 1./m * np.dot(dZ2, A1.T)\n",
    "    db2 = 1./m * np.sum(dZ2, axis=1, keepdims=True)\n",
    "    dZ1 = np.dot(W2.T, dZ2) * dA1\n",
    "    dW1 = 1./m * np.dot(dZ1, X.T)\n",
    "    db1 = 1./m * np.sum(dZ1, axis=1, keepdims=True)\n",
    "\n",
    "    J = 1./m * (- np.dot(Y, np.log(A2).T) + np.dot((1 - Y), np.log(1 - A2).T))\n",
    "    print('Running epoch: {} - Loss: {} '.format(i, J[0][0]))\n",
    "\n",
    "    W1 = W1 - lr*dW1\n",
    "    b1 = b1 - lr*db1\n",
    "    W2 = W2 - lr*dW2\n",
    "    b2 = b2 - lr*db2"
   ]
  },
  {
   "cell_type": "markdown",
   "metadata": {},
   "source": [
    "# Random Initialization\n",
    "\n",
    "When initializing weight in a neural network is important to not start their values at zero. In case of doing this, all neurons will compute always the same values. Thus, a way to initialize weights in a neural network is to randomly assign low values to each neuron. It could be achieved using:\n",
    "\n",
    "```python\n",
    "W1 = np.random.randn((2,2)) * 0.01\n",
    "b1 = np.zeros((2,1))\n",
    "```\n",
    "\n",
    "Unlike weights, bias can be initialized with zero values. Usually, weights are multiplied by a small value (*e.g.*, 0.01) reducing weights so that when calculating the values of $Z$, scores get close to the non-flat (derivation different than zero) part of the function. For example, consider the sigmoid function presented in the plot illustred previously. Now, imaginge that $z = W^TX+b$ obtain a high value due to the high values of $W$ (*e.g.*, 10). Observing the plot, we see that the derivative of $z=10$ is zero, *i.e*, the function is saturated. Thus, when updating weights, the derivative is not effective.  "
   ]
  }
 ],
 "metadata": {
  "kernelspec": {
   "display_name": "Python 2",
   "language": "python",
   "name": "python2"
  },
  "language_info": {
   "codemirror_mode": {
    "name": "ipython",
    "version": 2
   },
   "file_extension": ".py",
   "mimetype": "text/x-python",
   "name": "python",
   "nbconvert_exporter": "python",
   "pygments_lexer": "ipython2",
   "version": "2.7.12"
  }
 },
 "nbformat": 4,
 "nbformat_minor": 1
}
