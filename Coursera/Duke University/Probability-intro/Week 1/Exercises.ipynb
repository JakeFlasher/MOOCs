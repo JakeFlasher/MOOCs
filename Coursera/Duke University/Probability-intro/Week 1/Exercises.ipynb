{
 "cells": [
  {
   "cell_type": "markdown",
   "metadata": {},
   "source": [
    "# Practice exercises from Chapter 1\n",
    "\n",
    "**Suggested reading**: Chapter 1, Sections 1.1 - 1.5  \n",
    "**Practice exercises**: End of chapter exercises in Chapter 1: 1.1, 1.3, 1.11, 1.13, 1.17, 1.19, 1.25, 1.27, 1.31\n"
   ]
  },
  {
   "cell_type": "markdown",
   "metadata": {},
   "source": [
    "---\n",
    "**1.1 Migraine and acupuncture**. A migraine is a particularly painful type of headache, which patients sometimes wish to treat with acupuncture. To determine whether acupuncture relieves migraine pain, researchers conducted a randomized controlled study where 89 females diagnosed with migraine headaches were randomly assigned to one of two groups: treatment or control. 43 patients in the treatment group received acupuncture that is specifically designed to treat migraines. 46 patients in the control group received placebo acupuncture (needle insertion at non-acupoint locations). 24 hours after patients received acupuncture, they were asked if they were pain free. Results are summarized in the contingency table below.\n",
    "\n",
    "|           | Yes | No  | Total |\n",
    "| :-------- | --: | --: | :---: | \n",
    "| Treatment |  10 |  33 |    43 |\n",
    "| Control   |   2 |  44 |    46 |\n",
    "| Total     |  12 |  77 |    89 |"
   ]
  },
  {
   "cell_type": "markdown",
   "metadata": {},
   "source": [
    "(a) What percent of patients in the treatment group were pain free 24 hours after receiving acupunture? What percent in the control group?  \n",
    "<span style=\"color:navy\">\n",
    "   [Answer]\n",
    "</span>  "
   ]
  },
  {
   "cell_type": "markdown",
   "metadata": {},
   "source": [
    "(b) At first glance, does acupuncture appear to be an effective treatment for migraines? Explain your reasoning.  \n",
    "<span style=\"color:navy\">\n",
    "   [Answer]\n",
    "</span>  "
   ]
  },
  {
   "cell_type": "markdown",
   "metadata": {},
   "source": [
    "(c) Do the data provide convincing evidence that there is a real pain reduction for those patients in the treatment group? Or do you think that the observed difference might just be due to chance?  \n",
    "<span style=\"color:navy\">\n",
    "   [Answer]\n",
    "</span>  "
   ]
  },
  {
   "cell_type": "markdown",
   "metadata": {},
   "source": [
    "---\n",
    "**1.3 Air pollution and birth outcomes, study components.** Researchers collected data to examine the relationship between air pollutants and preterm births in Southern California. During the study air pollution levels were measured by air quality monitoring stations. Specifically, levels of carbon monoxide were recorded in parts per million, nitrogen dioxide and ozone in parts per hundred million, and coarse particulate matter (PM$_{10}$ ) in $\\mu g/m^{3}$ . Length of gestation data were collected on 143,196 births between the years 1989 and 1993, and air pollution exposure during gestation was calculated for each birth. The analysis suggested that increased ambient PM$_{10}$ and, to a lesser degree, CO concentrations may be associated with the occurrence of preterm births. In this study, identify:"
   ]
  },
  {
   "cell_type": "markdown",
   "metadata": {},
   "source": [
    "(a) the cases  \n",
    "<span style=\"color:navy\">\n",
    "   [Answer]\n",
    "</span>  "
   ]
  },
  {
   "cell_type": "markdown",
   "metadata": {},
   "source": [
    "(b) the variables and their types  \n",
    "<span style=\"color:navy\">\n",
    "   [Answer]\n",
    "</span>  "
   ]
  },
  {
   "cell_type": "markdown",
   "metadata": {},
   "source": [
    "(c) the main research question  \n",
    "<span style=\"color:navy\">\n",
    "   [Answer]\n",
    "</span>  "
   ]
  },
  {
   "cell_type": "markdown",
   "metadata": {},
   "source": [
    "---\n",
    "**1.11 Buteyko method, scope of inference.** Exercise 1.4 introduces a study on using the Buteyko shallow breathing technique to reduce asthma symptoms and improve quality of life. As part of this study 600 asthma patients aged 18-69 who relied on medication for asthma treatment were recruited and randomly assigned to two groups: one practiced the Buteyko method and the other did not. Those in the Buteyko group experienced, on average, a significant reduction in asthma symptoms and an improvement in quality of life."
   ]
  },
  {
   "cell_type": "markdown",
   "metadata": {},
   "source": [
    "(a) Identify the population of interest and the sample in this study.  \n",
    "<span style=\"color:navy\">\n",
    "   [Answer]\n",
    "</span>  "
   ]
  },
  {
   "cell_type": "markdown",
   "metadata": {},
   "source": [
    "(b) Comment on whether or not the results of the study can be generalized to the population, and if the findings of the study can be used to establish causal relationships.  \n",
    "<span style=\"color:navy\">\n",
    "   [Answer]\n",
    "</span>  "
   ]
  },
  {
   "cell_type": "markdown",
   "metadata": {},
   "source": [
    "---\n",
    "**1.13 Relaxing after work**. The 2010 General Social Survey asked the question, \"After an average work day, about how many hours do you have to relax or pursue activities that you enjoy?\" to a random sample of 1,155 Americans. The average relaxing time was found to be 1.65 hours. Determine which of the following is an observation, a variable, a sample statistic, or a population parameter.\n"
   ]
  },
  {
   "cell_type": "markdown",
   "metadata": {},
   "source": [
    "(a) An American in the sample.  \n",
    "<span style=\"color:navy\">\n",
    "   [Answer]\n",
    "</span>  "
   ]
  },
  {
   "cell_type": "markdown",
   "metadata": {},
   "source": [
    "(b) Number of hours spent relaxing after an average work day.  \n",
    "<span style=\"color:navy\">\n",
    "   [Answer]\n",
    "</span>  "
   ]
  },
  {
   "cell_type": "markdown",
   "metadata": {},
   "source": [
    "(c) 1.65.  \n",
    "<span style=\"color:navy\">\n",
    "   [Answer]\n",
    "</span>  "
   ]
  },
  {
   "cell_type": "markdown",
   "metadata": {},
   "source": [
    "(d) Average number of hours all Americans spend relaxing after an average work day.  \n",
    "<span style=\"color:navy\">\n",
    "   [Answer]\n",
    "</span>  "
   ]
  },
  {
   "cell_type": "markdown",
   "metadata": {},
   "source": [
    "---\n",
    "**1.17 Course satisfaction across sections**. A large college class has 160 students. All 160 students attend the lectures together, but the students are divided into 4 groups, each of 40 students, for lab sections administered by different teaching assistants. The professor wants to conduct a survey about how satisfied the students are with the course, and he believes that the lab section a student is in might affect the student's overall satisfaction with the course."
   ]
  },
  {
   "cell_type": "markdown",
   "metadata": {},
   "source": [
    "(a) What type of study is this?  \n",
    "<span style=\"color:navy\">\n",
    "   [Answer]\n",
    "</span>  "
   ]
  },
  {
   "cell_type": "markdown",
   "metadata": {},
   "source": [
    "(b) Suggest a sampling strategy for carrying out this study.  \n",
    "<span style=\"color:navy\">\n",
    "   [Answer]\n",
    "</span>  "
   ]
  },
  {
   "cell_type": "markdown",
   "metadata": {},
   "source": [
    "---\n",
    "**1.19 Internet use and life expectancy**. The following scatterplot was created as part of a study evaluating the relationship between estimated life expectancy at birth (as of 2014) and percentage of internet users (as of 2009) in 208 countries for which such data were available.\n",
    "\n",
    "<img src=\"images/plot1.19.png\" align=\"center\" width=\"500\"/>"
   ]
  },
  {
   "cell_type": "markdown",
   "metadata": {},
   "source": [
    "(a) Describe the relationship between life expectancy and percentage of internet users.  \n",
    "<span style=\"color:navy\">\n",
    "   [Answer]\n",
    "</span>  "
   ]
  },
  {
   "cell_type": "markdown",
   "metadata": {},
   "source": [
    "(b) What type of study is this?  \n",
    "<span style=\"color:navy\">\n",
    "   [Answer]\n",
    "</span>  "
   ]
  },
  {
   "cell_type": "markdown",
   "metadata": {},
   "source": [
    "(c) State a possible confounding variable that might explain this relationship and describe its potential effect.  \n",
    "<span style=\"color:navy\">\n",
    "   [Answer]\n",
    "</span>  "
   ]
  },
  {
   "cell_type": "markdown",
   "metadata": {},
   "source": [
    "---\n",
    "**1.25 Flawed reasoning**. Identify the flaw(s) in reasoning in the following scenarios. Explain what the individuals in the study should have done di↵erently if they wanted to make such strong conclusions."
   ]
  },
  {
   "cell_type": "markdown",
   "metadata": {},
   "source": [
    "(a) Students at an elementary school are given a questionnaire that they are asked to return after their parents have completed it. One of the questions asked is, \"Do you find that your work schedule makes it difficult for you to spend time with your kids after school?\" Of the parents who replied, 85% said \"no\". Based on these results, the school officials conclude that a great majority of the parents have no difficulty spending time with their kids after school.  \n",
    "<span style=\"color:navy\">\n",
    "   [Answer]\n",
    "</span>  "
   ]
  },
  {
   "cell_type": "markdown",
   "metadata": {},
   "source": [
    "(b) A survey is conducted on a simple random sample of 1,000 women who recently gave birth, asking them about whether or not they smoked during pregnancy. A follow-up survey asking if the children have respiratory problems is conducted 3 years later, however, only 567 of these women are reached at the same address. The researcher reports that these 567 women are representative of all mothers.  \n",
    "<span style=\"color:navy\">\n",
    "   [Answer]\n",
    "</span>  "
   ]
  },
  {
   "cell_type": "markdown",
   "metadata": {},
   "source": [
    "(c) An orthopedist administers a questionnaire to 30 of his patients who do not have any joint problems and finds that 20 of them regularly go running. He concludes that running decreases the risk of joint problems.  \n",
    "<span style=\"color:navy\">\n",
    "   [Answer]\n",
    "</span>  "
   ]
  },
  {
   "cell_type": "markdown",
   "metadata": {},
   "source": [
    "---\n",
    "**1.27 Sampling strategies.** A statistics student who is curious about the relationship between the amount of time students spend on social networking sites and their performance at school decides to conduct a survey. Various research strategies for collecting data are described below. In each, name the sampling method proposed and any bias you might expect."
   ]
  },
  {
   "cell_type": "markdown",
   "metadata": {},
   "source": [
    "(a) He randomly samples 40 students from the study's population, gives them the survey, asks them to fill it out and bring it back the next day.  \n",
    "<span style=\"color:navy\">\n",
    "   [Answer]\n",
    "</span>  "
   ]
  },
  {
   "cell_type": "markdown",
   "metadata": {},
   "source": [
    "(b) He gives out the survey only to his friends, making sure each one of them fills out the survey.  \n",
    "<span style=\"color:navy\">\n",
    "   [Answer]\n",
    "</span>  "
   ]
  },
  {
   "cell_type": "markdown",
   "metadata": {},
   "source": [
    "(c) He posts a link to an online survey on Facebook and asks his friends to fill out the survey.  \n",
    "<span style=\"color:navy\">\n",
    "   [Answer]\n",
    "</span>  "
   ]
  },
  {
   "cell_type": "markdown",
   "metadata": {},
   "source": [
    "(d) He randomly samples 5 classes and asks a random sample of students from those classes to fill out the survey.  \n",
    "<span style=\"color:navy\">\n",
    "   [Answer]\n",
    "</span>  "
   ]
  },
  {
   "cell_type": "markdown",
   "metadata": {},
   "source": [
    "---\n",
    "**1.31 Light and exam performance.** A study is designed to test the e↵ect of light level on exam performance of students. The researcher believes that light levels might have different effects on males and females, so wants to make sure both are equally represented in each treatment. The treatments are fluorescent overhead lighting, yellow overhead lighting, no overhead lighting (only desk lamps)."
   ]
  },
  {
   "cell_type": "markdown",
   "metadata": {},
   "source": [
    "(a) What is the response variable?  \n",
    "<span style=\"color:navy\">\n",
    "   [Answer]\n",
    "</span>  "
   ]
  },
  {
   "cell_type": "markdown",
   "metadata": {},
   "source": [
    "(b) What is the explanatory variable? What are its levels?  \n",
    "<span style=\"color:navy\">\n",
    "   [Answer]\n",
    "</span>  "
   ]
  },
  {
   "cell_type": "markdown",
   "metadata": {},
   "source": [
    "(c) What is the blocking variable? What are its levels?  \n",
    "<span style=\"color:navy\">\n",
    "   [Answer]\n",
    "</span>  "
   ]
  },
  {
   "cell_type": "code",
   "execution_count": null,
   "metadata": {
    "collapsed": true
   },
   "outputs": [],
   "source": []
  }
 ],
 "metadata": {
  "kernelspec": {
   "display_name": "R",
   "language": "R",
   "name": "ir"
  },
  "language_info": {
   "codemirror_mode": "r",
   "file_extension": ".r",
   "mimetype": "text/x-r-source",
   "name": "R",
   "pygments_lexer": "r",
   "version": "3.2.3"
  }
 },
 "nbformat": 4,
 "nbformat_minor": 2
}
