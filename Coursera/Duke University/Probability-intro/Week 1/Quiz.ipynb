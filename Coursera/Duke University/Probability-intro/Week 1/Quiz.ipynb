{
 "cells": [
  {
   "cell_type": "markdown",
   "metadata": {},
   "source": [
    "# Week 1: Practice Quiz"
   ]
  },
  {
   "cell_type": "markdown",
   "metadata": {},
   "source": [
    "1) Which of the following classifications of variable types is false?  \n",
    "&#9744; Whether a student has previously taken a statistics course &#8658; categorical  \n",
    "&#9744; Customer satisfaction: very unsatisfied, unsatisfied, satisfied, very satisfied &#8658; ordinal categorical  \n",
    "&#9745; Population of each state in the US &#8658; continuous numerical  \n",
    "&#9744; Student height &#8658; continuous numerical  \n",
    "\n",
    "*If variable is numerical, further classify as continuous or discrete based on whether or not the variable can take on an infinite number of values or only non-negative whole numbers, respectively. If variable is categorical, determine if it is ordinal based on whether or not the levels have a natural ordering. Counted data are discrete numerical variables since they can't take on non-whole values.*"
   ]
  },
  {
   "cell_type": "markdown",
   "metadata": {},
   "source": [
    "2) True or False: If subjects are randomly assigned to treatments, conclusions can be generalized to the population.  \n",
    "&#9744; True  \n",
    "&#9745; False  \n",
    "\n",
    "*If random sampling has been employed in data collection, the results should be generalizable to the target population. If random assignment has been employed in study design, the results suggest causality. Random assignment allows us to make causal conclusions. For generalizability, we need random sampling.*"
   ]
  },
  {
   "cell_type": "markdown",
   "metadata": {},
   "source": [
    "3) As part of a statistics project, Andrea would like to collect data on household size in her city. To do so, she asks each person in her statistics class for the size of their household, and reports that her sample is a simple random sample. However, this is not a simple random sample. Which of the following is the best reasoning for why this is not a random sample that is appropriate for this research question?  \n",
    "&#9744; Andrea did not block for any variables that might influence the response.  \n",
    "&#9745; Andrea did not use any randomization; she took a convenience sample.  \n",
    "&#9744; Andrea did not use a stratified sample.  \n",
    "\n",
    "*Distinguish between simple random, stratified, and cluster sampling, and recognize the benefits and drawbacks of choosing one sampling scheme over another.*"
   ]
  },
  {
   "cell_type": "markdown",
   "metadata": {},
   "source": [
    "4) Which of the following is not one of the four principles of experimental design?  \n",
    "&#9744; replicate  \n",
    "&#9745; stratify  \n",
    "&#9744; randomize  \n",
    "\n",
    "*The question refers to the following learning objective: Identify the four principles of experimental design and recognize their purposes: control any possible confounders, randomize into treatment and control groups, replicate by using a sufficiently large sample or repeating the experiment, and block any variables that might influence the response.*"
   ]
  },
  {
   "cell_type": "markdown",
   "metadata": {},
   "source": [
    "5) True or False: Stratified sampling allows for controlling for possible confounders in the sampling stage, while blocking allows for controlling for such variables during random assignment.  \n",
    "&#9745; True  \n",
    "&#9744; False  \n",
    "\n",
    "*Stratifying and blocking both allow for controlling for potential confounders, but at different stages of the study design. We stratify when we sample (divide population into strata and sample from within each stratum), and block in the process of random assignment (divide sample into blocks and randomly assign from within each block to treatment groups).*"
   ]
  }
 ],
 "metadata": {
  "kernelspec": {
   "display_name": "R",
   "language": "R",
   "name": "ir"
  },
  "language_info": {
   "codemirror_mode": "r",
   "file_extension": ".r",
   "mimetype": "text/x-r-source",
   "name": "R",
   "pygments_lexer": "r",
   "version": "3.2.3"
  }
 },
 "nbformat": 4,
 "nbformat_minor": 2
}
