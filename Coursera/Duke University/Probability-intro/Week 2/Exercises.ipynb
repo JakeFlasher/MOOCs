{
 "cells": [
  {
   "cell_type": "markdown",
   "metadata": {},
   "source": [
    "# Practice exercises from Chapter 1\n",
    "\n",
    "**Suggested reading**: Chapter 1, Sections 1.6, 1.7, 1.8  \n",
    "**Practice exercises**: End of chapter exercises in Chapter 1: 1.39, 1.41, 1.45, 1.49, 1.51, 1.55, 1.59, 1.63, 1.65, 1.67, 1.69\n"
   ]
  },
  {
   "cell_type": "markdown",
   "metadata": {},
   "source": [
    "---\n",
    "**1.39) Associations**. Indicate which of the plots show a\n",
    "\n",
    "<img src=\"images/exer_1.39.png\" width=\"500\" align=\"center\"/>"
   ]
  },
  {
   "cell_type": "markdown",
   "metadata": {},
   "source": [
    "(a) positive association:  \n",
    "   <span style=\"color:navy\">*Plots number 1 and 3*</span>  "
   ]
  },
  {
   "cell_type": "markdown",
   "metadata": {},
   "source": [
    "(b) negative association:  \n",
    "   <span style=\"color:navy\">*Plot number 4*</span>  "
   ]
  },
  {
   "cell_type": "markdown",
   "metadata": {},
   "source": [
    "(c) no association:  \n",
    "   <span style=\"color:navy\">*Plot number 2*</span>  "
   ]
  },
  {
   "cell_type": "markdown",
   "metadata": {},
   "source": [
    "Also determine if the positive and negative associations are linear or nonlinear. Each part may refer to more than one plot.  \n",
    "<span style=\"color:navy\">\n",
    "*Plots number 1 and number 4 have a linear association, while the plot number 3 has a nonlinear association.*\n",
    "</span>"
   ]
  },
  {
   "cell_type": "markdown",
   "metadata": {},
   "source": [
    "---\n",
    "**1.41) Reproducing bacteria**. Suppose that there is only sufficient space and nutrients to support one million bacterial cells in a petri dish. You place a few bacterial cells in this petri dish, allow them to reproduce freely, and record the number of bacterial cells in the dish over time. Sketch a plot representing the relationship between number of bacterial cells and time.  \n",
    "<span style=\"color:navy\">\n",
    "[Answer]\n",
    "</span> "
   ]
  },
  {
   "cell_type": "markdown",
   "metadata": {},
   "source": [
    "---\n",
    "**1.45) Days off at a mining plant**. Workers at a particular mining site receive an average of 35 days paid vacation, which is lower than the national average. The manager of this plant is under pressure from a local union to increase the amount of paid time off. However, he does not want to give more days off to the workers because that would be costly. Instead he decides he should fire 10 employees in such a way as to raise the average number of days off that are reported by his employees. In order to achieve this goal, should he fire employees who have the most number of days off, least number of days off, or those who have about the average number of days off?  \n",
    "<span style=\"color:navy\">\n",
    "   [Answer]\n",
    "</span> "
   ]
  },
  {
   "cell_type": "markdown",
   "metadata": {},
   "source": [
    "---\n",
    "**1.49) Infant mortality**. The infant mortality rate is defined as the number of infant deaths per 1,000 live births. This rate is often used as an indicator of the level of health in a country. The relative frequency histogram below shows the distribution of estimated infant death rates for 224 countries for which such data were available in 2014.  \n",
    "\n",
    "<img src=\"images/exer_1.49.png\" width=\"500\" align=\"center\"/>"
   ]
  },
  {
   "cell_type": "markdown",
   "metadata": {},
   "source": [
    "(a) Estimate Q1, the median, and Q3 from the histogram.  \n",
    "<span style=\"color:navy\">\n",
    "   [Answer]\n",
    "</span>  "
   ]
  },
  {
   "cell_type": "markdown",
   "metadata": {},
   "source": [
    "(b) Would you expect the mean of this data set to be smaller or larger than the median? Explain your reasoning.  \n",
    "<span style=\"color:navy\">\n",
    "   [Answer]\n",
    "</span>  "
   ]
  },
  {
   "cell_type": "markdown",
   "metadata": {},
   "source": [
    "---\n",
    "**1.51) Air quality**. Daily air quality is measured by the air quality index (AQI) reported by the Environmental Protection Agency. This index reports the pollution level and what associated health effects might be a concern. The index is calculated for five major air pollutants regulated by the Clean Air Act and takes values from 0 to 300, where a higher value indicates lower air quality. AQI was reported for a sample of 91 days in 2011 in Durham, NC. The relative frequency histogram below shows the distribution of the AQI values on these days. \n",
    "\n",
    "<img src=\"images/exer_1.49.png\" width=\"500\" align=\"center\"/>"
   ]
  },
  {
   "cell_type": "markdown",
   "metadata": {},
   "source": [
    "(a) Estimate the median AQI value of this sample.  \n",
    "<span style=\"color:navy\">\n",
    "   [Answer]\n",
    "</span>  "
   ]
  },
  {
   "cell_type": "markdown",
   "metadata": {},
   "source": [
    "(b) Would you expect the mean AQI value of this sample to be higher or lower than the median? Explain your reasoning.  \n",
    "<span style=\"color:navy\">\n",
    "   [Answer]\n",
    "</span>  "
   ]
  },
  {
   "cell_type": "markdown",
   "metadata": {},
   "source": [
    "(c) Estimate Q1, Q3, and IQR for the distribution.  \n",
    "<span style=\"color:navy\">\n",
    "   [Answer]\n",
    "</span>   "
   ]
  },
  {
   "cell_type": "markdown",
   "metadata": {},
   "source": [
    "(d) Would any of the days in this sample be considered to have an unusually low or high AQI? Explain your reasoning.  \n",
    "<span style=\"color:navy\">\n",
    "   [Answer]\n",
    "</span> "
   ]
  },
  {
   "cell_type": "markdown",
   "metadata": {},
   "source": [
    "---\n",
    "**1.55) Distributions and appropriate statistics, Part I**. For each of the following, state whether you expect the distribution to be symmetric, right skewed, or left skewed. Also specify whether the mean or median would best represent a typical observation in the data, and whether the variability of observations would be best represented using the standard deviation or IQR. Explain your reasoning.  "
   ]
  },
  {
   "cell_type": "markdown",
   "metadata": {},
   "source": [
    "(a) Number of pets per household.  \n",
    "<span style=\"color:navy\">\n",
    "   [Answer]\n",
    "</span>  "
   ]
  },
  {
   "cell_type": "markdown",
   "metadata": {},
   "source": [
    "(b) Distance to work, i.e. number of miles between work and home.  \n",
    "<span style=\"color:navy\">\n",
    "   [Answer]\n",
    "</span>  "
   ]
  },
  {
   "cell_type": "markdown",
   "metadata": {},
   "source": [
    "(c) Heights of adult males.  \n",
    "<span style=\"color:navy\">\n",
    "   [Answer]\n",
    "</span>  "
   ]
  },
  {
   "cell_type": "markdown",
   "metadata": {},
   "source": [
    "---\n",
    "**1.59) Facebook friends**. Facebook data indicate that 50% of Facebook users have 100 or more friends, and that the average friend count of users is 190. What do these findings suggest about the shape of the distribution of number of friends of Facebook users?  \n",
    "<span style=\"color:navy\">\n",
    "   [Answer]\n",
    "</span>  "
   ]
  },
  {
   "cell_type": "markdown",
   "metadata": {},
   "source": [
    "**1.63) Commute times**. The US census collects data on time it takes Americans to commute to work, among many other variables. The histogram below shows the distribution of average commute times in 3,143 US counties in 2010. Also shown below is a spatial intensity map of the same data.\n",
    "\n",
    "<img src=\"images/exer_1.63.png\" width=\"900\" align=\"center\"/>"
   ]
  },
  {
   "cell_type": "markdown",
   "metadata": {},
   "source": [
    "(a) Describe the numerical distribution and comment on whether or not a log transformation may be advisable for these data.  \n",
    "<span style=\"color:navy\">\n",
    "   [Answer]\n",
    "</span>  "
   ]
  },
  {
   "cell_type": "markdown",
   "metadata": {},
   "source": [
    "(b) Describe the spatial distribution of commuting times using the map below.  \n",
    "<span style=\"color:navy\">\n",
    "   [Answer]\n",
    "</span>  "
   ]
  },
  {
   "cell_type": "markdown",
   "metadata": {},
   "source": [
    "---\n",
    "**1.65) Antibiotic use in children**. The bar plot and the pie chart below show the distribution of pre-existing medical conditions of children involved in a study on the optimal duration of antibiotic use in treatment of tracheitis, which is an upper respiratory infection.\n",
    "\n",
    "<img src=\"images/exer_1.65.png\" width=\"900\" align=\"center\"/>"
   ]
  },
  {
   "cell_type": "markdown",
   "metadata": {},
   "source": [
    "(a) What features are apparent in the bar plot but not in the pie chart?  \n",
    "<span style=\"color:navy\">\n",
    "   [Answer]\n",
    "</span>  "
   ]
  },
  {
   "cell_type": "markdown",
   "metadata": {},
   "source": [
    "(b) What features are apparent in the pie chart but not in the bar plot?  \n",
    "<span style=\"color:navy\">\n",
    "   [Answer]\n",
    "</span>  "
   ]
  },
  {
   "cell_type": "markdown",
   "metadata": {},
   "source": [
    "(c) Which graph would you prefer to use for displaying these categorical data?  \n",
    "<span style=\"color:navy\">\n",
    "   [Answer]\n",
    "</span>  "
   ]
  },
  {
   "cell_type": "markdown",
   "metadata": {},
   "source": [
    "---\n",
    "**1.67) Views on the DREAM Act**. A random sample of registered voters from Tampa, FL were asked if they support the DREAM Act, a proposed law which would provide a path to citizenship for people brought illegally to the US as children. The survey also collected information on the political ideology of the respondents. Based on the mosaic plot shown below, do views on the DREAM Act and political ideology appear to be independent? Explain your reasoning.\n",
    "\n",
    "<img src=\"images/exer_1.67.png\" width=\"500\" align=\"center\"/>\n",
    "\n",
    "<span style=\"color:navy\">\n",
    "   [Answer]\n",
    "</span>  "
   ]
  },
  {
   "cell_type": "markdown",
   "metadata": {},
   "source": [
    "---\n",
    "**1.69 Side effects of Avandia**. Rosiglitazone is the active ingredient in the controversial type 2 diabetes medicine Avandia and has been linked to an increased risk of serious cardiovascular problems such as stroke, heart failure, and death. A common alternative treatment is pioglitazone, the active ingredient in a diabetes medicine called Actos. In a nationwide retrospective observational study of 227,571 Medicare beneficiaries aged 65 years or older, it was found that 2,593 of the 67,593 patients using rosiglitazone and 5,386 of the 159,978 using pioglitazone had serious cardiovascular problems. These data are summarized in the contingency table below.\n",
    "\n",
    "|               |  Yes  |    No   |  Total  |\n",
    "| :------------ | :---: | :-----: | ------: |\n",
    "| Rosiglitazone | 2,593 |  65,000 |  67,593 |\n",
    "| Pioglitazone  | 5,386 | 154,592 | 159,978 |\n",
    "| Total         | 7,979 | 219,592 | 227,571 |\n",
    "\n",
    "(a) Determine if each of the following statements is *true* or *false*. If false, explain why. Be careful: The reasoning may be wrong even if the statement's conclusion is correct. In such cases, the statement should be considered false."
   ]
  },
  {
   "cell_type": "markdown",
   "metadata": {},
   "source": [
    "i. Since more patients on pioglitazone had cardiovascular problems (5,386 vs. 2,593), we can conclude that the rate of cardiovascular problems for those on a pioglitazone treatment is higher.  \n",
    "<span style=\"color:navy\">\n",
    "   [Answer]\n",
    "</span>  "
   ]
  },
  {
   "cell_type": "markdown",
   "metadata": {},
   "source": [
    "ii. The data suggest that diabetic patients who are taking rosiglitazone are more likely to have cardiovascular problems since the rate of incidence was (2,593 / 67,593 = 0.038) 3.8% for patients on this treatment, while it was only (5,386 / 159,978 = 0.034) 3.4% for patients on pioglitazone.  \n",
    "<span style=\"color:navy\">\n",
    "   [Answer]\n",
    "</span>  "
   ]
  },
  {
   "cell_type": "markdown",
   "metadata": {},
   "source": [
    "iii. The fact that the rate of incidence is higher for the rosiglitazone group proves that rosiglitazone causes serious cardiovascular problems.  \n",
    "<span style=\"color:navy\">\n",
    "   [Answer]\n",
    "</span>  "
   ]
  },
  {
   "cell_type": "markdown",
   "metadata": {},
   "source": [
    "iv. Based on the information provided so far, we cannot tell if the difference between the rates of incidences is due to a relationship between the two variables or due to chance.  \n",
    "<span style=\"color:navy\">\n",
    "   [Answer]\n",
    "</span>  "
   ]
  },
  {
   "cell_type": "markdown",
   "metadata": {},
   "source": [
    "(b) What proportion of all patients had cardiovascular problems?  \n",
    "<span style=\"color:navy\">\n",
    "   [Answer]\n",
    "</span>  \n"
   ]
  },
  {
   "cell_type": "markdown",
   "metadata": {},
   "source": [
    "(c) If the type of treatment and having cardiovascular problems were independent, about how many patients in the rosiglitazone group would we expect to have had cardiovascular problems?  \n",
    "<span style=\"color:navy\">\n",
    "   [Answer]\n",
    "</span>  "
   ]
  },
  {
   "cell_type": "markdown",
   "metadata": {},
   "source": [
    "(d) We can investigate the relationship between outcome and treatment in this study using a randomization technique. While in reality we would carry out the simulations required for randomization using statistical software, suppose we actually simulate using index cards. In order to simulate from the independence model, which states that the outcomes were independent of the treatment, we write whether or not each patient had a cardiovascular problem on cards, shuffed all the cards together, then deal them into two groups of size 67,593 and\n",
    "159,978. We repeat this simulation 1,000 times and each time record the number of people in the rosiglitazone group who had cardiovascular problems. Use the relative frequency histogram of these counts to answer (i)-(iii).  \n",
    "\n",
    "<img src=\"images/exer_1.69.png\" width=\"500\" align=\"center\"/>"
   ]
  },
  {
   "cell_type": "markdown",
   "metadata": {},
   "source": [
    "i. What are the claims being tested?  \n",
    "<span style=\"color:navy\">\n",
    "   [Answer]\n",
    "</span>  "
   ]
  },
  {
   "cell_type": "markdown",
   "metadata": {},
   "source": [
    "ii. Compared to the number calculated in part (b), which would provide more support for the alternative hypothesis, more or fewer patients with cardiovascular problems in the rosiglitazone group?  \n",
    "<span style=\"color:navy\">\n",
    "   [Answer]\n",
    "</span>  "
   ]
  },
  {
   "cell_type": "markdown",
   "metadata": {},
   "source": [
    "iii. What do the simulation results suggest about the relationship between taking rosiglitazone and having cardiovascular problems in diabetic patients?  \n",
    "<span style=\"color:navy\">\n",
    "   [Answer]\n",
    "</span>  "
   ]
  },
  {
   "cell_type": "code",
   "execution_count": null,
   "metadata": {
    "collapsed": true
   },
   "outputs": [],
   "source": []
  }
 ],
 "metadata": {
  "kernelspec": {
   "display_name": "R",
   "language": "R",
   "name": "ir"
  },
  "language_info": {
   "codemirror_mode": "r",
   "file_extension": ".r",
   "mimetype": "text/x-r-source",
   "name": "R",
   "pygments_lexer": "r",
   "version": "3.2.3"
  }
 },
 "nbformat": 4,
 "nbformat_minor": 2
}
