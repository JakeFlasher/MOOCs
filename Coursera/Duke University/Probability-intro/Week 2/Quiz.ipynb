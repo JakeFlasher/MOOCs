{
 "cells": [
  {
   "cell_type": "markdown",
   "metadata": {},
   "source": [
    "# Week 2: Practice Quiz"
   ]
  },
  {
   "cell_type": "markdown",
   "metadata": {},
   "source": [
    "1) Which of the below data sets has the lowest standard deviation? You do not need to calculate the exact standard deviations to answer this question.  \n",
    "&#9744; 0, 1, 3, 3, 3, 5, 6  \n",
    "&#9744; 0, 1, 2, 3, 4, 5, 6  \n",
    "&#9744; 0, 25, 50, 100, 125, 150, 1000  \n",
    "&#9745; 100, 100, 100, 100, 100, 100, 101  "
   ]
  },
  {
   "cell_type": "code",
   "execution_count": 19,
   "metadata": {},
   "outputs": [
    {
     "data": {
      "text/html": [
       "'Std A: 2.08166599946613'"
      ],
      "text/latex": [
       "'Std A: 2.08166599946613'"
      ],
      "text/markdown": [
       "'Std A: 2.08166599946613'"
      ],
      "text/plain": [
       "[1] \"Std A: 2.08166599946613\""
      ]
     },
     "metadata": {},
     "output_type": "display_data"
    },
    {
     "data": {
      "text/html": [
       "'Std B: 2.16024689946929'"
      ],
      "text/latex": [
       "'Std B: 2.16024689946929'"
      ],
      "text/markdown": [
       "'Std B: 2.16024689946929'"
      ],
      "text/plain": [
       "[1] \"Std B: 2.16024689946929\""
      ]
     },
     "metadata": {},
     "output_type": "display_data"
    },
    {
     "data": {
      "text/html": [
       "'Std C: 353.763776443843'"
      ],
      "text/latex": [
       "'Std C: 353.763776443843'"
      ],
      "text/markdown": [
       "'Std C: 353.763776443843'"
      ],
      "text/plain": [
       "[1] \"Std C: 353.763776443843\""
      ]
     },
     "metadata": {},
     "output_type": "display_data"
    },
    {
     "data": {
      "text/html": [
       "'Std D: 0.377964473009227'"
      ],
      "text/latex": [
       "'Std D: 0.377964473009227'"
      ],
      "text/markdown": [
       "'Std D: 0.377964473009227'"
      ],
      "text/plain": [
       "[1] \"Std D: 0.377964473009227\""
      ]
     },
     "metadata": {},
     "output_type": "display_data"
    }
   ],
   "source": [
    "# Although we know that the standard deviation represents the spread of \n",
    "# values around the mean, and thus, the last option is correct, here\n",
    "# we generate the values of standard deviation for all vectors to compare\n",
    "# the values and see how are other values spread around the mean.\n",
    "\n",
    "A <- c(0, 1, 3, 3, 3, 5, 6)\n",
    "B <- c(0, 1, 2 ,3, 4, 5, 6)\n",
    "C <- c(0, 25, 50, 100, 125, 150, 1000)\n",
    "D <- c(100, 100, 100, 100, 100, 100, 101)\n",
    "\n",
    "# Variance of A, standard deviation of A\n",
    "s2A <- sum((A-mean(A))^2)/(length(A)-1)\n",
    "stdA <- sqrt(s2A)\n",
    "# Variance of B, standard deviation of B\n",
    "s2B <- sum((B-mean(B))^2)/(length(B)-1)\n",
    "stdB <- sqrt(s2B)\n",
    "# Variance of C, standard deviation of C\n",
    "s2C <- sum((C-mean(C))^2)/(length(C)-1)\n",
    "stdC <- sqrt(s2C)\n",
    "# Variance of D, standard deviation of D\n",
    "s2D <- sum((D-mean(D))^2)/(length(D)-1)\n",
    "stdD <- sqrt(s2D)\n",
    "\n",
    "# Check what is the lowest standard deviation\n",
    "paste0(\"Std A: \", stdA)\n",
    "paste0(\"Std B: \", stdB)\n",
    "paste0(\"Std C: \", stdC)\n",
    "paste0(\"Std D: \", stdD)"
   ]
  },
  {
   "cell_type": "markdown",
   "metadata": {},
   "source": [
    "2) True or False: The statistic mean/median (mean divided by median) can be used as a measure of skewness (either right or left). Suppose we are dealing with a distribution where the minimum is 0.5. If this statistic (mean/median) is less than 1, the distribution is most likely left skewed.  \n",
    "&#9745; True  \n",
    "&#9744; False  "
   ]
  },
  {
   "cell_type": "markdown",
   "metadata": {},
   "source": [
    "3) True or False: You are going to collect income data from a right-skewed distribution of incomes of politicians. If you take a large enough sample from that distribution, the sample mean and the sample median will always have the same value.  \n",
    "&#9744; True  \n",
    "&#9745; False  "
   ]
  },
  {
   "cell_type": "markdown",
   "metadata": {},
   "source": [
    "4) True or False: A mosaic plot is useful for visualizing the relationship between a numerical and a categorical variable.  \n",
    "&#9744; True  \n",
    "&#9745; False  "
   ]
  },
  {
   "cell_type": "markdown",
   "metadata": {},
   "source": [
    "5) Does meditation cure insomnia? Researchers randomly divided 400 people into two equal-sized groups. One group meditated daily for 30 minutes, the other group attended a 2-hour information session on insomnia. At the beginning of the study, the average difference between the number of minutes slept between the two groups was about 0. After the study, the average difference was about 32 minutes, and the meditation group had a higher average number of minutes slept. To test whether an average difference of 32 minutes could be attributed to chance, a statistics student decided to conduct a randomization test. She wrote the number of minutes slept by each subject in the study on an index card. She shuffled the cards together very well, and then dealt them into two equal-sized groups. Which of the following best describes the outcome?  \n",
    "&#9744; The average difference between the two stacks of cards will be about 32 minutes.  \n",
    "&#9745; The average difference between the two stacks of cards will be about 0 minutes.  \n",
    "&#9744; If meditation is effective, the average difference between the two stacks of cards will be more than 32 minutes.  "
   ]
  }
 ],
 "metadata": {
  "kernelspec": {
   "display_name": "R",
   "language": "R",
   "name": "ir"
  },
  "language_info": {
   "codemirror_mode": "r",
   "file_extension": ".r",
   "mimetype": "text/x-r-source",
   "name": "R",
   "pygments_lexer": "r",
   "version": "3.2.3"
  }
 },
 "nbformat": 4,
 "nbformat_minor": 2
}
