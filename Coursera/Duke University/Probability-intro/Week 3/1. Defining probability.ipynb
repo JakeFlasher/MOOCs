{
 "cells": [
  {
   "cell_type": "markdown",
   "metadata": {},
   "source": [
    "# Defining Probability"
   ]
  },
  {
   "cell_type": "markdown",
   "metadata": {},
   "source": [
    "**Random Process**  \n",
    "\n",
    "A random process occurs when we know what outcomes could happen, but we don't know which particular outcome will happen. For example, in a music player, when you hit shuffle on your music player you know what the possible outcomes are. The next song will be something from your entire music library, but you don't know which song will play next.  \n",
    "\n",
    "**Notation**  \n",
    "\n",
    "When discussing probabilities of events, we will generally use the notation ``P(A)`` to indicate the probability of event A."
   ]
  },
  {
   "cell_type": "code",
   "execution_count": null,
   "metadata": {
    "collapsed": true
   },
   "outputs": [],
   "source": []
  }
 ],
 "metadata": {
  "kernelspec": {
   "display_name": "R",
   "language": "R",
   "name": "ir"
  },
  "language_info": {
   "codemirror_mode": "r",
   "file_extension": ".r",
   "mimetype": "text/x-r-source",
   "name": "R",
   "pygments_lexer": "r",
   "version": "3.2.3"
  }
 },
 "nbformat": 4,
 "nbformat_minor": 2
}
