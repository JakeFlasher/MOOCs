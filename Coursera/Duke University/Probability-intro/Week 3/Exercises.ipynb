{
 "cells": [
  {
   "cell_type": "markdown",
   "metadata": {},
   "source": [
    "# Practice exercises from Chapter 2\n",
    "\n",
    "**Suggested reading**: Chapter 2, Sections 2.1 and 2.2  \n",
    "**Practice exercises**: End of chapter exercises in Chapter 2: 2.1, 2.3, 2.5, 2.7, 2.13, 2.15, 2.19, 2.21, 2.23"
   ]
  },
  {
   "cell_type": "markdown",
   "metadata": {
    "collapsed": true
   },
   "source": [
    "---\n",
    "**2.1) True or false**. Determine if the statements below are true or false, and explain your reasoning.  "
   ]
  },
  {
   "cell_type": "markdown",
   "metadata": {},
   "source": [
    "(a) If a fair coin is tossed many times and the last eight tosses are all heads, then the chance that\n",
    "the next toss will be heads is somewhat less than 50%.  \n",
    "<span style=\"color:navy\">\n",
    "   [Answer]\n",
    "</span>"
   ]
  },
  {
   "cell_type": "markdown",
   "metadata": {},
   "source": [
    "(b) Drawing a face card (jack, queen, or king) and drawing a red card from a full deck of playing\n",
    "cards are mutually exclusive events.  \n",
    "<span style=\"color:navy\">\n",
    "   [Answer]\n",
    "</span>"
   ]
  },
  {
   "cell_type": "markdown",
   "metadata": {},
   "source": [
    "(c) Drawing a face card and drawing an ace from a full deck of playing cards are mutually exclusive\n",
    "events.  \n",
    "<span style=\"color:navy\">\n",
    "   [Answer]\n",
    "</span>"
   ]
  },
  {
   "cell_type": "markdown",
   "metadata": {},
   "source": [
    "---\n",
    "**2.3) Four games, one winner**. Below are four versions of the same game. Your archnemesis gets to pick the version of the game, and then you get to choose how many times to flip a coin: 10 times or 100 times. Identify how many coin flips you should choose for each version of the game. It costs $1 to play each game. Explain your reasoning."
   ]
  },
  {
   "cell_type": "markdown",
   "metadata": {},
   "source": [
    "(a) If the proportion of heads is larger than 0.60, you win $1.  \n",
    "<span style=\"color:navy\">\n",
    "   [Answer]\n",
    "</span>"
   ]
  },
  {
   "cell_type": "markdown",
   "metadata": {},
   "source": [
    "(b) If the proportion of heads is larger than 0.40, you win $1.  \n",
    "<span style=\"color:navy\">\n",
    "   [Answer]\n",
    "</span>"
   ]
  },
  {
   "cell_type": "markdown",
   "metadata": {},
   "source": [
    "(c) If the proportion of heads is between 0.40 and 0.60, you win $1.  \n",
    "<span style=\"color:navy\">\n",
    "   [Answer]\n",
    "</span>"
   ]
  },
  {
   "cell_type": "markdown",
   "metadata": {},
   "source": [
    "(d) If the proportion of heads is smaller than 0.30, you win $1.  \n",
    "<span style=\"color:navy\">\n",
    "   [Answer]\n",
    "</span>"
   ]
  },
  {
   "cell_type": "markdown",
   "metadata": {},
   "source": [
    "---\n",
    "**2.5) Coin flips**. If you flip a fair coin 10 times, what is the probability of"
   ]
  },
  {
   "cell_type": "markdown",
   "metadata": {},
   "source": [
    "(a) getting all tails?  \n",
    "<span style=\"color:navy\">\n",
    "   [Answer]\n",
    "</span>"
   ]
  },
  {
   "cell_type": "markdown",
   "metadata": {},
   "source": [
    "(b) getting all heads?  \n",
    "<span style=\"color:navy\">\n",
    "   [Answer]\n",
    "</span>"
   ]
  },
  {
   "cell_type": "markdown",
   "metadata": {},
   "source": [
    "(c) getting at least one tails?  \n",
    "<span style=\"color:navy\">\n",
    "   [Answer]\n",
    "</span>"
   ]
  },
  {
   "cell_type": "markdown",
   "metadata": {},
   "source": [
    "---\n",
    "**2.7) Swing voters**. A 2012 Pew Research survey asked 2,373 randomly sampled registered voters their political affiliation (Republican, Democrat, or Independent) and whether or not they identify as swing voters. 35% of respondents identified as Independent, 23% identified as swing voters, and 11% identified as both. "
   ]
  },
  {
   "cell_type": "markdown",
   "metadata": {},
   "source": [
    "(a) Are being Independent and being a swing voter disjoint, i.e. mutually exclusive?  \n",
    "<span style=\"color:navy\">\n",
    "   [Answer]\n",
    "</span>"
   ]
  },
  {
   "cell_type": "markdown",
   "metadata": {},
   "source": [
    "(b) Draw a Venn diagram summarizing the variables and their associated probabilities.  \n",
    "<span style=\"color:navy\">\n",
    "   [Answer]\n",
    "</span>"
   ]
  },
  {
   "cell_type": "markdown",
   "metadata": {},
   "source": [
    "(c) What percent of voters are Independent but not swing voters?  \n",
    "<span style=\"color:navy\">\n",
    "   [Answer]\n",
    "</span>"
   ]
  },
  {
   "cell_type": "markdown",
   "metadata": {},
   "source": [
    "(d) What percent of voters are Independent or swing voters?  \n",
    "<span style=\"color:navy\">\n",
    "   [Answer]\n",
    "</span>"
   ]
  },
  {
   "cell_type": "markdown",
   "metadata": {},
   "source": [
    "(e) What percent of voters are neither Independent nor swing voters?  \n",
    "<span style=\"color:navy\">\n",
    "   [Answer]\n",
    "</span>"
   ]
  },
  {
   "cell_type": "markdown",
   "metadata": {},
   "source": [
    "(f) Is the event that someone is a swing voter independent of the event that someone is a political Independent?  \n",
    "<span style=\"color:navy\">\n",
    "   [Answer]\n",
    "</span>"
   ]
  },
  {
   "cell_type": "markdown",
   "metadata": {},
   "source": [
    "---\n",
    "**2.13) Grade distributions**. Each row in the table below is a proposed grade distribution for a class. Identify each as a valid or invalid probability distribution, and explain your reasoning.\n",
    "\n",
    "|     |  A  |   B  |  C  |  D  |   F  | \n",
    "| :-: | --: | ---: | --: | --: | ---: |\n",
    "| (a) | 0.3 |  0.3 | 0.3 | 0.2 |  0.1 |\n",
    "| (b) |   0 |    0 |   1 |   0 |    0 |\n",
    "| (c) | 0.3 |  0.3 | 0.3 |   0 |    0 |\n",
    "| (d) | 0.3 |  0.5 | 0.2 | 0.1 | -0.1 |\n",
    "| (e) | 0.2 |  0.4 | 0.2 | 0.1 |  0.1 |\n",
    "| (f) |   0 | -0.1 | 1.1 |   0 |    0 |"
   ]
  },
  {
   "cell_type": "markdown",
   "metadata": {},
   "source": [
    "(a)\n",
    "<span style=\"color:navy\">\n",
    "   [Answer]\n",
    "</span>"
   ]
  },
  {
   "cell_type": "markdown",
   "metadata": {},
   "source": [
    "(b)\n",
    "<span style=\"color:navy\">\n",
    "   [Answer]\n",
    "</span>"
   ]
  },
  {
   "cell_type": "markdown",
   "metadata": {},
   "source": [
    "(c)\n",
    "<span style=\"color:navy\">\n",
    "   [Answer]\n",
    "</span>"
   ]
  },
  {
   "cell_type": "markdown",
   "metadata": {},
   "source": [
    "(d)\n",
    "<span style=\"color:navy\">\n",
    "   [Answer]\n",
    "</span>"
   ]
  },
  {
   "cell_type": "markdown",
   "metadata": {},
   "source": [
    "(e)\n",
    "<span style=\"color:navy\">\n",
    "   [Answer]\n",
    "</span>"
   ]
  },
  {
   "cell_type": "markdown",
   "metadata": {},
   "source": [
    "(f)\n",
    "<span style=\"color:navy\">\n",
    "   [Answer]\n",
    "</span>"
   ]
  },
  {
   "cell_type": "markdown",
   "metadata": {},
   "source": [
    "---\n",
    "**2.15) Joint and conditional probabilities**. $P(A) = 0.3$, $P(B) = 0.7$"
   ]
  },
  {
   "cell_type": "markdown",
   "metadata": {},
   "source": [
    "(a) Can you compute $P(A \\text{ and } B)$ if you only know $P(A)$ and $P(B)$?  \n",
    "<span style=\"color:navy\">\n",
    "   [Answer]\n",
    "</span>"
   ]
  },
  {
   "cell_type": "markdown",
   "metadata": {},
   "source": [
    "(b) Assuming that events A and B arise from independent random processes,  \n",
    "- i. what is $P(A \\text{ and } B)$?  \n",
    "<span style=\"color:navy\">\n",
    "   [Answer]\n",
    "</span>\n",
    "\n",
    "- ii. what is $P(A \\text{ or } B)$?  \n",
    "<span style=\"color:navy\">\n",
    "   [Answer]\n",
    "</span>\n",
    "\n",
    "- iii. what is $P(A \\text{ | } B)$?  \n",
    "<span style=\"color:navy\">\n",
    "   [Answer]\n",
    "</span>"
   ]
  },
  {
   "cell_type": "markdown",
   "metadata": {},
   "source": [
    "(c) If we are given that $P(A \\text{ and } B) = 0.1$, are the random variables giving rise to events A and\n",
    "B independent?  \n",
    "<span style=\"color:navy\">\n",
    "   [Answer]\n",
    "</span>"
   ]
  },
  {
   "cell_type": "markdown",
   "metadata": {},
   "source": [
    "(d) If we are given that $P(A \\text{ and } B) = 0.1$, what is $P(A \\text{ | } B)$?  \n",
    "<span style=\"color:navy\">\n",
    "   [Answer]\n",
    "</span>"
   ]
  },
  {
   "cell_type": "markdown",
   "metadata": {},
   "source": [
    "---\n",
    "**2.19) Burger preferences**. A 2010 SurveyUSA poll asked 500 Los Angeles residents, \"What is the best hamburger place in Southern California? Five Guys Burgers? In-N-Out Burger? Fat Burger? Tommy's Hamburgers? Umami Burger? Or somewhere else?\" The distribution of responses by gender is shown below.\n",
    "\n",
    "|           |                    | Male | Female | Total |\n",
    "| :-------- | :----------------- | ---: | -----: | ----: |\n",
    "|           | Five Guys Burgers  |    5 |      6 |    11 | \n",
    "|           | In-N-Out Burger    |  162 |    181 |   343 |\n",
    "| Best      | Fat Burger         |   10 |     12 |    22 |\n",
    "| hamburger | Tommy's Hamburgers |   27 |     27 |    54 |\n",
    "| place     | Umami Burger       |    5 |      1 |     6 |\n",
    "|           | Other              |   26 |     20 |    46 |\n",
    "|           | Total              |  248 |    252 |   500 |"
   ]
  },
  {
   "cell_type": "markdown",
   "metadata": {},
   "source": [
    "(a) Are being female and liking Five Guys Burgers mutually exclusive?  \n",
    "<span style=\"color:navy\">\n",
    "   [Answer]\n",
    "</span>"
   ]
  },
  {
   "cell_type": "markdown",
   "metadata": {},
   "source": [
    "(b) What is the probability that a randomly chosen male likes In-N-Out the best?  \n",
    "<span style=\"color:navy\">\n",
    "   [Answer]\n",
    "</span>"
   ]
  },
  {
   "cell_type": "markdown",
   "metadata": {},
   "source": [
    "(c) What is the probability that a randomly chosen female likes In-N-Out the best?  \n",
    "<span style=\"color:navy\">\n",
    "   [Answer]\n",
    "</span>"
   ]
  },
  {
   "cell_type": "markdown",
   "metadata": {},
   "source": [
    "(d) What is the probability that a man and a woman who are dating both like In-N-Out the best? Note any assumption you make and evaluate whether you think that assumption is reasonable.  \n",
    "<span style=\"color:navy\">\n",
    "   [Answer]\n",
    "</span>"
   ]
  },
  {
   "cell_type": "markdown",
   "metadata": {},
   "source": [
    "(e) What is the probability that a randomly chosen person likes Umami best or that person is\n",
    "female?  \n",
    "<span style=\"color:navy\">\n",
    "   [Answer]\n",
    "</span>"
   ]
  },
  {
   "cell_type": "markdown",
   "metadata": {},
   "source": [
    "---\n",
    "**2.21) Drawing box plots**. After an introductory statistics course, 80% of students can successfully construct box plots. Of those who can construct box plots, 86% passed, while only 65% of those students who could not construct box plots passed."
   ]
  },
  {
   "cell_type": "markdown",
   "metadata": {},
   "source": [
    "(a) Construct a tree diagram of this scenario.  \n",
    "<span style=\"color:navy\">\n",
    "   [Answer]\n",
    "</span>"
   ]
  },
  {
   "cell_type": "markdown",
   "metadata": {},
   "source": [
    "(b) Calculate the probability that a student is able to construct a box plot if it is known that he\n",
    "passed.\n",
    "<span style=\"color:navy\">\n",
    "   [Answer]\n",
    "</span>"
   ]
  },
  {
   "cell_type": "markdown",
   "metadata": {},
   "source": [
    "---\n",
    "**2.23) HIV in Swaziland**. Swaziland has the highest HIV prevalence in the world: 25.9% of this country's population is infected with HIV. 66 The ELISA test is one of the first and most accurate tests for HIV. For those who carry HIV, the ELISA test is 99.7% accurate. For those who do not carry HIV, the test is 92.6% accurate."
   ]
  },
  {
   "cell_type": "markdown",
   "metadata": {},
   "source": [
    "If an individual from Swaziland has tested positive, what is the probability that he carries HIV?  \n",
    "<span style=\"color:navy\">\n",
    "   [Answer]\n",
    "</span>"
   ]
  },
  {
   "cell_type": "code",
   "execution_count": null,
   "metadata": {
    "collapsed": true
   },
   "outputs": [],
   "source": []
  }
 ],
 "metadata": {
  "kernelspec": {
   "display_name": "R",
   "language": "R",
   "name": "ir"
  },
  "language_info": {
   "codemirror_mode": "r",
   "file_extension": ".r",
   "mimetype": "text/x-r-source",
   "name": "R",
   "pygments_lexer": "r",
   "version": "3.2.3"
  }
 },
 "nbformat": 4,
 "nbformat_minor": 2
}
