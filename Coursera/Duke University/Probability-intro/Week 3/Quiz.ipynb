{
 "cells": [
  {
   "cell_type": "markdown",
   "metadata": {},
   "source": [
    "# Week 3: Practice Quiz"
   ]
  },
  {
   "cell_type": "markdown",
   "metadata": {},
   "source": [
    "1) Shown below are four Venn diagrams. In which of the diagrams does the shaded area represent A and B and C?\n",
    "\n",
    " \n",
    "<table align=\"left\" border=\"0\">\n",
    "    <tr>\n",
    "        <td>&#9744; I.</td>\n",
    "        <td><img src=\"images/quiz_1a.jpg\" align=\"left\" width=\"100\"/></td>\n",
    "    </tr>\n",
    "    <tr>\n",
    "        <td>&#9744; II.</td>\n",
    "        <td><img src=\"images/quiz_1b.jpg\" align=\"left\" width=\"100\"/></td>\n",
    "    </tr>\n",
    "    <tr>\n",
    "        <td>&#9744; III.</td>\n",
    "        <td><img src=\"images/quiz_1c.jpg\" align=\"left\" width=\"100\"/></td>\n",
    "    </tr>\n",
    "    <tr>\n",
    "        <td>&#9745; IV.</td>\n",
    "        <td><img src=\"images/quiz_1d.jpg\" align=\"left\" width=\"100\"/></td>\n",
    "    </tr>\n",
    "</table>"
   ]
  },
  {
   "cell_type": "markdown",
   "metadata": {},
   "source": [
    "2) Which of the following is **false** about probability distributions?  \n",
    "&#9745; The outcomes listed must be independent.  \n",
    "&#9744; Each probability should be positive, less than or equal to 1.  \n",
    "&#9744; Each probability should be greater than or equal to 0.  \n",
    "&#9744; The probabilities must total 1.  "
   ]
  },
  {
   "cell_type": "markdown",
   "metadata": {},
   "source": [
    "3) Last semester, out of 170 students taking a particular statistics class, 71 students were \"majoring\" in social sciences and 53 students were majoring in pre-medical studies. There were 6 students who were majoring in both pre-medical studies and social sciences. What is the probability that a randomly chosen student is majoring in social sciences, given that s/he is majoring in pre-medical studies?  \n",
    "&#9745; 6/53  \n",
    "&#9744; 6/71  \n",
    "&#9744; (71+53−6)/170  \n",
    "&#9744; 6/170  "
   ]
  },
  {
   "cell_type": "markdown",
   "metadata": {},
   "source": [
    "*Solving*: Let's write down the information:\n",
    "\n",
    "Total students: 170 in statistics class (TOTAL)  \n",
    "Majoring social sciences: 71 (MSS)  \n",
    "Majoring pre-medical studies: 53 (MPM)  \n",
    "Majoring pre-medical studies and social sciences: 6 (MPM & MSS)  \n",
    "\n",
    "$P(MSS) = \\frac{MSS}{TOTAL} = \\frac{71}{170} = 0.4176$<br>\n",
    "$P(MPM) = \\frac{MPM}{TOTAL} = \\frac{53}{170} = 0.3118$<br>\n",
    "$P(MPM \\& MSS) = \\frac{MPM\\ \\&\\ MSS}{TOTAL} = \\frac{6}{170} = 0.0353$<br>\n",
    "\n",
    "Question: What is the probability that a randomly chosen student is majoring in social sciences, given that s/he is majoring in pre-medical studies? Thus, the question asks what is `P(MSS | MPM)`? Using the Bayes' inference, we have:\n",
    "\n",
    "$P(MSS\\ |\\ MPM) = \\frac{P(MPM\\ \\&\\ MSS)}{P(MPM)} = \\frac{0.0353}{0.3118} = 0.1132 \\approx 11\\%$\n",
    "\n",
    "Não usando as probabilidades, temos:\n",
    "\n",
    "$P(MSS\\ |\\ MPM) = \\frac{(MPM\\ \\&\\ MSS)}{MPM} = \\frac{6}{53} = 0.1132 \\approx 11\\%$"
   ]
  }
 ],
 "metadata": {
  "kernelspec": {
   "display_name": "R",
   "language": "R",
   "name": "ir"
  },
  "language_info": {
   "codemirror_mode": "r",
   "file_extension": ".r",
   "mimetype": "text/x-r-source",
   "name": "R",
   "pygments_lexer": "r",
   "version": "3.2.3"
  }
 },
 "nbformat": 4,
 "nbformat_minor": 2
}
