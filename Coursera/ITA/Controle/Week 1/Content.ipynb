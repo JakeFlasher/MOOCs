{
 "cells": [
  {
   "cell_type": "markdown",
   "metadata": {},
   "source": [
    "# Output of the system\n",
    "\n",
    "Input = $u$ <br>\n",
    "Output = $y$ <br>\n",
    "Reference = $r$ <br>\n",
    "Error = $e$ <br>\n",
    "\n",
    "$$e = r - y $$"
   ]
  },
  {
   "cell_type": "code",
   "execution_count": 4,
   "metadata": {},
   "outputs": [],
   "source": [
    "%matplotlib inline\n",
    "from matplotlib import pyplot as plt\n",
    "import numpy as np"
   ]
  },
  {
   "cell_type": "code",
   "execution_count": 38,
   "metadata": {},
   "outputs": [
    {
     "data": {
      "image/png": "[encoded data removed]",
      "text/plain": [
       "<matplotlib.figure.Figure at 0x7f939995a890>"
      ]
     },
     "metadata": {},
     "output_type": "display_data"
    }
   ],
   "source": [
    "time = range(0, 16)\n",
    "reference = [100]*len(time)\n",
    "min_val = [90]*len(time)\n",
    "max_val = [110]*len(time)\n",
    "max_acc = [8]*100\n",
    "closed = [0, 10, 25, 39, 50, 65, 78, 90, 105, 104, 100, 98, 99, 100, 100, 100]\n",
    "ideal = [0, 10, 23, 37, 50, 63, 76, 88, 100, 100, 100, 100, 100, 100, 100, 100]\n",
    "\n",
    "plt.plot(time, reference, '0.5', time, min_val, '0.5', time, max_val, '0.5', time, closed, 'g--', time, ideal, 'r')\n",
    "plt.xlim(0, 15)\n",
    "plt.ylim(0, 130)\n",
    "plt.show()"
   ]
  },
  {
   "cell_type": "code",
   "execution_count": null,
   "metadata": {
    "collapsed": true
   },
   "outputs": [],
   "source": []
  }
 ],
 "metadata": {
  "kernelspec": {
   "display_name": "Python 2",
   "language": "python",
   "name": "python2"
  },
  "language_info": {
   "codemirror_mode": {
    "name": "ipython",
    "version": 2
   },
   "file_extension": ".py",
   "mimetype": "text/x-python",
   "name": "python",
   "nbconvert_exporter": "python",
   "pygments_lexer": "ipython2",
   "version": "2.7.13"
  }
 },
 "nbformat": 4,
 "nbformat_minor": 2
}
