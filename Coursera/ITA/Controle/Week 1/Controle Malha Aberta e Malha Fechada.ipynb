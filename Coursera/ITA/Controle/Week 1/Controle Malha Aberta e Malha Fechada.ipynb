{
 "cells": [
  {
   "cell_type": "markdown",
   "metadata": {},
   "source": [
    "## Análise\n",
    "- Verificar se o sistema atende aos requisitos\n",
    "\n",
    "## Projeto\n",
    "- Ajustar o desempenho para atender aos requisitos\n",
    "\n",
    "\n",
    "## Controle em Malha Aberta\n",
    "\n",
    "- Não contém realimentação\n",
    "- O sistema tem como parâmetro apenas um valor de referência para tentar atingir\n",
    "\n",
    "## Controle em Malha Fechada\n",
    "\n",
    "- O sistema usa a realimentação da saída para gerar um sinal de erro utilizado no ajuste\n",
    "\n",
    "<img src=\"images/tipos_controle.svg\" />"
   ]
  },
  {
   "cell_type": "markdown",
   "metadata": {},
   "source": [
    "## Nomeclatura\n",
    "\n",
    "A nomeclatura é definida como:\n",
    "\n",
    "Referência: $r$($t$) <br/>\n",
    "Erro: $e$($t$) <br/>\n",
    "Entrada: $u$($t$) <br/>\n",
    "Saída: $y$($t$) <br/>\n",
    "Sinal de ganho do sistema: $k$ <br/>\n",
    "\n",
    "<img src=\"images/nomeclatura.svg\" />"
   ]
  },
  {
   "cell_type": "markdown",
   "metadata": {},
   "source": [
    "# Modelagem Massa-Mola-Amortecedor\n",
    "\n",
    "A modelagem consiste em criar um modelo matemático para o problema de massa-mola-amortecedor conforme o desenho abaixo:\n",
    "\n",
    "<img src=\"images/massa_mola_amortecedor.svg\" />\n",
    "\n",
    "Para tanto, parte-se do princípio da lei de Newton em que a soma de todas as forças é igual a massa vezes a aceleração.\n",
    "\n",
    "$$ \\sum \\text{forças} = m.a $$"
   ]
  },
  {
   "cell_type": "code",
   "execution_count": null,
   "metadata": {
    "collapsed": true
   },
   "outputs": [],
   "source": []
  }
 ],
 "metadata": {
  "kernelspec": {
   "display_name": "Python 2",
   "language": "python",
   "name": "python2"
  },
  "language_info": {
   "codemirror_mode": {
    "name": "ipython",
    "version": 2
   },
   "file_extension": ".py",
   "mimetype": "text/x-python",
   "name": "python",
   "nbconvert_exporter": "python",
   "pygments_lexer": "ipython2",
   "version": "2.7.13"
  }
 },
 "nbformat": 4,
 "nbformat_minor": 2
}
