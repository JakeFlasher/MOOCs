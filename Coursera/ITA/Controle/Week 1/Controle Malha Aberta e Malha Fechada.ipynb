{
 "cells": [
  {
   "cell_type": "markdown",
   "metadata": {},
   "source": [
    "## Análise\n",
    "- Verificar se o sistema atende aos requisitos\n",
    "\n",
    "## Projeto\n",
    "- Ajustar o desempenho para atender aos requisitos\n",
    "\n",
    "\n",
    "## Controle em Malha Aberta\n",
    "\n",
    "- Não contém realimentação\n",
    "- O sistema tem como parâmetro apenas um valor de referência para tentar atingir\n",
    "\n",
    "## Controle em Malha Fechada\n",
    "\n",
    "- O sistema usa a realimentação da saída para gerar um sinal de erro utilizado no ajuste\n",
    "\n",
    "<img src=\"images/tipos_controle.svg\" />"
   ]
  },
  {
   "cell_type": "markdown",
   "metadata": {},
   "source": []
  },
  {
   "cell_type": "code",
   "execution_count": null,
   "metadata": {
    "collapsed": true
   },
   "outputs": [],
   "source": []
  }
 ],
 "metadata": {
  "kernelspec": {
   "display_name": "Python 2",
   "language": "python",
   "name": "python2"
  },
  "language_info": {
   "codemirror_mode": {
    "name": "ipython",
    "version": 2
   },
   "file_extension": ".py",
   "mimetype": "text/x-python",
   "name": "python",
   "nbconvert_exporter": "python",
   "pygments_lexer": "ipython2",
   "version": "2.7.13"
  }
 },
 "nbformat": 4,
 "nbformat_minor": 2
}
