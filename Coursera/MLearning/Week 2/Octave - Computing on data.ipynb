{
 "cells": [
  {
   "cell_type": "code",
   "execution_count": 8,
   "metadata": {
    "collapsed": false
   },
   "outputs": [
    {
     "name": "stdout",
     "output_type": "stream",
     "text": [
      "ans =\n",
      "\n",
      "     657     708     759\n",
      "    6570    7080    7590\n",
      "   65700   70800   75900\n",
      "\n"
     ]
    }
   ],
   "source": [
    "A = [1 2 3; 10 20 30; 100 200 300];\n",
    "B = [7 8 9; 70 80 90; 170 180 190];\n",
    "\n",
    "% multiply two matrices\n",
    "A*B"
   ]
  },
  {
   "cell_type": "code",
   "execution_count": 6,
   "metadata": {
    "collapsed": false
   },
   "outputs": [
    {
     "name": "stdout",
     "output_type": "stream",
     "text": [
      "ans =\n",
      "\n",
      "       7      16      27\n",
      "     700    1600    2700\n",
      "   17000   36000   57000\n",
      "\n"
     ]
    }
   ],
   "source": [
    "% multiplication elementwise\n",
    "A.*B \n",
    "\n",
    "% also applies to:\n",
    "% - division: \n",
    "%% A./B\n",
    "% - log scale:\n",
    "%% log(A)\n",
    "% - exponential:\n",
    "%% exp(A)\n",
    "% - absolute value\n",
    "%% abs(A)"
   ]
  },
  {
   "cell_type": "code",
   "execution_count": 10,
   "metadata": {
    "collapsed": false
   },
   "outputs": [
    {
     "name": "stdout",
     "output_type": "stream",
     "text": [
      "warning: operator +: automatic broadcasting operation applied\n",
      "A =\n",
      "\n",
      "     3     4     5\n",
      "    12    22    32\n",
      "   102   202   302\n",
      "\n",
      "ans =\n",
      "\n",
      "     4     5     6\n",
      "    13    23    33\n",
      "   103   203   303\n",
      "\n"
     ]
    }
   ],
   "source": [
    "% - Adding 1 to each element\n",
    "A = A + ones(length(A), 1)\n",
    "% or just add 1 to matrix\n",
    "A + 1"
   ]
  },
  {
   "cell_type": "code",
   "execution_count": 11,
   "metadata": {
    "collapsed": false
   },
   "outputs": [
    {
     "name": "stdout",
     "output_type": "stream",
     "text": [
      "ans =\n",
      "\n",
      "     3    12   102\n",
      "     4    22   202\n",
      "     5    32   302\n",
      "\n"
     ]
    }
   ],
   "source": [
    "% transposed of a matrix\n",
    "A'"
   ]
  },
  {
   "cell_type": "code",
   "execution_count": 24,
   "metadata": {
    "collapsed": false
   },
   "outputs": [
    {
     "name": "stdout",
     "output_type": "stream",
     "text": [
      "A =\n",
      "\n",
      "     3     4     5\n",
      "    12    22    32\n",
      "   102   202   302\n",
      "\n",
      "ans =\n",
      "\n",
      "   102   202   302\n",
      "\n",
      "maxi =\n",
      "\n",
      "   102   202   302\n",
      "\n",
      "index =\n",
      "\n",
      "   3   3   3\n",
      "\n",
      "ans =\n",
      "\n",
      "   102   202   302\n",
      "\n",
      "ans =\n",
      "\n",
      "     5\n",
      "    32\n",
      "   302\n",
      "\n",
      "ans =  302\n"
     ]
    }
   ],
   "source": [
    "A\n",
    "% maximum value of each column\n",
    "max(A)\n",
    "\n",
    "% maximum value and its index\n",
    "[maxi, index] = max(A)\n",
    "\n",
    "%columnwise maximum\n",
    "max(A,[],1) %max dimension in dimension 1 of A - columns\n",
    "max(A,[],2) %max dimension in dimension 2 of A - rows\n",
    "\n",
    "%maximum value of the whole matrix\n",
    "max(max(A))"
   ]
  },
  {
   "cell_type": "code",
   "execution_count": 16,
   "metadata": {
    "collapsed": false
   },
   "outputs": [
    {
     "name": "stdout",
     "output_type": "stream",
     "text": [
      "ans =\n",
      "\n",
      "   1   1   0   0\n",
      "\n"
     ]
    }
   ],
   "source": [
    "% elementwise comparison\n",
    "R = [1 2 3 4];\n",
    "\n",
    "R < 3 % 1 True 0 False"
   ]
  },
  {
   "cell_type": "code",
   "execution_count": 17,
   "metadata": {
    "collapsed": false
   },
   "outputs": [
    {
     "name": "stdout",
     "output_type": "stream",
     "text": [
      "ans =\n",
      "\n",
      "   1   2\n",
      "\n"
     ]
    }
   ],
   "source": [
    "% finding elements\n",
    "find(R < 3)"
   ]
  },
  {
   "cell_type": "code",
   "execution_count": 19,
   "metadata": {
    "collapsed": false
   },
   "outputs": [
    {
     "name": "stdout",
     "output_type": "stream",
     "text": [
      "m =\n",
      "\n",
      "   8   1   6\n",
      "   3   5   7\n",
      "   4   9   2\n",
      "\n"
     ]
    }
   ],
   "source": [
    "% create a magic square with size=N\n",
    "m = magic(3)"
   ]
  },
  {
   "cell_type": "code",
   "execution_count": 20,
   "metadata": {
    "collapsed": false
   },
   "outputs": [
    {
     "name": "stdout",
     "output_type": "stream",
     "text": [
      "r =\n",
      "\n",
      "   2\n",
      "   3\n",
      "   1\n",
      "   2\n",
      "   1\n",
      "   3\n",
      "\n",
      "c =\n",
      "\n",
      "   1\n",
      "   1\n",
      "   2\n",
      "   2\n",
      "   3\n",
      "   3\n",
      "\n"
     ]
    }
   ],
   "source": [
    "% return the index of the row and column where the elements found are\n",
    "[r, c] = find(m < 7)"
   ]
  },
  {
   "cell_type": "code",
   "execution_count": 21,
   "metadata": {
    "collapsed": false
   },
   "outputs": [
    {
     "name": "stdout",
     "output_type": "stream",
     "text": [
      "ans =  10\n",
      "ans =  24\n"
     ]
    }
   ],
   "source": [
    "% sum all the elements\n",
    "sum(R)\n",
    "% product of all elements\n",
    "prod(R)"
   ]
  },
  {
   "cell_type": "code",
   "execution_count": 25,
   "metadata": {
    "collapsed": false
   },
   "outputs": [
    {
     "name": "stdout",
     "output_type": "stream",
     "text": [
      "ans =\n",
      "\n",
      "   1   2   3   4\n",
      "\n",
      "ans =\n",
      "\n",
      "   1   2   3   4\n",
      "\n"
     ]
    }
   ],
   "source": [
    "% round elements down\n",
    "floor(R)\n",
    "% round elements up\n",
    "ceil(R)"
   ]
  },
  {
   "cell_type": "code",
   "execution_count": 26,
   "metadata": {
    "collapsed": false
   },
   "outputs": [
    {
     "name": "stdout",
     "output_type": "stream",
     "text": [
      "A =\n",
      "\n",
      "     3     4     5\n",
      "    12    22    32\n",
      "   102   202   302\n",
      "\n",
      "ans =\n",
      "\n",
      "   102   202   302\n",
      "    12    22    32\n",
      "     3     4     5\n",
      "\n"
     ]
    }
   ],
   "source": [
    "A\n",
    "%flip the matrix by the top\n",
    "flipud(A)"
   ]
  },
  {
   "cell_type": "code",
   "execution_count": 27,
   "metadata": {
    "collapsed": false
   },
   "outputs": [
    {
     "name": "stdout",
     "output_type": "stream",
     "text": [
      "ans =\n",
      "\n",
      "   0.3733734   0.3355856  -0.0422923\n",
      "   0.0925926   0.0833333  -0.0092593\n",
      "  -0.1881882  -0.1689189   0.0237738\n",
      "\n"
     ]
    }
   ],
   "source": [
    "% invert the matrix\n",
    "pinv(A)"
   ]
  },
  {
   "cell_type": "code",
   "execution_count": null,
   "metadata": {
    "collapsed": true
   },
   "outputs": [],
   "source": []
  }
 ],
 "metadata": {
  "kernelspec": {
   "display_name": "Octave",
   "language": "octave",
   "name": "octave"
  },
  "language_info": {
   "file_extension": ".m",
   "help_links": [
    {
     "text": "MetaKernel Magics",
     "url": "https://github.com/calysto/metakernel/blob/master/metakernel/magics/README.md"
    }
   ],
   "mimetype": "text/x-octave",
   "name": "octave",
   "version": "0.15.10"
  }
 },
 "nbformat": 4,
 "nbformat_minor": 0
}
