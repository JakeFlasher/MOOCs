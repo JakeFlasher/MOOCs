{
 "cells": [
  {
   "cell_type": "code",
   "execution_count": 3,
   "metadata": {
    "collapsed": false
   },
   "outputs": [
    {
     "name": "stdout",
     "output_type": "stream",
     "text": [
      "v =\n",
      "\n",
      "      2      4      8     16     32     64    128    256    512   1024\n",
      "\n"
     ]
    }
   ],
   "source": [
    "% FOR statement\n",
    "\n",
    "for i=1:10,\n",
    "    v(i) = 2^i;\n",
    "end;\n",
    "v"
   ]
  },
  {
   "cell_type": "code",
   "execution_count": 4,
   "metadata": {
    "collapsed": false
   },
   "outputs": [
    {
     "name": "stdout",
     "output_type": "stream",
     "text": [
      " 1\n",
      " 2\n",
      " 3\n",
      " 4\n",
      " 5\n",
      " 6\n",
      " 7\n",
      " 8\n",
      " 9\n",
      " 10\n"
     ]
    }
   ],
   "source": [
    "%also works as\n",
    "indices=1:10;\n",
    "for i=indices,\n",
    "    disp(i);\n",
    "end;"
   ]
  },
  {
   "cell_type": "code",
   "execution_count": 7,
   "metadata": {
    "collapsed": false
   },
   "outputs": [
    {
     "name": "stdout",
     "output_type": "stream",
     "text": [
      "v =\n",
      "\n",
      "    100    100    100    100    100     64    128    256    512   1024\n",
      "\n"
     ]
    }
   ],
   "source": [
    "% WHILE statement\n",
    "\n",
    "i =1;\n",
    "while i<=5,\n",
    "    v(i) = 100;\n",
    "    i = i+1;\n",
    "end;\n",
    "v"
   ]
  },
  {
   "cell_type": "code",
   "execution_count": 9,
   "metadata": {
    "collapsed": false
   },
   "outputs": [
    {
     "name": "stdout",
     "output_type": "stream",
     "text": [
      "v =\n",
      "\n",
      "    200    200    200    100    100     64    128    256    512   1024\n",
      "\n"
     ]
    }
   ],
   "source": [
    "i =1;\n",
    "while true,\n",
    "    v(i) = 200;\n",
    "    i = i+1;\n",
    "    if i == 4,\n",
    "        break;\n",
    "    end;\n",
    "end;\n",
    "v"
   ]
  },
  {
   "cell_type": "code",
   "execution_count": 10,
   "metadata": {
    "collapsed": false
   },
   "outputs": [
    {
     "name": "stdout",
     "output_type": "stream",
     "text": [
      "Value 200\r\n"
     ]
    }
   ],
   "source": [
    "if v(1) == 200,\n",
    "    disp('Value 200')\n",
    "elseif v(1) == 100,\n",
    "    disp('Value 100')\n",
    "else,\n",
    "    disp('Value other')\n",
    "end;"
   ]
  }
 ],
 "metadata": {
  "kernelspec": {
   "display_name": "Octave",
   "language": "octave",
   "name": "octave"
  },
  "language_info": {
   "file_extension": ".m",
   "help_links": [
    {
     "text": "MetaKernel Magics",
     "url": "https://github.com/calysto/metakernel/blob/master/metakernel/magics/README.md"
    }
   ],
   "mimetype": "text/x-octave",
   "name": "octave",
   "version": "0.15.10"
  }
 },
 "nbformat": 4,
 "nbformat_minor": 0
}
