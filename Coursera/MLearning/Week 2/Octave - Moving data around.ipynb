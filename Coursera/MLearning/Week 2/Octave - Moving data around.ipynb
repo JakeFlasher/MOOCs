{
 "cells": [
  {
   "cell_type": "code",
   "execution_count": 2,
   "metadata": {
    "collapsed": false
   },
   "outputs": [
    {
     "name": "stdout",
     "output_type": "stream",
     "text": [
      "s =\n",
      "\n",
      "   2   3\n",
      "\n",
      "s1 =  2\n"
     ]
    }
   ],
   "source": [
    "% Getting sizes of a matrix\n",
    "A = rand(2,3);\n",
    "s = size(A)\n",
    "s1 = size(A, 1)"
   ]
  },
  {
   "cell_type": "code",
   "execution_count": 5,
   "metadata": {
    "collapsed": false
   },
   "outputs": [
    {
     "name": "stdout",
     "output_type": "stream",
     "text": [
      "l =  3\n",
      "l =  5\n"
     ]
    }
   ],
   "source": [
    "% get the size of the longest dimention\n",
    "l = length(A)\n",
    "\n",
    "% common to use when want to know the size of a column vector\n",
    "B = [1;2;3;4;5];\n",
    "l = length(B)"
   ]
  },
  {
   "cell_type": "code",
   "execution_count": 6,
   "metadata": {
    "collapsed": true
   },
   "outputs": [],
   "source": [
    "% load data from file `X.dat` and store in variable with the name of the file (`X`)\n",
    "load X.dat"
   ]
  },
  {
   "cell_type": "code",
   "execution_count": 7,
   "metadata": {
    "collapsed": false
   },
   "outputs": [
    {
     "name": "stdout",
     "output_type": "stream",
     "text": [
      "X =\n",
      "\n",
      "   10    2\n",
      "   20    3\n",
      "   30    2\n",
      "   40    4\n",
      "\n"
     ]
    }
   ],
   "source": [
    "X"
   ]
  },
  {
   "cell_type": "code",
   "execution_count": 8,
   "metadata": {
    "collapsed": false
   },
   "outputs": [
    {
     "name": "stdout",
     "output_type": "stream",
     "text": [
      "Variables in the current scope:\n",
      "\n",
      "A            X            l            s1\n",
      "B            _figHandles  s\n",
      "\n"
     ]
    }
   ],
   "source": [
    "% show variables in memory\n",
    "who"
   ]
  },
  {
   "cell_type": "code",
   "execution_count": 9,
   "metadata": {
    "collapsed": false
   },
   "outputs": [
    {
     "name": "stdout",
     "output_type": "stream",
     "text": [
      "Variables in the current scope:\n",
      "\n",
      "   Attr Name             Size                     Bytes  Class\n",
      "   ==== ====             ====                     =====  ===== \n",
      "        A                2x3                         48  double\n",
      "        B                5x1                         40  double\n",
      "        X                4x2                         64  double\n",
      "        _figHandles      0x1                          0  double\n",
      "        l                1x1                          8  double\n",
      "        s                1x2                         16  double\n",
      "        s1               1x1                          8  double\n",
      "\n",
      "Total is 23 elements using 184 bytes\n",
      "\n"
     ]
    }
   ],
   "source": [
    "% show variables in memory with details\n",
    "whos"
   ]
  },
  {
   "cell_type": "code",
   "execution_count": 10,
   "metadata": {
    "collapsed": true
   },
   "outputs": [],
   "source": [
    "% remove data from memory\n",
    "clear B"
   ]
  },
  {
   "cell_type": "code",
   "execution_count": 11,
   "metadata": {
    "collapsed": false
   },
   "outputs": [
    {
     "name": "stdout",
     "output_type": "stream",
     "text": [
      "Variables in the current scope:\n",
      "\n",
      "A            X            _figHandles  l            s            s1\n",
      "\n"
     ]
    }
   ],
   "source": [
    "% show variables\n",
    "who"
   ]
  },
  {
   "cell_type": "code",
   "execution_count": 13,
   "metadata": {
    "collapsed": false
   },
   "outputs": [],
   "source": [
    "% save from X in `X_saved.dat`\n",
    "save X_saved.dat X"
   ]
  },
  {
   "cell_type": "code",
   "execution_count": 17,
   "metadata": {
    "collapsed": false
   },
   "outputs": [
    {
     "name": "stdout",
     "output_type": "stream",
     "text": [
      "X =\n",
      "\n",
      "   10    2\n",
      "   20    3\n",
      "   30    2\n",
      "   40    4\n",
      "\n",
      "ans =  20\n",
      "ans =\n",
      "\n",
      "   20    3\n",
      "\n"
     ]
    }
   ],
   "source": [
    "% accessing elements of a matrix\n",
    "X\n",
    "\n",
    "% get the element of second row, first column\n",
    "X(2,1)\n",
    "\n",
    "% get all elements of the second row\n",
    "X(2,:)"
   ]
  },
  {
   "cell_type": "code",
   "execution_count": 18,
   "metadata": {
    "collapsed": false
   },
   "outputs": [
    {
     "name": "stdout",
     "output_type": "stream",
     "text": [
      "ans =\n",
      "\n",
      "   10    2\n",
      "   20    3\n",
      "\n"
     ]
    }
   ],
   "source": [
    "% get all elements of the first and second rows\n",
    "X([1,2], :)"
   ]
  },
  {
   "cell_type": "code",
   "execution_count": 19,
   "metadata": {
    "collapsed": false
   },
   "outputs": [
    {
     "name": "stdout",
     "output_type": "stream",
     "text": [
      "X =\n",
      "\n",
      "    1    3\n",
      "    2    2\n",
      "   30    2\n",
      "   40    4\n",
      "\n"
     ]
    }
   ],
   "source": [
    "% assing value to a part of the matrix\n",
    "X([1,2],:) = [1 3; 2 2]"
   ]
  },
  {
   "cell_type": "code",
   "execution_count": 23,
   "metadata": {
    "collapsed": false
   },
   "outputs": [
    {
     "name": "stdout",
     "output_type": "stream",
     "text": [
      "X =\n",
      "\n",
      "    1    3    5\n",
      "    2    2    5\n",
      "   30    2    5\n",
      "   40    4    5\n",
      "\n"
     ]
    }
   ],
   "source": [
    "% append another column vector to the matrix\n",
    "X = [X, [5; 5; 5; 5]]"
   ]
  },
  {
   "cell_type": "code",
   "execution_count": 24,
   "metadata": {
    "collapsed": false
   },
   "outputs": [
    {
     "name": "stdout",
     "output_type": "stream",
     "text": [
      "cX =\n",
      "\n",
      "    1\n",
      "    2\n",
      "   30\n",
      "   40\n",
      "    3\n",
      "    2\n",
      "    2\n",
      "    4\n",
      "    5\n",
      "    5\n",
      "    5\n",
      "    5\n",
      "\n"
     ]
    }
   ],
   "source": [
    "% put all elements in a single column vector\n",
    "cX = X(:)"
   ]
  },
  {
   "cell_type": "code",
   "execution_count": 26,
   "metadata": {
    "collapsed": false
   },
   "outputs": [
    {
     "name": "stdout",
     "output_type": "stream",
     "text": [
      "conc =\n",
      "\n",
      "    1    3    5    0    0    0    0\n",
      "    2    2    5    1    1    1    1\n",
      "   30    2    5    2    2    2    2\n",
      "   40    4    5    3    3    3    3\n",
      "\n"
     ]
    }
   ],
   "source": [
    "% concatenate two matrices\n",
    "V = [0 0 0 0; 1 1 1 1; 2 2 2 2; 3 3 3 3];\n",
    "conc = [X V]"
   ]
  },
  {
   "cell_type": "code",
   "execution_count": 27,
   "metadata": {
    "collapsed": false
   },
   "outputs": [
    {
     "name": "stdout",
     "output_type": "stream",
     "text": [
      "conc =\n",
      "\n",
      "    1    3    5\n",
      "    2    2    5\n",
      "   30    2    5\n",
      "   40    4    5\n",
      "    0    0    0\n",
      "    1    1    1\n",
      "    2    2    2\n",
      "    3    3    3\n",
      "\n"
     ]
    }
   ],
   "source": [
    "% concatenating the matrices in the bottom\n",
    "V = [0 0 0; 1 1 1; 2 2 2; 3 3 3];\n",
    "conc = [X; V]"
   ]
  },
  {
   "cell_type": "code",
   "execution_count": null,
   "metadata": {
    "collapsed": true
   },
   "outputs": [],
   "source": []
  }
 ],
 "metadata": {
  "kernelspec": {
   "display_name": "Octave",
   "language": "octave",
   "name": "octave"
  },
  "language_info": {
   "file_extension": ".m",
   "help_links": [
    {
     "text": "MetaKernel Magics",
     "url": "https://github.com/calysto/metakernel/blob/master/metakernel/magics/README.md"
    }
   ],
   "mimetype": "text/x-octave",
   "name": "octave",
   "version": "0.15.10"
  }
 },
 "nbformat": 4,
 "nbformat_minor": 0
}
