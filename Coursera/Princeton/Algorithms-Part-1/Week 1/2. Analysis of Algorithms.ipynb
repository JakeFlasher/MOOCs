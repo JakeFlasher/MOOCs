{
 "cells": [
  {
   "cell_type": "markdown",
   "metadata": {},
   "source": [
    "<h1 align=\"center\">Analysis of Algorithms</h1>"
   ]
  },
  {
   "cell_type": "markdown",
   "metadata": {},
   "source": [
    "### Scientific method applied to analysis of algorithms\n",
    "\n",
    "A framework for predicting performance and comparing algorithms.\n",
    "\n",
    "Scientific method:<br>\n",
    "- **Observe** some feature of the natural world.\n",
    "- **Hypothesize** a model that is consistent with the observations.\n",
    "- **Predict** events using the hypothesis.\n",
    "- **Verify** the predictions by making further observations.\n",
    "- **Validate** by repeating until the hypothesis and observations agree.\n",
    "\n",
    "Principles:<br>\n",
    "- **Experiments** must be reproducible.\n",
    "- **Hypotheses** must be falsifiable.\n",
    "\n",
    "To give an idea of the difference between running algorithms with linear, linearithm and quadractic complexity, the plot below illustrates such curves using only 50 points. The higher the number of points, the higher the distance between $N\\ log\\ N$ and $N^2$ algorithms."
   ]
  },
  {
   "cell_type": "code",
   "execution_count": 2,
   "metadata": {},
   "outputs": [
    {
     "data": {
      "image/png": "[encoded data removed]",
      "text/plain": [
       "<Figure size 432x288 with 1 Axes>"
      ]
     },
     "metadata": {
      "needs_background": "light"
     },
     "output_type": "display_data"
    }
   ],
   "source": [
    "%matplotlib inline\n",
    "import numpy as np\n",
    "from matplotlib import pyplot as plt\n",
    "\n",
    "n = 50\n",
    "x = []\n",
    "linear, nlogn, n2 = [], [], []\n",
    "for i in range(1, n+1):\n",
    "    x.append(i)\n",
    "    linear.append(i)\n",
    "    nlogn.append(i*np.log2(i))\n",
    "    n2.append(i**2)\n",
    "plt.plot(x, linear, 'r-', label='Linear')\n",
    "plt.plot(x, nlogn, 'b-', label='N log N')\n",
    "plt.plot(x, n2, 'g-', label='N**2')\n",
    "plt.legend()\n",
    "plt.show()"
   ]
  },
  {
   "cell_type": "markdown",
   "metadata": {},
   "source": [
    "## Observations\n",
    "\n",
    "Problem: **3-SUM**: Given N distinct integers, how many triples sum to exactly zero?\n",
    "\n",
    "Example: Considering 8 ints as:\n",
    "\n",
    "$$30\\ \\ \\ \\ -40\\ \\ \\ \\ -20\\ \\ \\ \\ -10\\ \\ \\ \\ 40\\ \\ \\ \\ 0\\ \\ \\ \\ 10\\ \\ \\ \\ 5$$\n",
    "\n",
    "| a[i] | a[j] | a[k] | sum |\n",
    "| ---- | ---- | ---- | --- |\n",
    "|  30  | -40  |  10  |  0  |\n",
    "|  30  | -20  | -10  |  0  |\n",
    "| -40  |  40  |   0  |  0  |\n",
    "| -10  |   0  |  10  |  0  |\n",
    "\n",
    "We could try the brute-force algorithm as:"
   ]
  },
  {
   "cell_type": "code",
   "execution_count": 16,
   "metadata": {},
   "outputs": [],
   "source": [
    "class TreeSum(object):\n",
    "    def __init__(self):\n",
    "        pass\n",
    "\n",
    "    def brute_force(self, a):\n",
    "        N = len(a)\n",
    "        count = 0\n",
    "        for i in range(N):\n",
    "            for j in range(i+1, N):\n",
    "                for k in range(j+1, N):\n",
    "                    sumall = a[i] + a[j] + a[k]\n",
    "                    if (sumall == 0):\n",
    "                        count += 1\n",
    "        return count"
   ]
  },
  {
   "cell_type": "code",
   "execution_count": 23,
   "metadata": {},
   "outputs": [
    {
     "name": "stdout",
     "output_type": "stream",
     "text": [
      "4\n"
     ]
    }
   ],
   "source": [
    "v = [30, -40, -20, -10, 40, 0, 10, 5]\n",
    "ts = TreeSum().brute_force(v)\n",
    "print(ts)"
   ]
  },
  {
   "cell_type": "markdown",
   "metadata": {},
   "source": [
    "Now, we will time the program to check its performance using `time` function:"
   ]
  },
  {
   "cell_type": "code",
   "execution_count": 29,
   "metadata": {},
   "outputs": [
    {
     "name": "stdout",
     "output_type": "stream",
     "text": [
      "Time consumed: 0.000254154205322 (seconds)\n"
     ]
    }
   ],
   "source": [
    "import time\n",
    "\n",
    "class Stopwatch(object):\n",
    "    def __init__(self):\n",
    "        self.start = time.time()\n",
    "        \n",
    "    def elapsed_time(self):\n",
    "        self.end = time.time()\n",
    "        return self.end - self.start\n",
    "\n",
    "v = [30, -40, -20, -10, 40, 0, 10, 5]\n",
    "t = Stopwatch()\n",
    "ts = TreeSum().brute_force(v)\n",
    "et = t.elapsed_time()\n",
    "print('Time consumed: {} (seconds)'.format(et))"
   ]
  },
  {
   "cell_type": "markdown",
   "metadata": {},
   "source": [
    "Now let us create a bigger vector containing 4,000 entries."
   ]
  },
  {
   "cell_type": "code",
   "execution_count": 30,
   "metadata": {},
   "outputs": [
    {
     "name": "stdout",
     "output_type": "stream",
     "text": [
      "Time consumed: 21.7979860306 (seconds)\n"
     ]
    }
   ],
   "source": [
    "import time\n",
    "import random\n",
    "\n",
    "v = [random.randint(-100,100) for _ in range(1000)]\n",
    "t = Stopwatch()\n",
    "ts = TreeSum().brute_force(v)\n",
    "et = t.elapsed_time()\n",
    "print('Time consumed: {} (seconds)'.format(et))"
   ]
  },
  {
   "cell_type": "markdown",
   "metadata": {},
   "source": [
    "Let us check using a varied set of element in the vector:"
   ]
  },
  {
   "cell_type": "code",
   "execution_count": 33,
   "metadata": {},
   "outputs": [
    {
     "name": "stdout",
     "output_type": "stream",
     "text": [
      "Time consumed with 63 elements: 0.00864410400391 (seconds)\n",
      "Time consumed with 125 elements: 0.0530819892883 (seconds)\n",
      "Time consumed with 250 elements: 0.35550904274 (seconds)\n",
      "Time consumed with 500 elements: 2.73309993744 (seconds)\n",
      "Time consumed with 1000 elements: 24.5575349331 (seconds)\n",
      "Time consumed with 2000 elements: 236.33496213 (seconds)\n"
     ]
    }
   ],
   "source": [
    "nb_elements = [63, 125, 250, 500, 1000, 2000]\n",
    "range_elem  = [50, 100, 100, 100, 300,  300]\n",
    "\n",
    "tconsumed = []\n",
    "for idx, nbe in enumerate(nb_elements):\n",
    "    v = [random.randint(-range_elem[idx],range_elem[idx]) for _ in range(nb_elements[idx])]\n",
    "    t = Stopwatch()\n",
    "    ts = TreeSum().brute_force(v)\n",
    "    et = t.elapsed_time()\n",
    "    print('Time consumed with {} elements: {} (seconds)'.format(nb_elements[idx], et))\n",
    "    tconsumed.append(et)"
   ]
  },
  {
   "cell_type": "code",
   "execution_count": 59,
   "metadata": {},
   "outputs": [
    {
     "data": {
      "image/png": "[encoded data removed]",
      "text/plain": [
       "<Figure size 432x288 with 1 Axes>"
      ]
     },
     "metadata": {
      "needs_background": "light"
     },
     "output_type": "display_data"
    }
   ],
   "source": [
    "# Plotting time for each vector\n",
    "plt.plot(nb_elements, tconsumed, '-')\n",
    "plt.plot(nb_elements, tconsumed, 'ro')\n",
    "plt.xlabel('Problem size N')\n",
    "plt.ylabel('Running time (seconds) -- T(N)')\n",
    "plt.show()"
   ]
  },
  {
   "cell_type": "markdown",
   "metadata": {},
   "source": [
    "As we can see in the plot, using the brute-force our time grows exponentially according to the number of elements in our vector. A better visualization is presented using a log-log plot."
   ]
  },
  {
   "cell_type": "code",
   "execution_count": 60,
   "metadata": {},
   "outputs": [
    {
     "data": {
      "image/png": "[encoded data removed]",
      "text/plain": [
       "<Figure size 432x288 with 1 Axes>"
      ]
     },
     "metadata": {
      "needs_background": "light"
     },
     "output_type": "display_data"
    }
   ],
   "source": [
    "plt.loglog(nb_elements, tconsumed, '-')\n",
    "plt.loglog(nb_elements, tconsumed, 'ro')\n",
    "plt.xlabel('Problem size N')\n",
    "plt.ylabel('Running time (seconds) -- T(N)')\n",
    "plt.show()"
   ]
  },
  {
   "cell_type": "markdown",
   "metadata": {},
   "source": [
    "Converting our plot into a log-log plot, we can see a straight line where\n",
    "\n",
    "$$\\lg(T(N)) = b \\lg(N) + c$$\n",
    "\n",
    "where $b$ is the slope of the straight line. Following the power-law equation that rules this problem ($a \\times N^b$), we can calculate the values of $b$ and $a$. We can see the slope by the ratio of log2 ratios when doubling the size of the input. Thus, we have:\n",
    "\n",
    "|     N     |       T(N)       | Ratio | Log2 Ratio |\n",
    "| --------- | ---------------- | ----- | ---------- |\n",
    "| 62.5 (63) | 0.00864410400391 |  --   |     --     |\n",
    "|   125     | 0.0530819892883  |  6.14 |    2.62    |\n",
    "|   250     | 0.35550904274    |  6.70 |    2.74    |\n",
    "|   500     | 2.73309993744    |  7.69 |    2.94    |\n",
    "|  1000     | 24.5575349331    |  8.98 |    3.16    |\n",
    "|  2000     | 236.33496213     |  9.62 |    3.27    |\n",
    "\n",
    "As we can see, the slope of the line is $b \\approx 3$. This means that the order of growth of running time is $N^3$. In order to find $a$, we can run for a sufficient large value of $N and calculate its value as:\n",
    "\n",
    "$T(N) = a \\times N^b$<br>\n",
    "$24.5575349331 = a \\times 1000^{3}$<br>\n",
    "$a = 2.46 \\times 10^{-08}$<br>\n",
    "\n",
    "From these equations, we can see that we have system independent effects, which determines the exponent of $b$ in power-law, such as the choosen algorithm and the input data. On the other hand, we have system dependent effects, which determine the constant $a$ in power-law, such as hardware (CPU, memory, cache, ...), software (compiler, interpreter, garbage collector, ...), system (operating system, network, other apps, ...)."
   ]
  },
  {
   "cell_type": "markdown",
   "metadata": {},
   "source": [
    "# Mathematical Models for Running Time\n",
    "\n",
    "The table below presents the cost of basic operations in algorithms, such as variable declaration, assignment statement, array length, string concatenation and so on. Time is represented as $c$ for constant time and $N$ is the length of the array or string.\n",
    "\n",
    "| Operation            | Example          | Time        |\n",
    "| -------------------- | ---------------- | ----------- |\n",
    "| Variable declaration | a = 0            | $c_1$       |\n",
    "| Assignment statement | a = b            | $c_2$       |\n",
    "| Integer compare      | a < b            | $c_3$       |\n",
    "| Array element access | a[i]             | $c_4$       |\n",
    "| Array length         | len(a)           | $c_5$       |\n",
    "| 1D array location    | v = [0]*N        | $c_6 N$     |\n",
    "| 2D array location    | v = ([0]*N)[0]*N | $c_7 N^2$   |\n",
    "| String length        | len(s)           | $c_8$       |\n",
    "| Substring extraction | s[N/2:N]         | $c_9$       |\n",
    "| String concatenation | s + t            | $c_{10} N$  |\n",
    "\n",
    "In the example below, we illustrate the time to compute a 1-Sum algorithm where we have an array of size $N$ and we go through it looking for elements that are equal to zero.\n",
    "\n",
    "```python\n",
    "count = 0\n",
    "for i in range(N):\n",
    "    if a[i] == 0:\n",
    "        count += 1\n",
    "```\n",
    "\n",
    "If we calculate each operation, we have:\n",
    "\n",
    "| Operation            | Frequency                             |\n",
    "| -------------------- | ------------------------------------- |\n",
    "| Variable declaration | $N + 2$                               |\n",
    "| Assignment statement | $N + 2$                               |\n",
    "| Less than compare    | $\\tfrac{1}{2} (N+1)(N+2)$             |\n",
    "| Equal to compare     | $\\tfrac{1}{2} N(N-1)$                 |\n",
    "| Array access         | $N(N-1)$                              |\n",
    "| Increment            | $\\tfrac{1}{2} N(N-1)\\ \\ to\\ \\ N(N-1)$ |\n",
    "\n",
    "For example, in `Less than compare`, we have:\n",
    "\n",
    "$$0 + 1 + 2 + \\ldots + (N-1) = \\left(\\begin{matrix} N \\\\ 2 \\end{matrix} \\right) = \\frac{1}{2} N(N-1)$$\n",
    "\n",
    "Assuming that $N$ is large, most terms are negligible. Thus, we discard lower-order terms and keep only the term with highest order. In our example above, the array access contains `N(N-1)` operations, which leads to $\\sim N^2$. To estimate the discrete sum, we can convert sums into integrals and use calculus. For example, \n",
    "\n",
    "**Ex1**: $1 + 2 + \\ldots + N \\ \\ \\ \\ \\ \\ \\sum_{i=1}^{N} i \\ \\ \\ \\ \\ \\ \\sim \\ \\ \\ \\ \\ \\ \\int_{x=1}^N x dx \\ \\ \\ \\sim \\ \\ \\ \\frac{1}{2} N^2$<br>\n",
    "**Ex2**: $1^k + 2^k + \\ldots + N^k \\ \\ \\ \\ \\ \\ \\sum_{i=1}^{N} i^k \\ \\ \\ \\ \\ \\ \\sim \\ \\ \\ \\ \\ \\ \\int_{x=1}^N x^k dx \\ \\ \\ \\sim \\ \\ \\ \\frac{1}{k+1} N^{k+1}$<br>\n",
    "**Ex3**: $1 + \\cfrac{1}{2} + \\frac{1}{3} + \\ldots + \\frac{1}{N} \\ \\ \\ \\ \\ \\ \\sum_{i=1}^{N} \\frac{1}{i} \\ \\ \\ \\sim \\ \\ \\ \\ \\ \\ \\int_{x=1}^N \\frac{1}{x} dx \\ \\ \\ \\ \\ \\ \\sim \\ \\ \\ \\ln N$<br>\n",
    "**Ex4**: $\\text{3-Sum triple loop} \\ \\ \\ \\ \\ \\ \\sum_{i=1}^{N} \\sum_{j=i}^{N} \\sum_{k=j}^{N} 1 \\ \\ \\ \\sim \\ \\ \\ \\ \\ \\ \\int_{x=1}^N \\int_{y=x}^N \\int_{z=y}^N dz dy dx \\ \\ \\ \\ \\ \\ \\sim \\ \\ \\ \\frac{1}{6} N^3$<br>"
   ]
  },
  {
   "cell_type": "markdown",
   "metadata": {},
   "source": [
    "# Order of Growth Classification\n",
    "\n",
    "When computing time of execution of algorithms, we have a small set of functions that we must consider. In order of growth, we have:\n",
    "\n",
    "$$1,\\ \\ \\ \\log N,\\ \\ \\ N,\\ \\ \\ N \\log N,\\ \\ \\ N^2,\\ \\ \\ N^3,\\ \\ \\ \\text{and},\\ \\ \\ 2^N$$ \n",
    "\n",
    "The image below illustrates the order of growth of each function.\n",
    "\n",
    "<img src=\"https://cdn.rawgit.com/rogergranada/MOOCs/master/Coursera/Princeton/Algorithms-Part-1/Week%201/images/log-log_plot.svg\" width=\"35%\" align=\"center\"/>\n",
    "\n",
    "Below we have a table presenting each order of growth with an example when they occur:\n",
    "\n",
    "| Order of growth | Name         | Typical code framework                          | Description        | Example           | T(2N)/T(N) |\n",
    "| --------------- | ------------ | ----------------------------------------------- | ------------------ | ----------------- | ---------- |\n",
    "| $1$             | constant     | a = b + c                                       | statement          | add 2 numbers     | 1          |\n",
    "| $\\log N$        | logarithm    | while (N>1): N=N/2                              | divide in half     | binary search     | ~1         |\n",
    "| $N$             | linear       | for i in range(N)                               | loop               | find maximum      | 2          |\n",
    "| $N \\log N$      | linearithmic | merge sort                                      | divide and conquer | mergesort         | ~2         |\n",
    "| $N^2$           | quadratic    | [j for j in [i for i in range(N)]]              | double loop        | check all pairs   | 4          |\n",
    "| $N^2$           | cubic        | [k for k in [j for j in [i for in range(N)]]]   | triple loop        | check all triples | 8          |\n",
    "| $2^N$           | exponential  | combinatorial search                            | exaustive search   | check all subsets | T(N)       |\n",
    "\n",
    "An example for a better understanding is the binary search. In this type of search, we have an ordered set in which we want to find a number (*e.g.*, 33). In order to find the number, we divide the set into half and verify if the centered number is greater, smaller or equal to the target number. In case it is the target number, we return this number. In case it is smaller, we divide the lower set into two subsets and verify the centered number of this subset, and so on. The image below illustrates the application of the binary search.\n",
    "\n",
    "<img src=\"https://cdn.rawgit.com/rogergranada/MOOCs/master/Coursera/Princeton/Algorithms-Part-1/Week%201/images/binary_search.svg\" width=\"60%\" align=\"center\"/>\n",
    "\n",
    "\n",
    "Below we have the algorithm: "
   ]
  },
  {
   "cell_type": "code",
   "execution_count": 83,
   "metadata": {},
   "outputs": [
    {
     "name": "stdout",
     "output_type": "stream",
     "text": [
      "33 is in index 4\n"
     ]
    }
   ],
   "source": [
    "def binary_search(vec, key, debug=True):\n",
    "    lo = 0\n",
    "    hi = len(vec)-1\n",
    "    if debug:\n",
    "        print('Init lo: {}'.format(vec[lo]))\n",
    "        print('Init hi: {}'.format(vec[hi]))\n",
    "    while lo <= hi:\n",
    "        mid = lo + (hi - lo)/2\n",
    "        if debug: print('Found mid: {}'.format(vec[mid]))\n",
    "        if key < vec[mid]: \n",
    "            hi = mid - 1\n",
    "            if debug: print('Changing hi to: {}'.format(vec[hi]))\n",
    "        elif key > vec[mid]:\n",
    "            lo = mid + 1\n",
    "            if debug: print('Changing lo to: {}'.format(vec[lo]))\n",
    "        else:\n",
    "            if debug: print('Return index to mid: {}'.format(vec[mid]))\n",
    "            return mid\n",
    "    return -1\n",
    "\n",
    "vec = [6, 13, 14, 25, 33, 43, 51, 53, 64, 72, 84, 93, 94, 95, 97]\n",
    "key = 33\n",
    "print('{} is in index {}'.format(key, binary_search(vec, key, debug=False)))"
   ]
  },
  {
   "cell_type": "markdown",
   "metadata": {},
   "source": [
    "As we can see, binary search uses at most $1 + \\lg N$ key compares to search in a sorted array of size $N$. \n",
    "\n",
    "An example to illustrate an $N^2 \\log N$ is the 3-Sum approach using a binary search. In order to do that, we first sort the vector and then apply a binary search to find is exists a number equals to the sum of two elements. Thus, the algorithm works as:<br>\n",
    "- Step 1: Sort the $N$ (distinct) numbers\n",
    "- Step 2: For each pair of numbers `a[i]` and `a[j]`, binary search for `-(a[i]+a[j])`.\n",
    "\n",
    "Thus, consider an input:\n",
    "\n",
    "$$[30 \\ \\ \\ -40 \\ \\ \\ -20 \\ \\ \\ -10 \\ \\ \\ 40 \\ \\ \\ 0 \\ \\ \\ 10 \\ \\ \\ 5]$$\n",
    "\n",
    "We first sort elements resulting:\n",
    "\n",
    "$$[-40 \\ \\ \\ -20 \\ \\ \\ -10 \\ \\ \\ 0 \\ \\ \\ 5 \\ \\ \\ 10 \\ \\ \\ 30 \\ \\ \\ 40]$$\n",
    "\n",
    "Then, we perform binary search as:\n",
    "\n",
    "$\\begin{matrix}\n",
    "(-40, & -20) & = & 60 \\\\\n",
    "(-40, & -10) & = & 50 \\\\\n",
    "(-40, &   0) & = & \\textbf{40} \\\\\n",
    "(-40, &  -5) & = & 35 \\\\\n",
    "(-40, &  10) & = & \\textbf{30} \\\\\n",
    "\\vdots&\\vdots& = & \\vdots \\\\\n",
    "(-40, &  40) & = & 0 \\times \\\\\n",
    "\\vdots&\\vdots& = & \\vdots \\\\\n",
    "(-20, & -10) & = & \\textbf{30} \\\\\n",
    "\\vdots&\\vdots& = & \\vdots \\\\\n",
    "(-10, &   0) & = & \\textbf{10} \\ast\\\\\n",
    "\\vdots&\\vdots& = & \\vdots \\\\\n",
    "(10,  &  30) & = & -40\\times \\ast\\\\\n",
    "(10,  &  40) & = & -50 \\\\\n",
    "(30,  &  40) & = & -70 \\\\  \n",
    "\\end{matrix}$\n",
    "\n",
    "$\\ast$ only count if `a[i] < a[j] < a[k]` to avoid double counting.\n",
    "\n",
    "In this algorithm, we have the order of growth of $N^2 \\log N$ since the Step 1 has $N^2$ with insertion sort, and Step 2 has $N^2 \\log N$ with binary search. "
   ]
  },
  {
   "cell_type": "markdown",
   "metadata": {},
   "source": [
    "# Theory of Algorithms\n",
    "\n",
    "In theory of algorithms, we have three types of analyses: **Best case** (*i.e.*, the lower bound on cost),  **Worst case** (*i.e.*, the upper bound on cost), and **Average case** (*i.e.*, the expected cost for random input). Some algorithms have the same value of all cases. For example, when considering the array accesses for brute-force in the 3-Sum algorithm, we have:\n",
    "\n",
    "- Best case: $~ \\frac{1}{2} N^3$\n",
    "- Worst case: $~ \\frac{1}{2} N^3$\n",
    "- Average case: $~ \\frac{1}{2} N^3$\n",
    "\n",
    "Other algorithms have different values for best and worst case. For example, if we consider the binary search algorithm, we have:\n",
    "\n",
    "- Best case: $~ 1$\n",
    "- Worst case: $~ \\lg N$\n",
    "- Average case: $~ \\lg N$\n",
    "\n",
    "In theory of algorithms, we have the goal to establish what is the \"difficulty\" of a problem. This can lead to develop \"optimal\" algorithms. In order to establish the difficulty of a problem, we usually suppress details in analysis and eliminate any variability in input model by focusing only on the worst case. An optimal algorithm is the one where the performance is guarantee (to within a constant factor) for any input. Thus, no algorithm can provide a better performance guarantee.\n",
    "\n",
    "## Commonly-Used Notations\n",
    "\n",
    "In order to specify the difficulty of an algorithm, it is common to use some notations, as described in the table below:\n",
    "\n",
    "| Notation  | Provides                   | Example       | Shorthand for                     | Used to                   |\n",
    "| :-------- | :------------------------- | :------------ | :-------------------------------- | :------------------------ | \n",
    "| Tilde     | Leading term               | $~ 10N^2$     | $10 N^2+22N \\log N$, $10N^2 + 37$ | Provide approximate model |\n",
    "| Big Theta | Asymptotic order of growth | $\\Theta(N^2)$ | $10 N^2$, $5N^2+22N\\log N + 3N$   | Classify algorithms       |\n",
    "| Big Oh    | $\\Theta(N^2)$ and smaller  | $O(N^2)$      | $100N^2$, $100N$, $22N \\log N+3N$ | Develop upper bounds      |\n",
    "| Big Omega | $\\Theta(N^2)$ and larger   | $\\Omega(N^2)$ | $N^5$, $N^3 + 22N \\log N + 3N$    | Develop lower bounds      |\n",
    "\n",
    "We can understand each of these notations as **Big Oh** being the upper bound of the algorithm, **Big Omega** being the lower bound and the **Big Theta** the optimal algorithm. For example, consider the problem of 1-Sum, where the goal is to find a 0 in the array. In this case:\n",
    "\n",
    "- **Upper bound**: Look at every array entry, which indicates the difficulty as $O(N)$;\n",
    "- **Lower bound**: Proof that no algorithm can do better, since we have to examine all $N$ entries, indicating the difficulty of $\\Omega(N)$;\n",
    "- **Optimal algorithm**: In this case, the lower bound equals the upper bound, and thus, the difficulty is $\\Theta(N)$.\n",
    "\n",
    "We only have a big Theta when the upper bound overlaps the lower bound, *i.e.*, they are the same for different inputs. An example where we do not have a big Theta is the 3-Sum algorithm. In this case:\n",
    "\n",
    "- **Upper bound**: The brute-force algorithm has a $O(N^3)$; For the improved version of the algorithm, we have a $O(N^2 \\log N)$;\n",
    "- **Lower bound**: Have to examine all $N$ entries to solve 3-Sum, leading to a $\\Omega(N)$;\n",
    "- **Optimal algorithm**: There is no optimal algorithm. "
   ]
  },
  {
   "cell_type": "markdown",
   "metadata": {},
   "source": [
    "# Memory\n",
    "\n",
    "For understanding memory consumption, we first review some basic concepts. A bit is composed of 0 or 1, while a byte contains 8 bits. A Megabyte (MB) contains $2^{20}$ bytes while a Gigabyte (GB) contains $2^{30}$ bytes. The typical memory usage (for Java language) for primitive types and arrays is presented in the table below:\n",
    "\n",
    "| Type       | Bytes      | $\\hspace{30pt}$ | Type       |  Bytes     |\n",
    "| ---------- | ---------- |---------------- | ---------- | ---------- |\n",
    "| boolean    | 1          | $\\hspace{30pt}$ | char[]     | 2N + 24    |\n",
    "| byte       | 1          | $\\hspace{30pt}$ | int[]      | 4N + 24    |\n",
    "| char       | 2          | $\\hspace{30pt}$ | double[]   | 8N + 24    |\n",
    "| int        | 4          | $\\hspace{30pt}$ | char[][]   | $\\sin 2MN$ |\n",
    "| float      | 4          | $\\hspace{30pt}$ | int[][]    | $\\sin 4MN$ |\n",
    "| long       | 8          | $\\hspace{30pt}$ | double[][] | $\\sin 8MN$ |\n",
    "| double     | 8          | $\\hspace{30pt}$ |            |            |\n",
    "\n",
    "For objects, we have an overhead (usually 16 bytes), a reference (8 bytes) and padding (a multiple of 8 bytes). For example, a `Date` object declared as:\n",
    "\n",
    "```python\n",
    "class Date(object):\n",
    "    def __init__(self):\n",
    "        day = 0\n",
    "        month = 0\n",
    "        year = 0\n",
    "```\n",
    "\n",
    "We have a distribution of:\n",
    "\n",
    "| Object            | Bytes         |\n",
    "| ----------------- | ------------- |\n",
    "| *Object Overhead* | 16 bytes      |\n",
    "| day               | 4 bytes (int) |\n",
    "| month             | 4 bytes (int) |\n",
    "| year              | 4 bytes (int) |\n",
    "| *padding*         | 4 bytes       |\n",
    "| **TOTAL**         | **32** bytes  |\n",
    "\n",
    "A second example illustrates the consumption of memory for an object called `String`. Its definition is presented below:\n",
    "\n",
    "```python\n",
    "class String(object):\n",
    "    def __init__(self):\n",
    "        value = []\n",
    "        offset = 0\n",
    "        count = 0\n",
    "        hash  = 0\n",
    "```\n",
    "For this object, we have a distribution of:\n",
    "\n",
    "| Object            | Bytes                                                             |\n",
    "| ----------------- | ----------------------------------------------------------------- |\n",
    "| *Object Overhead* | 16 bytes                                                          |\n",
    "| value             | 8 bytes (reference to array) + 2N +24 bytes (values of the array) |\n",
    "| offset            | 4 bytes (int)                                                     |\n",
    "| count             | 4 bytes (int)                                                     |\n",
    "| hash              | 4 bytes (int)                                                     |\n",
    "| *padding*         | 4 bytes                                                           |\n",
    "| **TOTAL**         | **2N + 64** bytes                                                 |"
   ]
  },
  {
   "cell_type": "markdown",
   "metadata": {},
   "source": [
    "As the table above illustrates the typical size of elements in Java language, we can verify how many bites each variable is consumed in Python language. Python has the function `sys.getsizeof()` that returns the size of a variable in terms of bytes."
   ]
  },
  {
   "cell_type": "code",
   "execution_count": 98,
   "metadata": {},
   "outputs": [
    {
     "name": "stdout",
     "output_type": "stream",
     "text": [
      "Size of variable (integer): 24 bytes\n",
      "Size of variable (string): 38 bytes\n",
      "Size of variable (array): 72 bytes\n",
      "Size of variable (matrix): 80 bytes\n",
      "Size of variable (object Date): 64 bytes\n",
      "Size of variable (object String): 64 bytes\n"
     ]
    }
   ],
   "source": [
    "import sys\n",
    "\n",
    "class Date(object):\n",
    "    def __init__(self):\n",
    "        day = 0\n",
    "        month = 0\n",
    "        year = 0\n",
    "\n",
    "class String(object):\n",
    "    def __init__(self):\n",
    "        value = []\n",
    "        offset = 0\n",
    "        count = 0\n",
    "        hash_ = 0\n",
    "\n",
    "var_int = 0\n",
    "var_str = 'a'\n",
    "var_arr = []\n",
    "var_mat = [[]]\n",
    "var_obj_dat = Date()\n",
    "var_obj_str = String()\n",
    "\n",
    "print('Size of variable (integer): {} bytes'.format(sys.getsizeof(var_int)))\n",
    "print('Size of variable (string): {} bytes'.format(sys.getsizeof(var_str)))\n",
    "print('Size of variable (array): {} bytes'.format(sys.getsizeof(var_arr)))\n",
    "print('Size of variable (matrix): {} bytes'.format(sys.getsizeof(var_mat)))\n",
    "print('Size of variable (object Date): {} bytes'.format(sys.getsizeof(var_obj_dat)))\n",
    "print('Size of variable (object String): {} bytes'.format(sys.getsizeof(var_obj_str)))\n"
   ]
  },
  {
   "cell_type": "markdown",
   "metadata": {},
   "source": [
    "# Questions"
   ]
  },
  {
   "cell_type": "markdown",
   "metadata": {},
   "source": [
    "1. Suppose that $n$ equals 1 million. Approximately how much faster is an algorithm that performs $n \\lg n$ operations versus one that performs $n^2$ operations? Recall that $\\lg$ is the base-2 logarithm function.<br>\n",
    "\n",
    "&#9744; 20x<br>\n",
    "&#9744; 1,000x<br>\n",
    "&#9745; 50,000x<br>\n",
    "&#9744; 1,000,000x"
   ]
  },
  {
   "cell_type": "code",
   "execution_count": 3,
   "metadata": {},
   "outputs": [
    {
     "name": "stdout",
     "output_type": "stream",
     "text": [
      "50171.66594399687\n"
     ]
    }
   ],
   "source": [
    "# Solution\n",
    "import numpy as np\n",
    "n = 1000000\n",
    "nlogn = n*np.log2(n)\n",
    "n2 = n**2\n",
    "print float(n2)/nlogn"
   ]
  },
  {
   "cell_type": "markdown",
   "metadata": {},
   "source": [
    "2. Suppose that you make the following observations of the running time $T(n)$ (in seconds) of a program as a function of the input size $n$. Which of the following functions best models the running time $T(n)$?\n",
    "\n",
    "|    n   | T(n) |\n",
    "| ------ | ---- |\n",
    "|  1,000 |  0.0 |\n",
    "|  2,000 |  0.0 |\n",
    "|  4,000 |  0.1 |\n",
    "|  8,000 |  0.3 |\n",
    "| 16,000 |  1.3 |\n",
    "| 32,000 |  5.1 |\n",
    "| 64,000 | 20.5 |\n",
    "\n",
    "&#9744; $3.3 \\times 10^{-4} \\times n$<br>\n",
    "&#9744; $n^2$<br>\n",
    "&#9745; $5.0 \\times 10^{-9} \\times n^2$<br> \n",
    "&#9744; $6.25 \\times 10^{-9} \\times n^2$\n",
    "\n",
    "**Solution**: The solution is presented below:"
   ]
  },
  {
   "cell_type": "code",
   "execution_count": 15,
   "metadata": {},
   "outputs": [
    {
     "data": {
      "image/png": "[encoded data removed]",
      "text/plain": [
       "<Figure size 432x288 with 1 Axes>"
      ]
     },
     "metadata": {
      "needs_background": "light"
     },
     "output_type": "display_data"
    }
   ],
   "source": [
    "%matplotlib inline\n",
    "from matplotlib import pyplot as plt\n",
    "\n",
    "x = [1000, 2000, 4000, 8000, 16000, 32000, 64000]\n",
    "curve = [0.0, 0.0, 0.1, 0.3, 1.3, 5.1, 20.5]\n",
    "a, b, c, d = [], [], [], []\n",
    "for i in x:\n",
    "    a.append(3.3*(10**-4)*i)\n",
    "    b.append(i**2)\n",
    "    c.append(5.0*(10**-9)*(i**2))\n",
    "    d.append(6.25*(10**-9)*(i**2))\n",
    "\n",
    "plt.plot(x, curve, 'ro', label='Analysed')\n",
    "plt.plot(x, a, 'r-', label='3.3x10^{-4}n')\n",
    "plt.plot(x, b, 'b-', label='n^2')\n",
    "plt.plot(x, c, 'g-', label='5.0x10^{-9}n^2')\n",
    "plt.plot(x, d, 'c-', label='6.25x10^{-9}n^2')\n",
    "plt.ylim((0, 25))\n",
    "plt.legend()\n",
    "plt.show()\n"
   ]
  },
  {
   "cell_type": "markdown",
   "metadata": {},
   "source": [
    "3. How many array accesses does the following code fragment make as a function of $n$?<br>\n",
    "(Assume the compiler does not optimize away any array accesses in the innermost loop.)<br>\n",
    "\n",
    "\n",
    "```python\n",
    "nbsum = 0\n",
    "for i in range(n):\n",
    "    for j in range(i, n):\n",
    "        for k in range(j, n, k*2):\n",
    "            if a[i] + a[j] >= a[k]:\n",
    "                sum += 1\n",
    "```\n",
    "&#9744; $\\sim 3n^2$<br>\n",
    "&#9745; $\\sim \\frac{3}{2}n^2 \\lg n$<br>\n",
    "&#9744; $\\sim \\frac{3}{2}n^3$<br>\n",
    "&#9744; $\\sim 3n^3$"
   ]
  },
  {
   "cell_type": "markdown",
   "metadata": {},
   "source": [
    "4. Which of the following order-of-growth classifications represents the maximum number of array accesses used to binary search a sorted array of length $n$?<br>\n",
    "\n",
    "&#9744; constant<br>\n",
    "&#9745; logarithmic<br>\n",
    "&#9744; linear<br>\n",
    "&#9744; linearithmic"
   ]
  },
  {
   "cell_type": "markdown",
   "metadata": {},
   "source": [
    "5. Which of the following functions is $O(n^3)$?<br>\n",
    "\n",
    "&#9744; $11n + 15 \\lg n + 100$<br>\n",
    "&#9744; $\\frac{1}{3} n^2$<br>\n",
    "&#9744; $25,000 n^3$<br>\n",
    "&#9745; All of the above"
   ]
  },
  {
   "cell_type": "markdown",
   "metadata": {},
   "source": [
    "6. How much memory (in bytes) does a `WeightedQuickUnionUF` object use as a function of the number of elements $n$?<br>\n",
    "\n",
    "&#9744; $\\sin n$<br>\n",
    "&#9744; $\\sin 2n$<br>\n",
    "&#9744; $\\sin 4n$<br>\n",
    "&#9745; $\\sin 8n$\n",
    "\n",
    "**Solution**: Considering that each array of integers consume `4n+24` of memory and that we have 2 arrays with size `n`, the WeightedQuickUnionUF uses a total of $\\sin 8n$ of memory. \n",
    "\n",
    "```python\n",
    "class WeightedQuickUnionUF(object):\n",
    "    def __init__(self, N): \n",
    "        self.id = [i for i in range(N)]\n",
    "        self.sz = [1]*N\n",
    "```"
   ]
  },
  {
   "cell_type": "markdown",
   "metadata": {},
   "source": [
    "# Interview Questions: Analysis of Algorithms"
   ]
  },
  {
   "cell_type": "markdown",
   "metadata": {},
   "source": [
    "1. **3-SUM in quadratic time**. Design an algorithm for the 3-SUM problem that takes time proportional to $n^2$ in the worst case. You may assume that you can sort the $n$ integers in time proportional to $n^2$ or better.\n",
    " \n",
    "**Answer**: For a quadratic time, we can sort the array and then perform a loop on this array up to its length-2. Inside this loop, we can sum the current value (i) with the next value (j=i+1) and the latest value (k=len(array)-1). In case the sum equal zero, we count+1. In case the sum is greater than zero, we decrease the latest value (k-1). In case the sum is smaller than zero, we increase the next value (j+1), and so on. The algorithm can be seen below:"
   ]
  },
  {
   "cell_type": "code",
   "execution_count": 113,
   "metadata": {},
   "outputs": [
    {
     "name": "stdout",
     "output_type": "stream",
     "text": [
      "Sorted vector: [-40, -20, -10, 0, 5, 10, 30, 40]\n",
      "Triplets that the sum equals zero.\n",
      "(-40, 0, 40)\n",
      "(-40, 10, 30)\n",
      "(-20, -10, 30)\n",
      "(-10, 0, 10)\n"
     ]
    }
   ],
   "source": [
    "class TreeSumQuadratic(object):\n",
    "    def __init__(self, vec):\n",
    "        self.vec = sorted(vec)\n",
    "        self.triplets = []\n",
    "\n",
    "    def sum_zero(self):\n",
    "        print('Sorted vector: {}'.format(self.vec))\n",
    "        for i in range(len(self.vec)-2):\n",
    "            #print i\n",
    "            j = i+1\n",
    "            k = len(self.vec)-1\n",
    " \n",
    "            while j < k:\n",
    "                summer = self.vec[i] + self.vec[j] + self.vec[k]\n",
    "                #print i, j, k, summer\n",
    "                if summer == 0:\n",
    "                    self.triplets.append((self.vec[i], self.vec[j], self.vec[k]))\n",
    "                if summer > 0:\n",
    "                    k -= 1\n",
    "                else:\n",
    "                    j += 1\n",
    "        return self.triplets\n",
    "        \n",
    "v = [30, -40, -20, -10, 40, 0, 10, 5]\n",
    "tsq = TreeSumQuadratic(v)\n",
    "triplets = tsq.sum_zero()\n",
    "print('Triplets that the sum equals zero.')\n",
    "for t in triplets:\n",
    "    print(t)"
   ]
  },
  {
   "cell_type": "markdown",
   "metadata": {},
   "source": [
    "2. **Search in a bitonic array**. An array is bitonic if it is comprised of an increasing sequence of integers followed immediately by a decreasing sequence of integers. Write a program that, given a bitonic array of $n$ distinct integer values, determines whether a given integer is in the array.\n",
    "\n",
    "a. *Standard version*: Use $\\sin 3 \\lg n$ compares in the worst case.<br>\n",
    "b. *Signing bonus*: Use $\\sin 2 \\lg n$ compares in the worst case (and prove that no algorithm can guarantee to perform fewer than $\\sin 2 \\lg n$ compares in the worst case).\n",
    "\n",
    "**Answer**: In the standard version, first we find the two vectors representing the bitonic array, which would consume $\\sin 1 \\lg N$. Next, we perform binary search in each array to find if the integer is in it.  For the signing bonus, we only perform the binary search in the array verifying when to invert the order of increasing/decreasing."
   ]
  },
  {
   "cell_type": "code",
   "execution_count": 191,
   "metadata": {},
   "outputs": [],
   "source": [
    "class Bitonic(object):\n",
    "    def __init__(self, vec):\n",
    "        self.vec = vec\n",
    "        \n",
    "    def find_division(self, lo, hi):\n",
    "        #print self.vec[start:end] \n",
    "        mid = lo + (hi - lo)/2\n",
    "        if self.vec[mid+1] > self.vec[mid]:\n",
    "            lo = mid\n",
    "            vinc, vdec = self.find_division(lo, hi)\n",
    "        elif self.vec[mid-1] > self.vec[mid]:\n",
    "            hi = mid\n",
    "            vinc, vdec = self.find_division(lo, hi)\n",
    "        else:\n",
    "            return self.vec[:mid], self.vec[mid:]\n",
    "        return vinc, vdec\n",
    "    \n",
    "    def binary_search(self, target):\n",
    "        lo = 0\n",
    "        hi = len(self.vec)-1\n",
    "        inc = False\n",
    "        if self.vec[lo] < self.vec[hi]: \n",
    "            inc = True\n",
    "        while lo <= hi:\n",
    "            mid = lo + (hi - lo)/2\n",
    "            #print lo, hi, mid, target, self.vec[mid]\n",
    "            if target == self.vec[mid]:\n",
    "                return True\n",
    "            elif target > self.vec[mid]:\n",
    "                if inc: lo = mid+1\n",
    "                else: hi = mid-1                \n",
    "            elif target < self.vec[mid]:\n",
    "                if inc: hi = mid-1\n",
    "                else: lo = mid+1\n",
    "        return False"
   ]
  },
  {
   "cell_type": "code",
   "execution_count": 147,
   "metadata": {},
   "outputs": [
    {
     "name": "stdout",
     "output_type": "stream",
     "text": [
      "Testing vector: [1, 2, 3, 4, 5, 15, 14, 13, 12, 11, 10]\n",
      "Division of vectors:\n",
      "   [1, 2, 3, 4, 5]\n",
      "   [15, 14, 13, 12, 11, 10]\n",
      "\n",
      "Testing vector: [1, 2, 3, 4, 5, 6, 7, 8, 9, 10, 11, 20, 19, 18, 17, 16, 15]\n",
      "Division of vectors:\n",
      "   [1, 2, 3, 4, 5, 6, 7, 8, 9, 10, 11]\n",
      "   [20, 19, 18, 17, 16, 15]\n",
      "\n",
      "Testing vector: [1, 2, 3, 15, 14, 13, 12, 11, 10, 9, 8, 7]\n",
      "Division of vectors:\n",
      "   [1, 2, 3]\n",
      "   [15, 14, 13, 12, 11, 10, 9, 8, 7]\n",
      "\n"
     ]
    }
   ],
   "source": [
    "# test find_division\n",
    "v1 = [1,2,3,4,5,15,14,13,12,11,10]\n",
    "v2 = [1,2,3,4,5,6,7,8,9,10,11,20,19,18,17,16,15]\n",
    "v3 = [1,2,3,15,14,13,12,11,10,9,8,7]\n",
    "\n",
    "def test_division(v):\n",
    "    vbit = Bitonic(v)\n",
    "    vinc, vdec = vbit.find_division(0, len(v)-1)\n",
    "    print('Testing vector: {}'.format(v))\n",
    "    print('Division of vectors:')\n",
    "    print('   {}'.format(vinc))\n",
    "    print('   {}'.format(vdec))\n",
    "    print\n",
    "    \n",
    "test_division(v1)\n",
    "test_division(v2)\n",
    "test_division(v3)"
   ]
  },
  {
   "cell_type": "code",
   "execution_count": 192,
   "metadata": {},
   "outputs": [
    {
     "name": "stdout",
     "output_type": "stream",
     "text": [
      "The target 4 was found? - True\n",
      "The target 3 was found? - False\n",
      "The target 4 was found? - True\n",
      "The target 3 was found? - False\n"
     ]
    }
   ],
   "source": [
    "# test binary search\n",
    "vinc = [1,2,4,6,7,8,9,10,11]\n",
    "vdes = [10,9,8,7,6,4,2,1,0]\n",
    "target_has = 4\n",
    "target_hasnt = 3\n",
    "\n",
    "def test_search(v, target):\n",
    "    vbit = Bitonic(v)\n",
    "    found = vbit.binary_search(target)\n",
    "    print 'The target {} was found? - {}'.format(target, found)\n",
    "    \n",
    "test_search(vinc, target_has)\n",
    "test_search(vinc, target_hasnt)\n",
    "test_search(vdes, target_has)\n",
    "test_search(vdes, target_hasnt)"
   ]
  },
  {
   "cell_type": "markdown",
   "metadata": {},
   "source": [
    "3. **Egg drop**. Suppose that you have an $n$-story building (with floors 1 through $n$) and plenty of eggs. An egg breaks if it is dropped from floor $T$ or higher and does not break otherwise. Your goal is to devise a strategy to determine the value of $T$ given the following limitations on the number of eggs and tosses:\n",
    "\n",
    "   - Version 0: 1 egg, $\\le T$ tosses.\n",
    "   - Version 1: $\\sin 1 \\lg n$ eggs and $\\sin 1 \\lg n$ tosses.\n",
    "   - Version 2: $\\sin \\lg T$ eggs and $\\sin 2 \\lg T$ tosses.\n",
    "   - Version 3: $2$ eggs and $\\sin 2 \\sqrt{n}$ tosses.\n",
    "   - Version 4: $2$ eggs and $\\le c \\sqrt{T}$ tosses for some fixed constant $c$."
   ]
  },
  {
   "cell_type": "code",
   "execution_count": null,
   "metadata": {},
   "outputs": [],
   "source": []
  },
  {
   "cell_type": "code",
   "execution_count": 166,
   "metadata": {},
   "outputs": [
    {
     "data": {
      "text/plain": [
       "False"
      ]
     },
     "execution_count": 166,
     "metadata": {},
     "output_type": "execute_result"
    }
   ],
   "source": [
    "def recursive_search(vec, lo, hi, target):\n",
    "    while lo < hi:\n",
    "        mid = lo + (hi - lo)/2\n",
    "        if target == vec[mid]:\n",
    "            return True\n",
    "        elif target > vec[mid]:\n",
    "            lo = mid+1\n",
    "        elif target < vec[mid]:\n",
    "            hi = mid-1\n",
    "    return False\n",
    "\n",
    "a = [1,2,4,5,6,7,8]\n",
    "recursive_search(a, 0, 5, 3)"
   ]
  },
  {
   "cell_type": "code",
   "execution_count": null,
   "metadata": {},
   "outputs": [],
   "source": []
  }
 ],
 "metadata": {
  "kernelspec": {
   "display_name": "Python 2",
   "language": "python",
   "name": "python2"
  },
  "language_info": {
   "codemirror_mode": {
    "name": "ipython",
    "version": 2
   },
   "file_extension": ".py",
   "mimetype": "text/x-python",
   "name": "python",
   "nbconvert_exporter": "python",
   "pygments_lexer": "ipython2",
   "version": "2.7.15"
  }
 },
 "nbformat": 4,
 "nbformat_minor": 2
}
