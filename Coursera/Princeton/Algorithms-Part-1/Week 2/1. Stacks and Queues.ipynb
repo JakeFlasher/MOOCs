{
 "cells": [
  {
   "cell_type": "markdown",
   "metadata": {},
   "source": [
    "# Stacks and Queues\n",
    "\n",
    "In this week we will see two fundamental data types: **stacks** and **queues**. In each data type we must be able to perform some operations such as *insert*, *remove*, *iterate* and *test* if it is empty. Below we can see the differences between the two data types:\n",
    "\n",
    "<img src=\"https://cdn.rawgit.com/rogergranada/MOOCs/master/Coursera/Princeton/Algorithms-Part-1/Week%202/images/datatypes.svg\" width=\"90%\" align=\"center\"/>\n",
    "\n",
    "As the image illustrates, in the Stack we have two operation to insert and remove an item, called *push* and *pop*. Stacks examine the item that was most recently added. It is called LIFO (Last In, First Out). On the other hand, a Queue has the operation called *enqueue* to insert an item and *dequeue* to remove an item. It examines the item that was least recently added, which is called FIFO (First In, First Out).\n",
    "\n",
    "For implementing the Stack we have three methods called: `push()`, `pop()` and `is_empty()`. In push, we insert a new string onto the stack, in pop, we remove and return the string most recently added, and is_empty, we verify if the stack is empty. We still can have a method called `size()` that returns the number of strings on the stack. \n",
    "\n",
    "In a first example, we consider that any input is pushed to the stack until a dash is received. When the input corresponds to a dash, we pop the last element of the stack. The image bellow illustrates the process of adding and removing elements of the stack.\n",
    "\n",
    "<img src=\"https://cdn.rawgit.com/rogergranada/MOOCs/master/Coursera/Princeton/Algorithms-Part-1/Week%202/images/stack_linkedlist.svg\" width=\"50%\" align=\"center\"/>\n",
    "\n",
    "Thus, we implement the stack using a linked-list representation. In this implementation, we have a node with the *item* containing the string and with a reference to the *next* node. We represent this structure as an inner class as:\n",
    "\n",
    "```python\n",
    "class Node:\n",
    "    def __init__(self):\n",
    "        item = ''\n",
    "        next = None\n",
    "```"
   ]
  },
  {
   "cell_type": "code",
   "execution_count": 11,
   "metadata": {},
   "outputs": [
    {
     "name": "stdout",
     "output_type": "stream",
     "text": [
      "Added: to\n",
      "Added: be\n",
      "Added: or\n",
      "Added: not\n",
      "Removed: not\n",
      "Removed: or\n",
      "Added: to\n",
      "Added: be\n",
      "\n",
      "Elements: be\n",
      "Elements: to\n",
      "Elements: be\n",
      "Elements: to\n"
     ]
    }
   ],
   "source": [
    "class LinkedStackOfStrings(object):\n",
    "    def __init__(self):\n",
    "        self.first = None\n",
    "    \n",
    "    class Node:\n",
    "        def __init__(self):\n",
    "            self.item = ''\n",
    "            self.next = None\n",
    "\n",
    "    def is_empty(self):\n",
    "        return self.first == None\n",
    "\n",
    "    def push(self, item):\n",
    "        oldfirst = self.first\n",
    "        self.first = self.Node()\n",
    "        self.first.item = item\n",
    "        self.first.next = oldfirst\n",
    "\n",
    "    def pop(self):\n",
    "        item = self.first.item\n",
    "        self.first = self.first.next\n",
    "        return item\n",
    "    \n",
    "sentence = ['to', 'be', 'or', 'not', '-', '-', 'to', 'be']\n",
    "\n",
    "stack = LinkedStackOfStrings()\n",
    "for w in sentence:\n",
    "    if w == '-' and not stack.is_empty():\n",
    "        w = stack.pop()\n",
    "        print('Removed: {}'.format(w))\n",
    "    else:\n",
    "        print('Added: {}'.format(w))\n",
    "        stack.push(w)\n",
    "\n",
    "print('')\n",
    "while not stack.is_empty():\n",
    "    print('Elements: {}'.format(stack.pop()))"
   ]
  },
  {
   "cell_type": "markdown",
   "metadata": {},
   "source": [
    "Considering the consumption of memory, a stack with N items uses $\\sim 40N$ bytes. For each $N$, it includes 16 bytes for object overhead, 8 bytes for inner class extra overhead, 8 bytes for reference to String, and 8 bytes for reference to Node.\n",
    "\n",
    "### Array Implementation\n",
    "\n",
    "Instead of using linked-list implementation, we can use an array implementation of a stack. In this sense, we use an array `s[ ]` to store $N$ items on stack. In this implementation, `push()` adds a new item at `s[N]` and `pop()` removes an item from `s[N-1]`. This configuration generates arrays with a certain capacity such as the one below with `capacity=10`:\n",
    "\n",
    "| 0  | 1  | 2  | 3   | 4  | 5  | 6      | 7      | 8      | 9      |\n",
    "|----|----|----|-----|----|----|--------|--------|--------|--------|\n",
    "| to | be | or | not | to | be | *null* | *null* | *null* | *null* |\n",
    "\n",
    "This kind of implementation has the drawback of occuring stack overflows when $N$ exceeds the capacity in some languages. An implementation using arrays is shown below."
   ]
  },
  {
   "cell_type": "code",
   "execution_count": 24,
   "metadata": {},
   "outputs": [
    {
     "name": "stdout",
     "output_type": "stream",
     "text": [
      "Initial stack: ['None', 'None', 'None', 'None', 'None', 'None', 'None', 'None', 'None', 'None']\n",
      "\n",
      "Added: to\n",
      "Added: be\n",
      "Added: or\n",
      "Added: not\n",
      "Removed: not\n",
      "Removed: or\n",
      "Added: to\n",
      "Added: be\n",
      "\n",
      "Final stack: ['to', 'be', 'to', 'be', 'None', 'None', 'None', 'None', 'None', 'None']\n"
     ]
    }
   ],
   "source": [
    "class FixedCapacityStackOfStrings(object):\n",
    "    def __init__(self, capacity):\n",
    "        self.s = ['None']*capacity\n",
    "        self.N = 0\n",
    "        self.capacity = capacity\n",
    "\n",
    "    def is_empty(self):\n",
    "        return self.N == 0\n",
    "\n",
    "    def push(self, item):\n",
    "        if self.N+1 == self.capacity:\n",
    "            raise Exception('ERROR: Cannot add element [Overflow]')\n",
    "        self.s[self.N] = item\n",
    "        self.N += 1\n",
    "\n",
    "    def pop(self):\n",
    "        if self.is_empty():\n",
    "            raise Exception('ERROR: Cannot remove element [Underflow]')\n",
    "        self.N -= 1\n",
    "        item = self.s[self.N]\n",
    "        self.s[self.N] = 'None'\n",
    "        return item\n",
    "\n",
    "    \n",
    "sentence = ['to', 'be', 'or', 'not', '-', '-', 'to', 'be']\n",
    "\n",
    "stack = FixedCapacityStackOfStrings(10)\n",
    "print('Initial stack: {}'.format(stack.s))\n",
    "print('')\n",
    "for w in sentence:\n",
    "    if w == '-' and not stack.is_empty():\n",
    "        w = stack.pop()\n",
    "        print('Removed: {}'.format(w))\n",
    "    else:\n",
    "        print('Added: {}'.format(w))\n",
    "        stack.push(w)\n",
    "print('')\n",
    "print('Final stack: {}'.format(stack.s))\n"
   ]
  },
  {
   "cell_type": "markdown",
   "metadata": {},
   "source": [
    "**Note**: the way Python deals with arrays, if we create an array with `None` instead of `\"None\"`, the array contains `size=0` since there is not a valid element in the array. In other languages such as Java, we have to declare the size of the array when creating it, which limits the size of our array. "
   ]
  },
  {
   "cell_type": "markdown",
   "metadata": {},
   "source": [
    "## Resizing Array\n",
    "\n",
    "Resizing an array every time a new element greater than $N$ is added to the array is infeasible for large values of $N$, since it takes time proportional to $1+2+ \\ldots +N \\sim N^2/2$. Thus, we have to consider a way to ensure that the array resizing occurs infrequently. \n",
    "\n",
    "An approach to solve this problem is to create a new array of twice the size of the original array and copy the items every time the original array is full. This is called *repeated doubling*. As consequence, inserting first $N$ items takes time proportional to $N$ and not $N^2$ anymore. \n",
    "\n",
    "Unlike `push()`, where every time the array gets a new element that would produce an overflow we create a new array, in `pop()` we do not shrink the array every time the number of elements decreases the half of the size. For example, consider an array of `size=8` where we add a new element. Now we duplicate the original array to `size=16`. If we pop the 9th element, we should not reduce the size of the array to `size=8` again. Otherwise, when we add a new element, we have to duplicate again the array, and copy all elements to the new array again. Thus, we consider reducing the size of the array only when the number of elements is equal to a quarter of the size of the array. Having a quarter of elements, we reduce the size of the array to half of its size. An implementation of the resizing can be seen below."
   ]
  },
  {
   "cell_type": "code",
   "execution_count": 38,
   "metadata": {},
   "outputs": [
    {
     "name": "stdout",
     "output_type": "stream",
     "text": [
      "Initial array: ['None']\n",
      "\n",
      "Input\tOutput\tArray content\n",
      "-----\t------\t-------------\n",
      "to\t+\t['to']\n",
      "be\t+\t['to', 'be']\n",
      "or\t+\t['to', 'be', 'or', 'None']\n",
      "not\t+\t['to', 'be', 'or', 'not']\n",
      "to\t+\t['to', 'be', 'or', 'not', 'to', 'None', 'None', 'None']\n",
      "-\tto\t['to', 'be', 'or', 'not', 'None', 'None', 'None', 'None']\n",
      "be\t+\t['to', 'be', 'or', 'not', 'be', 'None', 'None', 'None']\n",
      "-\tbe\t['to', 'be', 'or', 'not', 'None', 'None', 'None', 'None']\n",
      "-\tnot\t['to', 'be', 'or', 'None', 'None', 'None', 'None', 'None']\n",
      "that\t+\t['to', 'be', 'or', 'that', 'None', 'None', 'None', 'None']\n",
      "-\tthat\t['to', 'be', 'or', 'None', 'None', 'None', 'None', 'None']\n",
      "-\tor\t['to', 'be', 'None', 'None']\n",
      "-\tbe\t['to', 'None']\n",
      "is\t+\t['to', 'is']\n",
      "\n",
      "Final array: ['to', 'is']\n"
     ]
    }
   ],
   "source": [
    "class ResizingArrayStackOfStrings(object):\n",
    "    def __init__(self):\n",
    "        self.s = ['None']\n",
    "        self.N = 0\n",
    "        \n",
    "    def is_empty(self):\n",
    "        return self.N == 0\n",
    "\n",
    "    def resize(self, capacity):\n",
    "        array_copy = ['None']*capacity\n",
    "        for i in range(self.N):\n",
    "            array_copy[i] = self.s[i]\n",
    "        self.s = array_copy[:]\n",
    "        \n",
    "    def push(self, item):\n",
    "        if self.N == len(self.s):\n",
    "            self.resize(2*len(self.s))\n",
    "        self.s[self.N] = item\n",
    "        self.N += 1\n",
    "        \n",
    "    def pop(self):\n",
    "        self.N -= 1\n",
    "        item = self.s[self.N]\n",
    "        self.s[self.N] = 'None'\n",
    "\n",
    "        quarter = len(self.s)/4\n",
    "        if self.N > 0 and self.N == quarter:\n",
    "            self.resize(len(self.s)/2)\n",
    "        return item\n",
    "    \n",
    "    \n",
    "sentence = ['to', 'be', 'or', 'not', 'to', '-', 'be', '-', '-', 'that', '-', '-', '-', 'is']\n",
    "\n",
    "stack = ResizingArrayStackOfStrings()\n",
    "print('Initial array: {}'.format(stack.s))\n",
    "print('')\n",
    "print('Input\\tOutput\\tArray content')\n",
    "print('-----\\t------\\t-------------')\n",
    "for w in sentence:\n",
    "    if w == '-' and not stack.is_empty():\n",
    "        w = stack.pop()\n",
    "        print('-\\t{}\\t{}'.format(w, stack.s))\n",
    "    else:\n",
    "        stack.push(w)\n",
    "        print('{}\\t+\\t{}'.format(w, stack.s))\n",
    "print('')\n",
    "print('Final array: {}'.format(stack.s))\n",
    "\n"
   ]
  },
  {
   "cell_type": "markdown",
   "metadata": {},
   "source": [
    "The memory usage in this implementation is between $\\sim 8N$ (when it is full) and $\\sim 32N$ (when it is one-quarter full) bytes to represent a stack with $N$ items. The implementation considers 8 bytes for reference to the array, 24 bytes for array overhead, 8 bytes $\\times$ array size for the string array, 4 bytes for int $N$ variable and 4 bytes for padding. This accounts for the memory for the stack and not the memory for string themselves.\n",
    "\n",
    "### Pros and Cons\n",
    "\n",
    "- *Linked-list implementation*: Every operation takes constant time in the worst case, and uses extra time and space to deal with the links.\n",
    "- *Resizing-array implementation*: Every operation takes constant amortized time, and less wasted space."
   ]
  },
  {
   "cell_type": "code",
   "execution_count": null,
   "metadata": {},
   "outputs": [],
   "source": []
  },
  {
   "cell_type": "markdown",
   "metadata": {},
   "source": [
    "# Questions"
   ]
  },
  {
   "cell_type": "markdown",
   "metadata": {},
   "source": [
    "1. Which of the following inputs to our stack test client does not produce the output `5 4 3 2 1`?<br>\n",
    "&#9744; 1 2 3 4 5 - - - - -<br>\n",
    "&#9744; 1 2 5 - 3 4 - - - -<br>\n",
    "&#9745; 5 - 1 2 3 - 4 - - -<br>\n",
    "&#9744; 5 - 4 - 3 - 2 - 1 -"
   ]
  },
  {
   "cell_type": "markdown",
   "metadata": {},
   "source": [
    "2. Given a reference `first` to the first node of a null-terminated linked list with at least two nodes, what does the code fragment below do?\n",
    "\n",
    "\n",
    "```python\n",
    "Node x = first;\n",
    "while (x.next.next != null) {\n",
    "    x = x.next;\n",
    "}\n",
    "x.next = null;\n",
    "```\n",
    "\n",
    "&#9744; deletes the first node in the list<br>\n",
    "&#9744; deletes the second node in the list<br>\n",
    "&#9744; deletes the next-to-last node in the list<br>\n",
    "&#9745; deletes the last node in the list"
   ]
  },
  {
   "cell_type": "markdown",
   "metadata": {},
   "source": [
    "3. Suppose that, starting from an empty data structure, we perform $n$ push operations in our resizing-array implementation of a stack. How many times is the `resize()` method called?<br>\n",
    "\n",
    "&#9744; constant<br>\n",
    "&#9745; logarithmic<br>\n",
    "&#9744; linear<br>\n",
    "&#9744; quadratic\n",
    "\n"
   ]
  },
  {
   "cell_type": "code",
   "execution_count": null,
   "metadata": {},
   "outputs": [],
   "source": [
    "&#9744; "
   ]
  }
 ],
 "metadata": {
  "kernelspec": {
   "display_name": "Python 2",
   "language": "python",
   "name": "python2"
  },
  "language_info": {
   "codemirror_mode": {
    "name": "ipython",
    "version": 2
   },
   "file_extension": ".py",
   "mimetype": "text/x-python",
   "name": "python",
   "nbconvert_exporter": "python",
   "pygments_lexer": "ipython2",
   "version": "2.7.15"
  }
 },
 "nbformat": 4,
 "nbformat_minor": 2
}
