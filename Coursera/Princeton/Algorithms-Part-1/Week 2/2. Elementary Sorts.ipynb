{
 "cells": [
  {
   "cell_type": "markdown",
   "metadata": {},
   "source": [
    "# Sorting Problem\n",
    "\n",
    "The sorting problem consists of putting a set of recordds into order according to their keys. For example, consider the elements below, where `item` we refer to a row containing an amount of information and `key` is the piece of a record that we want to put in ordering.\n",
    "\n",
    "| $-$     |$-$|$-$| $-$          | $-$         |\n",
    "| ------- | - | - | ------------ | ----------- |\n",
    "| Chen    | 3 | A | 991-878-4944 | 308 Blair   |\n",
    "| Rohde   | 2 | A | 232-343-5555 | 343 Forbes  |\n",
    "| Gazsi   | 4 | B | 766-093-9873 | 101 Brown   |\n",
    "| Furia   | 1 | A | 766-093-9872 | 101 Brown   |\n",
    "| Kanaga  | 3 | B | 898-122-9643 | 22 Brown    |\n",
    "| Andrews | 3 | A | 664-480-0023 | 097 Little  |\n",
    "| Battle  | 4 | C | 874-088-1212 | 121 Whitman |\n",
    "\n",
    "When sorting the elements, we re-arrange them wit a certain rule (*e.g.*, ascending order or descending order). Thus, considering the first column as the key of our first example, it becomes:\n",
    "\n",
    "| $-$     |$-$|$-$| $-$          | $-$         |\n",
    "| ------- | - | - | ------------ | ----------- |\n",
    "| Andrews | 3 | A | 664-480-0023 | 097 Little  |\n",
    "| Battle  | 4 | C | 874-088-1212 | 121 Whitman |\n",
    "| Chen    | 3 | A | 991-878-4944 | 308 Blair   |\n",
    "| Furia   | 1 | A | 766-093-9872 | 101 Brown   |\n",
    "| Gazsi   | 4 | B | 766-093-9873 | 101 Brown   |\n",
    "| Kanaga  | 3 | B | 898-122-9643 | 22 Brown    |\n",
    "| Rohde   | 2 | A | 232-343-5555 | 343 Forbes  |\n",
    "\n",
    "We can also have a list containing random numbers and sorting means re-arrange these numbers so that they have an ascending or a descending order. For example, consider the two-columns below, where the left column contains random numbers and the right column contains the same numbers sorted in ascending order.\n",
    "\n",
    "| $-$       | $-$           | $-$       |\n",
    "| --------- | ------------- | --------- |\n",
    "| 0.4609541 | $-$           | 0.0861471 |\n",
    "| 0.1070874 | $-$           | 0.0905427 |\n",
    "| 0.5340026 | $-$           | 0.1070874 |\n",
    "| 0.9293994 | $-$           | 0.2116690 |\n",
    "| 0.0905427 | $\\rightarrow$ | 0.3632928 |\n",
    "| 0.2116690 | $-$           | 0.4609541 |\n",
    "| 0.7216122 | $-$           | 0.5340026 |\n",
    "| 0.0861471 | $-$           | 0.7216122 |\n",
    "| 0.9003500 | $-$           | 0.9003500 |\n",
    "| 0.3632928 | $-$           | 0.9293994 |\n",
    "\n",
    "Therefore, our goal is to sort any type of data. When developing the method to sort, we have to implement in the so called a **total order**, which consists of three properties: *Antisymmetry*, *Transitivity* and *Totality*. *Antisymmetry* says that if $v \\le w$ and $w \\le v$, then the only way to that to be true is that $v = w$. *Transitivity* says that if $v \\le w$ and $w \\le x$, then $v \\le x$. Finally, *Totality* says that either $v \\le w$ or $w \\le v$ or both are equal. Summarizing:\n",
    "\n",
    "- **Antisymmetry**: if $v \\le w$ and $w \\le v$, then $w = v$.\n",
    "- **Transitivity**: if $v \\le w$ and $w \\le x$, then $v \\le x$.\n",
    "- **Totality**: either $v \\le w$ or $w \\le v$ or both.\n",
    "\n",
    "We have to pay attention since not all orders are necessarily total orders. For example, the game *Rock-Paper-Scissors* is not total order since *Rock* blunts *Scissor*, *Scissor* cuts *Paper*, and *Paper* wrap *Rock*.\n",
    "\n",
    "To devolop a comparable API, we implement `compare_to()` method as a total order. Considering two values $v$ and $w$, the method must return a negative integer if $v$ is less than $w$, zero if $v$ is equal to $w$ or a positive integer if $v$ is greater than $w$. An implementation of the *Comparable* API is shown below:"
   ]
  },
  {
   "cell_type": "code",
   "execution_count": 4,
   "metadata": {},
   "outputs": [
    {
     "data": {
      "text/plain": [
       "-1"
      ]
     },
     "execution_count": 4,
     "metadata": {},
     "output_type": "execute_result"
    }
   ],
   "source": [
    "class Comparable(object):\n",
    "    def __init__(self):\n",
    "        pass\n",
    "\n",
    "    def compare_to(self, value):\n",
    "        raise(\"Not Implemented\")\n",
    "\n",
    "class Date(Comparable):\n",
    "    def __init__(self, m, d, y):\n",
    "        self.month = m\n",
    "        self.day = d\n",
    "        self.year = y\n",
    "\n",
    "    def compare_to(self, date):\n",
    "        if self.year < date.year:\n",
    "            return -1\n",
    "        if self.year > date.year:\n",
    "            return 1\n",
    "        if self.month < date.month:\n",
    "            return -1\n",
    "        if self.month > date.month:\n",
    "            return 1\n",
    "        if self.day < date.day:\n",
    "            return -1\n",
    "        if self.day > date.day:\n",
    "            return 1\n",
    "        return 0\n",
    "    \n",
    "# Test implementation\n",
    "d1 = Date(1, 1, 2000)\n",
    "d2 = Date(1, 1, 2001)\n",
    "d1.compare_to(d2)"
   ]
  },
  {
   "cell_type": "markdown",
   "metadata": {},
   "source": [
    "We can do two abstractions in this implementation. We can refer to data through *compares* and *exchanges*. We use a method `less()` that takes two comparable objects as arguments (`less(<Comparable> v, <Comparable> w)`) and returns true in case v is less than zero. The other thing we do when we sort items that are in an array is to swap or exchange the item at a given index $i$ with the one at a given index $j$. Now the sort methods will just use these two static methods. They are implemented below:"
   ]
  },
  {
   "cell_type": "code",
   "execution_count": 7,
   "metadata": {},
   "outputs": [
    {
     "name": "stdout",
     "output_type": "stream",
     "text": [
      "True\n",
      "False\n",
      "[0, 1, 3, 2, 4]\n"
     ]
    }
   ],
   "source": [
    "def less(v, w):\n",
    "    return v.compare_to(w) < 0\n",
    "\n",
    "def exchange(vec, i, j):\n",
    "    swap = vec[i]\n",
    "    vec[i] = vec[j]\n",
    "    vec[j] = swap\n",
    "    return vec\n",
    "\n",
    "# Test implementation\n",
    "d1 = Date(1, 1, 2000)\n",
    "d2 = Date(1, 1, 2001)\n",
    "print(less(d1, d2))\n",
    "print(less(d2, d1))\n",
    "\n",
    "vec = [0, 1, 2, 3, 4]\n",
    "print(exchange(vec, 2, 3))"
   ]
  },
  {
   "cell_type": "markdown",
   "metadata": {},
   "source": [
    "We can create another important method that tests if the vector is sorted. This method uses the `less()` function to check if two elements are in the correct order. It goes through the array from the first element to the length of the array and test if each item is less than the one before. This implementation is seen below:"
   ]
  },
  {
   "cell_type": "code",
   "execution_count": 15,
   "metadata": {},
   "outputs": [
    {
     "name": "stdout",
     "output_type": "stream",
     "text": [
      "True\n",
      "False\n"
     ]
    }
   ],
   "source": [
    "def is_sorted(vec):\n",
    "    for i in range(1, len(vec)):\n",
    "        if less(vec[i], vec[i-1]):\n",
    "            return False\n",
    "    return True\n",
    "\n",
    "d1 = [Date(1, 1, 2000), Date(2, 1, 2000), Date(3, 1, 2000), Date(4, 1, 2000)]\n",
    "d2 = [Date(1, 1, 2000), Date(3, 1, 2000), Date(2, 1, 2000), Date(4, 1, 2000)]\n",
    "print(is_sorted(d1))\n",
    "print(is_sorted(d2))"
   ]
  },
  {
   "cell_type": "markdown",
   "metadata": {},
   "source": [
    "# Selection Sort\n",
    "\n",
    "The idea of selection sort, is start out with a unsorted array and for each iteration, we go through the array to try to find the smallest remaining entry. Then we swap that with the first entry in the remaining array and move it to the final order of the array. We go to the next entry of the remaining array and try to find the smallest remaining entry, and so on. \n",
    "\n",
    "The image below illustrates this idea when first we go through the array to find the minimum value (\"2\") and swap it with the first element (index i=0). After performing the swap, we increase the index by one and perform a new search for the minimum value in the remaining entries. We find the minimum value (\"3\") and swap it by the element in index i=1. After swapping, we increase the index by one and perform a search in the remaining entries. This process continues up to the end of the array.\n",
    "\n",
    "<img src=\"https://cdn.rawgit.com/rogergranada/MOOCs/master/Coursera/Princeton/Algorithms-Part-1/Week%202/images/selection_sort.svg\" width=\"70%\" align=\"center\"/>\n",
    "\n",
    "Here, we use the image below to illustrate how to implement the algorithm. Thus, consider that the red arrow scans from left to right, entries the left of the red arrow are fixed and in ascending order. No entry to its right is smaller than any entry to its left. \n",
    "\n",
    "<img src=\"https://cdn.rawgit.com/rogergranada/MOOCs/master/Coursera/Princeton/Algorithms-Part-1/Week%202/images/selection_sort_algorithm.svg\" width=\"70%\" align=\"center\"/>\n",
    "\n",
    "\n",
    "\n",
    "The steps follow:\n",
    "\n",
    "- Move the pointer to the right\n",
    "```python\n",
    "i += 1\n",
    "```\n",
    "- Identify the index of minimum entry on the right\n",
    "```python\n",
    "valmin = i\n",
    "for j in range(i+1, N):\n",
    "    if less(vec[j], vec[valmin]):\n",
    "        valmin = j\n",
    "```\n",
    "- Exchange into position \n",
    "```python\n",
    "exchange(vec, i, valmin)\n",
    "```\n",
    "\n",
    "The full implementation is as follows:"
   ]
  },
  {
   "cell_type": "code",
   "execution_count": 35,
   "metadata": {},
   "outputs": [
    {
     "name": "stdout",
     "output_type": "stream",
     "text": [
      "Random init: [7, 10, 5, 3, 8, 4, 2, 9, 6]\n",
      "Sorted init: [2, 3, 4, 5, 6, 7, 8, 9, 10]\n"
     ]
    }
   ],
   "source": [
    "class Integer(Comparable):\n",
    "    def __init__(self, v):\n",
    "        self.v = v\n",
    "        \n",
    "    def __str__(self):\n",
    "        print(self.v)\n",
    "        \n",
    "    def __repr__(self):\n",
    "        return str(self.v)\n",
    "        \n",
    "    def compare_to(self, w):\n",
    "        if self.v < w.v: return -1\n",
    "        if self.v > w.v: return 1\n",
    "        return 0\n",
    "    \n",
    "\n",
    "class Selection(object):\n",
    "    def __init__(self):\n",
    "        pass\n",
    "\n",
    "    def sort(self, vec):\n",
    "        N = len(vec)\n",
    "        for i in range(N):\n",
    "            minval = i\n",
    "            for j in range(i+1, N):\n",
    "                if self.less(vec[j], vec[minval]):\n",
    "                    minval = j\n",
    "            self.exchange(vec, i, minval)\n",
    "            #print(vec)\n",
    "        return vec\n",
    "\n",
    "    def less(self, v, w):\n",
    "        return v.compare_to(w) < 0\n",
    "\n",
    "    def exchange(self, vec, i, j):\n",
    "        swap = vec[i]\n",
    "        vec[i] = vec[j]\n",
    "        vec[j] = swap\n",
    "        return vec\n",
    "\n",
    "# Test the implementation\n",
    "vec = [Integer(7), Integer(10), Integer(5), Integer(3), Integer(8), \n",
    "       Integer(4), Integer(2), Integer(9), Integer(6)]\n",
    "s = Selection()\n",
    "print('Random init: {}'.format(vec))\n",
    "print('Sorted init: {}'.format(s.sort(vec)))"
   ]
  },
  {
   "cell_type": "markdown",
   "metadata": {},
   "source": [
    "Selection Sort uses ($N-1$) + ($N-2$) + ... + $1$ + $0 \\sin N^2/2$ comparisons and $N$ exchanges, as illustred in the table below: \n",
    "\n",
    "| i  | min |   0   |   1   |   2   |   3   |   4   |   5   |   6   |   7   |   8   |   9   |   10   |\n",
    "| -- | --- | ----- | ----- | ----- | ----- | ----- | ----- | ----- | ----- | ----- | ----- | ------ |\n",
    "| #  | #   | **S** | **O** | **R** | **T** | **E** | **X** | **A** | **M** | **P** | **L** | **E**  |\n",
    "| 0  | 6   |   S   |   O   |   R   |   T   |   E   |   X   | **A** |   M   |   P   |   L   |   E    |\n",
    "| 1  | 4   |   A   |   O   |   R   |   T   | **E** |   X   |   S   |   M   |   P   |   L   |   E    |\n",
    "| 2  | 10  |   A   |   E   |   R   |   T   |   O   |   X   |   S   |   M   |   P   |   L   | **E**  |\n",
    "| 3  | 9   |   A   |   E   |   E   |   T   |   O   |   X   |   S   |   M   |   P   | **L** |   R    |\n",
    "| 4  | 7   |   A   |   E   |   E   |   L   |   O   |   X   |   S   | **M** |   P   |   T   |   R    |\n",
    "| 5  | 7   |   A   |   E   |   E   |   L   |   M   |   X   |   S   | **O** |   P   |   T   |   R    |\n",
    "| 6  | 8   |   A   |   E   |   E   |   L   |   M   |   O   |   S   |   X   | **P** |   T   |   R    |\n",
    "| 7  | 10  |   A   |   E   |   E   |   L   |   M   |   O   |   P   |   X   |   S   |   T   | **R**  |\n",
    "| 8  | 8   |   A   |   E   |   E   |   L   |   M   |   O   |   P   |   R   | **S** |   T   |   X    |\n",
    "| 9  | 9   |   A   |   E   |   E   |   L   |   M   |   O   |   P   |   R   |   S   | **T** |   X    |\n",
    "| 10 | 10  |   A   |   E   |   E   |   L   |   M   |   O   |   P   |   R   |   S   |   T   | **X**  |\n",
    "\n",
    "An example of the algorithm working can be seen below:\n",
    "\n",
    "<img src=\"https://raw.githubusercontent.com/heray1990/AlgorithmVisualization/master/images/selection_sort_50samples_fps30_dpi50.gif\" width=\"40%\">\n",
    "\n",
    "This algorithm takes quadratic time (even if the input is sorted), with a linear number of exchanges."
   ]
  },
  {
   "cell_type": "markdown",
   "metadata": {},
   "source": [
    "# Insertion Sort\n",
    "\n",
    "Insertion sort is another elementary method that interestingly has quite different performance characteristics than Selection sort. For insertion sort, we will move an index $i$ from left to right and in the $i$'th iteration, we are going to move $vec[i]$ into position among the elements to its left. We consider that everything from $i$ to its left is sorted (in ascending order) and everything from its right is unseen. Then, we increment $i$, seen a new element (which is unordered). We use another index ($j$) that starts at $i$ going to the left. This index $j$ swaps the current element ($vec[i]$ with its higher element at the left $vec[j]$ when $vec[i]$ is less than $vec[j]$. It stops swapping when $vec[j]$ is smaller than $vec[i]$. We then increase $i$, showing a new element. This process goes up to the end of the array. The image below illustrates the insertion sort algorithm using cards.\n",
    "\n",
    "<img src=\"https://cdn.rawgit.com/rogergranada/MOOCs/master/Coursera/Princeton/Algorithms-Part-1/Week%202/images/insertion_sort.svg\" width=\"70%\" align=\"center\"/>\n",
    "\n",
    "Here, we use the image below to illustrate how to implement the algorithm. Thus, consider that the red arrow scans from left to right, entries the left of the red arrow are sorted in ascending order. Entries to its right are not seen yet. \n",
    "\n",
    "<img src=\"https://cdn.rawgit.com/rogergranada/MOOCs/master/Coursera/Princeton/Algorithms-Part-1/Week%202/images/insertion_sort_algorithm.svg\" width=\"70%\" align=\"center\"/>\n",
    "\n",
    "The steps follow:\n",
    "\n",
    "- Move the pointer to the right\n",
    "```python\n",
    "i += 1\n",
    "```\n",
    "- Move $j$ from right to left and swap $vec[i]$ when its less than $vec[j]$\n",
    "```python\n",
    "for j in range(i-1, -1, -1):\n",
    "    if less(vec[j], vec[j-1]):\n",
    "        exchange(vec, j, j-1)\n",
    "```\n",
    "\n",
    "The full implementation is as follows:"
   ]
  },
  {
   "cell_type": "code",
   "execution_count": 39,
   "metadata": {},
   "outputs": [
    {
     "name": "stdout",
     "output_type": "stream",
     "text": [
      "3\n",
      "2\n",
      "1\n",
      "0\n"
     ]
    }
   ],
   "source": [
    "class Insertion(object):\n",
    "    def __init__(self):\n",
    "        pass\n",
    "\n",
    "    def sort(self, vec):\n",
    "        N = len(vec)\n",
    "        for i in range(N):\n",
    "            minval = i\n",
    "            for j in range(i+1, N):\n",
    "                if self.less(vec[j], vec[minval]):\n",
    "                    minval = j\n",
    "            self.exchange(vec, i, minval)\n",
    "            #print(vec)\n",
    "        return vec\n",
    "\n",
    "    def less(self, v, w):\n",
    "        return v.compare_to(w) < 0\n",
    "\n",
    "    def exchange(self, vec, i, j):\n",
    "        swap = vec[i]\n",
    "        vec[i] = vec[j]\n",
    "        vec[j] = swap\n",
    "        return vec\n",
    "\n",
    "# Test the implementation\n",
    "vec = [Integer(7), Integer(10), Integer(5), Integer(3), Integer(8), \n",
    "       Integer(4), Integer(2), Integer(9), Integer(6)]\n",
    "s = Selection()\n",
    "print('Random init: {}'.format(vec))\n",
    "print('Sorted init: {}'.format(s.sort(vec)))"
   ]
  },
  {
   "cell_type": "markdown",
   "metadata": {},
   "source": [
    "An example of the algorithm working can be seen below:\n",
    "\n",
    "<img src=\"https://raw.githubusercontent.com/heray1990/AlgorithmVisualization/master/images/insertion_sort_50samples_fps30_dpi50.gif\" width=\"40%\">"
   ]
  },
  {
   "cell_type": "markdown",
   "metadata": {},
   "source": [
    "# Questions"
   ]
  },
  {
   "cell_type": "markdown",
   "metadata": {},
   "source": [
    "1. Consider the data type `Temperature` defined below. Which of the following required properties of the `Comparable` interface does the `compareTo()` method violate?\n",
    "\n",
    "\n",
    "```java\n",
    "public class Temperature implements Comparable<Temperature> {\n",
    "    private final double degrees;\n",
    "    \n",
    "    public Temperature(double degrees) {\n",
    "        if (Double.isNaN(degrees))\n",
    "            throw new IllegalArgumentException();\n",
    "        this.degrees = degrees;\n",
    "    }\n",
    "    public int compareTo(Temperature that) {\n",
    "        double EPSILON = 0.1;\n",
    "        if (this.degrees < that.degrees - EPSILON) return -1;\n",
    "        if (this.degrees > that.degrees + EPSILON) return +1;\n",
    "        return 0;\n",
    "    }\n",
    "    ...\n",
    "}\n",
    "```\n",
    "\n",
    "&#9744; Antisymmetry<br>\n",
    "&#9745; Transitivity<br>\n",
    "&#9744; Totality<br>\n",
    "&#9744; None of the above\n",
    "\n",
    "**Answer**: Suppose that `a`, `b`, and `c` refer to objects corresponding to temperatures of $10.16^{\\circ}$, $10.08^{\\circ}$ and $10.00^{\\circ}$, respectively. Then, `a.compareTo(b) <= 0` and `b.compareTo(c) <= 0`, but `a.compareTo(c) > 0`. For this reason, you must not introduce a fudge factor when comparing two floating-point numbers if you want to implement the `Comparable` interface."
   ]
  },
  {
   "cell_type": "markdown",
   "metadata": {},
   "source": [
    "2. How many compares does selection sort make when the input array is already sorted?<br>\n",
    "\n",
    "&#9744; logarithmic<br>\n",
    "&#9744; linear<br>\n",
    "&#9745; quadratic<br>\n",
    "&#9744; exponential"
   ]
  },
  {
   "cell_type": "markdown",
   "metadata": {},
   "source": [
    "3. How many compares does insertion sort make on an input array that is already sorted?<br>\n",
    "\n",
    "&#9744; constant<br>\n",
    "&#9744; logarithmic<br>\n",
    "&#9745; linear<br>\n",
    "&#9744; quadratic"
   ]
  },
  {
   "cell_type": "code",
   "execution_count": null,
   "metadata": {},
   "outputs": [],
   "source": [
    "&#9744; "
   ]
  }
 ],
 "metadata": {
  "kernelspec": {
   "display_name": "Python 2",
   "language": "python",
   "name": "python2"
  },
  "language_info": {
   "codemirror_mode": {
    "name": "ipython",
    "version": 2
   },
   "file_extension": ".py",
   "mimetype": "text/x-python",
   "name": "python",
   "nbconvert_exporter": "python",
   "pygments_lexer": "ipython2",
   "version": "2.7.12"
  }
 },
 "nbformat": 4,
 "nbformat_minor": 2
}
