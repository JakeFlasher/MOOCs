{
 "cells": [
  {
   "cell_type": "markdown",
   "metadata": {},
   "source": [
    "# Merge Sort\n",
    "\n",
    "Mergesort is one of two classic sorting algorithms that are critical components in the world's computational infrastructure. It is the basic sort in plenty of different programming systems including Java. The idea of this algorithm is that we are going to divide an array into two halves. Recursively, we sort each of the halves and then merge the result. Before checking the whole algorithm, let us focus on the merging part of the merge sort.\n",
    "\n",
    "For merging two arrays, they must have sorted. Having them sorted, we copy the entire array and perform a comparison between its two parts. Let `lo[i]` be the first half of the array indexed by `i` and `hi[j]` be the second half of the array indexed by `j`. Our final sorted array will be indexed by `k`. For each step, we compare `lo[i]` with `hi[j]` and copying the lowest value to the final array `a[k]`. The image below illustrates the merge part.\n",
    "\n",
    "<img src=\"https://cdn.rawgit.com/rogergranada/MOOCs/master/Coursera/Princeton/Algorithms-Part-1/Week%203/images/merge.svg\" width=\"70%\" align=\"center\"/>\n",
    "\n",
    "The implementation of the merge part of the algorithm is presented below:"
   ]
  },
  {
   "cell_type": "code",
   "execution_count": 18,
   "metadata": {},
   "outputs": [
    {
     "name": "stdout",
     "output_type": "stream",
     "text": [
      "Partial sorted init: [3, 3, 4, 5, 6, 1, 2, 3, 6, 7]\n",
      "Sorted array:        [1, 2, 3, 3, 3, 4, 5, 6, 6, 7]\n"
     ]
    }
   ],
   "source": [
    "# base classes\n",
    "class Integer(object):\n",
    "    def __init__(self, v):\n",
    "        self.v = v\n",
    "        \n",
    "    def __str__(self):\n",
    "        print(self.v)\n",
    "        \n",
    "    def __repr__(self):\n",
    "        return str(self.v)\n",
    "        \n",
    "    def compare_to(self, w):\n",
    "        if self.v < w.v: return -1\n",
    "        if self.v > w.v: return 1\n",
    "        return 0\n",
    "\n",
    "    \n",
    "class MergeSort(object):\n",
    "    def __init__(self):\n",
    "        pass\n",
    "\n",
    "    def sort(self, vec):\n",
    "        pass\n",
    "\n",
    "    def less(self, v, w):\n",
    "        return v.compare_to(w) < 0\n",
    "\n",
    "    # merging part of merge sort\n",
    "    def merge(self, vec, aux, lo, mid, hi):\n",
    "        aux = vec[:]\n",
    "        i, j = lo, mid+1\n",
    "\n",
    "        for k in range(lo, hi):\n",
    "            if i > mid:\n",
    "                vec[k] = aux[j]\n",
    "                j += 1\n",
    "            elif j > hi:\n",
    "                vec[k] = aux[i]\n",
    "                i += 1\n",
    "            elif self.less(aux[j], aux[i]):\n",
    "                vec[k] = aux[j]\n",
    "                j += 1\n",
    "            else:\n",
    "                vec[k] = aux[i]\n",
    "                i += 1\n",
    "        return vec\n",
    "            \n",
    "vec = [Integer(3), Integer(3), Integer(4), Integer(5), Integer(6), \n",
    "       Integer(1), Integer(2), Integer(3), Integer(6), Integer(7)]\n",
    "print('Partial sorted init: {}'.format(vec))\n",
    "aux = []\n",
    "merge_alg = MergeSort()\n",
    "sorted_vec = merge_alg.merge(vec, aux, 0, 4, len(vec))\n",
    "print('Sorted array:        {}'.format(sorted_vec))"
   ]
  },
  {
   "cell_type": "code",
   "execution_count": null,
   "metadata": {},
   "outputs": [],
   "source": []
  },
  {
   "cell_type": "code",
   "execution_count": null,
   "metadata": {},
   "outputs": [],
   "source": []
  },
  {
   "cell_type": "code",
   "execution_count": null,
   "metadata": {},
   "outputs": [],
   "source": []
  },
  {
   "cell_type": "code",
   "execution_count": null,
   "metadata": {},
   "outputs": [],
   "source": []
  },
  {
   "cell_type": "code",
   "execution_count": null,
   "metadata": {},
   "outputs": [],
   "source": []
  },
  {
   "cell_type": "markdown",
   "metadata": {},
   "source": [
    "# Questions"
   ]
  },
  {
   "cell_type": "markdown",
   "metadata": {},
   "source": [
    "1. How many compares does mergesort—the pure version without any optimizations—make to sort an input array that is already sorted?<br>\n",
    "\n",
    "&#9744; constant<br>\n",
    "&#9744; logarithmic<br>\n",
    "&#9744; linear<br>\n",
    "&#9745; linearithmic"
   ]
  },
  {
   "cell_type": "code",
   "execution_count": null,
   "metadata": {},
   "outputs": [],
   "source": []
  }
 ],
 "metadata": {
  "kernelspec": {
   "display_name": "Python 2",
   "language": "python",
   "name": "python2"
  },
  "language_info": {
   "codemirror_mode": {
    "name": "ipython",
    "version": 2
   },
   "file_extension": ".py",
   "mimetype": "text/x-python",
   "name": "python",
   "nbconvert_exporter": "python",
   "pygments_lexer": "ipython2",
   "version": "2.7.12"
  }
 },
 "nbformat": 4,
 "nbformat_minor": 2
}
