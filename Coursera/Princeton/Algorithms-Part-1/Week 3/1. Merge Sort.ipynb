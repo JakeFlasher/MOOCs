{
 "cells": [
  {
   "cell_type": "markdown",
   "metadata": {},
   "source": [
    "# Merge Sort\n",
    "\n",
    "Mergesort is one of two classic sorting algorithms that are critical components in the world's computational infrastructure. It is the basic sort in plenty of different programming systems including Java. The idea of this algorithm is that we are going to divide an array into two halves. Recursively, we sort each of the halves and then merge the result. Before checking the whole algorithm, let us focus on the merging part of the merge sort.\n",
    "\n",
    "For merging two arrays, they must have sorted. Having them sorted, we copy the entire array and perform a comparison between its two parts. Let `lo[i]` be the first half of the array indexed by `i` and `hi[j]` be the second half of the array indexed by `j`. Our final sorted array will be indexed by `k`. For each step, we compare `lo[i]` with `hi[j]` and copying the lowest value to the final array `a[k]`. The image below illustrates the merge part.\n",
    "\n",
    "<img src=\"https://cdn.rawgit.com/rogergranada/MOOCs/master/Coursera/Princeton/Algorithms-Part-1/Week%203/images/merge.svg\" width=\"70%\" align=\"center\"/>\n",
    "\n",
    "The implementation of the merge part of the algorithm is presented below:"
   ]
  },
  {
   "cell_type": "code",
   "execution_count": 12,
   "metadata": {},
   "outputs": [
    {
     "name": "stdout",
     "output_type": "stream",
     "text": [
      "Partial sorted init: [3, 3, 4, 5, 6, 1, 2, 3, 6, 7]\n",
      "Sorted array:        [1, 2, 3, 3, 3, 4, 5, 6, 6, 7]\n"
     ]
    }
   ],
   "source": [
    "# base classes\n",
    "class Integer(object):\n",
    "    def __init__(self, v):\n",
    "        self.v = v\n",
    "        \n",
    "    def __str__(self):\n",
    "        print(self.v)\n",
    "        \n",
    "    def __repr__(self):\n",
    "        return str(self.v)\n",
    "        \n",
    "    def compare_to(self, w):\n",
    "        if self.v < w.v: return -1\n",
    "        if self.v > w.v: return 1\n",
    "        return 0\n",
    "\n",
    "    \n",
    "class MergeSort(object):\n",
    "    def __init__(self):\n",
    "        pass\n",
    "\n",
    "    def sort(self, vec):\n",
    "        # not implemented\n",
    "        pass\n",
    "\n",
    "    def less(self, v, w):\n",
    "        return v.compare_to(w) < 0\n",
    "    \n",
    "    def is_sorted(self, vec, lo, hi):\n",
    "        # not implemented\n",
    "        return True\n",
    "\n",
    "    # merging part of merge sort\n",
    "    def merge(self, vec, aux, lo, mid, hi):\n",
    "        assert self.is_sorted(vec, lo, mid)\n",
    "        assert self.is_sorted(vec, mid+1, hi)\n",
    "        \n",
    "        aux = vec[:]\n",
    "        i, j = lo, mid+1\n",
    "\n",
    "        for k in range(lo, hi):\n",
    "            if i > mid:\n",
    "                vec[k] = aux[j]\n",
    "                j += 1\n",
    "            elif j > hi:\n",
    "                vec[k] = aux[i]\n",
    "                i += 1\n",
    "            elif self.less(aux[j], aux[i]):\n",
    "                vec[k] = aux[j]\n",
    "                j += 1\n",
    "            else:\n",
    "                vec[k] = aux[i]\n",
    "                i += 1\n",
    "        return vec\n",
    "            \n",
    "vec = [Integer(3), Integer(3), Integer(4), Integer(5), Integer(6), \n",
    "       Integer(1), Integer(2), Integer(3), Integer(6), Integer(7)]\n",
    "print('Partial sorted init: {}'.format(vec))\n",
    "aux = []\n",
    "merge_alg = MergeSort()\n",
    "sorted_vec = merge_alg.merge(vec, aux, 0, 4, len(vec))\n",
    "print('Sorted array:        {}'.format(sorted_vec))"
   ]
  },
  {
   "cell_type": "markdown",
   "metadata": {},
   "source": [
    "### Assertions\n",
    "\n",
    "Assertion is a statement to test assumptions about your program. It helps detect logic bugs and documents code. In assertions, an expression is tested and if the result comes up False, an exception is raised. It is usually inserted in the code to check for valid input or output. Python evaluates the accompanying expression, which is hopefully True. In case the expression is False, Python raises an AssertionError exception. In Python, assertions are specified as\n",
    "\n",
    "```python\n",
    "# assert Expression, Message\n",
    "assert is_sorted(vec, lo, hi), \"Vector is not sorted\"\n",
    "```\n",
    "\n",
    "To disable assertion in runtime, you can call Python using `-O` as:\n",
    "\n",
    "```python\n",
    "python -O main.py\n",
    "```\n",
    "\n",
    "An example of assertion is expressed below:"
   ]
  },
  {
   "cell_type": "code",
   "execution_count": 11,
   "metadata": {},
   "outputs": [
    {
     "name": "stdout",
     "output_type": "stream",
     "text": [
      "Sorted array [1, 2, 3, 4, 5]: True\n",
      "Unsorted array [1, 2, 5, 4, 3]: False\n"
     ]
    },
    {
     "ename": "AssertionError",
     "evalue": "Array not sorted",
     "output_type": "error",
     "traceback": [
      "\u001b[0;31m---------------------------------------------------------------------------\u001b[0m",
      "\u001b[0;31mAssertionError\u001b[0m                            Traceback (most recent call last)",
      "\u001b[0;32m<ipython-input-11-52631849aa42>\u001b[0m in \u001b[0;36m<module>\u001b[0;34m()\u001b[0m\n\u001b[1;32m     14\u001b[0m \u001b[0;34m\u001b[0m\u001b[0m\n\u001b[1;32m     15\u001b[0m \u001b[0;32massert\u001b[0m \u001b[0mis_sorted\u001b[0m\u001b[0;34m(\u001b[0m\u001b[0msorted_vec\u001b[0m\u001b[0;34m,\u001b[0m \u001b[0;36m0\u001b[0m\u001b[0;34m,\u001b[0m \u001b[0mlen\u001b[0m\u001b[0;34m(\u001b[0m\u001b[0msorted_vec\u001b[0m\u001b[0;34m)\u001b[0m\u001b[0;34m)\u001b[0m\u001b[0;34m,\u001b[0m \u001b[0;34m'Array not sorted'\u001b[0m\u001b[0;34m\u001b[0m\u001b[0m\n\u001b[0;32m---> 16\u001b[0;31m \u001b[0;32massert\u001b[0m \u001b[0mis_sorted\u001b[0m\u001b[0;34m(\u001b[0m\u001b[0munsorted_vec\u001b[0m\u001b[0;34m,\u001b[0m \u001b[0;36m0\u001b[0m\u001b[0;34m,\u001b[0m \u001b[0mlen\u001b[0m\u001b[0;34m(\u001b[0m\u001b[0munsorted_vec\u001b[0m\u001b[0;34m)\u001b[0m\u001b[0;34m)\u001b[0m\u001b[0;34m,\u001b[0m \u001b[0;34m'Array not sorted'\u001b[0m\u001b[0;34m\u001b[0m\u001b[0m\n\u001b[0m",
      "\u001b[0;31mAssertionError\u001b[0m: Array not sorted"
     ]
    }
   ],
   "source": [
    "def is_sorted(vec, lo, hi):\n",
    "    last = float('-inf')\n",
    "    for i in range(lo, hi):\n",
    "        if vec[i] > last:\n",
    "            last = vec[i]\n",
    "        else:\n",
    "            return False\n",
    "    return True\n",
    "\n",
    "sorted_vec = [1, 2, 3, 4, 5]\n",
    "unsorted_vec = [1, 2, 5, 4, 3]\n",
    "print('Sorted array {}: {}'.format(sorted_vec, is_sorted(sorted_vec, 0, 4)))\n",
    "print('Unsorted array {}: {}'.format(unsorted_vec, is_sorted(unsorted_vec, 0, 4)))\n",
    "\n",
    "assert is_sorted(sorted_vec, 0, len(sorted_vec)), 'Array not sorted'\n",
    "assert is_sorted(unsorted_vec, 0, len(unsorted_vec)), 'Array not sorted'"
   ]
  },
  {
   "cell_type": "code",
   "execution_count": 14,
   "metadata": {},
   "outputs": [
    {
     "name": "stdout",
     "output_type": "stream",
     "text": [
      "Partial sorted init: [3, 3, 4, 5, 6, 1, 2, 3, 6, 7]\n"
     ]
    },
    {
     "ename": "AssertionError",
     "evalue": "",
     "output_type": "error",
     "traceback": [
      "\u001b[0;31m---------------------------------------------------------------------------\u001b[0m",
      "\u001b[0;31mAssertionError\u001b[0m                            Traceback (most recent call last)",
      "\u001b[0;32m<ipython-input-14-7a89590ad20d>\u001b[0m in \u001b[0;36m<module>\u001b[0;34m()\u001b[0m\n\u001b[1;32m     53\u001b[0m \u001b[0maux\u001b[0m \u001b[0;34m=\u001b[0m \u001b[0;34m[\u001b[0m\u001b[0;34m]\u001b[0m\u001b[0;34m\u001b[0m\u001b[0m\n\u001b[1;32m     54\u001b[0m \u001b[0mmerge_alg\u001b[0m \u001b[0;34m=\u001b[0m \u001b[0mMergeSort\u001b[0m\u001b[0;34m(\u001b[0m\u001b[0;34m)\u001b[0m\u001b[0;34m\u001b[0m\u001b[0m\n\u001b[0;32m---> 55\u001b[0;31m \u001b[0msorted_vec\u001b[0m \u001b[0;34m=\u001b[0m \u001b[0mmerge_alg\u001b[0m\u001b[0;34m.\u001b[0m\u001b[0msort\u001b[0m\u001b[0;34m(\u001b[0m\u001b[0mvec\u001b[0m\u001b[0;34m,\u001b[0m \u001b[0maux\u001b[0m\u001b[0;34m,\u001b[0m \u001b[0;36m0\u001b[0m\u001b[0;34m,\u001b[0m \u001b[0mlen\u001b[0m\u001b[0;34m(\u001b[0m\u001b[0mvec\u001b[0m\u001b[0;34m)\u001b[0m\u001b[0;34m)\u001b[0m\u001b[0;34m\u001b[0m\u001b[0m\n\u001b[0m\u001b[1;32m     56\u001b[0m \u001b[0;32mprint\u001b[0m\u001b[0;34m(\u001b[0m\u001b[0;34m'Sorted array:        {}'\u001b[0m\u001b[0;34m.\u001b[0m\u001b[0mformat\u001b[0m\u001b[0;34m(\u001b[0m\u001b[0msorted_vec\u001b[0m\u001b[0;34m)\u001b[0m\u001b[0;34m)\u001b[0m\u001b[0;34m\u001b[0m\u001b[0m\n",
      "\u001b[0;32m<ipython-input-14-7a89590ad20d>\u001b[0m in \u001b[0;36msort\u001b[0;34m(self, vec, aux, lo, hi)\u001b[0m\n\u001b[1;32m      8\u001b[0m             \u001b[0;32mreturn\u001b[0m\u001b[0;34m\u001b[0m\u001b[0m\n\u001b[1;32m      9\u001b[0m         \u001b[0mmid\u001b[0m \u001b[0;34m=\u001b[0m \u001b[0mlo\u001b[0m \u001b[0;34m+\u001b[0m \u001b[0;34m(\u001b[0m\u001b[0mhi\u001b[0m \u001b[0;34m-\u001b[0m \u001b[0mlo\u001b[0m\u001b[0;34m)\u001b[0m\u001b[0;34m/\u001b[0m\u001b[0;36m2\u001b[0m\u001b[0;34m\u001b[0m\u001b[0m\n\u001b[0;32m---> 10\u001b[0;31m         \u001b[0mself\u001b[0m\u001b[0;34m.\u001b[0m\u001b[0msort\u001b[0m\u001b[0;34m(\u001b[0m\u001b[0mvec\u001b[0m\u001b[0;34m,\u001b[0m \u001b[0maux\u001b[0m\u001b[0;34m,\u001b[0m \u001b[0mlo\u001b[0m\u001b[0;34m,\u001b[0m \u001b[0mmid\u001b[0m\u001b[0;34m)\u001b[0m\u001b[0;34m\u001b[0m\u001b[0m\n\u001b[0m\u001b[1;32m     11\u001b[0m         \u001b[0mself\u001b[0m\u001b[0;34m.\u001b[0m\u001b[0msort\u001b[0m\u001b[0;34m(\u001b[0m\u001b[0mvec\u001b[0m\u001b[0;34m,\u001b[0m \u001b[0maux\u001b[0m\u001b[0;34m,\u001b[0m \u001b[0mmid\u001b[0m\u001b[0;34m+\u001b[0m\u001b[0;36m1\u001b[0m\u001b[0;34m,\u001b[0m \u001b[0mhi\u001b[0m\u001b[0;34m)\u001b[0m\u001b[0;34m\u001b[0m\u001b[0m\n\u001b[1;32m     12\u001b[0m         \u001b[0mvec\u001b[0m \u001b[0;34m=\u001b[0m \u001b[0mself\u001b[0m\u001b[0;34m.\u001b[0m\u001b[0mmerge\u001b[0m\u001b[0;34m(\u001b[0m\u001b[0mvec\u001b[0m\u001b[0;34m,\u001b[0m \u001b[0maux\u001b[0m\u001b[0;34m,\u001b[0m \u001b[0mlo\u001b[0m\u001b[0;34m,\u001b[0m \u001b[0mmid\u001b[0m\u001b[0;34m,\u001b[0m \u001b[0mhi\u001b[0m\u001b[0;34m)\u001b[0m\u001b[0;34m\u001b[0m\u001b[0m\n",
      "\u001b[0;32m<ipython-input-14-7a89590ad20d>\u001b[0m in \u001b[0;36msort\u001b[0;34m(self, vec, aux, lo, hi)\u001b[0m\n\u001b[1;32m     10\u001b[0m         \u001b[0mself\u001b[0m\u001b[0;34m.\u001b[0m\u001b[0msort\u001b[0m\u001b[0;34m(\u001b[0m\u001b[0mvec\u001b[0m\u001b[0;34m,\u001b[0m \u001b[0maux\u001b[0m\u001b[0;34m,\u001b[0m \u001b[0mlo\u001b[0m\u001b[0;34m,\u001b[0m \u001b[0mmid\u001b[0m\u001b[0;34m)\u001b[0m\u001b[0;34m\u001b[0m\u001b[0m\n\u001b[1;32m     11\u001b[0m         \u001b[0mself\u001b[0m\u001b[0;34m.\u001b[0m\u001b[0msort\u001b[0m\u001b[0;34m(\u001b[0m\u001b[0mvec\u001b[0m\u001b[0;34m,\u001b[0m \u001b[0maux\u001b[0m\u001b[0;34m,\u001b[0m \u001b[0mmid\u001b[0m\u001b[0;34m+\u001b[0m\u001b[0;36m1\u001b[0m\u001b[0;34m,\u001b[0m \u001b[0mhi\u001b[0m\u001b[0;34m)\u001b[0m\u001b[0;34m\u001b[0m\u001b[0m\n\u001b[0;32m---> 12\u001b[0;31m         \u001b[0mvec\u001b[0m \u001b[0;34m=\u001b[0m \u001b[0mself\u001b[0m\u001b[0;34m.\u001b[0m\u001b[0mmerge\u001b[0m\u001b[0;34m(\u001b[0m\u001b[0mvec\u001b[0m\u001b[0;34m,\u001b[0m \u001b[0maux\u001b[0m\u001b[0;34m,\u001b[0m \u001b[0mlo\u001b[0m\u001b[0;34m,\u001b[0m \u001b[0mmid\u001b[0m\u001b[0;34m,\u001b[0m \u001b[0mhi\u001b[0m\u001b[0;34m)\u001b[0m\u001b[0;34m\u001b[0m\u001b[0m\n\u001b[0m\u001b[1;32m     13\u001b[0m         \u001b[0;32mreturn\u001b[0m \u001b[0mvec\u001b[0m\u001b[0;34m\u001b[0m\u001b[0m\n\u001b[1;32m     14\u001b[0m \u001b[0;34m\u001b[0m\u001b[0m\n",
      "\u001b[0;32m<ipython-input-14-7a89590ad20d>\u001b[0m in \u001b[0;36mmerge\u001b[0;34m(self, vec, aux, lo, mid, hi)\u001b[0m\n\u001b[1;32m     27\u001b[0m     \u001b[0;31m# merging part of merge sort\u001b[0m\u001b[0;34m\u001b[0m\u001b[0;34m\u001b[0m\u001b[0m\n\u001b[1;32m     28\u001b[0m     \u001b[0;32mdef\u001b[0m \u001b[0mmerge\u001b[0m\u001b[0;34m(\u001b[0m\u001b[0mself\u001b[0m\u001b[0;34m,\u001b[0m \u001b[0mvec\u001b[0m\u001b[0;34m,\u001b[0m \u001b[0maux\u001b[0m\u001b[0;34m,\u001b[0m \u001b[0mlo\u001b[0m\u001b[0;34m,\u001b[0m \u001b[0mmid\u001b[0m\u001b[0;34m,\u001b[0m \u001b[0mhi\u001b[0m\u001b[0;34m)\u001b[0m\u001b[0;34m:\u001b[0m\u001b[0;34m\u001b[0m\u001b[0m\n\u001b[0;32m---> 29\u001b[0;31m         \u001b[0;32massert\u001b[0m \u001b[0mself\u001b[0m\u001b[0;34m.\u001b[0m\u001b[0mis_sorted\u001b[0m\u001b[0;34m(\u001b[0m\u001b[0mvec\u001b[0m\u001b[0;34m,\u001b[0m \u001b[0mlo\u001b[0m\u001b[0;34m,\u001b[0m \u001b[0mmid\u001b[0m\u001b[0;34m)\u001b[0m\u001b[0;34m\u001b[0m\u001b[0m\n\u001b[0m\u001b[1;32m     30\u001b[0m         \u001b[0;32massert\u001b[0m \u001b[0mself\u001b[0m\u001b[0;34m.\u001b[0m\u001b[0mis_sorted\u001b[0m\u001b[0;34m(\u001b[0m\u001b[0mvec\u001b[0m\u001b[0;34m,\u001b[0m \u001b[0mmid\u001b[0m\u001b[0;34m+\u001b[0m\u001b[0;36m1\u001b[0m\u001b[0;34m,\u001b[0m \u001b[0mhi\u001b[0m\u001b[0;34m)\u001b[0m\u001b[0;34m\u001b[0m\u001b[0m\n\u001b[1;32m     31\u001b[0m \u001b[0;34m\u001b[0m\u001b[0m\n",
      "\u001b[0;31mAssertionError\u001b[0m: "
     ]
    }
   ],
   "source": [
    "# Implementing the whole MergeSort class\n",
    "class MergeSort(object):\n",
    "    def __init__(self):\n",
    "        pass\n",
    "\n",
    "    def sort(self, vec, aux, lo, hi):\n",
    "        if hi <= lo:\n",
    "            return\n",
    "        mid = lo + (hi - lo)/2\n",
    "        self.sort(vec, aux, lo, mid)\n",
    "        self.sort(vec, aux, mid+1, hi)\n",
    "        vec = self.merge(vec, aux, lo, mid, hi)\n",
    "        return vec\n",
    "\n",
    "    def less(self, v, w):\n",
    "        return v.compare_to(w) < 0\n",
    "    \n",
    "    def is_sorted(self, vec, lo, hi):\n",
    "        last = float('-inf')\n",
    "        for i in range(lo, hi):\n",
    "            if vec[i] > last:\n",
    "                last = vec[i]\n",
    "            else:\n",
    "                return False\n",
    "        return True\n",
    "\n",
    "    # merging part of merge sort\n",
    "    def merge(self, vec, aux, lo, mid, hi):\n",
    "        #assert self.is_sorted(vec, lo, mid)\n",
    "        #assert self.is_sorted(vec, mid+1, hi)\n",
    "        \n",
    "        aux = vec[:]\n",
    "        i, j = lo, mid+1\n",
    "\n",
    "        for k in range(lo, hi):\n",
    "            if i > mid:\n",
    "                vec[k] = aux[j]\n",
    "                j += 1\n",
    "            elif j > hi:\n",
    "                vec[k] = aux[i]\n",
    "                i += 1\n",
    "            elif self.less(aux[j], aux[i]):\n",
    "                vec[k] = aux[j]\n",
    "                j += 1\n",
    "            else:\n",
    "                vec[k] = aux[i]\n",
    "                i += 1\n",
    "        return vec\n",
    "            \n",
    "vec = [Integer(3), Integer(3), Integer(4), Integer(5), Integer(6), \n",
    "       Integer(1), Integer(2), Integer(3), Integer(6), Integer(7)]\n",
    "print('Partial sorted init: {}'.format(vec))\n",
    "aux = []\n",
    "merge_alg = MergeSort()\n",
    "sorted_vec = merge_alg.sort(vec, aux, 0, len(vec))\n",
    "print('Sorted array:        {}'.format(sorted_vec))"
   ]
  },
  {
   "cell_type": "markdown",
   "metadata": {},
   "source": [
    "## Merge Sort Trace\n",
    "\n",
    "| call                               |   0   |   1   |   2   |   3   |   4   |   5   |   6   |   7   |   8   |   9   |  10   |  11   |  12   |  13   |  14   |  15   |\n",
    "| ---------------------------------- | ----- | ----- | ----- | ----- | ----- | ----- | ----- | ----- | ----- | ----- | ----- | ----- | ----- | ----- | ----- | ----- |\n",
    "| Init:                              | **M** | **E** | **R** | **G** | **E** | **S** | **O** | **R** | **T** | **E** | **X** | **A** | **M** | **P** | **L** | **E** |\n",
    "| merge(vec, aux, **0**, 0, *1*)     | **E** | **M** |   R   |   G   |   E   |   S   |   O   |   R   |   T   |   E   |   X   |   A   |   M   |   P   |   L   |   E   |\n",
    "| merge(vec, aux, **2**, 2, *3*)     |   E   |   M   | **G** | **R** |   E   |   S   |   O   |   R   |   T   |   E   |   X   |   A   |   M   |   P   |   L   |   E   |\n",
    "| merge(vec, aux, **0**, 1, *3*)     | **E** | **G** | **M** | **R** |   E   |   S   |   O   |   R   |   T   |   E   |   X   |   A   |   M   |   P   |   L   |   E   |\n",
    "| merge(vec, aux, **4**, 4, *5*)     |   E   |   G   |   M   |   R   | **E** | **S** |   O   |   R   |   T   |   E   |   X   |   A   |   M   |   P   |   L   |   E   |\n",
    "| merge(vec, aux, **6**, 6, *7*)     |   E   |   G   |   M   |   R   |   E   |   S   | **O** | **R** |   T   |   E   |   X   |   A   |   M   |   P   |   L   |   E   |\n",
    "| merge(vec, aux, **4**, 5, *7*)     |   E   |   G   |   M   |   R   | **E** | **O** | **R** | **S** |   T   |   E   |   X   |   A   |   M   |   P   |   L   |   E   |\n",
    "| merge(vec, aux, **0**, 3, *7*)     | **E** | **E** | **G** | **M** | **O** | **R** | **R** | **S** |   T   |   E   |   X   |   A   |   M   |   P   |   L   |   E   |\n",
    "| merge(vec, aux, **8**, 8, *9*)     |   E   |   E   |   G   |   M   |   O   |   R   |   R   |   S   | **E** | **T** |   X   |   A   |   M   |   P   |   L   |   E   |\n",
    "| merge(vec, aux, **10**, 10, *11*)  |   E   |   E   |   G   |   M   |   O   |   R   |   R   |   S   |   E   |   T   | **A** | **X** |   M   |   P   |   L   |   E   |\n",
    "| merge(vec, aux, **8**, 9, *11*)    |   E   |   E   |   G   |   M   |   O   |   R   |   R   |   S   | **A** | **E** | **T** | **X** |   M   |   P   |   L   |   E   |\n",
    "| merge(vec, aux, **12**, 12, *13*)  |   E   |   E   |   G   |   M   |   O   |   R   |   R   |   S   |   A   |   E   |   T   |   X   | **M** | **P** |   L   |   E   |\n",
    "| merge(vec, aux, **14**, 14, *15*)  |   E   |   E   |   G   |   M   |   O   |   R   |   R   |   S   |   A   |   E   |   T   |   X   |   M   |   P   | **E** | **L** |\n",
    "| merge(vec, aux, **12**, 13, *15*)  |   E   |   E   |   G   |   M   |   O   |   R   |   R   |   S   |   A   |   E   |   T   |   X   | **E** | **L** | **M** | **P** |\n",
    "| merge(vec, aux, **8**, 11, *15*)   |   E   |   E   |   G   |   M   |   O   |   R   |   R   |   S   | **A** | **E** | **E** | **L** | **M** | **P** | **T** | **X** |\n",
    "| merge(vec, aux, **0**, 7, *15*)    | **A** | **E** | **E** | **E** | **E** | **G** | **L** | **M** | **M** | **O** | **P** | **R** | **R** | **S** | **T** | **X** |"
   ]
  },
  {
   "cell_type": "code",
   "execution_count": null,
   "metadata": {},
   "outputs": [],
   "source": []
  },
  {
   "cell_type": "markdown",
   "metadata": {},
   "source": [
    "# Questions"
   ]
  },
  {
   "cell_type": "markdown",
   "metadata": {},
   "source": [
    "1. How many compares does mergesort—the pure version without any optimizations—make to sort an input array that is already sorted?<br>\n",
    "\n",
    "&#9744; constant<br>\n",
    "&#9744; logarithmic<br>\n",
    "&#9744; linear<br>\n",
    "&#9745; linearithmic"
   ]
  },
  {
   "cell_type": "code",
   "execution_count": null,
   "metadata": {},
   "outputs": [],
   "source": []
  }
 ],
 "metadata": {
  "kernelspec": {
   "display_name": "Python 2",
   "language": "python",
   "name": "python2"
  },
  "language_info": {
   "codemirror_mode": {
    "name": "ipython",
    "version": 2
   },
   "file_extension": ".py",
   "mimetype": "text/x-python",
   "name": "python",
   "nbconvert_exporter": "python",
   "pygments_lexer": "ipython2",
   "version": "2.7.12"
  }
 },
 "nbformat": 4,
 "nbformat_minor": 2
}
