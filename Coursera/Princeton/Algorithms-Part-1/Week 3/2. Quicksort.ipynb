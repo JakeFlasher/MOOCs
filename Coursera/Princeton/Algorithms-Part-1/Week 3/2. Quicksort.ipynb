{
 "cells": [
  {
   "cell_type": "markdown",
   "metadata": {},
   "source": [
    "# Quicksort"
   ]
  },
  {
   "cell_type": "markdown",
   "metadata": {},
   "source": [
    "Quicksort is one of the most important algorithms of the 20th century and it is widely used for system sorts and many other applications. This method was invented in 1961 by Tony Hore, who won the Turing Award in 1980 for this and other work. It is a recursive method, and its basic idea is that it does the recursion after it does the work. Thus, it first randomly shuffle the array (that is an important step) and then partition the array in order to divide it so that for some value `j`, there is no larger entry to its left, and no smaller entry to its right. Once we have the array partitioned in that way, we place `j` in the middle. Once we have it arranged in that way, then we recursively sort the two parts. Sort the left part, and then sort the right part. After those two things arrays are sorted, the whole content is sorted. \n",
    "\n",
    "The image below illustrates how the Quicksort partitioning works. The idea is to arbitrarily choose the first element to be the partitioning element. Since we shuffled the array, we pick a random element from the array. We then maintain an `i` pointer that moves from left to right, and a `j` pointer that moves from right to left. \n",
    "\n",
    "<img src=\"https://cdn.rawgit.com/rogergranada/MOOCs/master/Coursera/Princeton/Algorithms-Part-1/Week%203/images/quick_partioning.svg\" width=\"70%\" align=\"center\"/>"
   ]
  },
  {
   "cell_type": "code",
   "execution_count": null,
   "metadata": {},
   "outputs": [],
   "source": []
  },
  {
   "cell_type": "code",
   "execution_count": null,
   "metadata": {},
   "outputs": [],
   "source": []
  },
  {
   "cell_type": "code",
   "execution_count": null,
   "metadata": {},
   "outputs": [],
   "source": []
  },
  {
   "cell_type": "code",
   "execution_count": null,
   "metadata": {},
   "outputs": [],
   "source": []
  },
  {
   "cell_type": "code",
   "execution_count": null,
   "metadata": {},
   "outputs": [],
   "source": []
  },
  {
   "cell_type": "code",
   "execution_count": null,
   "metadata": {},
   "outputs": [],
   "source": []
  },
  {
   "cell_type": "markdown",
   "metadata": {},
   "source": [
    "# Questions"
   ]
  },
  {
   "cell_type": "markdown",
   "metadata": {},
   "source": [
    "1. What is the expected running time of randomized quicksort to sort an array of `n` distinct keys when the array is already sorted?<br>\n",
    "\n",
    "&#9744; linear<br>\n",
    "&#9745; linearithmic<br>\n",
    "&#9744; quadratic<br>\n",
    "&#9744; exponential"
   ]
  },
  {
   "cell_type": "markdown",
   "metadata": {},
   "source": [
    "&#9744; "
   ]
  }
 ],
 "metadata": {
  "kernelspec": {
   "display_name": "Python 2",
   "language": "python",
   "name": "python2"
  },
  "language_info": {
   "codemirror_mode": {
    "name": "ipython",
    "version": 2
   },
   "file_extension": ".py",
   "mimetype": "text/x-python",
   "name": "python",
   "nbconvert_exporter": "python",
   "pygments_lexer": "ipython2",
   "version": "2.7.12"
  }
 },
 "nbformat": 4,
 "nbformat_minor": 2
}
