{
 "cells": [
  {
   "cell_type": "markdown",
   "metadata": {},
   "source": [
    "# Quicksort"
   ]
  },
  {
   "cell_type": "markdown",
   "metadata": {},
   "source": [
    "Quicksort is one of the most important algorithms of the 20th century and it is widely used for system sorts and many other applications. This method was invented in 1961 by Tony Hore, who won the Turing Award in 1980 for this and other work. It is a recursive method, and its basic idea is that it does the recursion after it does the work. Thus, it first randomly shuffle the array (that is an important step) and then partition the array in order to divide it so that for some value `j`, there is no larger entry to its left, and no smaller entry to its right. Once we have the array partitioned in that way, we place `j` in the middle. Once we have it arranged in that way, then we recursively sort the two parts. Sort the left part, and then sort the right part. After those two things arrays are sorted, the whole content is sorted. \n",
    "\n",
    "The image below illustrates how the Quicksort partitioning works. The idea is to arbitrarily choose the first element to be the partitioning element. Since we shuffled the array, we pick a random element from the array. We then maintain an `i` pointer that moves from left to right, and a `j` pointer that moves from right to left. \n",
    "\n",
    "<img src=\"https://cdn.rawgit.com/rogergranada/MOOCs/master/Coursera/Princeton/Algorithms-Part-1/Week%203/images/quick_partioning.svg\" width=\"70%\" align=\"center\"/>\n",
    "\n",
    "Thus, we can perform the following steps.\n",
    "\n",
    "Repeat until `i` and `j` pointers cross.\n",
    "- Scan `i` from left to right so long as (`vec[i] < vec[lo]`)\n",
    "- Scan `j` from right to left so long as (`vec[j] > vec[lo]`)\n",
    "- Exchange `vec[i]` with `vec[j]`\n",
    "\n",
    "When pointers cross:\n",
    "- Exchange `vec[lo]` with `vec[j]`\n",
    "\n",
    "Below we present the code for partitioning."
   ]
  },
  {
   "cell_type": "code",
   "execution_count": 11,
   "metadata": {},
   "outputs": [
    {
     "name": "stdout",
     "output_type": "stream",
     "text": [
      "Initial array:   [4, 1, 6, 2, 5, 7, 3]\n",
      "Central element: 4\n",
      "Partition array: [2, 1, 3, 4, 5, 7, 6]\n"
     ]
    }
   ],
   "source": [
    "def partition(vec, lo, hi):\n",
    "    i, j = lo+1, hi-1\n",
    "    while True:\n",
    "        while vec[i] < vec[lo]:\n",
    "            i += 1\n",
    "            if i == hi: break\n",
    "        while vec[j] > vec[lo]:\n",
    "            j -= 1\n",
    "            if j == lo: break\n",
    "        if i > j: break\n",
    "        vec[j], vec[i] = vec[i], vec[j]\n",
    "    vec[lo], vec[j] = vec[j], vec[lo]\n",
    "    return j\n",
    "\n",
    "vec = [4, 1, 6, 2, 5, 7, 3]\n",
    "print('Initial array:   {}'.format(vec))\n",
    "print('Central element: {}'.format(vec[0]))\n",
    "partition(vec, 0, len(vec))\n",
    "print('Partition array: {}'.format(vec))"
   ]
  },
  {
   "cell_type": "markdown",
   "metadata": {},
   "source": [
    "Below we have the complete implementation of the Quick Sort algorithm:"
   ]
  },
  {
   "cell_type": "code",
   "execution_count": 15,
   "metadata": {},
   "outputs": [
    {
     "name": "stdout",
     "output_type": "stream",
     "text": [
      "Initial array: [1, 2, 3, 4, 5, 6, 7, 8, 9, 10]\n",
      "[4, 1, 7, 6, 9, 8, 2, 10, 3, 5]\n",
      "Sorted array:        None\n"
     ]
    }
   ],
   "source": [
    "# Load Integer class\n",
    "%run ./integer_class.py\n",
    "%run ./shuffle_class.py\n",
    "\n",
    "class QuickSort(object):\n",
    "    def __init__(self):\n",
    "        pass\n",
    "\n",
    "    def sort(self, vec, lo, hi):\n",
    "        vec = Shuffle().shuffle(vec)\n",
    "        print vec\n",
    "\n",
    "    def less(self, v, w):\n",
    "        return v.compare_to(w) < 0\n",
    "    \n",
    "    def is_sorted(self, vec):\n",
    "        val = float('-inf')\n",
    "        for i in range(len(vec)):\n",
    "            if vec[i].v < val:\n",
    "                return False\n",
    "            val = vec[i].v\n",
    "        return True\n",
    "    \n",
    "    def exchange(self, vec, i, j):\n",
    "        swap = vec[i]\n",
    "        vec[i] = vec[j]\n",
    "        vec[j] = swap\n",
    "        return vec\n",
    "\n",
    "    # partition\n",
    "    def partition(vec, lo, hi):\n",
    "        i, j = lo+1, hi-1\n",
    "        while True:\n",
    "            while self.less(vec[i], vec[lo]):\n",
    "                i += 1\n",
    "                if i == hi: break\n",
    "            while self.less(vec[lo], vec[lo]):\n",
    "                j -= 1\n",
    "                if j == lo: break\n",
    "            if i > j: break\n",
    "            self.exchange(vec, j, i)\n",
    "        self.exchange(vec, j, lo)\n",
    "        return j\n",
    "    \n",
    "            \n",
    "vec = [Integer(1), Integer(2), Integer(3), Integer(4), Integer(5), \n",
    "       Integer(6), Integer(7), Integer(8), Integer(9), Integer(10)]\n",
    "print('Initial array: {}'.format(vec))\n",
    "quick_alg = QuickSort()\n",
    "sorted_vec = quick_alg.sort(vec, 0, len(vec))\n",
    "print('Sorted array:  {}'.format(sorted_vec))"
   ]
  },
  {
   "cell_type": "code",
   "execution_count": null,
   "metadata": {},
   "outputs": [],
   "source": []
  },
  {
   "cell_type": "code",
   "execution_count": null,
   "metadata": {},
   "outputs": [],
   "source": []
  },
  {
   "cell_type": "code",
   "execution_count": null,
   "metadata": {},
   "outputs": [],
   "source": []
  },
  {
   "cell_type": "code",
   "execution_count": null,
   "metadata": {},
   "outputs": [],
   "source": []
  },
  {
   "cell_type": "code",
   "execution_count": null,
   "metadata": {},
   "outputs": [],
   "source": []
  },
  {
   "cell_type": "markdown",
   "metadata": {},
   "source": [
    "# Questions"
   ]
  },
  {
   "cell_type": "markdown",
   "metadata": {},
   "source": [
    "1. What is the expected running time of randomized quicksort to sort an array of `n` distinct keys when the array is already sorted?<br>\n",
    "\n",
    "&#9744; linear<br>\n",
    "&#9745; linearithmic<br>\n",
    "&#9744; quadratic<br>\n",
    "&#9744; exponential"
   ]
  },
  {
   "cell_type": "markdown",
   "metadata": {},
   "source": [
    "&#9744; "
   ]
  }
 ],
 "metadata": {
  "kernelspec": {
   "display_name": "Python 2",
   "language": "python",
   "name": "python2"
  },
  "language_info": {
   "codemirror_mode": {
    "name": "ipython",
    "version": 2
   },
   "file_extension": ".py",
   "mimetype": "text/x-python",
   "name": "python",
   "nbconvert_exporter": "python",
   "pygments_lexer": "ipython2",
   "version": "2.7.12"
  }
 },
 "nbformat": 4,
 "nbformat_minor": 2
}
