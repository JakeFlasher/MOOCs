{
 "cells": [
  {
   "cell_type": "markdown",
   "metadata": {},
   "source": [
    "# Quicksort"
   ]
  },
  {
   "cell_type": "markdown",
   "metadata": {},
   "source": [
    "Quicksort is one of the most important algorithms of the 20th century and it is widely used for system sorts and many other applications. This method was invented in 1961 by Tony Hore, who won the Turing Award in 1980 for this and other work. It is a recursive method, and its basic idea is that it does the recursion after it does the work. Thus, it first randomly shuffle the array (that is an important step) and then partition the array in order to divide it so that for some value `j`, there is no larger entry to its left, and no smaller entry to its right. Once we have the array partitioned in that way, we place `j` in the middle. Once we have it arranged in that way, then we recursively sort the two parts. Sort the left part, and then sort the right part. After those two things arrays are sorted, the whole content is sorted. \n",
    "\n",
    "The image below illustrates how the Quicksort partitioning works. The idea is to arbitrarily choose the first element to be the partitioning element. Since we shuffled the array, we pick a random element from the array. We then maintain an `i` pointer that moves from left to right, and a `j` pointer that moves from right to left. \n",
    "\n",
    "<img src=\"https://cdn.rawgit.com/rogergranada/MOOCs/master/Coursera/Princeton/Algorithms-Part-1/Week%203/images/quick_partioning.svg\" width=\"70%\" align=\"center\"/>\n",
    "\n",
    "Thus, we can perform the following steps.\n",
    "\n",
    "Repeat until `i` and `j` pointers cross.\n",
    "- Scan `i` from left to right so long as (`vec[i] < vec[lo]`)\n",
    "- Scan `j` from right to left so long as (`vec[j] > vec[lo]`)\n",
    "- Exchange `vec[i]` with `vec[j]`\n",
    "\n",
    "When pointers cross:\n",
    "- Exchange `vec[lo]` with `vec[j]`\n",
    "\n",
    "Below we present the code for partitioning."
   ]
  },
  {
   "cell_type": "code",
   "execution_count": 11,
   "metadata": {},
   "outputs": [
    {
     "name": "stdout",
     "output_type": "stream",
     "text": [
      "Initial array:   [4, 1, 6, 2, 5, 7, 3]\n",
      "Central element: 4\n",
      "Partition array: [2, 1, 3, 4, 5, 7, 6]\n"
     ]
    }
   ],
   "source": [
    "def partition(vec, lo, hi):\n",
    "    i, j = lo+1, hi-1\n",
    "    while True:\n",
    "        while vec[i] < vec[lo]:\n",
    "            i += 1\n",
    "            if i == hi: break\n",
    "        while vec[j] > vec[lo]:\n",
    "            j -= 1\n",
    "            if j == lo: break\n",
    "        if i > j: break\n",
    "        vec[j], vec[i] = vec[i], vec[j]\n",
    "    vec[lo], vec[j] = vec[j], vec[lo]\n",
    "    return j\n",
    "\n",
    "vec = [4, 1, 6, 2, 5, 7, 3]\n",
    "print('Initial array:   {}'.format(vec))\n",
    "print('Central element: {}'.format(vec[0]))\n",
    "partition(vec, 0, len(vec))\n",
    "print('Partition array: {}'.format(vec))"
   ]
  },
  {
   "cell_type": "markdown",
   "metadata": {},
   "source": [
    "Below we have the complete implementation of the Quick Sort algorithm:"
   ]
  },
  {
   "cell_type": "code",
   "execution_count": 56,
   "metadata": {},
   "outputs": [
    {
     "name": "stdout",
     "output_type": "stream",
     "text": [
      "Initial array:  [1, 2, 3, 4, 5, 6, 7, 8, 9, 10]\n",
      "Shuffled array: [8, 6, 2, 1, 10, 4, 5, 9, 7, 3]\n",
      "Sorted array:   [1, 2, 3, 4, 5, 6, 7, 8, 9, 10]\n"
     ]
    }
   ],
   "source": [
    "# Load Integer class\n",
    "%run ./integer_class.py\n",
    "%run ./shuffle_class.py\n",
    "\n",
    "class QuickSort(object):\n",
    "    def __init__(self):\n",
    "        pass\n",
    "\n",
    "    def sort(self, vec, lo=float('-inf'), hi=float('inf')):\n",
    "        if lo == float('-inf'):\n",
    "            Shuffle().shuffle(vec)\n",
    "            print('Shuffled array: {}'.format(vec)) \n",
    "            lo, hi = 0, len(vec)-1\n",
    "            self.sort(vec, lo, hi)\n",
    "        else:\n",
    "            if hi <= lo: return \n",
    "            j = self.partition(vec, lo, hi)\n",
    "            self.sort(vec, lo, j-1)\n",
    "            self.sort(vec, j+1, hi)\n",
    "        return vec\n",
    "\n",
    "    def less(self, v, w):\n",
    "        return v.compare_to(w) < 0\n",
    "    \n",
    "    def is_sorted(self, vec):\n",
    "        val = float('-inf')\n",
    "        for i in range(len(vec)):\n",
    "            if vec[i].v < val:\n",
    "                return False\n",
    "            val = vec[i].v\n",
    "        return True\n",
    "    \n",
    "    def exchange(self, vec, i, j):\n",
    "        vec[i], vec[j] = vec[j], vec[i]\n",
    "\n",
    "    def partition(self, vec, lo, hi):\n",
    "        i, j = lo+1, hi\n",
    "        while True:\n",
    "            while self.less(vec[i], vec[lo]):\n",
    "                i += 1\n",
    "                if i >= hi: break\n",
    "            while self.less(vec[lo], vec[j]):\n",
    "                j -= 1\n",
    "                if j == lo: break\n",
    "            if i >= j: break\n",
    "            self.exchange(vec, j, i)\n",
    "        self.exchange(vec, j, lo)\n",
    "        return j\n",
    "    \n",
    "            \n",
    "vec = [Integer(1), Integer(2), Integer(3), Integer(4), Integer(5), \n",
    "       Integer(6), Integer(7), Integer(8), Integer(9), Integer(10)]\n",
    "print('Initial array:  {}'.format(vec))\n",
    "quick_alg = QuickSort()\n",
    "sorted_vec = quick_alg.sort(vec)\n",
    "print('Sorted array:   {}'.format(sorted_vec))"
   ]
  },
  {
   "cell_type": "markdown",
   "metadata": {},
   "source": [
    "A visualization of the Quick Sort can be seen by its trace illustred below, where the first row below the header contains the input and the second row contains the shuffled input. When `lo` and `hi` contain the same value (*e.g.*, row 7 (`lo=1`, `hi=1`) and row 8 (`lo=4`, `hi=4`)), there are no partitions to the subarray. The last row contains the result of the sort algorithm.\n",
    "\n",
    "|  lo   |   j   |   hi  |   0   |   1   |   2   |   3   |   4   |   5   |   6   |   7   |   8   |   9   |  10   |  11   |  12   |  13   |  14   |  15   |\n",
    "| :---: | :---: | :---: | :---: | :---: | :---: | :---: | :---: | :---: | :---: | :---: | :---: | :---: | :---: | :---: | :---: | :---: | :---: | :---: |\n",
    "|  $-$  |  $-$  |  $-$  | **Q** | **U** | **I** | **C** | **K** | **S** | **O** | **R** | **T** | **E** | **X** | **A** | **M** | **P** | **L** | **E** |\n",
    "|  $-$  |  $-$  |  $-$  | **K** | **R** | **A** | **T** | **E** | **L** | **E** | **P** | **U** | **I** | **M** | **Q** | **C** | **X** | **O** | **S** |\n",
    "|   0   |  *5*  |  15   | **E** | **C** | **A** | **I** | **E** |  *K*  | **L** | **P** | **U** | **T** | **M** | **Q** | **R** | **X** | **O** | **S** |\n",
    "|   0   |  *3*  |   4   | **E** | **C** | **A** |  *E*  | **I** |   K   |   L   |   P   |   U   |   T   |   M   |   Q   |   R   |   X   |   O   |   S   |\n",
    "|   0   |  *2*  |   2   | **A** | **C** |  *E*  |   E   |   I   |   K   |   L   |   P   |   U   |   T   |   M   |   Q   |   R   |   X   |   O   |   S   |\n",
    "|   0   |  *0*  |   1   |  *A*  | **C** |   E   |   E   |   I   |   K   |   L   |   P   |   U   |   T   |   M   |   Q   |   R   |   X   |   O   |   S   |\n",
    "|   1   |  $-$  |   1   |   A   |  *C*  |   E   |   E   |   I   |   K   |   L   |   P   |   U   |   T   |   M   |   Q   |   R   |   X   |   O   |   S   |\n",
    "|   4   |  $-$  |   4   |   A   |   C   |   E   |   E   |  *I*  |   K   |   L   |   P   |   U   |   T   |   M   |   Q   |   R   |   X   |   O   |   S   |\n",
    "|   6   |  *6*  |  15   |   A   |   C   |   E   |   E   |   I   |   K   |  *L*  | **P** | **U** | **T** | **M** | **Q** | **R** | **X** | **O** | **S** |\n",
    "|   7   |  *9*  |  15   |   A   |   C   |   E   |   E   |   I   |   K   |   L   | **M** | **O** |  *P*  | **T** | **Q** | **R** | **X** | **U** | **S** |\n",
    "|   7   |  *7*  |   8   |   A   |   C   |   E   |   E   |   I   |   K   |   L   |  *M*  | **O** |   P   |   T   |   Q   |   R   |   X   |   U   |   S   |\n",
    "|   8   |  $-$  |   8   |   A   |   C   |   E   |   E   |   I   |   K   |   L   |   M   |  *O*  |   P   |   T   |   Q   |   R   |   X   |   U   |   S   |\n",
    "|  10   | *13*  |  15   |   A   |   C   |   E   |   E   |   I   |   K   |   L   |   M   |   O   |   P   | **S** | **Q** | **R** |  *T*  | **U** | **X** |\n",
    "|  10   | *12*  |  12   |   A   |   C   |   E   |   E   |   I   |   K   |   L   |   M   |   O   |   P   | **R** | **Q** |  *S*  |   T   |   U   |   X   |\n",
    "|  10   | *11*  |  11   |   A   |   C   |   E   |   E   |   I   |   K   |   L   |   M   |   O   |   P   | **Q** |  *R*  |   S   |   T   |   U   |   X   |\n",
    "|  10   |  $-$  |  10   |   A   |   C   |   E   |   E   |   I   |   K   |   L   |   M   |   O   |   P   |  *Q*  |   R   |   S   |   T   |   U   |   X   |\n",
    "|  14   | *14*  |  15   |   A   |   C   |   E   |   E   |   I   |   K   |   L   |   M   |   O   |   P   |   Q   |   R   |   S   |   T   |  *U*  | **X** |\n",
    "|  15   |  $-$  |  15   |   A   |   C   |   E   |   E   |   I   |   K   |   L   |   M   |   O   |   P   |   Q   |   R   |   S   |   T   |   U   |  *X*  |\n",
    "| $-$   |  $-$  | $-$   | **A** | **C** | **E** | **E** | **I** |  *K*  | **L** | **M** | **O** | **P** | **Q** | **R** | **S** | **T** | **U** | **X** |\n",
    "\n",
    "An example of the algorithm working can be seen below:\n",
    "\n",
    "<img src=\"https://i.gifer.com/ORSX.gif\" width=\"40%\">"
   ]
  },
  {
   "cell_type": "code",
   "execution_count": null,
   "metadata": {},
   "outputs": [],
   "source": []
  },
  {
   "cell_type": "code",
   "execution_count": null,
   "metadata": {},
   "outputs": [],
   "source": []
  },
  {
   "cell_type": "code",
   "execution_count": null,
   "metadata": {},
   "outputs": [],
   "source": []
  },
  {
   "cell_type": "code",
   "execution_count": null,
   "metadata": {},
   "outputs": [],
   "source": []
  },
  {
   "cell_type": "markdown",
   "metadata": {},
   "source": [
    "# Questions"
   ]
  },
  {
   "cell_type": "markdown",
   "metadata": {},
   "source": [
    "1. What is the expected running time of randomized quicksort to sort an array of `n` distinct keys when the array is already sorted?<br>\n",
    "\n",
    "&#9744; linear<br>\n",
    "&#9745; linearithmic<br>\n",
    "&#9744; quadratic<br>\n",
    "&#9744; exponential"
   ]
  },
  {
   "cell_type": "markdown",
   "metadata": {},
   "source": [
    "&#9744; "
   ]
  }
 ],
 "metadata": {
  "kernelspec": {
   "display_name": "Python 2",
   "language": "python",
   "name": "python2"
  },
  "language_info": {
   "codemirror_mode": {
    "name": "ipython",
    "version": 2
   },
   "file_extension": ".py",
   "mimetype": "text/x-python",
   "name": "python",
   "nbconvert_exporter": "python",
   "pygments_lexer": "ipython2",
   "version": "2.7.12"
  }
 },
 "nbformat": 4,
 "nbformat_minor": 2
}
