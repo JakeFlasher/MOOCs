{
 "cells": [
  {
   "cell_type": "code",
   "execution_count": 89,
   "metadata": {
    "collapsed": true
   },
   "outputs": [],
   "source": [
    "import numpy as np\n",
    "import pylab\n",
    "%matplotlib inline"
   ]
  },
  {
   "cell_type": "markdown",
   "metadata": {},
   "source": [
    "## Cost Function:\n",
    "\n",
    "$$J(\\theta) = \\frac{1}{2m}\\sum_{i=1}^{m}(h_\\theta(x^{(i)}) - y^{(i)})^2$$ \n",
    "where:\n",
    "$$h_\\theta(x^{(i)}) = \\theta_0 + \\theta_1X$$"
   ]
  },
  {
   "cell_type": "code",
   "execution_count": 153,
   "metadata": {
    "collapsed": true
   },
   "outputs": [],
   "source": [
    "# Cost function\n",
    "def cost_function(theta, X, y):\n",
    "    \"\"\"\n",
    "    Process the cost function as:\n",
    "       $$J(\\theta) = \\frac{1}{2m}\\sum_{i=1}^{m}(h_\\theta(x^{(i)}) - y^{(i)})^2$$\n",
    "    \"\"\"\n",
    "    m, _ = X.shape                   # number of training examples\n",
    "    predictions = X.dot(theta)       # predictions of hypothesis on all m examples\n",
    "    sqrErrors = (predictions - y)**2 #squared errors\n",
    "    return np.sum(sqrErrors)/float(2*m)"
   ]
  },
  {
   "cell_type": "markdown",
   "metadata": {},
   "source": [
    "## Normal equation:\n",
    "\n",
    "$$\\theta = (X^TX)^{-1}X^TY$$"
   ]
  },
  {
   "cell_type": "code",
   "execution_count": null,
   "metadata": {
    "collapsed": true
   },
   "outputs": [],
   "source": [
    "# Normal equation\n",
    "def normal_equation(X, Y):\n",
    "    \"\"\"\n",
    "    Process the normal equation as:\n",
    "       $$(X^TX)^{-1}X^TY$$\n",
    "    \"\"\"\n",
    "    return np.linalg.inv(X.T.dot(X)).dot(X.T).dot(Y)"
   ]
  },
  {
   "cell_type": "markdown",
   "metadata": {},
   "source": [
    "# Gradient descent:\n",
    "\n",
    "$$\\theta_j := \\theta_j - \\alpha \\frac{\\partial}{\\partial\\theta_j}$$\n",
    "\n",
    "$$\\theta_j := \\theta_j - \\alpha \\frac{1}{m}\\sum_{i=1}^{m}(h_\\theta(x^{(i)}) - y^{(i)})X_j^{(i)}$$"
   ]
  },
  {
   "cell_type": "code",
   "execution_count": 173,
   "metadata": {
    "collapsed": true
   },
   "outputs": [],
   "source": [
    "# Gradient descent\n",
    "def gradient_descent(theta, X, Y, learning_rate):\n",
    "    \"\"\"\n",
    "    Performs gradient descent as:\n",
    "       $$\\theta_j := \\theta_j - \\alpha \\frac{1}{m}\\sum_{i=1}^{m}(h_\\theta(x^{(i)}) - y^{(i)})$$\n",
    "    \"\"\"\n",
    "    m, _ = X.shape\n",
    "    predictions = X.dot(theta)\n",
    "    sum_errors = (predictions - Y)*X\n",
    "    new_theta = theta - learning_rate * 1.0/m * np.sum(sum_errors)\n",
    "    return new_theta\n",
    "        \n",
    "    "
   ]
  },
  {
   "cell_type": "code",
   "execution_count": 175,
   "metadata": {
    "collapsed": false
   },
   "outputs": [
    {
     "name": "stdout",
     "output_type": "stream",
     "text": [
      "[[ 0.68965517]\n",
      " [ 0.68965517]]\n",
      "0.0344827586207\n"
     ]
    },
    {
     "data": {
      "image/png": "[encoded data removed]",
      "text/plain": [
       "<matplotlib.figure.Figure at 0x7fb73d5e8650>"
      ]
     },
     "metadata": {},
     "output_type": "display_data"
    }
   ],
   "source": [
    "def load_data(input):\n",
    "    with open(input) as fin:\n",
    "        for m, line in enumerate(fin, start=1):\n",
    "            arr = line.strip().split()\n",
    "            arr = map(int, arr)\n",
    "            x = [1]\n",
    "            x.extend(arr[:-1])\n",
    "            y = [arr[-1]]\n",
    "            if m == 1:\n",
    "                X = np.array(x)\n",
    "                Y = np.array(y)\n",
    "            else:\n",
    "                X = np.vstack([X, np.array(x)])\n",
    "                Y = np.vstack([Y, np.array(y)])\n",
    "    return X, Y\n",
    "                    \n",
    "#X, Y = load_data('examples.dat')\n",
    "X, Y = load_data('examples2.dat')\n",
    "theta = normal_equation(X, Y)\n",
    "theta_test = np.array([[0.],[0.]])\n",
    "learning_rate = 0.01\n",
    "\n",
    "steps = []\n",
    "tries = 1000\n",
    "for i in range(tries):\n",
    "    theta_test = gradient_descent(theta_test, X, Y, learning_rate)\n",
    "    cost = cost_function(theta_test, X, Y)\n",
    "    #print cost\n",
    "    steps.append(cost)\n",
    "\n",
    "print theta_test\n",
    "print cost\n",
    "pylab.plot(range(tries), steps)\n",
    "pylab.show()\n"
   ]
  },
  {
   "cell_type": "code",
   "execution_count": 176,
   "metadata": {
    "collapsed": false
   },
   "outputs": [
    {
     "name": "stdout",
     "output_type": "stream",
     "text": [
      "[ 2  8 18]\n"
     ]
    }
   ],
   "source": [
    "a = np.array([1,2,3])\n",
    "b = np.array([1,2,3])\n",
    "print (a+b)*a"
   ]
  },
  {
   "cell_type": "code",
   "execution_count": null,
   "metadata": {
    "collapsed": true
   },
   "outputs": [],
   "source": []
  }
 ],
 "metadata": {
  "kernelspec": {
   "display_name": "Python 2",
   "language": "python",
   "name": "python2"
  },
  "language_info": {
   "codemirror_mode": {
    "name": "ipython",
    "version": 2
   },
   "file_extension": ".py",
   "mimetype": "text/x-python",
   "name": "python",
   "nbconvert_exporter": "python",
   "pygments_lexer": "ipython2",
   "version": "2.7.11"
  }
 },
 "nbformat": 4,
 "nbformat_minor": 0
}
