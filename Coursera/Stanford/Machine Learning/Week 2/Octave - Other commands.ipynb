{
 "cells": [
  {
   "cell_type": "code",
   "execution_count": null,
   "metadata": {
    "collapsed": true
   },
   "outputs": [],
   "source": [
    "%% Add to a file costFunction.m\n",
    "function J = costFunctionJ(X, y, theta)\n",
    "\n",
    "% X is the \"design matrix\" containing our training examples.\n",
    "% y is the class labels\n",
    "\n",
    "m = size(X, 1);         % number of training examples\n",
    "predictions = X*theta;  % predictions of hypothesis on all m examples\n",
    "sqrErrors = (predictions-y).^2; %squared errors\n",
    "\n",
    "J = 1/(2*m) * sum(sqrErrors);"
   ]
  },
  {
   "cell_type": "code",
   "execution_count": 2,
   "metadata": {
    "collapsed": false
   },
   "outputs": [
    {
     "name": "stdout",
     "output_type": "stream",
     "text": [
      "X =\n",
      "\n",
      "   1   1\n",
      "   1   2\n",
      "   1   3\n",
      "\n",
      "y =\n",
      "\n",
      "   1\n",
      "   2\n",
      "   3\n",
      "\n",
      "theta =\n",
      "\n",
      "   0\n",
      "   0\n",
      "\n",
      "J =  2.3333\n"
     ]
    }
   ],
   "source": [
    "X = [1 1; 1 2; 1 3]\n",
    "y = [1; 2; 3]\n",
    "theta = [0;0]\n",
    "\n",
    "m = size(X, 1);         % number of training examples\n",
    "predictions = X*theta;  % predictions of hypothesis on all m examples\n",
    "sqrErrors = (predictions-y).^2; %squared errors\n",
    "\n",
    "J = 1/(2*m) * sum(sqrErrors)"
   ]
  },
  {
   "cell_type": "code",
   "execution_count": 3,
   "metadata": {
    "collapsed": false
   },
   "outputs": [
    {
     "name": "stdout",
     "output_type": "stream",
     "text": [
      "A =\n",
      "\n",
      "    92    99     1     8    15    67    74    51    58    40\n",
      "    98    80     7    14    16    73    55    57    64    41\n",
      "     4    81    88    20    22    54    56    63    70    47\n",
      "    85    87    19    21     3    60    62    69    71    28\n",
      "    86    93    25     2     9    61    68    75    52    34\n",
      "    17    24    76    83    90    42    49    26    33    65\n",
      "    23     5    82    89    91    48    30    32    39    66\n",
      "    79     6    13    95    97    29    31    38    45    72\n",
      "    10    12    94    96    78    35    37    44    46    53\n",
      "    11    18   100    77    84    36    43    50    27    59\n",
      "\n",
      "x =\n",
      "\n",
      "    1    2    3    4    5    6    7    8    9   10\n",
      "\n",
      "   2650\n",
      "   2680\n",
      "   2940\n",
      "   2680\n",
      "   2650\n",
      "   2825\n",
      "   2855\n",
      "   2815\n",
      "   2855\n",
      "   2825\n"
     ]
    }
   ],
   "source": [
    "v = zeros(10, 1);\n",
    "A = magic(10)\n",
    "x = [1:10]\n",
    "for i = 1:10\n",
    "  for j = 1:10\n",
    "    v(i) = v(i) + A(i, j) * x(j);\n",
    "  end\n",
    "end\n",
    "disp(v)"
   ]
  },
  {
   "cell_type": "code",
   "execution_count": 4,
   "metadata": {
    "collapsed": false
   },
   "outputs": [
    {
     "name": "stdout",
     "output_type": "stream",
     "text": [
      "A =\n",
      "\n",
      "    92    99     1     8    15    67    74    51    58    40\n",
      "    98    80     7    14    16    73    55    57    64    41\n",
      "     4    81    88    20    22    54    56    63    70    47\n",
      "    85    87    19    21     3    60    62    69    71    28\n",
      "    86    93    25     2     9    61    68    75    52    34\n",
      "    17    24    76    83    90    42    49    26    33    65\n",
      "    23     5    82    89    91    48    30    32    39    66\n",
      "    79     6    13    95    97    29    31    38    45    72\n",
      "    10    12    94    96    78    35    37    44    46    53\n",
      "    11    18   100    77    84    36    43    50    27    59\n",
      "\n",
      "x =\n",
      "\n",
      "    1\n",
      "    2\n",
      "    3\n",
      "    4\n",
      "    5\n",
      "    6\n",
      "    7\n",
      "    8\n",
      "    9\n",
      "   10\n",
      "\n",
      "v =\n",
      "\n",
      "   2650\n",
      "   2680\n",
      "   2940\n",
      "   2680\n",
      "   2650\n",
      "   2825\n",
      "   2855\n",
      "   2815\n",
      "   2855\n",
      "   2825\n",
      "\n"
     ]
    }
   ],
   "source": [
    "A = magic(10)\n",
    "x = [1;2;3;4;5;6;7;8;9;10]\n",
    "v = A*x"
   ]
  },
  {
   "cell_type": "code",
   "execution_count": 5,
   "metadata": {
    "collapsed": false
   },
   "outputs": [
    {
     "name": "stdout",
     "output_type": "stream",
     "text": [
      "y =\n",
      "\n",
      "   0\n",
      "   0\n",
      "   0\n",
      "   0\n",
      "   0\n",
      "\n"
     ]
    }
   ],
   "source": [
    "y = zeros(5,1)"
   ]
  },
  {
   "cell_type": "code",
   "execution_count": 14,
   "metadata": {
    "collapsed": false
   },
   "outputs": [
    {
     "name": "stdout",
     "output_type": "stream",
     "text": [
      "X =\n",
      "\n",
      "   1   2   3\n",
      "   4   5   6\n",
      "   7   8   9\n",
      "\n"
     ]
    }
   ],
   "source": [
    "X = [1 2 3; 4 5 6; 7 8 9]\n",
    "A = zeros(3);\n",
    "B = zeros(3);\n",
    "C = zeros(3);\n",
    "D = zeros(3);\n",
    "\n",
    "for i = 1:3\n",
    "  for j = 1:3\n",
    "    A(i, j) = log(X(i, j));\n",
    "    B(i, j) = X(i, j) ^ 2;\n",
    "    C(i, j) = X(i, j) + 1;\n",
    "    D(i, j) = X(i, j) / 4;\n",
    "  end\n",
    "end"
   ]
  },
  {
   "cell_type": "code",
   "execution_count": 15,
   "metadata": {
    "collapsed": false
   },
   "outputs": [
    {
     "name": "stdout",
     "output_type": "stream",
     "text": [
      "A =\n",
      "\n",
      "   0.00000   0.69315   1.09861\n",
      "   1.38629   1.60944   1.79176\n",
      "   1.94591   2.07944   2.19722\n",
      "\n"
     ]
    }
   ],
   "source": [
    "A % log"
   ]
  },
  {
   "cell_type": "code",
   "execution_count": 16,
   "metadata": {
    "collapsed": false
   },
   "outputs": [
    {
     "name": "stdout",
     "output_type": "stream",
     "text": [
      "B =\n",
      "\n",
      "    1    4    9\n",
      "   16   25   36\n",
      "   49   64   81\n",
      "\n"
     ]
    }
   ],
   "source": [
    "B % ^2"
   ]
  },
  {
   "cell_type": "code",
   "execution_count": 17,
   "metadata": {
    "collapsed": false
   },
   "outputs": [
    {
     "name": "stdout",
     "output_type": "stream",
     "text": [
      "C =\n",
      "\n",
      "    2    3    4\n",
      "    5    6    7\n",
      "    8    9   10\n",
      "\n"
     ]
    }
   ],
   "source": [
    "C % +1"
   ]
  },
  {
   "cell_type": "code",
   "execution_count": 18,
   "metadata": {
    "collapsed": false
   },
   "outputs": [
    {
     "name": "stdout",
     "output_type": "stream",
     "text": [
      "D =\n",
      "\n",
      "   0.25000   0.50000   0.75000\n",
      "   1.00000   1.25000   1.50000\n",
      "   1.75000   2.00000   2.25000\n",
      "\n"
     ]
    }
   ],
   "source": [
    "D % /4"
   ]
  },
  {
   "cell_type": "code",
   "execution_count": 22,
   "metadata": {
    "collapsed": false
   },
   "outputs": [
    {
     "name": "stdout",
     "output_type": "stream",
     "text": [
      "X =\n",
      "\n",
      "   1   2   3\n",
      "   4   5   6\n",
      "   7   8   9\n",
      "\n"
     ]
    }
   ],
   "source": [
    "X = [1 2 3; 4 5 6; 7 8 9]\n",
    "A = zeros(3);\n",
    "B = zeros(3);\n",
    "C = zeros(3);\n",
    "D = zeros(3);"
   ]
  },
  {
   "cell_type": "code",
   "execution_count": 21,
   "metadata": {
    "collapsed": false
   },
   "outputs": [
    {
     "name": "stdout",
     "output_type": "stream",
     "text": [
      "A =\n",
      "\n",
      "   0.00000   0.69315   1.09861\n",
      "   1.38629   1.60944   1.79176\n",
      "   1.94591   2.07944   2.19722\n",
      "\n"
     ]
    }
   ],
   "source": [
    "A = log (X)"
   ]
  },
  {
   "cell_type": "code",
   "execution_count": 24,
   "metadata": {
    "collapsed": false
   },
   "outputs": [
    {
     "name": "stdout",
     "output_type": "stream",
     "text": [
      "B =\n",
      "\n",
      "    30    36    42\n",
      "    66    81    96\n",
      "   102   126   150\n",
      "\n"
     ]
    }
   ],
   "source": [
    "B = X ^ 2"
   ]
  },
  {
   "cell_type": "code",
   "execution_count": 23,
   "metadata": {
    "collapsed": false
   },
   "outputs": [
    {
     "name": "stdout",
     "output_type": "stream",
     "text": [
      "C =\n",
      "\n",
      "    2    3    4\n",
      "    5    6    7\n",
      "    8    9   10\n",
      "\n"
     ]
    }
   ],
   "source": [
    "C = X + 1"
   ]
  },
  {
   "cell_type": "code",
   "execution_count": 20,
   "metadata": {
    "collapsed": false
   },
   "outputs": [
    {
     "name": "stdout",
     "output_type": "stream",
     "text": [
      "D =\n",
      "\n",
      "   0.25000   0.50000   0.75000\n",
      "   1.00000   1.25000   1.50000\n",
      "   1.75000   2.00000   2.25000\n",
      "\n"
     ]
    }
   ],
   "source": [
    "D = X / 4"
   ]
  },
  {
   "cell_type": "code",
   "execution_count": null,
   "metadata": {
    "collapsed": true
   },
   "outputs": [],
   "source": []
  }
 ],
 "metadata": {
  "kernelspec": {
   "display_name": "Octave",
   "language": "octave",
   "name": "octave"
  },
  "language_info": {
   "file_extension": ".m",
   "help_links": [
    {
     "text": "MetaKernel Magics",
     "url": "https://github.com/calysto/metakernel/blob/master/metakernel/magics/README.md"
    }
   ],
   "mimetype": "text/x-octave",
   "name": "octave",
   "version": "0.15.10"
  }
 },
 "nbformat": 4,
 "nbformat_minor": 0
}
