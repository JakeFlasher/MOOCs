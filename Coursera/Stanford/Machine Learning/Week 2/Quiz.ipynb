{
 "cells": [
  {
   "cell_type": "markdown",
   "metadata": {},
   "source": [
    "## Question 1:"
   ]
  },
  {
   "cell_type": "code",
   "execution_count": 31,
   "metadata": {
    "collapsed": false
   },
   "outputs": [
    {
     "name": "stdout",
     "output_type": "stream",
     "text": [
      "A =\n",
      "\n",
      "   1   2\n",
      "   3   4\n",
      "   5   6\n",
      "\n",
      "B =\n",
      "\n",
      "   1   2   3\n",
      "   4   5   6\n",
      "\n"
     ]
    }
   ],
   "source": [
    "A = [1 2; 3 4; 5 6]\n",
    "B = [1 2 3; 4 5 6]"
   ]
  },
  {
   "cell_type": "code",
   "execution_count": 32,
   "metadata": {
    "collapsed": false
   },
   "outputs": [
    {
     "name": "stdout",
     "output_type": "stream",
     "text": [
      "C =\n",
      "\n",
      "    2    5    8\n",
      "    6    9   12\n",
      "\n"
     ]
    }
   ],
   "source": [
    "C = A' + B"
   ]
  },
  {
   "cell_type": "code",
   "execution_count": 33,
   "metadata": {
    "collapsed": false
   },
   "outputs": [
    {
     "name": "stdout",
     "output_type": "stream",
     "text": [
      "C =\n",
      "\n",
      "   22   28\n",
      "   49   64\n",
      "\n"
     ]
    }
   ],
   "source": [
    "C = B * A"
   ]
  },
  {
   "cell_type": "code",
   "execution_count": 34,
   "metadata": {
    "collapsed": false
   },
   "outputs": [
    {
     "name": "stdout",
     "output_type": "stream",
     "text": [
      "error: operator *: nonconformant arguments (op1 is 3x2, op2 is 3x2)\r\n"
     ]
    }
   ],
   "source": [
    "C = B' * A"
   ]
  },
  {
   "cell_type": "markdown",
   "metadata": {},
   "source": [
    "## Question 2:"
   ]
  },
  {
   "cell_type": "code",
   "execution_count": 5,
   "metadata": {
    "collapsed": false
   },
   "outputs": [
    {
     "name": "stdout",
     "output_type": "stream",
     "text": [
      "A =\n",
      "\n",
      "   16    2    3   13\n",
      "    5   11   10    8\n",
      "    9    7    6   12\n",
      "    4   14   15    1\n",
      "\n"
     ]
    }
   ],
   "source": [
    "A = magic(4)"
   ]
  },
  {
   "cell_type": "code",
   "execution_count": 6,
   "metadata": {
    "collapsed": false
   },
   "outputs": [
    {
     "name": "stdout",
     "output_type": "stream",
     "text": [
      "B =\n",
      "\n",
      "   16    2\n",
      "    5   11\n",
      "    9    7\n",
      "    4   14\n",
      "\n"
     ]
    }
   ],
   "source": [
    "B = A(1:4,1:2)"
   ]
  },
  {
   "cell_type": "code",
   "execution_count": 7,
   "metadata": {
    "collapsed": false
   },
   "outputs": [
    {
     "name": "stdout",
     "output_type": "stream",
     "text": [
      "B =\n",
      "\n",
      "   16    2\n",
      "    5   11\n",
      "    9    7\n",
      "    4   14\n",
      "\n"
     ]
    }
   ],
   "source": [
    "B = A(:,1:2)"
   ]
  },
  {
   "cell_type": "markdown",
   "metadata": {},
   "source": [
    "## Question 3:\n",
    "\n",
    "Let A be a 10x10 matrix and x be a 10-element vector. Your friend wants to compute the product Ax and writes the following code:"
   ]
  },
  {
   "cell_type": "code",
   "execution_count": 9,
   "metadata": {
    "collapsed": false
   },
   "outputs": [
    {
     "name": "stdout",
     "output_type": "stream",
     "text": [
      "A =\n",
      "\n",
      "   8   1   6\n",
      "   3   5   7\n",
      "   4   9   2\n",
      "\n",
      "x =\n",
      "\n",
      "   1\n",
      "   2\n",
      "   3\n",
      "\n"
     ]
    }
   ],
   "source": [
    "A = magic(3)\n",
    "x = [1;2;3]\n",
    "v = zeros(3, 1);\n",
    "\n",
    "for i = 1:3\n",
    "  for j = 1:3\n",
    "    v(i) = v(i) + A(i, j) * x(j);\n",
    "  end\n",
    "end"
   ]
  },
  {
   "cell_type": "code",
   "execution_count": 10,
   "metadata": {
    "collapsed": false
   },
   "outputs": [
    {
     "name": "stdout",
     "output_type": "stream",
     "text": [
      "v =\n",
      "\n",
      "   28\n",
      "   34\n",
      "   28\n",
      "\n"
     ]
    }
   ],
   "source": [
    "v"
   ]
  },
  {
   "cell_type": "code",
   "execution_count": 11,
   "metadata": {
    "collapsed": false
   },
   "outputs": [
    {
     "name": "stdout",
     "output_type": "stream",
     "text": [
      "V =\n",
      "\n",
      "   28\n",
      "   34\n",
      "   28\n",
      "\n"
     ]
    }
   ],
   "source": [
    "V = A * x"
   ]
  },
  {
   "cell_type": "markdown",
   "metadata": {},
   "source": [
    "## Question 4:\n",
    "\n",
    "Say you have two column vectors v and w, each with 7 elements (i.e., they have dimensions 7x1). Consider the following code:\n",
    "\n",
    "```octave\n",
    "z = 0;\n",
    "for i = 1:7\n",
    "  z = z + v(i) * w(i)\n",
    "end\n",
    "```\n",
    "\n",
    "Which of the following vectorizations correctly compute z? Check all that apply."
   ]
  },
  {
   "cell_type": "code",
   "execution_count": 35,
   "metadata": {
    "collapsed": false
   },
   "outputs": [
    {
     "name": "stdout",
     "output_type": "stream",
     "text": [
      "v =\n",
      "\n",
      "   1\n",
      "   2\n",
      "   3\n",
      "\n",
      "w =\n",
      "\n",
      "   10\n",
      "   20\n",
      "   30\n",
      "\n",
      "z =  10\n",
      "z =  50\n",
      "z =  140\n",
      " 140\n"
     ]
    }
   ],
   "source": [
    "v = [1;2;3]\n",
    "w = [10;20;30]\n",
    "\n",
    "z = 0;\n",
    "for i = 1:3\n",
    "  z = z + v(i) * w(i)\n",
    "end\n",
    "disp(z)"
   ]
  },
  {
   "cell_type": "code",
   "execution_count": 19,
   "metadata": {
    "collapsed": false
   },
   "outputs": [
    {
     "name": "stdout",
     "output_type": "stream",
     "text": [
      "z =  140\r\n"
     ]
    }
   ],
   "source": [
    "z = sum (v .* w)"
   ]
  },
  {
   "cell_type": "code",
   "execution_count": 36,
   "metadata": {
    "collapsed": false
   },
   "outputs": [
    {
     "name": "stdout",
     "output_type": "stream",
     "text": [
      "z =  140\r\n"
     ]
    }
   ],
   "source": [
    "z = w' * v"
   ]
  },
  {
   "cell_type": "code",
   "execution_count": 38,
   "metadata": {
    "collapsed": false
   },
   "outputs": [
    {
     "name": "stdout",
     "output_type": "stream",
     "text": [
      "z =\n",
      "\n",
      "   10   20   30\n",
      "   20   40   60\n",
      "   30   60   90\n",
      "\n"
     ]
    }
   ],
   "source": [
    "z = w * v'"
   ]
  },
  {
   "cell_type": "markdown",
   "metadata": {},
   "source": [
    "## Question 5\n",
    "\n",
    "In Octave/Matlab, many functions work on single numbers, vectors, and matrices. For example, the sin function when applied to a matrix will return a new matrix with the sin of each element. But you have to be careful, as certain functions have different behavior. Suppose you have an 7x7 matrix X. You want to compute the log of every element, the square of every element, add 1 to every element, and divide every element by 4. You will store the results in four matrices, A,B,C,D. One way to do so is the following code:\n",
    "\n",
    "```octave\n",
    "for i = 1:7\n",
    "  for j = 1:7\n",
    "    A(i, j) = log(X(i, j));\n",
    "    B(i, j) = X(i, j) ^ 2;\n",
    "    C(i, j) = X(i, j) + 1;\n",
    "    D(i, j) = X(i, j) / 4;\n",
    "  end\n",
    "end\n",
    "```\n",
    "\n",
    "Which of the following correctly compute A,B,C, or D? Check all that apply."
   ]
  },
  {
   "cell_type": "code",
   "execution_count": 21,
   "metadata": {
    "collapsed": false
   },
   "outputs": [
    {
     "name": "stdout",
     "output_type": "stream",
     "text": [
      "X =\n",
      "\n",
      "   1   2   3\n",
      "   4   5   6\n",
      "   7   8   9\n",
      "\n"
     ]
    }
   ],
   "source": [
    "X = [1 2 3; 4 5 6; 7 8 9]\n",
    "A = zeros(3);\n",
    "B = zeros(3);\n",
    "C = zeros(3);\n",
    "D = zeros(3);\n",
    "\n",
    "for i = 1:3\n",
    "  for j = 1:3\n",
    "    A(i, j) = log(X(i, j));\n",
    "    B(i, j) = X(i, j) ^ 2;\n",
    "    C(i, j) = X(i, j) + 1;\n",
    "    D(i, j) = X(i, j) / 4;\n",
    "  end\n",
    "end"
   ]
  },
  {
   "cell_type": "code",
   "execution_count": 22,
   "metadata": {
    "collapsed": false
   },
   "outputs": [
    {
     "name": "stdout",
     "output_type": "stream",
     "text": [
      "A =\n",
      "\n",
      "   0.00000   0.69315   1.09861\n",
      "   1.38629   1.60944   1.79176\n",
      "   1.94591   2.07944   2.19722\n",
      "\n"
     ]
    }
   ],
   "source": [
    "A % log"
   ]
  },
  {
   "cell_type": "code",
   "execution_count": 23,
   "metadata": {
    "collapsed": false
   },
   "outputs": [
    {
     "name": "stdout",
     "output_type": "stream",
     "text": [
      "B =\n",
      "\n",
      "    1    4    9\n",
      "   16   25   36\n",
      "   49   64   81\n",
      "\n"
     ]
    }
   ],
   "source": [
    "B % ^2"
   ]
  },
  {
   "cell_type": "code",
   "execution_count": 24,
   "metadata": {
    "collapsed": false
   },
   "outputs": [
    {
     "name": "stdout",
     "output_type": "stream",
     "text": [
      "C =\n",
      "\n",
      "    2    3    4\n",
      "    5    6    7\n",
      "    8    9   10\n",
      "\n"
     ]
    }
   ],
   "source": [
    "C % +1"
   ]
  },
  {
   "cell_type": "code",
   "execution_count": 25,
   "metadata": {
    "collapsed": false
   },
   "outputs": [
    {
     "name": "stdout",
     "output_type": "stream",
     "text": [
      "D =\n",
      "\n",
      "   0.25000   0.50000   0.75000\n",
      "   1.00000   1.25000   1.50000\n",
      "   1.75000   2.00000   2.25000\n",
      "\n"
     ]
    }
   ],
   "source": [
    "D % /4"
   ]
  },
  {
   "cell_type": "code",
   "execution_count": 26,
   "metadata": {
    "collapsed": false
   },
   "outputs": [
    {
     "name": "stdout",
     "output_type": "stream",
     "text": [
      "X =\n",
      "\n",
      "   1   2   3\n",
      "   4   5   6\n",
      "   7   8   9\n",
      "\n"
     ]
    }
   ],
   "source": [
    "X = [1 2 3; 4 5 6; 7 8 9]\n",
    "A = zeros(3);\n",
    "B = zeros(3);\n",
    "C = zeros(3);\n",
    "D = zeros(3);"
   ]
  },
  {
   "cell_type": "code",
   "execution_count": 27,
   "metadata": {
    "collapsed": false
   },
   "outputs": [
    {
     "name": "stdout",
     "output_type": "stream",
     "text": [
      "A =\n",
      "\n",
      "   0.00000   0.69315   1.09861\n",
      "   1.38629   1.60944   1.79176\n",
      "   1.94591   2.07944   2.19722\n",
      "\n"
     ]
    }
   ],
   "source": [
    "A = log (X)"
   ]
  },
  {
   "cell_type": "code",
   "execution_count": 39,
   "metadata": {
    "collapsed": false
   },
   "outputs": [
    {
     "name": "stdout",
     "output_type": "stream",
     "text": [
      "B =\n",
      "\n",
      "    1    4    9\n",
      "   16   25   36\n",
      "   49   64   81\n",
      "\n"
     ]
    }
   ],
   "source": [
    "B = X .^ 2"
   ]
  },
  {
   "cell_type": "code",
   "execution_count": 29,
   "metadata": {
    "collapsed": false
   },
   "outputs": [
    {
     "name": "stdout",
     "output_type": "stream",
     "text": [
      "C =\n",
      "\n",
      "    2    3    4\n",
      "    5    6    7\n",
      "    8    9   10\n",
      "\n"
     ]
    }
   ],
   "source": [
    "C = X + 1"
   ]
  },
  {
   "cell_type": "code",
   "execution_count": 30,
   "metadata": {
    "collapsed": false
   },
   "outputs": [
    {
     "name": "stdout",
     "output_type": "stream",
     "text": [
      "D =\n",
      "\n",
      "   0.25000   0.50000   0.75000\n",
      "   1.00000   1.25000   1.50000\n",
      "   1.75000   2.00000   2.25000\n",
      "\n"
     ]
    }
   ],
   "source": [
    "D = X / 4"
   ]
  },
  {
   "cell_type": "code",
   "execution_count": null,
   "metadata": {
    "collapsed": true
   },
   "outputs": [],
   "source": []
  }
 ],
 "metadata": {
  "kernelspec": {
   "display_name": "Octave",
   "language": "octave",
   "name": "octave"
  },
  "language_info": {
   "file_extension": ".m",
   "help_links": [
    {
     "text": "MetaKernel Magics",
     "url": "https://github.com/calysto/metakernel/blob/master/metakernel/magics/README.md"
    }
   ],
   "mimetype": "text/x-octave",
   "name": "octave",
   "version": "0.15.10"
  }
 },
 "nbformat": 4,
 "nbformat_minor": 0
}
