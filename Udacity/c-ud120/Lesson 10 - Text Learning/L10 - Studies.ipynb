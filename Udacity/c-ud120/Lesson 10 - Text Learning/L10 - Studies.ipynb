{
 "cells": [
  {
   "cell_type": "code",
   "execution_count": 4,
   "metadata": {
    "collapsed": false
   },
   "outputs": [
    {
     "name": "stdout",
     "output_type": "stream",
     "text": [
      "There are a total of 127 stopwords\n"
     ]
    }
   ],
   "source": [
    "# stopwords from NLTK\n",
    "\n",
    "from nltk.corpus import stopwords\n",
    "\n",
    "sw = stopwords.words(\"english\")\n",
    "print 'There are a total of %d stopwords' % len(sw)"
   ]
  },
  {
   "cell_type": "code",
   "execution_count": 5,
   "metadata": {
    "collapsed": false
   },
   "outputs": [
    {
     "name": "stdout",
     "output_type": "stream",
     "text": [
      "respos\n"
     ]
    }
   ],
   "source": [
    "# stemmer from NLTL\n",
    "\n",
    "from nltk.stem.snowball import SnowballStemmer\n",
    "\n",
    "stemmer = SnowballStemmer(\"english\")\n",
    "st = stemmer.stem(\"resposiveness\")\n",
    "print st"
   ]
  },
  {
   "cell_type": "code",
   "execution_count": 7,
   "metadata": {
    "collapsed": false
   },
   "outputs": [
    {
     "name": "stdout",
     "output_type": "stream",
     "text": [
      "  (0, 0)\t1\n",
      "  (0, 2)\t1\n",
      "  (0, 4)\t1\n",
      "  (0, 5)\t1\n",
      "  (0, 7)\t1\n",
      "  (0, 10)\t1\n",
      "  (1, 2)\t1\n",
      "  (1, 3)\t1\n",
      "  (1, 5)\t1\n",
      "  (1, 6)\t1\n",
      "  (1, 7)\t1\n",
      "  (1, 9)\t1\n",
      "  (2, 1)\t1\n",
      "  (2, 2)\t1\n",
      "  (2, 8)\t1\n"
     ]
    }
   ],
   "source": [
    "# Bag of words in Sklearn\n",
    "\n",
    "from sklearn.feature_extraction.text import CountVectorizer\n",
    "\n",
    "vectorizer = CountVectorizer()\n",
    "string1 = 'hi Roger this is an example'\n",
    "string2 = 'Roger the example is really good'\n",
    "string3 = 'Example seems different'\n",
    "\n",
    "vec_list = [string1, string2, string3]\n",
    "bow = vectorizer.fit(vec_list)\n",
    "bow = vectorizer.transform(vec_list)\n",
    "\n",
    "print bow\n",
    "#(doc, word) freq"
   ]
  },
  {
   "cell_type": "code",
   "execution_count": 11,
   "metadata": {
    "collapsed": false
   },
   "outputs": [
    {
     "name": "stdout",
     "output_type": "stream",
     "text": [
      "{u'different': 1, u'good': 3, u'this': 10, u'is': 5, u'seems': 8, u'an': 0, u'hi': 4, u'roger': 7, u'the': 9, u'example': 2, u'really': 6}\n",
      "The ID of Roger is: 7\n"
     ]
    }
   ],
   "source": [
    "# verifying the vocabulary\n",
    "print vectorizer.vocabulary_\n",
    "print 'The ID of Roger is:', vectorizer.vocabulary_.get(\"roger\")"
   ]
  },
  {
   "cell_type": "code",
   "execution_count": 13,
   "metadata": {
    "collapsed": false
   },
   "outputs": [
    {
     "name": "stdout",
     "output_type": "stream",
     "text": [
      "  (0, 1)\t0.425440538971\n",
      "  (0, 5)\t0.547832154927\n",
      "  (0, 3)\t0.720333449055\n",
      "  (1, 2)\t0.58448290102\n",
      "  (1, 4)\t0.58448290102\n",
      "  (1, 1)\t0.345205016865\n",
      "  (1, 5)\t0.444514311537\n",
      "  (2, 0)\t0.861036995944\n",
      "  (2, 1)\t0.508542320378\n"
     ]
    }
   ],
   "source": [
    "#TFIDF in Sklearn\n",
    "\n",
    "from sklearn.feature_extraction.text import TfidfVectorizer\n",
    "string1 = 'hi Roger this is an example'\n",
    "string2 = 'Roger the example is really good'\n",
    "string3 = 'Example seems different'\n",
    "\n",
    "vec_list = [string1, string2, string3]\n",
    "transformer = TfidfVectorizer(stop_words='english')\n",
    "tfidf = transformer.fit_transform(vec_list)\n",
    "print tfidf"
   ]
  },
  {
   "cell_type": "code",
   "execution_count": null,
   "metadata": {
    "collapsed": true
   },
   "outputs": [],
   "source": []
  }
 ],
 "metadata": {
  "kernelspec": {
   "display_name": "Python 2",
   "language": "python",
   "name": "python2"
  },
  "language_info": {
   "codemirror_mode": {
    "name": "ipython",
    "version": 2
   },
   "file_extension": ".py",
   "mimetype": "text/x-python",
   "name": "python",
   "nbconvert_exporter": "python",
   "pygments_lexer": "ipython2",
   "version": "2.7.11"
  }
 },
 "nbformat": 4,
 "nbformat_minor": 0
}
