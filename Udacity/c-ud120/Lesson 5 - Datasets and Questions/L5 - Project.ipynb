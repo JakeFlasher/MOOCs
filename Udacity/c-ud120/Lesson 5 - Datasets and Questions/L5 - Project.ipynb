{
 "cells": [
  {
   "cell_type": "code",
   "execution_count": 3,
   "metadata": {
    "collapsed": false
   },
   "outputs": [
    {
     "name": "stdout",
     "output_type": "stream",
     "text": [
      "<Loaded file final_project_dataset.pkl>\n"
     ]
    }
   ],
   "source": [
    "\"\"\"\n",
    "The Enron fraud is a big, messy and totally fascinating story about corporate malfeasance of nearly every imaginable type. \n",
    "The Enron email and financial datasets are also big, messy treasure troves of information, which become much more useful once \n",
    "you know your way around them a bit. We've combined the email and finance data into a single dataset, which you'll explore in \n",
    "this mini-project.\n",
    "\n",
    "The aggregated Enron email + financial dataset is stored in a dictionary, where each key in the dictionary is a person's name \n",
    "and the value is a dictionary containing all the features of that person. \n",
    "The email + finance (E+F) data dictionary is stored as a pickle file, which is a handy way to store and load python objects \n",
    "directly. Use datasets_questions/explore_enron_data.py to load the dataset.\n",
    "\"\"\"\n",
    "#!/usr/bin/python\n",
    "\n",
    "\"\"\" \n",
    "    Starter code for exploring the Enron dataset (emails + finances);\n",
    "    loads up the dataset (pickled dict of dicts).\n",
    "\n",
    "    The dataset has the form:\n",
    "    enron_data[\"LASTNAME FIRSTNAME MIDDLEINITIAL\"] = { features_dict }\n",
    "\n",
    "    {features_dict} is a dictionary of features associated with that person.\n",
    "    You should explore features_dict as part of the mini-project,\n",
    "    but here's an example to get you started:\n",
    "\n",
    "    enron_data[\"SKILLING JEFFREY K\"][\"bonus\"] = 5600000\n",
    "    \n",
    "\"\"\"\n",
    "\n",
    "import pickle\n",
    "\n",
    "enron_data = pickle.load(open(\"final_project_dataset.pkl\", \"r\"))\n",
    "print(\"<Loaded file final_project_dataset.pkl>\")"
   ]
  },
  {
   "cell_type": "code",
   "execution_count": 38,
   "metadata": {
    "collapsed": false
   },
   "outputs": [
    {
     "name": "stdout",
     "output_type": "stream",
     "text": [
      "Total people: 146\n",
      "\n",
      "['METTS MARK', 'BAXTER JOHN C', 'ELLIOTT STEVEN', 'CORDES WILLIAM R', 'HANNON KEVIN P', 'MORDAUNT KRISTINA M', 'MEYER ROCKFORD G', 'MCMAHON JEFFREY', 'HORTON STANLEY C', 'PIPER GREGORY F', 'HUMPHREY GENE E', 'UMANOFF ADAM S', 'BLACHMAN JEREMY M', 'SUNDE MARTIN', 'GIBBS DANA R', 'LOWRY CHARLES P', 'COLWELL WESLEY', 'MULLER MARK S', 'JACKSON CHARLENE R', 'WESTFAHL RICHARD K', 'WALTERS GARETH W', 'WALLS JR ROBERT H', 'KITCHEN LOUISE', 'CHAN RONNIE', 'BELFER ROBERT', 'SHANKMAN JEFFREY A', 'WODRASKA JOHN', 'BERGSIEKER RICHARD P', 'URQUHART JOHN A', 'BIBI PHILIPPE A', 'RIEKER PAULA H', 'WHALEY DAVID A', 'BECK SALLY W', 'HAUG DAVID L', 'ECHOLS JOHN B', 'MENDELSOHN JOHN', 'HICKERSON GARY J', 'CLINE KENNETH W', 'LEWIS RICHARD', 'HAYES ROBERT E', 'MCCARTY DANNY J', 'KOPPER MICHAEL J', 'LEFF DANIEL P', 'LAVORATO JOHN J', 'BERBERIAN DAVID', 'DETMERING TIMOTHY J', 'WAKEHAM JOHN', 'POWERS WILLIAM', 'GOLD JOSEPH', 'BANNANTINE JAMES M', 'DUNCAN JOHN H', 'SHAPIRO RICHARD S', 'SHERRIFF JOHN R', 'SHELBY REX', 'LEMAISTRE CHARLES', 'DEFFNER JOSEPH M', 'KISHKILL JOSEPH G', 'WHALLEY LAWRENCE G', 'MCCONNELL MICHAEL S', 'PIRO JIM', 'DELAINEY DAVID W', 'SULLIVAN-SHAKLOVITZ COLLEEN', 'WROBEL BRUCE', 'LINDHOLM TOD A', 'MEYER JEROME J', 'LAY KENNETH L', 'BUTTS ROBERT H', 'OLSON CINDY K', 'MCDONALD REBECCA', 'CUMBERLAND MICHAEL S', 'GAHN ROBERT S', 'MCCLELLAN GEORGE', 'HERMANN ROBERT J', 'SCRIMSHAW MATTHEW', 'GATHMANN WILLIAM D', 'HAEDICKE MARK E', 'BOWEN JR RAYMOND M', 'GILLIS JOHN', 'FITZGERALD JAY L', 'MORAN MICHAEL P', 'REDMOND BRIAN L', 'BAZELIDES PHILIP J', 'BELDEN TIMOTHY N', 'DURAN WILLIAM D', 'THORN TERENCE H', 'FASTOW ANDREW S', 'FOY JOE', 'CALGER CHRISTOPHER F', 'RICE KENNETH D', 'KAMINSKI WINCENTY J', 'LOCKHART EUGENE E', 'COX DAVID', 'OVERDYKE JR JERE C', 'PEREIRA PAULO V. FERRAZ', 'STABLER FRANK', 'SKILLING JEFFREY K', 'BLAKE JR. NORMAN P', 'SHERRICK JEFFREY B', 'PRENTICE JAMES', 'GRAY RODNEY', 'PICKERING MARK R', 'THE TRAVEL AGENCY IN THE PARK', 'NOLES JAMES L', 'KEAN STEVEN J', 'TOTAL', 'FOWLER PEGGY', 'WASAFF GEORGE', 'WHITE JR THOMAS E', 'CHRISTODOULOU DIOMEDES', 'ALLEN PHILLIP K', 'SHARP VICTORIA T', 'JAEDICKE ROBERT', 'WINOKUR JR. HERBERT S', 'BROWN MICHAEL', 'BADUM JAMES P', 'HUGHES JAMES A', 'REYNOLDS LAWRENCE', 'DIMICHELE RICHARD G', 'BHATNAGAR SANJAY', 'CARTER REBECCA C', 'BUCHANAN HAROLD G', 'YEAP SOON', 'MURRAY JULIA H', 'GARLAND C KEVIN', 'DODSON KEITH', 'YEAGER F SCOTT', 'HIRKO JOSEPH', 'DIETRICH JANET R', 'DERRICK JR. JAMES V', 'FREVERT MARK A', 'PAI LOU L', 'BAY FRANKLIN R', 'HAYSLETT RODERICK J', 'FUGH JOHN L', 'FALLON JAMES B', 'KOENIG MARK E', 'SAVAGE FRANK', 'IZZO LAWRENCE L', 'TILNEY ELIZABETH A', 'MARTIN AMANDA K', 'BUY RICHARD B', 'GRAMM WENDY L', 'CAUSEY RICHARD A', 'TAYLOR MITCHELL S', 'DONAHUE JR JEFFREY M', 'GLISAN JR BEN F']\n"
     ]
    }
   ],
   "source": [
    "\"\"\"\n",
    "How many data points (people) are in the dataset?\n",
    "\"\"\"\n",
    "print 'Total people:', len(enron_data)\n",
    "print\n",
    "print enron_data.keys()"
   ]
  },
  {
   "cell_type": "code",
   "execution_count": 39,
   "metadata": {
    "collapsed": false
   },
   "outputs": [
    {
     "name": "stdout",
     "output_type": "stream",
     "text": [
      "Total features:  21\n",
      "\n",
      "['salary', 'to_messages', 'deferral_payments', 'total_payments', 'exercised_stock_options', 'bonus', 'restricted_stock', 'shared_receipt_with_poi', 'restricted_stock_deferred', 'total_stock_value', 'expenses', 'loan_advances', 'from_messages', 'other', 'from_this_person_to_poi', 'poi', 'director_fees', 'deferred_income', 'long_term_incentive', 'email_address', 'from_poi_to_this_person']\n"
     ]
    }
   ],
   "source": [
    "\"\"\"\n",
    "For each person, how many features are available?\n",
    "\"\"\"\n",
    "name = enron_data.keys()[0]\n",
    "print 'Total features: ', len(enron_data[name])\n",
    "print\n",
    "print enron_data['FALLON JAMES B'].keys()"
   ]
  },
  {
   "cell_type": "code",
   "execution_count": 13,
   "metadata": {
    "collapsed": false
   },
   "outputs": [
    {
     "name": "stdout",
     "output_type": "stream",
     "text": [
      "Total number of Persons of Interest:  18\n"
     ]
    }
   ],
   "source": [
    "\"\"\"\n",
    "The \"poi\" feature records whether the person is a person of interest, according to our definition. How many POIs are there in \n",
    "the E+F dataset?\n",
    "\"\"\"\n",
    "nb_poi = 0\n",
    "for name in enron_data:\n",
    "    if enron_data[name]['poi']:\n",
    "        nb_poi += 1\n",
    "\n",
    "print 'Total number of Persons of Interest: ', nb_poi"
   ]
  },
  {
   "cell_type": "code",
   "execution_count": 15,
   "metadata": {
    "collapsed": false
   },
   "outputs": [
    {
     "name": "stdout",
     "output_type": "stream",
     "text": [
      "Total number of Persons of Interest involved:  35\n"
     ]
    }
   ],
   "source": [
    "\"\"\"\n",
    "We compiled a list of all POI names (in ../final_project/poi_names.txt) and associated email addresses \n",
    "(in ../final_project/poi_email_addresses.py).\n",
    "\n",
    "How many POI's were there total? (Use the names file, not the email addresses, since many folks have more than one address \n",
    "and a few didn't work for Enron, so we don't have their emails.)\n",
    "\"\"\"\n",
    "def poiEmails():\n",
    "    email_list = [\"kenneth_lay@enron.net\",    \n",
    "            \"kenneth_lay@enron.com\",\n",
    "            \"klay.enron@enron.com\",\n",
    "            \"kenneth.lay@enron.com\", \n",
    "            \"klay@enron.com\",\n",
    "            \"layk@enron.com\",\n",
    "            \"chairman.ken@enron.com\",\n",
    "            \"jeffreyskilling@yahoo.com\",\n",
    "            \"jeff_skilling@enron.com\",\n",
    "            \"jskilling@enron.com\",\n",
    "            \"effrey.skilling@enron.com\",\n",
    "            \"skilling@enron.com\",\n",
    "            \"jeffrey.k.skilling@enron.com\",\n",
    "            \"jeff.skilling@enron.com\",\n",
    "            \"kevin_a_howard.enronxgate.enron@enron.net\",\n",
    "            \"kevin.howard@enron.com\",\n",
    "            \"kevin.howard@enron.net\",\n",
    "            \"kevin.howard@gcm.com\",\n",
    "            \"michael.krautz@enron.com\"\n",
    "            \"scott.yeager@enron.com\",\n",
    "            \"syeager@fyi-net.com\",\n",
    "            \"scott_yeager@enron.net\",\n",
    "            \"syeager@flash.net\",\n",
    "            \"joe'.'hirko@enron.com\", \n",
    "            \"joe.hirko@enron.com\", \n",
    "            \"rex.shelby@enron.com\", \n",
    "            \"rex.shelby@enron.nt\", \n",
    "            \"rex_shelby@enron.net\",\n",
    "            \"jbrown@enron.com\",\n",
    "            \"james.brown@enron.com\", \n",
    "            \"rick.causey@enron.com\", \n",
    "            \"richard.causey@enron.com\", \n",
    "            \"rcausey@enron.com\",\n",
    "            \"calger@enron.com\",\n",
    "            \"chris.calger@enron.com\", \n",
    "            \"christopher.calger@enron.com\", \n",
    "            \"ccalger@enron.com\",\n",
    "            \"tim_despain.enronxgate.enron@enron.net\", \n",
    "            \"tim.despain@enron.com\",\n",
    "            \"kevin_hannon@enron.com\", \n",
    "            \"kevin'.'hannon@enron.com\", \n",
    "            \"kevin_hannon@enron.net\", \n",
    "            \"kevin.hannon@enron.com\",\n",
    "            \"mkoenig@enron.com\", \n",
    "            \"mark.koenig@enron.com\",\n",
    "            \"m..forney@enron.com\",\n",
    "            \"ken'.'rice@enron.com\", \n",
    "            \"ken.rice@enron.com\",\n",
    "            \"ken_rice@enron.com\", \n",
    "            \"ken_rice@enron.net\",\n",
    "            \"paula.rieker@enron.com\",\n",
    "            \"prieker@enron.com\", \n",
    "            \"andrew.fastow@enron.com\", \n",
    "            \"lfastow@pdq.net\", \n",
    "            \"andrew.s.fastow@enron.com\", \n",
    "            \"lfastow@pop.pdq.net\", \n",
    "            \"andy.fastow@enron.com\",\n",
    "            \"david.w.delainey@enron.com\", \n",
    "            \"delainey.dave@enron.com\", \n",
    "            \"'delainey@enron.com\", \n",
    "            \"david.delainey@enron.com\", \n",
    "            \"'david.delainey'@enron.com\", \n",
    "            \"dave.delainey@enron.com\", \n",
    "            \"delainey'.'david@enron.com\",\n",
    "            \"ben.glisan@enron.com\", \n",
    "            \"bglisan@enron.com\", \n",
    "            \"ben_f_glisan@enron.com\", \n",
    "            \"ben'.'glisan@enron.com\",\n",
    "            \"jeff.richter@enron.com\", \n",
    "            \"jrichter@nwlink.com\",\n",
    "            \"lawrencelawyer@aol.com\", \n",
    "            \"lawyer'.'larry@enron.com\", \n",
    "            \"larry_lawyer@enron.com\", \n",
    "            \"llawyer@enron.com\", \n",
    "            \"larry.lawyer@enron.com\", \n",
    "            \"lawrence.lawyer@enron.com\",\n",
    "            \"tbelden@enron.com\", \n",
    "            \"tim.belden@enron.com\", \n",
    "            \"tim_belden@pgn.com\", \n",
    "            \"tbelden@ect.enron.com\",\n",
    "            \"michael.kopper@enron.com\",\n",
    "            \"dave.duncan@enron.com\", \n",
    "            \"dave.duncan@cipco.org\", \n",
    "            \"duncan.dave@enron.com\",\n",
    "            \"ray.bowen@enron.com\", \n",
    "            \"raymond.bowen@enron.com\", \n",
    "            \"'bowen@enron.com\",\n",
    "            \"wes.colwell@enron.com\",\n",
    "            \"dan.boyle@enron.com\",\n",
    "            \"cloehr@enron.com\", \n",
    "            \"chris.loehr@enron.com\"\n",
    "        ]\n",
    "    return email_list\n",
    "\n",
    "with open('poi_names.txt') as fin:\n",
    "    nb_poi_real = 0\n",
    "    for line in fin:\n",
    "        if line.startswith('(y)') or line.startswith('(n)'):\n",
    "            nb_poi_real += 1\n",
    "            \n",
    "print 'Total number of Persons of Interest involved: ', nb_poi_real"
   ]
  },
  {
   "cell_type": "code",
   "execution_count": 19,
   "metadata": {
    "collapsed": false
   },
   "outputs": [
    {
     "name": "stdout",
     "output_type": "stream",
     "text": [
      "Total stock belonging to PRENTICE JAMES: 1095040\n",
      "1095040\n"
     ]
    }
   ],
   "source": [
    "\"\"\"\n",
    "Like any dict of dicts, individual people/features can be accessed like so:\n",
    "\n",
    "enron_data[\"LASTNAME FIRSTNAME\"][\"feature_name\"]\n",
    "or, sometimes \n",
    "enron_data[\"LASTNAME FIRSTNAME MIDDLEINITIAL\"][\"feature_name\"]\n",
    "\n",
    "What is the total value of the stock belonging to James Prentice?\n",
    "\"\"\"\n",
    "name = 'PRENTICE JAMES'\n",
    "print 'Total stock belonging to %s: %d' % (name, enron_data[name]['total_stock_value'])"
   ]
  },
  {
   "cell_type": "code",
   "execution_count": 24,
   "metadata": {
    "collapsed": false
   },
   "outputs": [
    {
     "name": "stdout",
     "output_type": "stream",
     "text": [
      "Total messages from COLWELL WESLEY to persons of interest: 11\n"
     ]
    }
   ],
   "source": [
    "\"\"\"\n",
    "Like any dict of dicts, individual people/features can be accessed like so:\n",
    "\n",
    "enron_data[\"LASTNAME FIRSTNAME\"][\"feature_name\"]\n",
    "\n",
    "How many email messages do we have from Wesley Colwell to persons of interest?\n",
    "\"\"\"\n",
    "name = 'COLWELL WESLEY'\n",
    "print 'Total messages from %s to persons of interest: %d' % (name, enron_data[name]['from_this_person_to_poi'])"
   ]
  },
  {
   "cell_type": "code",
   "execution_count": 29,
   "metadata": {
    "collapsed": false
   },
   "outputs": [
    {
     "name": "stdout",
     "output_type": "stream",
     "text": [
      "Value of stock options exercised by SKILLING JEFFREY K: 19250000\n"
     ]
    }
   ],
   "source": [
    "\"\"\"\n",
    "Like any dict of dicts, individual people/features can be accessed like so:\n",
    "\n",
    "enron_data[\"LASTNAME FIRSTNAME\"][\"feature_name\"]\n",
    "\n",
    "What's the value of stock options exercised by Jeffrey Skilling?\n",
    "\"\"\"\n",
    "name = 'SKILLING JEFFREY K'\n",
    "print 'Value of stock options exercised by %s: %d' % (name, enron_data[name]['exercised_stock_options'])\n",
    "\n"
   ]
  },
  {
   "cell_type": "code",
   "execution_count": 32,
   "metadata": {
    "collapsed": false
   },
   "outputs": [
    {
     "name": "stdout",
     "output_type": "stream",
     "text": [
      "LAY KENNETH L got the most money: 103559793\n"
     ]
    }
   ],
   "source": [
    "\"\"\"\n",
    "Of these three individuals (Lay, Skilling and Fastow), who took home the most money (largest value of \"total_payments\" feature)? \n",
    "\n",
    "How much money did that person get?\n",
    "\"\"\"\n",
    "names = ['SKILLING JEFFREY K', 'LAY KENNETH L', 'FASTOW ANDREW S']\n",
    "highest = 0\n",
    "name_highest = ''\n",
    "for name in names:\n",
    "    payment = enron_data[name]['total_payments']\n",
    "    if payment > highest:\n",
    "        highest = payment\n",
    "        name_highest = name\n",
    "\n",
    "print '%s got the most money: %d' % (name_highest, highest)"
   ]
  },
  {
   "cell_type": "code",
   "execution_count": 35,
   "metadata": {
    "collapsed": false
   },
   "outputs": [
    {
     "name": "stdout",
     "output_type": "stream",
     "text": [
      "Number of people who have salary:  95\n",
      "Number of people who have email:  111\n"
     ]
    }
   ],
   "source": [
    "\"\"\"\n",
    "How many folks in this dataset have a quantified salary? What about a known email address?\n",
    "\"\"\"\n",
    "nb_salary = 0\n",
    "nb_email = 0\n",
    "for name in enron_data:\n",
    "    if enron_data[name]['salary'] != 'NaN':\n",
    "        nb_salary += 1\n",
    "    if enron_data[name]['email_address'] != 'NaN':\n",
    "        nb_email += 1\n",
    "\n",
    "print 'Number of people who have salary: ', nb_salary\n",
    "print 'Number of people who have email: ', nb_email"
   ]
  },
  {
   "cell_type": "code",
   "execution_count": 40,
   "metadata": {
    "collapsed": true
   },
   "outputs": [],
   "source": [
    "\"\"\"\n",
    "A python dictionary can't be read directly into an sklearn classification or regression algorithm; instead, it needs a numpy \n",
    "array or a list of lists (each element of the list (itself a list) is a data point, and the elements of the smaller list are \n",
    "the features of that point).\n",
    "\n",
    "We've written some helper functions (featureFormat() and targetFeatureSplit() in tools/feature_format.py) that can take a list \n",
    "of feature names and the data dictionary, and return a numpy array.\n",
    "\n",
    "In the case when a feature does not have a value for a particular person, this function will also replace the feature \n",
    "value with 0 (zero).\n",
    "\"\"\"\n",
    "#!/usr/bin/python\n",
    "\n",
    "\"\"\" \n",
    "    A general tool for converting data from the\n",
    "    dictionary format to an (n x k) python list that's \n",
    "    ready for training an sklearn algorithm\n",
    "\n",
    "    n--no. of key-value pairs in dictonary\n",
    "    k--no. of features being extracted\n",
    "\n",
    "    dictionary keys are names of persons in dataset\n",
    "    dictionary values are dictionaries, where each\n",
    "        key-value pair in the dict is the name\n",
    "        of a feature, and its value for that person\n",
    "\n",
    "    In addition to converting a dictionary to a numpy \n",
    "    array, you may want to separate the labels from the\n",
    "    features--this is what targetFeatureSplit is for\n",
    "\n",
    "    so, if you want to have the poi label as the target,\n",
    "    and the features you want to use are the person's\n",
    "    salary and bonus, here's what you would do:\n",
    "\n",
    "    feature_list = [\"poi\", \"salary\", \"bonus\"] \n",
    "    data_array = featureFormat( data_dictionary, feature_list )\n",
    "    label, features = targetFeatureSplit(data_array)\n",
    "\n",
    "    the line above (targetFeatureSplit) assumes that the\n",
    "    label is the _first_ item in feature_list--very important\n",
    "    that poi is listed first!\n",
    "\"\"\"\n",
    "import numpy as np\n",
    "\n",
    "def featureFormat( dictionary, features, remove_NaN=True, remove_all_zeroes=True, remove_any_zeroes=False, sort_keys = False):\n",
    "    \"\"\" convert dictionary to numpy array of features\n",
    "        remove_NaN = True will convert \"NaN\" string to 0.0\n",
    "        remove_all_zeroes = True will omit any data points for which\n",
    "            all the features you seek are 0.0\n",
    "        remove_any_zeroes = True will omit any data points for which\n",
    "            any of the features you seek are 0.0\n",
    "        sort_keys = True sorts keys by alphabetical order. Setting the value as\n",
    "            a string opens the corresponding pickle file with a preset key\n",
    "            order (this is used for Python 3 compatibility, and sort_keys\n",
    "            should be left as False for the course mini-projects).\n",
    "        NOTE: first feature is assumed to be 'poi' and is not checked for\n",
    "            removal for zero or missing values.\n",
    "    \"\"\"\n",
    "    return_list = []\n",
    "\n",
    "    # Key order - first branch is for Python 3 compatibility on mini-projects,\n",
    "    # second branch is for compatibility on final project.\n",
    "    if isinstance(sort_keys, str):\n",
    "        import pickle\n",
    "        keys = pickle.load(open(sort_keys, \"rb\"))\n",
    "    elif sort_keys:\n",
    "        keys = sorted(dictionary.keys())\n",
    "    else:\n",
    "        keys = dictionary.keys()\n",
    "\n",
    "    for key in keys:\n",
    "        tmp_list = []\n",
    "        for feature in features:\n",
    "            try:\n",
    "                dictionary[key][feature]\n",
    "            except KeyError:\n",
    "                print \"error: key \", feature, \" not present\"\n",
    "                return\n",
    "            value = dictionary[key][feature]\n",
    "            if value==\"NaN\" and remove_NaN:\n",
    "                value = 0\n",
    "            tmp_list.append( float(value) )\n",
    "\n",
    "        # Logic for deciding whether or not to add the data point.\n",
    "        append = True\n",
    "        # exclude 'poi' class as criteria.\n",
    "        if features[0] == 'poi':\n",
    "            test_list = tmp_list[1:]\n",
    "        else:\n",
    "            test_list = tmp_list\n",
    "        ### if all features are zero and you want to remove\n",
    "        ### data points that are all zero, do that here\n",
    "        if remove_all_zeroes:\n",
    "            append = False\n",
    "            for item in test_list:\n",
    "                if item != 0 and item != \"NaN\":\n",
    "                    append = True\n",
    "                    break\n",
    "        ### if any features for a given data point are zero\n",
    "        ### and you want to remove data points with any zeroes,\n",
    "        ### handle that here\n",
    "        if remove_any_zeroes:\n",
    "            if 0 in test_list or \"NaN\" in test_list:\n",
    "                append = False\n",
    "        ### Append the data point if flagged for addition.\n",
    "        if append:\n",
    "            return_list.append( np.array(tmp_list) )\n",
    "\n",
    "    return np.array(return_list)\n",
    "\n",
    "\n",
    "def targetFeatureSplit( data ):\n",
    "    \"\"\" \n",
    "        given a numpy array like the one returned from\n",
    "        featureFormat, separate out the first feature\n",
    "        and put it into its own list (this should be the \n",
    "        quantity you want to predict)\n",
    "\n",
    "        return targets and features as separate lists\n",
    "\n",
    "        (sklearn can generally handle both lists and numpy arrays as \n",
    "        input formats when training/predicting)\n",
    "    \"\"\"\n",
    "\n",
    "    target = []\n",
    "    features = []\n",
    "    for item in data:\n",
    "        target.append( item[0] )\n",
    "        features.append( item[1:] )\n",
    "\n",
    "    return target, features\n"
   ]
  },
  {
   "cell_type": "code",
   "execution_count": 42,
   "metadata": {
    "collapsed": false
   },
   "outputs": [
    {
     "name": "stdout",
     "output_type": "stream",
     "text": [
      " Number of people who does not have total payments:  21\n",
      "Percentage of the people without total payments:  14.3835616438\n"
     ]
    }
   ],
   "source": [
    "\"\"\"\n",
    "As you saw a little while ago, not every POI has an entry in the dataset (e.g. Michael Krautz). That's because the dataset was \n",
    "created using the financial data you can find in final_project/enron61702insiderpay.pdf, which is missing some POI's (those \n",
    "absences propagated through to the final dataset). On the other hand, for many of these \"missing\" POI's, we do have emails.\n",
    "\n",
    "While it would be straightforward to add these POI's and their email information to the E+F dataset, and just put \"NaN\" for \n",
    "their financial information, this could introduce a subtle problem. You will walk through that here.\n",
    "\n",
    "How many people in the E+F dataset (as it currently exists) have \"NaN\" for their total payments? What percentage of people in \n",
    "the dataset as a whole is this?\n",
    "\"\"\"\n",
    "nb_notpaid = 0\n",
    "for name in enron_data:\n",
    "    if enron_data[name]['total_payments'] == 'NaN':\n",
    "        nb_notpaid += 1\n",
    "percentage = (float(nb_notpaid)/len(enron_data.keys()))*100\n",
    "\n",
    "print 'Number of people who does not have total payments: ', nb_notpaid\n",
    "print 'Percentage of the people without total payments: ', percentage"
   ]
  },
  {
   "cell_type": "code",
   "execution_count": 46,
   "metadata": {
    "collapsed": false
   },
   "outputs": [
    {
     "name": "stdout",
     "output_type": "stream",
     "text": [
      "Number of people who does not have total payments:  0\n",
      "Percentage of the people without total payments:  0.0\n"
     ]
    }
   ],
   "source": [
    "\"\"\"\n",
    "How many POIs in the E+F dataset have \"NaN\" for their total payments? What percentage of POI's as a whole is this?\n",
    "\"\"\"\n",
    "nb_notpaid_poi = 0\n",
    "for name in enron_data:\n",
    "    if enron_data[name]['total_payments'] == 'NaN' and enron_data[name]['poi']:\n",
    "        nb_notpaid_poi += 1\n",
    "percentage = (float(nb_notpaid_poi)/len(enron_data.keys()))*100\n",
    "\n",
    "print 'Number of POIs who does not have total payments: ', nb_notpaid_poi\n",
    "print 'Percentage of the people without total payments: ', percentage"
   ]
  },
  {
   "cell_type": "code",
   "execution_count": 48,
   "metadata": {
    "collapsed": false
   },
   "outputs": [
    {
     "name": "stdout",
     "output_type": "stream",
     "text": [
      "Total number of people in the new dataset:  156\n",
      "Number of people without total payments in the new dataset:  31\n"
     ]
    }
   ],
   "source": [
    "\"\"\"\n",
    "If you added in, say, 10 more data points which were all POI's, and put \"NaN\" for the total payments for those folks, the \n",
    "numbers you just calculated would change. \n",
    "What is the new number of people of the dataset? What is the new number of folks with \"NaN\" for total payments?\n",
    "\"\"\"\n",
    "print 'Total number of people in the new dataset: ', (len(enron_data)+10)\n",
    "print 'Number of people without total payments in the new dataset: ', (nb_notpaid+10)"
   ]
  },
  {
   "cell_type": "code",
   "execution_count": 60,
   "metadata": {
    "collapsed": false
   },
   "outputs": [
    {
     "name": "stdout",
     "output_type": "stream",
     "text": [
      "Total number of Persons of Interest in the new dataset:  28\n",
      "Number of people without total payments in the new dataset:  10\n",
      "Percentage of POI without total payments in the new dataset:  35.7142857143\n"
     ]
    }
   ],
   "source": [
    "\"\"\"\n",
    "What is the new number of POI's in the dataset? What percentage of them have \"NaN\" for their total stock value?\n",
    "\"\"\"\n",
    "new_notpaid = nb_notpaid_poi+10\n",
    "print 'Total number of Persons of Interest in the new dataset: ', (nb_poi+10)\n",
    "print 'Number of people without total payments in the new dataset: ', (new_notpaid)\n",
    "percentage = (float(new_notpaid)/(nb_poi+10))*100\n",
    "print 'Percentage of POI without total payments in the new dataset: ', percentage"
   ]
  },
  {
   "cell_type": "code",
   "execution_count": null,
   "metadata": {
    "collapsed": true
   },
   "outputs": [],
   "source": [
    "\"\"\"\n",
    "Adding in the new POI's in this example, none of whom we have financial information for, has introduced a subtle problem, \n",
    "that our lack of financial information about them can be picked up by an algorithm as a clue that they're POIs. Another way to \n",
    "think about this is that there's now a difference in how we generated the data for our two classes--non-POIs all come from the \n",
    "financial spreadsheet, while many POIs get added in by hand afterwards. That difference can trick us into thinking we have better \n",
    "performance than we do--suppose you use your POI detector to decide whether a new, unseen person is a POI, and that person isn't \n",
    "on the spreadsheet. Then all their financial data would contain \"NaN\" but the person is very likely not a POI (there are many \n",
    "more non-POIs than POIs in the world, and even at Enron)--you'd be likely to accidentally identify them as a POI, though!\n",
    "\n",
    "This goes to say that, when generating or augmenting a dataset, you should be exceptionally careful if your data are coming from \n",
    "different sources for different classes. It can easily lead to the type of bias or mistake that we showed here. There are ways to \n",
    "deal with this, for example, you wouldn't have to worry about this problem if you used only email data--in that case, discrepancies \n",
    "in the financial data wouldn't matter because financial features aren't being used. There are also more sophisticated ways of \n",
    "estimating how much of an effect these biases can have on your final answer; those are beyond the scope of this course.\n",
    "\n",
    "For now, the takeaway message is to be very careful about introducing features that come from different sources depending on the \n",
    "class! It's a classic way to accidentally introduce biases and mistakes.\n",
    "\"\"\""
   ]
  }
 ],
 "metadata": {
  "kernelspec": {
   "display_name": "Python 2",
   "language": "python",
   "name": "python2"
  },
  "language_info": {
   "codemirror_mode": {
    "name": "ipython",
    "version": 2
   },
   "file_extension": ".py",
   "mimetype": "text/x-python",
   "name": "python",
   "nbconvert_exporter": "python",
   "pygments_lexer": "ipython2",
   "version": "2.7.11"
  }
 },
 "nbformat": 4,
 "nbformat_minor": 0
}
