{
 "cells": [
  {
   "cell_type": "code",
   "execution_count": 3,
   "metadata": {
    "collapsed": false
   },
   "outputs": [
    {
     "name": "stdout",
     "output_type": "stream",
     "text": [
      "[0.0, 0.4166666666666667, 1.0]\n"
     ]
    }
   ],
   "source": [
    "\"\"\"\n",
    "Implements the feature scaling\n",
    "\"\"\"\n",
    "\n",
    "### FYI, the most straightforward implementation might \n",
    "### throw a divide-by-zero error, if the min and max\n",
    "### values are the same\n",
    "### but think about this for a second--that means that every\n",
    "### data point has the same value for that feature!  \n",
    "### why would you rescale it?  Or even use it at all?\n",
    "def featureScaling(arr):\n",
    "    newarr = []\n",
    "    try:\n",
    "        min_feat = min(arr)\n",
    "        max_feat = max(arr)\n",
    "        for el in arr:\n",
    "            x = float((el - min_feat))/(max_feat - min_feat)\n",
    "            newarr.append(x)\n",
    "    except ZeroDivisionError:\n",
    "        print 'Number divided by zero'\n",
    "    return newarr\n",
    "\n",
    "# tests of your feature scaler--line below is input data\n",
    "data = [115, 140, 175]\n",
    "print featureScaling(data)"
   ]
  },
  {
   "cell_type": "code",
   "execution_count": 7,
   "metadata": {
    "collapsed": false
   },
   "outputs": [
    {
     "name": "stdout",
     "output_type": "stream",
     "text": [
      "[[ 115.]\n",
      " [ 140.]\n",
      " [ 175.]]\n",
      "[[ 0.        ]\n",
      " [ 0.41666667]\n",
      " [ 1.        ]]\n"
     ]
    }
   ],
   "source": [
    "\"\"\"\n",
    "Min-Max scaler using Sklearn\n",
    "\"\"\"\n",
    "import numpy as np\n",
    "from sklearn.preprocessing import MinMaxScaler\n",
    "\n",
    "X = np.array([[ 115.],[140.],[175.]])\n",
    "print X\n",
    "scaler = MinMaxScaler()\n",
    "minmax = scaler.fit_transform(X)\n",
    "print minmax\n",
    "    \n",
    "   "
   ]
  },
  {
   "cell_type": "code",
   "execution_count": null,
   "metadata": {
    "collapsed": true
   },
   "outputs": [],
   "source": []
  }
 ],
 "metadata": {
  "kernelspec": {
   "display_name": "Python 2",
   "language": "python",
   "name": "python2"
  },
  "language_info": {
   "codemirror_mode": {
    "name": "ipython",
    "version": 2
   },
   "file_extension": ".py",
   "mimetype": "text/x-python",
   "name": "python",
   "nbconvert_exporter": "python",
   "pygments_lexer": "ipython2",
   "version": "2.7.11"
  }
 },
 "nbformat": 4,
 "nbformat_minor": 0
}
