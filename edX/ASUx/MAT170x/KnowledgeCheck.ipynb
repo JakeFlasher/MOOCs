{
 "cells": [
  {
   "cell_type": "markdown",
   "metadata": {},
   "source": [
    "# Knowledge Check\n",
    "\n"
   ]
  },
  {
   "cell_type": "code",
   "execution_count": 78,
   "metadata": {
    "collapsed": true
   },
   "outputs": [],
   "source": [
    "# packages used along the exercises\n",
    "import math as m\n",
    "import numpy as np\n",
    "%matplotlib inline\n",
    "from matplotlib import pyplot as plt"
   ]
  },
  {
   "cell_type": "markdown",
   "metadata": {},
   "source": [
    "## Finding the value in a function\n",
    "\n",
    "What is the value of $y$ in the equation $\\sqrt{y+9} = 5$?\n",
    "\n",
    "$\n",
    "(\\sqrt{y+9})^2 = 5^2\n",
    "$<br>$\n",
    "y + 9 = 25\n",
    "$<br>$\n",
    "y = 25 -9\n",
    "$<br>$\n",
    "y = 16\n",
    "$"
   ]
  },
  {
   "cell_type": "markdown",
   "metadata": {},
   "source": [
    "## Domain and range of a function\n",
    "\n",
    "The **domain** of a function is the complete set of possible values of the independent variable, i.e., the set of all possible $x$-values which will make the function \"work\", and will output real y-values.\n",
    "\n",
    "The **range** of a function is the complete set of all possible resulting values of the dependent variable after we have substituted the domain, i.e., the resulting $y$-values we get after substituting all the possible x-values.\n",
    "\n",
    "Use a bracket (sometimes called a square bracket) to indicate that the endpoint is included in the interval, a parenthesis (sometimes called a round bracket) to indicate that it is not. "
   ]
  },
  {
   "cell_type": "markdown",
   "metadata": {},
   "source": [
    "## Sinusoidal function: $x$-interception\n",
    "\n",
    "Finding the points where a sinusoidal function described as $y = a.sin(kx)$ intercept the $x$ axis can be performed by inserting the value of $k$ in the period $T$ as illustrated in the image:\n",
    "\n",
    "<img src=\"images/sinusoidal_function.png\" align=\"center\"/>\n",
    "\n",
    "where T represents the period of the sinusoidal function. Thus, knowing that a sinusoidal function intercepts the $x$ axis in $x=0$, $x=\\frac{T}{2}$ and $x=T$, we can find $T$ by:\n",
    "\n",
    "$$ T = \\frac{360}{k} = \\frac{2\\pi}{k} $$\n",
    "\n",
    "For example, considering the function $y = \\frac{5}{2} sin\\left(\\frac{2}{3}x\\right)$, we find that the equation $y = a.sin(kx)$ contains the value of $a = \\frac{5}{2}$ and the value of $k = \\frac{2}{3}$. Thus, replacing values in the equation of the period, we have:\n",
    "\n",
    "$\n",
    "y = 0 \\rightarrow x = 0\n",
    "$<br>$\n",
    "y = \\frac{T}{2} \\rightarrow x = \\frac{\\frac{2\\pi}{k}}{2} \\rightarrow \\frac{2\\pi}{2k} \\rightarrow \\frac{2\\pi}{2.\\frac{2}{3}} \\rightarrow \\frac{2\\pi}{\\frac{4}{3}} \\rightarrow \\frac{6\\pi}{4} \\rightarrow \\frac{3\\pi}{2}\n",
    "$<br>$\n",
    "y = T \\rightarrow x = \\frac{2\\pi}{k} \\rightarrow \\frac{2\\pi}{\\frac{2}{3}} \\rightarrow \\frac{6\\pi}{2} \\rightarrow 3\\pi\n",
    "$\n",
    "\n",
    "Finally, the values of maximum and minima of $y$ are expressed by the value of $a$ as illustred in the image. Hence, the maximum value to the example is $a = \\frac{5}{2}$ and the minimum value is $-a = -\\frac{5}{2}$.\n"
   ]
  },
  {
   "cell_type": "markdown",
   "metadata": {},
   "source": [
    "## Finding the domain of a logarithmic function\n",
    "\n",
    "In order to find the domain of the natural logarithm in the function $f(x) = ln\\left(\\frac{3}{x+2}\\right)$, we first must know that the logarithmic function $f(x) = ln(x)$ always has positive numbers (greater than 0), since its function is:"
   ]
  },
  {
   "cell_type": "code",
   "execution_count": 79,
   "metadata": {},
   "outputs": [
    {
     "data": {
      "image/png": "[encoded data removed]",
      "text/plain": [
       "<matplotlib.figure.Figure at 0x7f62aa118450>"
      ]
     },
     "metadata": {},
     "output_type": "display_data"
    }
   ],
   "source": [
    "x = np.linspace(0, 10, 50)\n",
    "x = np.log(x[1:])\n",
    "plt.plot(x)\n",
    "plt.show()"
   ]
  },
  {
   "cell_type": "markdown",
   "metadata": {},
   "source": [
    "Thus, we can discover the domain of the ln function $f(x) = ln\\left(\\frac{3}{x+2}\\right)$ by verifying the variable in the numerator as greater than 0 and the variable in the denominator as different than 0. As we do not have a variable in the numerator, we test the denominator as different than zero, as:\n",
    "\n",
    "$x + 2 \\neq 0 \\rightarrow x \\neq -2$\n",
    "\n",
    "As the logarithm domain tend to the infinity ($\\infty$) the domain to the function results in D = (-2, $\\infty$)."
   ]
  },
  {
   "cell_type": "markdown",
   "metadata": {},
   "source": [
    "##### Determine $\\theta$ when given the value of cotangent\n",
    "\n",
    "First, let's build the table for sine, cossine and tangent as:\n",
    "\n",
    "|      |         0          |          30         |              45             |         60          |         90         |               |      |         0          |         30         |        45          |        60          |         90         |\n",
    "| :--- | :----------------: | :-----------------: | :-------------------------: | :-----------------: | :----------------: |               | :--- | :----------------: | :----------------: | :----------------: | :----------------: | :----------------: |\n",
    "| sinX |$\\frac{\\sqrt{0}}{2}$| $\\frac{\\sqrt{1}}{2}$|    $\\frac{\\sqrt{2}}{2}$     | $\\frac{\\sqrt{3}}{2}$|$\\frac{\\sqrt{4}}{2}$|               | sinX |         0          |    $\\frac{1}{2}$   |$\\frac{\\sqrt{2}}{2}$|$\\frac{\\sqrt{3}}{2}$|          1         |\n",
    "| cosX |$\\frac{\\sqrt{4}}{2}$| $\\frac{\\sqrt{3}}{2}$|    $\\frac{\\sqrt{2}}{2}$     | $\\frac{\\sqrt{1}}{2}$|$\\frac{\\sqrt{0}}{2}$| $\\rightarrow$ | cosX |         1          |$\\frac{\\sqrt{3}}{2}$|$\\frac{\\sqrt{2}}{2}$|    $\\frac{1}{2}$   |          0         |\n",
    "| tanX |    $\\frac{0}{1}$   |$\\frac{2}{2\\sqrt{3}}$|$\\frac{2\\sqrt{2}}{2\\sqrt{2}}$|$\\frac{2\\sqrt{3}}{2}$|    $\\frac{1}{0}$   |               | tanX |         0          |$\\frac{1}{\\sqrt{3}}$|         1          |     $\\sqrt{3}$     |          ?         |\n",
    "\n",
    "Having the table containing the tangent of each angle and knowing that cotangent is the inverse of the tangent\n",
    "\n",
    "$$\n",
    "cot \\theta = \\frac{1}{tan \\theta}\n",
    "$$\n",
    "\n",
    "we can calculate the angle $\\theta$ given in an expression. For example, consider the equation $cot \\theta + \\sqrt{3} = 0$, we can discover the value of $\\theta$ as:\n",
    "\n",
    "$\n",
    "cot \\theta + \\sqrt{3} = 0\n",
    "$<br>$\n",
    "\\frac{1}{tan \\theta} = - \\sqrt{3}\n",
    "$<br>$\n",
    "tan \\theta = - \\frac{1}{\\sqrt{3}}\n",
    "$<br>$\n",
    "$\n",
    "\n",
    "Looking at the table, we can see that the angle when $tan \\theta = \\frac{1}{\\sqrt{3}}$ is 30 degrees. The minus signal before the value means that the angle occurs in a quadrant where the tangent is negative -- second and fourth quadrants in the image below (right). Thus, 30 degrees equals to 150 degrees (2nd quadrant) and 330 degrees (4th quadrant).\n",
    "\n",
    "<table>\n",
    "    <tr>\n",
    "        <td><img src=\"images/circle_angles.png\" align=\"left\" width=\"300px\"/></td>\n",
    "        <td><img src=\"images/distribution_signals.png\" align=\"right\" width=\"320px\"/></td>\n",
    "    </tr>\n",
    "</table>\n",
    "\n",
    "Knowing that $\\theta (rad) = \\frac{\\theta (degrees) * \\pi}{180}$ we can convert the angle in degrees to radians as:\n",
    "\n",
    "150 degrees  |  330 degrees\n",
    ":-----------:|:-------------:\n",
    "$ \\theta (rad) = \\frac{\\theta (degrees) * \\pi}{180} \\\\ \\theta (rad) = \\frac{150 \\pi}{180} \\\\ \\theta (rad) = \\frac{5\\pi}{6} \\\\ $ | $ \\theta (rad) = \\frac{\\theta (degrees) * \\pi}{180} \\\\ \\theta (rad) = \\frac{330 \\pi}{180} \\\\ \\theta (rad) = \\frac{11\\pi}{6} \\\\ $ \n",
    "\n",
    "As we can see in the image above, the value that corresponds to 150 degrees is $\\frac{5\\pi}{6}$ rads and to 330 degrees is $\\frac{11\\pi}{6}$ rads."
   ]
  },
  {
   "cell_type": "markdown",
   "metadata": {},
   "source": [
    "## Finding asymptotes and points for a cotangent\n",
    "\n",
    "$\n",
    "y = -2 cot \\left( x + \\frac{\\pi}{2}\\right)\n",
    "$"
   ]
  },
  {
   "cell_type": "markdown",
   "metadata": {
    "collapsed": true
   },
   "source": [
    "## Expanding logarithms\n",
    "\n",
    "First, let's review some logarithm's rules:\n",
    "- $log XY = log X + log Y$\n",
    "- $\\frac{log X}{log Y} = log X - log Y$\n",
    "- $log X^y = y log X$"
   ]
  },
  {
   "cell_type": "markdown",
   "metadata": {},
   "source": [
    "## Finding the angle between two lines\n",
    "\n",
    "Looking at the image below, we have to discover the angle $\\theta$, knowing the distances between Island A, B and C.\n",
    "\n",
    "<img src=\"images/paths.png\" align=\"center\" width=\"400px\"/>\n",
    "\n",
    "In order to do that, we have to use the law of the cosines, which states $ a^2 = b^2 + c^2 - 2ab\\ cos\\theta$. Thus, we set the values of $a$, $b$ and $c$ in the equation as:\n",
    "\n",
    "$\n",
    "a^2 = b^2 + c^2 - 2ab.cos\\theta\n",
    "$<br>$\n",
    "13^2 = 9^2 + 10^2 - 2.9.10.cos\\theta\n",
    "$<br>$\n",
    "169 = 81 + 100 - 180.cos\\theta\n",
    "$<br>$\n",
    "169 - 181 = -180.cos\\theta\n",
    "$<br>$\n",
    "180.cos\\theta = 12\n",
    "$<br>$\n",
    "cos\\theta = \\frac{12}{180}\n",
    "$<br>$\n",
    "arccos \\theta = cos^{-1} \\frac{1}{15} = cos^{-1} 0.0667\n",
    "$<br>$\n",
    "\\theta = 86.1755\\ degrees\n",
    "$\n"
   ]
  },
  {
   "cell_type": "code",
   "execution_count": 80,
   "metadata": {},
   "outputs": [
    {
     "name": "stdout",
     "output_type": "stream",
     "text": [
      "Angle theta = 86.177446 degrees\n"
     ]
    }
   ],
   "source": [
    "a = 13\n",
    "b = 9\n",
    "c = 10\n",
    "\n",
    "v = float((b**2 + c**2) - a**2)/(2*b*c) \n",
    "theta_rad = m.acos(v)\n",
    "theta = m.degrees(theta_rad)\n",
    "print 'Angle theta = %f degrees' % theta"
   ]
  },
  {
   "cell_type": "markdown",
   "metadata": {},
   "source": [
    "We can check the other angles, named B and C for each island. In order to do that, we use the law of the sines, which is described as $\\frac{sin A}{a} = \\frac{sin B}{b} = \\frac{sin C}{c}$. Setting the values in the equation, we have:\n",
    "\n",
    "$\n",
    "\\frac{sin\\theta}{a} = \\frac{sin B}{b}\n",
    "$<br>$\n",
    "\\frac{sin 86.1755}{13} = \\frac{sin B}{9}\n",
    "$<br>$\n",
    "\\frac{0.9978 \\times 9}{13} = sin B\n",
    "$<br>$\n",
    "sin B = 0.6907\n",
    "$<br>$\n",
    "B = arcsin(0.6908) = sin^{-1} 0.6907 = 43.6935\\ degrees\n",
    "$"
   ]
  },
  {
   "cell_type": "code",
   "execution_count": 81,
   "metadata": {},
   "outputs": [
    {
     "name": "stdout",
     "output_type": "stream",
     "text": [
      "Angle B = 43.690895\n"
     ]
    }
   ],
   "source": [
    "sinB = (m.sin(theta_rad)/a)*b\n",
    "B_rad = m.asin(sinB)\n",
    "B = m.degrees(B_rad)\n",
    "print 'Angle B = %f' % B"
   ]
  },
  {
   "cell_type": "markdown",
   "metadata": {},
   "source": [
    "Finally, the angle C can be computed by the sum of the other angles. Knowing that the sum of the intern angles of a triangle is equal to 180 degrees, we can find the value of C as:\n",
    "\n",
    "$\n",
    "\\theta + B + C = 180 \\\\\n",
    "C = 180 - (86.1755 + 43.6935) \\\\\n",
    "C = 50,131\\ degrees \\\\\n",
    "$"
   ]
  },
  {
   "cell_type": "code",
   "execution_count": 82,
   "metadata": {},
   "outputs": [
    {
     "name": "stdout",
     "output_type": "stream",
     "text": [
      "Angle C = 50.131658\n"
     ]
    }
   ],
   "source": [
    "C = 180 - (theta + B)\n",
    "print 'Angle C = %f' % C"
   ]
  },
  {
   "cell_type": "markdown",
   "metadata": {},
   "source": [
    "## Calculating the difference quotient\n",
    "\n",
    "Find the difference quotient $\\frac{f(x+h)-f(x)}{h}$, where $h \\neq 0$ for the function $f(x) = \\frac{5}{x + 8}$. In order to do that, we first replace in the original equation the value of $x$ by $(x+h)$, resulting in:\n",
    "\n",
    "$\n",
    "f(x) = \\frac{5}{x + 8}\n",
    "$<br>$\n",
    "f(x+h) = \\frac{5}{(x+h) + 8}\n",
    "$\n",
    "\n",
    "Now, we can solve the equation replacing the values of f(x) and f(x+h) as:\n",
    "\n",
    "$\n",
    "\\frac{f(x+h)-f(x)}{h}\n",
    "$<br>$\n",
    "\\frac{\\frac{5}{x+h+8} - \\frac{5}{x+8}}{h}\n",
    "$<br>$\n",
    "\\frac{\\left(\\frac{5}{x+h+8} - \\frac{5}{x+8}\\right) (x+h+8)(x+8)}{h (x+h+8)(x+8)}\n",
    "$<br>$\n",
    "\\frac{5(x+8) - 5(x+h+8)}{h(x+h+8)(x+8)}\n",
    "$<br>$\n",
    "\\frac{5x+40-5x-40}{h(x+h+8)(x+8)}\n",
    "$<br>$\n",
    "\\frac{-5h}{h(x+h+8)(x+8)}\n",
    "$<br>$\n",
    "\\frac{-5}{(x+h+8)(x+8)}\n",
    "$"
   ]
  },
  {
   "cell_type": "markdown",
   "metadata": {
    "collapsed": true
   },
   "source": [
    "## Find all solutions to a trigonometric function\n",
    "\n",
    "In order to find all solutions of the equation $sin\\ 2x + cos\\ x = 0$ in the interval [$0,2\\pi$), we first replace $sin\\ 2x$ by its identity $2.sin\\ x.cos\\ x$ and solve the equation as:\n",
    "\n",
    "$\n",
    "sin\\ 2x + cos\\ x = 0\n",
    "$<br>$\n",
    "(2.sin\\ x.cos\\ x) + cos\\ x = 0\n",
    "$<br>$\n",
    "cos\\ x(2.sin\\ x + 1) = 0\n",
    "$<br>$\n",
    "\\rightarrow cos\\ x = 0 :: \\frac{\\pi}{2}, \\frac{3\\pi}{2}\n",
    "$<br>$\n",
    "\\rightarrow 2.sin\\ x + 1 = 0\n",
    "$<br>$\n",
    "\\ \\ \\ \\ \\ sin\\ x = -\\frac{1}{2} :: \\frac{7\\pi}{6}, \\frac{11\\pi}{6}\n",
    "$"
   ]
  },
  {
   "cell_type": "markdown",
   "metadata": {},
   "source": [
    "## Progression of decreasing area\n",
    "\n",
    "A certain forest covers an area of 4100 $km^2$ and each year this area decreases by 7%. We can apply sucessively a multiplication of $\\frac{7}{100}$ for each year. Thus, we have\n",
    "\n",
    "Initial area = 4100 $km^2$\n",
    "\n",
    "1 year: $4100    - \\frac{4100*7}{100}    = 3813\\    km^2$<br>\n",
    "2 year: $3813    - \\frac{3813*7}{100}    = 3546.09\\ km^2$<br>\n",
    "3 year: $3546.09 - \\frac{3546.09*7}{100} = 3297.86\\ km^2$<br>\n",
    "4 year: $3297.86 - \\frac{3297.86*7}{100} = 3067.01\\ km^2$<br>\n",
    "5 year: $3067.01 - \\frac{3067.01*7}{100} = 2852.32\\ km^2$<br>\n",
    "6 year: $2852.32 - \\frac{2852.32*7}{100} = 2652.66\\ km^2$<br>\n",
    "\n",
    "Thus, after 6 years the total area of the forest will cover about 2653 $km^2$."
   ]
  },
  {
   "cell_type": "code",
   "execution_count": 83,
   "metadata": {},
   "outputs": [
    {
     "name": "stdout",
     "output_type": "stream",
     "text": [
      "1 year: 3813.00\n",
      "2 year: 3546.09\n",
      "3 year: 3297.86\n",
      "4 year: 3067.01\n",
      "5 year: 2852.32\n",
      "6 year: 2652.66\n",
      "\n",
      "After 6 years, the total area od the forest will cover about 2653 km2\n"
     ]
    },
    {
     "data": {
      "image/png": "[encoded data removed]",
      "text/plain": [
       "<matplotlib.figure.Figure at 0x7f62aa141690>"
      ]
     },
     "metadata": {},
     "output_type": "display_data"
    }
   ],
   "source": [
    "initial = 4100\n",
    "years = 6\n",
    "\n",
    "updated = initial\n",
    "vindex, vplot = [], []\n",
    "for y in range(1, years+1):\n",
    "    updated = updated - (updated*7.)/100.\n",
    "    print '%d year: %.2f' % (y, updated)\n",
    "    vindex.append(y)\n",
    "    vplot.append(updated)\n",
    "    \n",
    "print\n",
    "print 'After %d years, the total area od the forest will cover about %.f km2' % (y, updated)\n",
    "\n",
    "plt.clf()\n",
    "plt.plot(vindex, vplot)\n",
    "plt.show()"
   ]
  },
  {
   "cell_type": "markdown",
   "metadata": {},
   "source": [
    "## Finding the equation to natural exponential from points\n",
    "\n",
    "In order to find the exponential equation as $y = a.e^{rt}$ from two points, we first find the value of $a$ from the initial point, and then calculate the value of $r$ using the second point. In this equation, $a$ tells us where it touches the y-axis when time is zero, $r$ is the rate of change or how fast it grows with time $t$. \n",
    "\n",
    "For example, having an initial population of 80 fish in a lake and with the fish population growing according to a continuous exponential growth model, after 15 years there are 216 fish in the lake. Thus, we first apply the equation for time=0, where we have 80 fishes in order to find the value of $a$:\n",
    "\n",
    "$\n",
    "y = a.e^{rt}\n",
    "$<br>$\n",
    "80 = a.e^{r.0}\n",
    "$<br>$\n",
    "a = 80\n",
    "$\n",
    "\n",
    "Our second point referes to the 15th year ($t=15$), where the lake contains 216 fishes. Replacing values in the equation, we can find the value of $r$:\n",
    "\n",
    "$\n",
    "y = a.e^{rt}\n",
    "$<br>$\n",
    "216 = 80.e^{r.15}\n",
    "$<br>$\n",
    "15.r = ln(2.7)\n",
    "$<br>$\n",
    "r = \\frac{ln(2.7)}{15}\n",
    "$<br>$\n",
    "r = 0.0662\n",
    "$\n",
    "\n",
    "Replacing elements in the original equation, we have $y = 80.e^{\\frac{ln(2.7)}{15}t}$. With the equation, we can calculate the population for every year. For example, after 17 years, we obtain:\n",
    "\n",
    "$\n",
    "y = a.e^{rt}\n",
    "$<br>$\n",
    "y = 80.e^{\\frac{ln(2.7)}{15}.17}\n",
    "$<br>$\n",
    "y = 246.586286\n",
    "$"
   ]
  },
  {
   "cell_type": "code",
   "execution_count": 84,
   "metadata": {},
   "outputs": [
    {
     "name": "stdout",
     "output_type": "stream",
     "text": [
      "Initial population: 80\n",
      "Population after 1 years: 85.476665\n",
      "Population after 2 years: 91.328254\n",
      "Population after 3 years: 97.580433\n",
      "Population after 4 years: 104.260625\n",
      "Population after 5 years: 111.398132\n",
      "Population after 6 years: 119.024261\n",
      "Population after 7 years: 127.172461\n",
      "Population after 8 years: 135.878474\n",
      "Population after 9 years: 145.180486\n",
      "Population after 10 years: 155.119298\n",
      "Population after 11 years: 165.738504\n",
      "Population after 12 years: 177.084683\n",
      "Population after 13 years: 189.207602\n",
      "Population after 14 years: 202.160437\n",
      "Population after 15 years: 216.000000\n",
      "Population after 16 years: 230.786997\n",
      "Population after 17 years: 246.586286\n"
     ]
    },
    {
     "data": {
      "image/png": "[encoded data removed]",
      "text/plain": [
       "<matplotlib.figure.Figure at 0x7f62a7f8e8d0>"
      ]
     },
     "metadata": {},
     "output_type": "display_data"
    }
   ],
   "source": [
    "#brutal force\n",
    "import math as m\n",
    "\n",
    "a = 80\n",
    "print 'Initial population: %d' % a\n",
    "r = m.log(2.7)/15.\n",
    "\n",
    "vyear, vpop = [], []\n",
    "for year in range(1,18):\n",
    "    # y = a.e^{rt}\n",
    "    y = a*m.exp(r*year)\n",
    "    print 'Population after %d years: %f' % (year, y)\n",
    "    vyear.append(year)\n",
    "    vpop.append(y)\n",
    "    \n",
    "    \n",
    "plt.clf()\n",
    "plt.plot(vyear, vpop)\n",
    "plt.show()"
   ]
  },
  {
   "cell_type": "markdown",
   "metadata": {},
   "source": [
    "## Calculating compound interest\n",
    "\n",
    "Compound interest can be calculated based on the equation\n",
    "\n",
    "$$ A = P\\left( 1 + \\frac{r}{n} \\right)^{nt} $$\n",
    "\n",
    "where $A$ is the final amount, $P$ is the initial amount, $r$ is the interest rate (expressed as a decimal), $t$ is the total number of years, and $n$ is the number of compoundings a year (e.g., if the interest is compounded yearly, then $n=1$; if semi-annually, then $n=2$; quarterly, then $n=4$; monthly, then $n=12$ and so on).\n",
    "\n",
    "Knowing that, we can apply values in the equation to determine what is the amount after $t$ years, or how many years we will grow an investiment. For example, Heather deposited \\$3000 into an account with a 3.7% annual interest rate, compounded semiannually. Assuming that no withdrawals are made, how long will it take for the investment to grow to \\$4500? From the question, we can identify $P = 3000$, $n=2$ and $r=0.037$.\n",
    "can solve the equation as:\n",
    "\n",
    "$\n",
    "A = P\\left( 1 + \\frac{r}{n} \\right)^{nt}\n",
    "$<br>$\n",
    "A = 3000 \\left( 1 + \\frac{0.037}{2} \\right)^{2t} \n",
    "$\n",
    "\n",
    "Having the equation to calculate the compound interest, we can vary the value of $t$ to find the growth of investiment each year."
   ]
  },
  {
   "cell_type": "code",
   "execution_count": 85,
   "metadata": {},
   "outputs": [
    {
     "name": "stdout",
     "output_type": "stream",
     "text": [
      "Growth of the investiment in year 12: 4657.855966\n",
      "\n",
      "Growth of investiment in year 1: 3112.026750\n",
      "Growth of investiment in year 2: 3228.236831\n",
      "Growth of investiment in year 3: 3348.786458\n",
      "Growth of investiment in year 4: 3473.837679\n",
      "Growth of investiment in year 5: 3603.558594\n",
      "Growth of investiment in year 6: 3738.123580\n",
      "Growth of investiment in year 7: 3877.713525\n",
      "Growth of investiment in year 8: 4022.516073\n",
      "Growth of investiment in year 9: 4172.725874\n",
      "Growth of investiment in year 10: 4328.544846\n",
      "Growth of investiment in year 11: 4490.182450\n",
      "Growth of investiment in year 12: 4657.855966\n"
     ]
    },
    {
     "data": {
      "image/png": "[encoded data removed]",
      "text/plain": [
       "<matplotlib.figure.Figure at 0x7f62a7eb9a10>"
      ]
     },
     "metadata": {},
     "output_type": "display_data"
    }
   ],
   "source": [
    "# data received by the question\n",
    "P = 3000\n",
    "n = 2\n",
    "r = 3.7/100\n",
    "\n",
    "# calculating the value of A for each year\n",
    "t, A = 0, 0\n",
    "while A < 4500:\n",
    "    t += 1\n",
    "    A = 3000*((1+(r/n))**(n*t))\n",
    "print 'Growth of the investiment in year %d: %f' % (t, A)\n",
    "print\n",
    "vyear, vA = [], []\n",
    "for year in range(1, t+1):\n",
    "    A = 3000*((1+(r/n))**(n*year))\n",
    "    print 'Growth of investiment in year %d: %f' % (year, A)\n",
    "    vyear.append(year)\n",
    "    vA.append(A)\n",
    "    \n",
    "plt.clf()\n",
    "plt.plot(vyear, vA)\n",
    "plt.show()"
   ]
  },
  {
   "cell_type": "markdown",
   "metadata": {},
   "source": [
    "Another form to calculate time in compound interest is using the logarithm as:\n",
    "\n",
    "$\n",
    "A = P(1 + \\frac{r}{n})^{nt}\n",
    "$<br>$\n",
    "\\frac{A}{P} = (1+\\frac{r}{n})^{nt}\n",
    "$<br>$\n",
    "log(\\frac{A}{P}) = log(1+\\frac{r}{n})*nt\n",
    "$<br>$\n",
    "t = \\frac{log(A) - log(P)}{n\\left[log\\left(1+\\frac{r}{n}\\right)\\right]}\n",
    "$\n",
    "\n",
    "Changing values, we achieve:\n",
    "\n",
    "$\n",
    "t = \\frac{log(\\frac{4500}{3000})}{2\\left[log\\left(1+\\frac{0.037}{2}\\right)\\right]}\n",
    "$<br>$\n",
    "t = \\frac{0.1761}{2.log(1.0185)}\n",
    "$<br>$\n",
    "t = \\frac{0.1761}{2(0,008)}\n",
    "$<br>$\n",
    "t = \\frac{0.1761}{0,0159} = 11,0596\n",
    "$"
   ]
  },
  {
   "cell_type": "code",
   "execution_count": 75,
   "metadata": {},
   "outputs": [
    {
     "name": "stdout",
     "output_type": "stream",
     "text": [
      "Growth of the investiment in year 11.059573: $4500\n"
     ]
    }
   ],
   "source": [
    "# data received by the question\n",
    "A = 4500\n",
    "P = 3000\n",
    "n = 2\n",
    "r = 3.7/100\n",
    "\n",
    "# calculating the value of A for each year\n",
    "t = (m.log(A)-m.log(P))/(n*m.log(1+(r/n)))\n",
    "print 'Growth of the investiment in year %f: $%d' % (t, A)"
   ]
  },
  {
   "cell_type": "markdown",
   "metadata": {},
   "source": [
    "## Solve $x$ using logarithms\n",
    "\n",
    "Solve for $x$ $log_2 (x+6) = 2 - log_2 (x + 3)$. The first thing we have know here is the propriety of logarithms that says that $log_a x + log_a y = log_a (x.y)$ and vice-versa. Thus, we have:\n",
    "\n",
    "$\n",
    "log_2 (x+6) = 2 - log_2 (x+3)\n",
    "$<br>$\n",
    "log_2 (x+6) + log_2 (x+3) = 2\n",
    "$<br>$\n",
    "log_2 (x+6)(x+3) = 2\n",
    "$\n",
    "\n",
    "Now we apply the inverse of the logarithm, and exponentiate both sides in the base 2 (log base), as:\n",
    "\n",
    "$\n",
    "2^{log_2 (x+6)(x+3)} = 2^2\n",
    "$<br>$\n",
    "(x+6)(x+3) = 4\n",
    "$<br>$\n",
    "x^2 + 3x + 6x + 18 - 4 = 0\n",
    "$<br>$\n",
    "x^2 + 9x + 14 = 0\n",
    "$\n",
    "\n",
    "Here we have a second degree equation and we can solve it as:\n",
    "\n",
    "$\n",
    "x = \\frac{-b \\pm \\sqrt{b^2 - 4ac}}{2a}\n",
    "$<br>$\n",
    "x = \\frac{-9 \\pm \\sqrt{9^2 - 4.1.14}}{2.1}\n",
    "$<br>$\n",
    "x = \\frac{-9 \\pm 5}{2}\n",
    "$<br>$\n",
    "x' = \\frac{-9 + 5}{2} = -2\n",
    "$<br>$\n",
    "x\" = \\frac{-9 - 5}{2} = -7\n",
    "$\n",
    "\n",
    "Having both values of $x$, we have to plug them in the logarithm equation and check if they hold:\n",
    "\n",
    "For $x=-2$:\n",
    "\n",
    "$\n",
    "log_2 (x+6) + log_2 (x+3) = 2\n",
    "$<br>$\n",
    "log_2 (-2+6) + log_2 (-2+3) = 2\n",
    "$<br>$\n",
    "log_2 4 + log_2 1 = 2\n",
    "$<br>$\n",
    "2 == 2\n",
    "$\n",
    "\n",
    "For $x=-7$:\n",
    "\n",
    "$\n",
    "log_2 (x+6) + log_2 (x+3) = 2\n",
    "$<br>$\n",
    "log_2 (-7+6) + log_2 (-7+3) = 2\n",
    "$<br>$\n",
    "log_2 -1 + log_2 -4 = 2\n",
    "$<br>$\n",
    "? \\ne 2\n",
    "$\n",
    "\n",
    "As we can see, only the value of $x=-2$ is a valid value to the equation."
   ]
  },
  {
   "cell_type": "markdown",
   "metadata": {},
   "source": [
    "Find all solutions of the equation in the interval [0, 2$\\pi$).\n",
    ", 02π\n",
    ".\n",
    "=sinθ0.6387\n",
    "If there is more than one solution, separate them with commas.\n",
    "Do not round any intermediate computations, and round your answer(s) to the nearest hundredth."
   ]
  }
 ],
 "metadata": {
  "kernelspec": {
   "display_name": "Python 2",
   "language": "python",
   "name": "python2"
  },
  "language_info": {
   "codemirror_mode": {
    "name": "ipython",
    "version": 2
   },
   "file_extension": ".py",
   "mimetype": "text/x-python",
   "name": "python",
   "nbconvert_exporter": "python",
   "pygments_lexer": "ipython2",
   "version": "2.7.13"
  }
 },
 "nbformat": 4,
 "nbformat_minor": 2
}
