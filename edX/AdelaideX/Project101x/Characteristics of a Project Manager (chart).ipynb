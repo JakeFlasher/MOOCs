{
 "cells": [
  {
   "cell_type": "markdown",
   "metadata": {},
   "source": [
    "# Characteristics of a Project Manager\n",
    "\n",
    "Typical Project Manager:\n",
    " 76%  - Leadership\n",
    " 80%  - Communication\n",
    " 70%  - Creative thinking and problem-solving\n",
    " 80%  - Dealing with uncertainty\n",
    " 92%  - Planning\n",
    "\n",
    "Your results:\n",
    " 60%  - Leadership\n",
    " 82%  - Communication\n",
    " 70%  - Creative thinking and problem-solving\n",
    " 59%  - Dealing with uncertainty\n",
    " 59%  - Planning"
   ]
  },
  {
   "cell_type": "markdown",
   "metadata": {},
   "source": [
    "# Based on your response, you may want to work on the following areas.\n",
    "\n",
    "## Leadership\n",
    "Being an effective leader enables your team and the individuals within your team to achieve set objectives and attain the required project outcome/s. Some of the skills that can be developed to become an effective leader include: good problem-solving skills, working well with others, displaying confidence, and having a clear vision of where you want to take your team and what you want them to achieve. Leaders are able to provide direction to those who need it and challenge those individuals who need to be stretched.\n",
    "\n",
    "## Creative thinking and problem-solving\n",
    "Creative thinking and problem-solving are key skills for any project manager. Projects are essentially a set of activities delivered in the future, which means that they are subject to unknown events not anticipated. Creative thinking is required to best deal with these unexpected challenges and problems that need to be solved. Creative thinking requires proper immersion through the use of various techniques to really think in-depth about problem solving perspectives before responding to it. Take time to facilitate brainstorming sessions to build creativity and look at challenges in new ways with a view to finding a range of alternative solutions that may be more effective than a single (off the shelf) solution approach you might usually take.\n",
    "\n",
    "## Dealing with uncertainty\n",
    "Dealing with uncertainty forms part of every project, as projects are delivered in the future - which means uncertainty of what may, or may not happen. Challenges and issues will pop up unexpectedly and you will need to be equipped to deal with such changes. Dealing with uncertainty is in-part about having confidence that you (and your project team) will be able to manage an issue when it arises. It is about being comfortable that although you may not be able to foresee (or plan) for every issue that may arise, you will be able to reduce the impact through a combination of good planning, an experienced team, and contingency planning.\n",
    "\n",
    "## Planning\n",
    "Planning is a core activity in the early stages of any project lifecycle. Planning and organisational skills are essential to being an effective project manager. Taking time to understand what your project is about, the benefits it should deliver, and the essential activities that need to be completed is all part and parcel of laying a solid planning foundation. Thorough analysis and evaluation in selecting the “best approach” to undertaking and completing project activities will inform overall project planning, communication, and stakeholder management by clearly articulating the selected path to successfully achieving project objectives."
   ]
  }
 ],
 "metadata": {
  "kernelspec": {
   "display_name": "Python 2",
   "language": "python",
   "name": "python2"
  },
  "language_info": {
   "codemirror_mode": {
    "name": "ipython",
    "version": 2
   },
   "file_extension": ".py",
   "mimetype": "text/x-python",
   "name": "python",
   "nbconvert_exporter": "python",
   "pygments_lexer": "ipython2",
   "version": "2.7.10"
  }
 },
 "nbformat": 4,
 "nbformat_minor": 0
}
