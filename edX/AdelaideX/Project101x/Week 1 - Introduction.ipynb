{
 "cells": [
  {
   "cell_type": "markdown",
   "metadata": {},
   "source": [
    "# <font color='navy'>Project Management</font>\n",
    "\n",
    "## Initiation:\n",
    " - what is a project?\n",
    " - what is the problem that I need to solve?\n",
    " - what do I need?\n",
    " - What are my options?\n",
    "\n",
    "## Planning: [scoping, scheduling, costing]\n",
    " - How do you define the scope of your project?\n",
    " - What planning needs to be done?\n",
    " - What resources do I need?\n",
    " - When does it need to be done by?\n",
    " - How much will it cost?\n",
    "\n",
    "## Execution: [risk, leadership, stakeholders]\n",
    " - What risks do I need to consider?\n",
    " - How do I engage with stakeholders?\n",
    " - How do I communicate with and lead my team?\n",
    " - Am I doing the project right?\n",
    "\n",
    "## Closure:\n",
    " - Were the original objectives of the project delivered?\n",
    " - What do I need to measure?\n",
    " - How will I give and receive feedback?\n",
    " - Do I understand the PM jouney?"
   ]
  },
  {
   "cell_type": "markdown",
   "metadata": {},
   "source": [
    "# <font color='navy'>CANVAS Handout</font>\n",
    "\n",
    "<img src=\"imgs/Canvas.jpg\" width=\"80%\"/>"
   ]
  }
 ],
 "metadata": {
  "kernelspec": {
   "display_name": "Python 2",
   "language": "python",
   "name": "python2"
  },
  "language_info": {
   "codemirror_mode": {
    "name": "ipython",
    "version": 2
   },
   "file_extension": ".py",
   "mimetype": "text/x-python",
   "name": "python",
   "nbconvert_exporter": "python",
   "pygments_lexer": "ipython2",
   "version": "2.7.10"
  }
 },
 "nbformat": 4,
 "nbformat_minor": 0
}
