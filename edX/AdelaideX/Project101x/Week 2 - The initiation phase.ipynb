{
 "cells": [
  {
   "cell_type": "markdown",
   "metadata": {},
   "source": [
    "# <font color='navy'>Initiation</font>\n",
    "\n",
    "\n",
    "First thing she should do is develop an overall perspective of the project she needs to set some objectives and determine her actions\n",
    " - Determine what the project involves\n",
    " - How long it will take to complete it\n",
    " - What alternatives exist to complete this project\n",
    "\n",
    "## Determine the objectives and deliverables\n",
    " - Is this a project?\n",
    " - What is the problem that I need to solve?\n",
    " - What do I need? (Resources)\n",
    " - What are my options?\n",
    "\n",
    "## Project initiation sheet:\n",
    " - What is the project?\n",
    " - What is the purpose of the project?\n",
    " - what is the background to the project?\n",
    " - What are the specific project objectives?\n",
    " - What are the requeriments of the project?\n",
    " - What (if any) are the major issues of the project?\n",
    " - What are the deliverables of the project?\n",
    " - What will be involved in the project?\n",
    " - Who are the key stakeholders?\n",
    "\n",
    "## Example:\n",
    " - What is the project?\n",
    "      Planning a weeding\n",
    " - What is the purpose of the project?\n",
    "      Ensure the bride and groom have the wedding they wished for\n",
    " - what is the background to the project?\n",
    "      The bride and the groom want to get married within 8 weeks\n",
    " - What are the specific project objectives?\n",
    "      Coordinate wedding activities, 8 week timeframe, happy couple\n",
    " - What are the requeriments of the project?\n",
    "      Venue, cakes, dress, flowers, table settings, photographer, music\n",
    " - What (if any) are the major issues of the project?\n",
    "      Time pressure weather considerations, delivery of dress and cake on time, venue availability\n",
    " - What are the deliverables of the project?\n",
    "      Well organised wedding on time\n",
    " - What will be involved in the project?\n",
    "      Event planner, assistant\n",
    " - Who are the key stakeholders?\n",
    "      Bride and groom, parents, florist, band, dressmaker, venue management\n",
    "      \n",
    " <img src=\"imgs/initiation_template.png\" width=\"70%\"/>\n"
   ]
  },
  {
   "cell_type": "markdown",
   "metadata": {},
   "source": [
    "## SMART: a way of setting clear objectives to the project\n",
    " - Specific\n",
    " - Measurable\n",
    " - Aligned\n",
    " - Realistic\n",
    " - Time bound"
   ]
  },
  {
   "cell_type": "markdown",
   "metadata": {},
   "source": [
    "# <font color='navy'>Initiation in review</font>\n",
    "\n",
    "<img src=\"imgs/initiation.jpg\" width=\"60%\"/>"
   ]
  }
 ],
 "metadata": {
  "kernelspec": {
   "display_name": "Python 2",
   "language": "python",
   "name": "python2"
  },
  "language_info": {
   "codemirror_mode": {
    "name": "ipython",
    "version": 2
   },
   "file_extension": ".py",
   "mimetype": "text/x-python",
   "name": "python",
   "nbconvert_exporter": "python",
   "pygments_lexer": "ipython2",
   "version": "2.7.10"
  }
 },
 "nbformat": 4,
 "nbformat_minor": 0
}
