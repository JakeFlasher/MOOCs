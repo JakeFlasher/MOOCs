{
 "cells": [
  {
   "cell_type": "markdown",
   "metadata": {},
   "source": [
    "# <font color='navy'>Planning phase</font>\n",
    "\n",
    "## Planning of a project requires:\n",
    " - diligence\n",
    " - investment of time\n",
    " - gathering sufficient information\n",
    "\n",
    "## What is involved in the planning phase of the project life cycle\n",
    " - scoping of the project: determining and agreeing the activities to meet and complete the requirements of the project\n",
    " - scheduling the project: involves placing the necessary activities into a time frame for completion\n",
    " - estimation of the cost: considers the time and resources required to complete the project within the planned schedule\n",
    "\n",
    "## The phase where:\n",
    " - you articulate in a more detailed way on how you intend to execute the project\n",
    " - you get clear definition of how the work is to be decomposed into workable elements\n",
    " - you ensure that you have the right people to do the task\n",
    " - the task is properly scoped so when the resources are allocated, they're ready to go\n",
    "\n",
    "## Aspects in the project management plan:\n",
    " - the project management plan is key to execution\n",
    " - it defines for all stakeholders what the project is about\n",
    " - defines the mission, the vision of the project, the objectives\n",
    " - how the project is going to be executed, the processes and procedures that will be applied\n",
    " - how the project will be scheduled\n",
    " - what is the budget\n",
    " - who are the resource allocations\n",
    " - how is the project going to be monitored and controlled\n"
   ]
  },
  {
   "cell_type": "markdown",
   "metadata": {},
   "source": [
    "# <font color='navy'>Scoping</font>\n",
    "\n",
    "In order to define the scope of a project, it is necessary to first establish the project objectives.\n",
    "Scoping forms the foundation of the planning phase and considers the overall deliverables of the project.\n",
    "When scoping a project, you need to be very clear as to what is included in or excluded from the project scope.\n",
    "While you're scoping your project, you're not yet considering time and cost implications.\n",
    "You really just want to understand what needs to be done to deliver the project.\n",
    "\n",
    "## Defining scope:\n",
    " 1. clarify around the objectives\n",
    " 2. the tasks that need to be performed\n",
    " 3. the resources that will be required\n",
    " \n",
    "- determine the limitations or parameters of the project\n",
    "- identify any aspects that are to be excluded\n",
    "* understand what needs to be done to conclude de project\n",
    "\n",
    "## A common term used in project management during scoping is the Work Breakdown Structure (WBS).\n",
    " - represents one of the most important project management deliverables\n",
    " - organises and represents the overall scope of the project\n",
    " - if a deliverable does not appear on the WBS, then it should not be undertaken\n",
    " - provide the basis for the project manager to develop the project schedule\n",
    " - will be revisited and further refined once project risks have been identified and assessed\n",
    " * A good approach to developing the Work Breakdown Structure is to start by identifying all of the project deliverables\n",
    " * then to sub-divide the work that needs to be undertaken\n",
    " <img src=\"imgs/WBS_template.jpg\" width=\"50%\"/>\n",
    "\n"
   ]
  },
  {
   "cell_type": "markdown",
   "metadata": {},
   "source": [
    "# <font color='navy'>Scheduling</font>\n",
    "Scheduling is all about how you plan to manage your time when undertaking a project. It represents the planned duration of the individual tasks of the project overall\n",
    "\n",
    "## The triple constraints that are common to all projects are: \n",
    " - quality\n",
    " - cost\n",
    " - time\n",
    " \n",
    "## There are five key elements associated with time management of a project\n",
    " - defining the activities\n",
    " - sequencing these activities\n",
    " - estimating the activity resources required\n",
    " - estimating the activity duration to complete\n",
    " - developing the schedule\n",
    " * development of the schedule can only occur once all of these processes have been completed\n",
    "\n",
    "Once both resources and duration have been assessed and estimated:\n",
    " - working schedule can be handed over to the project stakeholders for review\n",
    " \n",
    "Once you have defined the activities, the activities need to be sequenced\n",
    " - Sequencing activities involves making decisions about the process flow of the tasks\n",
    " - Certain tasks might be related\n",
    " - Identify any dependent relationships between them\n",
    "\n",
    "Estimating activity resources is closely linked to assessing and estimating the duration of each activity. Estimating task duration requires you to consider the amount of work needed to complete individual activities\n",
    "\n",
    "## Developing a schedule represents the output of the preceding five input processes that we have identified\n",
    " * Scheduling is core to the planning process\n",
    " * Schedule can and should be refined multiple times before the implementation phase of the project commences\n",
    "<img src=\"imgs/scheduling_table_template.jpg\" width=\"70%\"/>\n",
    "\n",
    "## Scoping activities\n",
    "<img src=\"imgs/gantt_diagram.png\" width=\"70%\"/>"
   ]
  },
  {
   "cell_type": "markdown",
   "metadata": {},
   "source": [
    "# <font color='navy'>Estimating cost</font>\n",
    "\n",
    "## We need to plan, manage, and control our project costs, using a budget.\n",
    " - budget is a limitation or constraint\n",
    " - we are required to deliver our project within a predetermined amount\n",
    "\n",
    "## Prepare the budget\n",
    " - estimate the various costs that will be incurred during the project to complete the identified project activities\n",
    " * is referred to as developing a cost estimate\n",
    " - Includes estimate the resources required for the activity (quantities of materials and/or human resources)\n",
    " - estimate the duration of each of these activities (hourly, daily, or weekly rate)\n",
    "\n",
    "## If the scope change cannot be accommodated:\n",
    " - seek additional budget support\n",
    " - trade-off by reducing scope on some of the existing activities in the original scope (de-scoping)\n",
    "\n",
    "Usually results in a compromise of quality, and as a result, is generally an unpopular choice"
   ]
  },
  {
   "cell_type": "markdown",
   "metadata": {},
   "source": [
    "# <font color='navy'>Reviewing the planning phase</font>\n",
    "<img src=\"imgs/planning.jpg\"  width=\"70%\"/>"
   ]
  }
 ],
 "metadata": {
  "kernelspec": {
   "display_name": "Python 2",
   "language": "python",
   "name": "python2"
  },
  "language_info": {
   "codemirror_mode": {
    "name": "ipython",
    "version": 2
   },
   "file_extension": ".py",
   "mimetype": "text/x-python",
   "name": "python",
   "nbconvert_exporter": "python",
   "pygments_lexer": "ipython2",
   "version": "2.7.10"
  }
 },
 "nbformat": 4,
 "nbformat_minor": 0
}
