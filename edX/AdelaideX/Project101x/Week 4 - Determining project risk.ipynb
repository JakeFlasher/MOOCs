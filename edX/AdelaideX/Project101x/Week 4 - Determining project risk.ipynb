{
 "cells": [
  {
   "cell_type": "markdown",
   "metadata": {},
   "source": [
    "# <font color='navy'>Risk management</font>\n",
    "\n",
    "Risk management: The process of identifying, assessing and then responding to risk.\n",
    "Risk forms part of the execution phase and requires continuous monitoring and review.\n",
    "The key question: what risks do I need to consider on this project?\n",
    "\n",
    "## Project risk will vary as a result of:\n",
    " - the extent and duration of your project\n",
    " - the period of time between the planning and execution phases\n",
    " - the level of experience you and your team members have by undertaking similar projects\n",
    " - the maturity of the technology being used\n",
    " \n",
    "## Types of risks:\n",
    " - technical risk\n",
    " - financial risk (risks in the form of budget overspend)\n",
    " - schedule risk (being late on deliveries)\n",
    " - commercial risk\n",
    " - reputational risk (risk to the brand or reputation)\n",
    " \n",
    "## How could I treat those risks?\n",
    " - simply ignoring them\n",
    " - making a judgement of the probability of occurrence\n",
    " - ...\n",
    "\n",
    "It is so important to engage the project team members, because when you look at it, they're the people actually doing the work, as well as your stakeholders.\n",
    "Effective risk management underpins successful project delivery.\n",
    "\n",
    "## So what is the best approach to use to plan a major risk in your project?\n",
    " 1. understand the context of your project and to confirm your project objectives\n",
    " 2. risk identification which may impact on achieving your project objectives (stakeholders together)\n",
    " 3. undertake a risk assessment\n",
    "   - prioritise by assessing their severity using a combination of both likelihood and the impact that each risk may have on your objectives\n",
    "   <img src=\"imgs/risk_matrix.jpg\" width=\"70%\"/>\n",
    " 4. consider and plan risk responses (can be responded to in four ways)\n",
    "    - risk can be accepted\n",
    "    - risk can be transferred to another party\n",
    "    - risk can be mitigated or reduced\n",
    "    - risk can be avoided\n",
    " 5. monitor and review risks (ongoing process not a once off tick-the-box activity)\n",
    " 6. communicate the outcomes to the relevant stakeholders to assist their decision making\n",
    " \n",
    "Put a strategy in place for each risk by deciding whether you are prepared to accept the risk, transfer the risk, reduce the risk, or avoid the risk entirely."
   ]
  },
  {
   "cell_type": "markdown",
   "metadata": {},
   "source": [
    "# Risk assessment template\n",
    "\n",
    "<img src=\"imgs/risk_assessment_template.jpg\" width=\"60%\"/>"
   ]
  },
  {
   "cell_type": "markdown",
   "metadata": {},
   "source": [
    "# PESTLE Framework\n",
    "\n",
    "In assessing the risk, we would therefore need to consider both the likelihood and the impact.\n",
    "A useful starting point is to create different areas or categories of risk. \n",
    "Categories could consist of economic risks, political risks, commercial risks, organisational risks, and technical risks.\n",
    "\n",
    "PESTLE stands for:\n",
    " - Political\n",
    " - Economic\n",
    " - Social\n",
    " - Technological\n",
    " - Legal\n",
    " - Environmental\n",
    " \n",
    "Consider the various risk categories in the template provided and perform a basic assessment of each of the risk categories on a scale of one to five:\n",
    "<img src=\"imgs/PESTLE_framework.jpg\" width=\"60%\"/>"
   ]
  },
  {
   "cell_type": "markdown",
   "metadata": {},
   "source": [
    "# <font color='navy'>Reviewing project risk</font>\n",
    "<img src=\"imgs/execution.jpg\" width=\"60%\"/>"
   ]
  }
 ],
 "metadata": {
  "kernelspec": {
   "display_name": "Python 2",
   "language": "python",
   "name": "python2"
  },
  "language_info": {
   "codemirror_mode": {
    "name": "ipython",
    "version": 2
   },
   "file_extension": ".py",
   "mimetype": "text/x-python",
   "name": "python",
   "nbconvert_exporter": "python",
   "pygments_lexer": "ipython2",
   "version": "2.7.10"
  }
 },
 "nbformat": 4,
 "nbformat_minor": 0
}
