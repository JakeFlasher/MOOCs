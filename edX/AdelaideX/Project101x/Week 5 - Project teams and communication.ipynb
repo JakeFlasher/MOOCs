{
 "cells": [
  {
   "cell_type": "markdown",
   "metadata": {},
   "source": [
    "# <font color='navy'>Execution phase of our project</font>\n",
    "\n",
    "Execution is all about putting your project planning into action and ensuring the objectives and deliverables are met. It is in this phase where the value of the project is realised as a result of all of the planning that has been done.\n",
    "\n",
    "## Key questions to keep in mind doing project delivery\n",
    " 1. Am I delivering to the plan specifications and requirements? \n",
    " 2. Am I able to secure supply of the necessary resources?\n",
    " 3. Will I be able to manage and control the project scope?\n",
    " 4. How will I be able to control quality?\n",
    " \n",
    "Building and maintaining open and honest relationships with your project team and stakeholders will make project execution a lot easier."
   ]
  },
  {
   "cell_type": "markdown",
   "metadata": {},
   "source": [
    "# <font color='navy'>The role of project stakeholders</font>\n",
    "\n",
    "It is the role of the project manager to manage and influence the expectations of the various stakeholders. Stakeholders, in this sense, will be all those people and organisations affected by the project.\n",
    "\n",
    "## Project stakeholders may include:\n",
    " - customers\n",
    " - suppliers\n",
    " - contractors\n",
    " - project team.\n",
    " \n",
    "## Stakeholders are classified into:\n",
    " - internal: include you, as the project manager, your project team, and your management team. They should have clearly defined roles, responsibilities, and accountabilities that they need to fulfil.\n",
    " - external: outside of the project or organisation and typically include an end user or customers of the project outcome, as well as suppliers and contractors."
   ]
  },
  {
   "cell_type": "markdown",
   "metadata": {},
   "source": [
    "# <font color='navy'>Key project team roles</font>\n",
    "\n",
    "One of the key responsibilities of the project manager is to assign roles to the team members during the execution phase. Recruiting the right skill set, assigning roles and responsibilities, and encouraging and supporting the project team are just some of the challenges to be considered.\n",
    "\n",
    "## Consider creating a project team organisational chart\n",
    " - provides the overall structure of the team\n",
    " - their roles\n",
    " - information about who reports to whom"
   ]
  },
  {
   "cell_type": "markdown",
   "metadata": {},
   "source": [
    "# <font color='navy'>Effective project communication</font>\n",
    "\n",
    "Good communication supports team motivation and gives the team a sense of purpose. Putting a well-coordinated communication process or plan in place helps to further clarify objectives, roles, and responsibilities. A good communication plan keeps stakeholders informed and engaged and project teams motivated.\n",
    "\n",
    "## Methods of communication\n",
    " - upward: project manager communicates with senior managers. Elements of communication include issues, risks, and expectations of the project.\n",
    " - lateral: project managers communicate with clients, suppliers, vendors, and contractors. Elements discussed using this channel include resource needs, progress updates, budgets, and schedule issues.\n",
    " - directly with the project team: provides direction to the team, highlights pending tasks, confirms delivery dates, and schedules general team meetings.\n",
    " \n"
   ]
  },
  {
   "cell_type": "markdown",
   "metadata": {},
   "source": [
    "# <font color='navy'>Reviewing project teams and communication</font>\n",
    "\n",
    "The execution phase of the project management life cycle brings together all the work that you have completed in initiation and planning. It is in this phase where all of the tasks are implemented and completed for the project before handover and closure.\n",
    "\n",
    "## Effective communication is about:\n",
    " - delivering information\n",
    " - giving clear instructions\n",
    " - listening to responses\n",
    " - providing constructive feedback\n",
    "\n",
    "<img src=\"imgs/execution.jpg\" width=\"50%\"/>"
   ]
  }
 ],
 "metadata": {
  "kernelspec": {
   "display_name": "Python 2",
   "language": "python",
   "name": "python2"
  },
  "language_info": {
   "codemirror_mode": {
    "name": "ipython",
    "version": 2
   },
   "file_extension": ".py",
   "mimetype": "text/x-python",
   "name": "python",
   "nbconvert_exporter": "python",
   "pygments_lexer": "ipython2",
   "version": "2.7.10"
  }
 },
 "nbformat": 4,
 "nbformat_minor": 0
}
