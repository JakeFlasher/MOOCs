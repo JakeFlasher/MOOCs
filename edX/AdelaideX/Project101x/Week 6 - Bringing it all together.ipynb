{
 "cells": [
  {
   "cell_type": "markdown",
   "metadata": {},
   "source": [
    "# <font color='navy'>Project closure</font>\n",
    "\n",
    "Closure forms the final phase of the project life cycle and formally brings together the end of the project and the handover of the completed project to the buyer or sponsor. Closure of the project also requires consolidation of communications with your team and other stakeholders and obtaining feedback about the success of the project.\n",
    "\n",
    "## Key questions that need to be answered in this phase are:\n",
    " - Were the original objectives of the project delivered?\n",
    " - What do I need to measure?\n",
    " - How will I give and receive feedback?\n",
    " - Do I understand the project management journey?"
   ]
  },
  {
   "cell_type": "markdown",
   "metadata": {},
   "source": [
    "# <font color='navy'>Aligning project success</font>\n",
    "\n",
    "It is important to manage the closure phase to take the maximum benefit from the entire journey and capture learning experiences gained.\n",
    "\n",
    "## Key elements relating to project closure:\n",
    " - project wrap up\n",
    " - evaluating project success\n",
    " - capturing lessons learned\n",
    " \n",
    "### Project wrap up\n",
    " - The major tasks are to ensure the project is approved, handed over, and accepted by the customer. To assist with this activity, a formal checklist to ensure nothing is overlooked.\n",
    "   * obtaining project acceptance\n",
    "   * finalising and terminating resources\n",
    "   * de-establishing the team\n",
    "   * capturing remaining costs\n",
    "   * closing project related accounts\n",
    "   * compiling a final project report\n",
    "\n",
    "### Evaluating project success\n",
    " - Encourages changes in behaviour, practices, and supports improvement in performance. The process includes:\n",
    "   * assessing\n",
    "   * verifying\n",
    "   * documenting project results\n",
    "   \n",
    "### Capturing lessons learned\n",
    " - Capturing lessons learned on past projects can be useful in applying to future projects."
   ]
  },
  {
   "cell_type": "markdown",
   "metadata": {},
   "source": [
    "# <font color='navy'>Measuring progress</font>\n",
    "\n",
    "Measuring and reporting on project progress typically involves deciding on what project information and data is required to be collected, and how this information should then be analysed and reported.\n",
    "\n",
    "## You may need answers to the following questions:\n",
    " - What is the current schedule and cost status for your project?\n",
    " - How much will it cost to complete the project?\n",
    " - When will the project be completed?\n",
    " - If there are schedule slippages and/or cost overruns, what will be the forecast at completion?\n",
    " - Are there potential problems that need to be addressed?\n",
    " \n",
    "A base line plan (road map to project success) provides guidance in all stages of the project. As information is collected it can then be compared with this base line plan. Because plans seldom eventuate as expected, it becomes important to understand and investigate any differences from the plan, and then decide if any action is necessary.\n",
    "\n",
    "The timing of this work is important as there needs to be sufficient time to allow for early detection of any inconsistencies and correction of any causes. If differences from the base line plan are significant, correction action would be required in order to bring the project back in line with the original or revised plan."
   ]
  },
  {
   "cell_type": "markdown",
   "metadata": {},
   "source": [
    "# <font color='navy'>Project closure and handover</font>\n",
    "\n",
    "Projects are based on results, so the project manager must ensure that outcomes have been achieved and delivered. The final step in any project should be evaluation through reflection and feedback. The reflection could be described as a look back over the project to see what can be learned and how these lessons might be applied to future projects.\n",
    "\n",
    "## You should consider these three questions:\n",
    " - Did I get to where I expected to be?\n",
    " - Did I get there the way I expected to?\n",
    " - Are all the stakeholders happy with the outcome and the way it was achieved?\n",
    " \n",
    "## The following sample of questions can be asked by the project manager:\n",
    " - Were the project objectives achieved?\n",
    " - Did the projects stay within budget?\n",
    " - Did the team work well together?\n",
    " - Were the stakeholders kept informed of the project progress?\n",
    " - Was the agreed project life cycle followed?\n",
    " - Were risks identified and managed effectively?"
   ]
  },
  {
   "cell_type": "markdown",
   "metadata": {},
   "source": [
    "# <font color='navy'>Reviewing project closure</font>\n",
    "\n",
    "<img src=\"imgs/closure.jpg\" width=\"50%\"/>"
   ]
  }
 ],
 "metadata": {
  "kernelspec": {
   "display_name": "Python 2",
   "language": "python",
   "name": "python2"
  },
  "language_info": {
   "codemirror_mode": {
    "name": "ipython",
    "version": 2
   },
   "file_extension": ".py",
   "mimetype": "text/x-python",
   "name": "python",
   "nbconvert_exporter": "python",
   "pygments_lexer": "ipython2",
   "version": "2.7.10"
  }
 },
 "nbformat": 4,
 "nbformat_minor": 0
}
