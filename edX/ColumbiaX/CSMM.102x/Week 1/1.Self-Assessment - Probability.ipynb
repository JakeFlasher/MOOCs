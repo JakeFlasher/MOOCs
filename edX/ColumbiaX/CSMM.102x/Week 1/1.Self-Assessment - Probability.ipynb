{
 "cells": [
  {
   "cell_type": "markdown",
   "metadata": {},
   "source": [
    "# Self-Assessment : Probability"
   ]
  },
  {
   "cell_type": "code",
   "execution_count": 25,
   "metadata": {
    "collapsed": true
   },
   "outputs": [],
   "source": [
    "%matplotlib inline\n",
    "import math as m\n",
    "from matplotlib import pyplot as plt\n",
    "\n",
    "def plot(v1, v2):\n",
    "    plt.clf()\n",
    "    plt.plot(v1, v2)\n",
    "    plt.show()"
   ]
  },
  {
   "cell_type": "markdown",
   "metadata": {},
   "source": [
    "## Die cast\n",
    "\n",
    "*Suppose a pair of fair 6-sided dice are thrown. What is the probability that the sum of the rolls is 6? (Answer as a simple fraction of integers)*\n",
    "\n",
    "Probability of a number in a single dice: $\\frac{1}{6}$  \n",
    "Probability of two numbers in a pair of dice: $\\frac{1}{6}\\cdot\\frac{1}{6} = \\frac{1}{36}$\n",
    "\n",
    "Consider two dice (a, b), the combinations of both dice are:\n",
    "\n",
    "(1,1)\t(1,2)\t(1,3)\t(1,4)\t(**1,5**)\t(1,6)  \n",
    "(2,1)\t(2,2)\t(2,3)\t(**2,4**)\t(2,5)\t(2,6)  \n",
    "(3,1)\t(3,2)\t(**3,3**)\t(3,4)\t(3,5)\t(3,6)  \n",
    "(4,1)\t(**4,2**)\t(4,3)\t(4,4)\t(4,5)\t(4,6)  \n",
    "(**5,1**)\t(5,2)\t(5,3)\t(5,4)\t(5,5)\t(5,6)  \n",
    "(6,1)\t(6,2)\t(6,3)\t(6,4)\t(6,5)\t(6,6)  \n",
    "\n",
    "The sum of dice equals to 6 in 5 combinations, thus, the probability of the sum occur is: $\\frac{5}{36}$"
   ]
  },
  {
   "cell_type": "code",
   "execution_count": 10,
   "metadata": {},
   "outputs": [
    {
     "name": "stdout",
     "output_type": "stream",
     "text": [
      "Probability of the sum of both dice equals to 6: (5/36)=0.138889\n"
     ]
    }
   ],
   "source": [
    "dice_a = [1,2,3,4,5,6]\n",
    "dice_b = [1,2,3,4,5,6]\n",
    "count = 0\n",
    "for a in dice_a:\n",
    "    for b in dice_b:\n",
    "        if a+b == 6:\n",
    "            count += 1\n",
    "size = len(dice_a)*len(dice_b)\n",
    "prob = float(count)/size\n",
    "print 'Probability of the sum of both dice equals to 6: (%d/%d)=%f' % (count, size, prob)"
   ]
  },
  {
   "cell_type": "markdown",
   "metadata": {},
   "source": [
    "##  The Birthday Problem\n",
    "\n",
    "*Consider a class of 20 students. What is the probability that **no** two students share have the same Birth Date? (Assume that a year has only 365 days and that each birth is independent of the other). Round the answer to two decimal places. As an exercise, try to do this when there are $n$ students, where $n$ is an integer greater than 1. Draw a graph of probaility as $n$ increases.*\n",
    "\n",
    "As the sum of the probabilities of happen and not happen an event has to sum to 1, in this problem it is easier to consider when two people will not have the birthday in the same date. Thus, the probability of one person has a date of birth (in any day) is equal to $\\frac{365}{365}$. For the second person, the probability of having the same date of birth of the first one is $\\frac{1}{365}$, and thus, the probability of the second person not having the birthday in the same date is $\\frac{364}{365}$, leaving 363 days to a third person birthday.\n",
    "\n",
    "Therefore, the probability for 3 people have different birthdays are:\n",
    "\n",
    "$$ \\frac{365}{365}\\cdot\\frac{364}{365}\\cdot\\frac{363}{365} = \\frac{48,228,180}{48,627,125} \\approx 0.9917 $$\n",
    "\n",
    "We can add up to $n$ people, decreasing the numerator of the equation for each person added. Converting to an equation, we have:\n",
    "\n",
    "$$ \\frac{365}{365}\\cdot\\frac{364}{365}\\cdot\\frac{363}{365}\\cdot \\ldots \\cdot\\frac{365-n+1}{365} $$\n",
    "\n",
    "This equation can be interpreted in terms of factorial, as in the numerator we have the factorial of 365 up to the factorial of $n$ numbers. In order to remove the rest of the factorial after the $n$ number, we divide the numerator by the factorial of the $n-1$th number. Thus, in case where we have three terms, the numerator becomes:\n",
    "\n",
    "$$ \\frac{365!}{362!}\\ \\ \\ \\ \\rightarrow\\ \\ \\ \\ \\frac{365!}{(365-n)!} $$\n",
    "\n",
    "The final equation turns out as:\n",
    "\n",
    "$$ \\frac{365!}{(365-n)! \\cdot 365^n} $$\n",
    "\n",
    "If we want to find the probability of two people sharing the same date, we can subtract the total probability (100%) of the probability of two having the same date as:\n",
    "\n",
    "$$ P(same\\_birthday) = 1 - P(different\\_birthday) $$"
   ]
  },
  {
   "cell_type": "code",
   "execution_count": 50,
   "metadata": {},
   "outputs": [
    {
     "name": "stdout",
     "output_type": "stream",
     "text": [
      "Person 1: 1.000000\n",
      "Person 2: 0.997260\n",
      "Person 3: 0.991796\n",
      "Person 4: 0.983644\n",
      "Person 5: 0.972864\n",
      "Person 6: 0.959538\n",
      "Person 7: 0.943764\n",
      "Person 8: 0.925665\n",
      "Person 9: 0.905376\n",
      "Person 10: 0.883052\n",
      "Person 11: 0.858859\n",
      "Person 12: 0.832975\n",
      "Person 13: 0.805590\n",
      "Person 14: 0.776897\n",
      "Person 15: 0.747099\n",
      "Person 16: 0.716396\n",
      "Person 17: 0.684992\n",
      "Person 18: 0.653089\n",
      "Person 19: 0.620881\n",
      "Person 20: 0.588562\n"
     ]
    }
   ],
   "source": [
    "n = 20 \n",
    "\n",
    "vprobs, vpeople = [], []\n",
    "prob = 1\n",
    "for p in range(n):\n",
    "    pb_person = float(365-p)/365\n",
    "    prob *= pb_person\n",
    "    vprobs.append(prob)\n",
    "    vpeople.append(p+1)\n",
    "    print 'Person %d: %f' % (p+1, prob)"
   ]
  },
  {
   "cell_type": "code",
   "execution_count": 52,
   "metadata": {},
   "outputs": [
    {
     "data": {
      "image/png": "[encoded data removed]",
      "text/plain": [
       "<matplotlib.figure.Figure at 0x7f4ac63aa090>"
      ]
     },
     "metadata": {},
     "output_type": "display_data"
    }
   ],
   "source": [
    "# Plot the increasing of probability as we increase the number of people\n",
    "plot(vpeople, vprobs)"
   ]
  },
  {
   "cell_type": "markdown",
   "metadata": {},
   "source": [
    "## Sampling with Replacement\n",
    "\n",
    "*Suppose there are 10 identical items. 10 items are selected one by one with replacement. What is the probability that a particular item is not selected? As an exercise, consider number of items as $n$. Find a general formula for probability. Especially, find out what happens when $n$ becomes very large(You will use this concept later in a concept called Bagging)*\n",
    "\n",
    "The probability of not selecting an item can be calculated as the probability of taking the other items minus the probability of selecting the target item, or simplifying:\n",
    "\n",
    "$$ P(not\\_item) = 1 - P(item) $$\n",
    "\n",
    "As we have 10 items, the probability of selecting an item is equal to $\\frac{1}{10} = 0.1$, and the probability of not selecting an item corresponds to $P(not\\_item) = 1 - 0.1 = 0.9$. As we try using replacement, the probability of each action is independent of the action before, keeping the probability equal for all selecions. Trying 10 times with replacement, we have for the number of trials:\n",
    "\n",
    "$\n",
    "P(trials) = P(not\\_item) . P(not\\_item) . P(not\\_item) \\ldots . P(not\\_item)\n",
    "$\n",
    "\n",
    "Replacing the values in the equation, we have:\n",
    "\n",
    "$\n",
    "P(trials) = 0.9 \\cdot 0.9 \\cdot 0.9 \\cdot 0.9 \\cdot 0.9 \\cdot 0.9 \\cdot 0.9 \\cdot 0.9 \\cdot 0.9 \\cdot 0.9\n",
    "$<br>$\n",
    "P(trials) = 0.35\n",
    "$\n",
    "\n",
    "Generalizing to $n$ trials, we have:\n",
    "\n",
    "$$ P(trials) = P(not\\_item)^{n} $$"
   ]
  },
  {
   "cell_type": "code",
   "execution_count": 54,
   "metadata": {},
   "outputs": [
    {
     "name": "stdout",
     "output_type": "stream",
     "text": [
      "Probability that a particular item is not selected: 0.348678\n"
     ]
    }
   ],
   "source": [
    "n = 10\n",
    "items = range(10)\n",
    "P_item = 1./(len(items))\n",
    "Pnot_item = 1 - P_item\n",
    "Ptrials = Pnot_item**n\n",
    "print 'Probability that a particular item is not selected: %f' % Ptrials"
   ]
  },
  {
   "cell_type": "markdown",
   "metadata": {},
   "source": [
    "## Conditional Probability\n",
    "\n",
    "*When a fair coin is tossed 5 times, what is the probability that exactly three heads are observed when it is known that there is at least one head? (express as a fraction)*\n",
    "\n",
    "First we eliminate the possibility of having no head when tossing a coin. No heads occur only once, when all 5 tosses are tail. As the coin is tossed 5 times, we have an universe of $2^5$ possibilities minus all tails: $possibilities = 2^5 - 1 = 31 $. \n",
    "\n",
    "Now that we know how many possibilities exists, we have to discover how many times 3 heads occur when tossing 5 times. By combinatorial analysis, we know that \n",
    "\n",
    "$$\n",
    "\\binom{n}{k} = \\frac{n!}{k!(n-k)!}\n",
    "$$\n",
    "\n",
    "where $n$ is the number of times we flip a coin and $k$ is the total number of elements we want to find combined. Replacing values in the equation, we have\n",
    "\n",
    "$$\n",
    "\\binom{5}{3} = \\frac{5!}{3!(5-3)!} = \\frac{120}{6(2)!} = \\frac{120}{12} = 10\n",
    "$$\n",
    "\n",
    "Thus, we have 10 possibilities of finding 3 heads in 5 tosses. Finally, the probability that exactly three heads are observed when it is known that there is at least one head is $\\frac{10}{31}$. \n"
   ]
  },
  {
   "cell_type": "code",
   "execution_count": 18,
   "metadata": {},
   "outputs": [
    {
     "name": "stdout",
     "output_type": "stream",
     "text": [
      "Total of possibilities:  31\n",
      "Possibilities with exactly 3 heads:  10\n",
      "P(3_heads in 5_times) = 10/31 = 0.322581\n"
     ]
    }
   ],
   "source": [
    "from collections import Counter\n",
    "coin = ['head', 'tail']\n",
    "c = 0\n",
    "c_3heads = 0\n",
    "for c1 in coin:\n",
    "    for c2 in coin:\n",
    "        for c3 in coin:\n",
    "            for c4 in coin:\n",
    "                for c5 in coin:\n",
    "                    if 'head' in [c1, c2, c3, c4, c5]:\n",
    "                        count_c = Counter([c1, c2, c3, c4, c5])\n",
    "                        if count_c['head'] == 3:\n",
    "                            c_3heads += 1\n",
    "                        c += 1\n",
    "print 'Total of possibilities: ',c\n",
    "print 'Possibilities with exactly 3 heads: ', c_3heads\n",
    "print 'P(3_heads in 5_times) = %d/%d = %f' % (c_3heads, c, float(c_3heads)/c)"
   ]
  },
  {
   "cell_type": "markdown",
   "metadata": {},
   "source": [
    "## Bayes Theorem\n",
    "\n",
    "In a particular hospital during Flu season, it was observed that 10% of the patients had Cold. Among the patients with cold, 80% had Flu and among the rest, only 5% had flu. Given that a particular patient had Flu, what is the probability that he had Cold?\n",
    "\n"
   ]
  },
  {
   "cell_type": "code",
   "execution_count": null,
   "metadata": {
    "collapsed": true
   },
   "outputs": [],
   "source": []
  }
 ],
 "metadata": {
  "kernelspec": {
   "display_name": "Python 2",
   "language": "python",
   "name": "python2"
  },
  "language_info": {
   "codemirror_mode": {
    "name": "ipython",
    "version": 2
   },
   "file_extension": ".py",
   "mimetype": "text/x-python",
   "name": "python",
   "nbconvert_exporter": "python",
   "pygments_lexer": "ipython2",
   "version": "2.7.12"
  }
 },
 "nbformat": 4,
 "nbformat_minor": 1
}
