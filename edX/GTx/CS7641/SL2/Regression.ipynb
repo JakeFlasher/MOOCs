{
 "cells": [
  {
   "cell_type": "markdown",
   "metadata": {},
   "source": [
    "# Regression\n",
    "\n",
    "Finding a mathematical relationship (function) in the input data. Initially, regression had the meaning of regress to the mean of the values. As described in an experiment regarding the height of parents and children. After collecting the data, researchers found out that the distribution of the height of the children compared with their parents follow a line with slope equals 2/3. Thus, all values tend to \"regress\" to the mean after some generations.\n",
    "\n",
    "<img src=\"https://cdn.rawgit.com/rogergranada/MOOCs/master/edX/GTx/CS7641/SL2/images/relation_heights.svg\" align=\"center\" width=\"300\"/>"
   ]
  },
  {
   "cell_type": "markdown",
   "metadata": {},
   "source": [
    "## Finding the best constant function:\n",
    "\n",
    "Input:\n",
    "\n",
    "|  x  |  y  |\n",
    "| --- | --- |\n",
    "| x_1 | y_1 |\n",
    "| x_2 | y_2 |\n",
    "| ... | ... |\n",
    "| x_n | y_n |\n",
    "\n",
    "Function:\n",
    "\n",
    "$$f(x) = c$$\n",
    "$$E(c) = \\sum_{i=1}^n (y_i - c)^2$$\n",
    "\n",
    "<img src=\"https://cdn.rawgit.com/rogergranada/MOOCs/master/edX/GTx/CS7641/SL2/images/error.svg\" align=\"center\" width=\"300\"/>\n",
    "\n",
    "Loss:\n",
    "\n",
    "$$\\frac{\\partial E(c)}{\\partial c} = \\sum_{i=1}^{n} 2(y_i - c)(-1)$$\n",
    "$$\\frac{\\partial E(c)}{\\partial c} = \\sum_{i=1}^{n} (y_i - c) = 0$$\n",
    "$$\\sum_{i=1}^{n} y_i - \\sum_{i=1}^{n} c = 0$$\n",
    "$$n.c = \\sum_{i=1}^{n} y_i$$\n",
    "$$c =  \\sum_{i=1}^{n} \\frac{y_i}{n} \\ \\ \\ \\leftarrow \\text{MEAN}$$\n"
   ]
  },
  {
   "cell_type": "markdown",
   "metadata": {},
   "source": [
    "Information about the derivatives fo the MSE function can be seen here in the [link](http://mccormickml.com/2014/03/04/gradient-descent-derivation/)"
   ]
  },
  {
   "cell_type": "code",
   "execution_count": 149,
   "metadata": {},
   "outputs": [
    {
     "data": {
      "image/png": "[encoded data removed]",
      "text/plain": [
       "<Figure size 432x288 with 1 Axes>"
      ]
     },
     "metadata": {
      "needs_background": "light"
     },
     "output_type": "display_data"
    },
    {
     "name": "stdout",
     "output_type": "stream",
     "text": [
      "\n"
     ]
    }
   ],
   "source": [
    "%matplotlib inline\n",
    "from matplotlib import pyplot as plt\n",
    "import numpy as np\n",
    "\n",
    "house_prices = [1000, 2000, 3000, 4500, 5000, 5200, 5400, 5350, 6000]\n",
    "house_sizes =  [600, 1400, 2000, 3800, 4100, 5600, 7000, 8500, 9900]\n",
    "\n",
    "ones = np.array([ 1 for i in range(0, len(house_prices))])\n",
    "X = np.array(house_sizes).reshape(-1, 1)\n",
    "y = np.array(house_prices).reshape(-1, 1)\n",
    "ones = ones.reshape(-1, 1)\n",
    "X = np.matrix(np.concatenate((ones, X), axis=1))\n",
    "\n",
    "plt.plot(house_sizes, house_prices, 'bx')\n",
    "plt.show()"
   ]
  },
  {
   "cell_type": "markdown",
   "metadata": {},
   "source": [
    "## Draw a line considering two points \n",
    "\n",
    "Let's consider two points in the plot and draw a line that fit some of the points. Observing all points we select the pairs ($x$, $y$): (1400, 2000) and (9900, 6000). Thus, calculating $\\theta_0$ and $\\theta_1$ in the equation:\n",
    "\n",
    "$$y = \\theta_0 + \\theta_1x$$\n",
    "\n",
    "we have:\n",
    "\n",
    "$$y = \\theta_0 + \\theta_1x \\ \\ \\ \\ \\ \\ \\ \\ \\ \\ \\ \\ \\ \\ \\ \\ \\ y = \\theta_0 + \\theta_1x$$\n",
    "$$2000 = \\theta_0 + 1400\\theta_1  \\ \\ \\ \\ \\  6000 = \\theta_0 + 9900\\theta_1$$\n",
    "$$\\ \\ \\ \\ \\ \\ \\ \\ \\theta_1 = \\frac{2000 - \\theta_0}{1400} \\ \\ \\ \\ \\ \\ \\ \\ \\ \\ \\ \\ \\theta_0 = 6000 - 9900\\theta_1$$\n",
    "\n",
    "Looking for the $\\theta_1$ value:\n",
    "\n",
    "$ \\theta_1 = \\frac{2000 - \\theta_0}{1400} $<br>\n",
    "$ \\theta_1 = \\frac{2000 - (6000 - 9900\\theta_1)}{1400} $<br>\n",
    "$ 1400\\theta_1 = 4000 - 9900\\theta_1 $<br>\n",
    "$ 9900\\theta_1 - 1400\\theta_1 = 4000 $<br>\n",
    "$ \\theta_1 = \\frac{4000}{8500} $\n",
    "$ \\theta_1 = 0.47 $\n",
    "\n",
    "Changing the value of $\\theta_1$ in $\\theta_0$ equation:\n",
    "\n",
    "$ \\theta_0 = 6000 - 9900\\theta_1 $<br>\n",
    "$ \\theta_0 = 6000 - 9900(0.47) $<br>\n",
    "$ \\theta_0 = 6000 - 4658,82 $<br>\n",
    "$ \\theta_0 = 1341.17 $"
   ]
  },
  {
   "cell_type": "code",
   "execution_count": 10,
   "metadata": {},
   "outputs": [
    {
     "data": {
      "image/png": "[encoded data removed]",
      "text/plain": [
       "<Figure size 432x288 with 1 Axes>"
      ]
     },
     "metadata": {
      "needs_background": "light"
     },
     "output_type": "display_data"
    }
   ],
   "source": [
    "def draw_line(X, y, thetas):\n",
    "    \"\"\" Draw a line with values of theta \"\"\"\n",
    "    vfx = []\n",
    "    for val in range(1,10000):\n",
    "        fx = thetas[0] + thetas[1]*val\n",
    "        vfx.append(fx)\n",
    "    \n",
    "    plt.plot(X, y, 'bx')\n",
    "    plt.plot(range(1,10000), vfx, 'r')\n",
    "    plt.show()\n",
    "    \n",
    "thetas = np.array([1347.17, 0.47])\n",
    "draw_line(house_sizes, house_prices, thetas)"
   ]
  },
  {
   "cell_type": "markdown",
   "metadata": {},
   "source": [
    "# Loss\n",
    "\n",
    "For the calculated line, let's calculate the loss as the Mean Squared Error (MSE), given by the equation\n",
    "\n",
    "$$ \\mathcal{L}(\\theta_0, \\theta_1) = \\frac{1}{2m} \\sum_{i=1}^{m} (h(x)_i - y_i)^2 $$\n",
    "\n",
    "where:\n",
    "\n",
    "$$ h(x)_i = \\theta_0 + \\theta_1x_i $$"
   ]
  },
  {
   "cell_type": "code",
   "execution_count": 146,
   "metadata": {},
   "outputs": [],
   "source": [
    "# Calculate loss\n",
    "def forward(X, thetas):\n",
    "    \"\"\" Perform forward by matrix multiplication \n",
    "    X: np.matrix (n, 2)\n",
    "        [[1, X0],[1, X1], [1, X2],...,[1, Xn]]\n",
    "    thetas: np.matrix (1, 2)\n",
    "        [theta0, theta1]\n",
    "    Return:\n",
    "    pred : np.matrix (1, n)\n",
    "    \"\"\"\n",
    "    pred = np.dot(X, thetas.T)\n",
    "    pred = pred.reshape(-1, 1)\n",
    "    return pred\n",
    "    \n",
    "    \n",
    "def loss(X, y, thetas):\n",
    "    \"\"\" Compute loss function \"\"\"\n",
    "    dtheta = [0.0, 0.0]\n",
    "    pred = forward(X, thetas)\n",
    "    dif = (pred - y)\n",
    "    error = np.power((pred - y), 2)\n",
    "    J = np.sum(error)/(2*X.shape[0])\n",
    "    return J\n"
   ]
  },
  {
   "cell_type": "code",
   "execution_count": 147,
   "metadata": {},
   "outputs": [
    {
     "name": "stdout",
     "output_type": "stream",
     "text": [
      "Initial loss: 3951748.063338889\n"
     ]
    }
   ],
   "source": [
    "# Check loss for the line created initially\n",
    "theta_calculated = np.array([1341.17, 0.47])\n",
    "print 'Initial loss:', loss(X, y, theta_calculated)"
   ]
  },
  {
   "cell_type": "markdown",
   "metadata": {},
   "source": [
    "## Initializing theta values with random data\n",
    "\n",
    "Let's initialize the theta values with random data and check the loss. Then, we will interatively update the values of theta according to their loss and learning rate."
   ]
  },
  {
   "cell_type": "code",
   "execution_count": 150,
   "metadata": {},
   "outputs": [
    {
     "name": "stdout",
     "output_type": "stream",
     "text": [
      "Shape X: (9, 2)\n",
      "Shape y: (9, 1)\n",
      "Shape theta: (2,) - with values:\n",
      "[0.5488135  0.71518937]\n"
     ]
    }
   ],
   "source": [
    "# Create a theta matrix\n",
    "np.random.seed(seed=0)\n",
    "thetas = np.array([float(np.random.random(1)), float(np.random.random(1))])\n",
    "\n",
    "print 'Shape X:', X.shape\n",
    "print 'Shape y:', y.shape\n",
    "print 'Shape theta:', thetas.shape, '- with values:' \n",
    "print thetas"
   ]
  },
  {
   "cell_type": "code",
   "execution_count": 151,
   "metadata": {},
   "outputs": [
    {
     "name": "stdout",
     "output_type": "stream",
     "text": [
      "Initial loss: 806296.7727448517\n"
     ]
    }
   ],
   "source": [
    "# Draw line with corresponding thetas\n",
    "#draw_line(house_sizes, house_prices, thetas)\n",
    "print 'Initial loss:', loss(X, y, thetas)"
   ]
  },
  {
   "cell_type": "markdown",
   "metadata": {},
   "source": [
    "## Gradient Descent\n",
    "\n",
    "In order to update the theta values, we perform gradient descent, which will update values based on the derivative score of the cost function and the learning rate. Thus, we compute:\n",
    "\n",
    "- Cost function (loss):\n",
    "\n",
    "$$ \\mathcal{L}(\\theta_0, \\theta_1) = \\frac{1}{2m} \\sum_{i=1}^{m} (h(x)_i - y_i)^2 $$\n",
    "\n",
    "where:\n",
    "\n",
    "$$ h(x)_i = \\theta_0 + \\theta_1x_i $$\n",
    "\n",
    "- With the objective:\n",
    "\n",
    "$$ \\underset{\\theta_0, \\theta_1}{\\text{argmin}}\\  \\mathcal{L}(\\theta_0, \\theta_1)$$\n",
    "\n",
    "- With the update rules:\n",
    "\n",
    "$$ \\theta_0 := \\theta_0 - \\alpha \\frac{\\partial}{\\partial\\theta_0}\\mathcal{L}(\\theta_0, \\theta_1)$$\n",
    "$$ \\theta_1 := \\theta_1 - \\alpha \\frac{\\partial}{\\partial\\theta_1}\\mathcal{L}(\\theta_0, \\theta_1)$$\n",
    "\n",
    "- With derivatives:\n",
    "\n",
    "$$\\frac{\\partial}{\\partial\\theta_0}\\mathcal{L}(\\theta_0, \\theta_1) = \\frac{1}{m} \\sum_{i=1}^{m} (h(x)_i - y_i)$$\n",
    "$$\\frac{\\partial}{\\partial\\theta_1}\\mathcal{L}(\\theta_0, \\theta_1) = \\frac{1}{m} \\sum_{i=1}^{m} (h(x)_i - y_i)x_i$$"
   ]
  },
  {
   "cell_type": "code",
   "execution_count": 241,
   "metadata": {},
   "outputs": [],
   "source": [
    "\n",
    "house_prices = [1000, 2000, 3000, 4500, 5000, 5200, 5400, 5350, 6000]\n",
    "house_sizes =  [600, 1400, 2000, 3800, 4100, 5600, 7000, 8500, 9900]\n",
    "\n",
    "ones = np.array([ 1 for i in range(0, len(house_prices))])\n",
    "X = np.array(house_sizes).reshape(-1, 1)\n",
    "y = np.array(house_prices).reshape(-1, 1)\n",
    "ones = ones.reshape(-1, 1)\n",
    "X = np.matrix(np.concatenate((ones, X), axis=1))\n",
    "np.random.seed(seed=0)\n",
    "thetas = np.array([float(np.random.random(1)), float(np.random.random(1))])\n",
    "\n",
    "#############################################################################3\n",
    "\n",
    "def loss(X, y, thetas):\n",
    "    \"\"\" Compute loss function with derivates of the cost \"\"\"\n",
    "    dtheta = [0.0, 0.0]\n",
    "    pred = forward(X, thetas)\n",
    "    error = np.power((pred - y), 2)\n",
    "    for i in range(0, len(dtheta)):\n",
    "        dtheta[i] = np.sum(np.multiply(error, X[:,i]))/X.shape[0]\n",
    "    J = np.sum(error)/(2*X.shape[0])\n",
    "    return J\n",
    "\n",
    "def gradient_descent(X, y, thetas, lr):\n",
    "    new_thetas = np.zeros(thetas.shape)\n",
    "    error = forward(X, thetas) - y\n",
    "    for p in range(0, thetas.shape[0]):\n",
    "        term = np.multiply(error, X[:,p])\n",
    "        new_thetas[p] = (lr/X.shape[0])*np.sum(term)\n",
    "    \n",
    "    new_thetas[0] = thetas[0] - new_thetas[0]\n",
    "    new_thetas[1] = thetas[1] - new_thetas[1]\n",
    "    return new_thetas"
   ]
  },
  {
   "cell_type": "code",
   "execution_count": 257,
   "metadata": {},
   "outputs": [
    {
     "name": "stdout",
     "output_type": "stream",
     "text": [
      ">> [0.5488135  0.71518937]\n"
     ]
    },
    {
     "data": {
      "image/png": "[encoded data removed]",
      "text/plain": [
       "<Figure size 432x288 with 1 Axes>"
      ]
     },
     "metadata": {
      "needs_background": "light"
     },
     "output_type": "display_data"
    },
    {
     "name": "stdout",
     "output_type": "stream",
     "text": [
      "[0.54887399 0.75734443]\n"
     ]
    }
   ],
   "source": [
    "pseudo_thetas = thetas[:]\n",
    "print '>>',pseudo_thetas\n",
    "xaxis = []\n",
    "yaxis = []\n",
    "for i in range(0, 1000):\n",
    "    xaxis.append(i)\n",
    "    cost = loss(X, y, pseudo_thetas)\n",
    "    yaxis.append(cost)\n",
    "    pseudo_thetas = gradient_descent(X, y, pseudo_thetas, 1e-10)\n",
    "    \n",
    "plt.plot(xaxis, yaxis, 'g')\n",
    "plt.show()\n",
    "print pseudo_thetas"
   ]
  },
  {
   "cell_type": "markdown",
   "metadata": {},
   "source": [
    "## Checking the fitting with new thetas \n",
    "\n",
    "Now, with the new thetas, plot a line to check how it fits the data."
   ]
  },
  {
   "cell_type": "code",
   "execution_count": 259,
   "metadata": {},
   "outputs": [
    {
     "data": {
      "image/png": "[encoded data removed]",
      "text/plain": [
       "<Figure size 432x288 with 1 Axes>"
      ]
     },
     "metadata": {
      "needs_background": "light"
     },
     "output_type": "display_data"
    }
   ],
   "source": [
    "draw_line(house_sizes, house_prices, pseudo_thetas)"
   ]
  },
  {
   "cell_type": "code",
   "execution_count": null,
   "metadata": {},
   "outputs": [],
   "source": []
  }
 ],
 "metadata": {
  "kernelspec": {
   "display_name": "Python 2",
   "language": "python",
   "name": "python2"
  },
  "language_info": {
   "codemirror_mode": {
    "name": "ipython",
    "version": 2
   },
   "file_extension": ".py",
   "mimetype": "text/x-python",
   "name": "python",
   "nbconvert_exporter": "python",
   "pygments_lexer": "ipython2",
   "version": "2.7.15"
  }
 },
 "nbformat": 4,
 "nbformat_minor": 2
}
