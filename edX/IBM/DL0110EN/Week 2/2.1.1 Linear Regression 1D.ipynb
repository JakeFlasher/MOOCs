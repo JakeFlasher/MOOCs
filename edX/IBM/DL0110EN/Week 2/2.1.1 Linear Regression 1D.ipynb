{
 "cells": [
  {
   "cell_type": "markdown",
   "metadata": {},
   "source": [
    "## Linear Regression \n",
    "\n",
    "We have the predictor (independent) variable $x$, the target (dependent) variable $y$, the bias $b$ and the slope parameter $w$. Given that, we formulate the equation:\n",
    "\n",
    "$$ y = b + wx $$\n",
    "\n",
    "Thus, we can create a forward in a linear regression to the equation:\n",
    "\n",
    "$$ \\hat{y} = 1 - 3x $$"
   ]
  },
  {
   "cell_type": "code",
   "execution_count": 6,
   "metadata": {},
   "outputs": [
    {
     "data": {
      "text/plain": [
       "tensor([-3.0000, -2.5714, -2.1429, -1.7143, -1.2857, -0.8571, -0.4286,  0.0000,\n",
       "         0.4286,  0.8571,  1.2857,  1.7143,  2.1429,  2.5714,  3.0000])"
      ]
     },
     "execution_count": 6,
     "metadata": {},
     "output_type": "execute_result"
    }
   ],
   "source": [
    "%matplotlib inline\n",
    "from matplotlib import pyplot as plt\n",
    "import torch\n",
    "\n",
    "x = torch.linspace(-3, 3, 15)\n",
    "x"
   ]
  },
  {
   "cell_type": "code",
   "execution_count": 4,
   "metadata": {},
   "outputs": [
    {
     "data": {
      "text/plain": [
       "tensor([10.0000,  8.7143,  7.4286,  6.1429,  4.8571,  3.5714,  2.2857,  1.0000,\n",
       "        -0.2857, -1.5714, -2.8571, -4.1429, -5.4286, -6.7143, -8.0000])"
      ]
     },
     "execution_count": 4,
     "metadata": {},
     "output_type": "execute_result"
    }
   ],
   "source": [
    "y_ = 1 - 3*x\n",
    "y_"
   ]
  },
  {
   "cell_type": "code",
   "execution_count": 9,
   "metadata": {},
   "outputs": [
    {
     "data": {
      "image/png": "[encoded data removed]",
      "text/plain": [
       "<Figure size 432x288 with 1 Axes>"
      ]
     },
     "metadata": {
      "needs_background": "light"
     },
     "output_type": "display_data"
    }
   ],
   "source": [
    "plt.plot(x.numpy(), y_.numpy())\n",
    "plt.show()"
   ]
  },
  {
   "cell_type": "markdown",
   "metadata": {},
   "source": [
    "## Linear Regression Forward\n",
    "\n",
    "Instead of knowing the equation, we have to discover it from a bunch of data points. Thus, we perform the forward and store the gradient to update our weights."
   ]
  },
  {
   "cell_type": "code",
   "execution_count": 11,
   "metadata": {},
   "outputs": [
    {
     "name": "stdout",
     "output_type": "stream",
     "text": [
      "tensor([[1.]], grad_fn=<ThAddBackward>)\n"
     ]
    }
   ],
   "source": [
    "w = torch.tensor(2.0, requires_grad=True)\n",
    "b = torch.tensor(-1.0, requires_grad=True)\n",
    "\n",
    "def forward(x):\n",
    "    y = w*x+b\n",
    "    return y\n",
    "\n",
    "# testing\n",
    "x = torch.tensor([[1.0]])\n",
    "y_ = forward(x)\n",
    "print(y_)"
   ]
  },
  {
   "cell_type": "code",
   "execution_count": 12,
   "metadata": {},
   "outputs": [
    {
     "name": "stdout",
     "output_type": "stream",
     "text": [
      "tensor([[1.],\n",
      "        [3.]], grad_fn=<ThAddBackward>)\n"
     ]
    }
   ],
   "source": [
    "# using multiple samples\n",
    "x = torch.tensor([[1.0], [2.0]])\n",
    "y_ = forward(x)\n",
    "print(y_)"
   ]
  },
  {
   "cell_type": "markdown",
   "metadata": {},
   "source": [
    "In practice, what it is doing is to calculate the equation $\\hat{y} = b + wx$ for every sample. Thus, \n",
    "\n",
    "$x = \n",
    "\\begin{bmatrix}\n",
    "1.0\\\\ \n",
    "2.0\n",
    "\\end{bmatrix}\n",
    "$<br>\n",
    "$\\hat{y} = -1 + 2x$<br>\n",
    "$\\hat{y} = \n",
    "\\begin{bmatrix}\n",
    "-1\\\\ \n",
    "-1\n",
    "\\end{bmatrix}+ 2\n",
    "\\begin{bmatrix}\n",
    "1.0\\\\ \n",
    "2.0\n",
    "\\end{bmatrix} \\ \\ \\ \\ = \\ \\ \\ \\ \n",
    "\\begin{bmatrix}\n",
    "-1\\\\ \n",
    "-1\n",
    "\\end{bmatrix}+\n",
    "\\begin{bmatrix}\n",
    "2(1.0)\\\\ \n",
    "2(2.0)\n",
    "\\end{bmatrix} \\ \\ \\ \\ = \\ \\ \\ \\\n",
    "\\begin{bmatrix}\n",
    "-1 + 2\\\\ \n",
    "-1 + 4\n",
    "\\end{bmatrix} \\ \\ \\ \\ = \\ \\ \\ \\\n",
    "\\begin{bmatrix}\n",
    "1\\\\ \n",
    "3\n",
    "\\end{bmatrix}\n",
    "$<br>"
   ]
  },
  {
   "cell_type": "markdown",
   "metadata": {},
   "source": [
    "# Pytorch Class Linear"
   ]
  },
  {
   "cell_type": "code",
   "execution_count": 30,
   "metadata": {},
   "outputs": [
    {
     "name": "stdout",
     "output_type": "stream",
     "text": [
      "[Parameter containing:\n",
      "tensor([[0.5153]], requires_grad=True), Parameter containing:\n",
      "tensor([-0.4414], requires_grad=True)]\n"
     ]
    }
   ],
   "source": [
    "from torch.nn import Linear\n",
    "\n",
    "torch.manual_seed(1)\n",
    "model = Linear(in_features=1, out_features=1)\n",
    "print(list(model.parameters()))"
   ]
  },
  {
   "cell_type": "code",
   "execution_count": 31,
   "metadata": {},
   "outputs": [
    {
     "name": "stdout",
     "output_type": "stream",
     "text": [
      "tensor([[-0.4414]], grad_fn=<ThAddmmBackward>)\n"
     ]
    }
   ],
   "source": [
    "#testing the model\n",
    "x = torch.tensor([[0.0]])\n",
    "y_ = model(x)\n",
    "print y_"
   ]
  },
  {
   "cell_type": "code",
   "execution_count": 32,
   "metadata": {},
   "outputs": [
    {
     "name": "stdout",
     "output_type": "stream",
     "text": [
      "tensor([[0.0739],\n",
      "        [0.5891]], grad_fn=<ThAddmmBackward>)\n"
     ]
    }
   ],
   "source": [
    "# testing with multiple inputs\n",
    "x = torch.tensor([[1.0], [2.0]])\n",
    "y_ = model(x)\n",
    "print y_"
   ]
  },
  {
   "cell_type": "markdown",
   "metadata": {},
   "source": [
    "# Custom Modules"
   ]
  },
  {
   "cell_type": "code",
   "execution_count": 36,
   "metadata": {},
   "outputs": [],
   "source": [
    "import torch.nn as nn\n",
    "\n",
    "torch.manual_seed(1)\n",
    "class LR(nn.Module):\n",
    "    def __init__(self, in_size, out_size):\n",
    "        #super(LR, self).__init__()\n",
    "        nn.Module.__init__(self)\n",
    "        self.linear = nn.Linear(in_size, out_size)\n",
    "        \n",
    "    def forward(self, x):\n",
    "        out = self.linear(x)\n",
    "        return out"
   ]
  },
  {
   "cell_type": "code",
   "execution_count": 37,
   "metadata": {},
   "outputs": [
    {
     "name": "stdout",
     "output_type": "stream",
     "text": [
      "[Parameter containing:\n",
      "tensor([[0.5153]], requires_grad=True), Parameter containing:\n",
      "tensor([-0.4414], requires_grad=True)]\n"
     ]
    }
   ],
   "source": [
    "# initializing the custom model\n",
    "model = LR(1, 1)\n",
    "print(list(model.parameters()))"
   ]
  },
  {
   "cell_type": "code",
   "execution_count": 38,
   "metadata": {},
   "outputs": [
    {
     "name": "stdout",
     "output_type": "stream",
     "text": [
      "tensor([[-0.4414]], grad_fn=<ThAddmmBackward>)\n"
     ]
    }
   ],
   "source": [
    "#testing the custom model\n",
    "x = torch.tensor([[0.0]])\n",
    "y_ = model(x)\n",
    "print y_"
   ]
  },
  {
   "cell_type": "code",
   "execution_count": 39,
   "metadata": {},
   "outputs": [
    {
     "name": "stdout",
     "output_type": "stream",
     "text": [
      "tensor([[0.0739],\n",
      "        [0.5891]], grad_fn=<ThAddmmBackward>)\n"
     ]
    }
   ],
   "source": [
    "# testing with multiple inputs\n",
    "x = torch.tensor([[1.0], [2.0]])\n",
    "y_ = model(x)\n",
    "print y_"
   ]
  },
  {
   "cell_type": "code",
   "execution_count": null,
   "metadata": {},
   "outputs": [],
   "source": []
  }
 ],
 "metadata": {
  "kernelspec": {
   "display_name": "Python 2",
   "language": "python",
   "name": "python2"
  },
  "language_info": {
   "codemirror_mode": {
    "name": "ipython",
    "version": 2
   },
   "file_extension": ".py",
   "mimetype": "text/x-python",
   "name": "python",
   "nbconvert_exporter": "python",
   "pygments_lexer": "ipython2",
   "version": "2.7.15"
  }
 },
 "nbformat": 4,
 "nbformat_minor": 2
}
