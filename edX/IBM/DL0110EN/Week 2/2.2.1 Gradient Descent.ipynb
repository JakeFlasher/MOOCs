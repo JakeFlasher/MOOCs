{
 "cells": [
  {
   "cell_type": "markdown",
   "metadata": {},
   "source": [
    "# Gradient Descent\n",
    "\n",
    "Update values of the weights, where $\\eta$ is the learning rate.\n",
    "\n",
    "$w^0$<br>\n",
    "$w^1 = w^0 - \\eta \\frac{dl(w^1)}{dw}$<br>\n",
    "$w^{k+1} = w^k - \\eta \\frac{dl(w^k)}{dw}$<br>"
   ]
  },
  {
   "cell_type": "markdown",
   "metadata": {},
   "source": [
    "## Loss function\n",
    "\n",
    "$$l(w,b) = \\frac{1}{N} \\sum_{n=1}^{N}(y_n - wx_n + b)^2$$"
   ]
  },
  {
   "cell_type": "markdown",
   "metadata": {},
   "source": [
    "# Training Parameters"
   ]
  },
  {
   "cell_type": "code",
   "execution_count": 1,
   "metadata": {},
   "outputs": [],
   "source": [
    "%matplotlib inline\n",
    "import torch\n",
    "from matplotlib import pyplot as plt"
   ]
  },
  {
   "cell_type": "code",
   "execution_count": 13,
   "metadata": {},
   "outputs": [
    {
     "data": {
      "image/png": "[encoded data removed]",
      "text/plain": [
       "<Figure size 432x288 with 1 Axes>"
      ]
     },
     "metadata": {
      "needs_background": "light"
     },
     "output_type": "display_data"
    }
   ],
   "source": [
    "w = torch.tensor(-10.0, requires_grad=True)\n",
    "X = torch.arange(-3, 3, 0.1).view(-1, 1)\n",
    "f = -3*X\n",
    "\n",
    "plt.plot(X.numpy(), f.numpy())\n",
    "plt.show()"
   ]
  },
  {
   "cell_type": "code",
   "execution_count": 14,
   "metadata": {},
   "outputs": [
    {
     "data": {
      "image/png": "[encoded data removed]",
      "text/plain": [
       "<Figure size 432x288 with 1 Axes>"
      ]
     },
     "metadata": {
      "needs_background": "light"
     },
     "output_type": "display_data"
    }
   ],
   "source": [
    "# Add random noise\n",
    "Y = f + 0.1*torch.randn(X.size())\n",
    "\n",
    "plt.plot(X.numpy(), f.numpy())\n",
    "plt.plot(X.numpy(), Y.numpy(),'ro')\n",
    "plt.show()"
   ]
  },
  {
   "cell_type": "markdown",
   "metadata": {},
   "source": [
    "### Forward function\n",
    "\n",
    "$\\hat{y} = wx$"
   ]
  },
  {
   "cell_type": "code",
   "execution_count": 5,
   "metadata": {},
   "outputs": [],
   "source": [
    "def forward(x):\n",
    "    y = w*x\n",
    "    return y"
   ]
  },
  {
   "cell_type": "markdown",
   "metadata": {},
   "source": [
    "### Criterion function\n",
    "\n",
    "$l(w) = \\frac{1}{N} \\sum_{n=1}^N (y_n - wx_n)^2$"
   ]
  },
  {
   "cell_type": "code",
   "execution_count": 6,
   "metadata": {},
   "outputs": [],
   "source": [
    "def criterion(yhat, y):\n",
    "    return torch.mean((yhat - y)**2)"
   ]
  },
  {
   "cell_type": "markdown",
   "metadata": {},
   "source": [
    "### Update gradients\n",
    "\n",
    "$w^{k+1} = w^{k} - \\eta\\frac{dl(w^k)}{dw}$"
   ]
  },
  {
   "cell_type": "code",
   "execution_count": 15,
   "metadata": {},
   "outputs": [],
   "source": [
    "EPOCHS = 3\n",
    "\n",
    "lr = 0.1\n",
    "LOSS=[]\n",
    "\n",
    "for epoch in range(EPOCHS+1):\n",
    "    Yhat = forward(X)\n",
    "    # calculate loss\n",
    "    loss = criterion(Yhat, Y)\n",
    "    # get the gradients\n",
    "    loss.backward()\n",
    "    # update weights\n",
    "    w.data = w.data - lr*(w.grad.data)\n",
    "    # reset gradients\n",
    "    w.grad.data.zero_()\n",
    "    # accumulate the loss for checking\n",
    "    LOSS.append(loss)"
   ]
  },
  {
   "cell_type": "code",
   "execution_count": 16,
   "metadata": {},
   "outputs": [
    {
     "data": {
      "text/plain": [
       "[tensor(147.1252, grad_fn=<MeanBackward1>),\n",
       " tensor(23.5103, grad_fn=<MeanBackward1>),\n",
       " tensor(3.7648, grad_fn=<MeanBackward1>),\n",
       " tensor(0.6108, grad_fn=<MeanBackward1>)]"
      ]
     },
     "execution_count": 16,
     "metadata": {},
     "output_type": "execute_result"
    }
   ],
   "source": [
    "LOSS"
   ]
  },
  {
   "cell_type": "code",
   "execution_count": 17,
   "metadata": {},
   "outputs": [
    {
     "data": {
      "image/png": "[encoded data removed]",
      "text/plain": [
       "<Figure size 432x288 with 1 Axes>"
      ]
     },
     "metadata": {
      "needs_background": "light"
     },
     "output_type": "display_data"
    }
   ],
   "source": [
    "plt.plot(range(EPOCHS+1), LOSS)\n",
    "plt.show()"
   ]
  },
  {
   "cell_type": "markdown",
   "metadata": {},
   "source": [
    "# Training with Slope and Bias"
   ]
  },
  {
   "cell_type": "markdown",
   "metadata": {},
   "source": [
    "### Forward function\n",
    "\n",
    "$\\hat{y} = wx + b$\n",
    "\n",
    "\n",
    "### Criterion function\n",
    "\n",
    "$l(w) = \\frac{1}{N} \\sum_{n=1}^N (y_n - (wx_n + b))^2$"
   ]
  },
  {
   "cell_type": "code",
   "execution_count": 18,
   "metadata": {},
   "outputs": [],
   "source": [
    "def forward(x):\n",
    "    y = w*x + b\n",
    "    return y\n",
    "\n",
    "def criterion(yhat, y):\n",
    "    return torch.mean((yhat - y)**2)"
   ]
  },
  {
   "cell_type": "code",
   "execution_count": 19,
   "metadata": {},
   "outputs": [],
   "source": [
    "w = torch.tensor(-10.0, requires_grad=True)\n",
    "b = torch.tensor(5.0, requires_grad=True)\n",
    "X = torch.arange(-3, 3, 0.1).view(-1, 1)\n",
    "f = -3*X"
   ]
  },
  {
   "cell_type": "code",
   "execution_count": 20,
   "metadata": {},
   "outputs": [],
   "source": [
    "EPOCHS = 15\n",
    "\n",
    "lr = 0.1\n",
    "LOSS=[]\n",
    "\n",
    "for epoch in range(EPOCHS+1):\n",
    "    Yhat = forward(X)\n",
    "    # calculate loss\n",
    "    loss = criterion(Yhat, Y)\n",
    "    # get the gradients\n",
    "    loss.backward()\n",
    "    # update weights\n",
    "    w.data = w.data - lr*(w.grad.data)\n",
    "    w.grad.data.zero_()\n",
    "    \n",
    "    b.data = b.data - lr*(b.grad.data)\n",
    "    b.grad.data.zero_()\n",
    "    # accumulate the loss for checking\n",
    "    LOSS.append(loss)"
   ]
  },
  {
   "cell_type": "code",
   "execution_count": 21,
   "metadata": {},
   "outputs": [
    {
     "data": {
      "text/plain": [
       "[tensor(175.8203, grad_fn=<MeanBackward1>),\n",
       " tensor(39.3239, grad_fn=<MeanBackward1>),\n",
       " tensor(13.4970, grad_fn=<MeanBackward1>),\n",
       " tensor(6.7825, grad_fn=<MeanBackward1>),\n",
       " tensor(4.0499, grad_fn=<MeanBackward1>),\n",
       " tensor(2.5500, grad_fn=<MeanBackward1>),\n",
       " tensor(1.6293, grad_fn=<MeanBackward1>),\n",
       " tensor(1.0461, grad_fn=<MeanBackward1>),\n",
       " tensor(0.6737, grad_fn=<MeanBackward1>),\n",
       " tensor(0.4353, grad_fn=<MeanBackward1>),\n",
       " tensor(0.2827, grad_fn=<MeanBackward1>),\n",
       " tensor(0.1849, grad_fn=<MeanBackward1>),\n",
       " tensor(0.1223, grad_fn=<MeanBackward1>),\n",
       " tensor(0.0823, grad_fn=<MeanBackward1>),\n",
       " tensor(0.0566, grad_fn=<MeanBackward1>),\n",
       " tensor(0.0401, grad_fn=<MeanBackward1>)]"
      ]
     },
     "execution_count": 21,
     "metadata": {},
     "output_type": "execute_result"
    }
   ],
   "source": [
    "LOSS"
   ]
  },
  {
   "cell_type": "code",
   "execution_count": 22,
   "metadata": {},
   "outputs": [
    {
     "data": {
      "image/png": "[encoded data removed]",
      "text/plain": [
       "<Figure size 432x288 with 1 Axes>"
      ]
     },
     "metadata": {
      "needs_background": "light"
     },
     "output_type": "display_data"
    }
   ],
   "source": [
    "plt.plot(range(EPOCHS+1), LOSS)\n",
    "plt.show()"
   ]
  },
  {
   "cell_type": "code",
   "execution_count": null,
   "metadata": {},
   "outputs": [],
   "source": []
  }
 ],
 "metadata": {
  "kernelspec": {
   "display_name": "Python 2",
   "language": "python",
   "name": "python2"
  },
  "language_info": {
   "codemirror_mode": {
    "name": "ipython",
    "version": 2
   },
   "file_extension": ".py",
   "mimetype": "text/x-python",
   "name": "python",
   "nbconvert_exporter": "python",
   "pygments_lexer": "ipython2",
   "version": "2.7.15"
  }
 },
 "nbformat": 4,
 "nbformat_minor": 2
}
