{
 "cells": [
  {
   "cell_type": "markdown",
   "metadata": {},
   "source": [
    "# Mini-Batch Gradient Descent"
   ]
  },
  {
   "cell_type": "markdown",
   "metadata": {},
   "source": [
    "Consider a mini-batch of 2 samples at time. Thus, the loss of the mini-batch is calculated as:\n",
    "\n",
    "$$l_1(w, b) = \\frac{1}{2} ((y_1 - wx_1 + b)^2 + (y_2 - wx_2 + b)^2)$$\n",
    "\n",
    "For the next mini-batch, it is calculated as:\n",
    "\n",
    "$$l_1(w, b) = \\frac{1}{2} ((y_3 - wx_3 + b)^2 + (y_4 - wx_4 + b)^2)$$\n",
    "\n",
    "The number of iterations in each epoch is calculated as:\n",
    "\n",
    "$$\\text{Iterations} = \\frac{\\text{training size}}{\\text{batch size}}$$"
   ]
  },
  {
   "cell_type": "code",
   "execution_count": 1,
   "metadata": {},
   "outputs": [],
   "source": [
    "%matplotlib inline\n",
    "import torch\n",
    "from matplotlib import pyplot as plt"
   ]
  },
  {
   "cell_type": "code",
   "execution_count": 2,
   "metadata": {},
   "outputs": [],
   "source": [
    "def forward(x):\n",
    "    y = w*x + b\n",
    "    return y\n",
    "\n",
    "def criterion(yhat, y):\n",
    "    return torch.mean((yhat - y)**2)"
   ]
  },
  {
   "cell_type": "code",
   "execution_count": 3,
   "metadata": {},
   "outputs": [],
   "source": [
    "from torch.utils.data import Dataset\n",
    "\n",
    "class Data(Dataset):\n",
    "    def __init__(self):\n",
    "        self.x = torch.arange(-3, 3, 0.1).view(-1, 1)\n",
    "        self.f = 3*self.x+1\n",
    "        self.y = self.f + 0.1*torch.randn(self.x.size())\n",
    "        self.len = self.x.shape[0]\n",
    "\n",
    "        \n",
    "    def __getitem__(self, index):\n",
    "        return self.x[index], self.y[index]\n",
    "\n",
    "    \n",
    "    def __len__(self):\n",
    "        return self.len\n",
    "\n",
    "    \n",
    "dataset = Data()"
   ]
  },
  {
   "cell_type": "code",
   "execution_count": 4,
   "metadata": {},
   "outputs": [],
   "source": [
    "from torch.utils.data import DataLoader\n",
    "\n",
    "trainloader = DataLoader(dataset=dataset, batch_size=4)"
   ]
  },
  {
   "cell_type": "code",
   "execution_count": 5,
   "metadata": {},
   "outputs": [],
   "source": [
    "EPOCHS = 2\n",
    "\n",
    "lr = 0.1\n",
    "LOSS1 = []\n",
    "\n",
    "# Define the parameters w, b for y = wx + b\n",
    "w = torch.tensor(-15.0, requires_grad=True)\n",
    "b = torch.tensor(-10.0, requires_grad=True)\n",
    "\n",
    "for epoch in range(EPOCHS+1):\n",
    "    for x, y in trainloader:\n",
    "        yhat = forward(x)\n",
    "        loss = criterion(yhat, y)\n",
    "        loss.backward()\n",
    "        w.data = w.data - lr*(w.grad.data)\n",
    "        w.grad.data.zero_()\n",
    "    \n",
    "        b.data = b.data - lr*(b.grad.data)\n",
    "        b.grad.data.zero_()"
   ]
  },
  {
   "cell_type": "code",
   "execution_count": 7,
   "metadata": {},
   "outputs": [
    {
     "data": {
      "image/png": "[encoded data removed]",
      "text/plain": [
       "<Figure size 432x288 with 1 Axes>"
      ]
     },
     "metadata": {
      "needs_background": "light"
     },
     "output_type": "display_data"
    }
   ],
   "source": [
    "def plot_points(trainloader):\n",
    "    points = []\n",
    "    for x, y in trainloader:\n",
    "        yhat = forward(x)\n",
    "        points.extend(yhat)\n",
    "        \n",
    "    plt.plot(trainloader.dataset.x.numpy(), trainloader.dataset.f.numpy())\n",
    "    plt.plot(trainloader.dataset.x.numpy(), points, 'rx')\n",
    "    plt.show()\n",
    "    \n",
    "plot_points(trainloader)"
   ]
  },
  {
   "cell_type": "code",
   "execution_count": null,
   "metadata": {},
   "outputs": [],
   "source": []
  }
 ],
 "metadata": {
  "kernelspec": {
   "display_name": "Python 2",
   "language": "python",
   "name": "python2"
  },
  "language_info": {
   "codemirror_mode": {
    "name": "ipython",
    "version": 2
   },
   "file_extension": ".py",
   "mimetype": "text/x-python",
   "name": "python",
   "nbconvert_exporter": "python",
   "pygments_lexer": "ipython2",
   "version": "2.7.15"
  }
 },
 "nbformat": 4,
 "nbformat_minor": 2
}
