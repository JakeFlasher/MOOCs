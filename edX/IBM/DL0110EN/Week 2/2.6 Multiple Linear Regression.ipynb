{
 "cells": [
  {
   "cell_type": "markdown",
   "metadata": {},
   "source": [
    "# Multiple Linear Regression (MLR)"
   ]
  },
  {
   "cell_type": "markdown",
   "metadata": {},
   "source": [
    "MLR tries to predict the output ($\\hat{y}$) using a set of features ($w_1$, $w_2$, $w_3$, \\ldots, $w_d$), as:\n",
    "\n",
    "$\\hat{y} = b_0 + w_1x_1 + w_2x_2 + w_3x_3 + w_dx_d$\n",
    "\n",
    "where $b_0$ is the bias ($x=0$), $w_1$ is the parameter of $x_1$, $w_2$ is the parameter of $x_2$ and so on. Using matrix representation, we have:\n",
    "\n",
    "$$ X = [x_1, x_2, \\ldots, x_d] \\hspace{20pt} W = \\begin{bmatrix}\n",
    "w_1 \\\\\n",
    "w_2 \\\\\n",
    "w_3 \\\\\n",
    "\\ldots \\\\\n",
    "w_n\n",
    "\\end{bmatrix} $$\n",
    "\n",
    "Then,\n",
    "\n",
    "$$\\hat{y} = XW + b$$\n"
   ]
  },
  {
   "cell_type": "code",
   "execution_count": 1,
   "metadata": {},
   "outputs": [],
   "source": [
    "%matplotlib inline\n",
    "import torch\n",
    "from matplotlib import pyplot as plt"
   ]
  },
  {
   "cell_type": "code",
   "execution_count": 3,
   "metadata": {},
   "outputs": [
    {
     "name": "stdout",
     "output_type": "stream",
     "text": [
      "tensor([[9.]], grad_fn=<ThAddBackward>)\n"
     ]
    }
   ],
   "source": [
    "w = torch.tensor([[2.0],[3.0]], requires_grad=True)\n",
    "b = torch.tensor(1.0, requires_grad=True)\n",
    "\n",
    "def forward(x):\n",
    "    y = torch.mm(x, w) + b\n",
    "    return y\n",
    "\n",
    "x = torch.tensor([[1.0, 2.0]])\n",
    "yhat = forward(x)\n",
    "print(yhat)"
   ]
  },
  {
   "cell_type": "markdown",
   "metadata": {},
   "source": [
    "# MLR using 2D Tensors"
   ]
  },
  {
   "cell_type": "markdown",
   "metadata": {},
   "source": [
    "Having several tensors representing a sequence of inputs, we can construct a matrix X as:\n",
    "\n",
    "$x_1 = [4.9,   3, 1.4, 0.2]$<br>\n",
    "$x_2 = [4.1,   1, 1.4, 0.2]$<br>\n",
    "$x_3 = [1.1, 2.1,   3,  -1]$<br>\n",
    "$x_4 = [4.3, 1.9,   1, 7.9]$\n",
    "\n",
    "$$X = \\begin{bmatrix}\n",
    "4.9 & 3 & 1.4 & 0.2 \\\\\n",
    "4.1 & 1 & 1.4 & 0.2 \\\\\n",
    "1.1 & 2.1 & 3 & -1 \\\\\n",
    "4.3 & 1.9 & 1 & 7.9 \\\\\n",
    "\\end{bmatrix} $$\n"
   ]
  },
  {
   "cell_type": "code",
   "execution_count": 6,
   "metadata": {},
   "outputs": [
    {
     "name": "stdout",
     "output_type": "stream",
     "text": [
      "tensor([[ 6.],\n",
      "        [ 9.],\n",
      "        [12.]], grad_fn=<ThAddBackward>)\n"
     ]
    }
   ],
   "source": [
    "X = torch.tensor([[1.0, 1.0],[1.0,2.0],[1.0,3.0]])\n",
    "yhat = forward(X)\n",
    "print(yhat)"
   ]
  },
  {
   "cell_type": "markdown",
   "metadata": {},
   "source": [
    "# Custom Modules"
   ]
  },
  {
   "cell_type": "code",
   "execution_count": 13,
   "metadata": {},
   "outputs": [
    {
     "data": {
      "text/plain": [
       "[Parameter containing:\n",
       " tensor([[ 0.3643, -0.3121]], requires_grad=True), Parameter containing:\n",
       " tensor([-0.1371], requires_grad=True)]"
      ]
     },
     "execution_count": 13,
     "metadata": {},
     "output_type": "execute_result"
    }
   ],
   "source": [
    "import torch.nn as nn\n",
    "from torch.nn import Linear\n",
    "\n",
    "class LR(nn.Module):\n",
    "    def __init__(self, in_size, out_size):\n",
    "        super(LR, self).__init__()\n",
    "        self.linear = nn.Linear(in_size, out_size)\n",
    "\n",
    "    def forward(self, x):\n",
    "        out = self.linear(x)\n",
    "        return out\n",
    "    \n",
    "    \n",
    "torch.manual_seed(1)\n",
    "model = LR(in_size=2, out_size=1)\n",
    "list(model.parameters())"
   ]
  },
  {
   "cell_type": "code",
   "execution_count": 14,
   "metadata": {},
   "outputs": [
    {
     "name": "stdout",
     "output_type": "stream",
     "text": [
      "tensor([[-0.3969]], grad_fn=<ThAddmmBackward>)\n"
     ]
    }
   ],
   "source": [
    "x = torch.tensor([[1.0, 2.0]])\n",
    "yhat = model(x)\n",
    "print(yhat)"
   ]
  },
  {
   "cell_type": "code",
   "execution_count": 16,
   "metadata": {},
   "outputs": [
    {
     "name": "stdout",
     "output_type": "stream",
     "text": [
      "tensor([[-0.0848],\n",
      "        [-0.3969],\n",
      "        [-0.7090]], grad_fn=<ThAddmmBackward>)\n"
     ]
    }
   ],
   "source": [
    "X = torch.tensor([[1.0, 1.0], [1.0, 2.0], [1.0, 3.0]])\n",
    "yhat = model(X)\n",
    "print(yhat)"
   ]
  },
  {
   "cell_type": "markdown",
   "metadata": {},
   "source": [
    "# Multiple Linear Regression Training"
   ]
  },
  {
   "cell_type": "markdown",
   "metadata": {},
   "source": [
    "Total loss function for multiple linear regression \n",
    "\n",
    "$$l(w, b) = \\frac{1}{N} \\sum_{n=1}^{N}(y_n - x_nw + b)^2$$\n",
    "\n",
    "If $w$ has two dimensions, then $l(w_1, w_2, b)$. If $w$ has three dimensions, then $l(w_1, w_2, w_3, b)$, and so on. \n",
    "In order to train the network, we take the gradient as\n",
    "\n",
    "$$\\nabla l(w, b) = \\begin{bmatrix}\n",
    "\\frac{\\partial l(w, b)}{\\partial w_1} \\\\\n",
    "\\frac{\\partial l(w, b)}{\\partial w_2} \\\\\n",
    "\\vdots \\\\\n",
    "\\frac{\\partial l(w, b)}{\\partial w_d} \\\\\n",
    "\\end{bmatrix}$$\n",
    "\n",
    "The update term looks like:\n",
    "\n",
    "$$w^{k+1} = w^{k} - \\eta \\nabla l(w, b)$$\n",
    "\n",
    "Which is converted to:\n",
    "\n",
    "$$\n",
    "\\begin{bmatrix}\n",
    "w_1^{k+1} \\\\\n",
    "w_2^{k+1} \\\\\n",
    "\\vdots \\\\\n",
    "w_d^{k+1} \\\\\n",
    "\\end{bmatrix} = \\begin{bmatrix}\n",
    "w_1^{k} \\\\\n",
    "w_2^{k} \\\\\n",
    "\\vdots \\\\\n",
    "w_d^{k} \\\\\n",
    "\\end{bmatrix} - \\eta \\begin{bmatrix}\n",
    "\\frac{\\partial l(w^k, b)}{\\partial w_1} \\\\\n",
    "\\frac{\\partial l(w^k, b)}{\\partial w_2} \\\\\n",
    "\\vdots \\\\\n",
    "\\frac{\\partial l(w^k, b)}{\\partial w_d} \\\\\n",
    "\\end{bmatrix}\n",
    "$$"
   ]
  },
  {
   "cell_type": "code",
   "execution_count": 17,
   "metadata": {},
   "outputs": [],
   "source": [
    "class LR(nn.Module):\n",
    "    def __init__(self, in_size, out_size):\n",
    "        super(LR, self).__init__()\n",
    "        self.linear = nn.Linear(in_size, out_size)\n",
    "\n",
    "    def forward(self, x):\n",
    "        out = self.linear(x)\n",
    "        return out"
   ]
  },
  {
   "cell_type": "code",
   "execution_count": 35,
   "metadata": {},
   "outputs": [],
   "source": [
    "from torch.utils.data import Dataset, DataLoader\n",
    "from torch import optim\n",
    "\n",
    "class Data2D(Dataset):\n",
    "    def __init__(self):\n",
    "        self.x = torch.zeros(20, 2)\n",
    "        self.x[:,0] = torch.arange(-1, 1, 0.1)\n",
    "        self.x[:,1] = torch.arange(-1, 1, 0.1)\n",
    "        self.w = torch.tensor([[1.0], [1.0]])\n",
    "        self.b = torch.tensor(1.0)\n",
    "\n",
    "        self.f = torch.mm(self.x, self.w) + self.b\n",
    "        self.y = self.f + 0.1*torch.randn((self.x.shape[0], 1))\n",
    "        self.len = self.x.shape[0]\n",
    "\n",
    "    def __getitem__(self, index):\n",
    "        return self.x[index], self.y[index]\n",
    "\n",
    "    def __len__(self):\n",
    "        return self.len"
   ]
  },
  {
   "cell_type": "code",
   "execution_count": 36,
   "metadata": {},
   "outputs": [],
   "source": [
    "data_set = Data2D()\n",
    "criterion = nn.MSELoss()\n",
    "model = LR(in_size=2, out_size=1)\n",
    "trainloader = DataLoader(dataset=data_set, batch_size=2)\n",
    "optimizer = optim.SGD(model.parameters(), lr=0.01)\n",
    "\n",
    "LOSSES = []\n",
    "for epoch in range(100):\n",
    "    for x, y in trainloader:\n",
    "        yhat = model(x)\n",
    "        loss = criterion(yhat, y)\n",
    "        optimizer.zero_grad()\n",
    "        loss.backward()\n",
    "        optimizer.step()\n",
    "    LOSSES.append(loss)"
   ]
  },
  {
   "cell_type": "code",
   "execution_count": 38,
   "metadata": {},
   "outputs": [
    {
     "data": {
      "image/png": "[encoded data removed]",
      "text/plain": [
       "<Figure size 432x288 with 1 Axes>"
      ]
     },
     "metadata": {
      "needs_background": "light"
     },
     "output_type": "display_data"
    }
   ],
   "source": [
    "plt.plot(range(100), LOSSES)\n",
    "plt.show()"
   ]
  },
  {
   "cell_type": "markdown",
   "metadata": {},
   "source": [
    "# Linear Regression with Multiple Outputs"
   ]
  },
  {
   "cell_type": "markdown",
   "metadata": {},
   "source": [
    "$\\hat{y}_1 = b_{01} + w_{11}x_1 + w_{21}x_2 + w_{31}x_3 + w_{d1}x_d$<br>\n",
    "$\\hat{y}_2 = b_{02} + w_{12}x_1 + w_{22}x_2 + w_{32}x_3 + w_{d2}x_d$<br>\n",
    "\n",
    "In terms of matrix multiplication, we have\n",
    "\n",
    "$$ [ \\hat{y}_1\\ \\ \\ \\hat{y}_2 ] = [x_1, \\ldots, x_d ] \n",
    "\\begin{bmatrix} \n",
    "w_{11} & w_{12} \\\\\n",
    "\\vdots & \\vdots \\\\\n",
    "w_{d1} & w_{d2} \\\\\n",
    "\\end{bmatrix} + [ b_{01}\\ \\ \\ b_{02} ]$$\n",
    "\n",
    "We can generalize this to `m` outputs as\n",
    "\n",
    "$$ [ \\hat{y}_1\\ \\ \\ \\hat{y}_2\\ \\ldots \\hat{y}_m ] = [x_1, \\ldots, x_d ] \n",
    "\\begin{bmatrix} \n",
    "w_{11} & w_{12} & \\ldots & w_{1m} \\\\\n",
    "\\vdots & \\vdots & \\ldots & \\vdots \\\\\n",
    "w_{d1} & w_{d2} & \\ldots & w_{dm} \\\\\n",
    "\\end{bmatrix} + [ b_{01}\\ \\ \\ b_{02}\\ \\ldots b_{0m} ]$$"
   ]
  },
  {
   "cell_type": "code",
   "execution_count": 39,
   "metadata": {},
   "outputs": [],
   "source": [
    "class LR(nn.Module):\n",
    "    def __init__(self, in_size, out_size):\n",
    "        super(LR, self).__init__()\n",
    "        self.linear = nn.Linear(in_size, out_size)\n",
    "\n",
    "    def forward(self, x):\n",
    "        out = self.linear(x)\n",
    "        return out"
   ]
  },
  {
   "cell_type": "code",
   "execution_count": 40,
   "metadata": {},
   "outputs": [
    {
     "data": {
      "text/plain": [
       "[Parameter containing:\n",
       " tensor([[-0.2535,  0.0254],\n",
       "         [-0.3088, -0.2860]], requires_grad=True), Parameter containing:\n",
       " tensor([-0.1432, -0.0048], requires_grad=True)]"
      ]
     },
     "execution_count": 40,
     "metadata": {},
     "output_type": "execute_result"
    }
   ],
   "source": [
    "model = LR(2, 2)\n",
    "list(model.parameters())"
   ]
  },
  {
   "cell_type": "code",
   "execution_count": 41,
   "metadata": {},
   "outputs": [
    {
     "name": "stdout",
     "output_type": "stream",
     "text": [
      "tensor([[-0.3459, -0.8856]], grad_fn=<ThAddmmBackward>)\n"
     ]
    }
   ],
   "source": [
    "x = torch.tensor([[1.0, 2.0]])\n",
    "yhat = model(x)\n",
    "print(yhat)"
   ]
  },
  {
   "cell_type": "code",
   "execution_count": 43,
   "metadata": {},
   "outputs": [
    {
     "name": "stdout",
     "output_type": "stream",
     "text": [
      "tensor([[-0.3713, -0.5996],\n",
      "        [-0.3459, -0.8856],\n",
      "        [-0.3205, -1.1716]], grad_fn=<ThAddmmBackward>)\n"
     ]
    }
   ],
   "source": [
    "X = torch.tensor([[1.0, 1.0],[1.0, 2.0],[1.0, 3.0]])\n",
    "yhat = model(X)\n",
    "print(yhat)"
   ]
  },
  {
   "cell_type": "markdown",
   "metadata": {},
   "source": [
    "# Multiple Output Linear Regression Training"
   ]
  },
  {
   "cell_type": "markdown",
   "metadata": {},
   "source": [
    "For multiple output in linear regression, we compute the loss as:\n",
    "    \n",
    "$$l(W, b) = \\frac{1}{N} \\sum_{n=1}^{N} || y_n - x_nW + b||^2$$"
   ]
  },
  {
   "cell_type": "code",
   "execution_count": 45,
   "metadata": {},
   "outputs": [],
   "source": [
    "class LR(nn.Module):\n",
    "    def __init__(self, in_size, out_size):\n",
    "        super(LR, self).__init__()\n",
    "        self.linear = nn.Linear(in_size, out_size)\n",
    "\n",
    "    def forward(self, x):\n",
    "        out = self.linear(x)\n",
    "        return out"
   ]
  },
  {
   "cell_type": "code",
   "execution_count": 46,
   "metadata": {},
   "outputs": [],
   "source": [
    "class Data2D(Dataset):\n",
    "    def __init__(self):\n",
    "        self.x = torch.zeros(20, 2)\n",
    "        self.x[:,0] = torch.arange(-1, 1, 0.1)\n",
    "        self.x[:,1] = torch.arange(-1, 1, 0.1)\n",
    "        self.w = torch.tensor([[1.0, -1.0], [1.0, -1.0]])\n",
    "        self.b = torch.tensor([[1.0, -1.0]])\n",
    "\n",
    "        self.f = torch.mm(self.x, self.w) + self.b\n",
    "        self.y = self.f + 0.1*torch.randn((self.x.shape[0], 1))\n",
    "        self.len = self.x.shape[0]\n",
    "\n",
    "    def __getitem__(self, index):\n",
    "        return self.x[index], self.y[index]\n",
    "\n",
    "    def __len__(self):\n",
    "        return self.len"
   ]
  },
  {
   "cell_type": "code",
   "execution_count": 47,
   "metadata": {},
   "outputs": [],
   "source": [
    "data_set = Data2D()\n",
    "criterion = nn.MSELoss()\n",
    "model = LR(in_size=2, out_size=2)\n",
    "trainloader = DataLoader(dataset=data_set, batch_size=1)\n",
    "optimizer = optim.SGD(model.parameters(), lr=0.01)"
   ]
  },
  {
   "cell_type": "code",
   "execution_count": 48,
   "metadata": {},
   "outputs": [],
   "source": [
    "# compute loss for each epoch and update weights\n",
    "LOSSES = []\n",
    "for epoch in range(100):\n",
    "    for x, y in trainloader:\n",
    "        yhat = model(x)\n",
    "        loss = criterion(yhat, y)\n",
    "        optimizer.zero_grad()\n",
    "        loss.backward()\n",
    "        optimizer.step()\n",
    "    LOSSES.append(loss)"
   ]
  },
  {
   "cell_type": "code",
   "execution_count": 49,
   "metadata": {},
   "outputs": [
    {
     "data": {
      "image/png": "[encoded data removed]",
      "text/plain": [
       "<Figure size 432x288 with 1 Axes>"
      ]
     },
     "metadata": {
      "needs_background": "light"
     },
     "output_type": "display_data"
    }
   ],
   "source": [
    "plt.plot(range(100), LOSSES)\n",
    "plt.show()"
   ]
  },
  {
   "cell_type": "code",
   "execution_count": null,
   "metadata": {},
   "outputs": [],
   "source": []
  }
 ],
 "metadata": {
  "kernelspec": {
   "display_name": "Python 2",
   "language": "python",
   "name": "python2"
  },
  "language_info": {
   "codemirror_mode": {
    "name": "ipython",
    "version": 2
   },
   "file_extension": ".py",
   "mimetype": "text/x-python",
   "name": "python",
   "nbconvert_exporter": "python",
   "pygments_lexer": "ipython2",
   "version": "2.7.15"
  }
 },
 "nbformat": 4,
 "nbformat_minor": 2
}
