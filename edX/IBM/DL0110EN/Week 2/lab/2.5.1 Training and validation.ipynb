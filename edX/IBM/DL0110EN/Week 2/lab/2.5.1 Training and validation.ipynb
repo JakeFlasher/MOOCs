{
 "cells": [
  {
   "cell_type": "markdown",
   "metadata": {},
   "source": [
    "<h1>Linear regression: Training and Validation Data</h1> "
   ]
  },
  {
   "cell_type": "code",
   "execution_count": 1,
   "metadata": {},
   "outputs": [],
   "source": [
    "# Import libraries we need for this lab, and set the random seed\n",
    "\n",
    "from torch import nn\n",
    "import torch\n",
    "import numpy as np\n",
    "import matplotlib.pyplot as plt\n",
    "from torch import nn,optim"
   ]
  },
  {
   "cell_type": "markdown",
   "metadata": {},
   "source": [
    "First, we'll create some artificial data in a dataset class. The class will include the option to produce training data or validation data. The training data will include outliers."
   ]
  },
  {
   "cell_type": "code",
   "execution_count": 3,
   "metadata": {},
   "outputs": [],
   "source": [
    "# Create Data class\n",
    "\n",
    "from torch.utils.data import Dataset, DataLoader\n",
    "\n",
    "class Data(Dataset):\n",
    "    \n",
    "    def __init__(self, train = True):\n",
    "            self.x = torch.arange(-3, 3, 0.1).view(-1, 1)\n",
    "            self.f = -3 * self.x + 1\n",
    "            self.y = self.f + 0.1 * torch.randn(self.x.size())\n",
    "            self.len = self.x.shape[0]\n",
    "            \n",
    "            #outliers \n",
    "            if train == True:\n",
    "                self.y[0] = 0\n",
    "                self.y[50:55] = 20\n",
    "            else:\n",
    "                pass\n",
    "      \n",
    "    # Getter\n",
    "    def __getitem__(self, index):    \n",
    "        return self.x[index], self.y[index]\n",
    "    \n",
    "    # Get Length\n",
    "    def __len__(self):\n",
    "        return self.len"
   ]
  },
  {
   "cell_type": "markdown",
   "metadata": {},
   "source": [
    "Create two objects: one that contains training data and a second that contains validation data. Assume that the training data has the outliers. "
   ]
  },
  {
   "cell_type": "code",
   "execution_count": 4,
   "metadata": {},
   "outputs": [],
   "source": [
    "# Create training dataset and validation dataset\n",
    "train_data = Data()\n",
    "val_data = Data(train = False)"
   ]
  },
  {
   "cell_type": "markdown",
   "metadata": {},
   "source": [
    "Overlay the training points in red over the function that generated the data. Notice the outliers at x=-3 and around x=2:"
   ]
  },
  {
   "cell_type": "code",
   "execution_count": 5,
   "metadata": {},
   "outputs": [
    {
     "data": {
      "image/png": "[encoded data removed]",
      "text/plain": [
       "<Figure size 432x288 with 1 Axes>"
      ]
     },
     "metadata": {
      "needs_background": "light"
     },
     "output_type": "display_data"
    }
   ],
   "source": [
    "# Plot out training points\n",
    "plt.plot(train_data.x.numpy(), train_data.y.numpy(), 'xr')\n",
    "plt.plot(train_data.x.numpy(), train_data.f.numpy())\n",
    "plt.show()"
   ]
  },
  {
   "cell_type": "markdown",
   "metadata": {},
   "source": [
    "<h2 id=\"LR_Loader_Cost\">Create a Linear Regression Object,  Data Loader, and Criterion Function</h2>"
   ]
  },
  {
   "cell_type": "code",
   "execution_count": 6,
   "metadata": {},
   "outputs": [],
   "source": [
    "# Create Linear Regression Class\n",
    "class linear_regression(nn.Module):\n",
    "    \n",
    "    def __init__(self, input_size, output_size):\n",
    "        super(linear_regression, self).__init__()\n",
    "        self.linear = nn.Linear(input_size, output_size)\n",
    "    \n",
    "    # Prediction function\n",
    "    def forward(self, x):\n",
    "        yhat = self.linear(x)\n",
    "        return yhat"
   ]
  },
  {
   "cell_type": "markdown",
   "metadata": {},
   "source": [
    "Create the criterion function and a <code>DataLoader</code> object: "
   ]
  },
  {
   "cell_type": "code",
   "execution_count": 7,
   "metadata": {},
   "outputs": [],
   "source": [
    "# Create MSELoss function and DataLoader\n",
    "criterion = nn.MSELoss()\n",
    "trainloader = DataLoader(dataset = train_data, batch_size = 1)"
   ]
  },
  {
   "cell_type": "markdown",
   "metadata": {},
   "source": [
    "## Different `lr` and Data Structures to Store results for different Hyperparameters"
   ]
  },
  {
   "cell_type": "markdown",
   "metadata": {},
   "source": [
    "Create a list with different learning rates and a tensor (can be a list) for the training and validating cost/total loss. Include the list MODELS, which stores the training model for every value of the learning rate. "
   ]
  },
  {
   "cell_type": "code",
   "execution_count": 8,
   "metadata": {},
   "outputs": [],
   "source": [
    "# Create Learning Rate list, the error lists and the MODELS list\n",
    "learning_rates=[0.0001, 0.001, 0.01, 0.1]\n",
    "\n",
    "train_error=torch.zeros(len(learning_rates))\n",
    "validation_error=torch.zeros(len(learning_rates))\n",
    "\n",
    "MODELS=[]"
   ]
  },
  {
   "cell_type": "markdown",
   "metadata": {},
   "source": [
    "<h2 id=\"Model\">Train different models  for different Hyperparameters</h2>"
   ]
  },
  {
   "cell_type": "markdown",
   "metadata": {},
   "source": [
    "Try different values of learning rates, perform stochastic gradient descent, and save the results on the training data and validation data. Finally, save each model in a list."
   ]
  },
  {
   "cell_type": "code",
   "execution_count": 9,
   "metadata": {},
   "outputs": [],
   "source": [
    "# Define the train model function and train the model\n",
    "def train_model_with_lr (iter, lr_list):\n",
    "    \n",
    "    # iterate through different learning rates \n",
    "    for i, lr in enumerate(lr_list):\n",
    "        model = linear_regression(1, 1)\n",
    "        optimizer = optim.SGD(model.parameters(), lr = lr)\n",
    "        for epoch in range(iter):\n",
    "            for x, y in trainloader:\n",
    "                yhat = model(x)\n",
    "                loss = criterion(yhat, y)\n",
    "                optimizer.zero_grad()\n",
    "                loss.backward()\n",
    "                optimizer.step()\n",
    "                \n",
    "        # train data\n",
    "        Yhat = model(train_data.x)\n",
    "        train_loss = criterion(Yhat, train_data.y)\n",
    "        train_error[i] = train_loss.item()\n",
    "    \n",
    "        # validation data\n",
    "        Yhat = model(val_data.x)\n",
    "        val_loss = criterion(Yhat, val_data.y)\n",
    "        validation_error[i] = val_loss.item()\n",
    "        MODELS.append(model)\n",
    "\n",
    "train_model_with_lr(10, learning_rates)"
   ]
  },
  {
   "cell_type": "markdown",
   "metadata": {},
   "source": [
    "<h2 id=\"Result\">View the Results</h2>"
   ]
  },
  {
   "cell_type": "markdown",
   "metadata": {},
   "source": [
    "Plot the training loss and validation loss for each learning rate:  "
   ]
  },
  {
   "cell_type": "code",
   "execution_count": 10,
   "metadata": {},
   "outputs": [
    {
     "data": {
      "image/png": "[encoded data removed]",
      "text/plain": [
       "<Figure size 432x288 with 1 Axes>"
      ]
     },
     "metadata": {
      "needs_background": "light"
     },
     "output_type": "display_data"
    }
   ],
   "source": [
    "# Plot the training loss and validation loss\n",
    "plt.semilogx(np.array(learning_rates), train_error.numpy(), label = 'training loss/total Loss')\n",
    "plt.semilogx(np.array(learning_rates), validation_error.numpy(), label = 'validation cost/total Loss')\n",
    "plt.ylabel('Cost\\ Total Loss')\n",
    "plt.xlabel('learning rate')\n",
    "plt.legend()\n",
    "plt.show()"
   ]
  },
  {
   "cell_type": "markdown",
   "metadata": {},
   "source": [
    "Produce a prediction by using the validation data for each model:  "
   ]
  },
  {
   "cell_type": "code",
   "execution_count": 11,
   "metadata": {},
   "outputs": [
    {
     "name": "stdout",
     "output_type": "stream",
     "text": [
      "('i', array([[1.4896338],\n",
      "       [1.4591177],\n",
      "       [1.4286013]], dtype=float32))\n",
      "('i', array([[5.6704884],\n",
      "       [5.5554953],\n",
      "       [5.4405017]], dtype=float32))\n",
      "('i', array([[6.618478 ],\n",
      "       [6.483588 ],\n",
      "       [6.3486986]], dtype=float32))\n",
      "('i', array([[14.12662 ],\n",
      "       [13.703166],\n",
      "       [13.279711]], dtype=float32))\n"
     ]
    },
    {
     "data": {
      "image/png": "[encoded data removed]",
      "text/plain": [
       "<Figure size 432x288 with 1 Axes>"
      ]
     },
     "metadata": {
      "needs_background": "light"
     },
     "output_type": "display_data"
    }
   ],
   "source": [
    "# Plot the predictions\n",
    "\n",
    "i = 0\n",
    "for model, learning_rate in zip(MODELS, learning_rates):\n",
    "    yhat = model(val_data.x)\n",
    "    plt.plot(val_data.x.numpy(), yhat.detach().numpy(), label = 'lr:' + str(learning_rate))\n",
    "    print('i', yhat.detach().numpy()[0:3])\n",
    "plt.plot(val_data.x.numpy(), val_data.f.numpy(), 'or', label = 'validation data')\n",
    "plt.xlabel('x')\n",
    "plt.ylabel('y')\n",
    "plt.legend()\n",
    "plt.show()"
   ]
  },
  {
   "cell_type": "markdown",
   "metadata": {},
   "source": [
    "<h3>Practice</h3>"
   ]
  },
  {
   "cell_type": "markdown",
   "metadata": {},
   "source": [
    "The object <code>good_model</code> is the best performing model. Use the train loader to get the data samples x and y. Produce an estimate for <code>yhat</code> and print it out for every sample in a for a loop. Compare it to the actual prediction <code>y</code>."
   ]
  },
  {
   "cell_type": "code",
   "execution_count": 22,
   "metadata": {},
   "outputs": [
    {
     "name": "stdout",
     "output_type": "stream",
     "text": [
      "yhat:  tensor([[6.6185]], grad_fn=<ThAddmmBackward>) y: tensor([[0.]])\n",
      "yhat:  tensor([[6.4836]], grad_fn=<ThAddmmBackward>) y: tensor([[9.6932]])\n",
      "yhat:  tensor([[6.3487]], grad_fn=<ThAddmmBackward>) y: tensor([[9.4614]])\n",
      "yhat:  tensor([[6.2138]], grad_fn=<ThAddmmBackward>) y: tensor([[9.2376]])\n",
      "yhat:  tensor([[6.0789]], grad_fn=<ThAddmmBackward>) y: tensor([[8.7760]])\n",
      "yhat:  tensor([[5.9440]], grad_fn=<ThAddmmBackward>) y: tensor([[8.5788]])\n",
      "yhat:  tensor([[5.8091]], grad_fn=<ThAddmmBackward>) y: tensor([[8.1799]])\n",
      "yhat:  tensor([[5.6743]], grad_fn=<ThAddmmBackward>) y: tensor([[8.0708]])\n",
      "yhat:  tensor([[5.5394]], grad_fn=<ThAddmmBackward>) y: tensor([[7.6159]])\n",
      "yhat:  tensor([[5.4045]], grad_fn=<ThAddmmBackward>) y: tensor([[7.1832]])\n",
      "yhat:  tensor([[5.2696]], grad_fn=<ThAddmmBackward>) y: tensor([[6.9765]])\n",
      "yhat:  tensor([[5.1347]], grad_fn=<ThAddmmBackward>) y: tensor([[6.7289]])\n",
      "yhat:  tensor([[4.9998]], grad_fn=<ThAddmmBackward>) y: tensor([[6.3683]])\n",
      "yhat:  tensor([[4.8649]], grad_fn=<ThAddmmBackward>) y: tensor([[6.2410]])\n",
      "yhat:  tensor([[4.7300]], grad_fn=<ThAddmmBackward>) y: tensor([[5.7933]])\n",
      "yhat:  tensor([[4.5951]], grad_fn=<ThAddmmBackward>) y: tensor([[5.3769]])\n",
      "yhat:  tensor([[4.4602]], grad_fn=<ThAddmmBackward>) y: tensor([[5.3374]])\n",
      "yhat:  tensor([[4.3254]], grad_fn=<ThAddmmBackward>) y: tensor([[5.0857]])\n",
      "yhat:  tensor([[4.1905]], grad_fn=<ThAddmmBackward>) y: tensor([[4.7787]])\n",
      "yhat:  tensor([[4.0556]], grad_fn=<ThAddmmBackward>) y: tensor([[4.2359]])\n",
      "yhat:  tensor([[3.9207]], grad_fn=<ThAddmmBackward>) y: tensor([[3.9255]])\n",
      "yhat:  tensor([[3.7858]], grad_fn=<ThAddmmBackward>) y: tensor([[3.7278]])\n",
      "yhat:  tensor([[3.6509]], grad_fn=<ThAddmmBackward>) y: tensor([[3.2785]])\n",
      "yhat:  tensor([[3.5160]], grad_fn=<ThAddmmBackward>) y: tensor([[3.2474]])\n",
      "yhat:  tensor([[3.3811]], grad_fn=<ThAddmmBackward>) y: tensor([[2.9805]])\n",
      "yhat:  tensor([[3.2462]], grad_fn=<ThAddmmBackward>) y: tensor([[2.3625]])\n",
      "yhat:  tensor([[3.1113]], grad_fn=<ThAddmmBackward>) y: tensor([[2.2821]])\n",
      "yhat:  tensor([[2.9765]], grad_fn=<ThAddmmBackward>) y: tensor([[1.8912]])\n",
      "yhat:  tensor([[2.8416]], grad_fn=<ThAddmmBackward>) y: tensor([[1.5647]])\n",
      "yhat:  tensor([[2.7067]], grad_fn=<ThAddmmBackward>) y: tensor([[1.1216]])\n",
      "yhat:  tensor([[2.5718]], grad_fn=<ThAddmmBackward>) y: tensor([[0.8706]])\n",
      "yhat:  tensor([[2.4369]], grad_fn=<ThAddmmBackward>) y: tensor([[0.7491]])\n",
      "yhat:  tensor([[2.3020]], grad_fn=<ThAddmmBackward>) y: tensor([[0.5027]])\n",
      "yhat:  tensor([[2.1671]], grad_fn=<ThAddmmBackward>) y: tensor([[0.0012]])\n",
      "yhat:  tensor([[2.0322]], grad_fn=<ThAddmmBackward>) y: tensor([[-0.3432]])\n",
      "yhat:  tensor([[1.8973]], grad_fn=<ThAddmmBackward>) y: tensor([[-0.6433]])\n",
      "yhat:  tensor([[1.7625]], grad_fn=<ThAddmmBackward>) y: tensor([[-0.5869]])\n",
      "yhat:  tensor([[1.6276]], grad_fn=<ThAddmmBackward>) y: tensor([[-1.0333]])\n",
      "yhat:  tensor([[1.4927]], grad_fn=<ThAddmmBackward>) y: tensor([[-1.5523]])\n",
      "yhat:  tensor([[1.3578]], grad_fn=<ThAddmmBackward>) y: tensor([[-1.8126]])\n",
      "yhat:  tensor([[1.2229]], grad_fn=<ThAddmmBackward>) y: tensor([[-1.9566]])\n",
      "yhat:  tensor([[1.0880]], grad_fn=<ThAddmmBackward>) y: tensor([[-2.3844]])\n",
      "yhat:  tensor([[0.9531]], grad_fn=<ThAddmmBackward>) y: tensor([[-2.5844]])\n",
      "yhat:  tensor([[0.8182]], grad_fn=<ThAddmmBackward>) y: tensor([[-3.0833]])\n",
      "yhat:  tensor([[0.6833]], grad_fn=<ThAddmmBackward>) y: tensor([[-3.1833]])\n",
      "yhat:  tensor([[0.5484]], grad_fn=<ThAddmmBackward>) y: tensor([[-3.4054]])\n",
      "yhat:  tensor([[0.4136]], grad_fn=<ThAddmmBackward>) y: tensor([[-3.8411]])\n",
      "yhat:  tensor([[0.2787]], grad_fn=<ThAddmmBackward>) y: tensor([[-4.0551]])\n",
      "yhat:  tensor([[0.1438]], grad_fn=<ThAddmmBackward>) y: tensor([[-4.4839]])\n",
      "yhat:  tensor([[0.0089]], grad_fn=<ThAddmmBackward>) y: tensor([[-4.5928]])\n",
      "yhat:  tensor([[-0.1260]], grad_fn=<ThAddmmBackward>) y: tensor([[20.]])\n",
      "yhat:  tensor([[-0.2609]], grad_fn=<ThAddmmBackward>) y: tensor([[20.]])\n",
      "yhat:  tensor([[-0.3958]], grad_fn=<ThAddmmBackward>) y: tensor([[20.]])\n",
      "yhat:  tensor([[-0.5307]], grad_fn=<ThAddmmBackward>) y: tensor([[20.]])\n",
      "yhat:  tensor([[-0.6656]], grad_fn=<ThAddmmBackward>) y: tensor([[20.]])\n",
      "yhat:  tensor([[-0.8005]], grad_fn=<ThAddmmBackward>) y: tensor([[-6.2924]])\n",
      "yhat:  tensor([[-0.9353]], grad_fn=<ThAddmmBackward>) y: tensor([[-6.8354]])\n",
      "yhat:  tensor([[-1.0702]], grad_fn=<ThAddmmBackward>) y: tensor([[-7.0264]])\n",
      "yhat:  tensor([[-1.2051]], grad_fn=<ThAddmmBackward>) y: tensor([[-7.5138]])\n",
      "yhat:  tensor([[-1.3400]], grad_fn=<ThAddmmBackward>) y: tensor([[-7.7811]])\n"
     ]
    }
   ],
   "source": [
    "# Practice: Use the train loader to get the data samples x and y. Produce yhat. Compare y and yhat.\n",
    "\n",
    "good_model = MODELS[2]\n",
    "\n",
    "for x, y in trainloader:\n",
    "    print(\"yhat: \"),\n",
    "    print(good_model(x)),\n",
    "    print(\"y:\"),\n",
    "    print(y)\n",
    "    #print('')"
   ]
  },
  {
   "cell_type": "markdown",
   "metadata": {},
   "source": [
    "<!--Empty Space for separating topics-->"
   ]
  },
  {
   "cell_type": "markdown",
   "metadata": {},
   "source": [
    "Copyright &copy; 2018 <a href=\"cognitiveclass.ai?utm_source=bducopyrightlink&utm_medium=dswb&utm_campaign=bdu\">cognitiveclass.ai</a>. This notebook and its source code are released under the terms of the <a href=\"https://bigdatauniversity.com/mit-license/\">MIT License</a>."
   ]
  }
 ],
 "metadata": {
  "kernelspec": {
   "display_name": "Python 2",
   "language": "python",
   "name": "python2"
  },
  "language_info": {
   "codemirror_mode": {
    "name": "ipython",
    "version": 2
   },
   "file_extension": ".py",
   "mimetype": "text/x-python",
   "name": "python",
   "nbconvert_exporter": "python",
   "pygments_lexer": "ipython2",
   "version": "2.7.15"
  }
 },
 "nbformat": 4,
 "nbformat_minor": 2
}
