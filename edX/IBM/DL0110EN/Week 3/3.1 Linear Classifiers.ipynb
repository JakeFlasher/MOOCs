{
 "cells": [
  {
   "cell_type": "markdown",
   "metadata": {},
   "source": [
    "In a linear classifier, the equation of a line is given by\n",
    "\n",
    "$$z = wv + b$$\n",
    "\n",
    "If we can separate the data with a line, we can use that line to classify the sample\n",
    "\n",
    "<img src=\"images/linear_classifier.svg\" width=\"30%\"/>\n",
    "\n",
    "If we use the line to calculate the class of a point, it always returns a positive or negative number, such as 3, -2 and so on.\n",
    "In order to convert these numbers into classes (0 or 1), we can apply a threshold such as\n",
    "\n",
    "$$\n",
    "\\left\\{\\begin{matrix}\n",
    "\\hat{y} = 1 &\\ \\ \\ \\text{if} \\hspace{15pt} z >= 0 \\\\ \n",
    "\\hat{y} = 0 & \\text{if} \\hspace{15pt} z < 0\n",
    "\\end{matrix}\\right.\n",
    "$$\n",
    "\n",
    "Thus, we can use a plot to print this information."
   ]
  },
  {
   "cell_type": "code",
   "execution_count": 10,
   "metadata": {},
   "outputs": [
    {
     "data": {
      "image/png": "[encoded data removed]",
      "text/plain": [
       "<Figure size 1080x216 with 1 Axes>"
      ]
     },
     "metadata": {
      "needs_background": "light"
     },
     "output_type": "display_data"
    }
   ],
   "source": [
    "%matplotlib inline\n",
    "from matplotlib import pyplot as plt\n",
    "plt.figure(figsize=(15,3))\n",
    "\n",
    "x = range(-1000,1000)\n",
    "y = []\n",
    "for v in x:\n",
    "    y.append(1 if v > 0 else 0)\n",
    "plt.plot(x, y)\n",
    "plt.show()"
   ]
  },
  {
   "cell_type": "markdown",
   "metadata": {},
   "source": [
    "# Logistic Regression"
   ]
  },
  {
   "cell_type": "markdown",
   "metadata": {},
   "source": [
    "Logistic Regression seem like a linear regression with a smooth transition. It is given by the equation\n",
    "\n",
    "$$\\sigma(z) = \\frac{1}{1 + e^{-z}}$$\n",
    "\n",
    "where $\\sigma(z)$ with $z=-4$ is approximately zero and $\\sigma(z)$ with $z=4$ is approximately one, i.e, $\\sigma(-4)\\approx 0$ and $\\sigma(4)\\approx 1$, as illustred by the plot."
   ]
  },
  {
   "cell_type": "code",
   "execution_count": 21,
   "metadata": {},
   "outputs": [
    {
     "data": {
      "image/png": "[encoded data removed]",
      "text/plain": [
       "<Figure size 1080x216 with 1 Axes>"
      ]
     },
     "metadata": {
      "needs_background": "light"
     },
     "output_type": "display_data"
    }
   ],
   "source": [
    "import numpy as np\n",
    "plt.figure(figsize=(15,3))\n",
    "\n",
    "def sigmoid(z):\n",
    "    z = np.array(z)\n",
    "    y = 1./(1+np.exp(-z))\n",
    "    return y\n",
    "\n",
    "x = np.arange(-10, 10, 0.5)\n",
    "center = [0.5]*len(x)\n",
    "y = sigmoid(x)\n",
    "plt.plot(x, y, 'b')\n",
    "plt.plot(x, center, ':r')\n",
    "plt.show()"
   ]
  },
  {
   "cell_type": "markdown",
   "metadata": {},
   "source": [
    "Logistic function can also be understood as the probability $p(y=1|x_1,w) = \\sigma(wx_1 + b)$. For example, consider\n",
    "\n",
    "$p(y=1|x_1,w) = \\sigma(w^Tx_1 + b)$<br>\n",
    "$z = w^Tx_1 + b$<br>\n",
    "$z = [-1, 1]\\begin{bmatrix}\n",
    "2 \\\\\n",
    "0 \n",
    "\\end{bmatrix}$<br>\n",
    "$p(y=1|x_1,w) = \\sigma(z)$<br>\n",
    "$p(y=1|x_1,w) = \\sigma(2) = 0.88$"
   ]
  },
  {
   "cell_type": "code",
   "execution_count": null,
   "metadata": {},
   "outputs": [],
   "source": []
  }
 ],
 "metadata": {
  "kernelspec": {
   "display_name": "Python 2",
   "language": "python",
   "name": "python2"
  },
  "language_info": {
   "codemirror_mode": {
    "name": "ipython",
    "version": 2
   },
   "file_extension": ".py",
   "mimetype": "text/x-python",
   "name": "python",
   "nbconvert_exporter": "python",
   "pygments_lexer": "ipython2",
   "version": "2.7.15"
  }
 },
 "nbformat": 4,
 "nbformat_minor": 2
}
