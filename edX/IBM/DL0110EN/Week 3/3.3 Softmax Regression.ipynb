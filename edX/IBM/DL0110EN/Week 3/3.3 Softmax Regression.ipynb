{
 "cells": [
  {
   "cell_type": "markdown",
   "metadata": {},
   "source": [
    "# Softmax Prediction in Linear Classifier"
   ]
  },
  {
   "cell_type": "code",
   "execution_count": 49,
   "metadata": {},
   "outputs": [],
   "source": [
    "import torch\n",
    "import torch.nn as nn\n",
    "\n",
    "class LR(nn.Module):\n",
    "    def __init__(self, in_size, out_size):\n",
    "        super(LR, self).__init__()\n",
    "        self.linear = nn.Linear(in_size, out_size)\n",
    "\n",
    "    def forward(self, x):\n",
    "        out = self.linear(x)\n",
    "        return out"
   ]
  },
  {
   "cell_type": "code",
   "execution_count": 50,
   "metadata": {},
   "outputs": [
    {
     "name": "stdout",
     "output_type": "stream",
     "text": [
      "Maximum value is in the index: 1\n"
     ]
    }
   ],
   "source": [
    "torch.manual_seed(1)\n",
    "model = LR(2, 3)\n",
    "\n",
    "x = torch.tensor([[1.0, 2.0]])\n",
    "z = model(x)\n",
    "_, yhat = z.max(1)\n",
    "print(\"Maximum value is in the index: %d\" % yhat.numpy())"
   ]
  },
  {
   "cell_type": "markdown",
   "metadata": {},
   "source": [
    "## ArgMax Function"
   ]
  },
  {
   "cell_type": "markdown",
   "metadata": {},
   "source": [
    "In this exemple we have multiple classes, each one represented by a value of $y$. Like logistic regression, the SoftMax function will use lines to classify the data. For example, we have three classes and a one-dimensional feature vector $X$, where $y=0$ is illustred by the blue points, $y=1$ is illustred by the red points, and $y=2$ is illustred by the green points."
   ]
  },
  {
   "cell_type": "code",
   "execution_count": 28,
   "metadata": {},
   "outputs": [
    {
     "data": {
      "image/png": "[encoded data removed]",
      "text/plain": [
       "<Figure size 432x288 with 1 Axes>"
      ]
     },
     "metadata": {
      "needs_background": "light"
     },
     "output_type": "display_data"
    }
   ],
   "source": [
    "%matplotlib inline\n",
    "from matplotlib import pyplot as plt\n",
    "import numpy as np\n",
    "\n",
    "X = np.arange(-2, 2.1, 0.1)\n",
    "X0 = np.arange(-2, -0.9, 0.1)\n",
    "X1 = np.arange(-0.9, 1, 0.1)\n",
    "X2 = np.arange(1, 2.1, 0.1)\n",
    "\n",
    "c0 = ['blue']*X0.shape[0]\n",
    "c1 = ['red']*X1.shape[0]\n",
    "c2 = ['green']*X2.shape[0]\n",
    "colors = c0+c1+c2\n",
    "\n",
    "yt = [0]*len(colors)\n",
    "plt.scatter(X, yt, color=colors)\n",
    "plt.ylim(bottom=-0.1, top=3)\n",
    "plt.show()"
   ]
  },
  {
   "cell_type": "markdown",
   "metadata": {},
   "source": [
    "Thus, for every class we have a different line with its own associated parameter $w_0$, $w_1$, $w_2$, and its associated bias term defined as:\n",
    "\n",
    "$$z_0 = -1.6x - 0.3$$\n",
    "$$z_1 = 0.1x + 1.3$$\n",
    "$$z_2 = 1.9x - 0.34$$"
   ]
  },
  {
   "cell_type": "code",
   "execution_count": 41,
   "metadata": {},
   "outputs": [
    {
     "data": {
      "image/png": "[encoded data removed]",
      "text/plain": [
       "<Figure size 432x288 with 1 Axes>"
      ]
     },
     "metadata": {
      "needs_background": "light"
     },
     "output_type": "display_data"
    }
   ],
   "source": [
    "def fz0(X):\n",
    "    X = np.array(X)\n",
    "    return -1.6*X - 0.3\n",
    "\n",
    "def fz1(X):\n",
    "    X = np.array(X)\n",
    "    return 0.1*X + 1.3\n",
    "\n",
    "def fz2(X):\n",
    "    X = np.array(X)\n",
    "    return 1.9*X - 0.34\n",
    "\n",
    "z0 = fz0(X)\n",
    "z1 = fz1(X)\n",
    "z2 = fz2(X)\n",
    "    \n",
    "plt.plot(X, z0, 'b')\n",
    "plt.plot(X, z1, 'r')\n",
    "plt.plot(X, z2, 'g')\n",
    "plt.scatter(X, yt, color=colors)\n",
    "plt.ylim(bottom=-0.1, top=3)\n",
    "plt.show()"
   ]
  },
  {
   "cell_type": "markdown",
   "metadata": {},
   "source": [
    "Therefore, we have a function for each class (`fz0`, `fz1` and `fz2`). Now we can pick an entry in $X$ and verify what is the answer for each function. To select the class, we check the `argmax` on the results. Let's test the value `-1.5` in all functions."
   ]
  },
  {
   "cell_type": "code",
   "execution_count": 45,
   "metadata": {},
   "outputs": [
    {
     "name": "stdout",
     "output_type": "stream",
     "text": [
      "The value for each function is:\n",
      "z0 = -2.700000\n",
      "z1 = 1.450000\n",
      "z2 = 2.510000\n"
     ]
    }
   ],
   "source": [
    "yhat0 = fz0([-1.5])\n",
    "yhat1 = fz1([-1.5])\n",
    "yhat2 = fz2([-1.5])\n",
    "print(\"The value for each function is:\")\n",
    "print(\"z0 = %f\" % y0)\n",
    "print(\"z1 = %f\" % y1)\n",
    "print(\"z2 = %f\" % y2)"
   ]
  },
  {
   "cell_type": "markdown",
   "metadata": {},
   "source": [
    "Taking the `argmax` of the functions, we select the class `yhat0` (blue) since it has the highest score. Now lets try the value `0.0` as input and verify the result in each function."
   ]
  },
  {
   "cell_type": "code",
   "execution_count": 46,
   "metadata": {},
   "outputs": [
    {
     "name": "stdout",
     "output_type": "stream",
     "text": [
      "The value for each function is:\n",
      "z0 = -2.700000\n",
      "z1 = 1.450000\n",
      "z2 = 2.510000\n"
     ]
    }
   ],
   "source": [
    "yhat0 = fz0([0.0])\n",
    "yhat1 = fz1([0.0])\n",
    "yhat2 = fz2([0.0])\n",
    "print(\"The value for each function is:\")\n",
    "print(\"z0 = %f\" % y0)\n",
    "print(\"z1 = %f\" % y1)\n",
    "print(\"z2 = %f\" % y2)"
   ]
  },
  {
   "cell_type": "markdown",
   "metadata": {},
   "source": [
    "As we can see, the highest value belongs to the class `yhat1` (red). Finally, we verify the result for the value `1.5`."
   ]
  },
  {
   "cell_type": "code",
   "execution_count": 44,
   "metadata": {},
   "outputs": [
    {
     "name": "stdout",
     "output_type": "stream",
     "text": [
      "The value for each function is:\n",
      "z0 = -2.700000\n",
      "z1 = 1.450000\n",
      "z2 = 2.510000\n"
     ]
    }
   ],
   "source": [
    "yhat0 = fz0([1.5])\n",
    "yhat1 = fz1([1.5])\n",
    "yhat2 = fz2([1.5])\n",
    "print(\"The value for each function is:\")\n",
    "print(\"z0 = %f\" % y0)\n",
    "print(\"z1 = %f\" % y1)\n",
    "print(\"z2 = %f\" % y2)"
   ]
  },
  {
   "cell_type": "markdown",
   "metadata": {},
   "source": [
    "As it was expected, the highest value belongs to the `yhat2` (green) class."
   ]
  },
  {
   "cell_type": "markdown",
   "metadata": {},
   "source": [
    "# SoftMax Function"
   ]
  },
  {
   "cell_type": "markdown",
   "metadata": {},
   "source": [
    "Unlike `ArgMax` function that selects the index of the element with the highest value in the output, the `SoftMax` function finds the closest points to the parameter vector. Unlike the `ArgMax` function, the `SoftMax` function is the actual scores are converted into probabilities using the following formula:\n",
    "\n",
    "$$\\sigma(z)_i = \\frac{e^{z_j}}{\\sum_{k=1}{K} e^{z_k}}\\ \\ \\ \\text{for} \\ \\ j=1, \\ldots, K$$\n",
    "\n",
    "I behaves similar to the threshold function and it is kind of a soft approximation and it gives you a much smoother surface."
   ]
  },
  {
   "cell_type": "markdown",
   "metadata": {},
   "source": [
    "# SoftMax in Pytorch"
   ]
  },
  {
   "cell_type": "code",
   "execution_count": 53,
   "metadata": {},
   "outputs": [
    {
     "name": "stdout",
     "output_type": "stream",
     "text": [
      "Downloading http://yann.lecun.com/exdb/mnist/train-images-idx3-ubyte.gz\n",
      "Downloading http://yann.lecun.com/exdb/mnist/train-labels-idx1-ubyte.gz\n",
      "Downloading http://yann.lecun.com/exdb/mnist/t10k-images-idx3-ubyte.gz\n",
      "Downloading http://yann.lecun.com/exdb/mnist/t10k-labels-idx1-ubyte.gz\n",
      "Processing...\n",
      "Done!\n"
     ]
    }
   ],
   "source": [
    "import torch\n",
    "import torch.nn as nn\n",
    "import torchvision.transforms as transforms\n",
    "import torchvision.datasets as dsets\n",
    "\n",
    "#Load data\n",
    "train_dataset = dsets.MNIST(root='./data', train=True, download=True, transform=transforms.ToTensor())\n",
    "validation_dataset = dsets.MNIST(root='./data', train=False, download=True, transform=transforms.ToTensor())"
   ]
  },
  {
   "cell_type": "code",
   "execution_count": 63,
   "metadata": {},
   "outputs": [
    {
     "data": {
      "image/png": "[encoded data removed]",
      "text/plain": [
       "<Figure size 432x288 with 1 Axes>"
      ]
     },
     "metadata": {
      "needs_background": "light"
     },
     "output_type": "display_data"
    },
    {
     "name": "stdout",
     "output_type": "stream",
     "text": [
      "Class of the image: 5\n"
     ]
    }
   ],
   "source": [
    "image = train_dataset[0][0].numpy()\n",
    "plt.imshow(image[0], cmap='gray')\n",
    "plt.show()\n",
    "print(\"Class of the image: %d\" % train_dataset[0][1])"
   ]
  },
  {
   "cell_type": "markdown",
   "metadata": {},
   "source": [
    "As each image of the dataset is a 28x28 matrix, our input dimentsion will be 784 (=28*28) and our output dimension will be 10 since our classes are from 0 to 9."
   ]
  },
  {
   "cell_type": "code",
   "execution_count": 64,
   "metadata": {},
   "outputs": [],
   "source": [
    "# create the model\n",
    "class LR(nn.Module):\n",
    "    def __init__(self, in_size, out_size):\n",
    "        super(LR, self).__init__()\n",
    "        self.linear = nn.Linear(in_size, out_size)\n",
    "\n",
    "    def forward(self, x):\n",
    "        out = self.linear(x)\n",
    "        return out\n",
    "    \n",
    "input_dim = 784 \n",
    "output_dim = 10\n",
    "model = LR(input_dim, output_dim)"
   ]
  },
  {
   "cell_type": "code",
   "execution_count": 65,
   "metadata": {},
   "outputs": [
    {
     "name": "stdout",
     "output_type": "stream",
     "text": [
      "W: torch.Size([10, 784])\n",
      "b: torch.Size([10])\n"
     ]
    }
   ],
   "source": [
    "print('W:'),\n",
    "print(list(model.parameters())[0].size())\n",
    "print('b:'),\n",
    "print(list(model.parameters())[1].size())"
   ]
  },
  {
   "cell_type": "code",
   "execution_count": 68,
   "metadata": {},
   "outputs": [],
   "source": [
    "from torch import optim\n",
    "criterion = nn.CrossEntropyLoss()\n",
    "optimizer = optim.SGD(model.parameters(), lr=0.01)"
   ]
  },
  {
   "cell_type": "code",
   "execution_count": 69,
   "metadata": {},
   "outputs": [],
   "source": [
    "n_epochs = 100\n",
    "loss_list = []\n",
    "accuracy_list = []\n",
    "\n",
    "train_loader = torch.utils.data.DataLoader(dataset=train_dataset, batch_size=100)\n",
    "validation_loader = torch.utils.data.DataLoader(dataset=validation_dataset, batch_size=5000)"
   ]
  },
  {
   "cell_type": "code",
   "execution_count": 71,
   "metadata": {},
   "outputs": [],
   "source": [
    "for epoch in range(n_epochs):\n",
    "    for x, y in train_loader:\n",
    "        optimizer.zero_grad()\n",
    "        z = model(x.view(-1, 28*28))\n",
    "        loss = criterion(z, y)\n",
    "        loss.backward()\n",
    "        optimizer.step()\n",
    "\n",
    "    correct, N_test = 0, 0\n",
    "    for x_test, y_test in validation_loader:\n",
    "        z = model(x_test.view(-1, 28*28))\n",
    "        _, yhat = torch.max(z.data, 1)\n",
    "        correct += (yhat == y_test).sum().item()\n",
    "        N_test += 1\n",
    "    accuracy = correct/N_test\n",
    "    accuracy_list.append(accuracy)\n",
    "    loss_list.append(loss.data)"
   ]
  },
  {
   "cell_type": "code",
   "execution_count": 80,
   "metadata": {},
   "outputs": [
    {
     "data": {
      "image/png": "[encoded data removed]",
      "text/plain": [
       "<Figure size 432x288 with 2 Axes>"
      ]
     },
     "metadata": {
      "needs_background": "light"
     },
     "output_type": "display_data"
    }
   ],
   "source": [
    "# plot both curves in the same figure\n",
    "fig = plt.figure()\n",
    "host = fig.add_subplot(111)\n",
    "part = host.twinx()\n",
    "\n",
    "host.set_xlabel(\"Epochs\")\n",
    "host.set_ylabel(\"Accuracy\")\n",
    "part.set_ylabel(\"Loss\")\n",
    "\n",
    "p1, = host.plot(range(len(accuracy_list)), accuracy_list, 'r')\n",
    "p2, = part.plot(range(len(loss_list)), loss_list, 'b')\n",
    "plt.show()"
   ]
  },
  {
   "cell_type": "code",
   "execution_count": 76,
   "metadata": {},
   "outputs": [
    {
     "data": {
      "text/plain": [
       "<Figure size 1080x216 with 0 Axes>"
      ]
     },
     "metadata": {},
     "output_type": "display_data"
    },
    {
     "data": {
      "image/png": "[encoded data removed]",
      "text/plain": [
       "<Figure size 432x288 with 10 Axes>"
      ]
     },
     "metadata": {},
     "output_type": "display_data"
    }
   ],
   "source": [
    "def PlotParameters(model):\n",
    "    W = model.state_dict()['linear.weight'].data\n",
    "    w_min = W.min().item()\n",
    "    w_max = W.max().item()\n",
    "    fig, axes = plt.subplots(2, 5)\n",
    "    fig.subplots_adjust(hspace=0.01, wspace=0.1)\n",
    "    for i, ax in enumerate(axes.flat):\n",
    "        if i<10:\n",
    "            # Set the label for the sub-plot.\n",
    "            ax.set_xlabel( \"class: {0}\".format(i))\n",
    "        # Plot the image.\n",
    "        ax.imshow(W[i,:].view(28,28), vmin=w_min, vmax=w_max, cmap='seismic')\n",
    "        ax.set_xticks([])\n",
    "        ax.set_yticks([])\n",
    "    plt.show()\n",
    "    \n",
    "PlotParameters(model)"
   ]
  },
  {
   "cell_type": "code",
   "execution_count": null,
   "metadata": {},
   "outputs": [],
   "source": []
  }
 ],
 "metadata": {
  "kernelspec": {
   "display_name": "Python 2",
   "language": "python",
   "name": "python2"
  },
  "language_info": {
   "codemirror_mode": {
    "name": "ipython",
    "version": 2
   },
   "file_extension": ".py",
   "mimetype": "text/x-python",
   "name": "python",
   "nbconvert_exporter": "python",
   "pygments_lexer": "ipython2",
   "version": "2.7.15"
  }
 },
 "nbformat": 4,
 "nbformat_minor": 2
}
