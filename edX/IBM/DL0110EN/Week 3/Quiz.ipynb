{
 "cells": [
  {
   "cell_type": "markdown",
   "metadata": {},
   "source": [
    "# 1. Introduction to Linear Classifiers and Logistic Regression"
   ]
  },
  {
   "cell_type": "markdown",
   "metadata": {},
   "source": [
    "1. True or False? The following samples can be used for classifications for the variable `y`: 0, 1.4, 0.11?<br>\n",
    "\n",
    "&#9745; False<br>\n",
    "&#9744; True"
   ]
  },
  {
   "cell_type": "markdown",
   "metadata": {},
   "source": [
    "2. Consider the line `z=ax+b` if the value for `x_1` is used as an input, what would the value of `z` be?<br>\n",
    "\n",
    "<img src=\"images/quiz_1.1.png\" width=\"30%\"/>\n",
    "\n",
    "&#9744; -1<br>\n",
    "&#9744; 1<br>\n",
    "&#9744; Less than zero<br>\n",
    "&#9745; Greater than zero"
   ]
  },
  {
   "cell_type": "markdown",
   "metadata": {},
   "source": [
    "3. If the input to the sigmoid fuction is larger than zero, the output is larger then 0.5; consider the line `z=ax+b` if the value for x_1 is used as an input. If the sigmoid fuction was applied what would it's range be?<br>\n",
    "\n",
    "<img src=\"images/quiz_1.1.png\" width=\"30%\"/>\n",
    "\n",
    "&#9744; 1<br>\n",
    "&#9744; Between 0 and 0.5<br>\n",
    "&#9745; Between 0.5 and 1"
   ]
  },
  {
   "cell_type": "markdown",
   "metadata": {},
   "source": [
    "# 2. Logistic Regression: Making a Prediction with PyTorch"
   ]
  },
  {
   "cell_type": "markdown",
   "metadata": {},
   "source": [
    "1. For logistic regression, the paramater `out_features` to the `nn.Linear(in_features, out_features)` should be set to?<br>\n",
    "\n",
    "&#9744; 0<br>\n",
    "&#9745; 1<br>\n",
    "&#9744; It depends on the number of features you have"
   ]
  },
  {
   "cell_type": "markdown",
   "metadata": {},
   "source": [
    "2. What is the result range for the logistic regression?<br>\n",
    "\n",
    "&#9744; Negative<br>\n",
    "&#9745; Between 0 and 1<br>\n",
    "&#9744; Larger then 1\n"
   ]
  },
  {
   "cell_type": "markdown",
   "metadata": {},
   "source": [
    "# 3. Logistic Regression with Mean Square Error"
   ]
  },
  {
   "cell_type": "markdown",
   "metadata": {},
   "source": [
    "1. What is the problem with using the Mean Square Error and Logistic Regression?<br>\n",
    "\n",
    "&#9744; It's not a smooth function<br>\n",
    "&#9745; The loss or cost surface is flat in some regions<br>\n",
    "&#9744; It's only for regression"
   ]
  },
  {
   "cell_type": "markdown",
   "metadata": {},
   "source": [
    "2. What happens if you use Mean Square Error and you select a bad initialization value for your parameter?<br>\n",
    "\n",
    "&#9744; Nothing<br>\n",
    "&#9745; At that point, the cost or total loss surface will be flat and the parameter will not update<br>\n",
    "&#9744; Overfitting"
   ]
  },
  {
   "cell_type": "markdown",
   "metadata": {},
   "source": [
    "# 4. Bernoulli Distribution and Maximum Likelihood Estimation"
   ]
  },
  {
   "cell_type": "markdown",
   "metadata": {},
   "source": [
    "1. Consider the following sequence of Bernoulli distributed coin flips:<br>\n",
    "\n",
    "`{Heads, Heads, Tails, Heads, Tails, Tails}`\n",
    "\n",
    "Let theta be the parameter describing the probability of heads. Given the following choice, what value of Theta would you select?\n",
    "\n",
    "&#9744; Theta=0<br>\n",
    "&#9745; Theta=0.5<br>\n",
    "&#9744; Theta=1"
   ]
  },
  {
   "cell_type": "markdown",
   "metadata": {},
   "source": [
    "2. To estimate the parameters, Bernoulli distributed what is true.<br>\n",
    "\n",
    "&#9744; Taking the log changes the location of the parameter that maximises the likelihood<br>\n",
    "&#9745; We take the log of the likelihood function because it's simpler to maximise"
   ]
  },
  {
   "cell_type": "markdown",
   "metadata": {},
   "source": [
    "# 5. Cross Entropy Loss"
   ]
  },
  {
   "cell_type": "markdown",
   "metadata": {},
   "source": [
    "1. What is the advantage of the cross-entropy loss over the Mean Square Error?<br>\n",
    "\n",
    "&#9745; There are contours all over the cost or total loss surface; as a result, the algorithm will converge to a local minimum<br>\n",
    "&#9744; It's easier to implement<br>\n",
    "&#9744; It's less complex"
   ]
  },
  {
   "cell_type": "markdown",
   "metadata": {},
   "source": [
    "2. What is the expression for the cross entropy loss?<br>\n",
    "\n",
    "&#9745; `out = -1 * torch.mean(y * torch.log(yhat) + (1 - y) * torch.log(1 - yhat))`<br>\n",
    "&#9744; `nn.MSELoss()`<br>\n",
    "&#9744; `out = torch.mean((y - yhat)**2)`"
   ]
  },
  {
   "cell_type": "markdown",
   "metadata": {},
   "source": [
    "# 6. Training Logistic Regression in PyTorch Cross Entropy"
   ]
  },
  {
   "cell_type": "markdown",
   "metadata": {},
   "source": [
    "1. Consider the plot of the total loss or cost surface after 567 iterations?<br>\n",
    "\n",
    "<img src='images/quiz_3.6.png' width='30%'/>\n",
    "\n",
    "&#9745; Mean Square Error<br>\n",
    "&#9744; Cross Entropy Loss"
   ]
  },
  {
   "cell_type": "markdown",
   "metadata": {},
   "source": [
    "2. What is the expression for the Cross-Entropy loss in Pytorch?<br>\n",
    "\n",
    "&#9744; `nn.MSELoss()`<br>\n",
    "&#9745; `nn.BCELoss()`<br>\n",
    "&#9744; `nn.Linear(n_inputs,1)`"
   ]
  },
  {
   "cell_type": "markdown",
   "metadata": {},
   "source": [
    "# 7. Softmax Prediction in PyTorch"
   ]
  },
  {
   "cell_type": "markdown",
   "metadata": {},
   "source": [
    "1. consider the following lines of code<br> \n",
    "\n",
    "```python\n",
    "z = torch.tensor([[2,5,0],[10,8,2],[6,5,1]])\n",
    "_, yhat = z.max(1)\n",
    "```\n",
    "\n",
    "what is `yhat`?<br>\n",
    "\n",
    "&#9744; `tensor([5,10,5])`<br>\n",
    "&#9744; `tensor([1,1,1])`<br>\n",
    "&#9745; `tensor([1,0,0])`<br>\n",
    "&#9744; `tensor([10,8,5])`"
   ]
  },
  {
   "cell_type": "code",
   "execution_count": 5,
   "metadata": {},
   "outputs": [
    {
     "name": "stdout",
     "output_type": "stream",
     "text": [
      "tensor([1, 0, 0])\n"
     ]
    }
   ],
   "source": [
    "import torch\n",
    "z = torch.tensor([[2,5,0],[10,8,2],[6,5,1]])\n",
    "_, yhat = z.max(1)\n",
    "print(yhat)"
   ]
  },
  {
   "cell_type": "markdown",
   "metadata": {},
   "source": [
    "* Explanation: `max(1)` function returns the index of the array where the maximum value is. E.g., in the `z` tensor, the first array contains the maximum value `5` in the index `1`, in the second array the maximum value `10` is in the `0` index and in the last array, the maximum value `6` is in the `0` index. This returns the array `[1,0,0]`."
   ]
  },
  {
   "cell_type": "markdown",
   "metadata": {},
   "source": [
    "2. In the code below, we have two input features and three classes. What are the parameters for `Softmax()` constructor according to the code?<br>\n",
    "\n",
    "```python\n",
    "class Softmax (nn.Module):\n",
    "    def __init__(self, in_size, out_size):\n",
    "        super(Softmax, self).__init__()\n",
    "        self.linear=nn.Linear(in_size, out_size)\n",
    "\n",
    "    def forward(self, x):\n",
    "        out=self.linear(x)\n",
    "        return out\n",
    "```\n",
    "&#9744; `Softmax(1,1)`<br>\n",
    "&#9744; `Softmax(1,2)`<br>\n",
    "&#9744; `Softmax(1,3)`<br>\n",
    "&#9745; `Sofmax(2,3)`"
   ]
  },
  {
   "cell_type": "markdown",
   "metadata": {},
   "source": [
    "# 8. Softmax"
   ]
  },
  {
   "cell_type": "markdown",
   "metadata": {},
   "source": [
    "1. What is the task of the following line of code?<br>\n",
    "\n",
    "`transforms.ToTensor()`\n",
    "\n",
    "&#9745; Convert the image to a tensor<br>\n",
    "&#9744; Create a new tensor<br>\n",
    "&#9744; Delete a tensor"
   ]
  },
  {
   "cell_type": "markdown",
   "metadata": {},
   "source": [
    "2. What is the purpose of the following line of code?<br>\n",
    "\n",
    "`x.view(-1, 28*28)`\n",
    "\n",
    "&#9744; We would like to view the first 28 elements of a tensor<br>\n",
    "&#9744; We need to multiply every element by 28<br>\n",
    "&#9745; Images are square and we have to convert them to a vector"
   ]
  },
  {
   "cell_type": "markdown",
   "metadata": {},
   "source": [
    "3. You have a 10x10 image and you would like to convert it to a vector or a rank one tensor, how many elements does it have?<br>\n",
    "\n",
    "**Answer**: 100"
   ]
  }
 ],
 "metadata": {
  "kernelspec": {
   "display_name": "Python 2",
   "language": "python",
   "name": "python2"
  },
  "language_info": {
   "codemirror_mode": {
    "name": "ipython",
    "version": 2
   },
   "file_extension": ".py",
   "mimetype": "text/x-python",
   "name": "python",
   "nbconvert_exporter": "python",
   "pygments_lexer": "ipython2",
   "version": "2.7.15"
  }
 },
 "nbformat": 4,
 "nbformat_minor": 2
}
