{
 "cells": [
  {
   "cell_type": "markdown",
   "metadata": {},
   "source": [
    "# Simple Neural Networks"
   ]
  },
  {
   "cell_type": "markdown",
   "metadata": {},
   "source": [
    "A neural network can be understood as a function that approximates another function. For example, using a linear classifier, we could not separate the example below in two classes.\n",
    "\n",
    "<img src=\"images/neural_net_points.svg\" width=\"25%\"/>\n",
    "\n",
    "In order to identify both values of $y=1$ (before and after $y=0$), we need a complex function that separates the problem, e.g. a box function.\n",
    "\n",
    "<img src=\"images/box_function.svg\" width=\"25%\"/>"
   ]
  },
  {
   "cell_type": "code",
   "execution_count": 12,
   "metadata": {},
   "outputs": [],
   "source": [
    "import torch\n",
    "import torch.nn as nn\n",
    "import torch.nn.functional as F\n",
    "\n",
    "class Net(nn.Module):\n",
    "    def __init__(self, D_in, H, D_out):\n",
    "        super(Net, self).__init__()\n",
    "        self.linear1 = nn.Linear(D_in, H)\n",
    "        self.linear2 = nn.Linear(H, D_out)\n",
    "\n",
    "    def forward(self, x):\n",
    "        x = F.sigmoid(self.linear1(x))\n",
    "        x = F.sigmoid(self.linear2(x))\n",
    "        return x"
   ]
  },
  {
   "cell_type": "markdown",
   "metadata": {},
   "source": [
    "We can also use the `nn.Sequential` module to create the neural network as"
   ]
  },
  {
   "cell_type": "code",
   "execution_count": 2,
   "metadata": {},
   "outputs": [],
   "source": [
    "model = torch.nn.Sequential(torch.nn.Linear(1,2),\n",
    "                            torch.nn.Sigmoid(),\n",
    "                            torch.nn.Linear(2,1),\n",
    "                            torch.nn.Sigmoid())"
   ]
  },
  {
   "cell_type": "markdown",
   "metadata": {},
   "source": [
    "Then, we train the network as we have trained so far."
   ]
  },
  {
   "cell_type": "code",
   "execution_count": null,
   "metadata": {},
   "outputs": [],
   "source": [
    "model = Net(1, 2, 1)\n",
    "criterion = nn.BCELoss()\n",
    "dataset = Data()\n",
    "train_loader = DataLoader(dataset=dataset, batch_size=1)\n",
    "optimizer = optim.SGD(model.parameters(), lr=0.01)\n",
    "train(dataset, model, criterion, train_loader, optimizer, epochs=1000)\n",
    "yhat = model(x)"
   ]
  },
  {
   "cell_type": "markdown",
   "metadata": {},
   "source": [
    "# Neural Networks with Multiple Dimensions"
   ]
  },
  {
   "cell_type": "markdown",
   "metadata": {},
   "source": [
    "Consider we're going to go over the 2-dimensional input example, and everything above extends to 2D dimensions. Just like in 1-dimension, we'll have a 2-dimensional dataset. Looking at the data, we can see we really cannot use a line to separate it, e.g., the XOR problem.\n",
    "In this case, increasing the number of neurons in a hidden layer satisfies our requisites to correctly classify both classes. Thus, it seems like the more neurons you add, just like in 1-dimension, you can build more complicated functions. Changing the call for our class to solve this problem, we have to change the number of dimensions of the input and the number of hidden units as:"
   ]
  },
  {
   "cell_type": "code",
   "execution_count": 4,
   "metadata": {},
   "outputs": [],
   "source": [
    "model = Net(2, 4, 1)"
   ]
  },
  {
   "cell_type": "markdown",
   "metadata": {},
   "source": [
    "# Multi-Class Networks"
   ]
  },
  {
   "cell_type": "markdown",
   "metadata": {},
   "source": [
    "In order to consider a multi-class classification problem, we have to change the number of neurons in the output of our network. Using the previous example of our network `Net(2, 4, 1)`, we have two dimensions in the input, 4 neurons in the hidden layer and 1 neuron in the output. When considering multi-class classification problem, e.g., classify numbers from 0 to 9, we have 10 classes in the output. Thus, our model should be called as  "
   ]
  },
  {
   "cell_type": "code",
   "execution_count": 5,
   "metadata": {},
   "outputs": [],
   "source": [
    "model = Net(2, 4, 10)"
   ]
  },
  {
   "cell_type": "markdown",
   "metadata": {},
   "source": [
    "# Neural Networks for Regression"
   ]
  },
  {
   "cell_type": "markdown",
   "metadata": {},
   "source": [
    "The creation of a neural network model for regression is similar to the classification, but instead of using the sigmoid function to activate the last linear function, we keep only the linear function. Thus, our class `Net` is changed to"
   ]
  },
  {
   "cell_type": "code",
   "execution_count": 6,
   "metadata": {},
   "outputs": [],
   "source": [
    "class Net(nn.Module):\n",
    "    def __init__(self, D_in, H, D_out):\n",
    "        super(Net, self).__init__()\n",
    "        self.linear1 = nn.Linear(D_in, H)\n",
    "        self.linear2 = nn.Linear(H, D_out)\n",
    "\n",
    "    def forward(self, x):\n",
    "        x = F.sigmoid(self.linear1(x))\n",
    "        x = self.linear2(x)\n",
    "        return x"
   ]
  },
  {
   "cell_type": "markdown",
   "metadata": {},
   "source": [
    "In case of using the `nn.Sequential` module, we can create a model as:"
   ]
  },
  {
   "cell_type": "code",
   "execution_count": 7,
   "metadata": {},
   "outputs": [],
   "source": [
    "model = torch.nn.Sequential(torch.nn.Linear(1,2),\n",
    "                            torch.nn.Sigmoid(),\n",
    "                            torch.nn.Linear(2,1))"
   ]
  },
  {
   "cell_type": "markdown",
   "metadata": {},
   "source": [
    "Finally, when calling the model, we keep only a single neuron in the output layer as:"
   ]
  },
  {
   "cell_type": "code",
   "execution_count": 9,
   "metadata": {},
   "outputs": [],
   "source": [
    "model = Net(2, 2, 1)\n",
    "criterion = nn.MSELoss()"
   ]
  },
  {
   "cell_type": "markdown",
   "metadata": {},
   "source": [
    "# Activation Functions"
   ]
  },
  {
   "cell_type": "markdown",
   "metadata": {},
   "source": [
    "### Sigmoid Function\n",
    "\n",
    "As we saw, the sigmoid activation function keeps values between 0 and 1 and has the following shape."
   ]
  },
  {
   "cell_type": "code",
   "execution_count": 4,
   "metadata": {},
   "outputs": [
    {
     "data": {
      "image/png": "[encoded data removed]",
      "text/plain": [
       "<Figure size 1080x216 with 2 Axes>"
      ]
     },
     "metadata": {
      "needs_background": "light"
     },
     "output_type": "display_data"
    }
   ],
   "source": [
    "from matplotlib import pyplot as plt\n",
    "import numpy as np\n",
    "\n",
    "def sigmoid(X):\n",
    "    f = 1/(1+np.exp(-X))\n",
    "    df = f * (1 - f)\n",
    "    return f, df\n",
    "\n",
    "X = np.arange(-10, 10, 0.1)\n",
    "y, dy = sigmoid(X)\n",
    "\n",
    "plt.figure(figsize=(15,3))\n",
    "plt.subplot(1, 2, 1)\n",
    "plt.plot(X, y)\n",
    "plt.subplot(1, 2, 2)\n",
    "plt.plot(X, dy)\n",
    "plt.show()"
   ]
  },
  {
   "cell_type": "markdown",
   "metadata": {},
   "source": [
    "### Tanh Function\n",
    "\n",
    "Unlike Sigmoid function, the tanh function keeps values between -1 and 1 (zero centered). The output of the Tanh function is as follows:"
   ]
  },
  {
   "cell_type": "code",
   "execution_count": 6,
   "metadata": {},
   "outputs": [
    {
     "data": {
      "image/png": "[encoded data removed]",
      "text/plain": [
       "<Figure size 1080x216 with 2 Axes>"
      ]
     },
     "metadata": {
      "needs_background": "light"
     },
     "output_type": "display_data"
    }
   ],
   "source": [
    "def tanh(X):\n",
    "    f = np.tanh(X)\n",
    "    df = 1.0 - f**2\n",
    "    return f, df\n",
    "\n",
    "X = np.arange(-10, 10, 0.1)\n",
    "y, dy = tanh(X)\n",
    "\n",
    "plt.figure(figsize=(15,3))\n",
    "plt.subplot(1, 2, 1)\n",
    "plt.plot(X, y)\n",
    "plt.subplot(1, 2, 2)\n",
    "plt.plot(X, dy)\n",
    "plt.show()"
   ]
  },
  {
   "cell_type": "markdown",
   "metadata": {},
   "source": [
    "# ReLU Function\n",
    "\n",
    "Unlike the previous functions, ReLU function equals zero values that are under zero and keep the same input value as output value when they are greater than zero. The ReLU activation function is presented as follows:"
   ]
  },
  {
   "cell_type": "code",
   "execution_count": 11,
   "metadata": {},
   "outputs": [
    {
     "data": {
      "image/png": "[encoded data removed]",
      "text/plain": [
       "<Figure size 1080x216 with 2 Axes>"
      ]
     },
     "metadata": {
      "needs_background": "light"
     },
     "output_type": "display_data"
    }
   ],
   "source": [
    "def relu(X):\n",
    "    f = np.maximum(0, X)\n",
    "    df = f.copy()\n",
    "    df[df > 0] = 1.0\n",
    "    return f, df\n",
    "\n",
    "X = np.arange(-10, 10, 0.1)\n",
    "y, dy = relu(X)\n",
    "\n",
    "plt.figure(figsize=(15,3))\n",
    "plt.subplot(1, 2, 1)\n",
    "plt.plot(X, y)\n",
    "plt.subplot(1, 2, 2)\n",
    "plt.plot(X, dy)\n",
    "plt.show()"
   ]
  },
  {
   "cell_type": "markdown",
   "metadata": {},
   "source": [
    "# Applying other functions to the neural network"
   ]
  },
  {
   "cell_type": "code",
   "execution_count": 16,
   "metadata": {},
   "outputs": [],
   "source": [
    "# Apply Tanh\n",
    "class Net_Tanh(nn.Module):\n",
    "    def __init__(self, D_in, H, D_out):\n",
    "        super(Net, self).__init__()\n",
    "        self.linear1 = nn.Linear(D_in, H)\n",
    "        self.linear2 = nn.Linear(H, D_out)\n",
    "\n",
    "    def forward(self, x):\n",
    "        x = F.tanh(self.linear1(x))\n",
    "        x = self.linear2(x)\n",
    "        return x\n",
    "    \n",
    "# Or using nn.Sequential module\n",
    "model = torch.nn.Sequential(torch.nn.Linear(1,2),\n",
    "                            torch.nn.Tanh(),\n",
    "                            torch.nn.Linear(2,1))"
   ]
  },
  {
   "cell_type": "code",
   "execution_count": 15,
   "metadata": {},
   "outputs": [],
   "source": [
    "# Apply ReLU\n",
    "class Net(nn.Module):\n",
    "    def __init__(self, D_in, H, D_out):\n",
    "        super(Net, self).__init__()\n",
    "        self.linear1 = nn.Linear(D_in, H)\n",
    "        self.linear2 = nn.Linear(H, D_out)\n",
    "\n",
    "    def forward(self, x):\n",
    "        x = F.relu(self.linear1(x))\n",
    "        x = self.linear2(x)\n",
    "        return x\n",
    "    \n",
    "# Or using nn.Sequential module\n",
    "model = torch.nn.Sequential(torch.nn.Linear(1,2),\n",
    "                            torch.nn.ReLU(),\n",
    "                            torch.nn.Linear(2,1))"
   ]
  },
  {
   "cell_type": "markdown",
   "metadata": {},
   "source": [
    "# Building Deep Networks in Pytorch"
   ]
  },
  {
   "cell_type": "markdown",
   "metadata": {},
   "source": [
    "Now we will build a neural network with two hidden layers ($H1$ and $H2$). The structure of the network is as illustred below:\n",
    "\n",
    "<img src=\"images/neural_network.svg\" with=\"30%\" align=\"center\"/>"
   ]
  },
  {
   "cell_type": "code",
   "execution_count": null,
   "metadata": {},
   "outputs": [],
   "source": [
    "class Net(nn.Module):\n",
    "    def __init__(self, D_in, H1, H2, D_out):\n",
    "        super(Net, self).__init__()\n",
    "        self.linear1 = nn.Linear(D_in, H1)\n",
    "        self.linear2 = nn.Linear(H1, H2)\n",
    "        self.linear3 = nn.Linear(H2, D_out)\n",
    "\n",
    "    def forward(self, x):\n",
    "        x = F.relu(self.linear1(x))\n",
    "        x = F.relu(self.linear2(x))\n",
    "        x = self.linear3(x)\n",
    "        return x\n",
    "    \n",
    "model = Net(3, 3, 4, 3)"
   ]
  },
  {
   "cell_type": "code",
   "execution_count": null,
   "metadata": {},
   "outputs": [],
   "source": [
    "# Using the nn.Sequential module, we have\n",
    "model = torch.nn.Sequential(torch.nn.Linear(3,3),\n",
    "                            torch.nn.ReLU(),\n",
    "                            torch.nn.Linear(3,4)\n",
    "                            torch.nn.ReLU(),\n",
    "                            torch.nn.Linear(4,3)\n",
    ")"
   ]
  },
  {
   "cell_type": "markdown",
   "metadata": {},
   "source": [
    "# Deeper Neural Networks with ModuleList"
   ]
  },
  {
   "cell_type": "markdown",
   "metadata": {},
   "source": [
    "Pytorch has a useful feature to build deeper neural networks called nn.ModuleList. Instead of inputting all the layers manually, we create a function that creates a variable number of layers with a variable number of neurons."
   ]
  },
  {
   "cell_type": "code",
   "execution_count": null,
   "metadata": {},
   "outputs": [],
   "source": [
    "class Net(nn.Module):\n",
    "    def __init__(self, Layers):\n",
    "        super(Net, self).__init__()\n",
    "        self.hidden = nn.ModuleList()\n",
    "        for input_size, output_size in zip(Layers, Layers[1:]):\n",
    "            self.hidden.append(nn.Linear(input_size, output_size))\n",
    "\n",
    "    def forward(self, activation):\n",
    "        L = len(self.hidden)\n",
    "        for (l, linear_transform) in zip(range(L), self.hidden):\n",
    "            if l < L-1:\n",
    "                activation = F.relu(linear_transform(activation))\n",
    "            else:\n",
    "                activation = linear_transform(activation)\n",
    "        return activation\n",
    "\n",
    "Layers = [2, 3, 4, 3]\n",
    "model = Net(Layers)\n",
    "yhat = model(x)"
   ]
  }
 ],
 "metadata": {
  "kernelspec": {
   "display_name": "Python 2",
   "language": "python",
   "name": "python2"
  },
  "language_info": {
   "codemirror_mode": {
    "name": "ipython",
    "version": 2
   },
   "file_extension": ".py",
   "mimetype": "text/x-python",
   "name": "python",
   "nbconvert_exporter": "python",
   "pygments_lexer": "ipython2",
   "version": "2.7.15"
  }
 },
 "nbformat": 4,
 "nbformat_minor": 2
}
