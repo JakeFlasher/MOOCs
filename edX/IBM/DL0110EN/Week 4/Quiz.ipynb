{
 "cells": [
  {
   "cell_type": "markdown",
   "metadata": {},
   "source": [
    "# 1. What are Neural Networks?"
   ]
  },
  {
   "cell_type": "markdown",
   "metadata": {},
   "source": [
    "1. Consider the following neural network model or class:<br>\n",
    "    \n",
    "```python\n",
    "class Net(nn.Module):\n",
    "    def __init__(self, D_in, H, D_out):\n",
    "        super(Net, self).__init__()\n",
    "        self.linear1 = nn.Linear(D_in, H)\n",
    "        self.linear2 = nn.Linear(H, D_out)\n",
    "\n",
    "    def forward(self, x):\n",
    "        x = F.sigmoid(self.linear1(x))\n",
    "        x = F.sigmoid(self.linear2(x))\n",
    "        return x\n",
    "```\n",
    "\n",
    "How many hidden neurons does the following neural network object have?<br>\n",
    "\n",
    "`model=Net(1,3,1)`<br>\n",
    "\n",
    "**Answer**: 3"
   ]
  },
  {
   "cell_type": "markdown",
   "metadata": {},
   "source": [
    "2. What does the following line of code do?<br>\n",
    "\n",
    "`F.sigmoid(self.linear1(x))`\n",
    "\n",
    "&#9744; Applies a linear function to $x$<br>\n",
    "&#9744; Creates a linear object<br>\n",
    "&#9745; Applies a sigmoid activation to every element of the tensor $x$ "
   ]
  },
  {
   "cell_type": "markdown",
   "metadata": {},
   "source": [
    "3. Consider the following neural network model or class:<br>\n",
    "    \n",
    "```python\n",
    "class Net(nn.Module):\n",
    "    def __init__(self, D_in, H, D_out):\n",
    "        super(Net, self).__init__()\n",
    "        self.linear1 = nn.Linear(D_in, H)\n",
    "        self.linear2 = nn.Linear(H, D_out)\n",
    "\n",
    "    def forward(self, x):\n",
    "        x = F.sigmoid(self.linear1(x))\n",
    "        x = F.sigmoid(self.linear2(x))\n",
    "        return x\n",
    "```\n",
    "How many hidden layers does the following neural network object have?<br>\n",
    "\n",
    "`model=Net(1,3,1)`\n",
    "\n",
    "**Answer**: 1"
   ]
  },
  {
   "cell_type": "markdown",
   "metadata": {},
   "source": [
    "# 2. Neural Networks with Multiple Dimensions"
   ]
  },
  {
   "cell_type": "markdown",
   "metadata": {},
   "source": [
    "1. True or False? The following dataset is linearly separable?<br>\n",
    "\n",
    "<img src=\"images/quiz_4.2.png\" width=\"40%\"/>\n",
    "\n",
    "&#9744; True<br>\n",
    "&#9745; False"
   ]
  },
  {
   "cell_type": "markdown",
   "metadata": {},
   "source": [
    "2. Consider the following neural network model or class:<br>\n",
    "\n",
    "```python\n",
    "class Net(nn.Module):\n",
    "    def __init__(self, D_in, H, D_out):\n",
    "        super(Net, self).__init__()\n",
    "        self.linear1 = nn.Linear(D_in, H)\n",
    "        self.linear2 = nn.Linear(H, D_out)\n",
    "\n",
    "    def forward(self, x):\n",
    "        x = F.sigmoid(self.linear1(x))\n",
    "        x = F.sigmoid(self.linear2(x))\n",
    "        return x\n",
    "```\n",
    "How many hidden neurons does the neural network object have?<br>\n",
    "\n",
    "`model=Net(2,3,1)`<br>\n",
    "\n",
    "**Answer**: 3"
   ]
  },
  {
   "cell_type": "markdown",
   "metadata": {},
   "source": [
    "3. Consider the following neural network model or class:<br>\n",
    "\n",
    "```python\n",
    "class Net(nn.Module):\n",
    "    def __init__(self, D_in, H, D_out):\n",
    "        super(Net, self).__init__()\n",
    "        self.linear1 = nn.Linear(D_in, H)\n",
    "        self.linear2 = nn.Linear(H, D_out)\n",
    "\n",
    "    def forward(self, x):\n",
    "        x = F.sigmoid(self.linear1(x))\n",
    "        x = F.sigmoid(self.linear2(x))\n",
    "        return x\n",
    "```\n",
    "How many dimensions does the neural network object take as an input?<br>\n",
    "\n",
    "`model=Net(5,3,1)`<br>\n",
    "\n",
    "**Answer**: 5"
   ]
  },
  {
   "cell_type": "markdown",
   "metadata": {},
   "source": [
    "4. Consider the following neural network model or class:<br>\n",
    "\n",
    "```python\n",
    "class Net(nn.Module):\n",
    "    def __init__(self, D_in, H, D_out):\n",
    "        super(Net, self).__init__()\n",
    "        self.linear1 = nn.Linear(D_in, H)\n",
    "        self.linear2 = nn.Linear(H, D_out)\n",
    "\n",
    "    def forward(self, x):\n",
    "        x = F.sigmoid(self.linear1(x))\n",
    "        x = F.sigmoid(self.linear2(x))\n",
    "        return x\n",
    "```\n",
    "How many hidden layers does the neural network object have?\n",
    "\n",
    "`model=Net(5,3,1)`<br>\n",
    "\n",
    "**Answer**: 1"
   ]
  },
  {
   "cell_type": "markdown",
   "metadata": {},
   "source": [
    "# 3. Multi-Class Networks"
   ]
  },
  {
   "cell_type": "markdown",
   "metadata": {},
   "source": [
    "```python\n",
    "model = torch.nn.Sequential(\n",
    "    torch.nn.Linear(input_dim.hidden_dim), \n",
    "    torch.nn.Sigmoid(), \n",
    "    torch.nn.Linear(hidden_dim, output_dim), \n",
    "    torch.nn.Sigmoid())\n",
    "```\n",
    "Is the above code the correct one for multi-class Network?<br>\n",
    "&#9744; True<br>\n",
    "&#9745; False"
   ]
  },
  {
   "cell_type": "markdown",
   "metadata": {},
   "source": [
    "The prediction step in a multi-class neural network utilizes the same procedute Softmax function. True or False?<br>\n",
    "\n",
    "&#9745; True<br>\n",
    "&#9744; False "
   ]
  },
  {
   "cell_type": "markdown",
   "metadata": {},
   "source": [
    "# 4. Neural Networks for Regression"
   ]
  },
  {
   "cell_type": "markdown",
   "metadata": {},
   "source": [
    "1. Select the model used for regression?<br>\n",
    "\n",
    "&#9745; `torch.nn.Sequential( torch.nn.Linear(2, 2),torch.nn.Sigmoid(), torch.nn.Linear(2,1))`<br>\n",
    "&#9744; `torch.nn.Sequential( torch.nn.Linear(2, 2),torch.nn.Sigmoid(), torch.nn.Linear(2,1),torch.nn.Sigmoid())`<br>\n",
    "&#9744; `torch.nn.Sequential( torch.nn.Linear(2, 2),torch.nn.Linear(2,1), torch.nn.Linear(2,1),torch.nn.Sigmoid())"
   ]
  },
  {
   "cell_type": "markdown",
   "metadata": {},
   "source": [
    "2. For a neural network, what criterion or loss function should you use for regression?<br>\n",
    "\n",
    "&#9744; `BCELoss()`<br>\n",
    "&#9745; `MSELoss()`<br>\n",
    "&#9744; `CrossEntropyLoss()`"
   ]
  },
  {
   "cell_type": "markdown",
   "metadata": {},
   "source": [
    "# 5. Back-Propagation"
   ]
  },
  {
   "cell_type": "markdown",
   "metadata": {},
   "source": [
    "1. What is the reason for us to use back-propagation?<br>\n",
    "\n",
    "&#9744; The gradient sometimes is too sharp<br>\n",
    "&#9744; Solving the overfitting problem on the neural network<br>\n",
    "&#9745; There are too many redundant computations"
   ]
  },
  {
   "cell_type": "markdown",
   "metadata": {},
   "source": [
    "2. True or False? If the derivative of all the sigmoid functions are approximately zero, therefore, when we apply the update equation for gradient decent, nothing will happen.<br>\n",
    "\n",
    "&#9745; True<br>\n",
    "&#9744; False"
   ]
  },
  {
   "cell_type": "markdown",
   "metadata": {},
   "source": [
    "# 6. Activation Functions"
   ]
  },
  {
   "cell_type": "markdown",
   "metadata": {},
   "source": [
    "1. What is the problem with the tanh and sigmoid activation function?<br>\n",
    "\n",
    "&#9744; They are discontinuous functions<br>\n",
    "&#9744; You can't take the derivative<br>\n",
    "&#9745; The derivative is near zero in many regions<br>\n",
    "&#9744; They are periodic functions"
   ]
  },
  {
   "cell_type": "markdown",
   "metadata": {},
   "source": [
    "2. Usually, what activation function would you use if you had more than 10 hidden layers?<br>\n",
    "\n",
    "&#9744; Sigmoid<br>\n",
    "&#9744; Tanh<br>\n",
    "&#9745; ReLu "
   ]
  },
  {
   "cell_type": "markdown",
   "metadata": {},
   "source": [
    "# 7. Building Deep Networks In PyTroch"
   ]
  },
  {
   "cell_type": "markdown",
   "metadata": {},
   "source": [
    "Use the following class for the questions:<br>\n",
    "\n",
    "```python\n",
    "class Net(nn.model):\n",
    "  def __init__(self, D_in, H1, H2, D_out):\n",
    "  \tsuper(Net, self).__init__()\n",
    "    self.linear1 = nn.Linear(D_in, H1)\n",
    "    self.linear2 = nn.Linear(H1, H2)\n",
    "    self.linear3 = nn.Linear(H2, D_out)\n",
    "  def forward(self, x):\n",
    "      (Multiple Choice)\n",
    "    return x\n",
    "```"
   ]
  },
  {
   "cell_type": "markdown",
   "metadata": {},
   "source": [
    "1. How many times should the activation function (like sigmoid) be applied in the def forward(self, x) if the result contains multiple classes?<br>\n",
    "\n",
    "&#9744; 1<br>\n",
    "&#9745; 2<br>\n",
    "&#9744; 3<br>\n",
    "&#9744; 4"
   ]
  },
  {
   "cell_type": "markdown",
   "metadata": {},
   "source": [
    "2. Consider the following code:<br>\n",
    "\n",
    "`model = Net(3,5,4,1)`<br>\n",
    "\n",
    "How many hidden layers are there in this model?<br>\n",
    "\n",
    "**Answer**: 2<br>\n",
    "\n",
    "How many inputs are there for the first hidden layer?<br>\n",
    "\n",
    "**Answer**: 3"
   ]
  },
  {
   "cell_type": "markdown",
   "metadata": {},
   "source": [
    "# 8. Deeper Neural Networks with ModuleList"
   ]
  },
  {
   "cell_type": "markdown",
   "metadata": {},
   "source": [
    "Use the following code for the questions:<br>\n",
    "\n",
    "```python\n",
    "class Net(nn.Module):\n",
    "    # Section 1: \n",
    "\tdef __init__(self, Layers):\n",
    "\t\tsuper(Net,self).__init__()\n",
    "\t\tself.hidden = nn.ModuleList()\n",
    "\t\tfor input_size,output_size in zip(Layers,Layers[1:]):\n",
    "\t\t\tself.hidden.append(nn.Linear(input_size,output_size))\n",
    "\t# Section 2: \n",
    "\tdef forward(self, activation):\n",
    "\t\tL=len(self.hidden)\n",
    "\t\tfor (l, linear_transform) in zip(range(L), self.hidden):\n",
    "\t\t\tif #Question 2\n",
    "\t\t\t\tactivation = F.relu(linear_transform(activation))\n",
    "\t\t\telse:\n",
    "\t\t\t\tactivation = linear_transform(activation)\n",
    "\t\treturn activation\n",
    "```"
   ]
  },
  {
   "cell_type": "markdown",
   "metadata": {},
   "source": [
    "1. Let us create an object<br>\n",
    "\n",
    "`model = Net([2,3,4,1])`<br>\n",
    "\n",
    "How many hidden layers are there in this model?<br>\n",
    "\n",
    "&#9744; 1<br>\n",
    "&#9745; 2<br>\n",
    "&#9744; 3<br>\n",
    "&#9744; 4"
   ]
  },
  {
   "cell_type": "markdown",
   "metadata": {},
   "source": [
    "2. What should we use for the if statement in Section 2?<br>\n",
    "\n",
    "&#9744; `l > L`<br>\n",
    "&#9744; `l > L - 1`<br>\n",
    "&#9744; `l < L`<br>\n",
    "&#9745; `l < L - 1`<br>"
   ]
  },
  {
   "cell_type": "code",
   "execution_count": null,
   "metadata": {},
   "outputs": [],
   "source": []
  }
 ],
 "metadata": {
  "kernelspec": {
   "display_name": "Python 2",
   "language": "python",
   "name": "python2"
  },
  "language_info": {
   "codemirror_mode": {
    "name": "ipython",
    "version": 2
   },
   "file_extension": ".py",
   "mimetype": "text/x-python",
   "name": "python",
   "nbconvert_exporter": "python",
   "pygments_lexer": "ipython2",
   "version": "2.7.15"
  }
 },
 "nbformat": 4,
 "nbformat_minor": 2
}
