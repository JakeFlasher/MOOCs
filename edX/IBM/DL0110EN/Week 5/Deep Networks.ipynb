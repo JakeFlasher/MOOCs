{
 "cells": [
  {
   "cell_type": "markdown",
   "metadata": {},
   "source": [
    "# Dropout"
   ]
  },
  {
   "cell_type": "markdown",
   "metadata": {},
   "source": [
    "Dropout is a popular regularization technique for neural networks. Dropout is a probability that tells us how likely we are to turn off an individual neuron independently. Let's say that we have a probability of 0.2 to turn off a neuron. So, what we're doing is actually calculating the value for the neuron in the forward step. We repeat the process again for the $k$-th iteration. Important to say that PyTorch normalizes the values ($\\frac{1}{1-p}$ in each layer) in the training phase - other methods may do it in the testing phase.\n",
    "\n",
    "<img src=\"images/dropout.svg\" width=\"30%\">"
   ]
  },
  {
   "cell_type": "markdown",
   "metadata": {},
   "source": [
    "## Dropout in PyTorch"
   ]
  },
  {
   "cell_type": "code",
   "execution_count": 1,
   "metadata": {},
   "outputs": [],
   "source": [
    "import torch\n",
    "import torch.nn as nn\n",
    "import torch.nn.functional as F\n",
    "\n",
    "class Net(nn.Module):\n",
    "    def __init__(self, in_size, n_hidden, out_size, p=0):\n",
    "        super(Net, self).__init__()\n",
    "        self.dropout = nn.Dropout(p=p)\n",
    "        self.linear1 = nn.Linear(in_size, n_hidden)\n",
    "        self.linear2 = nn.Linear(n_hidden, n_hidden)\n",
    "        self.linear3 = nn.Linear(n_hidden, out_size)\n",
    "\n",
    "    def forward(self, x):\n",
    "        x = F.relu(self.linear1(x))\n",
    "        x = self.dropout(x)\n",
    "        x = F.relu(self.linear2(x))\n",
    "        x = self.dropout(x)\n",
    "        x = self.linear3(x)\n",
    "        return x"
   ]
  },
  {
   "cell_type": "code",
   "execution_count": 2,
   "metadata": {},
   "outputs": [],
   "source": [
    "# Using nn.Sequential, we have\n",
    "model = torch.nn.Sequential(nn.Linear(1,10),\n",
    "                            nn.Dropout(0.5),\n",
    "                            nn.ReLU(),\n",
    "                            nn.Linear(10,12),\n",
    "                            nn.Dropout(0.5),\n",
    "                            nn.ReLU(),\n",
    "                            nn.Linear(12,1))"
   ]
  },
  {
   "cell_type": "markdown",
   "metadata": {},
   "source": [
    "Using `dropout` we have to set the model to train and then to evaluation, since it normalizes scores in training phase"
   ]
  },
  {
   "cell_type": "code",
   "execution_count": null,
   "metadata": {},
   "outputs": [],
   "source": [
    "# during training phase, set model to train()\n",
    "model.train()\n",
    "for epoch in range(100):\n",
    "    for x, y in trainloader:\n",
    "        yhat = model(x)\n",
    "        loss = criterion(yhat, y)\n",
    "        optimizer.zero_grad()\n",
    "        loss.backward()\n",
    "        optimizer.step()\n",
    "        \n",
    "#then set model to evaluation\n",
    "model.eval()\n",
    "yhat = model(x)"
   ]
  },
  {
   "cell_type": "markdown",
   "metadata": {},
   "source": [
    "# Uniform Distribution"
   ]
  },
  {
   "cell_type": "markdown",
   "metadata": {},
   "source": [
    "Initialize weights based on the following range\n",
    "\n",
    "$$\\frac{1}{-\\sqrt{L_s}}\\ \\ \\ \\text{and}\\ \\ \\ \\frac{1}{\\sqrt{L_s}}$$\n",
    "\n",
    "where $L_s$ is the boundary. This distribution has the following shape"
   ]
  },
  {
   "cell_type": "code",
   "execution_count": 10,
   "metadata": {},
   "outputs": [
    {
     "data": {
      "image/png": "[encoded data removed]",
      "text/plain": [
       "<Figure size 432x288 with 1 Axes>"
      ]
     },
     "metadata": {
      "needs_background": "light"
     },
     "output_type": "display_data"
    }
   ],
   "source": [
    "%matplotlib inline\n",
    "from matplotlib import pyplot as plt\n",
    "import numpy as np\n",
    "\n",
    "X = np.arange(-2, 2, 0.0001)\n",
    "y = []\n",
    "for v in X:\n",
    "    if v <= -0.5 or v >= 0.5:\n",
    "        y.append(0)\n",
    "    else:\n",
    "        y.append(1)\n",
    "plt.plot(X, y, 'r-')\n",
    "plt.show()"
   ]
  },
  {
   "cell_type": "markdown",
   "metadata": {},
   "source": [
    "# Xavier Initialization"
   ]
  },
  {
   "cell_type": "markdown",
   "metadata": {},
   "source": [
    "Initialize weights based on the following range\n",
    "\n",
    "$$\\frac{\\sqrt{6}}{-\\sqrt{L_{out} + L_{in}}}\\ \\ \\ \\text{and}\\ \\ \\ \\frac{\\sqrt{6}}{\\sqrt{L_{out} + L_{in}}}$$\n",
    "\n",
    "where $L_{in}$ is the number of input neurons and $L_{out}$ the number of output neurons in the layer."
   ]
  },
  {
   "cell_type": "code",
   "execution_count": null,
   "metadata": {},
   "outputs": [],
   "source": [
    "# In Pytorch\n",
    "linear = nn.Linear(input_size, output_size)\n",
    "torch.nn.init.xavier_uniform_(linear.weights)"
   ]
  },
  {
   "cell_type": "markdown",
   "metadata": {},
   "source": [
    "# He Initialization"
   ]
  },
  {
   "cell_type": "markdown",
   "metadata": {},
   "source": [
    "It draws samples from a uniform distribution within (-limit, limit) where limit is $\\sqrt{\\frac{6}{n_{in}}}$ with $n_{in}$ is the number of input units in the weight tensor."
   ]
  },
  {
   "cell_type": "code",
   "execution_count": null,
   "metadata": {},
   "outputs": [],
   "source": [
    "# In Pytorch\n",
    "linear = nn.Linear(input_size, output_size)\n",
    "torch.nn.init.kaiming_uniform_(linear.weight, nonlinearity='relu')"
   ]
  },
  {
   "cell_type": "markdown",
   "metadata": {},
   "source": [
    "# Gradient Descent with Momentum"
   ]
  },
  {
   "cell_type": "markdown",
   "metadata": {},
   "source": [
    "Unlike the traditional Gradient Descent that uses only the gradient of the current step to guide the search, Momentum also accumulates the gradient of the past steps to determine what direction to go. In traditional gradient descent, we update weights as:\n",
    "\n",
    "$$w_2 = - \\alpha \\nabla_{w_1}$$\n",
    "\n",
    "where the weights $w_2$ are weights used in the next iteration and $w_1$ are the weights used in the current iteration. In Momentum, we add a variable to the velocity ($v$) and a variable to the coeficient of friction ($\\mu$), which usually is set to 0.5, 0.9 or 0.95. The update using moment becomes:\n",
    "\n",
    "$$v_2 = \\mu v_1 - \\eta \\nabla_{w_1}$$\n",
    "$$w_2 = w_1 + v_2$$\n",
    "\n",
    "In PyTorch, we add a value to the variable `momentum` in the SGD call as:"
   ]
  },
  {
   "cell_type": "code",
   "execution_count": null,
   "metadata": {},
   "outputs": [],
   "source": [
    "optimizer = torch.optim.SGD(model.parameters(), lr=0.1, momentum=0.4)"
   ]
  },
  {
   "cell_type": "markdown",
   "metadata": {},
   "source": [
    "# Batch Normalization"
   ]
  },
  {
   "cell_type": "markdown",
   "metadata": {},
   "source": [
    "We apply batch normalization on the activations before we pass it to the activation function. Consider the following neural network:\n",
    "\n",
    "<img src=\"images/neural_network.svg\" width=\"30%\"/>\n",
    "\n",
    "Suppose we have three neurons in the first hidden layer and four neurons in the second hidden layer in this network. Now let's consider the first layer. In order to apply batch normalization, we calculate the mean and standard deviation or variance for a particular mini batch. We then normalize the outputs, scale and shift them. Finally the output is passed to the activation function. For example, consider our input has the form:\n",
    "\n",
    "$$\\begin{matrix}\n",
    "x_1 \\\\\n",
    "x_2 \\\\\n",
    "x_3 \\\\\n",
    "x_4 \\\\\n",
    "\\end{matrix}\n",
    "\\begin{bmatrix}\n",
    "1 & 3 & 4 & 5 \\\\\n",
    "3 & 4 & 8 & 1 \\\\\n",
    "2 & 3 & 4 & 5 \\\\\n",
    "3 & 3 & 3 & 3 \\\\\n",
    "\\end{bmatrix}\n",
    "$$\n",
    "\n",
    "We calculate the values of $Z^1$ for each neuron ($z_1^1$, $z_2^1$, and $z_3^1$) and obtain the matrix $Z^1$ as:\n",
    "\n",
    "$$\n",
    "\\begin{matrix}\n",
    "x_1 \\\\\n",
    "x_2 \\\\\n",
    "x_3 \\\\\n",
    "x_4 \\\\\n",
    "\\end{matrix}\n",
    "\\begin{bmatrix}\n",
    "1 & 1 & 0 \\\\\n",
    "1 & 0 & 0 \\\\\n",
    "1 & 1 & 1 \\\\\n",
    "1 & 0 & 0 \\\\\n",
    "\\end{bmatrix}\n",
    "$$\n",
    "\n",
    "We than calculate the mean and the standard deviation for all samples. Mean is calculated as\n",
    "\n",
    "$$\\mu_{B,1} = \\frac{1}{M} \\sum_{m=1}^{M} z_m$$\n",
    "\n",
    "Having the mean for the first neuron ($z_1^1$) as\n",
    "\n",
    "$$\\mu_{B,1} = \\frac{1}{4} (1+1+1+1) = 1$$\n",
    "\n",
    "The standard deviation ($\\sigma_{B,1}^2$) is calculated as\n",
    "\n",
    "$$\\sigma_{B,1}^2 = \\frac{1}{M} \\sum_{m=1}^{M} (z_m - \\mu_{B,1})^2$$\n",
    "\n",
    "We repeat this process for all the outputs of the second neuron ($\\mu_{B,2}$ and $\\sigma_{B,2}^2$) and for the third neuron ($\\mu_{B,3}$ and $\\sigma_{B,3}^2$), achieving:\n",
    "\n",
    "$$\n",
    "\\begin{matrix}\n",
    "x_1 \\\\\n",
    "x_2 \\\\\n",
    "x_3 \\\\\n",
    "x_4 \\\\\n",
    "\\mu_B \\\\\n",
    "\\sigma^2_B \\\\\n",
    "\\end{matrix}\n",
    "\\begin{bmatrix}\n",
    "1 & 1 & 0 \\\\\n",
    "1 & 0 & 0 \\\\\n",
    "1 & 1 & 1 \\\\\n",
    "1 & 0 & 0 \\\\\n",
    "1 & 0.5 & 0.25 \\\\\n",
    "0 & 0.25 & 0.1875 \\\\\n",
    "\\end{bmatrix}\n",
    "$$\n",
    "\n",
    "Then, we normalize the outputs with\n",
    "\n",
    "$$ x_1 = \\frac{z_1^1 - \\mu_{B,1}}{\\sqrt{\\sigma^2_{B,1} + \\epsilon}}$$\n",
    "\n",
    "Thus, we have the following normalized matrix considering $\\epsilon=0.0001$:\n",
    "\n",
    "$$\n",
    "\\begin{matrix}\n",
    "x_1 \\\\\n",
    "x_2 \\\\\n",
    "x_3 \\\\\n",
    "x_4 \\\\\n",
    "\\end{matrix}\n",
    "\\begin{bmatrix}\n",
    "1 & 1 & 0 \\\\\n",
    "1 & 0 & 0 \\\\\n",
    "1 & 1 & 1 \\\\\n",
    "1 & 0 & 0 \\\\\n",
    "\\end{bmatrix} \\ \\ \\ \\ \\ \\ \\ \\rightarrow\\ \\ \\ \\ \\ \\ \\  x_n = \\frac{z_n^1 - \\mu_{B,n}}{\\sqrt{\\sigma^2_{B,n} + \\epsilon}}\\ \\ \\ \\ \\ \\ \\  \\rightarrow\\ \\ \\ \\ \\ \\ \\  \\begin{matrix}\n",
    "x_1 \\\\\n",
    "x_2 \\\\\n",
    "x_3 \\\\\n",
    "x_4 \\\\\n",
    "\\end{matrix}\n",
    "\\begin{bmatrix}\n",
    "0 & 1 & -0.6 \\\\\n",
    "0 & -1 & -0.6 \\\\\n",
    "0 & 1 & 1.73 \\\\\n",
    "0 & -1 & -0.6 \\\\\n",
    "\\end{bmatrix}\n",
    "$$\n",
    "\n",
    "We than scale and shift parameters using the following equation\n",
    "\n",
    "$$z^1_n = \\gamma_n^1 z^1_n + \\beta_n^1$$\n",
    "\n",
    "where $\\gamma$ and $\\beta$ are learned in training data. Considering $\\gamma$ and $\\beta$ as\n",
    "\n",
    "$$\n",
    "\\gamma = \\begin{bmatrix}\n",
    "1 \\\\\n",
    "1 \\\\\n",
    "1.67 \\\\\n",
    "\\end{bmatrix}\\ \\ \\ \\ \\ \\ \\ \\ \\ \\beta = \\begin{bmatrix}\n",
    "1 \\\\\n",
    "0 \\\\\n",
    "0 \\\\\n",
    "\\end{bmatrix}\n",
    "$$\n",
    "\n",
    "We get the following scores\n",
    "\n",
    "$$\n",
    "\\begin{matrix}\n",
    "x_1 \\\\\n",
    "x_2 \\\\\n",
    "x_3 \\\\\n",
    "x_4 \\\\\n",
    "\\end{matrix}\n",
    "\\begin{bmatrix}\n",
    "1 & 1 & -1 \\\\\n",
    "1 & -1 & -1 \\\\\n",
    "1 & 1 & 2.9 \\\\\n",
    "1 & -1 & -1 \\\\\n",
    "\\end{bmatrix}\n",
    "$$\n",
    "\n",
    "Then, we repeat the process for the second layer. We calculate the mean and standard deviation, normalize the values, apply a second scale and shift parameter, and then we pass it the activation functions. Next, We repeat the process for the next batch, as we did it for $x_1$. So we have the second batch that we denote the matrix of our tensor $x_2$. We calculate a new mean and standard deviation and normalize it accordingly. In short, we repeat the whole process again. For prediction, we use the pre-computed matrices (i.e., generated with training data) of mean and standard deviation. "
   ]
  },
  {
   "cell_type": "markdown",
   "metadata": {},
   "source": [
    "## Batch Normalization in PyTorch"
   ]
  },
  {
   "cell_type": "code",
   "execution_count": null,
   "metadata": {},
   "outputs": [],
   "source": [
    "class NetBatchNorm(nn.Module):\n",
    "    def __init__(self, in_size, hidden_1, hidden_2, out_size):\n",
    "        super(NetBatchNorm, self).__init__()\n",
    "        self.linear1 = nn.Linear(in_size, hidden_1)\n",
    "        self.linear2 = nn.Linear(hidden_1, hidden_2)\n",
    "        self.linear3 = nn.Linear(hidden_2, out_size)\n",
    "\n",
    "        self.bn1 = nn.BatchNorm1d(hidden_1)\n",
    "        self.bn2 = nn.BatchNorm1d(hidden_2)\n",
    "\n",
    "    def forward(self, x):\n",
    "        x = F.relu(self.bn1(self.linear1(x)))\n",
    "        x = F.relu(self.bn2(self.linear2(x)))\n",
    "        x = self.linear3(x)\n",
    "        return x"
   ]
  }
 ],
 "metadata": {
  "kernelspec": {
   "display_name": "Python 2",
   "language": "python",
   "name": "python2"
  },
  "language_info": {
   "codemirror_mode": {
    "name": "ipython",
    "version": 2
   },
   "file_extension": ".py",
   "mimetype": "text/x-python",
   "name": "python",
   "nbconvert_exporter": "python",
   "pygments_lexer": "ipython2",
   "version": "2.7.15"
  }
 },
 "nbformat": 4,
 "nbformat_minor": 2
}
