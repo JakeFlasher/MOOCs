{
 "cells": [
  {
   "cell_type": "markdown",
   "metadata": {},
   "source": [
    "# 1. Dropout "
   ]
  },
  {
   "cell_type": "markdown",
   "metadata": {},
   "source": [
    "1. What is the purpose of using dropout?<br>\n",
    "\n",
    "&#9745; Reduce the impact of noise or overfitting<br>\n",
    "&#9744; Reduce the computation cost<br>\n",
    "&#9744; Get higher accuracy on the training set<br>\n",
    "&#9744; A method for validating your model"
   ]
  },
  {
   "cell_type": "markdown",
   "metadata": {},
   "source": [
    "2. Which one is the correct sequential function for the same approach?<br>\n",
    "\n",
    "```python\n",
    "class Net(nn.Module):\n",
    "\tdef __init__(self, in_size, n_hidden, out_size, p)\n",
    "\t\tsuper(Net, self).__init__()\n",
    "\t\tself.drop=nn.Dropout(p=p)\n",
    "\t\tself.linear1=nn.Linear(in_size, n_hidden)\n",
    "\t\tself.linear2=nn.Linear(n_hidden, out_size)\n",
    "\tdef forward(self, x):\n",
    "\t\tx=F.relu(self.linear1(x))\n",
    "\t\tx=self.drop(x)\n",
    "\t\tx=self.linear2(x)\n",
    "\t\treturn x\n",
    "```\n",
    "  \n",
    "&#9744; `torch.nn.Sequential(torch.nn.Dropout(p), \n",
    "                       torch.nn.Linear(in_size, n_hidden), \n",
    "                       torch.nn.RelU(), \n",
    "                       torch.nn.Linear(n_hidden, out_size))\n",
    "        `<br>\n",
    "&#9744; `torch.nn.Sequential(torch.nn.Dropout(p), \n",
    "                       torch.nn.Linear(in_size, n_hidden), \n",
    "                       torch.nn.RelU(), \n",
    "                       torch.nn.Linear(n_hidden, out_size), \n",
    "                       torch.nn.RelU())\n",
    "        `<br>\n",
    "&#9745; `torch.nn.Sequential(torch.nn.Linear(in_size, n_hidden), \n",
    "                       torch.nn.Dropout(p), \n",
    "                       torch.nn.RelU(), \n",
    "                       torch.nn.Linear(n_hidden, out_size))\n",
    "        `<br>\n",
    "&#9744; `torch.nn.Sequential(torch.nn.Linear(in_size, n_hidden), \n",
    "                       torch.nn.Dropout(p), \n",
    "                       torch.nn.RelU(), \n",
    "                       torch.nn.Linear(n_hidden, out_size), \n",
    "                       torch.nn.RelU())\n",
    "        `"
   ]
  },
  {
   "cell_type": "markdown",
   "metadata": {},
   "source": [
    "# 2. Initializations"
   ]
  },
  {
   "cell_type": "markdown",
   "metadata": {},
   "source": [
    "1. What do the following lines of code do<br>\n",
    "\n",
    "```python\n",
    "linear=nn.Linear(input_size,output_size)\n",
    "torch.nn.init.xavier_uniform_(linear.weight)\n",
    "```\n",
    "\n",
    "&#9744; Perfroms prediction<br>\n",
    "&#9745; Perfoms Xavier initialization<br>\n",
    "&#9744; Performs He initialization"
   ]
  },
  {
   "cell_type": "markdown",
   "metadata": {},
   "source": [
    "2. What type of initialisation method should you use for Relu<br>\n",
    "\n",
    "&#9744; Default<br>\n",
    "&#9745; He initialization<br>\n",
    "&#9744; Xavier initialization"
   ]
  }
 ],
 "metadata": {
  "kernelspec": {
   "display_name": "Python 2",
   "language": "python",
   "name": "python2"
  },
  "language_info": {
   "codemirror_mode": {
    "name": "ipython",
    "version": 2
   },
   "file_extension": ".py",
   "mimetype": "text/x-python",
   "name": "python",
   "nbconvert_exporter": "python",
   "pygments_lexer": "ipython2",
   "version": "2.7.15"
  }
 },
 "nbformat": 4,
 "nbformat_minor": 2
}
