{
 "cells": [
  {
   "cell_type": "markdown",
   "metadata": {},
   "source": [
    "# 1. What's Convolution?"
   ]
  },
  {
   "cell_type": "markdown",
   "metadata": {},
   "source": [
    "1. One of the purpose of convolution is preserving the special relationship.<br>\n",
    "\n",
    "&#9745; True<br>\n",
    "&#9744; False"
   ]
  },
  {
   "cell_type": "markdown",
   "metadata": {},
   "source": [
    "2. Consider a 3x3 input matrix or Tensor and a 2x2 kernel, after convolution what is the size of the output?\n",
    "\n",
    "**Answer**: \n",
    "\n",
    "size = $\\frac{M-K}{stride}+1$<br>\n",
    "size = $\\frac{3-2}{1}+1$<br>\n",
    "size = 2"
   ]
  },
  {
   "cell_type": "markdown",
   "metadata": {},
   "source": [
    "3. Consider the following code:\n",
    "\n",
    "`nn.Conv2d(in_channels=1, out_channels=1, kernel_size=2, stride=3, padding=1)`\n",
    "\n",
    "How many rows will be padded?\n",
    "\n",
    "**Answer**: 2\n",
    "\n",
    "How many columns will be padded?\n",
    "\n",
    "**Answer**: 2"
   ]
  },
  {
   "cell_type": "markdown",
   "metadata": {},
   "source": [
    "# 2. Multiple Channel Convolution"
   ]
  },
  {
   "cell_type": "markdown",
   "metadata": {},
   "source": [
    "1. After applying the kernels on the input channel, every output is always useful to show the features of the input.<br>\n",
    "\n",
    "&#9744; True<br>\n",
    "&#9745; False"
   ]
  },
  {
   "cell_type": "markdown",
   "metadata": {},
   "source": [
    "2. Consider the following code:<br>\n",
    "\n",
    "`conv = nn.Conv2d(in_channels=2, out_channels=3, kernel_size=3)`\n",
    "\n",
    "How many kernels are there in total?<br>\n",
    "\n",
    "**Answer**: 6"
   ]
  },
  {
   "cell_type": "markdown",
   "metadata": {},
   "source": [
    "# 3. Activation Max Pooling "
   ]
  },
  {
   "cell_type": "markdown",
   "metadata": {},
   "source": [
    "1. Consider the following code:<br>\n",
    "\n",
    "`z = torch.tensor([[1,0,-1],[2,0,-2],[1,0,-1]])`\n",
    "\n",
    "What is the output of `torch.nn.functional.relu(z)`?<br>\n",
    "\n",
    "&#9744; `tensor([[1,0,-1],[2,0,-2],[1,0,-1]])`<br>\n",
    "&#9744; `tensor([[0,0,-1],[0,0,-2],[0,0,-1]])`<br>\n",
    "&#9744; `tensor([[1,0,1],[2,0,2],[1,0,1]])`<br>\n",
    "&#9745; `tensor([[1,0,0],[2,0,0],[1,0,0]])`"
   ]
  },
  {
   "cell_type": "code",
   "execution_count": 2,
   "metadata": {},
   "outputs": [
    {
     "data": {
      "text/plain": [
       "tensor([[1, 0, 0],\n",
       "        [2, 0, 0],\n",
       "        [1, 0, 0]])"
      ]
     },
     "execution_count": 2,
     "metadata": {},
     "output_type": "execute_result"
    }
   ],
   "source": [
    "import torch\n",
    "\n",
    "z = torch.tensor([[1,0,-1],[2,0,-2],[1,0,-1]])\n",
    "a = torch.nn.functional.relu(z)\n",
    "a"
   ]
  },
  {
   "cell_type": "markdown",
   "metadata": {},
   "source": [
    "2. Consider the following code:<br>\n",
    "\n",
    "```python\n",
    "z = torch.tensor([[[1,2,3,-4],[0.0,2.0,-3.0,0],[0,2,3,1],[0,0,0,0]]])\n",
    "max_ = torch.nn.MaxPool2d(2, stride=2)\n",
    "```\n",
    "\n",
    "What is the output of `max_(z)`?<br>\n",
    "\n",
    "&#9744; `tensor([[[[2,3,3],[2,3,3],[2,3,3]]]])`<br>\n",
    "&#9744; `tensor([[[[0,-3,-4],[0,-3,-3],[0,0,0]]]])`<br>\n",
    "&#9745; `tensor([[[2., 3.],[2., 3.]]])`"
   ]
  },
  {
   "cell_type": "code",
   "execution_count": 3,
   "metadata": {},
   "outputs": [
    {
     "data": {
      "text/plain": [
       "tensor([[[2., 3.],\n",
       "         [2., 3.]]])"
      ]
     },
     "execution_count": 3,
     "metadata": {},
     "output_type": "execute_result"
    }
   ],
   "source": [
    "z = torch.tensor([[[1,2,3,-4],[0.0,2.0,-3.0,0],[0,2,3,1],[0,0,0,0]]])\n",
    "max_ = torch.nn.MaxPool2d(2, stride=2)\n",
    "max_(z)"
   ]
  },
  {
   "cell_type": "markdown",
   "metadata": {},
   "source": [
    "# 4. Convolutional Neural Network"
   ]
  },
  {
   "cell_type": "markdown",
   "metadata": {},
   "source": [
    "1. Consider the output layer of a Convolutional Neural Network how many classes are there<br>\n",
    "\n",
    "`self.fc1=nn.Linear(out_2*49,5)`\n",
    "\n",
    "**Answer**: 5"
   ]
  },
  {
   "cell_type": "markdown",
   "metadata": {},
   "source": [
    "2. Consider the output layer of a Convolutional Neural Network, before flattening the activation layer is 8x8 what is the value of $x$<br>\n",
    "\n",
    "`self.fc1=nn.Linear(out_2*x*x, 5)`\n",
    "\n",
    "**Answer**: 8"
   ]
  }
 ],
 "metadata": {
  "kernelspec": {
   "display_name": "Python 2",
   "language": "python",
   "name": "python2"
  },
  "language_info": {
   "codemirror_mode": {
    "name": "ipython",
    "version": 2
   },
   "file_extension": ".py",
   "mimetype": "text/x-python",
   "name": "python",
   "nbconvert_exporter": "python",
   "pygments_lexer": "ipython2",
   "version": "2.7.15"
  }
 },
 "nbformat": 4,
 "nbformat_minor": 2
}
