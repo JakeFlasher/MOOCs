{
 "metadata": {
  "name": "Week 5"
 },
 "nbformat": 3,
 "nbformat_minor": 0,
 "worksheets": [
  {
   "cells": [
    {
     "cell_type": "code",
     "collapsed": false,
     "input": [
      "# An iterative \"Pythonic\" search procedure:\n",
      "\n",
      "def search(list, element):\n",
      "    for e in list:\n",
      "        if e == element: \n",
      "            return True\n",
      "    return False\n",
      "\n",
      "# The recursive way:\n",
      "\n",
      "def rSearch(list,element):\n",
      "    if element == list[0]:\n",
      "        return True\n",
      "    if len(list) == 1:\n",
      "        return False\n",
      "    return rSearch(list[1:],element)\n",
      "\n",
      "# A recursive \"Pythonic\" binary search procedure:\n",
      "\n",
      "def rBinarySearch(list,element):\n",
      "    if len(list) == 1:\n",
      "        return element == list[0]\n",
      "    mid = len(list)/2\n",
      "    if list[mid] > element:\n",
      "        return rBinarySearch( list[ : mid] , element )\n",
      "    if list[mid] < element:\n",
      "        return rBinarySearch( list[mid : ] , element)\n",
      "    return True"
     ],
     "language": "python",
     "metadata": {},
     "outputs": []
    },
    {
     "cell_type": "code",
     "collapsed": false,
     "input": [
      "# L10 PROBLEM 2  (1 point possible)\n",
      "# ESTIMATED TIME TO COMPLETE: 5 minutes\n",
      "#\n",
      "# In lecture, we saw a version of linear search that used the fact that a set of elements is sorted in increasing order. \n",
      "# Here is the code from lecture:\n",
      "\n",
      "def search(L, e):\n",
      "    for i in range(len(L)):\n",
      "        if L[i] == e:\n",
      "            return True\n",
      "        if L[i] > e:\n",
      "            return False\n",
      "    return False\n",
      "\n",
      "# Consider the following code, which is an alternative version of search.\n",
      "\n",
      "def search1(L, e):\n",
      "    for i in L:\n",
      "        if i == e:\n",
      "            return True\n",
      "        if i > e:\n",
      "            return False\n",
      "    return False\n"
     ],
     "language": "python",
     "metadata": {},
     "outputs": []
    },
    {
     "cell_type": "code",
     "collapsed": false,
     "input": [
      "# PROBLEM 6-1  (1 point possible)\n",
      "# Answer the questions below based on the following sorting function. If it helps, you may paste the code in your \n",
      "# programming environment. Study the output to make sure you understand the way it sorts.\n",
      "     \n",
      "def swapSort(L): \n",
      "    \"\"\" L is a list on integers \"\"\"\n",
      "    print \"Original L: \", L\n",
      "    for i in range(len(L)):\n",
      "        for j in range(i+1, len(L)):\n",
      "            if L[j] < L[i]:\n",
      "                # the next line is a short \n",
      "                # form for swap L[i] and L[j]\n",
      "                L[j], L[i] = L[i], L[j] \n",
      "                print L\n",
      "    print \"Final L: \", L\n",
      "    \n",
      "L = [5,4,3,2,1]\n",
      "print swapSort(L)\n",
      "      \n",
      "# Does this function sort the list in increasing or decreasing order? (items at lower indices being smaller means it \n",
      "# sorts in increasing order, and vice versa)\n"
     ],
     "language": "python",
     "metadata": {},
     "outputs": [
      {
       "output_type": "stream",
       "stream": "stdout",
       "text": [
        "Original L:  [5, 4, 3, 2, 1]\n",
        "[4, 5, 3, 2, 1]\n",
        "[3, 5, 4, 2, 1]\n",
        "[2, 5, 4, 3, 1]\n",
        "[1, 5, 4, 3, 2]\n",
        "[1, 4, 5, 3, 2]\n",
        "[1, 3, 5, 4, 2]\n",
        "[1, 2, 5, 4, 3]\n",
        "[1, 2, 4, 5, 3]\n",
        "[1, 2, 3, 5, 4]\n",
        "[1, 2, 3, 4, 5]\n",
        "Final L:  [1, 2, 3, 4, 5]\n",
        "None\n"
       ]
      }
     ],
     "prompt_number": 2
    },
    {
     "cell_type": "code",
     "collapsed": false,
     "input": [
      "# PROBLEM 6-3  (1 point possible)\n",
      "# If we make a small change to the line for j in range(i+1, len(L)): such that the code becomes:\n",
      "      \n",
      "def modSwapSort(L): \n",
      "    \"\"\" L is a list on integers \"\"\"\n",
      "    print \"Original L: \", L\n",
      "    for i in range(len(L)):\n",
      "        for j in range(len(L)):\n",
      "            if L[j] < L[i]:\n",
      "                # the next line is a short \n",
      "                # form for swap L[i] and L[j]\n",
      "                L[j], L[i] = L[i], L[j] \n",
      "                print L\n",
      "    print \"Final L: \", L\n",
      "  \n",
      "L = [5,4,3,2,1]\n",
      "L = [1,2,10]\n",
      "print modSwapSort(L)\n",
      "# What happens to the behavior of swapSort with this new code?\n"
     ],
     "language": "python",
     "metadata": {},
     "outputs": [
      {
       "output_type": "stream",
       "stream": "stdout",
       "text": [
        "Original L:  [1, 2, 10]\n",
        "[2, 1, 10]\n",
        "[10, 1, 2]\n",
        "[10, 2, 1]\n",
        "Final L:  [10, 2, 1]\n",
        "None\n"
       ]
      }
     ],
     "prompt_number": 7
    },
    {
     "cell_type": "code",
     "collapsed": false,
     "input": [],
     "language": "python",
     "metadata": {},
     "outputs": []
    }
   ],
   "metadata": {}
  }
 ]
}