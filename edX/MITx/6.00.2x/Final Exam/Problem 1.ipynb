{
 "cells": [
  {
   "cell_type": "code",
   "execution_count": 1,
   "metadata": {
    "collapsed": true
   },
   "outputs": [],
   "source": [
    "# Print a normal distribution\n",
    "%matplotlib inline\n",
    "import random, pylab\n",
    "\n",
    "#set line width\n",
    "pylab.rcParams['lines.linewidth'] = 6\n",
    "#set font size for titles \n",
    "pylab.rcParams['axes.titlesize'] = 20\n",
    "#set font size for labels on axes\n",
    "pylab.rcParams['axes.labelsize'] = 20\n",
    "#set size of numbers on x-axis\n",
    "pylab.rcParams['xtick.major.size'] = 5\n",
    "#set size of numbers on y-axis\n",
    "pylab.rcParams['ytick.major.size'] = 5"
   ]
  },
  {
   "cell_type": "markdown",
   "metadata": {},
   "source": [
    "## Problem 1-5\n",
    "\n",
    "(1 point possible)<br>\n",
    "A bimodal distribution is a probability distribution with two different modes. For example, exam grades can be bimodal when the students can be classified into one of two groups: either they understand the material or they understand less than half the material. A distribution made up of two normal distributions with equal standard deviations is noticeably bimodal if the means of each distribution are separated by at least 2 standard deviations.\n",
    "\n",
    "The following line of python code will produce a bimodal distribution if called repeatedly:\n",
    "\n",
    "```python\n",
    "random.gauss( 50,10) + random.gauss( 70, 10 )\n",
    "```"
   ]
  },
  {
   "cell_type": "code",
   "execution_count": 5,
   "metadata": {
    "collapsed": false
   },
   "outputs": [
    {
     "data": {
      "image/png": "[encoded data removed]",
      "text/plain": [
       "<matplotlib.figure.Figure at 0x7f1a5914df50>"
      ]
     },
     "metadata": {},
     "output_type": "display_data"
    }
   ],
   "source": [
    "def run_tries(nb_tries):\n",
    "    acc = []\n",
    "    for t in range(nb_tries):\n",
    "        acc.append(random.gauss(50,10) + random.gauss(70, 10))\n",
    "    return acc\n",
    "\n",
    "tries = run_tries(10000)\n",
    "pylab.hist(tries, bins = 100)\n",
    "pylab.show()"
   ]
  },
  {
   "cell_type": "code",
   "execution_count": null,
   "metadata": {
    "collapsed": true
   },
   "outputs": [],
   "source": []
  }
 ],
 "metadata": {
  "kernelspec": {
   "display_name": "Python 2",
   "language": "python",
   "name": "python2"
  },
  "language_info": {
   "codemirror_mode": {
    "name": "ipython",
    "version": 2
   },
   "file_extension": ".py",
   "mimetype": "text/x-python",
   "name": "python",
   "nbconvert_exporter": "python",
   "pygments_lexer": "ipython2",
   "version": "2.7.11"
  }
 },
 "nbformat": 4,
 "nbformat_minor": 0
}
