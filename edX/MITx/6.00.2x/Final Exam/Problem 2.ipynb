{
 "cells": [
  {
   "cell_type": "code",
   "execution_count": 16,
   "metadata": {
    "collapsed": true
   },
   "outputs": [],
   "source": [
    "# Print a normal distribution\n",
    "%matplotlib inline\n",
    "import random, pylab\n",
    "import numpy as np\n",
    "\n",
    "#set line width\n",
    "pylab.rcParams['lines.linewidth'] = 4\n",
    "#set font size for titles \n",
    "pylab.rcParams['axes.titlesize'] = 20\n",
    "#set font size for labels on axes\n",
    "pylab.rcParams['axes.labelsize'] = 20\n",
    "#set size of numbers on x-axis\n",
    "pylab.rcParams['xtick.major.size'] = 5\n",
    "#set size of numbers on y-axis\n",
    "pylab.rcParams['ytick.major.size'] = 5"
   ]
  },
  {
   "cell_type": "markdown",
   "metadata": {},
   "source": [
    "## Problem 2-1\n",
    "\n",
    "(5 points possible)<br>\n",
    "What does the following code print? Assume Pylab's estimation code is perfect - that is, if you calculate that it would print `0.25`, type `0.25` into the box rather than something like `0.24999999999`. You may type in strings with or without quotes and separate the numbers by a space.\n",
    "\n",
    "```python\n",
    "a = 1.0\n",
    "b = 2.0\n",
    "c = 4.0\n",
    "yVals = []\n",
    "xVals = range(-20, 20)\n",
    "for x in xVals:\n",
    "    yVals.append(a*x**2 + b*x + c)\n",
    "yVals = 2*pylab.array(yVals)\n",
    "xVals = pylab.array(xVals)\n",
    "try:\n",
    "    a, b, c, d = pylab.polyfit(xVals, yVals, 3)\n",
    "    print a, b, c, d\n",
    "except:\n",
    "    print 'fell to here'\n",
    "```"
   ]
  },
  {
   "cell_type": "code",
   "execution_count": 19,
   "metadata": {
    "collapsed": false
   },
   "outputs": [
    {
     "name": "stdout",
     "output_type": "stream",
     "text": [
      "9.82641359965e-18 2.0 4.0 8.0\n"
     ]
    },
    {
     "data": {
      "image/png": "[encoded data removed]",
      "text/plain": [
       "<matplotlib.figure.Figure at 0x7fa8d8e8c350>"
      ]
     },
     "metadata": {},
     "output_type": "display_data"
    }
   ],
   "source": [
    "a = 1.0\n",
    "b = 2.0\n",
    "c = 4.0\n",
    "yVals = []\n",
    "xVals = range(-20, 20)\n",
    "\n",
    "for x in xVals:\n",
    "    yVals.append(a*x**2 + b*x + c)\n",
    "\n",
    "yVals = 2*pylab.array(yVals)\n",
    "xVals = pylab.array(xVals)\n",
    "\n",
    "pylab.plot(xVals, yVals)\n",
    "\n",
    "try:\n",
    "    # returns the coefficients for a polynomial p(x) of degree n=3 that is a best fit\n",
    "    a, b, c, d = pylab.polyfit(xVals, yVals, 3) #identify X of a curve\n",
    "    print a, b, c, d\n",
    "except:\n",
    "    print 'fell to here'\n",
    "\n",
    "# verify the curve\n",
    "\n",
    "newYVals = []\n",
    "for x in xVals:\n",
    "    newYVals.append(a*x**3 + b*x**2 + c*x + d)\n",
    "\n",
    "newYVals = pylab.array(newYVals)\n",
    "pylab.plot(xVals, newYVals)\n",
    "pylab.show()\n"
   ]
  },
  {
   "cell_type": "markdown",
   "metadata": {},
   "source": [
    "## Problem 2-2\n",
    "\n",
    "(1 point possible)<br>\n",
    "Consider the following sets of measurements and answer the following 3 questions:\n",
    "\n",
    "```python\n",
    "A = [0,1,2,3,4,5,6,7,8]\n",
    "B = [5,10,10,10,15]\n",
    "C = [0,1,2,4,6,8]\n",
    "D = [6,7,11,12,13,15]\n",
    "E = [9,0,0,3,3,3,6,6]\n",
    "```\n",
    "\n",
    "Select the two lists that have the same mean and variance."
   ]
  },
  {
   "cell_type": "code",
   "execution_count": 24,
   "metadata": {
    "collapsed": false
   },
   "outputs": [
    {
     "name": "stdout",
     "output_type": "stream",
     "text": [
      "Mean\n",
      "A: 4.0\n",
      "B: 10.0\n",
      "C: 3.5\n",
      "D: 10.6666666667\n",
      "E: 3.75\n",
      "\n",
      "Variances\n",
      "A: 6.66666666667\n",
      "B: 10.0\n",
      "C: 7.91666666667\n",
      "D: 10.2222222222\n",
      "E: 8.4375\n"
     ]
    }
   ],
   "source": [
    "A = np.array([0,1,2,3,4,5,6,7,8])\n",
    "B = np.array([5,10,10,10,15])\n",
    "C = np.array([0,1,2,4,6,8])\n",
    "D = np.array([6,7,11,12,13,15])\n",
    "E = np.array([9,0,0,3,3,3,6,6])\n",
    "\n",
    "print 'Mean'\n",
    "print 'A:', np.mean(A)\n",
    "print 'B:', np.mean(B)\n",
    "print 'C:', np.mean(C)\n",
    "print 'D:', np.mean(D)\n",
    "print 'E:', np.mean(E)\n",
    "print\n",
    "print 'Variances'\n",
    "print 'A:', np.var(A)\n",
    "print 'B:', np.var(B)\n",
    "print 'C:', np.var(C)\n",
    "print 'D:', np.var(D)\n",
    "print 'E:', np.var(E)\n",
    "\n"
   ]
  },
  {
   "cell_type": "markdown",
   "metadata": {},
   "source": [
    "## Problem 2-3\n",
    "\n",
    "(1 point possible)<br>\n",
    "Consider following Python functions:\n",
    "\n",
    "```python\n",
    "def possible_mean(L):\n",
    "    return sum(L)/len(L)\n",
    "\n",
    "def possible_variance(L):\n",
    "    mu = possible_mean(L)\n",
    "    temp = 0\n",
    "    for e in L:\n",
    "        temp += (e-mu)**2\n",
    "    return temp / len(L)\n",
    "```\n",
    "\n",
    "Select the two lists that return the same values when passed into the possible_variance function that is defined above.\n",
    "\n"
   ]
  },
  {
   "cell_type": "code",
   "execution_count": 30,
   "metadata": {
    "collapsed": false
   },
   "outputs": [
    {
     "name": "stdout",
     "output_type": "stream",
     "text": [
      "A: 6\n",
      "B: 10\n",
      "C: 8\n",
      "D: 10\n",
      "E: 9\n"
     ]
    }
   ],
   "source": [
    "def possible_mean(L):\n",
    "    return sum(L)/len(L)\n",
    "\n",
    "def possible_variance(L):\n",
    "    mu = possible_mean(L)\n",
    "    temp = 0\n",
    "    for e in L:\n",
    "        temp += (e-mu)**2\n",
    "    return temp / len(L)\n",
    "\n",
    "A = np.array([0,1,2,3,4,5,6,7,8])\n",
    "B = np.array([5,10,10,10,15])\n",
    "C = np.array([0,1,2,4,6,8])\n",
    "D = np.array([6,7,11,12,13,15])\n",
    "E = np.array([9,0,0,3,3,3,6,6])\n",
    "\n",
    "print 'A:', possible_variance(A)\n",
    "print 'B:', possible_variance(B)\n",
    "print 'C:', possible_variance(C)\n",
    "print 'D:', possible_variance(D)\n",
    "print 'E:', possible_variance(E)"
   ]
  },
  {
   "cell_type": "code",
   "execution_count": null,
   "metadata": {
    "collapsed": true
   },
   "outputs": [],
   "source": []
  }
 ],
 "metadata": {
  "kernelspec": {
   "display_name": "Python 2",
   "language": "python",
   "name": "python2"
  },
  "language_info": {
   "codemirror_mode": {
    "name": "ipython",
    "version": 2
   },
   "file_extension": ".py",
   "mimetype": "text/x-python",
   "name": "python",
   "nbconvert_exporter": "python",
   "pygments_lexer": "ipython2",
   "version": "2.7.11"
  }
 },
 "nbformat": 4,
 "nbformat_minor": 0
}
