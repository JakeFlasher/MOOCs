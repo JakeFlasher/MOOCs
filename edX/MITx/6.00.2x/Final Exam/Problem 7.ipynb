{
 "cells": [
  {
   "cell_type": "markdown",
   "metadata": {},
   "source": [
    "# PROBLEM 7\n",
    "\n",
    "Some random graphs have more structure than others. For the graph that represents the internet, nodes are web sites and there is a directed edge from one site, say `x`, to another site, say `y`, whenever site `x` has a link to site `y`. There are a few sites that are massively popular, like Google, Facebook, Twitter, and EdX, that have lots of incoming edges. However, most sites have very few incoming edges.\n",
    "\n",
    "It is interesting to build random graphs that mimic this structure. The best way to do this is to grow the graph. There are `n` nodes and initially no edges. Edges are added at random, but in a non-uniform way.\n",
    "\n",
    "To add in new edges to a graph, first choose a node `x` at random. Then choose another node `y` with a probability proportional to the popularity, or connectedness, of the node. For example, if a node has `k` edges it is twice as likely to be chosen than an node that has $\\frac{k}{2}$ edges. Finally, add the edge from `x` to `y` to the graph.\n",
    "\n",
    "Each node has a set of incoming edges and a set of outgoing edges. Each node has an in-degree, which is the number of incoming edges to the node, and an out-degree, the number of outgoing edges from the node. An edge cannot connect a node to itself and there can be at most one edge from a given `x` to a given `y`.\n",
    "\n",
    "Suppose whenever a new edge—say it is (`x``,y`)-is added, there are three things updated:\n",
    "\n",
    "* node `y` is added as an outgoing edge (or \"out-edge\") of node `x`\n",
    "* node `x` is added as an incoming edge (or \"in-edge\") of node `y`\n",
    "* (`x`,`y`) is added to the list allEdges"
   ]
  },
  {
   "cell_type": "code",
   "execution_count": 1,
   "metadata": {
    "collapsed": false
   },
   "outputs": [],
   "source": [
    "import numpy as np\n",
    "import pylab, random\n",
    "%matplotlib inline\n",
    "\n",
    "class Node(object):\n",
    "    def __init__(self, name):\n",
    "        self.name = str(name)\n",
    "        self.outEdges = []\n",
    "        self.inEdges = []\n",
    "        \n",
    "    def getName(self):\n",
    "        return self.name\n",
    "    \n",
    "    def __str__(self):\n",
    "        return self.name\n",
    "    \n",
    "    \n",
    "class Edge(object):\n",
    "    def __init__(self, src, dest):\n",
    "        self.src = src\n",
    "        self.dest = dest\n",
    "        \n",
    "    def getSource(self):\n",
    "        return self.src\n",
    "    \n",
    "    def getDestination(self):\n",
    "        return self.dest\n",
    "    \n",
    "    def __str__(self):\n",
    "        return str(self.src) + '->' + str(self.dest)\n",
    "\n",
    "        \n",
    "class siteGraph(object):\n",
    "    def __init__(self, n):\n",
    "        self.nodes = []\n",
    "        for i in range(n):\n",
    "            self.nodes.append(Node(i))\n",
    "        self.edges = {}\n",
    "        self.allEdges = []\n",
    "        self.degrees = {}\n",
    "        \n",
    "    def addNode(self, node):\n",
    "        if node in self.nodes:\n",
    "            raise ValueError('Duplicate node')\n",
    "        else:\n",
    "            self.nodes.add(node)\n",
    "            self.edges[node] = []\n",
    "            \n",
    "    def _addDegree(self, node):\n",
    "        if self.degrees.has_key(node):\n",
    "            self.degrees[node] += 1\n",
    "        else:\n",
    "            self.degrees[node] = 1\n",
    "            \n",
    "    def addEdges(self, n):\n",
    "        for i in range(n):\n",
    "            node = random.choice(self.nodes)\n",
    "            notAdded = True\n",
    "            while notAdded:\n",
    "                newNode = random.choice(self.nodes)\n",
    "                #print newNode.getName()\n",
    "                if self.edges.has_key(node):\n",
    "                    if not newNode in self.edges[node] and newNode.getName() != node.getName():\n",
    "                        self.edges[node].append(newNode)\n",
    "                        self._addDegree(node)\n",
    "                        self._addDegree(newNode)\n",
    "                        notAdded = False\n",
    "                else:\n",
    "                    self.edges[node] = [newNode]\n",
    "                    self._addDegree(node)\n",
    "                    self._addDegree(newNode)\n",
    "                    notAdded = False\n",
    "                    \n",
    "    def getDegrees(self):\n",
    "        return self.degrees.values()     \n",
    "            \n",
    "    def maxDegree(self):\n",
    "        return np.max(np.array(self.getDegrees()))\n",
    "    \n",
    "    def meanDegree(self):\n",
    "        return np.mean(np.array(self.getDegrees()))\n",
    "                \n",
    "    def meanDegreeVariances(self):\n",
    "        return np.var(np.array(self.getDegrees()))\n",
    "        \n",
    "    def variance(self, c):\n",
    "        sumEls = 0\n",
    "        for el in c:\n",
    "            sumEls += el\n",
    "        mean = float(sumEls)/len(c)\n",
    "        var = 0\n",
    "        for el in c:\n",
    "            var += (mean-el)**2\n",
    "        return var\n",
    "        \n",
    "    \n",
    "    def __str__(self):\n",
    "        res = ''\n",
    "        for k, d in self.allEdges:\n",
    "            res = res + str(k) + '->' + str(d) + '\\n'\n",
    "        return res[:-1]\n"
   ]
  },
  {
   "cell_type": "markdown",
   "metadata": {},
   "source": [
    "## Problem 7-1\n",
    "\n",
    "(1 point possible)<br>\n",
    "Now consider how to write some code to add an edge to a graph G, with all the nodes of G contained in the list G.allNodes and all the edges of G contained in the list G.allEdges. The items in G.allEdges are pairs of nodes, such as (x, y). (x, y) indicates a directed edge from node x to node y.\n",
    "\n",
    "Assume we have built a graph G according to the above rules. Consider the lines of pseudocode:\n",
    "\n",
    "```python\n",
    "z = random.choice(G.allNodes)\n",
    "(x,y) = random.choice(G.allEdges)\n",
    "add new edge z -> y\n",
    "```\n",
    "\n",
    "True or False? The node y is chosen with probability proportional to its popularity.\n",
    "\n",
    "Answer: [True]"
   ]
  },
  {
   "cell_type": "markdown",
   "metadata": {},
   "source": [
    "## Problem 7-2\n",
    "\n",
    "(1 point possible)<br>\n",
    "To avoid selecting a self-edge (an edge from z to z), all edges pointing to z are first removed from allEdges before making the choice.\n",
    "\n",
    "True or False? The following Python expression creates a list of all edges that does not include any edges into node z:\n",
    "\n",
    "```python\n",
    "allEdgesExceptZ = []\n",
    "for (x,y) in G.allEdges:\n",
    "    if y != z:\n",
    "        allEdgesExceptZ.append((x, y))\n",
    "```\n",
    "\n",
    "Answer: [True]"
   ]
  },
  {
   "cell_type": "markdown",
   "metadata": {},
   "source": [
    "## Problem 7-3\n",
    "\n",
    "(1 point possible)<br>\n",
    "The time to construct the list allEdgesExceptZ is $O(E^2)$, where `E` is the number of edges.\n",
    "\n",
    "Answer: [False]<br>\n",
    "The time to construct the list is $O(E)$"
   ]
  },
  {
   "cell_type": "markdown",
   "metadata": {},
   "source": [
    "## Problem 7-4\n",
    "\n",
    "(1 point possible)<br>\n",
    "Consider the following procedure used to initialize a graph with n nodes:\n",
    "\n",
    "```python\n",
    "def initializeGraph(n): # n is an integer, the number of nodes in the graph\n",
    "    G = siteGraph() # Initializes an empty graph, with G.graphNodes set to []\n",
    "    for i in range(n):\n",
    "        G.graphNodes.append(newNode(i)) # newNode takes one parameter, the number of the node\n",
    "    for i in range(n):\n",
    "        x = G.graphNodes[i]\n",
    "        y = G.graphNodes[ (i+1) % n ]\n",
    "        x.addOutEdge(y)\n",
    "        y.addInEdge(x)\n",
    "        G.allEdges.append((x, y))\n",
    "    return G.graphNodes\n",
    "```\n",
    "\n",
    "True or False? The procedure initializeGraph ensures that there is at least one path between any two nodes in the graph.<br>\n",
    "Answer: [True]<br>\n",
    "* Implementation below"
   ]
  },
  {
   "cell_type": "code",
   "execution_count": 7,
   "metadata": {
    "collapsed": false
   },
   "outputs": [
    {
     "name": "stdout",
     "output_type": "stream",
     "text": [
      "0->1\n",
      "1->2\n",
      "2->3\n",
      "3->4\n",
      "4->5\n",
      "5->6\n",
      "6->0\n"
     ]
    }
   ],
   "source": [
    "def initializeGraph(n): # n is an integer, the number of nodes in the graph\n",
    "    G = siteGraph() # Initializes an empty graph, with G.graphNodes set to []\n",
    "    for i in range(n):\n",
    "        G.graphNodes.append(newNode(i)) # newNode takes one parameter, the number of the node\n",
    "    for i in range(n):\n",
    "        x = G.graphNodes[i]\n",
    "        y = G.graphNodes[ (i+1) % n ]\n",
    "        x.addOutEdge(y)\n",
    "        y.addInEdge(x)\n",
    "        G.allEdges.append((x, y))\n",
    "    return G #G.graphNodes\n",
    "\n",
    "g = initializeGraph(7)\n",
    "print g"
   ]
  },
  {
   "cell_type": "markdown",
   "metadata": {},
   "source": [
    "## Problem 7-5\n",
    "\n",
    "(4 points possible)<br>\n",
    "Assume a random power-graph is created using the procedures explained above with 100 nodes. The following values are computed and plotted as a function of the number of edges, according to the following code:\n",
    "\n",
    "```python\n",
    "maxDegrees, meanDegrees, meanDegreeVariances, meanShortestPaths = [],[],[],[]\n",
    "graph = initializeGraph(n) \n",
    "for nEdges in range(n, n*n, n*n/10 ):\n",
    "   graph.addEdges(nEdges)\n",
    "   maxDegrees.append(graph.maxDegree())\n",
    "   meanDegrees.append(graph.meanDegree())\n",
    "   meanDegreeVariances.append(graph.meanDegreeVariances())\n",
    "   meanShortestPaths.append(graph.meanShortestPath())\n",
    "```\n",
    "\n",
    "For each of the following plots, indicate which list was used to generate the plot:\n",
    "<img src=\"imgs/images_MysteryPlot1.jpeg\", width=\"40%\"/>\n",
    "Answer: \n",
    "\n",
    "<img src=\"imgs/images_MysteryPlot2.jpeg\", width=\"40%\"/>\n",
    "Answer: \n",
    "\n",
    "<img src=\"imgs/images_MysteryPlot3.jpeg\", width=\"40%\"/>\n",
    "Answer: \n",
    "\n",
    "<img src=\"imgs/images_MysteryPlot4.jpeg\", width=\"40%\"/>\n",
    "Answer: \n"
   ]
  },
  {
   "cell_type": "code",
   "execution_count": 31,
   "metadata": {
    "collapsed": false
   },
   "outputs": [],
   "source": [
    "n = 35\n",
    "maxDegrees, meanDegrees, meanDegreeVariances, meanShortestPaths = [],[],[],[]\n",
    "graph = siteGraph(100) \n",
    "for nEdges in range(200):\n",
    "    graph.addEdges(n)\n",
    "    maxDegrees.append(graph.maxDegree())\n",
    "    meanDegrees.append(graph.meanDegree())\n",
    "    meanDegreeVariances.append(graph.meanDegreeVariances())\n",
    "    #meanShortestPaths.append(graph.meanShortestPath())"
   ]
  },
  {
   "cell_type": "code",
   "execution_count": 27,
   "metadata": {
    "collapsed": false
   },
   "outputs": [
    {
     "data": {
      "image/png": "[encoded data removed]",
      "text/plain": [
       "<matplotlib.figure.Figure at 0x7fed3dabe950>"
      ]
     },
     "metadata": {},
     "output_type": "display_data"
    }
   ],
   "source": [
    "# Max degree\n",
    "x = range(200)\n",
    "pylab.plot(x, maxDegrees)\n",
    "pylab.show()"
   ]
  },
  {
   "cell_type": "code",
   "execution_count": 28,
   "metadata": {
    "collapsed": false
   },
   "outputs": [
    {
     "data": {
      "image/png": "[encoded data removed]",
      "text/plain": [
       "<matplotlib.figure.Figure at 0x7fed3dad8550>"
      ]
     },
     "metadata": {},
     "output_type": "display_data"
    }
   ],
   "source": [
    "x = range(200)\n",
    "pylab.plot(x, meanDegrees)\n",
    "pylab.show()"
   ]
  },
  {
   "cell_type": "code",
   "execution_count": 32,
   "metadata": {
    "collapsed": false
   },
   "outputs": [
    {
     "data": {
      "image/png": "[encoded data removed]",
      "text/plain": [
       "<matplotlib.figure.Figure at 0x7fed3dad8350>"
      ]
     },
     "metadata": {},
     "output_type": "display_data"
    }
   ],
   "source": [
    "x = range(200)\n",
    "pylab.plot(x, meanDegreeVariances)\n",
    "pylab.show()"
   ]
  },
  {
   "cell_type": "code",
   "execution_count": null,
   "metadata": {
    "collapsed": true
   },
   "outputs": [],
   "source": []
  }
 ],
 "metadata": {
  "kernelspec": {
   "display_name": "Python 2",
   "language": "python",
   "name": "python2"
  },
  "language_info": {
   "codemirror_mode": {
    "name": "ipython",
    "version": 2
   },
   "file_extension": ".py",
   "mimetype": "text/x-python",
   "name": "python",
   "nbconvert_exporter": "python",
   "pygments_lexer": "ipython2",
   "version": "2.7.11"
  }
 },
 "nbformat": 4,
 "nbformat_minor": 0
}
