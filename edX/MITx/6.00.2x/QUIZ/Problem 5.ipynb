{
 "cells": [
  {
   "cell_type": "markdown",
   "metadata": {},
   "source": [
    "## Problem 5-1\n",
    "\n",
    "(4 points possible)<br>\n",
    "You have a bucket with 4 red balls and 4 green balls. You draw 3 balls out of the bucket. Assume that once you draw a ball out of the bucket, **you don't replace** it. What is the probability of drawing 3 balls of the same color?\n",
    "\n",
    "As in the finger exercise problems from Lecture 3, answer the question in reduced fraction form - eg 1/5 instead of 2/10."
   ]
  },
  {
   "cell_type": "markdown",
   "metadata": {},
   "source": [
    "Probability of taking a red ball out of the 8 balls:\n",
    "\n",
    "$$P(red_1) = \\frac{4}{8} = \\frac{1}{2} $$\n",
    "\n",
    "Now we have 4 green balls and 3 red balls, then the probability of taking a red ball out of 7 balls:\n",
    "\n",
    "$$P(red_2) = \\frac{3}{7} $$\n",
    "\n",
    "Now we have 4 green balls and 2 red balls, then the probability of taking a red ball out of 6 balls:\n",
    "\n",
    "$$P(red_3) = \\frac{2}{6} = \\frac{1}{3} $$\n",
    "\n",
    "Thus, the probability of taking the three red balls is equal to:\n",
    "\n",
    "$$P(red_1,red_2,red_3) = \\frac{1}{2} \\times \\frac{3}{7} \\times \\frac{1}{3} = \\frac{3}{42} = \\frac{1}{14} $$\n",
    "\n",
    "Now the probability of having 3 equal balls must be the sum of the probabilities to the red balls and the green balls:\n",
    "\n",
    "$$P(3_{equal}) = P(red_1,red_2,red_3) + P(green_1,green_2,green_3) $$\n",
    "\n",
    "As the probability of having green balls is equal to the one of having red balls:\n",
    "\n",
    "$$P(3_{equal}) = \\frac{1}{14} + \\frac{1}{14} = \\frac{2}{14} = \\frac{1}{7} $$"
   ]
  },
  {
   "cell_type": "markdown",
   "metadata": {},
   "source": [
    "## Problem 5-2\n",
    "\n",
    "(16/16 points)<br>\n",
    "Write a Monte Carlo simulation to solve the above problem. Feel free to write a helper function if you wish.\n",
    "\n",
    "```python\n",
    "def drawing_without_replacement_sim(numTrials):\n",
    "    '''\n",
    "    Runs numTrials trials of a Monte Carlo simulation\n",
    "    of drawing 3 balls out of a bucket containing\n",
    "    4 red and 4 green balls. Balls are not replaced once\n",
    "    drawn. Returns a float - the fraction of times 3 \n",
    "    balls of the same color were drawn in the first 3 draws.\n",
    "    '''\n",
    "    # Your code here\n",
    "```\n",
    "\n",
    "Paste your entire function (including the definition) in the box.\n",
    "\n",
    "Restrictions:\n",
    "\n",
    "Do not import or use functions or methods from pylab, numpy, or matplotlib.\n",
    "Do not leave any debugging print statements when you paste your code in the box.\n",
    "For this question, you will not be able to see the test cases we run. This problem will test your ability to come up with your own test cases."
   ]
  },
  {
   "cell_type": "code",
   "execution_count": 15,
   "metadata": {
    "collapsed": false
   },
   "outputs": [
    {
     "data": {
      "text/plain": [
       "0.14467"
      ]
     },
     "execution_count": 15,
     "metadata": {},
     "output_type": "execute_result"
    }
   ],
   "source": [
    "import random\n",
    "\n",
    "def drawing_without_replacement_sim(numTrials):\n",
    "    '''\n",
    "    Runs numTrials trials of a Monte Carlo simulation\n",
    "    of drawing 3 balls out of a bucket containing\n",
    "    4 red and 4 green balls. Balls are not replaced once\n",
    "    drawn. Returns a float - the fraction of times 3 \n",
    "    balls of the same color were drawn in the first 3 draws.\n",
    "    '''\n",
    "    counter = 0\n",
    "    for i in range(numTrials):\n",
    "        balls = ['r', 'r', 'r', 'r', 'g', 'g', 'g', 'g']\n",
    "        picked = []\n",
    "        for a in range(3):\n",
    "            ball = random.choice(balls)\n",
    "            picked.append(ball)\n",
    "            balls.remove(ball)\n",
    "        if picked[0] == picked[1] == picked[2]:\n",
    "            counter += 1\n",
    "    return float(counter)/numTrials   \n",
    "\n",
    "drawing_without_replacement_sim(100000)"
   ]
  },
  {
   "cell_type": "code",
   "execution_count": null,
   "metadata": {
    "collapsed": true
   },
   "outputs": [],
   "source": []
  }
 ],
 "metadata": {
  "kernelspec": {
   "display_name": "Python 2",
   "language": "python",
   "name": "python2"
  },
  "language_info": {
   "codemirror_mode": {
    "name": "ipython",
    "version": 2
   },
   "file_extension": ".py",
   "mimetype": "text/x-python",
   "name": "python",
   "nbconvert_exporter": "python",
   "pygments_lexer": "ipython2",
   "version": "2.7.11"
  }
 },
 "nbformat": 4,
 "nbformat_minor": 0
}
