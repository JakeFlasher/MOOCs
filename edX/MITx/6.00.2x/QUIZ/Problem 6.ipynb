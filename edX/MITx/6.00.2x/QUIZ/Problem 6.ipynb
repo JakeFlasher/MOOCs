{
 "cells": [
  {
   "cell_type": "markdown",
   "metadata": {},
   "source": [
    "## Problem 6-1\n",
    "\n",
    "(10 points possible)<br>\n",
    "You are given the following function and class and function specifications for the two coding problems on this page (also available in this file, die.py):\n",
    "\n",
    "```python\n",
    "import random, pylab\n",
    "\n",
    "# You are given this function\n",
    "def getMeanAndStd(X):\n",
    "    mean = sum(X)/float(len(X))\n",
    "    tot = 0.0\n",
    "    for x in X:\n",
    "        tot += (x - mean)**2\n",
    "    std = (tot/len(X))**0.5\n",
    "    return mean, std\n",
    "\n",
    "# You are given this class\n",
    "class Die(object):\n",
    "    def __init__(self, valList):\n",
    "        \"\"\" valList is not empty \"\"\"\n",
    "        self.possibleVals = valList[:]\n",
    "    def roll(self):\n",
    "        return random.choice(self.possibleVals)\n",
    "\n",
    "# Implement this -- Coding Part 1 of 2\n",
    "def makeHistogram(values, numBins, xLabel, yLabel, title=None):\n",
    "    \"\"\"\n",
    "      - values, a sequence of numbers\n",
    "      - numBins, a positive int\n",
    "      - xLabel, yLabel, title, are strings\n",
    "      - Produces a histogram of values with numBins bins and the indicated labels\n",
    "        for the x and y axis\n",
    "      - If title is provided by caller, puts that title on the figure and otherwise\n",
    "        does not title the figure\n",
    "    \"\"\"\n",
    "    # TODO\n",
    "    \n",
    "                    \n",
    "# Implement this -- Coding Part 2 of 2\n",
    "def getAverage(die, numRolls, numTrials):\n",
    "    \"\"\"\n",
    "      - die, a Die\n",
    "      - numRolls, numTrials, are positive ints\n",
    "      - Calculates the expected mean value of the longest run of a number\n",
    "        over numTrials runs of numRolls rolls.\n",
    "      - Calls makeHistogram to produce a histogram of the longest runs for all\n",
    "        the trials. There should be 10 bins in the histogram\n",
    "      - Choose appropriate labels for the x and y axes.\n",
    "      - Returns the mean calculated\n",
    "    \"\"\"\n",
    "    # TODO\n",
    "    \n",
    "# One test case\n",
    "print getAverage(Die([1,2,3,4,5,6,6,6,7]), 500, 10000)\n",
    "```\n",
    "\n",
    "Write a function called makeHistogram(values, numBins, xLabel, yLabel, title=None), with the following specification:\n",
    "\n",
    "```python\n",
    "def makeHistogram(values, numBins, xLabel, yLabel, title=None):\n",
    "    \"\"\"\n",
    "      - values, a list of numbers\n",
    "      - numBins, a positive int\n",
    "      - xLabel, yLabel, title, are strings\n",
    "      - Produces a histogram of values with numBins bins and the indicated labels\n",
    "        for the x and y axes\n",
    "      - If title is provided by caller, puts that title on the figure and otherwise\n",
    "        does not title the figure\n",
    "    \"\"\"\n",
    "    Paste your entire function (including the definition) in the box.\n",
    "```\n",
    "\n",
    "Restrictions:\n",
    "\n",
    "Do not paste import pylab in the box.\n",
    "You should only be using the pylab.hist, pylab.title, pylab.xlabel, pylab.ylabel, pylab.show functions from the pylab module.\n",
    "Do not leave any debugging print statements when you paste your code in the box."
   ]
  },
  {
   "cell_type": "code",
   "execution_count": 4,
   "metadata": {
    "collapsed": true
   },
   "outputs": [],
   "source": [
    "import random, pylab\n",
    "%matplotlib inline\n",
    "\n",
    "# You are given this function\n",
    "def getMeanAndStd(X):\n",
    "    mean = sum(X)/float(len(X))\n",
    "    tot = 0.0\n",
    "    for x in X:\n",
    "        tot += (x - mean)**2\n",
    "    std = (tot/len(X))**0.5\n",
    "    return mean, std\n",
    "\n",
    "# You are given this class\n",
    "class Die(object):\n",
    "    def __init__(self, valList):\n",
    "        \"\"\" valList is not empty \"\"\"\n",
    "        self.possibleVals = valList[:]\n",
    "    def roll(self):\n",
    "        return random.choice(self.possibleVals)"
   ]
  },
  {
   "cell_type": "code",
   "execution_count": 5,
   "metadata": {
    "collapsed": false
   },
   "outputs": [
    {
     "data": {
      "image/png": "[encoded data removed]",
      "text/plain": [
       "<matplotlib.figure.Figure at 0x3c1b710>"
      ]
     },
     "metadata": {},
     "output_type": "display_data"
    }
   ],
   "source": [
    "# Implement this -- Coding Part 1 of 2\n",
    "def makeHistogram(values, numBins, xLabel, yLabel, title=None):\n",
    "    \"\"\"\n",
    "      - values, a sequence of numbers\n",
    "      - numBins, a positive int\n",
    "      - xLabel, yLabel, title, are strings\n",
    "      - Produces a histogram of values with numBins bins and the indicated labels\n",
    "        for the x and y axis\n",
    "      - If title is provided by caller, puts that title on the figure and otherwise\n",
    "        does not title the figure\n",
    "    \"\"\"\n",
    "    pylab.hist(values, bins=numBins)\n",
    "    if title:\n",
    "        pylab.title(title)\n",
    "    pylab.xlabel(xLabel)\n",
    "    pylab.ylabel(yLabel)\n",
    "    pylab.show()\n",
    "    \n",
    "\n",
    "makeHistogram([1,2,3,4,5,6,6,6,7], 5, \"X-Label\", \"Y-Label\", title=\"My title\")"
   ]
  },
  {
   "cell_type": "markdown",
   "metadata": {},
   "source": [
    "## Problem 6-2\n",
    "\n",
    "(20 points possible)<br>\n",
    "Write a function called getAverage(die, numRolls, numTrials), with the following specification:\n",
    "\n",
    "```python\n",
    "def getAverage(die, numRolls, numTrials):\n",
    "    \"\"\"\n",
    "      - die, a Die\n",
    "      - numRolls, numTrials, are positive ints\n",
    "      - Calculates the expected mean value of the longest run of a number\n",
    "        over numTrials runs of numRolls rolls.\n",
    "      - Calls makeHistogram to produce a histogram of the longest runs for all\n",
    "        the trials. There should be 10 bins in the histogram\n",
    "      - Choose appropriate labels for the x and y axes.\n",
    "      - Returns the mean calculated\n",
    "    \"\"\"\n",
    "```\n",
    "\n",
    "A run of numbers counts the number of times the same dice value shows up in consecutive rolls. For example:\n",
    "\n",
    "a dice roll of 1 4 3 has a longest run of 1<br>\n",
    "a dice roll of 1 3 3 2 has a longest run of 2<br>\n",
    "a dice roll of 5 4 4 4 5 5 2 5 has a longest run of 3<br>\n",
    "When this function is called with the test case given in the file, it will return 5.312. Your simulation may give slightly different values.\n",
    "\n",
    "Paste your entire function (including the definition) in the box.\n",
    "\n",
    "Restrictions:\n",
    "\n",
    "Do not import or use functions or methods from pylab, numpy, or matplotlib.\n",
    "Do not leave any debugging print statements when you paste your code in the box.\n",
    "If you do not see the return value being printed when testing your function, close the histogram window."
   ]
  },
  {
   "cell_type": "code",
   "execution_count": 8,
   "metadata": {
    "collapsed": false
   },
   "outputs": [
    {
     "data": {
      "image/png": "[encoded data removed]",
      "text/plain": [
       "<matplotlib.figure.Figure at 0x781b320>"
      ]
     },
     "metadata": {},
     "output_type": "display_data"
    },
    {
     "name": "stdout",
     "output_type": "stream",
     "text": [
      "5.3283\n"
     ]
    }
   ],
   "source": [
    "def getLongestRun(values):\n",
    "    if values: \n",
    "        current = values[0]\n",
    "        size = 1\n",
    "        max_size = 1\n",
    "        for elem in values[1:]:\n",
    "            if elem == current:\n",
    "                size += 1\n",
    "                max_size = max(max_size, size)\n",
    "            else:\n",
    "                current = elem\n",
    "                size = 1\n",
    "        return max_size\n",
    "    return 0\n",
    "\n",
    "def getAverage(die, numRolls, numTrials):\n",
    "    \"\"\"\n",
    "      - die, a Die\n",
    "      - numRolls, numTrials, are positive ints\n",
    "      - Calculates the expected mean value of the longest run of a number\n",
    "        over numTrials runs of numRolls rolls.\n",
    "      - Calls makeHistogram to produce a histogram of the longest runs for all\n",
    "        the trials. There should be 10 bins in the histogram\n",
    "      - Choose appropriate labels for the x and y axes.\n",
    "      - Returns the mean calculated\n",
    "    \"\"\"\n",
    "    longest_run = []\n",
    "    for trial in range(numTrials):\n",
    "        values = [die.roll() for _ in range(numRolls)]\n",
    "        longest_run.append(getLongestRun(values))\n",
    "    mean, std = getMeanAndStd(longest_run)\n",
    "    makeHistogram(longest_run, 10, 'longest run size', 'times')\n",
    "    return mean\n",
    "\n",
    "print getAverage(Die([1,2,3,4,5,6,6,6,7]), 500, 10000)"
   ]
  }
 ],
 "metadata": {
  "kernelspec": {
   "display_name": "Python 2",
   "language": "python",
   "name": "python2"
  },
  "language_info": {
   "codemirror_mode": {
    "name": "ipython",
    "version": 2
   },
   "file_extension": ".py",
   "mimetype": "text/x-python",
   "name": "python",
   "nbconvert_exporter": "python",
   "pygments_lexer": "ipython2",
   "version": "2.7.11"
  }
 },
 "nbformat": 4,
 "nbformat_minor": 0
}
