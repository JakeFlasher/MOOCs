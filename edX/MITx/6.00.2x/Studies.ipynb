{
 "cells": [
  {
   "cell_type": "code",
   "execution_count": 1,
   "metadata": {
    "collapsed": false
   },
   "outputs": [],
   "source": [
    "from os.path import join\n",
    "from codecs import open\n",
    "import pylab\n",
    "\n",
    "HOME = '/home/roger/Workspace/edX/MITx/6.00.2x/data'"
   ]
  },
  {
   "cell_type": "code",
   "execution_count": 23,
   "metadata": {
    "collapsed": false
   },
   "outputs": [
    {
     "name": "stdout",
     "output_type": "stream",
     "text": [
      "Loading word list from file...\n",
      "   83667 words loaded.\n"
     ]
    },
    {
     "data": {
      "image/png": "[encoded data removed]"
     },
     "metadata": {},
     "output_type": "display_data"
    }
   ],
   "source": [
    "import pylab\n",
    "\n",
    "# You may have to change this path\n",
    "WORDLIST_FILENAME = \"/home/roger/Workspace/edX/MITx/6.00.2x/L4P5/words.txt\"\n",
    "\n",
    "def loadWords():\n",
    "    \"\"\"\n",
    "    Returns a list of valid words. Words are strings of uppercase letters.\n",
    "    \n",
    "    Depending on the size of the word list, this function may\n",
    "    take a while to finish.\n",
    "    \"\"\"\n",
    "    print \"Loading word list from file...\"\n",
    "    # inFile: file\n",
    "    inFile = open(WORDLIST_FILENAME, 'r', 0)\n",
    "    # wordList: list of strings\n",
    "    wordList = []\n",
    "    for line in inFile:\n",
    "        wordList.append(line.strip().lower())\n",
    "    print \"  \", len(wordList), \"words loaded.\"\n",
    "    return wordList\n",
    "\n",
    "def labelPlot(numFlips, numTrials, mean, sd):\n",
    "    pylab.title(str(numTrials) + ' trials of '\n",
    "                + str(numFlips) + ' flips each')\n",
    "    pylab.xlabel('Fraction of Heads')\n",
    "    pylab.ylabel('Number of Trials')\n",
    "    xmin, xmax = pylab.xlim()\n",
    "    ymin, ymax = pylab.ylim()\n",
    "    pylab.text(xmin + (xmax-xmin)*0.02, (ymax-ymin)/2,\n",
    "               'Mean = ' + str(round(mean, 4))\n",
    "               + '\\nSD = ' + str(round(sd, 4)))\n",
    "\n",
    "def makePlots(numFlips1, numFlips2, numTrials):\n",
    "    val1, mean1, sd1 = flipSim(numFlips1, numTrials)\n",
    "    pylab.hist(val1, bins = 21)\n",
    "    xmin,xmax = pylab.xlim()\n",
    "    ymin,ymax = pylab.ylim()\n",
    "    labelPlot(numFlips1, numTrials, mean1, sd1)\n",
    "    pylab.figure()\n",
    "    val2, mean2, sd2 = flipSim(numFlips2, numTrials)\n",
    "    pylab.hist(val2, bins = 21)\n",
    "    pylab.xlim(xmin, xmax)\n",
    "    ymin, ymax = pylab.ylim()\n",
    "    labelPlot(numFlips2, numTrials, mean2, sd2)\n",
    "\n",
    "def plotVowelProportionHistogram(wordList, numBins=15):\n",
    "    \"\"\"\n",
    "    Plots a histogram of the proportion of vowels in each word in wordList\n",
    "    using the specified number of bins in numBins\n",
    "    \"\"\"\n",
    "    vowels = 'aeiou'\n",
    "    vowelsProportion = []\n",
    "    for word in wordList:\n",
    "        count = 0\n",
    "        for w in word:\n",
    "            if w in vowels:\n",
    "                count += 1\n",
    "        proportion = float(count)/len(word)\n",
    "        vowelsProportion.append(proportion)\n",
    "\n",
    "    pylab.hist(vowelsProportion, numBins)\n",
    "    pylab.title('Proportion of words containing vowels')\n",
    "    pylab.xlabel('Proportion of Vowels')\n",
    "    pylab.ylabel('Number of Words')\n",
    "    pylab.seed(0)    \n",
    "    pylab.show()\n",
    "    \n",
    "wordList = loadWords()\n",
    "plotVowelProportionHistogram(wordList)"
   ]
  },
  {
   "cell_type": "code",
   "execution_count": 11,
   "metadata": {
    "collapsed": false
   },
   "outputs": [],
   "source": []
  }
 ],
 "metadata": {
  "kernelspec": {
   "display_name": "Python 2",
   "language": "python",
   "name": "python2"
  },
  "language_info": {
   "codemirror_mode": {
    "name": "ipython",
    "version": 2
   },
   "file_extension": ".py",
   "mimetype": "text/x-python",
   "name": "python",
   "nbconvert_exporter": "python",
   "pygments_lexer": "ipython2",
   "version": "2.7.10"
  }
 },
 "nbformat": 4,
 "nbformat_minor": 0
}
