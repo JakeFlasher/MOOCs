{
 "cells": [
  {
   "cell_type": "code",
   "execution_count": 1,
   "metadata": {
    "collapsed": true
   },
   "outputs": [],
   "source": [
    "import string\n",
    "from os.path import join\n",
    "\n",
    "HOME = '/home/roger/Workspace/edX/MITx/6.00.2x/data'"
   ]
  },
  {
   "cell_type": "code",
   "execution_count": 3,
   "metadata": {
    "collapsed": false
   },
   "outputs": [
    {
     "name": "stdout",
     "output_type": "stream",
     "text": [
      "   55900 words loaded.\n"
     ]
    }
   ],
   "source": [
    "PATH_TO_FILE = join(HOME, 'words.txt')\n",
    "\n",
    "def loadWords():\n",
    "    inFile = open(PATH_TO_FILE, 'r', 0)\n",
    "    line = inFile.readline()\n",
    "    wordlist = string.split(line)\n",
    "    print \"  \", len(wordlist), \"words loaded.\"\n",
    "    return wordlist\n",
    "\n",
    "wordlist = loadWords()"
   ]
  },
  {
   "cell_type": "code",
   "execution_count": 16,
   "metadata": {
    "collapsed": false
   },
   "outputs": [
    {
     "name": "stdout",
     "output_type": "stream",
     "text": [
      "The wordlist doesn't exist; using some fruits for now\n",
      "\n",
      "   55900 words loaded.\n",
      "55900\n"
     ]
    }
   ],
   "source": [
    "# Uncomment the following function if you want to try the code template\n",
    "\n",
    "def loadWords2():\n",
    "    try:\n",
    "        inFile = open(PATH_TO_FILE, 'r', 0)\n",
    "    except IOError as e:\n",
    "        #print e\n",
    "        print \"The wordlist doesn't exist; using some fruits for now\"\n",
    "        return ['apple', 'orange', 'pear', 'lime', 'lemon', 'grape', 'pineapple']\n",
    "    line = inFile.readline()\n",
    "    wordlist = line.split(',')\n",
    "    print \"  \", len(wordlist), \"words loaded.\"\n",
    "    return wordlist\n",
    "\n",
    "PATH_TO_FILE = 'doesntExist.txt'\n",
    "loadWords2()\n",
    "print\n",
    "\n",
    "PATH_TO_FILE = join(HOME, 'words2.txt')\n",
    "wordlist = loadWords2()\n",
    "print len(wordlist)"
   ]
  },
  {
   "cell_type": "code",
   "execution_count": 17,
   "metadata": {
    "collapsed": true
   },
   "outputs": [],
   "source": [
    "# Import the package test - graph should pop up if Pylab and NumPy\n",
    "# are properly installed.\n",
    "\n",
    "import ps1_pkgtest"
   ]
  },
  {
   "cell_type": "code",
   "execution_count": null,
   "metadata": {
    "collapsed": true
   },
   "outputs": [],
   "source": []
  }
 ],
 "metadata": {
  "kernelspec": {
   "display_name": "Python 2",
   "language": "python",
   "name": "python2"
  },
  "language_info": {
   "codemirror_mode": {
    "name": "ipython",
    "version": 2
   },
   "file_extension": ".py",
   "mimetype": "text/x-python",
   "name": "python",
   "nbconvert_exporter": "python",
   "pygments_lexer": "ipython2",
   "version": "2.7.10"
  }
 },
 "nbformat": 4,
 "nbformat_minor": 0
}
