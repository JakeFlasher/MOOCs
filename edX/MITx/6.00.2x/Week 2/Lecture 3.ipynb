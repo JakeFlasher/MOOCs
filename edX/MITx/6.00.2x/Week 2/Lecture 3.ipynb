{
 "cells": [
  {
   "cell_type": "code",
   "execution_count": 1,
   "metadata": {
    "collapsed": false
   },
   "outputs": [
    {
     "name": "stdout",
     "output_type": "stream",
     "text": [
      "43313\n",
      "Average number of tries = 7762.61\n",
      "Average number of tries = 6245.71\n"
     ]
    }
   ],
   "source": [
    "\"\"\"\n",
    "Rolling a Die\n",
    "\"\"\"\n",
    "\n",
    "import random\n",
    "\n",
    "def rollDie():\n",
    "    return random.choice([1,2,3,4,5,6])\n",
    "\n",
    "def rollN(n):\n",
    "    result = ''\n",
    "    for i in range(n):\n",
    "        result = result + str(rollDie())\n",
    "    return result\n",
    "\n",
    "print rollN(5)\n",
    "\n",
    "def getTarget(goal):\n",
    "    numTries = 0\n",
    "    numRolls = len(goal)\n",
    "    while True:\n",
    "        numTries += 1\n",
    "        result = rollN(numRolls)\n",
    "        if result == goal:\n",
    "            return numTries\n",
    "\n",
    "def runSim(goal, numTrials):\n",
    "    total = 0\n",
    "    for i in range(numTrials):\n",
    "        total += getTarget(goal)\n",
    "    print 'Average number of tries =', total/float(numTrials)\n",
    "\n",
    "runSim('11111', 100)\n",
    "runSim('54324', 100)"
   ]
  },
  {
   "cell_type": "code",
   "execution_count": 2,
   "metadata": {
    "collapsed": false
   },
   "outputs": [
    {
     "name": "stdout",
     "output_type": "stream",
     "text": [
      "0.836\n"
     ]
    }
   ],
   "source": [
    "def atLeastOneOne(numRolls, numTrials):\n",
    "    numSuccess = 0\n",
    "    for i in range(numTrials):\n",
    "        rolls = rollN(numRolls)\n",
    "        if '1' in rolls:\n",
    "            numSuccess += 1\n",
    "        fracSuccess = numSuccess/float(numTrials)\n",
    "    print fracSuccess\n",
    "\n",
    "atLeastOneOne(10, 1000)"
   ]
  },
  {
   "cell_type": "code",
   "execution_count": 3,
   "metadata": {
    "collapsed": false
   },
   "outputs": [
    {
     "name": "stdout",
     "output_type": "stream",
     "text": [
      "Index = 97\n",
      "Index = 74111104110321051153297329911111110832100117100101\n"
     ]
    }
   ],
   "source": [
    "\"\"\"\n",
    "Introduction to Hashing\n",
    "\"\"\"\n",
    "\n",
    "import random\n",
    "\n",
    "def strToInt(s):\n",
    "    number = ''\n",
    "    for c in s:\n",
    "        number = number + str(ord(c))\n",
    "    index = int(number)\n",
    "    return index\n",
    "\n",
    "print 'Index =', strToInt('a')\n",
    "print 'Index =', strToInt('John is a cool dude')\n"
   ]
  },
  {
   "cell_type": "code",
   "execution_count": 4,
   "metadata": {
    "collapsed": false
   },
   "outputs": [
    {
     "name": "stdout",
     "output_type": "stream",
     "text": [
      "2\n",
      "3\n",
      "5\n",
      "3\n"
     ]
    }
   ],
   "source": [
    "def hashStr(s, tableSize = 101):\n",
    "    number = ''\n",
    "    for c in s:\n",
    "        number = number + str(ord(c))\n",
    "    index = int(number)%tableSize\n",
    "    return index\n",
    "\n",
    "##print hashStr('a')\n",
    "##print hashStr('John is a cool dude')\n",
    "\n",
    "\n",
    "print hashStr('Eric', 7)\n",
    "print hashStr('Chris', 7)\n",
    "print hashStr('Sarina', 7)\n",
    "\n",
    "print hashStr('Jill', 7)"
   ]
  },
  {
   "cell_type": "code",
   "execution_count": 5,
   "metadata": {
    "collapsed": false
   },
   "outputs": [
    {
     "name": "stdout",
     "output_type": "stream",
     "text": [
      "\n",
      "The buckets are:\n",
      "   [(15689, 18)]\n",
      "   []\n",
      "   [(43734, 4)]\n",
      "   [(46258, 17)]\n",
      "   [(18158, 14)]\n",
      "   [(25757, 9)]\n",
      "   []\n",
      "   [(95243, 5)]\n",
      "   []\n",
      "   [(7955, 11), (27936, 16)]\n",
      "   []\n",
      "   []\n",
      "   []\n",
      "   [(42643, 2), (44847, 10)]\n",
      "   []\n",
      "   []\n",
      "   [(24811, 13), (6976, 19)]\n",
      "   []\n",
      "   []\n",
      "   []\n",
      "   []\n",
      "   [(48103, 12)]\n",
      "   []\n",
      "   [(82325, 0), (61967, 3), (99290, 15)]\n",
      "   [(83022, 1)]\n",
      "   []\n",
      "   [(73135, 6)]\n",
      "   [(26910, 8)]\n",
      "   [(65336, 7)]\n"
     ]
    }
   ],
   "source": [
    "\"\"\"\n",
    "Using Hashing to Look Up Information\n",
    "\"\"\"\n",
    "\n",
    "import random\n",
    "\n",
    "class intDict(object):\n",
    "    \"\"\"A dictionary with integer keys\"\"\"\n",
    "    \n",
    "    def __init__(self, numBuckets):\n",
    "        \"\"\"Create an empty dictionary\"\"\"\n",
    "        self.buckets = []\n",
    "        self.numBuckets = numBuckets\n",
    "        for i in range(numBuckets):\n",
    "            self.buckets.append([])\n",
    "            \n",
    "    def addEntry(self, dictKey, dictVal):\n",
    "        \"\"\"Assumes dictKey an int.  Adds an entry.\"\"\"\n",
    "        hashBucket = self.buckets[dictKey%self.numBuckets]\n",
    "        for i in range(len(hashBucket)):\n",
    "            if hashBucket[i][0] == dictKey:\n",
    "                hashBucket[i] = (dictKey, dictVal)\n",
    "                return\n",
    "        hashBucket.append((dictKey, dictVal))\n",
    "        \n",
    "    def getValue(self, dictKey):\n",
    "        \"\"\"Assumes dictKey an int.  Returns entry associated\n",
    "           with the key dictKey\"\"\"\n",
    "        hashBucket = self.buckets[dictKey%self.numBuckets]\n",
    "        for e in hashBucket:\n",
    "            if e[0] == dictKey:\n",
    "                return e[1]\n",
    "        return None\n",
    "    \n",
    "    def __str__(self):\n",
    "        res = '{'\n",
    "        for b in self.buckets:\n",
    "            for t in b:\n",
    "                res = res + str(t[0]) + ':' + str(t[1]) + ','\n",
    "        return res[:-1] + '}' #res[:-1] removes the last comma\n",
    "\n",
    "D = intDict(29)\n",
    "for i in range(20):\n",
    "    #choose a random int in range(10**5)\n",
    "    key = random.choice(range(10**5))\n",
    "    D.addEntry(key, i)\n",
    "\n",
    "print '\\n', 'The buckets are:'\n",
    "for hashBucket in D.buckets: #violates abstraction barrier\n",
    "    print '  ', hashBucket"
   ]
  },
  {
   "cell_type": "code",
   "execution_count": 14,
   "metadata": {
    "collapsed": false
   },
   "outputs": [
    {
     "name": "stdout",
     "output_type": "stream",
     "text": [
      "1.0\n"
     ]
    }
   ],
   "source": [
    "\"\"\"\n",
    "L3 PROBLEM 5 INTRODUCTION\n",
    "\n",
    "Recall from the last problem that when creating hash tables, we try to optimize both the size of the table (as small as possible)\n",
    "and lookup time for elements (as short as possible). It turns out that by making the hash table large enough, we can reduce the \n",
    "number of collisions sufficiently to allow us to treat the complexity of lookup as almost O(1). I.e. we can trade space for \n",
    "time. But what is the tradeoff?\n",
    "\n",
    "First, let's get a formulation of the problem. Assume:\n",
    "\n",
    "- The range of the hash function is range(n)\n",
    "- The number of insertions is K\n",
    "- The hash function produces a perfectly uniform distribution of the keys used in insertions. This means that for all keys, k, \n",
    "  and integers, i, in range(n), the probability that hash(k) = i is \\frac{1}{n}.\n",
    "\n",
    "So, what is the probability that at least one collision occurs?\n",
    "\n",
    "The question is equivalent to asking \"given K randomly generated integers in range(n), what is the probability that at least \n",
    "two of them are equal?\" As is often the case, it is easiest to start by answering the inverse question, \"given K randomly \n",
    "generated integers in range(n), what is the probability that none of them are equal?\"\n",
    "\n",
    "When we insert the first element, the probability of not having a collision is clearly 1 (since the table is empty!). How about\n",
    "the second insertion? Since there are n-1 hash results left that are not equal to the result of the first hash, n-1 out of n \n",
    "choices will not yield a collision. So, the probability of not getting a collision on the second insertion is \\frac{n–1}{n}, and \n",
    "the probability of not getting a collision on either of the first two insertions is: \n",
    "\n",
    "1 \\times \\frac{n-1}{n}\n",
    "\n",
    "We can multiply these probabilities - for each insertion the value produced by the hash function is independent of anything that \n",
    "has preceded it. Thus the probability of not having a collision after three insertions is:\n",
    "\n",
    "1 \\times \\frac{(n−1)}{n} \\times \\frac{(n−2)}{n}\n",
    "\n",
    "And after K insertions,\n",
    "\n",
    "1 \\times \\frac{(n−1)}{n} \\times \\frac{(n−2)}{n} \\times \\times \\frac{(n−(K−1))}{n}\n",
    "\n",
    "To get the probability of having at least one collision, we merely subtract this value from 1:\n",
    "\n",
    "1 − [\\frac{(n−1)}{n} \\times \\frac{(n−2)}{n} \\times \\times \\frac{(n−(K−1))}{n}]\n",
    "\n",
    "Given the size of hash table and the number of expected insertion, we can use this formula to calculate the probability of at \n",
    "least one collision. If K is reasonably large, say 10,000, it would be a bit tedious to compute the probability with pencil and \n",
    "paper. That leaves two choices, mathematics and programming. Mathematicians have used some fairly advanced mathematics to find a \n",
    "way to approximate the value of this series. But unless K is very large, it is easier to run some code to compute the exact \n",
    "value of the series. In this problem we'll look at some simulations that examine hashing probabilities.\n",
    "\n",
    "L3 Problem 5\n",
    "\n",
    "For this problem, download intDictTests.py, a file that contains some simulations that will help us examine the properties of \n",
    "hashing. Read through the extra functions to understand what they do; call the appropriate function with the right parameters \n",
    "to answer the following questions.\n",
    "\"\"\"\n",
    "\n",
    "# intDictTests.py\n",
    "def collision_prob(numBuckets, numInsertions):\n",
    "    '''\n",
    "    Given the number of buckets and the number of items to insert, \n",
    "    calculates the probability of a collision.\n",
    "    '''\n",
    "    prob = 1.0\n",
    "    for i in range(1, numInsertions):\n",
    "        prob = prob * ((numBuckets - i) / float(numBuckets))\n",
    "    return 1 - prob\n",
    "\n",
    "print collision_prob(365, 250)\n"
   ]
  },
  {
   "cell_type": "code",
   "execution_count": 12,
   "metadata": {
    "collapsed": false
   },
   "outputs": [
    {
     "name": "stdout",
     "output_type": "stream",
     "text": [
      "0.676\n"
     ]
    }
   ],
   "source": [
    "def sim_insertions(numBuckets, numInsertions):\n",
    "    '''\n",
    "    Run a simulation for numInsertions insertions into the hash table.\n",
    "    '''\n",
    "    choices = range(numBuckets)\n",
    "    used = []\n",
    "    for i in range(numInsertions):\n",
    "        hashVal = random.choice(choices)\n",
    "        if hashVal in used:\n",
    "            return False\n",
    "        else:\n",
    "            used.append(hashVal)\n",
    "    return True\n",
    "\n",
    "def observe_prob(numBuckets, numInsertions, numTrials):\n",
    "    '''\n",
    "    Given the number of buckets and the number of items to insert, \n",
    "    runs a simulation numTrials times to observe the probability of a collision.\n",
    "    '''\n",
    "    probs = []\n",
    "    for t in range(numTrials):\n",
    "        probs.append(sim_insertions(numBuckets, numInsertions))\n",
    "    return 1 - sum(probs)/float(numTrials)\n",
    "\n",
    "\n",
    "print observe_prob(365, 30, 1000)\n"
   ]
  },
  {
   "cell_type": "code",
   "execution_count": 16,
   "metadata": {
    "collapsed": false
   },
   "outputs": [
    {
     "name": "stdout",
     "output_type": "stream",
     "text": [
      "56\n"
     ]
    }
   ],
   "source": [
    "numBuckets = 365\n",
    "numInsertions = 365\n",
    "while True:\n",
    "    col = collision_prob(numBuckets, numInsertions)\n",
    "    if col < 0.99:\n",
    "        break\n",
    "    numInsertions -= 1\n",
    "print numInsertions"
   ]
  }
 ],
 "metadata": {
  "kernelspec": {
   "display_name": "Python 2",
   "language": "python",
   "name": "python2"
  },
  "language_info": {
   "codemirror_mode": {
    "name": "ipython",
    "version": 2
   },
   "file_extension": ".py",
   "mimetype": "text/x-python",
   "name": "python",
   "nbconvert_exporter": "python",
   "pygments_lexer": "ipython2",
   "version": "2.7.10"
  }
 },
 "nbformat": 4,
 "nbformat_minor": 0
}
