{
 "cells": [
  {
   "cell_type": "markdown",
   "metadata": {},
   "source": [
    "## Finding Pi\n",
    "Discover Pi using a bunch of needles. Imagine having a square of edge equal to 2 with a confined circle of radius equal to 1.\n",
    "If we spread enough needles on the imagine we should be able to find the value of Pi.\n",
    "\n",
    "$Area_\\circ = \\pi r^2$ :: r = 1\n",
    "$Area_\\circ = \\pi$\n",
    "\n",
    "$\\frac{needles_\\circ}{needles_\\square} = \\frac{Area_\\circ}{Area_\\square}$\n",
    "\n",
    "$Area_\\circ = \\frac{Area_\\square \\times needles_\\circ}{needles_\\square}$\n"
   ]
  },
  {
   "cell_type": "code",
   "execution_count": 7,
   "metadata": {
    "collapsed": false
   },
   "outputs": [
    {
     "name": "stdout",
     "output_type": "stream",
     "text": [
      "3.142808\n"
     ]
    }
   ],
   "source": [
    "import random\n",
    "\n",
    "def throwNeedles(numNeedles):\n",
    "    inCircle = 0\n",
    "    for Needles in xrange(1, numNeedles + 1, 1):\n",
    "        x = random.random()\n",
    "        y = random.random()\n",
    "        if (x*x + y*y)**0.5 <= 1.0:\n",
    "            inCircle += 1\n",
    "    return 4*(inCircle/float(numNeedles))\n",
    "\n",
    "print throwNeedles(1000000)"
   ]
  },
  {
   "cell_type": "code",
   "execution_count": 10,
   "metadata": {
    "collapsed": false
   },
   "outputs": [
    {
     "name": "stdout",
     "output_type": "stream",
     "text": [
      "Est. = 3.145, Std. dev. = 0.050385, Needles = 1000\n"
     ]
    }
   ],
   "source": [
    "# Get the estimate of Pi\n",
    "\n",
    "def stdDev(X):\n",
    "    mean = sum(X)/float(len(X))\n",
    "    tot = 0.0\n",
    "    for x in X:\n",
    "        tot += (x - mean)**2\n",
    "    return (tot/len(X))**0.5\n",
    "\n",
    "def getEst(numNeedles, numTrials):\n",
    "    estimates = []\n",
    "    for t in range(numTrials):\n",
    "        piGuess = throwNeedles(numNeedles)\n",
    "        estimates.append(piGuess)\n",
    "    sDev = stdDev(estimates)\n",
    "    curEst = sum(estimates)/len(estimates)\n",
    "    print 'Est. = ' + str(curEst) +\\\n",
    "          ', Std. dev. = ' + str(round(sDev, 6))\\\n",
    "          + ', Needles = ' + str(numNeedles)\n",
    "    return (curEst, sDev)\n",
    "\n",
    "pi, std = getEst(1000, 100)"
   ]
  },
  {
   "cell_type": "code",
   "execution_count": 11,
   "metadata": {
    "collapsed": false
   },
   "outputs": [
    {
     "name": "stdout",
     "output_type": "stream",
     "text": [
      "Est. = 3.13848, Std. dev. = 0.055532, Needles = 1000\n",
      "Est. = 3.14598, Std. dev. = 0.034765, Needles = 2000\n",
      "Est. = 3.1454, Std. dev. = 0.024155, Needles = 4000\n",
      "3.1454\n"
     ]
    }
   ],
   "source": [
    "# Compute how good is Pi\n",
    "\n",
    "def estPi(precision, numTrials):\n",
    "    numNeedles = 1000\n",
    "    sDev = precision\n",
    "    while sDev >= precision/2.0:\n",
    "        curEst, sDev = getEst(numNeedles, numTrials)\n",
    "        numNeedles *= 2\n",
    "    return curEst\n",
    "\n",
    "print estPi(0.05, 100)"
   ]
  },
  {
   "cell_type": "code",
   "execution_count": null,
   "metadata": {
    "collapsed": true
   },
   "outputs": [],
   "source": []
  }
 ],
 "metadata": {
  "kernelspec": {
   "display_name": "Python 2",
   "language": "python",
   "name": "python2"
  },
  "language_info": {
   "codemirror_mode": {
    "name": "ipython",
    "version": 2
   },
   "file_extension": ".py",
   "mimetype": "text/x-python",
   "name": "python",
   "nbconvert_exporter": "python",
   "pygments_lexer": "ipython2",
   "version": "2.7.11"
  }
 },
 "nbformat": 4,
 "nbformat_minor": 0
}
