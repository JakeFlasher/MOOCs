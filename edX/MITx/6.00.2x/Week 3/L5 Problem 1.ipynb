{
 "cells": [
  {
   "cell_type": "markdown",
   "metadata": {},
   "source": [
    "##L5 Problem 1\n",
    "\n",
    "(5 points possible)\n",
    "You have a bucket with 3 red balls and 3 green balls. Assume that once you draw a ball out of the bucket, you don't replace it. \n",
    "What is the probability of drawing 3 balls of the same color?\n",
    "\n",
    "Write a Monte Carlo simulation to solve the above problem. Feel free to write a helper function if you wish."
   ]
  },
  {
   "cell_type": "code",
   "execution_count": 33,
   "metadata": {
    "collapsed": false
   },
   "outputs": [
    {
     "name": "stdout",
     "output_type": "stream",
     "text": [
      "Probability of three equal balls in 10000 trials: 0.098600\n"
     ]
    }
   ],
   "source": [
    "import random\n",
    "\n",
    "def getBalls(totalBalls, nb_picks):\n",
    "    \"\"\"\n",
    "    Returns the first nb_picks balls from the bucket \n",
    "    without replacement.\n",
    "    \n",
    "    totalBalls: number of balls inside the bucket\n",
    "    nb_picks: number of balls to be removed from the bucket\n",
    "    \n",
    "    extracted: returns all balls removed from the bucket \n",
    "    \"\"\"\n",
    "    extracted = []\n",
    "    balls = ['red', 'green']*(totalBalls/2)\n",
    "    for _ in range(nb_picks):\n",
    "        ball = random.choice(balls)\n",
    "        extracted.append(ball)\n",
    "        balls.remove(ball)\n",
    "    return extracted\n",
    "\n",
    "def noReplacementSimulation(numTrials):\n",
    "    '''\n",
    "    Runs numTrials trials of a Monte Carlo simulation\n",
    "    of drawing 3 balls out of a bucket containing\n",
    "    3 red and 3 green balls. Balls are not replaced once\n",
    "    drawn. Returns a decimal - the fraction of times 3 \n",
    "    balls of the same color were drawn.\n",
    "    '''\n",
    "    equals = 0.0\n",
    "    for _ in range(numTrials):\n",
    "        balls = getBalls(6, 3)\n",
    "        if len(set(balls)) == 1:\n",
    "            equals += 1\n",
    "    return equals/numTrials\n",
    "        \n",
    "numTrials = 10000\n",
    "print 'Probability of three equal balls in %d trials: %f' % (numTrials, noReplacementSimulation(numTrials))"
   ]
  },
  {
   "cell_type": "code",
   "execution_count": null,
   "metadata": {
    "collapsed": true
   },
   "outputs": [],
   "source": []
  }
 ],
 "metadata": {
  "kernelspec": {
   "display_name": "Python 2",
   "language": "python",
   "name": "python2"
  },
  "language_info": {
   "codemirror_mode": {
    "name": "ipython",
    "version": 2
   },
   "file_extension": ".py",
   "mimetype": "text/x-python",
   "name": "python",
   "nbconvert_exporter": "python",
   "pygments_lexer": "ipython2",
   "version": "2.7.11"
  }
 },
 "nbformat": 4,
 "nbformat_minor": 0
}
