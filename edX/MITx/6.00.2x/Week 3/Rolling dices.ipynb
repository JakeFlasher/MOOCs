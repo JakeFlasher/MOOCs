{
 "cells": [
  {
   "cell_type": "markdown",
   "metadata": {},
   "source": [
    "# Probability of roll two dices 24 times and don't get 6-6\n",
    "\n",
    "Probability of getting two 6-6 out of 24 times:\n",
    "\n",
    "$P = \\left(\\frac{1}{6} \\right)^{24}$\n",
    "\n",
    "Probability of NOT getting 6-6 out of 24 times:\n",
    "\n",
    "$P = \\left(\\frac{35}{36} \\right)^{24}$"
   ]
  },
  {
   "cell_type": "code",
   "execution_count": 4,
   "metadata": {
    "collapsed": false
   },
   "outputs": [
    {
     "name": "stdout",
     "output_type": "stream",
     "text": [
      "Probability of losing =  0.508596123869\n"
     ]
    }
   ],
   "source": [
    "# Calculating the probability P\n",
    "P = (35.0/36.0)**24\n",
    "print 'Probability of losing = ', P"
   ]
  },
  {
   "cell_type": "code",
   "execution_count": 1,
   "metadata": {
    "collapsed": false
   },
   "outputs": [
    {
     "name": "stdout",
     "output_type": "stream",
     "text": [
      "Probability of losing = 0.5043\n"
     ]
    }
   ],
   "source": [
    "# Coding the verification\n",
    "import random\n",
    "\n",
    "def rollDie():\n",
    "    \"\"\"returns a random int between 1 and 6\"\"\"\n",
    "    return random.choice([1,2,3,4,5,6])\n",
    "\n",
    "def checkPascal(numTrials, roll):\n",
    "    yes = 0.0\n",
    "    for i in range(numTrials):\n",
    "        for j in range(24):\n",
    "            d1 = roll()\n",
    "            d2 = roll()\n",
    "            if d1 == 6 and d2 == 6:\n",
    "                yes += 1\n",
    "                break\n",
    "    print 'Probability of losing =', 1.0 - yes/numTrials\n",
    "\n",
    "checkPascal(10000, rollDie)"
   ]
  },
  {
   "cell_type": "code",
   "execution_count": 5,
   "metadata": {
    "collapsed": false
   },
   "outputs": [
    {
     "name": "stdout",
     "output_type": "stream",
     "text": [
      "Probability of losing = 0.4479\n"
     ]
    }
   ],
   "source": [
    "# Using a biased dice\n",
    "\n",
    "def rollLoadedDie():\n",
    "    if random.random() < 1.0/5.5:\n",
    "        return 6\n",
    "    else:\n",
    "        return random.choice([1,2,3,4,5])\n",
    "\n",
    "checkPascal(10000, rollLoadedDie)"
   ]
  },
  {
   "cell_type": "code",
   "execution_count": 10,
   "metadata": {
    "collapsed": false
   },
   "outputs": [
    {
     "name": "stdout",
     "output_type": "stream",
     "text": [
      "0.49992\n",
      "0.49857\n",
      "0.49926\n",
      "0.50098\n",
      "0.49863\n"
     ]
    }
   ],
   "source": [
    "# Flip a fair coin n times\n",
    "\n",
    "def flip(numFlips):\n",
    "    heads = 0\n",
    "    for i in range(numFlips):\n",
    "        if random.random() < 0.5:\n",
    "            heads += 1\n",
    "    return heads/float(numFlips)\n",
    "\n",
    "for i in range(5): #number of trials\n",
    "    print flip(100000)\n",
    "\n"
   ]
  },
  {
   "cell_type": "code",
   "execution_count": null,
   "metadata": {
    "collapsed": true
   },
   "outputs": [],
   "source": []
  }
 ],
 "metadata": {
  "kernelspec": {
   "display_name": "Python 2",
   "language": "python",
   "name": "python2"
  },
  "language_info": {
   "codemirror_mode": {
    "name": "ipython",
    "version": 2
   },
   "file_extension": ".py",
   "mimetype": "text/x-python",
   "name": "python",
   "nbconvert_exporter": "python",
   "pygments_lexer": "ipython2",
   "version": "2.7.11"
  }
 },
 "nbformat": 4,
 "nbformat_minor": 0
}
