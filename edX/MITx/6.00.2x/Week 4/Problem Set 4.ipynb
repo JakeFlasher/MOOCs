{
 "cells": [
  {
   "cell_type": "markdown",
   "metadata": {},
   "source": [
    "# PART A - THE EFFECT OF DELAYING TREATMENT ON PATIENT DISEASE\n",
    "\n",
    "In this part, we explore the effect of delaying treatment on the ability of the drug to eradicate the virus population. You will need to run multiple simulations to observe trends in the distributions of patient outcomes.\n",
    "\n",
    "**Note: In this problem set, you will be asked to answer multiple choice questions. Double check how many attempts you have on each problem before answering.**\n",
    "\n",
    "In Problem 5 of the last problem set you ran a simulation that consists of 150 time steps, followed by the addition of the drug, guttagonol, followed by another 150 time steps. Run the same simulation as in Problem 5 in Problem Set 3 but this time for 300, 150, 75, and 0 time steps before administering guttagonol to the patient. Then, run the simulation for an additional 150 time steps. Use the same initialization parameters for ResistantVirus and TreatedPatient as you did for Problem 5 of Problem Set 3.\n",
    "\n",
    "Use the following parameters to initialize a TreatedPatient:\n",
    "\n",
    "* viruses, a list of 100 ResistantVirus instances\n",
    "* maxPop, maximum sustainable virus population = 1000\n",
    "\n",
    "Each ResistantVirus instance in the viruses list should be initialized with the following parameters:\n",
    "\n",
    "* maxBirthProb, maximum reproduction probability for a virus particle = 0.1\n",
    "* clearProb, maximum clearance probability for a virus particle = 0.05\n",
    "* resistances, The virus's genetic resistance to drugs in the experiment = {'guttagonol': False}\n",
    "* mutProb, probability of a mutation in a virus particle's offspring = 0.005\n",
    "\n",
    "For each of these 4 conditions, repeat the experiment for enough trials to gain reasonable insight into the expected result. Rather than averaging the final virus population across different trials as in the last pset, this time use pylab's hist() function to plot a histogram of the final virus populations under each condition for each trial. You may also find pylab's subplot function to be helpful. The x-axis of the histogram should be the final total virus population values (choose x axis increments or \"histogram bins\" according to the range of final virus population values you get by running the simulation multiple times). Then, the y-axis of the histogram should be the number of trials belonging to each histogram bin. You should decide the number of trials you ran for each condition in order to obtain a reasonable distribution. \n",
    "\n",
    "Fill in the function simulationDelayedTreatment(numTrials) to perform this simulation. Feel free to break down the problem into smaller subparts and define helper functions for each.\n",
    "\n",
    "**Hint: time it takes to run trials**\n",
    "\n",
    "*It may take some time to run enough trials to arrive at a distribution for each condition. Debug your code using a small number of trials. Once your code is debugged, use a larger number of trials and expect the simulation to take a few minutes. The simulation should take about 3-6 minutes to run a reasonable number of trials. You may also find it helpful to divide the tasks and write helper functions to do each subpart, and then have the simulationDelayedTreatment function call the helper functions and keep track of the final results.*\n",
    " \n",
    "\n",
    "Create four histograms (one for each condition of 300, 150, 75, and 0 time step delays). Then, answer the following questions:"
   ]
  },
  {
   "cell_type": "code",
   "execution_count": 19,
   "metadata": {
    "collapsed": true
   },
   "outputs": [],
   "source": [
    "%matplotlib inline\n",
    "import pylab\n",
    "\n",
    "#set line width\n",
    "pylab.rcParams['lines.linewidth'] = 2\n",
    "#set font size for titles \n",
    "pylab.rcParams['axes.titlesize'] = 10\n",
    "#set font size for labels on axes\n",
    "pylab.rcParams['axes.labelsize'] = 10\n",
    "#set size of numbers on x-axis\n",
    "pylab.rcParams['xtick.major.size'] = 10\n",
    "#set size of numbers on y-axis\n",
    "pylab.rcParams['ytick.major.size'] = 10"
   ]
  },
  {
   "cell_type": "code",
   "execution_count": 4,
   "metadata": {
    "collapsed": false
   },
   "outputs": [],
   "source": [
    "# 6.00.2x Problem Set 4\n",
    "\n",
    "import numpy\n",
    "import random\n",
    "import pylab\n",
    "from ps3b import *\n",
    "\n",
    "#\n",
    "# PROBLEM 1\n",
    "#        \n",
    "def simulationWithDrug(numViruses, maxPop, maxBirthProb, clearProb, resistances, mutProb, numTrials, delay=0):\n",
    "    \"\"\"\n",
    "    Runs simulations and plots graphs for problem 5.\n",
    "\n",
    "    For each of numTrials trials, instantiates a patient, runs a simulation for\n",
    "    ``runs_before'' timesteps, adds guttagonol, and runs the simulation for an additional\n",
    "    150 timesteps.\n",
    "\n",
    "    numViruses: number of ResistantVirus to create for patient (an integer)\n",
    "    maxPop: maximum virus population for patient (an integer)\n",
    "    maxBirthProb: Maximum reproduction probability (a float between 0-1)        \n",
    "    clearProb: maximum clearance probability (a float between 0-1)\n",
    "    resistances: a dictionary of drugs that each ResistantVirus is resistant to\n",
    "                 (e.g., {'guttagonol': False})\n",
    "    mutProb: mutation probability for each ResistantVirus particle\n",
    "             (a float between 0-1). \n",
    "    numTrials: number of simulation runs to execute (an integer)\n",
    "    \n",
    "    \"\"\"\n",
    "    total_runs = delay+150\n",
    "    popInTrial = []\n",
    "    \n",
    "    viruses = []\n",
    "    for i in range(numViruses):\n",
    "        viruses.append(ResistantVirus(maxBirthProb, clearProb, resistances, mutProb))\n",
    "    \n",
    "    for trial in range(numTrials):\n",
    "        patient = TreatedPatient(viruses, maxPop)\n",
    "\n",
    "        for step in range(total_runs):\n",
    "            if step == delay:\n",
    "                patient.addPrescription('guttagonol')\n",
    "            patient.update()\n",
    "\n",
    "        popInTrial.append(patient.getTotalPop())\n",
    "    return popInTrial\n",
    "\n",
    "    \n",
    "def simulationDelayedTreatment(numTrials):\n",
    "    \"\"\"\n",
    "    Runs simulations and make histograms for problem 1.\n",
    "\n",
    "    Runs numTrials simulations to show the relationship between delayed\n",
    "    treatment and patient outcome using a histogram.\n",
    "\n",
    "    Histograms of final total virus populations are displayed for delays of 300,\n",
    "    150, 75, 0 timesteps (followed by an additional 150 timesteps of\n",
    "    simulation).\n",
    "\n",
    "    numTrials: number of simulation runs to execute (an integer)\n",
    "    \"\"\"\n",
    "    pop = []\n",
    "    subplot = 0\n",
    "    delays = [300, 150, 75, 0]\n",
    "    for delay in delays:\n",
    "        # simulationWithDrug(numViruses, maxPop, maxBirthProb, clearProb, resistances, mutProb, numTrials, delay=0)\n",
    "        pop = simulationWithDrug(100, 1000, 0.1, 0.05, {'guttagonol': False}, 0.005, numTrials, delay=delay)\n",
    "        subplot += 1\n",
    "        \n",
    "        pylab.subplot(2, 2, subplot)\n",
    "        pylab.hist(pop, bins = 50)\n",
    "        pylab.xlabel('virus frequency')\n",
    "        pylab.ylabel('trials')\n",
    "        pylab.title('delay = %s'% delay)\n",
    "        \n",
    "    pylab.tight_layout()\n",
    "    pylab.show()\n",
    "\n",
    "simulationDelayedTreatment(100)"
   ]
  },
  {
   "cell_type": "markdown",
   "metadata": {},
   "source": [
    "## Image generated\n",
    "<img src=\"problemSet4_fig1.png\", width=\"50%\"/>"
   ]
  },
  {
   "cell_type": "code",
   "execution_count": 8,
   "metadata": {
    "collapsed": false
   },
   "outputs": [
    {
     "name": "stdout",
     "output_type": "stream",
     "text": [
      "People cured for 300 delay: 0.011000\n",
      "People cured for 150 delay: 0.031000\n",
      "People cured for 75 delay: 0.119000\n",
      "People cured for 0 delay: 1.000000\n"
     ]
    }
   ],
   "source": [
    "def simulationDelayedTreatmentCured(numTrials):\n",
    "    \"\"\"\n",
    "    Runs simulations and verify the % of cured. To be cured (or in remission) \n",
    "    the final virus particle counts must be between 0 and 50. \n",
    "\n",
    "    Simulations are runned for delays of 300, 150, 75, 0 timesteps \n",
    "    (followed by an additional 150 timesteps of simulation).\n",
    "\n",
    "    numTrials: number of simulation runs to execute (an integer)\n",
    "    \"\"\"\n",
    "    subplot = 0\n",
    "    delays = [300, 150, 75, 0]\n",
    "    for delay in delays:\n",
    "        # simulationWithDrug(numViruses, maxPop, maxBirthProb, clearProb, resistances, mutProb, numTrials, delay=0)\n",
    "        pop = simulationWithDrug(100, 1000, 0.1, 0.05, {'guttagonol': False}, 0.005, numTrials, delay=delay)\n",
    "        subplot += 1\n",
    "        \n",
    "        cured = 0\n",
    "        for count in pop:\n",
    "            if count <= 50:\n",
    "                cured += 1\n",
    "        perc = float(cured)/len(pop)\n",
    "        \n",
    "        print 'People cured for %d delay: %f' % (delay, perc)\n",
    "\n",
    "\n",
    "simulationDelayedTreatmentCured(1000)"
   ]
  },
  {
   "cell_type": "markdown",
   "metadata": {},
   "source": [
    "## Problem 1 - Percentage Cured\n",
    "\n",
    "(10 points possible)<br>\n",
    "\n",
    "If you consider final virus particle counts of 0-50 to be cured (or in remission), approximately what percentage of patients were cured (or in remission) at the end of the simulation?\n",
    "\n",
    "1. delay = 300<br>\n",
    " ANSWER: 0-5%\n",
    "2. delay = 150<br>\n",
    " ANSWER: 0-5%\n",
    "3. delay = 75<br>\n",
    " ANSWER: 6-15%\n",
    "4. delay = 0<br>\n",
    " ANSWER: 80-100%"
   ]
  },
  {
   "cell_type": "markdown",
   "metadata": {},
   "source": [
    "## Problem 2 - Distributions\n",
    "\n",
    "(5 points possible)<br>\n",
    "What type of distribution does the histogram for delay = 0 create?\n",
    " * Uniform\n",
    " * Normal\n",
    " * Exponential\n",
    " * None of the above [ANSWER]"
   ]
  },
  {
   "cell_type": "markdown",
   "metadata": {},
   "source": [
    "## Problem 3 - Relationships\n",
    "\n",
    "(5 points possible)<br>\n",
    "What is the relationship between when drugs are applied and patients being cured?\n",
    " * Applying the drug earlier means the patient is more likely to be cured. [ANSWER]\n",
    " * Applying the drug later means the patient is more likely to be cured.\n",
    " * Applying the drug too late means the patient will never be cured.\n",
    " * None of the above.    "
   ]
  },
  {
   "cell_type": "markdown",
   "metadata": {},
   "source": [
    "# Problem 4 - Changing Parameters\n",
    "\n",
    "(10 points possible)<br>\n",
    "For the following, assume the delay is 150. Answer these questions on changing the initial parameters of a simulation.\n",
    "\n",
    "Increasing the length of the viruses list decreases the number of patients cured.\n",
    " * True [ANSWER]\n",
    " * False\n",
    "\n",
    "Increasing the maxPop decreases the number of patients cured.\n",
    " * True [ANSWER]\n",
    " * False\n",
    "\n",
    "Increasing the maxBirthProb decreases the number of patients cured.\n",
    " * True [ANSWER]\n",
    " * False\n",
    "\n",
    "Increasing the clearProb decreases the number of patients cured.\n",
    " * True\n",
    " * False [ANSWER]\n",
    "\n",
    "Initializing each virus with resistance to guttagonol means no viruses will be killed.\n",
    " * True\n",
    " * False [ANSWER]"
   ]
  },
  {
   "cell_type": "markdown",
   "metadata": {},
   "source": [
    "# PART B - DESIGNING A TREATMENT PLAN WITH TWO DRUGS\n",
    "\n",
    "One approach to addressing the problem of acquired drug resistance is to use cocktails – administration of multiple drugs that act independently to attack the virus population.\n",
    "\n",
    "In this problem, we use two independently-acting drugs to treat the virus. We will use this model to decide the best way of administering the two drugs. Specifically, we examine the effect of a lag time between administering the first and second drugs on patient outcomes.\n",
    "\n",
    "Use the following parameters to initialize a TreatedPatient:\n",
    "\n",
    "* viruses, a list of 100 ResistantVirus instances.\n",
    "* maxPop, maximum sustainable virus population = 1000\n",
    "\n",
    "Each ResistantVirus instance in the viruses list should be initialized with the following parameters:\n",
    "\n",
    "* maxBirthProb, maximum reproduction probability for a virus particle = 0.1\n",
    "* clearProb, maximum clearance probability for a virus particle = 0.05\n",
    "* resistances, the virus’s genetic resistance to drugs in the experiment: {'guttagonol': False, 'grimpex': False}\n",
    "* mutProb, probability of a mutation in a virus particle’s offspring = 0.005\n",
    "\n",
    "Run the simulation for 150 time steps before administering guttagonol to the patient. Then run the simulation for 300, 150, 75, and 0 time steps before administering a second drug, grimpex, to the patient. Finally, run the simulation for an additional 150 time steps.\n",
    "\n",
    "For each of these 4 conditions, repeat the experiment for enough trials to get a reasonable condition, while recording the final virus populations. Use pylab's hist() function to plot a histogram of the final total virus populations under each condition.\n",
    "\n",
    "**Hint: time it takes to run simulation**\n",
    "\n",
    "*As with Part A, the simulation will take a few minutes to run. Use print statements to monitor the simulation's progress.*\n",
    "\n",
    "Fill in the function simulationTwoDrugsDelayedTreatment(numTrials) to perform this simulation. Feel free to break down the problem into smaller subparts and define helper functions for each.\n",
    "\n",
    "Create 4 histograms (for 300, 150, 75, and 0 time steps) and then answer the following set of questions."
   ]
  },
  {
   "cell_type": "code",
   "execution_count": 12,
   "metadata": {
    "collapsed": true
   },
   "outputs": [],
   "source": [
    "#\n",
    "# PROBLEM 2\n",
    "#\n",
    "def simulationWithTwoDrugs(numViruses, maxPop, maxBirthProb, clearProb, resistances, mutProb, numTrials, delay=0):\n",
    "    \"\"\"\n",
    "    Runs simulations and plots graphs for problem 5.\n",
    "\n",
    "    For each of numTrials trials, instantiates a patient, runs a simulation for\n",
    "    ``runs_before'' timesteps, adds guttagonol, and runs the simulation for an additional\n",
    "    150 timesteps.\n",
    "\n",
    "    numViruses: number of ResistantVirus to create for patient (an integer)\n",
    "    maxPop: maximum virus population for patient (an integer)\n",
    "    maxBirthProb: Maximum reproduction probability (a float between 0-1)        \n",
    "    clearProb: maximum clearance probability (a float between 0-1)\n",
    "    resistances: a dictionary of drugs that each ResistantVirus is resistant to\n",
    "                 (e.g., {'guttagonol': False})\n",
    "    mutProb: mutation probability for each ResistantVirus particle\n",
    "             (a float between 0-1). \n",
    "    numTrials: number of simulation runs to execute (an integer)\n",
    "    \n",
    "    \"\"\"\n",
    "    viruses = []\n",
    "    for i in range(numViruses):\n",
    "        viruses.append(ResistantVirus(maxBirthProb, clearProb, resistances, mutProb))\n",
    "    \n",
    "    total_runs = delay+150\n",
    "    popInTrial = []\n",
    "    for trial in range(numTrials):\n",
    "        patient = TreatedPatient(viruses, maxPop)\n",
    "        [patient.update() for _ in range(150)]\n",
    "        patient.addPrescription('guttagonol')\n",
    "\n",
    "        for step in range(total_runs):\n",
    "            if step == delay:\n",
    "                patient.addPrescription('grimpex')\n",
    "            patient.update()\n",
    "\n",
    "        popInTrial.append(patient.getTotalPop())\n",
    "    return popInTrial\n",
    "\n",
    "\n",
    "def simulationTwoDrugsDelayedTreatment(numTrials):\n",
    "    \"\"\"\n",
    "    Runs simulations and make histograms for problem 2.\n",
    "\n",
    "    Runs numTrials simulations to show the relationship between administration\n",
    "    of multiple drugs and patient outcome.\n",
    "\n",
    "    Histograms of final total virus populations are displayed for lag times of\n",
    "    300, 150, 75, 0 timesteps between adding drugs (followed by an additional\n",
    "    150 timesteps of simulation).\n",
    "\n",
    "    numTrials: number of simulation runs to execute (an integer)\n",
    "    \"\"\"\n",
    "    pop = []\n",
    "    subplot = 0\n",
    "    \n",
    "    delays = [300, 150, 75, 0]\n",
    "    for delay in delays:\n",
    "        # simulationWithDrug(numViruses, maxPop, maxBirthProb, clearProb, resistances, mutProb, numTrials, delay=0)\n",
    "        pop = simulationWithTwoDrugs(100, 1000, 0.1, 0.05, {'guttagonol': False, 'grimpex': False}, 0.005, numTrials, delay=delay)\n",
    "        subplot += 1\n",
    "        \n",
    "        pylab.subplot(2, 2, subplot)\n",
    "        pylab.hist(pop, bins = 50)\n",
    "        pylab.xlabel('virus frequency')\n",
    "        pylab.ylabel('trials')\n",
    "        pylab.title('delay = %s'% delay)\n",
    "        \n",
    "    pylab.tight_layout()\n",
    "    pylab.show()\n",
    "\n",
    "simulationTwoDrugsDelayedTreatment(500)"
   ]
  },
  {
   "cell_type": "markdown",
   "metadata": {},
   "source": [
    "## Output of the simulation\n",
    "<img src=\"problemSet4_fig2_500.png\", width=\"50%\"/>"
   ]
  },
  {
   "cell_type": "code",
   "execution_count": 14,
   "metadata": {
    "collapsed": false
   },
   "outputs": [
    {
     "name": "stdout",
     "output_type": "stream",
     "text": [
      "People cured for 300 delay: 0.052000\n",
      "People cured for 150 delay: 0.126000\n",
      "People cured for 75 delay: 0.472000\n",
      "People cured for 0 delay: 0.828000\n"
     ]
    }
   ],
   "source": [
    "def simulationTwoDrugsDelayedTreatmentCured(numTrials):\n",
    "    \"\"\"\n",
    "    Runs simulations and verify the % of cured. To be cured (or in remission) \n",
    "    the final virus particle counts must be between 0 and 50. \n",
    "\n",
    "    Simulations are runned for delays of 300, 150, 75, 0 timesteps \n",
    "    (followed by an additional 150 timesteps of simulation).\n",
    "\n",
    "    numTrials: number of simulation runs to execute (an integer)\n",
    "    \"\"\"\n",
    "    subplot = 0\n",
    "    delays = [300, 150, 75, 0]\n",
    "    for delay in delays:\n",
    "        # simulationWithDrug(numViruses, maxPop, maxBirthProb, clearProb, resistances, mutProb, numTrials, delay=0)\n",
    "        pop = simulationWithTwoDrugs(100, 1000, 0.1, 0.05, {'guttagonol': False, 'grimpex': False}, 0.005, numTrials, delay=delay)\n",
    "        subplot += 1\n",
    "        \n",
    "        cured = 0\n",
    "        for count in pop:\n",
    "            if count <= 50:\n",
    "                cured += 1\n",
    "        perc = float(cured)/len(pop)\n",
    "        \n",
    "        print 'People cured for %d delay: %f' % (delay, perc)\n",
    "\n",
    "\n",
    "simulationTwoDrugsDelayedTreatmentCured(500)"
   ]
  },
  {
   "cell_type": "markdown",
   "metadata": {},
   "source": [
    "## Problem 1 - Percentage Cured\n",
    "\n",
    "(10 points possible)<br>\n",
    "If you consider final virus particle counts of 0-50 to be cured (or in remission), approximately what percentage of patients were cured (or in remission) at the end of the simulation?\n",
    "\n",
    "1. delay of 2nd drug = 300\n",
    " ANSWER: 0-15%\n",
    "2. delay of 2nd drug = 150\n",
    " ANSWER: 0-30%\n",
    "3. delay of 2nd drug = 75\n",
    " ANSWER: 31-65%\n",
    "4. delay of 2nd drug = 0\n",
    " ANSWER: 66-100%"
   ]
  },
  {
   "cell_type": "markdown",
   "metadata": {
    "collapsed": true
   },
   "source": [
    "## Problem 2 - Relationships\n",
    "\n",
    "(5 points possible)<br>\n",
    "What is the relationship between when drugs are applied and patients being cured?\n",
    " * Applying the 2nd drug earlier means the patient is more likely to be cured. [ANSWER]\n",
    " * Applying the 2nd drug later means the patient is more likely to be cured. \n",
    " * Applying the 2nd drug too late means the patient will never be cured.\n",
    " * None of the above."
   ]
  },
  {
   "cell_type": "markdown",
   "metadata": {},
   "source": [
    "## Problem 3 - Changing mutProb\n",
    "\n",
    "(5 points possible)<br>\n",
    "Increasing mutProb will increase the number of cured patients.\n",
    "* True\n",
    "* False [ANSWER]"
   ]
  },
  {
   "cell_type": "markdown",
   "metadata": {},
   "source": [
    "## Problem 4 - Relationships\n",
    "\n",
    "(5 points possible)<br>\n",
    "The relationship between number of cured patients and when the delay occurs is linear.\n",
    "* True\n",
    "* False [ANSWER]"
   ]
  },
  {
   "cell_type": "markdown",
   "metadata": {},
   "source": [
    "## Problem 5 - Variance\n",
    "\n",
    "(5 points possible)<br>\n",
    "Of the four delay values tested, which has the lowest variance?\n",
    "* delay of 2nd drug = 300\n",
    "* delay of 2nd drug = 150\n",
    "* delay of 2nd drug = 75\n",
    "* delay of 2nd drug = 0 [ANSWER]"
   ]
  },
  {
   "cell_type": "markdown",
   "metadata": {},
   "source": [
    "# PART C - PATIENT NON-COMPLIANCE\n",
    "\n",
    "A very common problem is that a patient may not consistently take the drugs they are prescribed. They can sometimes forget, refuse to take their prescription, or are unable to afford so skip doses to save money.\n",
    "\n",
    "Review about how we've implemented the simulations in the past two problem sets, and spend some time thinking about what you would change to model this non-compliant behaviour.\n",
    "\n",
    "Now that you've finished the above thought experiment, answer the following set of questions."
   ]
  },
  {
   "cell_type": "markdown",
   "metadata": {},
   "source": [
    "## Problem 1 - Modeling Approaches\n",
    "\n",
    "(5 points possible)<br>\n",
    "Which of the following approaches would be the best for modeling this?\n",
    "* Make a subclass of ResistantVirus that deterministically does not respond to medication. \n",
    "* Make a subclass of ResistantVirus that stochastically does not respond to medication.\n",
    "* Make a subclass of TreatedPatient that deterministically does not take its medication.\n",
    "* Make a subclass of TreatedPatient that stochastically does not take its medication. [ANSWER]\n",
    "* Make a new class called BadPatient that never takes its medication. \n",
    "* Create a small, random number of these and intersperse them with the regular TreatedPatients.\n",
    "* Write a new type of simulation to model this behavior."
   ]
  },
  {
   "cell_type": "markdown",
   "metadata": {},
   "source": [
    "## Problem 2 - Non-Compliance\n",
    "\n",
    "(5 points possible)<br>\n",
    "If we re-ran the simulations from the first problem of this problem set, with 20% of patients not complying to their drug regimen...\n",
    "* Fewer patients would be cured or in remission at the end of the simulations.  \n",
    "* About the same number of patients would be cured or in remission at the end of the simulations.\n",
    "* More patients would be cured or in remission at the end of the simulations.\n",
    "* Because the simulation is non-deterministic, it could be any of the above depending on the results of the trial."
   ]
  }
 ],
 "metadata": {
  "kernelspec": {
   "display_name": "Python 2",
   "language": "python",
   "name": "python2"
  },
  "language_info": {
   "codemirror_mode": {
    "name": "ipython",
    "version": 2
   },
   "file_extension": ".py",
   "mimetype": "text/x-python",
   "name": "python",
   "nbconvert_exporter": "python",
   "pygments_lexer": "ipython2",
   "version": "2.7.11"
  }
 },
 "nbformat": 4,
 "nbformat_minor": 0
}
