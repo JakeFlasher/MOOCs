{
 "cells": [
  {
   "cell_type": "markdown",
   "metadata": {},
   "source": [
    "# Breadth-First Search\n",
    "\n",
    "Instead of going down the first branch of the tree, we could instead examine all children of a node first, before going deeper into tree.\n",
    "\n",
    "- Start at root node (set of possible paths is just root node)\n",
    "- If not at \"goal\" node then\n",
    "  - Extend current path by adding each child of current node to path, unless child is already in path\n",
    "  - Add these new paths to potential set of paths, but put at end of the set (this uses a data structure called a queue)\n",
    "  - Select next path and recursively repeat\n",
    "  - If a current node has no children, then just go to next option\n",
    "- Stop when reach \"goal\" node, or when no more paths to explore\n"
   ]
  },
  {
   "cell_type": "code",
   "execution_count": 1,
   "metadata": {
    "collapsed": true
   },
   "outputs": [],
   "source": [
    "%run 'Graphs.ipynb'\n",
    "\n",
    "def BFS(graph, start, end, q = []):\n",
    "    initPath = [start]\n",
    "    q.append(initPath)\n",
    "    while len(q) != 0:\n",
    "        tmpPath = q.pop(0)\n",
    "        lastNode = tmpPath[len(tmpPath) - 1]\n",
    "        print 'Current dequeued path:', printPath(tmpPath)\n",
    "        if lastNode == end:\n",
    "            return tmpPath\n",
    "        for linkNode in graph.childrenOf(lastNode):\n",
    "            if linkNode not in tmpPath:\n",
    "                newPath = tmpPath + [linkNode]\n",
    "                q.append(newPath)\n",
    "    return None"
   ]
  },
  {
   "cell_type": "code",
   "execution_count": 4,
   "metadata": {
    "collapsed": false
   },
   "outputs": [
    {
     "name": "stdout",
     "output_type": "stream",
     "text": [
      "\n"
     ]
    }
   ],
   "source": [
    "def buildGraph():\n",
    "    nodes = []\n",
    "    for name in range(6):\n",
    "        nodes.append(Node(str(name)))\n",
    "    g = Digraph()\n",
    "    for n in nodes:\n",
    "        g.addNode(n)\n",
    "    g.addEdge(Edge(nodes[0],nodes[1]))\n",
    "    g.addEdge(Edge(nodes[1],nodes[2]))\n",
    "    g.addEdge(Edge(nodes[2],nodes[3]))\n",
    "    g.addEdge(Edge(nodes[2],nodes[4]))\n",
    "    g.addEdge(Edge(nodes[3],nodes[4]))\n",
    "    g.addEdge(Edge(nodes[3],nodes[5]))\n",
    "    g.addEdge(Edge(nodes[0],nodes[2]))\n",
    "    g.addEdge(Edge(nodes[1],nodes[0]))\n",
    "    g.addEdge(Edge(nodes[3],nodes[1]))\n",
    "    g.addEdge(Edge(nodes[4],nodes[0]))\n",
    "    return (g, nodes[0], nodes[5])\n",
    "\n",
    "def printPath(path):\n",
    "    for node in path:\n",
    "        print node.getName(), "
   ]
  },
  {
   "cell_type": "code",
   "execution_count": 5,
   "metadata": {
    "collapsed": false
   },
   "outputs": [
    {
     "name": "stdout",
     "output_type": "stream",
     "text": [
      "Current dequeued path: 0 None\n",
      "Current dequeued path: 0 1 None\n",
      "Current dequeued path: 0 2 None\n",
      "Current dequeued path: 0 1 2 None\n",
      "Current dequeued path: 0 2 3 None\n",
      "Current dequeued path: 0 2 4 None\n",
      "Current dequeued path: 0 1 2 3 None\n",
      "Current dequeued path: 0 1 2 4 None\n",
      "Current dequeued path: 0 2 3 4 None\n",
      "Current dequeued path: 0 2 3 5 None\n",
      "Shortest path found by DFS:\n"
     ]
    }
   ],
   "source": [
    "g, start, end = buildGraph()\n",
    "sp = BFS(g, start, end)\n",
    "print 'Shortest path found by DFS:'\n"
   ]
  },
  {
   "cell_type": "code",
   "execution_count": null,
   "metadata": {
    "collapsed": true
   },
   "outputs": [],
   "source": []
  }
 ],
 "metadata": {
  "kernelspec": {
   "display_name": "Python 2",
   "language": "python",
   "name": "python2"
  },
  "language_info": {
   "codemirror_mode": {
    "name": "ipython",
    "version": 2
   },
   "file_extension": ".py",
   "mimetype": "text/x-python",
   "name": "python",
   "nbconvert_exporter": "python",
   "pygments_lexer": "ipython2",
   "version": "2.7.11"
  }
 },
 "nbformat": 4,
 "nbformat_minor": 0
}
