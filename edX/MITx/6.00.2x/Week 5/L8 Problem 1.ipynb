{
 "cells": [
  {
   "cell_type": "markdown",
   "metadata": {},
   "source": [
    "## L8 Problem 1\n",
    "\n",
    "(3 points possible)<br>\n",
    "For these questions, you'll be asked to give the big-O upper bound runtime for some Python functions. In your answer, please omit the \"O( )\" portion of the answer and simply write a mathematical expression.\n",
    "\n",
    "Use +, -, / signs to indicate addition, subtraction, and division. Explicitly indicate multiplication with a * (ie say \"6*n\" rather than \"6n\"). Indicate exponentiation with a caret (^) (ie \"n^4\" for $n^4$). Indicate base-2 logarithms with the word log2 followed by parenthesis (ie \"log2(n)\").\n",
    "\n",
    "What this all means is if an answer is, for example, $O(n4)$, please simply write \"n^4\" in the box.\n",
    "\n",
    "1) What is the big-O upper bound runtime for the function `look_for_things`, where n is defined as the number of elements in myList?\n",
    "\n",
    "```python\n",
    "NUMBER = 3\n",
    "def look_for_things(myList):\n",
    "    \"\"\"Looks at all elements\"\"\"\n",
    "    for n in myList:\n",
    "        if n == NUMBER:\n",
    "            return True\n",
    "    return False\n",
    "```\n",
    "ANSWER: $n$"
   ]
  },
  {
   "cell_type": "markdown",
   "metadata": {},
   "source": [
    "2) What is the big-O upper bound runtime for the function `look_for_other_things`, where n is defined as the number of elements in myList?\n",
    "\n",
    "```python\n",
    "NUMBER = 3\n",
    "def look_for_other_things(myList):\n",
    "    \"\"\"Looks at all pairs of elements\"\"\"\n",
    "    for n in myList:\n",
    "        for m in myList:\n",
    "            if n - m == NUMBER or m - n == NUMBER:\n",
    "                return True\n",
    "    return False\n",
    "```\n",
    "ANSWER: $n^2$"
   ]
  },
  {
   "cell_type": "markdown",
   "metadata": {},
   "source": [
    "3) What is the big-O upper bound runtime for the function `look_for_all_the_things`, where n is defined as the number of elements in myList?\n",
    "\n",
    "You do not need to account for the runtime of `get_all_subsets`; the code is provided so you can see how many subsets it generates, as that will be a factor in your answer.\n",
    "\n",
    "```python\n",
    "def get_all_subsets(some_list):\n",
    "    \"\"\"Returns all subsets of size 0 - len(some_list) for some_list\"\"\"\n",
    "    if len(some_list) == 0:\n",
    "        # If the list is empty, return the empty list\n",
    "        return [[]]\n",
    "    subsets = []\n",
    "    first_elt = some_list[0]\n",
    "    rest_list = some_list[1:]\n",
    "    # Strategy: Get all the subsets of rest_list; for each\n",
    "    # of those subsets, a full subset list will contain both\n",
    "    # the original subset as well as a version of the subset\n",
    "    # that contains first_elt\n",
    "    for partial_subset in get_all_subsets(rest_list):\n",
    "        subsets.append(partial_subset)\n",
    "        next_subset = partial_subset[:] + [first_elt]\n",
    "        subsets.append(next_subset)\n",
    "    return subsets\n",
    "\n",
    "NUMBER = 3\n",
    "def look_for_all_the_things(myList):\n",
    "    \"\"\"Looks at all subsets of this list\"\"\"\n",
    "    # Make subsets\n",
    "    all_subsets = get_all_subsets(myList)\n",
    "    for subset in all_subsets:\n",
    "        if sum(subset) == NUMBER:\n",
    "            return True\n",
    "    return False\n",
    "```\n",
    "ANSWER: $2^n$\n",
    "\n",
    "EXPLANATION:\n",
    "\n",
    "The point of this exercise was to get you thinking about the complexity of functions, specifically the complexity of different ways to enumerate items. Keep these complexities in mind as you continue throughout this lecture sequence. It might sound great to always get the very best solution by enumerating all possible choices - but the downside to this approach is the terribly high complexity!\n",
    "\n",
    "$O(2^n)$ is the complexity for the final question because we are enumerating all possible subsets of a set, known as the \"power set\" of a set."
   ]
  },
  {
   "cell_type": "code",
   "execution_count": 6,
   "metadata": {
    "collapsed": false
   },
   "outputs": [
    {
     "name": "stdout",
     "output_type": "stream",
     "text": [
      "[[], [1], [2], [2, 1], [3], [3, 1], [3, 2], [3, 2, 1]]\n"
     ]
    }
   ],
   "source": [
    "def get_all_subsets(some_list):\n",
    "    \"\"\"Returns all subsets of size 0 - len(some_list) for some_list\"\"\"\n",
    "    if len(some_list) == 0:\n",
    "        # If the list is empty, return the empty list\n",
    "        return [[]]\n",
    "    subsets = []\n",
    "    first_elt = some_list[0]\n",
    "    rest_list = some_list[1:]\n",
    "    # Strategy: Get all the subsets of rest_list; for each\n",
    "    # of those subsets, a full subset list will contain both\n",
    "    # the original subset as well as a version of the subset\n",
    "    # that contains first_elt\n",
    "    for partial_subset in get_all_subsets(rest_list):\n",
    "        subsets.append(partial_subset)\n",
    "        next_subset = partial_subset[:] + [first_elt]\n",
    "        subsets.append(next_subset)\n",
    "    return subsets\n",
    "\n",
    "print get_all_subsets([1,2,3])"
   ]
  },
  {
   "cell_type": "code",
   "execution_count": null,
   "metadata": {
    "collapsed": true
   },
   "outputs": [],
   "source": []
  }
 ],
 "metadata": {
  "kernelspec": {
   "display_name": "Python 2",
   "language": "python",
   "name": "python2"
  },
  "language_info": {
   "codemirror_mode": {
    "name": "ipython",
    "version": 2
   },
   "file_extension": ".py",
   "mimetype": "text/x-python",
   "name": "python",
   "nbconvert_exporter": "python",
   "pygments_lexer": "ipython2",
   "version": "2.7.11"
  }
 },
 "nbformat": 4,
 "nbformat_minor": 0
}
