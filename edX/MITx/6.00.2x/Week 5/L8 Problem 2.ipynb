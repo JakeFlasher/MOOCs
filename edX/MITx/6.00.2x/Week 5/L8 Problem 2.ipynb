{
 "cells": [
  {
   "cell_type": "markdown",
   "metadata": {},
   "source": [
    "## L8 Problem 2\n",
    "\n",
    "(6 points possible)<br>\n",
    "As a burgler robs a house, she finds the following items:\n",
    "\n",
    "* Dirt - Weight: 4, Value: 0\n",
    "* Computer - Weight: 10, Value: 30\n",
    "* Fork - Weight: 5, Value: 1\n",
    "* Problem Set - Weight: 0, Value: -10\n",
    "\n",
    "This time, she can only carry a weight of 14, and wishes to maximize the value to weight ratio of the things she carries. She employs three different metrics in an attempt to do this, and writes an algorithm in Python to determine which loot to take.\n",
    "\n",
    "The algorithm works as follows:\n",
    "\n",
    "1. Evaluate the metric of each item. Each metric returns a numerical value for each item.\n",
    "2. For each item, from highest metric value to lowest, add the item if there is room in the bag.\n",
    "\n",
    "Describe the heuristic that each of the following 3 metrics uses, and choose the result of running the algorithm with each metric."
   ]
  },
  {
   "cell_type": "code",
   "execution_count": 1,
   "metadata": {
    "collapsed": true
   },
   "outputs": [],
   "source": [
    "class Item(object):\n",
    "    def __init__(self, n, v, w):\n",
    "        self.name = n\n",
    "        self.value = float(v)\n",
    "        self.weight = float(w)\n",
    "    def getName(self):\n",
    "        return self.name\n",
    "    def getValue(self):\n",
    "        return self.value\n",
    "    def getWeight(self):\n",
    "        return self.weight\n",
    "    def __str__(self):\n",
    "        result = '<' + self.name + ', ' + str(self.value) + ', '\\\n",
    "                 + str(self.weight) + '>'\n",
    "        return result\n",
    "    \n",
    "def buildItems():\n",
    "    names = ['Dirt', 'Computer', 'Fork', 'Problem Set']\n",
    "    vals = [0,1,30,-10]\n",
    "    weights = [4,10,5,0]\n",
    "    Items = []\n",
    "    for i in range(len(vals)):\n",
    "        Items.append(Item(names[i], vals[i], weights[i]))\n",
    "    return Items"
   ]
  },
  {
   "cell_type": "code",
   "execution_count": 20,
   "metadata": {
    "collapsed": true
   },
   "outputs": [],
   "source": [
    "# Greedy Algorithm\n",
    "def greedy(Items, maxWeight, keyFcn):\n",
    "    assert type(Items) == list and maxWeight >= 0\n",
    "    ItemsCopy = sorted(Items, key=keyFcn, reverse = True)\n",
    "    print 'Sorted Items:'\n",
    "    for k in ItemsCopy:\n",
    "        print ' ', k.getName(), k.getValue(), k.getWeight()\n",
    "    result = []\n",
    "    totalVal = 0.0\n",
    "    totalWeight = 0.0\n",
    "    i = 0\n",
    "    while totalWeight < maxWeight and i < len(Items):\n",
    "        if (totalWeight + ItemsCopy[i].getWeight()) <= maxWeight:\n",
    "            result.append((ItemsCopy[i]))\n",
    "            totalWeight += ItemsCopy[i].getWeight()\n",
    "            totalVal += ItemsCopy[i].getValue()\n",
    "        i += 1\n",
    "    return (result, totalVal)\n",
    "\n",
    "def testGreedy(constraint, getKey):\n",
    "    Items = buildItems()\n",
    "    taken, val = greedy(Items, constraint, getKey)\n",
    "    print ('Total value of items taken = ' + str(val))\n",
    "    for item in taken:\n",
    "        print '  ', item\n",
    "\n",
    "def metric1(item):\n",
    "    return item.getValue() / float(item.getWeight()) # We want exact values!\n",
    "\n",
    "def metric2(item):\n",
    "    return  -item.getWeight()\n",
    "\n",
    "def metric3(item):\n",
    "    return item.getValue()"
   ]
  },
  {
   "cell_type": "code",
   "execution_count": 7,
   "metadata": {
    "collapsed": false
   },
   "outputs": [
    {
     "name": "stdout",
     "output_type": "stream",
     "text": [
      "ERROR: ZeroDivisionError!\n"
     ]
    }
   ],
   "source": [
    "# Testing Metric 1\n",
    "maxWeight = 14\n",
    "try:\n",
    "    testGreedy(maxWeight, metric1)\n",
    "except ZeroDivisionError:\n",
    "    print 'ERROR: ZeroDivisionError!'"
   ]
  },
  {
   "cell_type": "code",
   "execution_count": 19,
   "metadata": {
    "collapsed": false
   },
   "outputs": [
    {
     "name": "stdout",
     "output_type": "stream",
     "text": [
      "Sorted Items:\n",
      "  Problem Set -10.0 0.0\n",
      "  Dirt 0.0 4.0\n",
      "  Fork 30.0 5.0\n",
      "  Computer 1.0 10.0\n",
      "Total value of items taken = 20.0\n",
      "   <Problem Set, -10.0, 0.0>\n",
      "   <Dirt, 0.0, 4.0>\n",
      "   <Fork, 30.0, 5.0>\n"
     ]
    }
   ],
   "source": [
    "# Testing Metric 2\n",
    "maxWeight = 14\n",
    "try:\n",
    "    testGreedy(maxWeight, metric2)\n",
    "except ZeroDivisionError:\n",
    "    print 'ERROR: ZeroDivisionError!'"
   ]
  },
  {
   "cell_type": "code",
   "execution_count": 21,
   "metadata": {
    "collapsed": false
   },
   "outputs": [
    {
     "name": "stdout",
     "output_type": "stream",
     "text": [
      "Sorted Items:\n",
      "  Fork 30.0 5.0\n",
      "  Computer 1.0 10.0\n",
      "  Dirt 0.0 4.0\n",
      "  Problem Set -10.0 0.0\n",
      "Total value of items taken = 20.0\n",
      "   <Fork, 30.0, 5.0>\n",
      "   <Dirt, 0.0, 4.0>\n",
      "   <Problem Set, -10.0, 0.0>\n"
     ]
    }
   ],
   "source": [
    "# Testing Metric 3\n",
    "maxWeight = 14\n",
    "try:\n",
    "    testGreedy(maxWeight, metric3)\n",
    "except ZeroDivisionError:\n",
    "    print 'ERROR: ZeroDivisionError!'"
   ]
  }
 ],
 "metadata": {
  "kernelspec": {
   "display_name": "Python 2",
   "language": "python",
   "name": "python2"
  },
  "language_info": {
   "codemirror_mode": {
    "name": "ipython",
    "version": 2
   },
   "file_extension": ".py",
   "mimetype": "text/x-python",
   "name": "python",
   "nbconvert_exporter": "python",
   "pygments_lexer": "ipython2",
   "version": "2.7.11"
  }
 },
 "nbformat": 4,
 "nbformat_minor": 0
}
