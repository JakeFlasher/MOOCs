{
 "cells": [
  {
   "cell_type": "markdown",
   "metadata": {},
   "source": [
    "## L8 Problem 3\n",
    "\n",
    "(6 points possible)<br>\n",
    "Please help the burglar out! For each of the following greedy metrics, what should be the burglar's first two choices of items? Here's a table of the items from the slides:\n",
    "\n",
    "item    |  $  | kg | \\$/kg\n",
    "--------|-----|----|------\n",
    "clock   | 175 | 10 | 17.5\n",
    "picture |  90 |  9 |   10\n",
    "radio   |  20 |  4 |    5\n",
    "vase    |  50 |  2 |   25\n",
    "book    |  10 |  1 |   10\n",
    "computer| 200 | 20 |   10\n",
    "\n",
    "For this problem, assume that the maximum weight the burglar can carry is 20.\n",
    "\n",
    "Metric: max value\n",
    " 1. computer\n",
    " 2. -\n",
    " \n",
    "Metric: min weight\n",
    " 1. book\n",
    " 2. vase\n",
    " \n",
    "Metric: max value/weight ratio\n",
    " 1. vase\n",
    " 2. clock"
   ]
  }
 ],
 "metadata": {
  "kernelspec": {
   "display_name": "Python 2",
   "language": "python",
   "name": "python2"
  },
  "language_info": {
   "codemirror_mode": {
    "name": "ipython",
    "version": 2
   },
   "file_extension": ".py",
   "mimetype": "text/x-python",
   "name": "python",
   "nbconvert_exporter": "python",
   "pygments_lexer": "ipython2",
   "version": "2.7.11"
  }
 },
 "nbformat": 4,
 "nbformat_minor": 0
}
