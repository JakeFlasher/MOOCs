{
 "cells": [
  {
   "cell_type": "markdown",
   "metadata": {},
   "source": [
    "# REFRESHER ON GENERATORS\n",
    "\n",
    "Here is the [lecture from 6.00.1x on generators](https://www.youtube.com/watch?v=VoMVZbVRlZg). Additionally, you can also take a look at Chapter 8.3 in the textbook. \n",
    "\n",
    "For the following problem, consider the following way to write a power set generator. The number of possible combinations to put n items into one bag is 2n. Here, items is a Python list. If need be, also check out the [docs on bitwise operators](https://wiki.python.org/moin/BitwiseOperators) (<<, >>, &, |, ~, ^).\n",
    "\n",
    "```python\n",
    "# generate all combinations of N items\n",
    "def powerSet(items):\n",
    "    N = len(items)\n",
    "    # enumerate the 2**N possible combinations\n",
    "    for i in xrange(2**N):\n",
    "        combo = []\n",
    "        for j in xrange(N):\n",
    "            # test bit jth of integer i\n",
    "            if (i >> j) % 2 == 1:\n",
    "                combo.append(items[j])\n",
    "        yield combo\n",
    "```"
   ]
  },
  {
   "cell_type": "code",
   "execution_count": 4,
   "metadata": {
    "collapsed": false
   },
   "outputs": [
    {
     "name": "stdout",
     "output_type": "stream",
     "text": [
      "[]\n",
      "[1]\n",
      "[2]\n",
      "[1, 2]\n",
      "[3]\n",
      "[1, 3]\n",
      "[2, 3]\n",
      "[1, 2, 3]\n"
     ]
    }
   ],
   "source": [
    "def powerSet(items):\n",
    "    N = len(items)\n",
    "    # enumerate the 2**N possible combinations\n",
    "    for i in xrange(2**N):\n",
    "        combo = []\n",
    "        for j in xrange(N):\n",
    "            # test bit jth of integer i\n",
    "            #print '#', i, j, i >> j, (i >> j) % 2\n",
    "            if (i >> j) % 2 == 1:\n",
    "                combo.append(items[j])\n",
    "        yield combo\n",
    "\n",
    "for k in powerSet([1,2,3]):\n",
    "    print k"
   ]
  },
  {
   "cell_type": "markdown",
   "metadata": {},
   "source": [
    "## L8 Problem 4\n",
    "\n",
    "(10 points possible)<br>\n",
    "As above, suppose we have a generator that returns every combination of objects in one bag. We can represent this as a list of 1s and 0s denoting whether each item is in the bag or not.\n",
    "\n",
    "Write a generator that returns every arrangement of items such that each is in one or none of two different bags. Each combination should be given as a tuple of two lists, the first being the items in bag1, and the second being the items in bag2.\n",
    "\n",
    "```python\n",
    "def yieldAllCombos(items):\n",
    "    \"\"\"\n",
    "      Generates all combinations of N items into two bags, whereby each \n",
    "      item is in one or zero bags.\n",
    "\n",
    "      Yields a tuple, (bag1, bag2), where each bag is represented as \n",
    "      a list of which item(s) are in each bag.\n",
    "    \"\"\"\n",
    "```\n",
    "\n",
    "Note this generator should be pretty similar to the powerSet generator above.\n",
    "\n",
    "We mentioned that the number of possible combinations for N items into one bag is $2^n$. How many possible combinations exist when there are two bags? Think about this for a few minutes, then click the following hint to confirm if your guess is correct. Remember that a given item can only be in bag1, bag2, or neither bag -- it is not possible for an item to be present in both bags!\n",
    "\n",
    "How many possible combinations exist for $N$ items into two bags?\n",
    "\n",
    "With two bags, there are $3^n$ possible combinations available. With one bag we determined there were $2^n$ possible combinations available by representing the bag as a list of binary bits, 0 or 1. Since there are $N$ bits, and they can be one of two possibilities, there must be $2^n$ possibilities. With two bags there thus must be $3^n$ possible combinations. You can imagine this by representing the two bags as a list of \"trinary\" bits, 0, 1, or 2 (a 0 if an item is in neither bag; 1 if it is in bag1; 2 if it is in bag2). With the \"trinary\" bits, there are N bits that can each be one of three possibilities - thus there must be 3n possible combinations."
   ]
  },
  {
   "cell_type": "code",
   "execution_count": 10,
   "metadata": {
    "collapsed": false
   },
   "outputs": [
    {
     "name": "stdout",
     "output_type": "stream",
     "text": [
      "([], [])\n",
      "(['A'], [])\n",
      "([], ['A'])\n",
      "(['B'], [])\n",
      "(['A', 'B'], [])\n",
      "(['B'], ['A'])\n",
      "([], ['B'])\n",
      "(['A'], ['B'])\n",
      "([], ['A', 'B'])\n",
      "(['C'], [])\n",
      "(['A', 'C'], [])\n",
      "(['C'], ['A'])\n",
      "(['B', 'C'], [])\n",
      "(['A', 'B', 'C'], [])\n",
      "(['B', 'C'], ['A'])\n",
      "(['C'], ['B'])\n",
      "(['A', 'C'], ['B'])\n",
      "(['C'], ['A', 'B'])\n",
      "([], ['C'])\n",
      "(['A'], ['C'])\n",
      "([], ['A', 'C'])\n",
      "(['B'], ['C'])\n",
      "(['A', 'B'], ['C'])\n",
      "(['B'], ['A', 'C'])\n",
      "([], ['B', 'C'])\n",
      "(['A'], ['B', 'C'])\n",
      "([], ['A', 'B', 'C'])\n"
     ]
    }
   ],
   "source": [
    "def yieldAllCombos(items):\n",
    "    \"\"\"\n",
    "        Generates all combinations of N items into two bags, whereby each \n",
    "        item is in one or zero bags.\n",
    "\n",
    "        Yields a tuple, (bag1, bag2), where each bag is represented as a list \n",
    "        of which item(s) are in each bag.\n",
    "    \"\"\"\n",
    "    n = len(items)\n",
    "    for i in range(3 ** n):\n",
    "        bag1 = []\n",
    "        bag2 = []\n",
    "        for j in range(n):\n",
    "            if (i / (3 ** j)) % 3 == 1:\n",
    "                bag1.append(items[j])\n",
    "            elif (i / (3 ** j)) % 3 == 2:\n",
    "                bag2.append(items[j])\n",
    "        yield (bag1, bag2)\n",
    "        \n",
    "for k in yieldAllCombos(['A','B','C']):\n",
    "    print k"
   ]
  },
  {
   "cell_type": "code",
   "execution_count": 11,
   "metadata": {
    "collapsed": false
   },
   "outputs": [
    {
     "name": "stdout",
     "output_type": "stream",
     "text": [
      "[[], ['A'], ['B'], ['C'], ['A', 'B'], ['A', 'C'], ['B', 'C'], ['A', 'B', 'C']]\n"
     ]
    }
   ],
   "source": [
    "# Using itertools\n",
    "import itertools\n",
    "def genPset(Items):\n",
    "    \"\"\"Generate a list of lists representing the power set of Items\"\"\"\n",
    "    num_items = len(Items)\n",
    "    pset = []\n",
    "    for curr_len in xrange(0, num_items + 1):\n",
    "        for curr_set in itertools.combinations(Items, curr_len):\n",
    "            pset.append(list(curr_set))\n",
    "    return pset\n",
    "\n",
    "print genPset(['A', 'B', 'C'])"
   ]
  },
  {
   "cell_type": "code",
   "execution_count": 16,
   "metadata": {
    "collapsed": false
   },
   "outputs": [
    {
     "name": "stdout",
     "output_type": "stream",
     "text": [
      "[]\n",
      "['A']\n",
      "['B']\n",
      "['C']\n",
      "['A', 'B']\n",
      "['A', 'C']\n",
      "['B', 'C']\n",
      "['A', 'B', 'C']\n"
     ]
    }
   ],
   "source": [
    "from itertools import *\n",
    "def powerset(iterable):\n",
    "    \"powerset([1,2,3]) --> () (1,) (2,) (3,) (1,2) (1,3) (2,3) (1,2,3)\"\n",
    "    s = list(iterable)\n",
    "    return chain.from_iterable(combinations(s, r) for r in range(len(s)+1))\n",
    "\n",
    "for k in powerset(['A', 'B', 'C']):\n",
    "    print list(k)"
   ]
  },
  {
   "cell_type": "code",
   "execution_count": null,
   "metadata": {
    "collapsed": true
   },
   "outputs": [],
   "source": []
  }
 ],
 "metadata": {
  "kernelspec": {
   "display_name": "Python 2",
   "language": "python",
   "name": "python2"
  },
  "language_info": {
   "codemirror_mode": {
    "name": "ipython",
    "version": 2
   },
   "file_extension": ".py",
   "mimetype": "text/x-python",
   "name": "python",
   "nbconvert_exporter": "python",
   "pygments_lexer": "ipython2",
   "version": "2.7.11"
  }
 },
 "nbformat": 4,
 "nbformat_minor": 0
}
