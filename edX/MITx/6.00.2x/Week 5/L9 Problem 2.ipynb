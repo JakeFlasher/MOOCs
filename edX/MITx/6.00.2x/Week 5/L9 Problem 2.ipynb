{
 "cells": [
  {
   "cell_type": "markdown",
   "metadata": {},
   "source": [
    "## L9 Problem 2\n",
    "\n",
    "(10 points possible)<br>\n",
    "Consider our representation of permutations of students in a line from Problem 1. In this case, we will consider a line of three students, Alice, Bob, and Carol (denoted A, B, and C). Using the Graph class created in the lecture, we can create a graph with the design chosen in Problem 1. To recap, vertices represent permutations of the students in line; edges connect two permutations if one can be made into the other by swapping two adjacent students.\n",
    "\n",
    "We construct our graph by first adding the following nodes:\n",
    "\n",
    "```python\n",
    "nodes = []\n",
    "nodes.append(Node(\"ABC\")) # nodes[0]\n",
    "nodes.append(Node(\"ACB\")) # nodes[1]\n",
    "nodes.append(Node(\"BAC\")) # nodes[2]\n",
    "nodes.append(Node(\"BCA\")) # nodes[3]\n",
    "nodes.append(Node(\"CAB\")) # nodes[4]\n",
    "nodes.append(Node(\"CBA\")) # nodes[5]\n",
    "\n",
    "g = Graph()\n",
    "for n in nodes:\n",
    "    g.addNode(n)\n",
    "Add the appropriate edges to the graph.\n",
    "```\n",
    "\n",
    "**Hint: How to get started?**<br>\n",
    "Write your code in terms of the nodes list from the code above. For each node, think about what permutation is allowed. A permutation of a set is a rearrangement of the elements in that set. In this problem, you are only adding edges between nodes whose permutations are between elements in the set beside each other . For example, an acceptable permutation (edge) is between \"ABC\" and \"ACB\" but not between \"ABC\" and \"CAB\"."
   ]
  },
  {
   "cell_type": "code",
   "execution_count": 5,
   "metadata": {
    "collapsed": true
   },
   "outputs": [],
   "source": [
    "class Node(object):\n",
    "    def __init__(self, name):\n",
    "        self.name = str(name)\n",
    "    def getName(self):\n",
    "        return self.name\n",
    "    def __str__(self):\n",
    "        return self.name\n",
    "\n",
    "\n",
    "class Edge(object):\n",
    "    def __init__(self, src, dest):\n",
    "        self.src = src\n",
    "        self.dest = dest\n",
    "    def getSource(self):\n",
    "        return self.src\n",
    "    def getDestination(self):\n",
    "        return self.dest\n",
    "    def __str__(self):\n",
    "        return str(self.src) + '->' + str(self.dest)\n",
    "    \n",
    "\n",
    "class Digraph(object):\n",
    "    def __init__(self):\n",
    "        self.nodes = set([])\n",
    "        self.edges = {}\n",
    "        \n",
    "    def addNode(self, node):\n",
    "        if node in self.nodes:\n",
    "            raise ValueError('Duplicate node')\n",
    "        else:\n",
    "            self.nodes.add(node)\n",
    "            self.edges[node] = []\n",
    "            \n",
    "    def addEdge(self, edge):\n",
    "        src = edge.getSource()\n",
    "        dest = edge.getDestination()\n",
    "        if not(src in self.nodes and dest in self.nodes):\n",
    "            raise ValueError('Node not in graph')\n",
    "        self.edges[src].append(dest)\n",
    "        \n",
    "    def childrenOf(self, node):\n",
    "        return self.edges[node]\n",
    "    \n",
    "    def hasNode(self, node):\n",
    "        return node in self.nodes\n",
    "    \n",
    "    def __str__(self):\n",
    "        res = ''\n",
    "        for k in self.edges:\n",
    "            for d in self.edges[k]:\n",
    "                res = res + str(k) + '->' + str(d) + '\\n'\n",
    "        return res[:-1]\n",
    "    \n",
    "    \n",
    "class Graph(Digraph):\n",
    "    def addEdge(self, edge):\n",
    "        Digraph.addEdge(self, edge)\n",
    "        rev = Edge(edge.getDestination(), edge.getSource())\n",
    "        Digraph.addEdge(self, rev)"
   ]
  },
  {
   "cell_type": "code",
   "execution_count": 22,
   "metadata": {
    "collapsed": true
   },
   "outputs": [],
   "source": [
    "# First create the graph\n",
    "nodes = []\n",
    "nodes.append(Node(\"ABC\")) # nodes[0]\n",
    "nodes.append(Node(\"ACB\")) # nodes[1]\n",
    "nodes.append(Node(\"BAC\")) # nodes[2]\n",
    "nodes.append(Node(\"BCA\")) # nodes[3]\n",
    "nodes.append(Node(\"CAB\")) # nodes[4]\n",
    "nodes.append(Node(\"CBA\")) # nodes[5]\n",
    "\n",
    "g = Graph()\n",
    "for n in nodes:\n",
    "    g.addNode(n)"
   ]
  },
  {
   "cell_type": "code",
   "execution_count": null,
   "metadata": {
    "collapsed": true
   },
   "outputs": [],
   "source": [
    "# Adding edges\n",
    "g.addEdge(Edge(nodes[0], nodes[1]))\n",
    "g.addEdge(Edge(nodes[0], nodes[2]))\n",
    "g.addEdge(Edge(nodes[1], nodes[4]))\n",
    "g.addEdge(Edge(nodes[2], nodes[3]))\n",
    "g.addEdge(Edge(nodes[3], nodes[5]))\n",
    "g.addEdge(Edge(nodes[4], nodes[5]))"
   ]
  },
  {
   "cell_type": "code",
   "execution_count": 27,
   "metadata": {
    "collapsed": false
   },
   "outputs": [
    {
     "name": "stdout",
     "output_type": "stream",
     "text": [
      "BCA BC\n",
      "CAB CA\n",
      "ACB\n",
      "BAC\n",
      "ACB\n",
      "BAC\n",
      "CBA\n",
      "ACB\n",
      "BAC\n",
      "ACB\n",
      "BAC\n",
      "CBA\n",
      "ACB\n",
      "BAC\n",
      "ACB\n",
      "BAC\n",
      "CBA\n",
      "ACB\n",
      "BAC\n",
      "ACB\n",
      "BAC\n",
      "CBA\n",
      "ACB\n",
      "BAC\n",
      "ACB\n",
      "BAC\n",
      "CBA\n"
     ]
    }
   ],
   "source": [
    "for n1 in nodes:\n",
    "    name1 = n1.getName()\n",
    "    added = []\n",
    "    for n2 in nodes:\n",
    "        name2 = (n2.getName())[::-1]\n",
    "        subs1 = name2[:2]\n",
    "        subs2 = name2[1:]\n",
    "        if subs1 in name1 and subs1 not in added:\n",
    "            added.append(subs1)\n",
    "            g.addEdge(Edge(n1, n2))\n",
    "        elif subs2 in name1 and subs2 not in added:\n",
    "            added.append(subs2)\n",
    "            g.addEdge(Edge(n1, n2))\n",
    "\n",
    "edges = g.childrenOf(nodes[0])\n",
    "for k in edges:\n",
    "    print k"
   ]
  },
  {
   "cell_type": "code",
   "execution_count": null,
   "metadata": {
    "collapsed": true
   },
   "outputs": [],
   "source": [
    "def geta(name1,name2):\n",
    "    invn1 =  name1[::-1]\n",
    "    if name1[:2] in name2 or name1[1:] in name2 or invn1[:2] in name2 or invn1[1:] in name2:\n",
    "        print name1, name2\n",
    "    return"
   ]
  }
 ],
 "metadata": {
  "kernelspec": {
   "display_name": "Python 2",
   "language": "python",
   "name": "python2"
  },
  "language_info": {
   "codemirror_mode": {
    "name": "ipython",
    "version": 2
   },
   "file_extension": ".py",
   "mimetype": "text/x-python",
   "name": "python",
   "nbconvert_exporter": "python",
   "pygments_lexer": "ipython2",
   "version": "2.7.11"
  }
 },
 "nbformat": 4,
 "nbformat_minor": 0
}
