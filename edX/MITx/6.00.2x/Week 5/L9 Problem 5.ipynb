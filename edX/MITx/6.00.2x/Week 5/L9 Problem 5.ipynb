{
 "cells": [
  {
   "cell_type": "markdown",
   "metadata": {},
   "source": [
    "# L9 Problem 5\n",
    "\n",
    "(5 points possible)<br>\n",
    "Challenge Problem! This problem is difficult and may stump you, but we include it because it is very interesting, especially for those who are more mathematically inclined.\n",
    "\n",
    "In the following examples, assume all graphs are undirected. That is, an edge from *A* to *B* is the same as an edge from *B* to *A* and counts as exactly one edge. A clique is an unweighted graph where each node connects to all other nodes. We denote the clique with *n* nodes as *KN*. Answer the following questions in terms of *n*.\n",
    "\n",
    "5.1 How many edges are in *KN*?"
   ]
  },
  {
   "cell_type": "markdown",
   "metadata": {},
   "source": [
    "Edges for *n* nodes = (n-1)+(n-2)+(n-3)+...+(n-n)\n",
    "Edges = $\\frac{n(n-1)}{2}$"
   ]
  },
  {
   "cell_type": "markdown",
   "metadata": {},
   "source": [
    "Consider the new version of DFS. This traverses paths until all non-circular paths from the source to the destination have been found, and returns the shortest one.\n",
    "\n",
    "5.2 Let *A* be the source node, and *B* be the destination in *KN*. How many paths of length 2 exist from *A* to *B*?"
   ]
  },
  {
   "cell_type": "markdown",
   "metadata": {},
   "source": [
    "- We have a source A and a destination B. Paths of length 2 contain exactly three three nodes. We must select one more node to place in the middle of our path. As $KN$ has all nodes interconnected and we cannot select the A or B, we are left with N - 2 choices to construct a path.<br>\n",
    "Answer: $n-2$"
   ]
  },
  {
   "cell_type": "markdown",
   "metadata": {},
   "source": [
    "5.3 How many paths of length 3 exist from *A* to *B*?\n"
   ]
  },
  {
   "cell_type": "markdown",
   "metadata": {},
   "source": [
    "- Use the same reasoning as used for the previous problem. After knowing our source and destination, we must travel through 2 additional nodes without touching any node twice. For the first node, we have n-2 choices, and for the second, we have n-3 choices.\n",
    "\n",
    "Note that this is equivalent to $\\frac{(n-2)!}{(n-4)!}$<br>\n",
    "Answer: $(n-2)*(n-3)$\n"
   ]
  },
  {
   "cell_type": "markdown",
   "metadata": {},
   "source": [
    "5.4 Continuing the logic used above, calculate the number of paths of length *m* from *A* to *B*, where $1 ≤ m ≤ (n-1)$, and write this number as a ratio of factorials."
   ]
  },
  {
   "cell_type": "markdown",
   "metadata": {},
   "source": [
    "- Following the previous problems, it is clear that in choosing our first node between *A* and *B*, we have (n-2) choices. Similarly, in choosing the second, we have (n-3) choices.\n",
    "\n",
    "In fact, in choosing the *jth* node, we have (n-j-1) choices. Taking the product from j = 1 to m - 1 (since m - 1 nodes exist between A and B in a path of length m), we get $\\frac{(n-2)!}{(n-m-1)!}$\n",
    "\n",
    "Answer: $\\frac{(n-2)!}{(n-m-1)!}$\n"
   ]
  },
  {
   "cell_type": "markdown",
   "metadata": {},
   "source": [
    "5.5 Using the fact that for any n, $\\frac{1}{0!}+\\frac{1}{1!}+\\frac{1}{2!}+...+\\frac{1}{n!} ≤e$ for all *n*, where e is some constant, determine the asymptotic bound on the number of paths explored by DFS. For simplicity, write $O(n)$ as just *n*, $O(n^2)$ as *n^2*, etc."
   ]
  },
  {
   "cell_type": "markdown",
   "metadata": {},
   "source": [
    "- Note that DFS will traverse every path from *A* to *B*. To calculate the number of paths, we must sum the paths of every length (from 1 to n-1). This sum can be written as:\n",
    "\n",
    "$\\frac{(n−2)!}{(n−2)!}+\\frac{(n−2)!}{(n−3)!}+\\frac{(n−2)!}{(n−4)!}+…+\\frac{(n−2)!}{0!}$\n",
    "This is equal to $(n-2)!*(\\frac{1}{0!}+\\frac{1}{1!}+\\frac{1}{2!}+\\frac{1}{3!}+...+\\frac{1}{(n-2)!})$.\n",
    "\n",
    "Since ($\\frac{1}{0!}+\\frac{1}{1!}+\\frac{1}{2!}+\\frac{1}{3!}+...+\\frac{1}{(n-2)!})≤e$, which is a constant, the number of paths is $O((n-2)!)$.\n",
    "\n",
    "Answer: $O((n-2)!)$"
   ]
  },
  {
   "cell_type": "code",
   "execution_count": null,
   "metadata": {
    "collapsed": true
   },
   "outputs": [],
   "source": []
  }
 ],
 "metadata": {
  "kernelspec": {
   "display_name": "Python 2",
   "language": "python",
   "name": "python2"
  },
  "language_info": {
   "codemirror_mode": {
    "name": "ipython",
    "version": 2
   },
   "file_extension": ".py",
   "mimetype": "text/x-python",
   "name": "python",
   "nbconvert_exporter": "python",
   "pygments_lexer": "ipython2",
   "version": "2.7.11"
  }
 },
 "nbformat": 4,
 "nbformat_minor": 0
}
