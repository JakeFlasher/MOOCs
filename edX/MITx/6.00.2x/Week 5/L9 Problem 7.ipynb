{
 "cells": [
  {
   "cell_type": "markdown",
   "metadata": {},
   "source": [
    "# L9 Problem 7\n",
    "\n",
    "(10 points possible)<br>\n",
    "Consider once again our permutations of students in a line. Recall the nodes in the graph represent permutations, and that the edges represent swaps of adjacent students. We want to design a weighted graph, weighting edges higher for moves that are harder to make. Which of these could be easily implemented by simply assigning weights to the edges already in the graph?\n",
    "\n",
    "   * A large student who is difficult to move around in line.\n",
    "   * A sticky spot on the floor which is difficult to move onto and off of.\n",
    "   * A student who resists movement to the back of the line, but accepts movement toward the front.\n",
    "   \n",
    "Answer: \n",
    "\n",
    "Write a WeightedEdge class that extends Edge. Its constructor requires a weight parameter, as well as the parameters from Edge. You should additionally include a getWeight method. The string value of a WeightedEdge from node A to B with a weight of 3 should be \"A->B (3)\".\n",
    "\n",
    "```python\n",
    "class WeightedEdge(Edge):\n",
    "    def __init__(self, src, dest, weight):\n",
    "        # Your code here\n",
    "        pass\n",
    "    def getWeight(self):\n",
    "        # Your code here\n",
    "        pass\n",
    "    def __str__(self):\n",
    "        # Your code here\n",
    "        pass\n",
    "```"
   ]
  },
  {
   "cell_type": "markdown",
   "metadata": {},
   "source": [
    "## Class Edge from Graph.ipynb\n",
    "```python\n",
    "class Edge(object):\n",
    "    def __init__(self, src, dest):\n",
    "        self.src = src\n",
    "        self.dest = dest\n",
    "    def getSource(self):\n",
    "        return self.src\n",
    "    def getDestination(self):\n",
    "        return self.dest\n",
    "    def __str__(self):\n",
    "        return str(self.src) + '->' + str(self.dest)\n",
    "```"
   ]
  },
  {
   "cell_type": "code",
   "execution_count": 1,
   "metadata": {
    "collapsed": true
   },
   "outputs": [],
   "source": [
    "%run 'Graphs.ipynb'\n",
    "\n",
    "class WeightedEdge(Edge):\n",
    "    def __init__(self, src, dest, weight):\n",
    "        Edge.__init__(self, src, dest)\n",
    "        self.weight = weight\n",
    "        \n",
    "    def getWeight(self):\n",
    "        return self.weight\n",
    "    \n",
    "    def __str__(self):\n",
    "        return str(self.src)+'->'+str(self.dest)+' ('+str(self.weight)+')'"
   ]
  },
  {
   "cell_type": "code",
   "execution_count": 2,
   "metadata": {
    "collapsed": true
   },
   "outputs": [],
   "source": [
    "# First create the graph\n",
    "nodes = []\n",
    "nodes.append(Node(\"ABC\")) # nodes[0]\n",
    "nodes.append(Node(\"ACB\")) # nodes[1]\n",
    "nodes.append(Node(\"BAC\")) # nodes[2]\n",
    "nodes.append(Node(\"BCA\")) # nodes[3]\n",
    "nodes.append(Node(\"CAB\")) # nodes[4]\n",
    "nodes.append(Node(\"CBA\")) # nodes[5]\n",
    "\n",
    "g = Graph()\n",
    "for n in nodes:\n",
    "    g.addNode(n)\n",
    "    \n",
    "# Adding edges\n",
    "g.addEdge(WeightedEdge(nodes[0], nodes[1], 1))\n",
    "g.addEdge(WeightedEdge(nodes[0], nodes[2], 2))\n",
    "g.addEdge(WeightedEdge(nodes[1], nodes[4], 2))\n",
    "g.addEdge(WeightedEdge(nodes[2], nodes[3], 2))\n",
    "g.addEdge(WeightedEdge(nodes[3], nodes[5], 1))\n",
    "g.addEdge(WeightedEdge(nodes[4], nodes[5], 1))\n"
   ]
  },
  {
   "cell_type": "code",
   "execution_count": 4,
   "metadata": {
    "collapsed": false
   },
   "outputs": [
    {
     "name": "stdout",
     "output_type": "stream",
     "text": [
      "1\n"
     ]
    }
   ],
   "source": [
    "we = WeightedEdge(nodes[0], nodes[1], 1)\n",
    "print we.getWeight()"
   ]
  },
  {
   "cell_type": "code",
   "execution_count": null,
   "metadata": {
    "collapsed": true
   },
   "outputs": [],
   "source": []
  }
 ],
 "metadata": {
  "kernelspec": {
   "display_name": "Python 2",
   "language": "python",
   "name": "python2"
  },
  "language_info": {
   "codemirror_mode": {
    "name": "ipython",
    "version": 2
   },
   "file_extension": ".py",
   "mimetype": "text/x-python",
   "name": "python",
   "nbconvert_exporter": "python",
   "pygments_lexer": "ipython2",
   "version": "2.7.11"
  }
 },
 "nbformat": 4,
 "nbformat_minor": 0
}
