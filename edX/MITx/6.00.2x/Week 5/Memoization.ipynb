{
 "cells": [
  {
   "cell_type": "markdown",
   "metadata": {},
   "source": [
    "# Memoization\n",
    "\n",
    "In computing, memoization is an optimization technique used primarily to speed up computer programs by storing the results of expensive function calls and returning the cached result when the same inputs occur again. "
   ]
  },
  {
   "cell_type": "code",
   "execution_count": 3,
   "metadata": {
    "collapsed": false
   },
   "outputs": [
    {
     "name": "stdout",
     "output_type": "stream",
     "text": [
      "('fib of', 0, '=', 1)\n",
      "('fib of', 1, '=', 1)\n",
      "('fib of', 2, '=', 2)\n",
      "('fib of', 3, '=', 3)\n",
      "('fib of', 4, '=', 5)\n",
      "('fib of', 5, '=', 8)\n",
      "('fib of', 6, '=', 13)\n",
      "('fib of', 7, '=', 21)\n",
      "('fib of', 8, '=', 34)\n",
      "('fib of', 9, '=', 55)\n",
      "('fib of', 10, '=', 89)\n",
      "('fib of', 11, '=', 144)\n",
      "('fib of', 12, '=', 233)\n",
      "('fib of', 13, '=', 377)\n",
      "('fib of', 14, '=', 610)\n",
      "('fib of', 15, '=', 987)\n",
      "('fib of', 16, '=', 1597)\n",
      "('fib of', 17, '=', 2584)\n",
      "('fib of', 18, '=', 4181)\n",
      "('fib of', 19, '=', 6765)\n",
      "('fib of', 20, '=', 10946)\n",
      "('fib of', 21, '=', 17711)\n",
      "('fib of', 22, '=', 28657)\n",
      "('fib of', 23, '=', 46368)\n",
      "('fib of', 24, '=', 75025)\n",
      "('fib of', 25, '=', 121393)\n",
      "('fib of', 26, '=', 196418)\n",
      "('fib of', 27, '=', 317811)\n",
      "('fib of', 28, '=', 514229)\n",
      "('fib of', 29, '=', 832040)\n",
      "('fib of', 30, '=', 1346269)\n",
      "('fib of', 31, '=', 2178309)\n",
      "--- 4.48399996758 seconds ---\n"
     ]
    }
   ],
   "source": [
    "# Compute Fibonnati in a common way, without memoization\n",
    "import time\n",
    "\n",
    "def fib(x):\n",
    "    assert type(x) == int and x >= 0\n",
    "    if x == 0 or x == 1:\n",
    "        return 1\n",
    "    else:\n",
    "        return fib(x-1) + fib(x-2)\n",
    "    \n",
    "def testFib(n):\n",
    "    assert type(n) == int and n >=  0\n",
    "    for i in range(n):\n",
    "        print ('fib of', i, '=', fib(i)) \n",
    "\n",
    "start_time = time.time()\n",
    "testFib(32)\n",
    "print(\"--- %s seconds ---\" % (time.time() - start_time))"
   ]
  },
  {
   "cell_type": "code",
   "execution_count": 4,
   "metadata": {
    "collapsed": false
   },
   "outputs": [
    {
     "name": "stdout",
     "output_type": "stream",
     "text": [
      "('fib of', 0, '=', 1)\n",
      "('fib of', 1, '=', 1)\n",
      "('fib of', 2, '=', 2)\n",
      "('fib of', 3, '=', 3)\n",
      "('fib of', 4, '=', 5)\n",
      "('fib of', 5, '=', 8)\n",
      "('fib of', 6, '=', 13)\n",
      "('fib of', 7, '=', 21)\n",
      "('fib of', 8, '=', 34)\n",
      "('fib of', 9, '=', 55)\n",
      "('fib of', 10, '=', 89)\n",
      "('fib of', 11, '=', 144)\n",
      "('fib of', 12, '=', 233)\n",
      "('fib of', 13, '=', 377)\n",
      "('fib of', 14, '=', 610)\n",
      "('fib of', 15, '=', 987)\n",
      "('fib of', 16, '=', 1597)\n",
      "('fib of', 17, '=', 2584)\n",
      "('fib of', 18, '=', 4181)\n",
      "('fib of', 19, '=', 6765)\n",
      "('fib of', 20, '=', 10946)\n",
      "('fib of', 21, '=', 17711)\n",
      "('fib of', 22, '=', 28657)\n",
      "('fib of', 23, '=', 46368)\n",
      "('fib of', 24, '=', 75025)\n",
      "('fib of', 25, '=', 121393)\n",
      "('fib of', 26, '=', 196418)\n",
      "('fib of', 27, '=', 317811)\n",
      "('fib of', 28, '=', 514229)\n",
      "('fib of', 29, '=', 832040)\n",
      "('fib of', 30, '=', 1346269)\n",
      "('fib of', 31, '=', 2178309)\n",
      "--- 0.00200009346008 seconds ---\n"
     ]
    }
   ],
   "source": [
    "# Test fibonnati saving previous computations in a dictionary\n",
    "def fastFib(x, memo):\n",
    "    assert type(x) == int and x >= 0 and type(memo) == dict\n",
    "    if x == 0 or x == 1:\n",
    "        return 1\n",
    "    if x in memo:\n",
    "        return memo[x]\n",
    "    result = fastFib(x-1, memo) + fastFib(x-2, memo)\n",
    "    memo[x] = result\n",
    "    return result\n",
    "\n",
    "def testFastFib(n):\n",
    "    assert type(n) == int and n >=  0\n",
    "    for i in range(n):\n",
    "        print ('fib of', i, '=', fastFib(i, {}))\n",
    "\n",
    "start_time = time.time()\n",
    "testFastFib(32)\n",
    "print(\"--- %s seconds ---\" % (time.time() - start_time))"
   ]
  },
  {
   "cell_type": "code",
   "execution_count": null,
   "metadata": {
    "collapsed": true
   },
   "outputs": [],
   "source": []
  }
 ],
 "metadata": {
  "kernelspec": {
   "display_name": "Python 2",
   "language": "python",
   "name": "python2"
  },
  "language_info": {
   "codemirror_mode": {
    "name": "ipython",
    "version": 2
   },
   "file_extension": ".py",
   "mimetype": "text/x-python",
   "name": "python",
   "nbconvert_exporter": "python",
   "pygments_lexer": "ipython2",
   "version": "2.7.11"
  }
 },
 "nbformat": 4,
 "nbformat_minor": 0
}
