{
 "cells": [
  {
   "cell_type": "markdown",
   "metadata": {},
   "source": [
    "# Greedy algorithm to the Knapsack\n",
    "\n",
    "## The problem\n",
    "\n",
    "Given a set of items, each with a weight and a value, determine the number of each item to include in a collection so that the total weight is less than or equal to a given limit and the total value is as large as possible. It derives its name from the problem faced by someone who is constrained by a fixed-size knapsack and must fill it with the most valuable items.\n",
    "\n",
    "# The algorithm\n",
    "\n",
    "* Take the best item\n",
    "* Take the next best item\n",
    "* Continue until cannot fit any more items"
   ]
  },
  {
   "cell_type": "code",
   "execution_count": 5,
   "metadata": {
    "collapsed": true
   },
   "outputs": [],
   "source": [
    "import pylab\n",
    "\n",
    "class Item(object):\n",
    "    def __init__(self, n, v, w):\n",
    "        self.name = n\n",
    "        self.value = float(v)\n",
    "        self.weight = float(w)\n",
    "    def getName(self):\n",
    "        return self.name\n",
    "    def getValue(self):\n",
    "        return self.value\n",
    "    def getWeight(self):\n",
    "        return self.weight\n",
    "    def __str__(self):\n",
    "        result = '<' + self.name + ', ' + str(self.value) + ', '\\\n",
    "                 + str(self.weight) + '>'\n",
    "        return result\n",
    "\n",
    "def buildItems():\n",
    "    names = ['clock', 'painting', 'radio', 'vase', 'book',\n",
    "             'computer']\n",
    "    vals = [175,90,20,50,10,200]\n",
    "    weights = [10,9,4,2,1,20]\n",
    "    Items = []\n",
    "    for i in range(len(vals)):\n",
    "        Items.append(Item(names[i], vals[i], weights[i]))\n",
    "    return Items"
   ]
  },
  {
   "cell_type": "code",
   "execution_count": 6,
   "metadata": {
    "collapsed": true
   },
   "outputs": [],
   "source": [
    "# Greedy Algorithm\n",
    "def greedy(Items, maxWeight, keyFcn):\n",
    "    assert type(Items) == list and maxWeight >= 0\n",
    "    ItemsCopy = sorted(Items, key=keyFcn, reverse = True)\n",
    "    result = []\n",
    "    totalVal = 0.0\n",
    "    totalWeight = 0.0\n",
    "    i = 0\n",
    "    while totalWeight < maxWeight and i < len(Items):\n",
    "        if (totalWeight + ItemsCopy[i].getWeight()) <= maxWeight:\n",
    "            result.append((ItemsCopy[i]))\n",
    "            totalWeight += ItemsCopy[i].getWeight()\n",
    "            totalVal += ItemsCopy[i].getValue()\n",
    "        i += 1\n",
    "    return (result, totalVal)\n",
    "\n",
    "# Interface to the algorithm\n",
    "def value(item):\n",
    "    return item.getValue()\n",
    "\n",
    "def weightInverse(item):\n",
    "    return 1.0/item.getWeight()\n",
    "\n",
    "def density(item):\n",
    "    return item.getValue()/item.getWeight()\n",
    "\n",
    "def testGreedy(Items, constraint, getKey):\n",
    "    taken, val = greedy(Items, constraint, getKey)\n",
    "    print ('Total value of items taken = ' + str(val))\n",
    "    for item in taken:\n",
    "        print '  ', item"
   ]
  },
  {
   "cell_type": "code",
   "execution_count": 7,
   "metadata": {
    "collapsed": false
   },
   "outputs": [
    {
     "name": "stdout",
     "output_type": "stream",
     "text": [
      "Items to choose from:\n",
      "   <clock, 175.0, 10.0>\n",
      "   <painting, 90.0, 9.0>\n",
      "   <radio, 20.0, 4.0>\n",
      "   <vase, 50.0, 2.0>\n",
      "   <book, 10.0, 1.0>\n",
      "   <computer, 200.0, 20.0>\n",
      "Use greedy by value to fill a knapsack of size 20\n",
      "Total value of items taken = 200.0\n",
      "   <computer, 200.0, 20.0>\n",
      "Use greedy by weight to fill a knapsack of size 20\n",
      "Total value of items taken = 170.0\n",
      "   <book, 10.0, 1.0>\n",
      "   <vase, 50.0, 2.0>\n",
      "   <radio, 20.0, 4.0>\n",
      "   <painting, 90.0, 9.0>\n",
      "Use greedy by density to fill a knapsack of size 20\n",
      "Total value of items taken = 255.0\n",
      "   <vase, 50.0, 2.0>\n",
      "   <clock, 175.0, 10.0>\n",
      "   <book, 10.0, 1.0>\n",
      "   <radio, 20.0, 4.0>\n"
     ]
    }
   ],
   "source": [
    "# Testing Greedy with different parameters\n",
    "def testGreedys(maxWeight = 20):\n",
    "    Items = buildItems()\n",
    "    print('Items to choose from:')\n",
    "    for item in Items:\n",
    "        print '  ', item\n",
    "    print 'Use greedy by value to fill a knapsack of size', maxWeight\n",
    "    testGreedy(Items, maxWeight, value)\n",
    "    print 'Use greedy by weight to fill a knapsack of size', maxWeight\n",
    "    testGreedy(Items, maxWeight, weightInverse)\n",
    "    print 'Use greedy by density to fill a knapsack of size', maxWeight\n",
    "    testGreedy(Items, maxWeight, density)\n",
    "    \n",
    "testGreedys()"
   ]
  },
  {
   "cell_type": "markdown",
   "metadata": {
    "collapsed": true
   },
   "source": [
    "---\n",
    "# Brute Force\n",
    "\n",
    "Tries all possible alternatives in order to find the optimal decision."
   ]
  },
  {
   "cell_type": "code",
   "execution_count": 18,
   "metadata": {
    "collapsed": false
   },
   "outputs": [
    {
     "name": "stdout",
     "output_type": "stream",
     "text": [
      "0010\n"
     ]
    }
   ],
   "source": [
    "# Transforms decimal to binary\n",
    "def dToB(n, numDigits):\n",
    "    \"\"\"requires: n is a natural number less than 2**numDigits\n",
    "      returns a binary string of length numDigits representing the\n",
    "              the decimal number n.\"\"\"\n",
    "    assert type(n)==int and type(numDigits)==int and n >=0 and n < 2**numDigits\n",
    "    bStr = ''\n",
    "    while n > 0:\n",
    "        bStr = str(n % 2) + bStr\n",
    "        n = n//2\n",
    "    while numDigits - len(bStr) > 0:\n",
    "        bStr = '0' + bStr\n",
    "    return bStr\n",
    "\n",
    "print dToB(2, 4)"
   ]
  },
  {
   "cell_type": "code",
   "execution_count": 11,
   "metadata": {
    "collapsed": false
   },
   "outputs": [
    {
     "name": "stdout",
     "output_type": "stream",
     "text": [
      "[[], [<__main__.Item object at 0x0000000007058CC0>], [<__main__.Item object at 0x0000000007058C18>]]\n"
     ]
    }
   ],
   "source": [
    "# Generate the Power Set\n",
    "def genPset(Items):\n",
    "    \"\"\"Generate a list of lists representing the power set of Items\"\"\"\n",
    "    numSubsets = 2**len(Items)\n",
    "    templates = []\n",
    "    for i in range(numSubsets):\n",
    "        templates.append(dToB(i, len(Items)))\n",
    "    pset = []\n",
    "    for t in templates:\n",
    "        elem = []\n",
    "        for j in range(len(t)):\n",
    "            if t[j] == '1':\n",
    "                elem.append(Items[j])\n",
    "        pset.append(elem)\n",
    "    return pset\n",
    "\n",
    "items = buildItems()\n",
    "print genPset(items)[:3]"
   ]
  },
  {
   "cell_type": "code",
   "execution_count": 12,
   "metadata": {
    "collapsed": true
   },
   "outputs": [],
   "source": [
    "# Choose the best decision using the Brute Force\n",
    "def chooseBest(pset, constraint, getVal, getWeight):\n",
    "    bestVal = 0.0\n",
    "    bestSet = None\n",
    "    for Items in pset:\n",
    "        ItemsVal = 0.0\n",
    "        ItemsWeight = 0.0\n",
    "        for item in Items:\n",
    "            ItemsVal += getVal(item)\n",
    "            ItemsWeight += getWeight(item)\n",
    "        if ItemsWeight <= constraint and ItemsVal > bestVal:\n",
    "            bestVal = ItemsVal\n",
    "            bestSet = Items\n",
    "    return (bestSet, bestVal)"
   ]
  },
  {
   "cell_type": "code",
   "execution_count": 13,
   "metadata": {
    "collapsed": false
   },
   "outputs": [
    {
     "name": "stdout",
     "output_type": "stream",
     "text": [
      "Total value of items taken = 275.0\n",
      "   <clock, 175.0, 10.0>\n",
      "   <painting, 90.0, 9.0>\n",
      "   <book, 10.0, 1.0>\n"
     ]
    }
   ],
   "source": [
    "# Test the Brute Force\n",
    "def testBest():\n",
    "    Items = buildItems()\n",
    "    pset = genPset(Items)\n",
    "    taken, val = chooseBest(pset, 20, Item.getValue, Item.getWeight)\n",
    "    print ('Total value of items taken = ' + str(val))\n",
    "    for item in taken:\n",
    "        print '  ', item\n",
    "\n",
    "testBest()"
   ]
  },
  {
   "cell_type": "markdown",
   "metadata": {},
   "source": [
    "---\n",
    "# Decision Tree\n",
    "\n",
    "A decision tree is a flowchart-like structure in which each internal node represents a \"test\" on an attribute (e.g. whether a coin flip comes up heads or tails), each branch represents the outcome of the test and each leaf node represents a class label (decision taken after computing all attributes). The paths from root to leaf represents classification rules."
   ]
  },
  {
   "cell_type": "code",
   "execution_count": 15,
   "metadata": {
    "collapsed": true
   },
   "outputs": [],
   "source": [
    "# Decision Tree to Optimize decisions\n",
    "def maxVal(toConsider, avail): \n",
    "    if toConsider == [] or avail == 0:\n",
    "        result = (0, ())\n",
    "    elif toConsider[0].getWeight() > avail:\n",
    "        result = maxVal(toConsider[1:], avail)\n",
    "    else:\n",
    "        nextItem = toConsider[0]\n",
    "\n",
    "        #Explore left branch\n",
    "        withVal, withToTake = maxVal(toConsider[1:],\n",
    "                                      avail - nextItem.getWeight())\n",
    "        withVal += nextItem.getValue()\n",
    "        #Explore right branch\n",
    "        withoutVal, withoutToTake = maxVal(toConsider[1:], avail)\n",
    "\n",
    "        #Choose better branch\n",
    "        if withVal > withoutVal:\n",
    "            result = (withVal, withToTake + (nextItem,))\n",
    "        else:\n",
    "            result = (withoutVal, withoutToTake)\n",
    "    return result"
   ]
  },
  {
   "cell_type": "code",
   "execution_count": 16,
   "metadata": {
    "collapsed": false
   },
   "outputs": [
    {
     "name": "stdout",
     "output_type": "stream",
     "text": [
      "<book, 10.0, 1.0>\n",
      "<painting, 90.0, 9.0>\n",
      "<clock, 175.0, 10.0>\n",
      "Total value of items taken = 275.0\n"
     ]
    }
   ],
   "source": [
    "# Testing the decision tree\n",
    "def smallTest():\n",
    "    Items = buildItems()\n",
    "    val, taken = maxVal(Items, 20)\n",
    "    for item in taken:\n",
    "        print(item)\n",
    "    print ('Total value of items taken = ' + str(val))\n",
    "    \n",
    "smallTest()"
   ]
  },
  {
   "cell_type": "code",
   "execution_count": null,
   "metadata": {
    "collapsed": true
   },
   "outputs": [],
   "source": []
  }
 ],
 "metadata": {
  "kernelspec": {
   "display_name": "Python 2",
   "language": "python",
   "name": "python2"
  },
  "language_info": {
   "codemirror_mode": {
    "name": "ipython",
    "version": 2
   },
   "file_extension": ".py",
   "mimetype": "text/x-python",
   "name": "python",
   "nbconvert_exporter": "python",
   "pygments_lexer": "ipython2",
   "version": "2.7.11"
  }
 },
 "nbformat": 4,
 "nbformat_minor": 0
}
