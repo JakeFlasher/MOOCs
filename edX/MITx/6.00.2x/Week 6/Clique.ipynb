{
 "cells": [
  {
   "cell_type": "markdown",
   "metadata": {},
   "source": [
    "# Cliques and Maximum cliques\n",
    "\n",
    "In graph theory, a clique is a subset of vertices of an undirected graph such that its induced subgraph is complete, that is, every two distinct vertices in the clique are adjacent."
   ]
  },
  {
   "cell_type": "markdown",
   "metadata": {},
   "source": [
    "## Power set\n",
    "The powerset of a set S is the set of all S's subsets. The elements of a powerset are themselves sets, always (because each element is a subset of S). "
   ]
  },
  {
   "cell_type": "code",
   "execution_count": 3,
   "metadata": {
    "collapsed": false
   },
   "outputs": [
    {
     "name": "stdout",
     "output_type": "stream",
     "text": [
      "[[], [3], [2], [3, 2], [1], [3, 1], [2, 1], [3, 2, 1]]\n"
     ]
    }
   ],
   "source": [
    "def powerSet(elts):\n",
    "    if len(elts) == 0:\n",
    "        return [[]]\n",
    "    else:\n",
    "        smaller = powerSet(elts[1:])\n",
    "        elt = [elts[0]]\n",
    "        withElt = []\n",
    "        for s in smaller:\n",
    "            withElt.append(s + elt)\n",
    "        allofthem = smaller + withElt\n",
    "        return allofthem\n",
    "\n",
    "print powerSet([1,2,3])"
   ]
  },
  {
   "cell_type": "code",
   "execution_count": 4,
   "metadata": {
    "collapsed": true
   },
   "outputs": [],
   "source": [
    "class Node(object):\n",
    "    def __init__(self, name):\n",
    "        self.name = str(name)\n",
    "        \n",
    "    def getName(self):\n",
    "        return self.name\n",
    "    \n",
    "    def __str__(self):\n",
    "        return self.name\n",
    "    \n",
    "    \n",
    "class Edge(object):\n",
    "    def __init__(self, src, dest):\n",
    "        self.src = src\n",
    "        self.dest = dest\n",
    "        \n",
    "    def getSource(self):\n",
    "        return self.src\n",
    "    \n",
    "    def getDestination(self):\n",
    "        return self.dest\n",
    "    \n",
    "    def __str__(self):\n",
    "        return str(self.src) + '->' + str(self.dest)\n",
    "\n",
    "    \n",
    "class WeightedEdge(Edge):\n",
    "    def __init__(self, src, dest, weight = 1.0):\n",
    "        self.src = src\n",
    "        self.dest = dest\n",
    "        self.weight = weight\n",
    "        \n",
    "    def getWeight(self):\n",
    "        return self.weight\n",
    "    \n",
    "    def __str__(self):\n",
    "        return str(self.src) + '->(' + str(self.weight) + ')'\\\n",
    "            + str(self.dest)\n",
    "        \n",
    "\n",
    "class Digraph(object):\n",
    "    def __init__(self):\n",
    "        self.nodes = set([])\n",
    "        self.edges = {}\n",
    "        \n",
    "    def addNode(self, node):\n",
    "        if node in self.nodes:\n",
    "            raise ValueError('Duplicate node')\n",
    "        else:\n",
    "            self.nodes.add(node)\n",
    "            self.edges[node] = []\n",
    "            \n",
    "    def addEdge(self, edge):\n",
    "        src = edge.getSource()\n",
    "        dest = edge.getDestination()\n",
    "        if not(src in self.nodes and dest in self.nodes):\n",
    "            raise ValueError('Node not in graph')\n",
    "        self.edges[src].append(dest)\n",
    "        \n",
    "    def childrenOf(self, node):\n",
    "        return self.edges[node]\n",
    "    \n",
    "    def hasNode(self, node):\n",
    "        return node in self.nodes\n",
    "    \n",
    "    def __str__(self):\n",
    "        res = ''\n",
    "        for k in self.edges:\n",
    "            for d in self.edges[k]:\n",
    "                res = res + str(k) + '->' + str(d) + '\\n'\n",
    "        return res[:-1]\n",
    "\n",
    "    \n",
    "class Graph(Digraph):\n",
    "    def addEdge(self, edge):\n",
    "        Digraph.addEdge(self, edge)\n",
    "        rev = Edge(edge.getDestination(), edge.getSource())\n",
    "        Digraph.addEdge(self, rev)"
   ]
  },
  {
   "cell_type": "code",
   "execution_count": 5,
   "metadata": {
    "collapsed": true
   },
   "outputs": [],
   "source": [
    "# create the powerset for a Graph\n",
    "def powerGraph(gr):\n",
    "    nodes = gr.nodes\n",
    "    nodesList = []\n",
    "    for elt in nodes:\n",
    "        nodesList.append(elt)\n",
    "    pSet = powerSet(nodesList)\n",
    "    return pSet"
   ]
  },
  {
   "cell_type": "code",
   "execution_count": 6,
   "metadata": {
    "collapsed": true
   },
   "outputs": [],
   "source": [
    "# Verify the maximum number of cliques\n",
    "def allConnected(gr,candidate):\n",
    "    for n in candidate:\n",
    "        for m in candidate:\n",
    "            if not n == m:\n",
    "                if n not in gr.childrenOf(m):\n",
    "                    return False\n",
    "    return True\n",
    "\n",
    "def maxClique(gr):\n",
    "    candidates = powerGraph(gr)\n",
    "    keepEm = []\n",
    "    for candidate in candidates:\n",
    "        if allConnected(gr, candidate):\n",
    "            keepEm.append(candidate)\n",
    "    bestLength = 0\n",
    "    bestSoln = None\n",
    "    for test in keepEm:\n",
    "        if len(test) > bestLength:\n",
    "            bestLength = len(test)\n",
    "            bestSoln = test\n",
    "    return bestSoln"
   ]
  },
  {
   "cell_type": "code",
   "execution_count": 7,
   "metadata": {
    "collapsed": true
   },
   "outputs": [],
   "source": [
    "def testGraph():\n",
    "    nodes = []\n",
    "    for name in range(5):\n",
    "        nodes.append(Node(str(name)))\n",
    "    g = Graph()\n",
    "    for n in nodes:\n",
    "        g.addNode(n)\n",
    "    g.addEdge(Edge(nodes[0],nodes[1]))\n",
    "    g.addEdge(Edge(nodes[1],nodes[2]))\n",
    "    g.addEdge(Edge(nodes[2],nodes[0]))\n",
    "    g.addEdge(Edge(nodes[2],nodes[4]))\n",
    "    g.addEdge(Edge(nodes[4],nodes[3]))\n",
    "    return g\n",
    "\n",
    "\n",
    "trialGraph = testGraph()\n",
    "myClique = maxClique(trialGraph)"
   ]
  },
  {
   "cell_type": "code",
   "execution_count": 9,
   "metadata": {
    "collapsed": false
   },
   "outputs": [
    {
     "name": "stdout",
     "output_type": "stream",
     "text": [
      "2 0 1\n"
     ]
    }
   ],
   "source": [
    "for clique in myClique:\n",
    "    print clique,"
   ]
  },
  {
   "cell_type": "code",
   "execution_count": null,
   "metadata": {
    "collapsed": true
   },
   "outputs": [],
   "source": []
  }
 ],
 "metadata": {
  "kernelspec": {
   "display_name": "Python 2",
   "language": "python",
   "name": "python2"
  },
  "language_info": {
   "codemirror_mode": {
    "name": "ipython",
    "version": 2
   },
   "file_extension": ".py",
   "mimetype": "text/x-python",
   "name": "python",
   "nbconvert_exporter": "python",
   "pygments_lexer": "ipython2",
   "version": "2.7.11"
  }
 },
 "nbformat": 4,
 "nbformat_minor": 0
}
