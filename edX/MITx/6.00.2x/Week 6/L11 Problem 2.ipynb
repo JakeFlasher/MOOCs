{
 "cells": [
  {
   "cell_type": "markdown",
   "metadata": {},
   "source": [
    "## L11 Problem 2\n",
    "\n",
    "(7 points possible)<br>\n",
    "Assume you have the following set: [-6, -6, -4, -4, 2, 2, 2]. Consider the following two clusters: C1 = [2, 2, -6, -6] and C2 = [-4, -4, 2]."
   ]
  },
  {
   "cell_type": "code",
   "execution_count": 10,
   "metadata": {
    "collapsed": false
   },
   "outputs": [
    {
     "name": "stdout",
     "output_type": "stream",
     "text": [
      "\n"
     ]
    }
   ],
   "source": [
    "def variance(c):\n",
    "    sumEls = 0\n",
    "    for el in c:\n",
    "        sumEls += el\n",
    "    mean = float(sumEls)/len(c)\n",
    "    var = 0\n",
    "    for el in c:\n",
    "        var += (mean-el)**2\n",
    "    return var\n",
    "\n",
    "def badness(C):\n",
    "    bad = 0\n",
    "    for c in C:\n",
    "        bad += variance(c)\n",
    "    return bad\n",
    "\n",
    "C1 = [2,2,-6,-6]\n",
    "C2 = [-4,-4,2]"
   ]
  },
  {
   "cell_type": "markdown",
   "metadata": {},
   "source": [
    "1) What is the variance of C1? Use the variance as defined in the video, where you do not divide by the size."
   ]
  },
  {
   "cell_type": "code",
   "execution_count": 11,
   "metadata": {
    "collapsed": false
   },
   "outputs": [
    {
     "name": "stdout",
     "output_type": "stream",
     "text": [
      "Variance C1: 64.0\n"
     ]
    }
   ],
   "source": [
    "print 'Variance C1:', variance(C1)"
   ]
  },
  {
   "cell_type": "markdown",
   "metadata": {},
   "source": [
    "2) What is the variance of C2? Use the variance as defined in the video, where you do not divide by the size."
   ]
  },
  {
   "cell_type": "code",
   "execution_count": 12,
   "metadata": {
    "collapsed": false
   },
   "outputs": [
    {
     "name": "stdout",
     "output_type": "stream",
     "text": [
      "Variance C2: 24.0\n"
     ]
    }
   ],
   "source": [
    "print 'Variance C2:', variance(C2)"
   ]
  },
  {
   "cell_type": "markdown",
   "metadata": {},
   "source": [
    "3) What is the badness of the set of clusters C1 and C2?"
   ]
  },
  {
   "cell_type": "code",
   "execution_count": 13,
   "metadata": {
    "collapsed": false
   },
   "outputs": [
    {
     "name": "stdout",
     "output_type": "stream",
     "text": [
      "88.0\n"
     ]
    }
   ],
   "source": [
    "C = [C1, C2]\n",
    "print badness(C)"
   ]
  },
  {
   "cell_type": "markdown",
   "metadata": {},
   "source": [
    "4) Now consider the following two clusters: C1 = [2, 2, 2] and C2 = [-6, -6, -4, -4]."
   ]
  },
  {
   "cell_type": "code",
   "execution_count": 15,
   "metadata": {
    "collapsed": true
   },
   "outputs": [],
   "source": [
    "C1 = [2, 2, 2]\n",
    "C2 = [-6, -6, -4, -4]"
   ]
  },
  {
   "cell_type": "markdown",
   "metadata": {},
   "source": [
    "What is the variance of C1?"
   ]
  },
  {
   "cell_type": "code",
   "execution_count": 16,
   "metadata": {
    "collapsed": false
   },
   "outputs": [
    {
     "name": "stdout",
     "output_type": "stream",
     "text": [
      "Variance C1: 0.0\n"
     ]
    }
   ],
   "source": [
    "print 'Variance C1:', variance(C1)"
   ]
  },
  {
   "cell_type": "markdown",
   "metadata": {},
   "source": [
    "5) What is the variance of C2?"
   ]
  },
  {
   "cell_type": "code",
   "execution_count": 17,
   "metadata": {
    "collapsed": false
   },
   "outputs": [
    {
     "name": "stdout",
     "output_type": "stream",
     "text": [
      "Variance C2: 4.0\n"
     ]
    }
   ],
   "source": [
    "print 'Variance C2:', variance(C2)"
   ]
  },
  {
   "cell_type": "markdown",
   "metadata": {},
   "source": [
    "6) What is the badness of the set of clusters C1 and C2?"
   ]
  },
  {
   "cell_type": "code",
   "execution_count": 18,
   "metadata": {
    "collapsed": false
   },
   "outputs": [
    {
     "name": "stdout",
     "output_type": "stream",
     "text": [
      "4.0\n"
     ]
    }
   ],
   "source": [
    "C = [C1, C2]\n",
    "print badness(C)"
   ]
  },
  {
   "cell_type": "markdown",
   "metadata": {},
   "source": [
    "7) Are there other cluster options for this data that would lead to a smaller badness value? Do not consider the case of each data point being a separate cluster.\n",
    "\n",
    "Answer: Yes"
   ]
  },
  {
   "cell_type": "code",
   "execution_count": null,
   "metadata": {
    "collapsed": true
   },
   "outputs": [],
   "source": []
  }
 ],
 "metadata": {
  "kernelspec": {
   "display_name": "Python 2",
   "language": "python",
   "name": "python2"
  },
  "language_info": {
   "codemirror_mode": {
    "name": "ipython",
    "version": 2
   },
   "file_extension": ".py",
   "mimetype": "text/x-python",
   "name": "python",
   "nbconvert_exporter": "python",
   "pygments_lexer": "ipython2",
   "version": "2.7.11"
  }
 },
 "nbformat": 4,
 "nbformat_minor": 0
}
