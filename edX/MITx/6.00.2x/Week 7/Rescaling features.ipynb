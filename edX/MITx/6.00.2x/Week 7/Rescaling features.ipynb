{
 "cells": [
  {
   "cell_type": "code",
   "execution_count": 2,
   "metadata": {
    "collapsed": false
   },
   "outputs": [
    {
     "name": "stdout",
     "output_type": "stream",
     "text": [
      "original values [22, 23, 25, 26, 21, 29, 20, 19, 24, 28]\n",
      "\n",
      "scaled values [-0.53731861 -0.22124884  0.4108907   0.72696047 -0.85338838  1.67516978\n",
      " -1.16945815 -1.48552792  0.09482093  1.35910001]\n",
      "\n",
      "new mean =  2.22044604925e-16\n",
      "\n",
      "new sd =  1.0\n"
     ]
    }
   ],
   "source": [
    "import pylab\n",
    "import random\n",
    "\n",
    "def stdDev(X):\n",
    "    mean = sum(X)/float(len(X))\n",
    "    tot = 0.0\n",
    "    for x in X:\n",
    "        tot += (x - mean)**2\n",
    "    return (tot/len(X))**0.5\n",
    "\n",
    "def scaleFeatures(vals):\n",
    "    vals = pylab.array(vals)\n",
    "    mean = sum(vals)/float(len(vals))\n",
    "    sd = stdDev(vals)\n",
    "    vals = vals - mean\n",
    "    return vals/sd\n",
    "    \n",
    "def testScaling(n,mean,std):\n",
    "    vals = []\n",
    "    for i in range(n):\n",
    "        vals.append(int(random.gauss(mean,std)))\n",
    "    print 'original values', vals\n",
    "    sVals = scaleFeatures(vals)\n",
    "    print '\\n','scaled values',sVals\n",
    "    print '\\n','new mean = ', sum(sVals/len(vals))\n",
    "    print '\\n','new sd = ', stdDev(sVals)\n",
    "    \n",
    "testScaling(10,25,3)"
   ]
  },
  {
   "cell_type": "code",
   "execution_count": null,
   "metadata": {
    "collapsed": true
   },
   "outputs": [],
   "source": []
  }
 ],
 "metadata": {
  "kernelspec": {
   "display_name": "Python 2",
   "language": "python",
   "name": "python2"
  },
  "language_info": {
   "codemirror_mode": {
    "name": "ipython",
    "version": 2
   },
   "file_extension": ".py",
   "mimetype": "text/x-python",
   "name": "python",
   "nbconvert_exporter": "python",
   "pygments_lexer": "ipython2",
   "version": "2.7.11"
  }
 },
 "nbformat": 4,
 "nbformat_minor": 0
}
