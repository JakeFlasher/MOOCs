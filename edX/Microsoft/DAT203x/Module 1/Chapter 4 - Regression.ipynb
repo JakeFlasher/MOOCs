{
 "cells": [
  {
   "cell_type": "code",
   "execution_count": 9,
   "metadata": {
    "collapsed": false
   },
   "outputs": [
    {
     "name": "stdout",
     "output_type": "stream",
     "text": [
      "Using test fold: 0\n",
      "\tUsing validation fold 1\n",
      "\t\tTraining folds [2, 3] with k=1\n",
      "\t\tTraining folds [2, 3] with k=10\n",
      "\tUsing validation fold 2\n",
      "\t\tTraining folds [1, 3] with k=1\n",
      "\t\tTraining folds [1, 3] with k=10\n",
      "\tUsing validation fold 3\n",
      "\t\tTraining folds [1, 2] with k=1\n",
      "\t\tTraining folds [1, 2] with k=10\n",
      "Using test fold: 1\n",
      "\tUsing validation fold 0\n",
      "\t\tTraining folds [2, 3] with k=1\n",
      "\t\tTraining folds [2, 3] with k=10\n",
      "\tUsing validation fold 2\n",
      "\t\tTraining folds [0, 3] with k=1\n",
      "\t\tTraining folds [0, 3] with k=10\n",
      "\tUsing validation fold 3\n",
      "\t\tTraining folds [0, 2] with k=1\n",
      "\t\tTraining folds [0, 2] with k=10\n",
      "Using test fold: 2\n",
      "\tUsing validation fold 0\n",
      "\t\tTraining folds [1, 3] with k=1\n",
      "\t\tTraining folds [1, 3] with k=10\n",
      "\tUsing validation fold 1\n",
      "\t\tTraining folds [0, 3] with k=1\n",
      "\t\tTraining folds [0, 3] with k=10\n",
      "\tUsing validation fold 3\n",
      "\t\tTraining folds [0, 1] with k=1\n",
      "\t\tTraining folds [0, 1] with k=10\n",
      "Using test fold: 3\n",
      "\tUsing validation fold 0\n",
      "\t\tTraining folds [1, 2] with k=1\n",
      "\t\tTraining folds [1, 2] with k=10\n",
      "\tUsing validation fold 1\n",
      "\t\tTraining folds [0, 2] with k=1\n",
      "\t\tTraining folds [0, 2] with k=10\n",
      "\tUsing validation fold 2\n",
      "\t\tTraining folds [0, 1] with k=1\n",
      "\t\tTraining folds [0, 1] with k=10\n"
     ]
    }
   ],
   "source": [
    "\"\"\"\n",
    "Nested Cross-Validation\n",
    "\n",
    "To determine the optimal value for a parameter (k) for an algorithm, you can use nested cross-validation, in which one of the \n",
    "folds in the training set is used to validate all possible k values. This process is repeated so that each fold in the training \n",
    "set is used as a validation fold. The best result is then tested with the test fold, and the whole process is repeated again \n",
    "until every fold has been used as the test fold.\n",
    "\"\"\"\n",
    "\n",
    "#all_k = [1,10,100,1000,10000]\n",
    "#all_folds = range(10)\n",
    "all_k = [1,10]\n",
    "all_folds = range(4)\n",
    "\n",
    "for test_fold in all_folds:\n",
    "    validation_folds = [k for k in all_folds if k != test_fold]\n",
    "    print 'Using test fold: %d' % test_fold\n",
    "    for val_fold in validation_folds:\n",
    "        folds = [k for k in all_folds if k != test_fold and k != val_fold]\n",
    "        print '\\tUsing validation fold %d' % val_fold\n",
    "        for k in all_k:\n",
    "            print '\\t\\tTraining folds %r with k=%d'% (folds, k)\n",
    "        \n"
   ]
  },
  {
   "cell_type": "code",
   "execution_count": null,
   "metadata": {
    "collapsed": true
   },
   "outputs": [],
   "source": []
  }
 ],
 "metadata": {
  "kernelspec": {
   "display_name": "Python 2",
   "language": "python",
   "name": "python2"
  },
  "language_info": {
   "codemirror_mode": {
    "name": "ipython",
    "version": 2
   },
   "file_extension": ".py",
   "mimetype": "text/x-python",
   "name": "python",
   "nbconvert_exporter": "python",
   "pygments_lexer": "ipython2",
   "version": "2.7.11"
  }
 },
 "nbformat": 4,
 "nbformat_minor": 0
}
