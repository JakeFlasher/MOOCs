{
 "cells": [
  {
   "cell_type": "code",
   "execution_count": 4,
   "metadata": {
    "collapsed": false
   },
   "outputs": [
    {
     "name": "stdout",
     "output_type": "stream",
     "text": [
      "   col1  col2  col3\n",
      "0  2013    13    76\n",
      "1  2013    34    65\n",
      "2  2014    34    65\n",
      "3  2014    23    47\n"
     ]
    }
   ],
   "source": [
    "\"\"\"\n",
    "Using Python script inside Azure ML\n",
    "\n",
    "frame1 =[[col1, col2, col3],\n",
    "         [2013, 13  , 76  ],\n",
    "         [2013, 34  , 65  ],\n",
    "         [2014, 34  , 65  ],\n",
    "         [2014, 23  , 47  ]]\n",
    "\"\"\"\n",
    "import pandas\n",
    "FRAME ={'col1': [2013, 2013, 2014, 2014],\n",
    "        'col2': [13, 34, 34, 23],\n",
    "        'col3': [76, 65, 65, 47]\n",
    "       }\n",
    "\n",
    "# map frame into Azure ML\n",
    "def azureml_main(frame1):\n",
    "    import pandas as pd\n",
    "    frame1 = pd.DataFrame(frame1, columns=['col1', 'col2', 'col3'])\n",
    "    return frame1\n",
    "\n",
    "frame1 = azureml_main(FRAME)\n",
    "print frame1"
   ]
  },
  {
   "cell_type": "code",
   "execution_count": 6,
   "metadata": {
    "collapsed": false
   },
   "outputs": [
    {
     "name": "stdout",
     "output_type": "stream",
     "text": [
      "0    13\n",
      "1    34\n",
      "2    34\n",
      "3    23\n",
      "Name: col2, dtype: int64\n"
     ]
    }
   ],
   "source": [
    "# selecting a column\n",
    "col2 = frame1['col2']\n",
    "print col2"
   ]
  },
  {
   "cell_type": "code",
   "execution_count": 9,
   "metadata": {
    "collapsed": false
   },
   "outputs": [
    {
     "name": "stdout",
     "output_type": "stream",
     "text": [
      "   col1  col2\n",
      "0  2013    13\n",
      "1  2013    34\n",
      "2  2014    34\n",
      "3  2014    23\n"
     ]
    }
   ],
   "source": [
    "# selecting more columns\n",
    "cols = frame1[['col1', 'col2']]\n",
    "print cols"
   ]
  },
  {
   "cell_type": "code",
   "execution_count": 10,
   "metadata": {
    "collapsed": false
   },
   "outputs": [
    {
     "name": "stdout",
     "output_type": "stream",
     "text": [
      "   col1  col2  col3\n",
      "1  2013    34    65\n",
      "2  2014    34    65\n"
     ]
    }
   ],
   "source": [
    "# selecting rows\n",
    "rows = frame1[1:3:1] #start_index, end_index, step\n",
    "print rows"
   ]
  },
  {
   "cell_type": "code",
   "execution_count": 16,
   "metadata": {
    "collapsed": false
   },
   "outputs": [
    {
     "name": "stdout",
     "output_type": "stream",
     "text": [
      "   col2\n",
      "0    13\n",
      "1    34\n"
     ]
    }
   ],
   "source": [
    "# selecting a certain number of rows of one column\n",
    "row_cols = frame1[['col2']][:2]\n",
    "print row_cols"
   ]
  },
  {
   "cell_type": "code",
   "execution_count": 13,
   "metadata": {
    "collapsed": false
   },
   "outputs": [
    {
     "name": "stdout",
     "output_type": "stream",
     "text": [
      "             col1       col2       col3\n",
      "count     4.00000   4.000000   4.000000\n",
      "mean   2013.50000  26.000000  63.250000\n",
      "std       0.57735  10.099505  12.010412\n",
      "min    2013.00000  13.000000  47.000000\n",
      "25%    2013.00000  20.500000  60.500000\n",
      "50%    2013.50000  28.500000  65.000000\n",
      "75%    2014.00000  34.000000  67.750000\n",
      "max    2014.00000  34.000000  76.000000\n"
     ]
    }
   ],
   "source": [
    "# present some statistics of the dataframe\n",
    "stats = frame1.describe()\n",
    "print stats"
   ]
  },
  {
   "cell_type": "code",
   "execution_count": 18,
   "metadata": {
    "collapsed": false
   },
   "outputs": [
    {
     "name": "stdout",
     "output_type": "stream",
     "text": [
      "   col1  col2  col3  col4\n",
      "0  2013    13    76    89\n",
      "1  2013    34    65    99\n",
      "2  2014    34    65    99\n",
      "3  2014    23    47    70\n"
     ]
    }
   ],
   "source": [
    "# adding new columns\n",
    "frame1['col4'] = frame1['col2'] + frame1['col3']\n",
    "print frame1"
   ]
  },
  {
   "cell_type": "code",
   "execution_count": 19,
   "metadata": {
    "collapsed": false
   },
   "outputs": [
    {
     "name": "stdout",
     "output_type": "stream",
     "text": [
      "   col1  col2  col3\n",
      "0  2013    13    76\n",
      "1  2013    34    65\n",
      "2  2014    34    65\n",
      "3  2014    23    47\n"
     ]
    }
   ],
   "source": [
    "# deleting columns\n",
    "frame1.drop('col4', axis=1, inplace=True)\n",
    "print frame1"
   ]
  },
  {
   "cell_type": "code",
   "execution_count": null,
   "metadata": {
    "collapsed": true
   },
   "outputs": [],
   "source": [
    "# other methods to manipulate data\n",
    "# drop_duplicates()\n",
    "# groupby(key|expression, axis)\n",
    "# copy()\n",
    "# where(Boolean)\n",
    "\n",
    "# Joins\n",
    "#\n",
    "# merge(a, b, how='inner', left_on='col1', right_on='col1')\n",
    "# merge(a, b, how='right', left_on='col1', right_on='col1')\n",
    "# merge(a, b, how='left', on='col1')\n",
    "# merge(a, b, how='outer', left_on='col1', right_on='col1')\n",
    "\n",
    "# other operations\n",
    "#\n",
    "# apply(function, axis)\n",
    "# map(function, dictionary|series)\n",
    "# applymap(function)"
   ]
  },
  {
   "cell_type": "code",
   "execution_count": 20,
   "metadata": {
    "collapsed": false
   },
   "outputs": [
    {
     "name": "stdout",
     "output_type": "stream",
     "text": [
      "      col2  col3\n",
      "col1            \n",
      "2013    47   141\n",
      "2014    57   112\n"
     ]
    }
   ],
   "source": [
    "# sum the values of columns grouped by col1\n",
    "sumf = frame1.groupby('col1').sum()\n",
    "print sumf"
   ]
  },
  {
   "cell_type": "code",
   "execution_count": null,
   "metadata": {
    "collapsed": true
   },
   "outputs": [],
   "source": []
  }
 ],
 "metadata": {
  "kernelspec": {
   "display_name": "Python 2",
   "language": "python",
   "name": "python2"
  },
  "language_info": {
   "codemirror_mode": {
    "name": "ipython",
    "version": 2
   },
   "file_extension": ".py",
   "mimetype": "text/x-python",
   "name": "python",
   "nbconvert_exporter": "python",
   "pygments_lexer": "ipython2",
   "version": "2.7.11"
  }
 },
 "nbformat": 4,
 "nbformat_minor": 0
}
