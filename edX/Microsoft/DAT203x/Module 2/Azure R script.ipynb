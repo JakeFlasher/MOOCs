{
 "cells": [
  {
   "cell_type": "code",
   "execution_count": 5,
   "metadata": {
    "collapsed": false
   },
   "outputs": [
    {
     "name": "stdout",
     "output_type": "stream",
     "text": [
      "[1] \"Done!\"\n"
     ]
    }
   ],
   "source": [
    "# dplyr package in Azure ML\n",
    "# library(dplyr)\n",
    "\n",
    "# col1, col2, col3\n",
    "# 2013, 13  , 76\n",
    "# 2013, 34  , 65\n",
    "# 2014, 34  , 65\n",
    "# 2014, 23  , 47\n",
    "\n",
    "# map frame into Azure ML\n",
    "frame1 <- maml.mapInputPort(1)\n",
    "\n",
    "# filter rows\n",
    "frame1.filter(frame1, col1 == 2013)\n",
    "# [1] 2013, 13  , 76\n",
    "#     2013, 34  , 65\n",
    "\n",
    "# select columns\n",
    "frame1.select(frame1, col1, col2)\n",
    "# [1] 2013, 13\n",
    "#     2013, 34\n",
    "#     2014, 34\n",
    "#     2014, 23\n",
    "\n",
    "# add columns\n",
    "frame1.mutate(frame1, col4 = col2 + col3)\n",
    "# [1] col1, col2, col3, col4\n",
    "#     2013, 13  , 76  , 89\n",
    "#     2013, 34  , 65  , 99\n",
    "#     2014, 34  , 65  , 99\n",
    "#     2014, 23  , 47  , 70\n",
    "\n",
    "# group columns\n",
    "frame1 <- group_by(frame1, col1)\n",
    "# [1] 2013\n",
    "#     2014\n",
    "\n",
    "# select distinct\n",
    "frame1 <- frame.distinct(frame1, col1)\n",
    "# [1] 2013\n",
    "#     2014\n",
    "\n",
    "# get a fraction of the sample\n",
    "frame1 <- frame1.sample_frac(frame1, 0.5)\n",
    "# [1] 2013, 13  , 76\n",
    "#     2013, 34  , 65\n",
    "\n",
    "# get a sample of n rows\n",
    "frame1 <- frame1.sample_n(frame1, 1)\n",
    "# [1] 2013, 13  , 76\n",
    "\n",
    "# summarize sample\n",
    "frame1 <- summarize(frame1, m1=mean(col1))\n",
    "\n",
    "# mixing more than one command\n",
    "frame1 <- frame1 %>%\n",
    "          filter(col1 == 2013) %>%\n",
    "          mutate(col4 = col2 + col3)\n",
    "# [1] col1, col2, col3, col4\n",
    "#     2013, 13  , 76  , 89\n",
    "#     2013, 34  , 65  , 99\n",
    "\n",
    "#---\n",
    "#dplyr Joins\n",
    "#\n",
    "# inner_join(a, b, by=colName)\n",
    "# right_join(a, b, by=colName)\n",
    "# left_join(a, b, by=colName)\n",
    "# outer_join(a, b, by=colName)\n",
    "\n",
    "print(\"Done!\")"
   ]
  },
  {
   "cell_type": "code",
   "execution_count": null,
   "metadata": {
    "collapsed": true
   },
   "outputs": [],
   "source": []
  }
 ],
 "metadata": {
  "kernelspec": {
   "display_name": "R",
   "language": "R",
   "name": "ir"
  },
  "language_info": {
   "codemirror_mode": "r",
   "file_extension": ".r",
   "mimetype": "text/x-r-source",
   "name": "R",
   "pygments_lexer": "r",
   "version": "3.1.3"
  }
 },
 "nbformat": 4,
 "nbformat_minor": 0
}
