{
 "cells": [
  {
   "cell_type": "code",
   "execution_count": 1,
   "metadata": {
    "collapsed": true
   },
   "outputs": [],
   "source": [
    "## Load the data  \n",
    "import pandas as pd\n",
    "import os\n",
    "from sklearn import preprocessing\n",
    "\n",
    "pathName = \"C:/Users/Roger/Desktop/Workspace/edX/DAT203x/Module 3/\"\n",
    "fileName = \"EnergyEfficiencyRegressiondata.csv\"\n",
    "filePath = os.path.join(pathName, fileName)\n",
    "eeframe = pd.read_csv(filePath)\n",
    "\n",
    "## Remove columns we're not going to use\n",
    "eeframe = eeframe.drop('Cooling Load', 1)  \n",
    "\n",
    "## scale numeric features\n",
    "scaleList = [\"Relative Compactness\", \"Surface Area\", \\\n",
    "       \"Wall Area\", \"Roof Area\", \"Glazing Area\",  \\\n",
    "       \"Glazing Area Distribution\"]\n",
    "arry = eeframe[scaleList].as_matrix()\n",
    "eeframe[scaleList] = preprocessing.scale(arry)         \n"
   ]
  },
  {
   "cell_type": "code",
   "execution_count": 2,
   "metadata": {
    "collapsed": false
   },
   "outputs": [
    {
     "name": "stderr",
     "output_type": "stream",
     "text": [
      "C:\\Anaconda2\\lib\\site-packages\\ipykernel\\__main__.py:4: FutureWarning: \n",
      "The rplot trellis plotting interface is deprecated and will be removed in a future version. We refer to external packages like seaborn for similar but more refined functionality. \n",
      "\n",
      "See our docs http://pandas.pydata.org/pandas-docs/stable/visualization.html#rplot for some example how to convert your existing code to these packages.\n"
     ]
    },
    {
     "name": "stdout",
     "output_type": "stream",
     "text": [
      "768\n"
     ]
    }
   ],
   "source": [
    "# Visualizing the data\n",
    "\n",
    "from pandas.tools.plotting import scatter_matrix\n",
    "import pandas.tools.rplot as rplot\n",
    "import matplotlib.pyplot as plt\n",
    "import numpy as np\n",
    "\n",
    "frame1 = eeframe\n",
    "print len(frame1)"
   ]
  },
  {
   "cell_type": "code",
   "execution_count": 3,
   "metadata": {
    "collapsed": false
   },
   "outputs": [
    {
     "name": "stderr",
     "output_type": "stream",
     "text": [
      "C:\\Anaconda2\\lib\\site-packages\\pandas\\tools\\plotting.py:3303: UserWarning: To output multiple subplots, the figure containing the passed axes is being cleared\n",
      "  \"is being cleared\", UserWarning)\n"
     ]
    }
   ],
   "source": [
    "# Generate scatter plot\n",
    "fig1 = plt.figure(1, figsize=(10, 10))\n",
    "ax = fig1.gca()\n",
    "\n",
    "scatter_matrix(frame1, alpha=0.3, \n",
    "               diagonal='kde', ax = ax)\n",
    "plt.show()"
   ]
  },
  {
   "cell_type": "code",
   "execution_count": 5,
   "metadata": {
    "collapsed": false
   },
   "outputs": [],
   "source": [
    "## Create conditioned scatter plots.    \n",
    "col_list = [\"Relative Compactness\",\n",
    "           \"Surface Area\",\n",
    "           \"Wall Area\",\n",
    "           \"Roof Area\",\n",
    "           'Glazing Area',\n",
    "           \"Glazing Area Distribution\"]\n",
    "\n",
    "indx = 0\n",
    "for col in col_list:\n",
    "    if(frame1[col].dtype in [np.int64, np.int32, np.float64]):\n",
    "        indx += 1\n",
    "\n",
    "        fig = plt.figure(figsize = (12,6))\n",
    "        fig.clf()\n",
    "        ax = fig.gca()\n",
    "        plot = rplot.RPlot(frame1, x = col, y = 'Heating Load')\n",
    "        plot.add(rplot.TrellisGrid(['Overall Height','Orientation']))\n",
    "        plot.add(rplot.GeomScatter())\n",
    "        plot.add(rplot.GeomPolyFit(degree=2))\n",
    "        ax.set_xlabel(col)\n",
    "        ax.set_ylabel('Heating Load')\n",
    "        plot.render(plt.gcf())\n",
    "plt.show()"
   ]
  },
  {
   "cell_type": "code",
   "execution_count": 7,
   "metadata": {
    "collapsed": false
   },
   "outputs": [],
   "source": [
    " ## Histograms of features by Overall Height\n",
    "col_list = [\"Relative Compactness\",\n",
    "           \"Surface Area\",\n",
    "           \"Wall Area\",\n",
    "           \"Roof Area\",\n",
    "           'Glazing Area',\n",
    "           \"Glazing Area Distribution\",\n",
    "           \"Heating Load\"]\n",
    "\n",
    "for col in col_list:\n",
    "    temp7 = frame1.ix[frame1['Overall Height'] == 7, col].as_matrix()\n",
    "    temp35 = frame1.ix[frame1['Overall Height'] == 3.5, col].as_matrix()  \n",
    "    fig = plt.figure(figsize = (12,6))\n",
    "    fig.clf()\n",
    "    ax7 = fig.add_subplot(1, 2, 1)\n",
    "    ax35 = fig.add_subplot(1, 2, 2) \n",
    "    ax7.hist(temp7, bins = 20)\n",
    "    ax7.set_title('Histogram of ' +col + '\\n for for Overall Height of 7')\n",
    "    ax35.hist(temp35, bins = 20)\n",
    "    ax35.set_title('Histogram of ' +col + '\\n for for Overall Height of 3.5')\n",
    "plt.show()"
   ]
  },
  {
   "cell_type": "code",
   "execution_count": 8,
   "metadata": {
    "collapsed": false
   },
   "outputs": [],
   "source": [
    "## Create boxplots.    \n",
    "for col in col_list:\n",
    "    if(frame1[col].dtype in [np.int64, np.int32, np.float64]):                  \n",
    "        fig = plt.figure(figsize = (6,6))\n",
    "        fig.clf()\n",
    "        ax = fig.gca() \n",
    "        frame1[[col, 'Overall Height']].boxplot(column = [col], ax = ax, by = ['Overall Height'])\n",
    "        ax.set_xlabel('')\n",
    "plt.show()   "
   ]
  },
  {
   "cell_type": "code",
   "execution_count": null,
   "metadata": {
    "collapsed": true
   },
   "outputs": [],
   "source": []
  }
 ],
 "metadata": {
  "kernelspec": {
   "display_name": "Python 2",
   "language": "python",
   "name": "python2"
  },
  "language_info": {
   "codemirror_mode": {
    "name": "ipython",
    "version": 2
   },
   "file_extension": ".py",
   "mimetype": "text/x-python",
   "name": "python",
   "nbconvert_exporter": "python",
   "pygments_lexer": "ipython2",
   "version": "2.7.11"
  }
 },
 "nbformat": 4,
 "nbformat_minor": 0
}
