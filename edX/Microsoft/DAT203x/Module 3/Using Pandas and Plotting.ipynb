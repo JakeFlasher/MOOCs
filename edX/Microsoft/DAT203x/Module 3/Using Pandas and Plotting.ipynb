{
 "cells": [
  {
   "cell_type": "code",
   "execution_count": null,
   "metadata": {
    "collapsed": true
   },
   "outputs": [],
   "source": [
    "# define backend\n",
    "import matplotlib\n",
    "matplotlib.use('agg')\n",
    "\n",
    "import matplotlib.pyplot as plt\n",
    "\n",
    "# define figure\n",
    "fig1 = plt.figure(figsize=(9,9))\n",
    "fig1.clf()\n",
    "\n",
    "# define one or more axis\n",
    "ax = fig1.gca()\n",
    "\n",
    "# using panda plot\n",
    "#pandas.DataFrame.plot(kind='someType', ax=ax, ...)\n",
    "\n",
    "# save figure\n",
    "#fig1.savefig('scatter.png')"
   ]
  },
  {
   "cell_type": "code",
   "execution_count": null,
   "metadata": {
    "collapsed": true
   },
   "outputs": [],
   "source": [
    "\"\"\"\n",
    "Types for pandas.DataFrame.plot()\n",
    "\n",
    "'line': Line plot\n",
    "'bar': Vertical bar plot\n",
    "'barth': Horizontal bar plot\n",
    "'kde' or 'density': Kernel Density Estimation\n",
    "'scatter': Scatter plot\n",
    "\"\"\""
   ]
  }
 ],
 "metadata": {
  "kernelspec": {
   "display_name": "Python 2",
   "language": "python",
   "name": "python2"
  },
  "language_info": {
   "codemirror_mode": {
    "name": "ipython",
    "version": 2
   },
   "file_extension": ".py",
   "mimetype": "text/x-python",
   "name": "python",
   "nbconvert_exporter": "python",
   "pygments_lexer": "ipython2",
   "version": "2.7.11"
  }
 },
 "nbformat": 4,
 "nbformat_minor": 0
}
