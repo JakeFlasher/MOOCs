{
 "cells": [
  {
   "cell_type": "code",
   "execution_count": null,
   "metadata": {
    "collapsed": true
   },
   "outputs": [],
   "source": [
    "from sklearn import model_class\n",
    "\n",
    "# create model\n",
    "my_model = model_class.model(parameters)\n",
    "\n",
    "# define training set\n",
    "# feature matrix\n",
    "X_train = data_frame[[feature1, feature2, ..., featureN]].as_matrix()\n",
    "# label vector\n",
    "Y_train = data_frame[label].as_matrix()\n",
    "\n",
    "# train model\n",
    "my_model = my_model.fit(X_train, Y_train)\n",
    "\n",
    "# test model\n",
    "score_labels = my_model.predict(X_test)\n",
    "\n",
    "# scores\n",
    "my_model.intercept_ #for linear regression\n",
    "my_model.coef_"
   ]
  }
 ],
 "metadata": {
  "kernelspec": {
   "display_name": "Python 2",
   "language": "python",
   "name": "python2"
  },
  "language_info": {
   "codemirror_mode": {
    "name": "ipython",
    "version": 2
   },
   "file_extension": ".py",
   "mimetype": "text/x-python",
   "name": "python",
   "nbconvert_exporter": "python",
   "pygments_lexer": "ipython2",
   "version": "2.7.11"
  }
 },
 "nbformat": 4,
 "nbformat_minor": 0
}
