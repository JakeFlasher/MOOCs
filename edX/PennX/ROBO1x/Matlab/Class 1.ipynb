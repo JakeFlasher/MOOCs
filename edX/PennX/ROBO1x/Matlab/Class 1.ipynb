{
 "cells": [
  {
   "cell_type": "markdown",
   "metadata": {},
   "source": [
    "# Create a linearly spaced variable and a polynomial\n",
    "\n",
    "This is a practice problem using a MATLAB script. Pressing the \"Run\" button will execute the code without testing if it is correct or not. Use the Run button to test your solution, see if the output is as you expect, and make sure your code is free of syntax or run time errors. \n",
    "\n",
    "Once you're happy with the results. Press the \"Submit for Assessment\" button to see how you did! The output of your code is placed below the assessment results.\n",
    "\n",
    "1. Create a row vector x that starts at -2, ends at +2 with a step size of 0.5. \n",
    "2. Use x to create a vector y using the following equation: $y = 3x^2+2x-6$\n",
    "\n",
    "You'll need to know how to use the colon operator and elementwise operations to complete this problem. If you're unfamilar with these terms, check out the MATLAB Onramp on the previous page as these concepts will be used frequently in the course."
   ]
  },
  {
   "cell_type": "code",
   "execution_count": 1,
   "metadata": {},
   "outputs": [
    {
     "name": "stdout",
     "output_type": "stream",
     "text": [
      "x =\n",
      "\n",
      " Columns 1 through 8:\n",
      "\n",
      "   -2.0000   -1.5000   -1.0000   -0.5000    0.0000    0.5000    1.0000    1.5000\n",
      "\n",
      " Column 9:\n",
      "\n",
      "    2.0000\n",
      "\n",
      "y =\n",
      "\n",
      " Columns 1 through 8:\n",
      "\n",
      "    2.0000   -2.2500   -5.0000   -6.2500   -6.0000   -4.2500   -1.0000    3.7500\n",
      "\n",
      " Column 9:\n",
      "\n",
      "   10.0000\n",
      "\n"
     ]
    }
   ],
   "source": [
    "% Create x from -2 to 2 in steps of 0.5\n",
    "x = -2:0.5:2\n",
    "\n",
    "% Use x to create y according to the formula in the description\n",
    "y = 3*x.^2+2*x-6"
   ]
  },
  {
   "cell_type": "markdown",
   "metadata": {},
   "source": [
    "# Calculate the area of a circle\n",
    "\n",
    "In this problem, we'll practice writing function in the online environment. Because functions often require input variables, we can not simply run them like scripts. To test our functions, we'll use the \"How to Call the Function\" box. We can enter any code in this area to test your function. In most cases code will already be provided to test the function. When we press the \"Run\" button, the code in the \"How to Call the Function\" box is executed and no grading is done. Press \"Submit for Assessment\" to see if your function is correct!\n",
    "\n",
    "**Task**: Write a function named areaCircle to calculate the are of a circle. \n",
    "\n",
    "1. The function should take one input that is the radius of the circle.\n",
    "2. The function should work if the input is a scalar, vector, or matrix.\n",
    "3. The function should return, one ouput, the same size as the input, that contains the area of a circle for each correspoding element.\n",
    "4. If a negative radius passed as input, the function should return the value -1 to indicate the error."
   ]
  },
  {
   "cell_type": "code",
   "execution_count": 13,
   "metadata": {},
   "outputs": [
    {
     "name": "stdout",
     "output_type": "stream",
     "text": [
      "r1 =  2\n",
      "area1 =  12.566\n",
      "r2 =\n",
      "\n",
      "   2.00000   5.00000\n",
      "   0.50000   1.00000\n",
      "\n",
      "area2 =\n",
      "\n",
      "   12.56637   78.53982\n",
      "    0.78540    3.14159\n",
      "\n",
      "r3 =\n",
      "\n",
      "   1.0000   1.5000   3.0000  -4.0000\n",
      "\n",
      "area3 = -1\n"
     ]
    }
   ],
   "source": [
    "function area = areaCircle(r)\n",
    "    vec = r(:)';\n",
    "    for i=1:length(vec),\n",
    "        val = vec(i);\n",
    "        if val < 0\n",
    "            vec(i) = -1;\n",
    "        else\n",
    "            vec(i) = pi*val^2;\n",
    "        end\n",
    "    end\n",
    "    area = reshape(vec, size(r));\n",
    "end\n",
    "\n",
    "function area = areaCircle_return_neg(r)\n",
    "    neg = find(r<-1);\n",
    "    if neg > 1\n",
    "        area = -1;\n",
    "    else\n",
    "        area = pi*r.^2;\n",
    "    end\n",
    "end\n",
    "\n",
    "r1 = 2;\n",
    "r1\n",
    "area1 = areaCircle(r1)\n",
    "\n",
    "r2 = [2 5; 0.5 1];\n",
    "r2\n",
    "area2 = areaCircle(r2)\n",
    "\n",
    "r3 = [1 1.5 3 -4];\n",
    "r3\n",
    "area3 = areaCircle(r3)"
   ]
  },
  {
   "cell_type": "code",
   "execution_count": null,
   "metadata": {
    "collapsed": true
   },
   "outputs": [],
   "source": []
  },
  {
   "cell_type": "code",
   "execution_count": null,
   "metadata": {
    "collapsed": true
   },
   "outputs": [],
   "source": []
  }
 ],
 "metadata": {
  "kernelspec": {
   "display_name": "Octave",
   "language": "octave",
   "name": "octave"
  },
  "language_info": {
   "file_extension": ".m",
   "help_links": [
    {
     "text": "GNU Octave",
     "url": "https://www.gnu.org/software/octave/support.html"
    },
    {
     "text": "Octave Kernel",
     "url": "https://github.com/Calysto/octave_kernel"
    },
    {
     "text": "MetaKernel Magics",
     "url": "https://github.com/calysto/metakernel/blob/master/metakernel/magics/README.md"
    }
   ],
   "mimetype": "text/x-octave",
   "name": "octave",
   "version": "4.2.1"
  }
 },
 "nbformat": 4,
 "nbformat_minor": 1
}
