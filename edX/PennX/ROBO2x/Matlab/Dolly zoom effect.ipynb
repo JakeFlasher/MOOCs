{
 "cells": [
  {
   "cell_type": "markdown",
   "metadata": {},
   "source": [
    "## Dolly Zoom: Compute focal length\n",
    "\n",
    "### 1) Introduction\n",
    "\n",
    "In this lab, we will implement Dolly Zoom effect used by film-makers to create a sensation of vertigo, a ``falling-away-from-oneself feeling''. This lab is fairly simple and is meant to introduce you to the concepts of projection and focal length. It keeps the size of an object of interests constant in the image, while making the foreground and background objects appear larger or smaller by adjusting focal length and moving the camera. You will simulate the Dolly Zoom effect with a synthetic scene as shown in next Figure, which illustrates two cubes and one pyramid seen from the top view.\n",
    "\n",
    "<img src='../imgs/dolly_top_view.png' width=\"500\"/>\n",
    "\n",
    "### 2) Dolly Zoom Effect\n",
    "\n",
    "A point in 3D is projected onto the image plane through the pinhole (center of projection, COP):\n",
    "\n",
    "$$u = f\\frac{X}{Z} \\ \\ \\ \\ \\ \\ \\ \\ \\ \\ \\ v = f\\frac{Y}{Z}$$\n",
    "\n",
    "where $(u, v)$ is the image coordinate of the projection, $(X, Y, Z)$ is the 3D point, and  is the focal length of the camera. When the camera moves along with its Z-axis, the depth, Z, changes and therefore, the projection, $(u, v)$, changes. In our paticular case the $Z$ of interest is $d_{ref}$, the depth of the objects in the scene. In the following discussion we will only mention the $u$ coordinate to simplify the equations, as we are focused mainly on height for the dolly zoom. This projection change produced by the depth change can be compensated by adjusting focal length:\n",
    "\n",
    "where $pos$ is the movement of the camera along its $Z$ axis ($+$ direction indicates approaching to objects) and $f'$ is the modified focal length. $f_{ref}$ and $d_{ref}$ are the focal length and depth of an object in the original image, respectively. Dolly zoom effect exploits the compensation between depth and focal length, which produces depth sensation. The relationship between all the variable names as given in the code is described in the next figure, and when implementing the description in the code you should reference it.\n",
    "\n",
    "<img src=\"../imgs/dolly_relations.png\" width=\"400\"/>\n",
    "\n",
    "Finally, the next figure illustrates the focal length/depth compensation: the camera moves away from the object while changing its focal length such that the height of the object A, $h_1 = 400$, in both original and moved images remains constant. Note that the heights of the other background objects are changed due to this effect.\n",
    "\n",
    "<img src='../imgs/dolly_view.png' width=\"600\"/>\n",
    "\n",
    "### 3) Implementation\n",
    "\n",
    "For the first part of this lab, you need to implement the function `compute_focal_length`. Given the depth of the object of interest $d_{ref}$, and the focal length $f_{ref}$ of the camera for the original image, you need to estimate the modified focal length $f'$, such that the height of the object remains constant as the camera moves in the -axis (different input $pos$ values). When you have implemented the function, you can demonstrate the dolly soom effect in the synthetic scene above by using the `run_dolly_zoom` script we provide in the zip file `Lab1.zip`."
   ]
  },
  {
   "cell_type": "code",
   "execution_count": 10,
   "metadata": {
    "collapsed": true
   },
   "outputs": [],
   "source": [
    "function [ f ] = compute_focal_length( d_ref, f_ref, pos )\n",
    "% compute camera focal length using given camera position\n",
    "%\n",
    "% Input:\n",
    "% - d_ref: 1 by 1 double, distance of the object whose size remains constant\n",
    "% - f_ref: 1 by 1 double, previous camera focal length\n",
    "% - pos: 1 by n, each element represent camera center position on the z axis.\n",
    "% Output:\n",
    "% - f: 1 by n, camera focal length\n",
    "    pos = d_ref - pos;\n",
    "    f = (f_ref.*pos)./d_ref;\n",
    "end"
   ]
  },
  {
   "cell_type": "markdown",
   "metadata": {},
   "source": [
    "### Code to call your function"
   ]
  },
  {
   "cell_type": "code",
   "execution_count": 11,
   "metadata": {},
   "outputs": [
    {
     "name": "stdout",
     "output_type": "stream",
     "text": [
      "f =  900\n"
     ]
    }
   ],
   "source": [
    "d_ref = 4;\n",
    "f_ref = 400;\n",
    "pos = -5;\n",
    "f = compute_focal_length( d_ref, f_ref, pos )"
   ]
  },
  {
   "cell_type": "markdown",
   "metadata": {},
   "source": [
    "## Dolly Zoom: Compute focal length and position\n",
    "\n",
    "### Dolly Zoom: Compute focal length and position\n",
    "\n",
    "For the second part of this lab, you need to implement the function `compute_f_pos`. This time you are given the distances of two objects ($d_{1\\_ref}$ and $d_{2\\_ref}$) and their corresponding heights in the physical world ($H_1$ and $H_2$ respectively), and for a specified original focal length $f_{ref}$, you need to estimate the modified focal length $f'$ such that the ratio of the heights of the two objects in the image $\\frac{h_1}{h_2}$ is the same as the input value $ratio$, while the height $h_1$ of the first object remains constant. The description and the notation of the problem is the same as the one presented in the previous part, so you can use it as reference."
   ]
  },
  {
   "cell_type": "code",
   "execution_count": 20,
   "metadata": {
    "collapsed": true
   },
   "outputs": [],
   "source": [
    "function [ f, pos ] = compute_f_pos( d1_ref, d2_ref, H1, H2, ratio, f_ref )\n",
    "% compute camera focal length and camera position to achieve centain ratio\n",
    "% between objects\n",
    "%\n",
    "% Input:\n",
    "% - d1_ref: distance of the first object\n",
    "% - d2_ref: distance of the second object\n",
    "% - H1: height of the first object in physical world\n",
    "% - H2: height of the second object in physical world\n",
    "% - ratio: ratio between two objects (h1/h2)\n",
    "% - f_ref: 1 by 1 double, previous camera focal length\n",
    "% Output:\n",
    "% - f: 1 by 1, camera focal length\n",
    "% - pos: 1 by 1, camera position\n",
    "\n",
    "    % calculate h1 and h2\n",
    "    h1 = f_ref .* H1 ./ d1_ref;\n",
    "    h2 = f_ref .* H2 ./ d2_ref;\n",
    "    \n",
    "    h1_n = h1;\n",
    "    h2_n = h1_n ./ ratio;\n",
    "    \n",
    "    % calculate the position\n",
    "    pos = ((h2_n .* H1 .* d2_ref) - (h1_n .* H2 .* d1_ref))/((h2_n .* H1) - (h1_n .* H2));\n",
    "    \n",
    "    % calculate the focal length\n",
    "    f = (h1 ./ H1) .* (d1_ref - pos); \n",
    "end"
   ]
  },
  {
   "cell_type": "markdown",
   "metadata": {},
   "source": [
    "### Code to call your function"
   ]
  },
  {
   "cell_type": "code",
   "execution_count": 21,
   "metadata": {},
   "outputs": [
    {
     "name": "stdout",
     "output_type": "stream",
     "text": [
      "f =  800\n",
      "pos = -4\n"
     ]
    }
   ],
   "source": [
    "d1_ref = 4;\n",
    "d2_ref = 20;\n",
    "H1 = 4;\n",
    "H2 = 6;\n",
    "ratio = 2;\n",
    "f_ref = 400;\n",
    "[ f, pos ] = compute_f_pos( d1_ref, d2_ref, H1, H2, ratio, f_ref )"
   ]
  },
  {
   "cell_type": "markdown",
   "metadata": {},
   "source": [
    "# TESTING FUNCTIONS"
   ]
  },
  {
   "cell_type": "code",
   "execution_count": 28,
   "metadata": {},
   "outputs": [
    {
     "name": "stdout",
     "output_type": "stream",
     "text": [
      "points =\n",
      "\n",
      "  scalar structure containing the fields:\n",
      "\n",
      "    points_A =\n",
      "\n",
      "      -6.0000   2.0000   4.0000\n",
      "      -6.0000  -2.0000   4.0000\n",
      "      -4.0000   2.0000   3.0000\n",
      "      -4.0000  -2.0000   3.0000\n",
      "      -2.0000   2.0000   4.0000\n",
      "      -2.0000  -2.0000   4.0000\n",
      "\n",
      "    points_B =\n",
      "\n",
      "       1.00000  -2.00000   4.00000\n",
      "       2.00000   1.00000   3.00000\n",
      "       2.00000  -2.00000   2.00000\n",
      "       6.00000  -2.00000   4.00000\n",
      "\n",
      "    points_C =\n",
      "\n",
      "       -8.0000    3.0000   20.0000\n",
      "       -8.0000   -3.0000   20.0000\n",
      "       -4.0000    3.0000   20.0000\n",
      "       -4.0000   -3.0000   20.0000\n",
      "       -4.0000    3.0000   24.0000\n",
      "       -4.0000   -3.0000   24.0000\n",
      "\n",
      "\n",
      "H1 =  4\n",
      "H2 =  6\n"
     ]
    }
   ],
   "source": [
    "function project_objects( f, pos, points, fid )\n",
    "    % render synthetic image using given camera focal length and camera\n",
    "    % position\n",
    "    %\n",
    "    % Input:\n",
    "    % - f: double camera focal length\n",
    "    % - pos: double represent camera center position in z axis.\n",
    "    % - points: 3D coordinates for vetice on polygons (use \"load points.mat\" to get)\n",
    "    % Output:\n",
    "    % - img: 1080*1920*3 matrix, the output render image\n",
    "    %\n",
    "    % after runing Dolly_Zoom\n",
    "    % you can use 'imwrite(img, 'output.png');' to save the image.\n",
    "\n",
    "    color_1 = [0 1 0];\n",
    "    color_2 = [1 0 1];\n",
    "    color_3 = [0 0 1];\n",
    "    \n",
    "    points_A = points.points_A;\n",
    "    points_B = points.points_B;\n",
    "    points_C = points.points_C;\n",
    "    \n",
    "    figure(fid);\n",
    "    % object 3\n",
    "    p2d = project(points_C, f, pos);\n",
    "    color = color_3;\n",
    "    fill(p2d([1,2,4,3],1), p2d([1,2,4,3],2), color);\n",
    "    fill(p2d([3,4,6,5],1), p2d([3,4,6,5],2), color);\n",
    "    \n",
    "    % object 1\n",
    "    p2d = project(points_A, f, pos);\n",
    "    color = color_1;\n",
    "    fill(p2d([1,2,4,3],1), p2d([1,2,4,3],2), color);\n",
    "    fill(p2d([3,4,6,5],1), p2d([3,4,6,5],2), color);\n",
    "\n",
    "    % object 2\n",
    "    p2d = project(points_B, f, pos);\n",
    "    color = color_2;\n",
    "    fill(p2d([1,2,3],1), p2d([1,2,3],2), color);\n",
    "    fill(p2d([2,3,4],1), p2d([2,3,4],2), color);\n",
    "end\n",
    "\n",
    "function [ p2d ] = project( p3d, f, pos )\n",
    "    % use for compute vertex image position from given vertex 3D position and\n",
    "    % camera focal length and camera position\n",
    "\n",
    "    % Input:\n",
    "    % - p3d: n by 3, 3D vertex position in world coordinate system\n",
    "    % - f: double, camera focal length\n",
    "    % - pos : double, camera center position\n",
    "    % Output:\n",
    "    % - p2d: n by 2, each row represents vertex image position, in pixel unit\n",
    "\n",
    "    p2d(:,1) = p3d(:,1)*f./(p3d(:,3) - pos) + 960;\n",
    "    p2d(:,2) = p3d(:,2)*f./(p3d(:,3) - pos) + 540;\n",
    "\n",
    "end\n",
    "\n",
    "points = load('../lab/asset_1/points.mat')\n",
    "d_ref = 4;\n",
    "f_ref = 400;\n",
    "pos = 0 : -0.1 : -9.9;\n",
    "\n",
    "d1_ref = 4;\n",
    "d2_ref = 20;\n",
    "H1 = points.points_A(1,2) - points.points_A(2,2)\n",
    "H2 = points.points_C(1,2) - points.points_C(2,2)\n",
    "ratio = 2;"
   ]
  },
  {
   "cell_type": "code",
   "execution_count": 30,
   "metadata": {},
   "outputs": [
    {
     "name": "stdout",
     "output_type": "stream",
     "text": [
      "Processing frame 001 / 1...\n",
      "\n",
      "Processing frame 001 / 1...\n"
     ]
    },
    {
     "data": {
      "image/png": "[encoded data removed]",
      "text/plain": [
       "<IPython.core.display.Image object>"
      ]
     },
     "metadata": {},
     "output_type": "display_data"
    },
    {
     "data": {
      "image/png": "[encoded data removed]",
      "text/plain": [
       "<IPython.core.display.Image object>"
      ]
     },
     "metadata": {},
     "output_type": "display_data"
    }
   ],
   "source": [
    "%% Dolly Zoom: keep one object's height constant \n",
    "f = compute_focal_length(d_ref, f_ref, pos);\n",
    "for i = 1 : length(f)\n",
    "    if i == 1\n",
    "        fprintf('Processing frame %03d / %d...', i, length(f));\n",
    "    else\n",
    "        fprintf(repmat('\\b',1,12));  \n",
    "        fprintf('%03d / %d...', i, length(f));\n",
    "        clf;\n",
    "    end\n",
    "    \n",
    "    figure(1), hold on, axis equal;\n",
    "    xlim([0,1920]), ylim([0,1080]);\n",
    "    project_objects(f(i), pos(i), points, 1);\n",
    "    pause(0.1);\n",
    "end;\n",
    "fprintf('\\n');\n",
    "\n",
    "%% Dolly Zoom:  keep one object's height constant and adjust another objects height\n",
    "\n",
    "[f, pos] = compute_f_pos(d1_ref, d2_ref, H1, H2, ratio, f_ref);\n",
    "figure(2), hold on, axis equal;\n",
    "xlim([0,1920]), ylim([0,1080]);\n",
    "project_objects(f, pos, points, 2);"
   ]
  },
  {
   "cell_type": "code",
   "execution_count": null,
   "metadata": {
    "collapsed": true
   },
   "outputs": [],
   "source": []
  }
 ],
 "metadata": {
  "kernelspec": {
   "display_name": "Octave",
   "language": "octave",
   "name": "octave"
  },
  "language_info": {
   "file_extension": ".m",
   "help_links": [
    {
     "text": "GNU Octave",
     "url": "https://www.gnu.org/software/octave/support.html"
    },
    {
     "text": "Octave Kernel",
     "url": "https://github.com/Calysto/octave_kernel"
    },
    {
     "text": "MetaKernel Magics",
     "url": "https://github.com/calysto/metakernel/blob/master/metakernel/magics/README.md"
    }
   ],
   "mimetype": "text/x-octave",
   "name": "octave",
   "version": "4.2.1"
  }
 },
 "nbformat": 4,
 "nbformat_minor": 1
}
