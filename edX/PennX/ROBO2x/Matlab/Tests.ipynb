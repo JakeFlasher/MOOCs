{
 "cells": [
  {
   "cell_type": "code",
   "execution_count": 33,
   "metadata": {},
   "outputs": [
    {
     "name": "stdout",
     "output_type": "stream",
     "text": [
      "B =\n",
      "\n",
      "   1.0000   1.5000   3.0000  -4.0000\n",
      "\n",
      "B =\n",
      "\n",
      "    3.1416   28.2743\n",
      "    7.0686   -1.0000\n",
      "\n"
     ]
    }
   ],
   "source": [
    "%For \n",
    "r1 = 2;\n",
    "r2 = [2 5; 0.5 1];\n",
    "r3 = [1 1.5 3 -4];\n",
    "\n",
    "B = r3(:)'\n",
    "for i=1:length(B),\n",
    "    v = B(i);\n",
    "    if v < 0\n",
    "        B(i) = -1;\n",
    "    else\n",
    "        B(i) = pi*v^2;\n",
    "    end\n",
    "end\n",
    "B = reshape(B, size(r2));\n",
    "B\n",
    "%reshape(A,sz)"
   ]
  },
  {
   "cell_type": "code",
   "execution_count": 38,
   "metadata": {},
   "outputs": [],
   "source": [
    "v = find(r2<-1);\n",
    "if v > 1\n",
    "    disp(v)\n",
    "end"
   ]
  },
  {
   "cell_type": "code",
   "execution_count": 26,
   "metadata": {},
   "outputs": [
    {
     "name": "stdout",
     "output_type": "stream",
     "text": [
      "ans =  4\n"
     ]
    }
   ],
   "source": [
    "length(B)"
   ]
  },
  {
   "cell_type": "code",
   "execution_count": 39,
   "metadata": {},
   "outputs": [
    {
     "name": "stdout",
     "output_type": "stream",
     "text": [
      "error: 'syms' undefined near line 1 column 1\n"
     ]
    }
   ],
   "source": [
    "syms x y z"
   ]
  },
  {
   "cell_type": "code",
   "execution_count": null,
   "metadata": {
    "collapsed": true
   },
   "outputs": [],
   "source": []
  }
 ],
 "metadata": {
  "kernelspec": {
   "display_name": "Octave",
   "language": "octave",
   "name": "octave"
  },
  "language_info": {
   "file_extension": ".m",
   "help_links": [
    {
     "text": "GNU Octave",
     "url": "https://www.gnu.org/software/octave/support.html"
    },
    {
     "text": "Octave Kernel",
     "url": "https://github.com/Calysto/octave_kernel"
    },
    {
     "text": "MetaKernel Magics",
     "url": "https://github.com/calysto/metakernel/blob/master/metakernel/magics/README.md"
    }
   ],
   "mimetype": "text/x-octave",
   "name": "octave",
   "version": "3.8.1"
  }
 },
 "nbformat": 4,
 "nbformat_minor": 1
}
