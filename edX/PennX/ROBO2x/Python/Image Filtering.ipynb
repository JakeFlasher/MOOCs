{
 "cells": [
  {
   "cell_type": "code",
   "execution_count": 7,
   "metadata": {},
   "outputs": [],
   "source": [
    "%matplotlib inline\n",
    "\n",
    "import numpy as np\n",
    "from matplotlib import pyplot as plt\n",
    "import cv2"
   ]
  },
  {
   "cell_type": "code",
   "execution_count": 59,
   "metadata": {},
   "outputs": [
    {
     "data": {
      "text/plain": [
       "True"
      ]
     },
     "execution_count": 59,
     "metadata": {},
     "output_type": "execute_result"
    }
   ],
   "source": [
    "img = cv2.imread(\"/home/roger/Desktop/eye.jpg\")\n",
    "\n",
    "lfilter = [[0, 0, 0],\n",
    "           [0.3, 0.3, 0.3],\n",
    "           [0, 0, 0]]\n",
    "lfilter = np.array(lfilter)\n",
    "\n",
    "def add_padding(matrix, kernel, pad):\n",
    "    \"\"\" add padding to the matrix \"\"\"\n",
    "    for p in range(pad):\n",
    "        col_zeros = np.array([0]*matrix.shape[0])\n",
    "        matrix = np.c_[col_zeros, matrix, col_zeros]\n",
    "    for p in range(pad):\n",
    "        row_zeros = np.array([0]*matrix.shape[1])\n",
    "        matrix = np.r_[[row_zeros], matrix, [row_zeros]]\n",
    "    return matrix\n",
    "\n",
    "\n",
    "def register(matrix, r, c, pad):\n",
    "    \"\"\" get the neighbors of a certain matrix \"\"\"\n",
    "    lower_r = r-pad\n",
    "    upper_r = r+pad+1\n",
    "    lower_c = c-pad\n",
    "    upper_c = c+pad+1\n",
    "    return matrix[lower_r:upper_r,lower_c:upper_c]\n",
    "\n",
    "\n",
    "def correlate(matrix, kernel):\n",
    "    \"\"\" apply the filter on the matrix \"\"\"\n",
    "    mult = np.multiply(matrix, kernel)\n",
    "    return np.sum(mult)\n",
    "\n",
    "\n",
    "def convolve(matrix, kernel):\n",
    "    \"\"\" apply convolutional filter on the matrix\"\"\"\n",
    "    kernel = np.flipud(np.fliplr(kernel))\n",
    "    mult = np.multiply(matrix, kernel)\n",
    "    return np.sum(mult)\n",
    "    \n",
    "    \n",
    "def apply_filter(img, kernel):\n",
    "    imgout = np.zeros(img.shape)\n",
    "    pad = (kernel.shape[0]-1)/2\n",
    "    nb_channels = img.shape[2]\n",
    "    for ch in range(nb_channels):\n",
    "        mat = img[:,:,ch]\n",
    "        matpad = add_padding(mat, kernel, pad)\n",
    "        \n",
    "        nr, nc = 0, 0\n",
    "        for (r, c), value in np.ndenumerate(matpad):\n",
    "            if r >= pad and r < matpad.shape[1] - pad \\\n",
    "               and c >= pad and c < matpad.shape[0] - pad:\n",
    "                matreg = register(matpad, r, c, pad)\n",
    "                pixelconv = convolve(matreg, kernel)\n",
    "                imgout[r-pad][c-pad] = pixelconv\n",
    "    return imgout\n",
    "        \n",
    "imgout = apply_filter(img, lfilter)\n",
    "cv2.imwrite('/home/roger/Desktop/imgout.jpg', imgout)"
   ]
  },
  {
   "cell_type": "code",
   "execution_count": 49,
   "metadata": {},
   "outputs": [
    {
     "data": {
      "text/plain": [
       "True"
      ]
     },
     "execution_count": 49,
     "metadata": {},
     "output_type": "execute_result"
    }
   ],
   "source": [
    "resized_image = cv2.resize(img, (64, 64)) \n",
    "cv2.imwrite('/home/roger/Desktop/eye64.jpg', resized_image)"
   ]
  },
  {
   "cell_type": "code",
   "execution_count": null,
   "metadata": {
    "collapsed": true
   },
   "outputs": [],
   "source": []
  }
 ],
 "metadata": {
  "kernelspec": {
   "display_name": "Python 2",
   "language": "python",
   "name": "python2"
  },
  "language_info": {
   "codemirror_mode": {
    "name": "ipython",
    "version": 2
   },
   "file_extension": ".py",
   "mimetype": "text/x-python",
   "name": "python",
   "nbconvert_exporter": "python",
   "pygments_lexer": "ipython2",
   "version": "2.7.12"
  }
 },
 "nbformat": 4,
 "nbformat_minor": 1
}
