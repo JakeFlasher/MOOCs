{
 "metadata": {
  "name": "Depth First Search"
 },
 "nbformat": 3,
 "nbformat_minor": 0,
 "worksheets": [
  {
   "cells": [
    {
     "cell_type": "code",
     "collapsed": false,
     "input": [
      "# Implement the Depth First Search using networkx to generate the Graph\n",
      "\n",
      "import networkx as nx\n",
      "\n",
      "NODES = ['A','B', 'C', 'D', 'E', 'F', 'G', 'H', 'I', 'J']\n",
      "CONNS = [('A', 'B'), ('A', 'C'), ('A', 'D'), ('B', 'E'), ('B', 'F'),\n",
      "         ('C', 'G'), ('C', 'H'), ('G', 'I'), ('G', 'J')]\n",
      "\n",
      "def create_graph(nodes, conns):\n",
      "    #graph = nx.DiGraph()\n",
      "    G = nx.Graph()  \n",
      "    G.add_nodes_from(nodes)\n",
      "    G.add_edges_from(conns)\n",
      "    return G\n",
      "\n",
      "def dfs(G, snode):\n",
      "    \"\"\"\n",
      "    Apply dfs from a starting node ``snode''\n",
      "    \"\"\"\n",
      "    def recurse(G, node, visited):\n",
      "        print node,\n",
      "        children = sorted(G.neighbors(snode))\n",
      "        existent = list(set(children) - set(visited))\n",
      "        if existent:\n",
      "            for child in existent:\n",
      "                visited.append(child)\n",
      "                recurse(G, child, visited)\n",
      "        return\n",
      "                \n",
      "    visited = []\n",
      "    recurse(G, snode, visited)\n",
      "    \n",
      "\n",
      "G = create_graph(NODES, CONNS)\n",
      "print dfs(G, 'A')\n",
      "\n",
      "\n",
      "\n"
     ],
     "language": "python",
     "metadata": {},
     "outputs": [
      {
       "output_type": "stream",
       "stream": "stdout",
       "text": [
        " A C B D D B D None\n"
       ]
      }
     ],
     "prompt_number": 10
    },
    {
     "cell_type": "code",
     "collapsed": false,
     "input": [],
     "language": "python",
     "metadata": {},
     "outputs": []
    }
   ],
   "metadata": {}
  }
 ]
}