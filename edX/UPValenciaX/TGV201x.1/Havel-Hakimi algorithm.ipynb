{
 "metadata": {
  "name": "Havel-Hakimi algorithm"
 },
 "nbformat": 3,
 "nbformat_minor": 0,
 "worksheets": [
  {
   "cells": [
    {
     "cell_type": "code",
     "collapsed": false,
     "input": [
      "# Apply the Havel-Hakimi algorithm on graphs\n",
      "# Havel-Hakimi algorithm verifies whether a \n",
      "# list of degrees can generate a graph. \n",
      "\n",
      "def is_all_one(degrees):\n",
      "    \"\"\" verify whether the list contain only 1s \"\"\"\n",
      "    for k in degrees:\n",
      "        if k != 1:\n",
      "            return False\n",
      "    return True\n",
      "\n",
      "\n",
      "def havel_hakimi(degrees):\n",
      "    \"\"\" \n",
      "    Apply the Havel-Hakimi algorithm on a list of degrees.\n",
      "    degrees = [6,5,5,4,3,3,2,2,2]\n",
      "    out: True in case the list of degrees represent a graph \n",
      "    \"\"\"\n",
      "    assert isinstance(degrees, list), 'ERROR: input is not a list'\n",
      "    assert len(degrees) > 0, 'ERROR: list is empty'\n",
      "    \n",
      "    while True:\n",
      "        if is_all_one(degrees):\n",
      "            print 'Final: ', degrees,\n",
      "            if len(degrees) % 2 == 0:\n",
      "                return True\n",
      "            else:\n",
      "                return False\n",
      "        degrees.sort(reverse=True)\n",
      "        print '>', degrees\n",
      "        index = degrees[0]\n",
      "        if index > len(degrees)-1:\n",
      "            print 'ERROR: degree is greater than the number of nodes'\n",
      "            return False\n",
      "        rest = degrees[1:]\n",
      "        degrees = []\n",
      "        for i in range(index):\n",
      "            value = rest[i] - 1\n",
      "            if value > 0:\n",
      "                degrees.append(value)\n",
      "        degrees.extend(rest[index:])\n",
      "        \n",
      "\n",
      "degrees = [6,5,5,4,3,3,2,2,2]\n",
      "# print True\n",
      "print havel_hakimi(degrees)\n",
      "\n",
      "degrees = [6,5,5,4,3,3,2,2,1]\n",
      "# print False\n",
      "print havel_hakimi(degrees)\n",
      "\n",
      "degrees = [5,4,4,4,3,3,3]\n",
      "# print True\n",
      "print havel_hakimi(degrees)\n",
      "\n",
      "degrees = [1,2,3,4,5,6]\n",
      "# print False\n",
      "print havel_hakimi(degrees)\n",
      "\n",
      "degrees = [1,1,1,2,3,4,5]\n",
      "# print False\n",
      "print havel_hakimi(degrees)"
     ],
     "language": "python",
     "metadata": {},
     "outputs": [
      {
       "output_type": "stream",
       "stream": "stdout",
       "text": [
        "> [6, 5, 5, 4, 3, 3, 2, 2, 2]\n",
        "> [4, 4, 3, 2, 2, 2, 2, 1]\n",
        "> [3, 2, 2, 2, 1, 1, 1]\n",
        "Final:  [1, 1, 1, 1, 1, 1] True\n",
        "> [6, 5, 5, 4, 3, 3, 2, 2, 1]\n",
        "> [4, 4, 3, 2, 2, 2, 1, 1]\n",
        "> [3, 2, 2, 1, 1, 1, 1]\n",
        "Final:  [1, 1, 1, 1, 1] False\n",
        "> [5, 4, 4, 4, 3, 3, 3]\n",
        "> [3, 3, 3, 3, 2, 2]\n",
        "> [2, 2, 2, 2, 2]\n",
        "> [2, 2, 1, 1]\n",
        "Final:  [1, 1] True\n",
        "> [6, 5, 4, 3, 2, 1]\n",
        "ERROR: degree is greater than the number of nodes\n",
        "False\n",
        "> [5, 4, 3, 2, 1, 1, 1]\n",
        "> [3, 2, 1, 1]\n",
        "Final:  [1] False\n"
       ]
      }
     ],
     "prompt_number": 30
    },
    {
     "cell_type": "code",
     "collapsed": false,
     "input": [],
     "language": "python",
     "metadata": {},
     "outputs": [],
     "prompt_number": 11
    },
    {
     "cell_type": "code",
     "collapsed": false,
     "input": [],
     "language": "python",
     "metadata": {},
     "outputs": []
    }
   ],
   "metadata": {}
  }
 ]
}