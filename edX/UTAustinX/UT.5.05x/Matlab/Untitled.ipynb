{
 "cells": [
  {
   "cell_type": "markdown",
   "metadata": {},
   "source": [
    "# Copy a matrix"
   ]
  },
  {
   "cell_type": "code",
   "execution_count": 1,
   "metadata": {
    "collapsed": true
   },
   "outputs": [],
   "source": [
    "function [y_out] = laff_copy(x, y)\n",
    "  [n_rows, n_cols] = size(y);\n",
    "  max_y = max([n_rows, n_cols]);\n",
    "  y_out = zeros(n_rows, n_cols);\n",
    "\n",
    "  if (n_rows > 1 && n_cols > 1 || max(size(x)) ~= max_y)\n",
    "    y_out = 'FAILED';\n",
    "  else\n",
    "    for i = 1:max([n_rows, n_cols])\n",
    "      y_out(i) = x(i);\n",
    "    end\n",
    "  end\n",
    "end"
   ]
  },
  {
   "cell_type": "code",
   "execution_count": 2,
   "metadata": {},
   "outputs": [
    {
     "name": "stdout",
     "output_type": "stream",
     "text": [
      "b =\n",
      "\n",
      "   1   2   3\n",
      "\n"
     ]
    }
   ],
   "source": [
    "a = [1 2 3];\n",
    "b = [0 0 0];\n",
    "b = laff_copy(a, b);\n",
    "b"
   ]
  },
  {
   "cell_type": "markdown",
   "metadata": {},
   "source": [
    "## Answer from edX"
   ]
  },
  {
   "cell_type": "code",
   "execution_count": 3,
   "metadata": {
    "collapsed": true
   },
   "outputs": [],
   "source": [
    "function [ y_out ] = laff_copy( x, y )\n",
    "%UNTITLED3 Summary of this function goes here\n",
    "%   Detailed explanation goes here\n",
    "\n",
    "[ m_x, n_x ] = size( x );\n",
    "[ m_y, n_y ] = size( y );\n",
    "\n",
    "if ~isvector( x ) | ~isvector( y )\n",
    "    disp( 'copy failed' );\n",
    "    y_out = 'FAILED';\n",
    "    return\n",
    "end\n",
    "\n",
    "if ~( m_x * n_x == m_y * n_y )\n",
    "    disp( 'copy failed' );\n",
    "    y_out = 'FAILED';\n",
    "    return\n",
    "end    \n",
    "\n",
    "if n_x == 1 % x is a column\n",
    "    if n_y == 1 % y is a column\n",
    "        for i = 1:m_x\n",
    "            y( i, 1 ) = x( i, 1 );\n",
    "        end\n",
    "    else % y is a row\n",
    "        for i = 1:m_x\n",
    "            y( 1, i ) = x( i, 1 );\n",
    "        end\n",
    "    end\n",
    "else % x is a row\n",
    "     if n_y == 1 % y is a column\n",
    "        for i = 1:n_x\n",
    "            y( i, 1 ) = x( 1, i );\n",
    "        end\n",
    "    else % y is a row\n",
    "        for i = 1:n_x\n",
    "            y( 1, i ) = x( 1, i );\n",
    "        end\n",
    "    end   \n",
    "end\n",
    "\n",
    "y_out = y;\n",
    "\n",
    "return\n",
    "end"
   ]
  },
  {
   "cell_type": "code",
   "execution_count": null,
   "metadata": {
    "collapsed": true
   },
   "outputs": [],
   "source": []
  }
 ],
 "metadata": {
  "kernelspec": {
   "display_name": "Octave",
   "language": "octave",
   "name": "octave"
  },
  "language_info": {
   "file_extension": ".m",
   "help_links": [
    {
     "text": "GNU Octave",
     "url": "https://www.gnu.org/software/octave/support.html"
    },
    {
     "text": "Octave Kernel",
     "url": "https://github.com/Calysto/octave_kernel"
    },
    {
     "text": "MetaKernel Magics",
     "url": "https://github.com/calysto/metakernel/blob/master/metakernel/magics/README.md"
    }
   ],
   "mimetype": "text/x-octave",
   "name": "octave",
   "version": "4.2.1"
  }
 },
 "nbformat": 4,
 "nbformat_minor": 1
}
